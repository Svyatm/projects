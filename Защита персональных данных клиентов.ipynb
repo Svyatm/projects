{
 "cells": [
  {
   "cell_type": "markdown",
   "metadata": {},
   "source": [
    "# Защита персональных данных клиентов"
   ]
  },
  {
   "cell_type": "markdown",
   "metadata": {},
   "source": [
    "Вам нужно защитить данные клиентов страховой компании «Хоть потоп». Разработайте такой метод преобразования данных, чтобы по ним было сложно восстановить персональную информацию. Обоснуйте корректность его работы.\n",
    "\n",
    "Нужно защитить данные, чтобы при преобразовании качество моделей машинного обучения не ухудшилось. Подбирать наилучшую модель не требуется."
   ]
  },
  {
   "cell_type": "markdown",
   "metadata": {},
   "source": [
    "## Загрузка данных"
   ]
  },
  {
   "cell_type": "code",
   "execution_count": 1,
   "metadata": {},
   "outputs": [],
   "source": [
    "#Импортируем библиотеки\n",
    "import pandas as pd\n",
    "import numpy as np\n",
    "from sklearn.model_selection import train_test_split\n",
    "from sklearn.linear_model import LinearRegression\n",
    "from sklearn.metrics import r2_score"
   ]
  },
  {
   "cell_type": "code",
   "execution_count": 2,
   "metadata": {},
   "outputs": [],
   "source": [
    "#Загружаем данные в переменную df\n",
    "df = pd.read_csv('/datasets/insurance.csv')"
   ]
  },
  {
   "cell_type": "code",
   "execution_count": 3,
   "metadata": {},
   "outputs": [
    {
     "name": "stdout",
     "output_type": "stream",
     "text": [
      "<class 'pandas.core.frame.DataFrame'>\n",
      "RangeIndex: 5000 entries, 0 to 4999\n",
      "Data columns (total 5 columns):\n",
      " #   Column             Non-Null Count  Dtype  \n",
      "---  ------             --------------  -----  \n",
      " 0   Пол                5000 non-null   int64  \n",
      " 1   Возраст            5000 non-null   float64\n",
      " 2   Зарплата           5000 non-null   float64\n",
      " 3   Члены семьи        5000 non-null   int64  \n",
      " 4   Страховые выплаты  5000 non-null   int64  \n",
      "dtypes: float64(2), int64(3)\n",
      "memory usage: 195.4 KB\n"
     ]
    },
    {
     "data": {
      "text/html": [
       "<div>\n",
       "<style scoped>\n",
       "    .dataframe tbody tr th:only-of-type {\n",
       "        vertical-align: middle;\n",
       "    }\n",
       "\n",
       "    .dataframe tbody tr th {\n",
       "        vertical-align: top;\n",
       "    }\n",
       "\n",
       "    .dataframe thead th {\n",
       "        text-align: right;\n",
       "    }\n",
       "</style>\n",
       "<table border=\"1\" class=\"dataframe\">\n",
       "  <thead>\n",
       "    <tr style=\"text-align: right;\">\n",
       "      <th></th>\n",
       "      <th>Пол</th>\n",
       "      <th>Возраст</th>\n",
       "      <th>Зарплата</th>\n",
       "      <th>Члены семьи</th>\n",
       "      <th>Страховые выплаты</th>\n",
       "    </tr>\n",
       "  </thead>\n",
       "  <tbody>\n",
       "    <tr>\n",
       "      <th>0</th>\n",
       "      <td>1</td>\n",
       "      <td>41.0</td>\n",
       "      <td>49600.0</td>\n",
       "      <td>1</td>\n",
       "      <td>0</td>\n",
       "    </tr>\n",
       "    <tr>\n",
       "      <th>1</th>\n",
       "      <td>0</td>\n",
       "      <td>46.0</td>\n",
       "      <td>38000.0</td>\n",
       "      <td>1</td>\n",
       "      <td>1</td>\n",
       "    </tr>\n",
       "    <tr>\n",
       "      <th>2</th>\n",
       "      <td>0</td>\n",
       "      <td>29.0</td>\n",
       "      <td>21000.0</td>\n",
       "      <td>0</td>\n",
       "      <td>0</td>\n",
       "    </tr>\n",
       "    <tr>\n",
       "      <th>3</th>\n",
       "      <td>0</td>\n",
       "      <td>21.0</td>\n",
       "      <td>41700.0</td>\n",
       "      <td>2</td>\n",
       "      <td>0</td>\n",
       "    </tr>\n",
       "    <tr>\n",
       "      <th>4</th>\n",
       "      <td>1</td>\n",
       "      <td>28.0</td>\n",
       "      <td>26100.0</td>\n",
       "      <td>0</td>\n",
       "      <td>0</td>\n",
       "    </tr>\n",
       "  </tbody>\n",
       "</table>\n",
       "</div>"
      ],
      "text/plain": [
       "   Пол  Возраст  Зарплата  Члены семьи  Страховые выплаты\n",
       "0    1     41.0   49600.0            1                  0\n",
       "1    0     46.0   38000.0            1                  1\n",
       "2    0     29.0   21000.0            0                  0\n",
       "3    0     21.0   41700.0            2                  0\n",
       "4    1     28.0   26100.0            0                  0"
      ]
     },
     "execution_count": 3,
     "metadata": {},
     "output_type": "execute_result"
    }
   ],
   "source": [
    "#Знакомимся с общей информацией о структуре данных\n",
    "df.info()\n",
    "\n",
    "df.head()"
   ]
  },
  {
   "cell_type": "code",
   "execution_count": 4,
   "metadata": {},
   "outputs": [
    {
     "data": {
      "text/plain": [
       "153"
      ]
     },
     "execution_count": 4,
     "metadata": {},
     "output_type": "execute_result"
    }
   ],
   "source": [
    "#Проверим явные дубликаты\n",
    "df.duplicated().sum()"
   ]
  },
  {
   "cell_type": "code",
   "execution_count": 5,
   "metadata": {},
   "outputs": [
    {
     "data": {
      "text/plain": [
       "0"
      ]
     },
     "execution_count": 5,
     "metadata": {},
     "output_type": "execute_result"
    }
   ],
   "source": [
    "#Удалим дубликаты\n",
    "df = df.drop_duplicates()\n",
    "\n",
    "#Проверяем\n",
    "df.duplicated().sum()"
   ]
  },
  {
   "cell_type": "code",
   "execution_count": 6,
   "metadata": {},
   "outputs": [],
   "source": [
    "#Приведем значения столбцов Возраст и Зарплата к целым числам\n",
    "df['Возраст'] = df['Возраст'].astype('int')\n",
    "df['Зарплата'] = df['Зарплата'].astype('int')"
   ]
  },
  {
   "cell_type": "markdown",
   "metadata": {},
   "source": [
    "С загрузкой и подготовкой данных закончили, переходим к следующему шагу."
   ]
  },
  {
   "cell_type": "markdown",
   "metadata": {},
   "source": [
    "## Умножение матриц"
   ]
  },
  {
   "cell_type": "markdown",
   "metadata": {},
   "source": [
    "В этом задании вы можете записывать формулы в *Jupyter Notebook.*\n",
    "\n",
    "Чтобы записать формулу внутри текста, окружите её символами доллара \\\\$; если снаружи —  двойными символами \\\\$\\\\$. Эти формулы записываются на языке вёрстки *LaTeX.* \n",
    "\n",
    "Для примера мы записали формулы линейной регрессии. Можете их скопировать и отредактировать, чтобы решить задачу.\n",
    "\n",
    "Работать в *LaTeX* необязательно."
   ]
  },
  {
   "cell_type": "markdown",
   "metadata": {},
   "source": [
    "Обозначения:\n",
    "\n",
    "- $X$ — матрица признаков (нулевой столбец состоит из единиц)\n",
    "\n",
    "- $y$ — вектор целевого признака\n",
    "\n",
    "- $P$ — матрица, на которую умножаются признаки\n",
    "\n",
    "- $w$ — вектор весов линейной регрессии (нулевой элемент равен сдвигу)"
   ]
  },
  {
   "cell_type": "markdown",
   "metadata": {},
   "source": [
    "Предсказания:\n",
    "\n",
    "$$\n",
    "a = Xw\n",
    "$$\n",
    "\n",
    "Задача обучения:\n",
    "\n",
    "$$\n",
    "w = \\arg\\min_w MSE(Xw, y)\n",
    "$$\n",
    "\n",
    "Формула обучения:\n",
    "\n",
    "$$\n",
    "w = (X^T X)^{-1} X^T y\n",
    "$$"
   ]
  },
  {
   "cell_type": "markdown",
   "metadata": {},
   "source": [
    "**Признаки умножают на обратимую матрицу. Изменится ли качество линейной регрессии?**\n",
    "\n",
    "**Ответ:** Не изменится.\n",
    "\n",
    "**Обоснование:** Представим новую матрицу **Y** в качестве произведения исходной матрицы **X** и обратимой матрицы **P**\n",
    "$$\n",
    "Y = XP\n",
    "$$\n",
    "\n",
    "Подставим значение **Y** в изначальную формулу обучения\n",
    "$$\n",
    "w' = ((XP)^T XP)^{-1} (XP)^T y\n",
    "$$\n",
    "\n",
    "Получаем следующее выражение:\n",
    "$$\n",
    "w' = (P^T(X^TX)P)^{-1}X^TP^Ty = (P^T)^{-1}(X^TX)^{-1}P^{-1}X^TP^Ty = P^{-1}(X^TX)^{-1}X^Ty\n",
    "$$\n",
    "\n",
    "Мы видим, что часть полученного выражения совпадает с формулой обучения, поэтому можем записать полученное выражение так:\n",
    "$$\n",
    "w' = P^{-1}(X^TX)^{-1}X^Ty = P^{-1}w\n",
    "$$\n",
    "\n",
    "Теперь подставим полученное выражение в формулу предсказания:\n",
    "$$\n",
    "a' = Yw' = XPP^{-1}w = Xw\n",
    "$$\n",
    "\n",
    "Таким образом, **a' = a**, что говорит о неизменности предсказаний, это и требовалось доказать."
   ]
  },
  {
   "cell_type": "markdown",
   "metadata": {},
   "source": [
    "## Алгоритм преобразования"
   ]
  },
  {
   "cell_type": "markdown",
   "metadata": {},
   "source": [
    "**Алгоритм**\n",
    "\n",
    "1. Генерируем случайную матрицу\n",
    "2. Проверяем ее на обратимость (если обратима - идем дальше, если нет - генерируем другую матрицу)\n",
    "3. Умножаем матрицу признаков на сгенерированную матрицу и получаем итоговую матрицу с зашифрованными данными клиентов"
   ]
  },
  {
   "cell_type": "markdown",
   "metadata": {},
   "source": [
    "**Обоснование**\n",
    "\n",
    "Алгоритм даст возможность зашифровать данные клиента без какого-либо влияния на качество работы модели."
   ]
  },
  {
   "cell_type": "markdown",
   "metadata": {},
   "source": [
    "## Проверка алгоритма"
   ]
  },
  {
   "cell_type": "code",
   "execution_count": 7,
   "metadata": {},
   "outputs": [],
   "source": [
    "#Задаем переменные для признаков и целевого показателя\n",
    "features = df.drop(['Страховые выплаты'], axis = 1)\n",
    "target = df['Страховые выплаты']"
   ]
  },
  {
   "cell_type": "code",
   "execution_count": 8,
   "metadata": {},
   "outputs": [
    {
     "name": "stdout",
     "output_type": "stream",
     "text": [
      "(3635, 4)\n",
      "(1212, 4)\n",
      "(3635,)\n",
      "(1212,)\n"
     ]
    }
   ],
   "source": [
    "#Разделим выборку на обучающую и тестовую\n",
    "train_features, test_features, train_target, test_target = train_test_split(\n",
    "    features, target, test_size=0.25, random_state=12345)\n",
    "\n",
    "#Проверяем\n",
    "print(train_features.shape)\n",
    "print(test_features.shape)\n",
    "print(train_target.shape)\n",
    "print(test_target.shape)"
   ]
  },
  {
   "cell_type": "code",
   "execution_count": 9,
   "metadata": {},
   "outputs": [
    {
     "name": "stdout",
     "output_type": "stream",
     "text": [
      "Значение метрики R2 при линейной регрессии без преобразования признаков:0.423\n"
     ]
    }
   ],
   "source": [
    "#Строим модель линейной регрессии\n",
    "model = LinearRegression()\n",
    "\n",
    "model.fit(train_features, train_target)\n",
    "predictions = model.predict(test_features)\n",
    "\n",
    "r2 = r2_score(test_target, predictions)\n",
    "\n",
    "print(f'Значение метрики R2 при линейной регрессии без преобразования признаков:{r2:.3}')"
   ]
  },
  {
   "cell_type": "markdown",
   "metadata": {},
   "source": [
    "Теперь проверим значение линейной регрессии для преобразованных данных. Для этого пройдемся по нашему алгоритму, после чего измерим метрику R2."
   ]
  },
  {
   "cell_type": "code",
   "execution_count": 10,
   "metadata": {},
   "outputs": [],
   "source": [
    "#Генерируем случайную матрицу и проверяем на обратимость\n",
    "shape = train_features.shape[1]\n",
    "random_matrix = np.random.rand(shape, shape)\n",
    "\n",
    "det = np.linalg.det(random_matrix)\n",
    "while det == 0:\n",
    "    random_matrix = np.random.rand(shape, shape)\n",
    "    det = np.linalg.det(random_matrix)\n",
    "    \n",
    "inverse_matrix = np.linalg.inv(random_matrix)"
   ]
  },
  {
   "cell_type": "code",
   "execution_count": 11,
   "metadata": {},
   "outputs": [],
   "source": [
    "#Преобразуем признаки\n",
    "train_features_transformed = np.dot(train_features, inverse_matrix)\n",
    "test_features_transformed = np.dot(test_features, inverse_matrix)"
   ]
  },
  {
   "cell_type": "code",
   "execution_count": 12,
   "metadata": {},
   "outputs": [
    {
     "name": "stdout",
     "output_type": "stream",
     "text": [
      "Значение метрики R2 при линейной регрессии с преобразованием признаков:0.423\n"
     ]
    }
   ],
   "source": [
    "#Строим модель линейной регрессии с преобразованными признаками\n",
    "model.fit(train_features_transformed, train_target)\n",
    "predictions_transformed = model.predict(test_features_transformed)\n",
    "\n",
    "r2_transformed = r2_score(test_target, predictions_transformed)\n",
    "\n",
    "print(f'Значение метрики R2 при линейной регрессии с преобразованием признаков:{r2_transformed:.3}')"
   ]
  },
  {
   "cell_type": "code",
   "execution_count": 13,
   "metadata": {},
   "outputs": [
    {
     "data": {
      "text/plain": [
       "1.0340617251358708e-12"
      ]
     },
     "execution_count": 13,
     "metadata": {},
     "output_type": "execute_result"
    }
   ],
   "source": [
    "#Сравним значения R2 с преобразованием признаков и без\n",
    "\n",
    "r2 - r2_transformed"
   ]
  },
  {
   "cell_type": "markdown",
   "metadata": {},
   "source": [
    "Как видим, разница между полученными значениями метрик R2 ничтожно мала, а значит можно считать, что они равны."
   ]
  },
  {
   "cell_type": "markdown",
   "metadata": {},
   "source": [
    "### Итоги:\n",
    "1. Мы загрузили и подготовили данные для работы\n",
    "2. Доказали, что качество линейной регрессии не меняется при умножении признаком на обратимую матрицу\n",
    "3. Описали алгоритм преобразования\n",
    "4. Применили алгоритм преобразования на практике и увидели, что значения метрики R2 с преобразованием и без преобразования идентичны.\n",
    "\n",
    "Таким образом, мы смогли защитить данные клиентов, не повлияв на качество модели."
   ]
  }
 ],
 "metadata": {
  "ExecuteTimeLog": [
   {
    "duration": 1164,
    "start_time": "2023-05-12T09:59:22.670Z"
   },
   {
    "duration": 87,
    "start_time": "2023-05-12T09:59:44.711Z"
   },
   {
    "duration": 25,
    "start_time": "2023-05-12T09:59:57.767Z"
   },
   {
    "duration": 15,
    "start_time": "2023-05-12T10:00:00.622Z"
   },
   {
    "duration": 3,
    "start_time": "2023-05-12T10:00:05.958Z"
   },
   {
    "duration": 112,
    "start_time": "2023-05-12T10:03:56.779Z"
   },
   {
    "duration": 21,
    "start_time": "2023-05-12T10:04:00.857Z"
   },
   {
    "duration": 21,
    "start_time": "2023-05-12T10:04:12.416Z"
   },
   {
    "duration": 11,
    "start_time": "2023-05-12T10:05:33.309Z"
   },
   {
    "duration": 8,
    "start_time": "2023-05-12T10:05:46.064Z"
   },
   {
    "duration": 12,
    "start_time": "2023-05-12T10:05:56.574Z"
   },
   {
    "duration": 9,
    "start_time": "2023-05-12T10:06:01.196Z"
   },
   {
    "duration": 8,
    "start_time": "2023-05-12T10:06:18.893Z"
   },
   {
    "duration": 4,
    "start_time": "2023-05-12T10:06:27.641Z"
   },
   {
    "duration": 7,
    "start_time": "2023-05-12T10:06:30.882Z"
   },
   {
    "duration": 16,
    "start_time": "2023-05-12T10:06:38.967Z"
   },
   {
    "duration": 12,
    "start_time": "2023-05-12T10:06:42.392Z"
   },
   {
    "duration": 7,
    "start_time": "2023-05-12T10:06:50.298Z"
   },
   {
    "duration": 31,
    "start_time": "2023-05-12T10:08:13.080Z"
   },
   {
    "duration": 16,
    "start_time": "2023-05-12T10:09:43.880Z"
   },
   {
    "duration": 22,
    "start_time": "2023-05-12T10:11:59.426Z"
   },
   {
    "duration": 16,
    "start_time": "2023-05-12T10:12:22.116Z"
   },
   {
    "duration": 10,
    "start_time": "2023-05-12T10:12:27.208Z"
   },
   {
    "duration": 28,
    "start_time": "2023-05-12T10:24:28.003Z"
   },
   {
    "duration": 31,
    "start_time": "2023-05-12T10:24:34.290Z"
   },
   {
    "duration": 32,
    "start_time": "2023-05-12T10:24:45.369Z"
   },
   {
    "duration": 4,
    "start_time": "2023-05-12T10:24:59.143Z"
   },
   {
    "duration": 5,
    "start_time": "2023-05-12T10:34:07.064Z"
   },
   {
    "duration": 28,
    "start_time": "2023-05-12T10:34:09.663Z"
   },
   {
    "duration": 5,
    "start_time": "2023-05-12T10:34:38.436Z"
   },
   {
    "duration": 23,
    "start_time": "2023-05-12T10:34:39.904Z"
   },
   {
    "duration": 6,
    "start_time": "2023-05-12T11:49:56.917Z"
   },
   {
    "duration": 7,
    "start_time": "2023-05-12T11:51:06.524Z"
   },
   {
    "duration": 6,
    "start_time": "2023-05-12T11:51:09.159Z"
   },
   {
    "duration": 1239,
    "start_time": "2023-05-12T11:51:37.324Z"
   },
   {
    "duration": 39,
    "start_time": "2023-05-12T11:51:38.565Z"
   },
   {
    "duration": 31,
    "start_time": "2023-05-12T11:51:38.608Z"
   },
   {
    "duration": 10,
    "start_time": "2023-05-12T11:51:38.641Z"
   },
   {
    "duration": 13,
    "start_time": "2023-05-12T11:51:38.654Z"
   },
   {
    "duration": 9,
    "start_time": "2023-05-12T11:51:38.669Z"
   },
   {
    "duration": 14,
    "start_time": "2023-05-12T11:51:38.683Z"
   },
   {
    "duration": 12,
    "start_time": "2023-05-12T11:51:53.061Z"
   },
   {
    "duration": 4,
    "start_time": "2023-05-12T13:02:29.584Z"
   },
   {
    "duration": 4,
    "start_time": "2023-05-12T13:22:17.085Z"
   },
   {
    "duration": 8,
    "start_time": "2023-05-12T13:25:18.901Z"
   },
   {
    "duration": 10,
    "start_time": "2023-05-12T13:25:37.739Z"
   },
   {
    "duration": 8,
    "start_time": "2023-05-12T13:25:49.888Z"
   },
   {
    "duration": 9,
    "start_time": "2023-05-12T13:26:09.005Z"
   },
   {
    "duration": 6,
    "start_time": "2023-05-12T13:26:38.403Z"
   },
   {
    "duration": 9,
    "start_time": "2023-05-12T13:26:48.388Z"
   },
   {
    "duration": 16,
    "start_time": "2023-05-12T13:30:18.554Z"
   },
   {
    "duration": 77,
    "start_time": "2023-05-12T13:31:16.594Z"
   },
   {
    "duration": 13,
    "start_time": "2023-05-12T13:31:19.704Z"
   },
   {
    "duration": 13,
    "start_time": "2023-05-12T13:31:24.807Z"
   },
   {
    "duration": 9,
    "start_time": "2023-05-12T13:31:27.989Z"
   },
   {
    "duration": 6,
    "start_time": "2023-05-12T13:43:15.487Z"
   },
   {
    "duration": 4,
    "start_time": "2023-05-12T13:43:33.040Z"
   },
   {
    "duration": 5,
    "start_time": "2023-05-12T13:43:36.532Z"
   },
   {
    "duration": 84,
    "start_time": "2023-05-12T13:44:35.497Z"
   },
   {
    "duration": 71,
    "start_time": "2023-05-12T13:44:40.732Z"
   },
   {
    "duration": 7,
    "start_time": "2023-05-12T13:44:47.609Z"
   },
   {
    "duration": 7,
    "start_time": "2023-05-12T13:44:55.486Z"
   },
   {
    "duration": 20,
    "start_time": "2023-05-12T13:45:23.537Z"
   },
   {
    "duration": 12,
    "start_time": "2023-05-12T13:45:32.953Z"
   },
   {
    "duration": 135,
    "start_time": "2023-05-12T13:51:13.673Z"
   },
   {
    "duration": 10,
    "start_time": "2023-05-12T14:05:30.701Z"
   },
   {
    "duration": 8,
    "start_time": "2023-05-12T14:05:59.209Z"
   },
   {
    "duration": 1645,
    "start_time": "2023-05-12T14:10:19.558Z"
   },
   {
    "duration": 31,
    "start_time": "2023-05-12T14:10:21.208Z"
   },
   {
    "duration": 33,
    "start_time": "2023-05-12T14:10:21.241Z"
   },
   {
    "duration": 23,
    "start_time": "2023-05-12T14:10:21.286Z"
   },
   {
    "duration": 11,
    "start_time": "2023-05-12T14:10:21.312Z"
   },
   {
    "duration": 6,
    "start_time": "2023-05-12T14:10:21.325Z"
   },
   {
    "duration": 6,
    "start_time": "2023-05-12T14:10:21.333Z"
   },
   {
    "duration": 8,
    "start_time": "2023-05-12T14:10:21.342Z"
   },
   {
    "duration": 15,
    "start_time": "2023-05-12T14:10:21.352Z"
   },
   {
    "duration": 26,
    "start_time": "2023-05-12T14:10:21.382Z"
   },
   {
    "duration": 12,
    "start_time": "2023-05-12T14:10:21.410Z"
   },
   {
    "duration": 239,
    "start_time": "2023-05-12T14:10:21.477Z"
   },
   {
    "duration": 7,
    "start_time": "2023-05-12T14:10:44.548Z"
   },
   {
    "duration": 4,
    "start_time": "2023-05-12T14:11:03.719Z"
   },
   {
    "duration": 5,
    "start_time": "2023-05-12T14:11:11.802Z"
   },
   {
    "duration": 12,
    "start_time": "2023-05-12T14:11:22.713Z"
   },
   {
    "duration": 8,
    "start_time": "2023-05-12T14:11:28.028Z"
   },
   {
    "duration": 4,
    "start_time": "2023-05-12T14:11:42.143Z"
   },
   {
    "duration": 1231,
    "start_time": "2023-05-12T14:12:17.418Z"
   },
   {
    "duration": 43,
    "start_time": "2023-05-12T14:12:18.651Z"
   },
   {
    "duration": 37,
    "start_time": "2023-05-12T14:12:18.696Z"
   },
   {
    "duration": 6,
    "start_time": "2023-05-12T14:12:18.735Z"
   },
   {
    "duration": 8,
    "start_time": "2023-05-12T14:12:18.743Z"
   },
   {
    "duration": 5,
    "start_time": "2023-05-12T14:12:18.753Z"
   },
   {
    "duration": 7,
    "start_time": "2023-05-12T14:12:18.760Z"
   },
   {
    "duration": 19,
    "start_time": "2023-05-12T14:12:18.788Z"
   },
   {
    "duration": 13,
    "start_time": "2023-05-12T14:12:18.808Z"
   },
   {
    "duration": 7,
    "start_time": "2023-05-12T14:12:18.824Z"
   },
   {
    "duration": 52,
    "start_time": "2023-05-12T14:12:18.833Z"
   },
   {
    "duration": 21,
    "start_time": "2023-05-12T14:12:18.887Z"
   },
   {
    "duration": 8,
    "start_time": "2023-05-12T14:12:18.912Z"
   },
   {
    "duration": 4,
    "start_time": "2023-05-12T14:12:59.537Z"
   },
   {
    "duration": 1090,
    "start_time": "2023-05-12T14:19:41.135Z"
   },
   {
    "duration": 25,
    "start_time": "2023-05-12T14:19:42.227Z"
   },
   {
    "duration": 39,
    "start_time": "2023-05-12T14:19:42.254Z"
   },
   {
    "duration": 6,
    "start_time": "2023-05-12T14:19:42.295Z"
   },
   {
    "duration": 38,
    "start_time": "2023-05-12T14:19:42.304Z"
   },
   {
    "duration": 24,
    "start_time": "2023-05-12T14:19:42.344Z"
   },
   {
    "duration": 27,
    "start_time": "2023-05-12T14:19:42.370Z"
   },
   {
    "duration": 8,
    "start_time": "2023-05-12T14:19:42.399Z"
   },
   {
    "duration": 13,
    "start_time": "2023-05-12T14:19:42.409Z"
   },
   {
    "duration": 6,
    "start_time": "2023-05-12T14:19:42.423Z"
   },
   {
    "duration": 47,
    "start_time": "2023-05-12T14:19:42.431Z"
   },
   {
    "duration": 26,
    "start_time": "2023-05-12T14:19:42.480Z"
   },
   {
    "duration": 84,
    "start_time": "2023-05-12T14:19:42.508Z"
   },
   {
    "duration": 8,
    "start_time": "2023-05-12T14:19:57.021Z"
   },
   {
    "duration": 4,
    "start_time": "2023-05-12T14:19:59.112Z"
   },
   {
    "duration": 7,
    "start_time": "2023-05-12T14:20:11.408Z"
   },
   {
    "duration": 10,
    "start_time": "2023-05-12T14:20:19.385Z"
   },
   {
    "duration": 1218,
    "start_time": "2023-05-12T14:20:35.643Z"
   },
   {
    "duration": 33,
    "start_time": "2023-05-12T14:20:36.863Z"
   },
   {
    "duration": 29,
    "start_time": "2023-05-12T14:20:36.898Z"
   },
   {
    "duration": 8,
    "start_time": "2023-05-12T14:20:36.929Z"
   },
   {
    "duration": 12,
    "start_time": "2023-05-12T14:20:36.940Z"
   },
   {
    "duration": 24,
    "start_time": "2023-05-12T14:20:36.954Z"
   },
   {
    "duration": 9,
    "start_time": "2023-05-12T14:20:36.986Z"
   },
   {
    "duration": 9,
    "start_time": "2023-05-12T14:20:36.997Z"
   },
   {
    "duration": 11,
    "start_time": "2023-05-12T14:20:37.008Z"
   },
   {
    "duration": 8,
    "start_time": "2023-05-12T14:20:37.020Z"
   },
   {
    "duration": 75,
    "start_time": "2023-05-12T14:20:37.031Z"
   },
   {
    "duration": 92,
    "start_time": "2023-05-12T14:20:37.109Z"
   },
   {
    "duration": 15,
    "start_time": "2023-05-12T14:20:37.204Z"
   },
   {
    "duration": 4765,
    "start_time": "2023-05-13T05:32:34.229Z"
   },
   {
    "duration": 60,
    "start_time": "2023-05-13T05:32:39.002Z"
   },
   {
    "duration": 133,
    "start_time": "2023-05-13T05:32:39.068Z"
   },
   {
    "duration": 86,
    "start_time": "2023-05-13T05:32:39.208Z"
   },
   {
    "duration": 137,
    "start_time": "2023-05-13T05:32:39.301Z"
   },
   {
    "duration": 132,
    "start_time": "2023-05-13T05:32:39.442Z"
   },
   {
    "duration": 145,
    "start_time": "2023-05-13T05:32:39.580Z"
   },
   {
    "duration": 136,
    "start_time": "2023-05-13T05:32:39.739Z"
   },
   {
    "duration": 121,
    "start_time": "2023-05-13T05:32:39.885Z"
   },
   {
    "duration": 172,
    "start_time": "2023-05-13T05:32:40.014Z"
   },
   {
    "duration": 122,
    "start_time": "2023-05-13T05:32:40.200Z"
   },
   {
    "duration": 118,
    "start_time": "2023-05-13T05:32:40.348Z"
   },
   {
    "duration": 115,
    "start_time": "2023-05-13T05:32:40.475Z"
   }
  ],
  "kernelspec": {
   "display_name": "Python 3 (ipykernel)",
   "language": "python",
   "name": "python3"
  },
  "language_info": {
   "codemirror_mode": {
    "name": "ipython",
    "version": 3
   },
   "file_extension": ".py",
   "mimetype": "text/x-python",
   "name": "python",
   "nbconvert_exporter": "python",
   "pygments_lexer": "ipython3",
   "version": "3.9.5"
  },
  "toc": {
   "base_numbering": 1,
   "nav_menu": {},
   "number_sections": true,
   "sideBar": true,
   "skip_h1_title": true,
   "title_cell": "Содержание",
   "title_sidebar": "Contents",
   "toc_cell": true,
   "toc_position": {},
   "toc_section_display": true,
   "toc_window_display": true
  }
 },
 "nbformat": 4,
 "nbformat_minor": 2
}
