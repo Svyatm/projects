{
 "cells": [
  {
   "cell_type": "markdown",
   "metadata": {},
   "source": [
    "#  Прогнозирование заказов такси"
   ]
  },
  {
   "cell_type": "markdown",
   "metadata": {},
   "source": [
    "Компания «Чётенькое такси» собрала исторические данные о заказах такси в аэропортах. Чтобы привлекать больше водителей в период пиковой нагрузки, нужно спрогнозировать количество заказов такси на следующий час. Постройте модель для такого предсказания.\n",
    "\n",
    "Значение метрики *RMSE* на тестовой выборке должно быть не больше 48.\n",
    "\n",
    "Вам нужно:\n",
    "\n",
    "1. Загрузить данные и выполнить их ресемплирование по одному часу.\n",
    "2. Проанализировать данные.\n",
    "3. Обучить разные модели с различными гиперпараметрами. Сделать тестовую выборку размером 10% от исходных данных.\n",
    "4. Проверить данные на тестовой выборке и сделать выводы.\n",
    "\n",
    "\n",
    "Данные лежат в файле `taxi.csv`. Количество заказов находится в столбце `num_orders` (от англ. *number of orders*, «число заказов»)."
   ]
  },
  {
   "cell_type": "markdown",
   "metadata": {},
   "source": [
    "## Подготовка"
   ]
  },
  {
   "cell_type": "code",
   "execution_count": 1,
   "metadata": {},
   "outputs": [],
   "source": [
    "#Импортируем библиотеки\n",
    "import pandas as pd\n",
    "import lightgbm as lgb\n",
    "import matplotlib.pyplot as plt\n",
    "from catboost import CatBoostRegressor\n",
    "from statsmodels.tsa.seasonal import seasonal_decompose\n",
    "from statsmodels.tsa.stattools import adfuller\n",
    "from sklearn.preprocessing import StandardScaler\n",
    "from sklearn.metrics import mean_squared_error as mse\n",
    "from sklearn.linear_model import LinearRegression, Lasso\n",
    "from sklearn.model_selection import RandomizedSearchCV, cross_val_score, TimeSeriesSplit, train_test_split"
   ]
  },
  {
   "cell_type": "code",
   "execution_count": 2,
   "metadata": {},
   "outputs": [],
   "source": [
    "#Загружаем данные в переменную, переводим 1й столбец в формат datetime\n",
    "df = pd.read_csv('/datasets/taxi.csv', index_col=[0], parse_dates=[0])"
   ]
  },
  {
   "cell_type": "code",
   "execution_count": 3,
   "metadata": {},
   "outputs": [
    {
     "name": "stdout",
     "output_type": "stream",
     "text": [
      "<class 'pandas.core.frame.DataFrame'>\n",
      "DatetimeIndex: 26496 entries, 2018-03-01 00:00:00 to 2018-08-31 23:50:00\n",
      "Data columns (total 1 columns):\n",
      " #   Column      Non-Null Count  Dtype\n",
      "---  ------      --------------  -----\n",
      " 0   num_orders  26496 non-null  int64\n",
      "dtypes: int64(1)\n",
      "memory usage: 414.0 KB\n"
     ]
    },
    {
     "data": {
      "text/html": [
       "<div>\n",
       "<style scoped>\n",
       "    .dataframe tbody tr th:only-of-type {\n",
       "        vertical-align: middle;\n",
       "    }\n",
       "\n",
       "    .dataframe tbody tr th {\n",
       "        vertical-align: top;\n",
       "    }\n",
       "\n",
       "    .dataframe thead th {\n",
       "        text-align: right;\n",
       "    }\n",
       "</style>\n",
       "<table border=\"1\" class=\"dataframe\">\n",
       "  <thead>\n",
       "    <tr style=\"text-align: right;\">\n",
       "      <th></th>\n",
       "      <th>num_orders</th>\n",
       "    </tr>\n",
       "    <tr>\n",
       "      <th>datetime</th>\n",
       "      <th></th>\n",
       "    </tr>\n",
       "  </thead>\n",
       "  <tbody>\n",
       "    <tr>\n",
       "      <th>2018-03-01 00:00:00</th>\n",
       "      <td>9</td>\n",
       "    </tr>\n",
       "    <tr>\n",
       "      <th>2018-03-01 00:10:00</th>\n",
       "      <td>14</td>\n",
       "    </tr>\n",
       "    <tr>\n",
       "      <th>2018-03-01 00:20:00</th>\n",
       "      <td>28</td>\n",
       "    </tr>\n",
       "    <tr>\n",
       "      <th>2018-03-01 00:30:00</th>\n",
       "      <td>20</td>\n",
       "    </tr>\n",
       "    <tr>\n",
       "      <th>2018-03-01 00:40:00</th>\n",
       "      <td>32</td>\n",
       "    </tr>\n",
       "  </tbody>\n",
       "</table>\n",
       "</div>"
      ],
      "text/plain": [
       "                     num_orders\n",
       "datetime                       \n",
       "2018-03-01 00:00:00           9\n",
       "2018-03-01 00:10:00          14\n",
       "2018-03-01 00:20:00          28\n",
       "2018-03-01 00:30:00          20\n",
       "2018-03-01 00:40:00          32"
      ]
     },
     "execution_count": 3,
     "metadata": {},
     "output_type": "execute_result"
    }
   ],
   "source": [
    "#Познакомимся с данными\n",
    "df.info()\n",
    "\n",
    "df.head()"
   ]
  },
  {
   "cell_type": "code",
   "execution_count": 4,
   "metadata": {},
   "outputs": [],
   "source": [
    "#Сортируем индексы\n",
    "df.sort_index(inplace=True)"
   ]
  },
  {
   "cell_type": "code",
   "execution_count": 5,
   "metadata": {},
   "outputs": [],
   "source": [
    "#Делаем ресемплинг по часу\n",
    "df = df.resample('1H').sum()"
   ]
  },
  {
   "cell_type": "markdown",
   "metadata": {},
   "source": [
    "## Анализ"
   ]
  },
  {
   "cell_type": "markdown",
   "metadata": {},
   "source": [
    "Посмотрим, что из себя представляет временной промежуток."
   ]
  },
  {
   "cell_type": "code",
   "execution_count": 6,
   "metadata": {},
   "outputs": [
    {
     "name": "stdout",
     "output_type": "stream",
     "text": [
      "Временной промежуток данных: 2018-03-01 00:00:00 - 2018-08-31 23:00:00\n"
     ]
    }
   ],
   "source": [
    "print(f'Временной промежуток данных: {df.index.min()} - {df.index.max()}')"
   ]
  },
  {
   "cell_type": "markdown",
   "metadata": {},
   "source": [
    "Декомпозируем временной ряд на три части: сезонность, тренд и остатки."
   ]
  },
  {
   "cell_type": "code",
   "execution_count": 7,
   "metadata": {},
   "outputs": [
    {
     "data": {
      "image/png": "[encoded data removed]",
      "text/plain": [
       "<Figure size 1080x720 with 3 Axes>"
      ]
     },
     "metadata": {
      "needs_background": "light"
     },
     "output_type": "display_data"
    }
   ],
   "source": [
    "#Декомпозируем и строим графики\n",
    "decomposed = seasonal_decompose(df)\n",
    "\n",
    "plt.figure(figsize=(15, 10))\n",
    "plt.subplot(311)\n",
    "decomposed.trend.plot(ax=plt.gca())\n",
    "plt.title('Trend')\n",
    "plt.grid(True)\n",
    "\n",
    "plt.subplot(312)\n",
    "decomposed.seasonal.head(200).plot(ax=plt.gca())\n",
    "plt.title('Seasonality')\n",
    "plt.grid(True)\n",
    "\n",
    "plt.subplot(313)\n",
    "decomposed.resid.plot(ax=plt.gca())\n",
    "plt.title('Residuals')\n",
    "plt.grid(True)\n",
    "plt.tight_layout()"
   ]
  },
  {
   "cell_type": "markdown",
   "metadata": {},
   "source": [
    "- Наблюдается растущий тренд на количество заказов такси\n",
    "- Сезонность имеет ярковыраженный суточный цикл: утром заказов почти нет, т.к. люди спят, затем виден ожидаемый рост в связи с приближающимся началом рабочего дня, после чего люди возвращаются домой с работы и/или после вечера, проведенного вне дома, а дальше спад повторяется и начинается новый цикл\n",
    "- В остатках все достаточно стабильно, но местами наблюдаются резкие всплески заказов. Возможно, это связано с вечером пятницы, когда все гуляют по кабакам и/или с плохой погодой, когда на своих двоих передвигаться слишком мокро."
   ]
  },
  {
   "cell_type": "markdown",
   "metadata": {},
   "source": [
    "Проверим, как ведет себя скользящее среднее, а заодно оценим, является ряд стационарным или нет. Учитывая, растущий во времени тренд на количество заказов, ряд выглядит нестационарным. Проверим"
   ]
  },
  {
   "cell_type": "code",
   "execution_count": 8,
   "metadata": {},
   "outputs": [
    {
     "data": {
      "image/png": "[encoded data removed]",
      "text/plain": [
       "<Figure size 1080x720 with 1 Axes>"
      ]
     },
     "metadata": {
      "needs_background": "light"
     },
     "output_type": "display_data"
    }
   ],
   "source": [
    "#Строим график\n",
    "plt.figure(figsize=(15, 10))\n",
    "plt.plot(df)\n",
    "plt.plot(df.rolling(24).mean(), color='yellow')\n",
    "plt.plot(df.rolling(24).std(), color='black')\n",
    "plt.title('Распределение заказов в час по времени')\n",
    "plt.xlabel('Дата')\n",
    "plt.ylabel('Количество заказов')\n",
    "plt.legend(['Кол-во заказов в час', 'Скользящее среднее', 'Стандартное отклонение'])\n",
    "plt.show()"
   ]
  },
  {
   "cell_type": "markdown",
   "metadata": {},
   "source": [
    "Видно, что со временем ряд становится нестационарным. Попробуем проверить стационарность ряда тестом Дики-Фуллера."
   ]
  },
  {
   "cell_type": "code",
   "execution_count": 9,
   "metadata": {},
   "outputs": [],
   "source": [
    "#Пишем функцию\n",
    "def test_stationarity(df):\n",
    "    result = adfuller(df['num_orders'])\n",
    "\n",
    "    print('Критические значения:', result[4])\n",
    "    print('p-value:', result[1])\n",
    "    \n",
    "    # Оценка стационарности на основе p-значения\n",
    "    if result[1] <= 0.05:\n",
    "        print('Ряд является стационарным.')\n",
    "    else:\n",
    "        print('Ряд не является стационарным.')"
   ]
  },
  {
   "cell_type": "code",
   "execution_count": 10,
   "metadata": {},
   "outputs": [
    {
     "name": "stdout",
     "output_type": "stream",
     "text": [
      "Критические значения: {'1%': -3.431842162413052, '5%': -2.8621993540813637, '10%': -2.567120978470452}\n",
      "p-value: 0.028940051402612906\n",
      "Ряд является стационарным.\n"
     ]
    }
   ],
   "source": [
    "#Проверяем\n",
    "test_stationarity(df)"
   ]
  },
  {
   "cell_type": "markdown",
   "metadata": {},
   "source": [
    "Согласно тесту, ряд является стационарным. Это расходится с наблюдениями на графике тренда. Что ж, примем к сведению, но останемся на своем."
   ]
  },
  {
   "cell_type": "code",
   "execution_count": 11,
   "metadata": {},
   "outputs": [
    {
     "name": "stdout",
     "output_type": "stream",
     "text": [
      "Если значение с индексом 1 меньше P-Value, заданное нами (обычно берут 0.05), то ряд стационарный\n",
      "Наш ряд стационарный\n"
     ]
    }
   ],
   "source": [
    "\n",
    "# код ревьювера\n",
    "from statsmodels.tsa.stattools import adfuller\n",
    "\n",
    "ts = df['num_orders']\n",
    "st_test = adfuller(ts, regression='ctt')\n",
    "\n",
    "print('Если значение с индексом 1 меньше P-Value, заданное нами (обычно берут 0.05), то ряд стационарный')\n",
    "if st_test[1] < 0.05:\n",
    "    print('Наш ряд стационарный')\n",
    "else:\n",
    "    print('Ряд нестационарный')\n"
   ]
  },
  {
   "cell_type": "markdown",
   "metadata": {},
   "source": [
    "## Обучение"
   ]
  },
  {
   "cell_type": "code",
   "execution_count": 12,
   "metadata": {},
   "outputs": [],
   "source": [
    "#Пишем функцию для создания признаков\n",
    "def make_features(df, max_lag, rolling_mean_size):\n",
    "    df['day'] = df.index.day\n",
    "    df['dayofweek'] = df.index.dayofweek\n",
    "    \n",
    "    for lag in range(1, max_lag + 1):\n",
    "        df['lag_{}'.format(lag)] = df['num_orders'].shift(lag)\n",
    "\n",
    "    df['rolling_mean'] = df['num_orders'].shift().rolling(rolling_mean_size).mean()"
   ]
  },
  {
   "cell_type": "code",
   "execution_count": 13,
   "metadata": {},
   "outputs": [
    {
     "data": {
      "text/html": [
       "<div>\n",
       "<style scoped>\n",
       "    .dataframe tbody tr th:only-of-type {\n",
       "        vertical-align: middle;\n",
       "    }\n",
       "\n",
       "    .dataframe tbody tr th {\n",
       "        vertical-align: top;\n",
       "    }\n",
       "\n",
       "    .dataframe thead th {\n",
       "        text-align: right;\n",
       "    }\n",
       "</style>\n",
       "<table border=\"1\" class=\"dataframe\">\n",
       "  <thead>\n",
       "    <tr style=\"text-align: right;\">\n",
       "      <th></th>\n",
       "      <th>num_orders</th>\n",
       "      <th>day</th>\n",
       "      <th>dayofweek</th>\n",
       "      <th>lag_1</th>\n",
       "      <th>lag_2</th>\n",
       "      <th>lag_3</th>\n",
       "      <th>lag_4</th>\n",
       "      <th>lag_5</th>\n",
       "      <th>lag_6</th>\n",
       "      <th>lag_7</th>\n",
       "      <th>...</th>\n",
       "      <th>lag_160</th>\n",
       "      <th>lag_161</th>\n",
       "      <th>lag_162</th>\n",
       "      <th>lag_163</th>\n",
       "      <th>lag_164</th>\n",
       "      <th>lag_165</th>\n",
       "      <th>lag_166</th>\n",
       "      <th>lag_167</th>\n",
       "      <th>lag_168</th>\n",
       "      <th>rolling_mean</th>\n",
       "    </tr>\n",
       "    <tr>\n",
       "      <th>datetime</th>\n",
       "      <th></th>\n",
       "      <th></th>\n",
       "      <th></th>\n",
       "      <th></th>\n",
       "      <th></th>\n",
       "      <th></th>\n",
       "      <th></th>\n",
       "      <th></th>\n",
       "      <th></th>\n",
       "      <th></th>\n",
       "      <th></th>\n",
       "      <th></th>\n",
       "      <th></th>\n",
       "      <th></th>\n",
       "      <th></th>\n",
       "      <th></th>\n",
       "      <th></th>\n",
       "      <th></th>\n",
       "      <th></th>\n",
       "      <th></th>\n",
       "      <th></th>\n",
       "    </tr>\n",
       "  </thead>\n",
       "  <tbody>\n",
       "    <tr>\n",
       "      <th>2018-03-01 00:00:00</th>\n",
       "      <td>124</td>\n",
       "      <td>1</td>\n",
       "      <td>3</td>\n",
       "      <td>NaN</td>\n",
       "      <td>NaN</td>\n",
       "      <td>NaN</td>\n",
       "      <td>NaN</td>\n",
       "      <td>NaN</td>\n",
       "      <td>NaN</td>\n",
       "      <td>NaN</td>\n",
       "      <td>...</td>\n",
       "      <td>NaN</td>\n",
       "      <td>NaN</td>\n",
       "      <td>NaN</td>\n",
       "      <td>NaN</td>\n",
       "      <td>NaN</td>\n",
       "      <td>NaN</td>\n",
       "      <td>NaN</td>\n",
       "      <td>NaN</td>\n",
       "      <td>NaN</td>\n",
       "      <td>NaN</td>\n",
       "    </tr>\n",
       "    <tr>\n",
       "      <th>2018-03-01 01:00:00</th>\n",
       "      <td>85</td>\n",
       "      <td>1</td>\n",
       "      <td>3</td>\n",
       "      <td>124.0</td>\n",
       "      <td>NaN</td>\n",
       "      <td>NaN</td>\n",
       "      <td>NaN</td>\n",
       "      <td>NaN</td>\n",
       "      <td>NaN</td>\n",
       "      <td>NaN</td>\n",
       "      <td>...</td>\n",
       "      <td>NaN</td>\n",
       "      <td>NaN</td>\n",
       "      <td>NaN</td>\n",
       "      <td>NaN</td>\n",
       "      <td>NaN</td>\n",
       "      <td>NaN</td>\n",
       "      <td>NaN</td>\n",
       "      <td>NaN</td>\n",
       "      <td>NaN</td>\n",
       "      <td>NaN</td>\n",
       "    </tr>\n",
       "    <tr>\n",
       "      <th>2018-03-01 02:00:00</th>\n",
       "      <td>71</td>\n",
       "      <td>1</td>\n",
       "      <td>3</td>\n",
       "      <td>85.0</td>\n",
       "      <td>124.0</td>\n",
       "      <td>NaN</td>\n",
       "      <td>NaN</td>\n",
       "      <td>NaN</td>\n",
       "      <td>NaN</td>\n",
       "      <td>NaN</td>\n",
       "      <td>...</td>\n",
       "      <td>NaN</td>\n",
       "      <td>NaN</td>\n",
       "      <td>NaN</td>\n",
       "      <td>NaN</td>\n",
       "      <td>NaN</td>\n",
       "      <td>NaN</td>\n",
       "      <td>NaN</td>\n",
       "      <td>NaN</td>\n",
       "      <td>NaN</td>\n",
       "      <td>NaN</td>\n",
       "    </tr>\n",
       "    <tr>\n",
       "      <th>2018-03-01 03:00:00</th>\n",
       "      <td>66</td>\n",
       "      <td>1</td>\n",
       "      <td>3</td>\n",
       "      <td>71.0</td>\n",
       "      <td>85.0</td>\n",
       "      <td>124.0</td>\n",
       "      <td>NaN</td>\n",
       "      <td>NaN</td>\n",
       "      <td>NaN</td>\n",
       "      <td>NaN</td>\n",
       "      <td>...</td>\n",
       "      <td>NaN</td>\n",
       "      <td>NaN</td>\n",
       "      <td>NaN</td>\n",
       "      <td>NaN</td>\n",
       "      <td>NaN</td>\n",
       "      <td>NaN</td>\n",
       "      <td>NaN</td>\n",
       "      <td>NaN</td>\n",
       "      <td>NaN</td>\n",
       "      <td>NaN</td>\n",
       "    </tr>\n",
       "    <tr>\n",
       "      <th>2018-03-01 04:00:00</th>\n",
       "      <td>43</td>\n",
       "      <td>1</td>\n",
       "      <td>3</td>\n",
       "      <td>66.0</td>\n",
       "      <td>71.0</td>\n",
       "      <td>85.0</td>\n",
       "      <td>124.0</td>\n",
       "      <td>NaN</td>\n",
       "      <td>NaN</td>\n",
       "      <td>NaN</td>\n",
       "      <td>...</td>\n",
       "      <td>NaN</td>\n",
       "      <td>NaN</td>\n",
       "      <td>NaN</td>\n",
       "      <td>NaN</td>\n",
       "      <td>NaN</td>\n",
       "      <td>NaN</td>\n",
       "      <td>NaN</td>\n",
       "      <td>NaN</td>\n",
       "      <td>NaN</td>\n",
       "      <td>NaN</td>\n",
       "    </tr>\n",
       "    <tr>\n",
       "      <th>2018-03-01 05:00:00</th>\n",
       "      <td>6</td>\n",
       "      <td>1</td>\n",
       "      <td>3</td>\n",
       "      <td>43.0</td>\n",
       "      <td>66.0</td>\n",
       "      <td>71.0</td>\n",
       "      <td>85.0</td>\n",
       "      <td>124.0</td>\n",
       "      <td>NaN</td>\n",
       "      <td>NaN</td>\n",
       "      <td>...</td>\n",
       "      <td>NaN</td>\n",
       "      <td>NaN</td>\n",
       "      <td>NaN</td>\n",
       "      <td>NaN</td>\n",
       "      <td>NaN</td>\n",
       "      <td>NaN</td>\n",
       "      <td>NaN</td>\n",
       "      <td>NaN</td>\n",
       "      <td>NaN</td>\n",
       "      <td>NaN</td>\n",
       "    </tr>\n",
       "    <tr>\n",
       "      <th>2018-03-01 06:00:00</th>\n",
       "      <td>12</td>\n",
       "      <td>1</td>\n",
       "      <td>3</td>\n",
       "      <td>6.0</td>\n",
       "      <td>43.0</td>\n",
       "      <td>66.0</td>\n",
       "      <td>71.0</td>\n",
       "      <td>85.0</td>\n",
       "      <td>124.0</td>\n",
       "      <td>NaN</td>\n",
       "      <td>...</td>\n",
       "      <td>NaN</td>\n",
       "      <td>NaN</td>\n",
       "      <td>NaN</td>\n",
       "      <td>NaN</td>\n",
       "      <td>NaN</td>\n",
       "      <td>NaN</td>\n",
       "      <td>NaN</td>\n",
       "      <td>NaN</td>\n",
       "      <td>NaN</td>\n",
       "      <td>NaN</td>\n",
       "    </tr>\n",
       "  </tbody>\n",
       "</table>\n",
       "<p>7 rows × 172 columns</p>\n",
       "</div>"
      ],
      "text/plain": [
       "                     num_orders  day  dayofweek  lag_1  lag_2  lag_3  lag_4  \\\n",
       "datetime                                                                      \n",
       "2018-03-01 00:00:00         124    1          3    NaN    NaN    NaN    NaN   \n",
       "2018-03-01 01:00:00          85    1          3  124.0    NaN    NaN    NaN   \n",
       "2018-03-01 02:00:00          71    1          3   85.0  124.0    NaN    NaN   \n",
       "2018-03-01 03:00:00          66    1          3   71.0   85.0  124.0    NaN   \n",
       "2018-03-01 04:00:00          43    1          3   66.0   71.0   85.0  124.0   \n",
       "2018-03-01 05:00:00           6    1          3   43.0   66.0   71.0   85.0   \n",
       "2018-03-01 06:00:00          12    1          3    6.0   43.0   66.0   71.0   \n",
       "\n",
       "                     lag_5  lag_6  lag_7  ...  lag_160  lag_161  lag_162  \\\n",
       "datetime                                  ...                              \n",
       "2018-03-01 00:00:00    NaN    NaN    NaN  ...      NaN      NaN      NaN   \n",
       "2018-03-01 01:00:00    NaN    NaN    NaN  ...      NaN      NaN      NaN   \n",
       "2018-03-01 02:00:00    NaN    NaN    NaN  ...      NaN      NaN      NaN   \n",
       "2018-03-01 03:00:00    NaN    NaN    NaN  ...      NaN      NaN      NaN   \n",
       "2018-03-01 04:00:00    NaN    NaN    NaN  ...      NaN      NaN      NaN   \n",
       "2018-03-01 05:00:00  124.0    NaN    NaN  ...      NaN      NaN      NaN   \n",
       "2018-03-01 06:00:00   85.0  124.0    NaN  ...      NaN      NaN      NaN   \n",
       "\n",
       "                     lag_163  lag_164  lag_165  lag_166  lag_167  lag_168  \\\n",
       "datetime                                                                    \n",
       "2018-03-01 00:00:00      NaN      NaN      NaN      NaN      NaN      NaN   \n",
       "2018-03-01 01:00:00      NaN      NaN      NaN      NaN      NaN      NaN   \n",
       "2018-03-01 02:00:00      NaN      NaN      NaN      NaN      NaN      NaN   \n",
       "2018-03-01 03:00:00      NaN      NaN      NaN      NaN      NaN      NaN   \n",
       "2018-03-01 04:00:00      NaN      NaN      NaN      NaN      NaN      NaN   \n",
       "2018-03-01 05:00:00      NaN      NaN      NaN      NaN      NaN      NaN   \n",
       "2018-03-01 06:00:00      NaN      NaN      NaN      NaN      NaN      NaN   \n",
       "\n",
       "                     rolling_mean  \n",
       "datetime                           \n",
       "2018-03-01 00:00:00           NaN  \n",
       "2018-03-01 01:00:00           NaN  \n",
       "2018-03-01 02:00:00           NaN  \n",
       "2018-03-01 03:00:00           NaN  \n",
       "2018-03-01 04:00:00           NaN  \n",
       "2018-03-01 05:00:00           NaN  \n",
       "2018-03-01 06:00:00           NaN  \n",
       "\n",
       "[7 rows x 172 columns]"
      ]
     },
     "execution_count": 13,
     "metadata": {},
     "output_type": "execute_result"
    }
   ],
   "source": [
    "#Проверяем\n",
    "make_features(df, 168, 24)\n",
    "\n",
    "df.head(7)"
   ]
  },
  {
   "cell_type": "code",
   "execution_count": 14,
   "metadata": {},
   "outputs": [],
   "source": [
    "#Удаляем строки с пропусками\n",
    "df.dropna(inplace=True)"
   ]
  },
  {
   "cell_type": "code",
   "execution_count": 15,
   "metadata": {},
   "outputs": [
    {
     "name": "stdout",
     "output_type": "stream",
     "text": [
      "(4248, 171)\n",
      "(4248,)\n"
     ]
    }
   ],
   "source": [
    "#Создаем переменные feature и target\n",
    "features = df.drop('num_orders', axis=1)\n",
    "target = df['num_orders']\n",
    "\n",
    "print(features.shape)\n",
    "print(target.shape)"
   ]
  },
  {
   "cell_type": "code",
   "execution_count": 16,
   "metadata": {},
   "outputs": [
    {
     "name": "stdout",
     "output_type": "stream",
     "text": [
      "(3823, 171)\n",
      "(3823,)\n",
      "(425, 171)\n",
      "(425,)\n"
     ]
    }
   ],
   "source": [
    "#Делим features и target на выборки\n",
    "features_train, features_test, target_train, target_test = train_test_split(\n",
    "    features, target, shuffle=False, test_size=0.1\n",
    ")\n",
    "\n",
    "print(features_train.shape)\n",
    "print(target_train.shape)\n",
    "print(features_test.shape)\n",
    "print(target_test.shape)"
   ]
  },
  {
   "cell_type": "code",
   "execution_count": 17,
   "metadata": {},
   "outputs": [],
   "source": [
    "#Масштабируем признаки\n",
    "scaler = StandardScaler()\n",
    "features_train_scaled = scaler.fit_transform(features_train)\n",
    "features_test_scaled = scaler.transform(features_test)"
   ]
  },
  {
   "cell_type": "code",
   "execution_count": 18,
   "metadata": {},
   "outputs": [
    {
     "name": "stdout",
     "output_type": "stream",
     "text": [
      "RMSE лучшей модели линейной регрессии: 23.180334529604057\n"
     ]
    }
   ],
   "source": [
    "#Строим модель линейной регрессии\n",
    "tscv = TimeSeriesSplit(n_splits=3)\n",
    "\n",
    "linear_params = {\n",
    "    'fit_intercept': [True, False],\n",
    "    'normalize': [True, False]\n",
    "}\n",
    "\n",
    "linear = LinearRegression()\n",
    "linear_random_search = RandomizedSearchCV(\n",
    "    linear,\n",
    "    param_distributions=linear_params,\n",
    "    n_iter=4,\n",
    "    cv=tscv,\n",
    "    random_state=12345)\n",
    "\n",
    "linear_random_search.fit(features_train_scaled, target_train)\n",
    "best_linear_model = linear_random_search.best_estimator_\n",
    "\n",
    "rmse_linear = -cross_val_score(\n",
    "    best_linear_model,\n",
    "    features_train_scaled,\n",
    "    target_train,\n",
    "    scoring='neg_root_mean_squared_error',\n",
    "    cv=tscv).mean()\n",
    "\n",
    "print(f'RMSE лучшей модели линейной регрессии: {rmse_linear}')"
   ]
  },
  {
   "cell_type": "code",
   "execution_count": 19,
   "metadata": {},
   "outputs": [
    {
     "name": "stdout",
     "output_type": "stream",
     "text": [
      "RMSE лучшей LightGBM модели: 24.164617073071195\n"
     ]
    }
   ],
   "source": [
    "#Строим LightGBM модель\n",
    "lgbmr_params = {\n",
    "    'n_estimators': [26],\n",
    "    'max_depth': [1, 3]\n",
    "}\n",
    "\n",
    "lgbmr = lgb.LGBMRegressor()\n",
    "lgbmr_random_search = RandomizedSearchCV(\n",
    "    lgbmr,\n",
    "    param_distributions=lgbmr_params,\n",
    "    n_iter=2,\n",
    "    cv=tscv,\n",
    "    random_state=12345)\n",
    "\n",
    "lgbmr_random_search.fit(features_train_scaled, target_train)\n",
    "best_lgbmr_model = lgbmr_random_search.best_estimator_\n",
    "\n",
    "rmse_lgbmr = -cross_val_score(\n",
    "    best_lgbmr_model,\n",
    "    features_train_scaled,\n",
    "    target_train,\n",
    "    scoring='neg_root_mean_squared_error',\n",
    "    cv=tscv).mean()\n",
    "\n",
    "print(f'RMSE лучшей LightGBM модели: {rmse_lgbmr}')"
   ]
  },
  {
   "cell_type": "code",
   "execution_count": 20,
   "metadata": {},
   "outputs": [
    {
     "name": "stdout",
     "output_type": "stream",
     "text": [
      "RMSE лучшей CatBoost модели: 24.20623221089852\n"
     ]
    }
   ],
   "source": [
    "#Строим CatBoost модель\n",
    "catboost_params = {\n",
    "    'depth': [3],\n",
    "    'learning_rate': [0.1, 1]\n",
    "}\n",
    "\n",
    "catboost = CatBoostRegressor(verbose=False)\n",
    "catboost_random_search = RandomizedSearchCV(\n",
    "    catboost,\n",
    "    param_distributions=catboost_params,\n",
    "    n_iter=2,\n",
    "    cv=tscv,\n",
    "    random_state=12345)\n",
    "\n",
    "catboost_random_search.fit(features_train_scaled, target_train)\n",
    "best_catboost_model = catboost_random_search.best_estimator_\n",
    "\n",
    "rmse_catboost = -cross_val_score(\n",
    "    best_catboost_model,\n",
    "    features_train_scaled,\n",
    "    target_train,\n",
    "    scoring='neg_root_mean_squared_error',\n",
    "    cv=tscv).mean()\n",
    "\n",
    "print(f'RMSE лучшей CatBoost модели: {rmse_catboost}')"
   ]
  },
  {
   "cell_type": "code",
   "execution_count": 21,
   "metadata": {},
   "outputs": [
    {
     "name": "stdout",
     "output_type": "stream",
     "text": [
      "RMSE лучшей модели Lasso: 22.667754770898387\n"
     ]
    }
   ],
   "source": [
    "#Пишем модель Lasso\n",
    "lasso_params = {'alpha': [0.1, 1, 10]}\n",
    "\n",
    "lasso = Lasso()\n",
    "lasso_random_search = RandomizedSearchCV(\n",
    "    lasso,\n",
    "    param_distributions=lasso_params,\n",
    "    n_iter=3,\n",
    "    cv=tscv,\n",
    "    random_state=12345)\n",
    "\n",
    "lasso_random_search.fit(features_train_scaled, target_train)\n",
    "best_lasso_model = lasso_random_search.best_estimator_\n",
    "\n",
    "rmse_lasso = -cross_val_score(\n",
    "    best_lasso_model,\n",
    "    features_train_scaled,\n",
    "    target_train,\n",
    "    scoring='neg_root_mean_squared_error',\n",
    "    cv=tscv).mean()\n",
    "\n",
    "print(f'RMSE лучшей модели Lasso: {rmse_lasso}')"
   ]
  },
  {
   "cell_type": "markdown",
   "metadata": {},
   "source": [
    "## Тестирование"
   ]
  },
  {
   "cell_type": "code",
   "execution_count": 22,
   "metadata": {},
   "outputs": [
    {
     "data": {
      "text/html": [
       "<div>\n",
       "<style scoped>\n",
       "    .dataframe tbody tr th:only-of-type {\n",
       "        vertical-align: middle;\n",
       "    }\n",
       "\n",
       "    .dataframe tbody tr th {\n",
       "        vertical-align: top;\n",
       "    }\n",
       "\n",
       "    .dataframe thead th {\n",
       "        text-align: right;\n",
       "    }\n",
       "</style>\n",
       "<table border=\"1\" class=\"dataframe\">\n",
       "  <thead>\n",
       "    <tr style=\"text-align: right;\">\n",
       "      <th></th>\n",
       "      <th>RMSE</th>\n",
       "    </tr>\n",
       "  </thead>\n",
       "  <tbody>\n",
       "    <tr>\n",
       "      <th>Lasso</th>\n",
       "      <td>22.67</td>\n",
       "    </tr>\n",
       "    <tr>\n",
       "      <th>LinearRegression</th>\n",
       "      <td>23.18</td>\n",
       "    </tr>\n",
       "    <tr>\n",
       "      <th>LightGBM</th>\n",
       "      <td>24.16</td>\n",
       "    </tr>\n",
       "    <tr>\n",
       "      <th>CatBoost</th>\n",
       "      <td>24.21</td>\n",
       "    </tr>\n",
       "  </tbody>\n",
       "</table>\n",
       "</div>"
      ],
      "text/plain": [
       "                   RMSE\n",
       "Lasso             22.67\n",
       "LinearRegression  23.18\n",
       "LightGBM          24.16\n",
       "CatBoost          24.21"
      ]
     },
     "execution_count": 22,
     "metadata": {},
     "output_type": "execute_result"
    }
   ],
   "source": [
    "#Собираем таблицу с отчетом\n",
    "results = [\n",
    "    {'RMSE': round(rmse_linear, 2)},    \n",
    "    {'RMSE': round(rmse_lgbmr, 2)},\n",
    "    {'RMSE': round(rmse_catboost, 2)},\n",
    "    {'RMSE': round(rmse_lasso, 2)}\n",
    "]\n",
    "\n",
    "pd.DataFrame(data=results,\n",
    "             index=['LinearRegression', 'LightGBM', 'CatBoost', 'Lasso'],\n",
    "             columns=['RMSE']).sort_values(by='RMSE')"
   ]
  },
  {
   "cell_type": "markdown",
   "metadata": {},
   "source": [
    "Лучший результат на кросс-валидации у линейных моделей, но модель Lasso незначительно опережает модель линейной регрессии. Используем Lasso для подсчета RMSE на тестовой выборке."
   ]
  },
  {
   "cell_type": "code",
   "execution_count": 26,
   "metadata": {},
   "outputs": [
    {
     "name": "stdout",
     "output_type": "stream",
     "text": [
      "34.764062266119836\n"
     ]
    }
   ],
   "source": [
    "#Считаем RMSE модели Lasso на тестовой выборке\n",
    "predictions_lasso = best_lasso_model.predict(features_test_scaled)\n",
    "rmse_lasso = mse(target_test, predictions_lasso)**0.5\n",
    "print(rmse_lasso)"
   ]
  },
  {
   "cell_type": "markdown",
   "metadata": {},
   "source": [
    "Дополнительно проверим модель ни адекватность. Если RMSE Lasso будет больше или равно RMSE с предсказанием предыдущим значением, модель будем считать неадекватной. Если RMSE Lasso будет меньше - адекватной."
   ]
  },
  {
   "cell_type": "code",
   "execution_count": 27,
   "metadata": {},
   "outputs": [
    {
     "name": "stdout",
     "output_type": "stream",
     "text": [
      "Модель Lasso адекватна\n"
     ]
    }
   ],
   "source": [
    "#Проверяем лучшую модель на адекватность\n",
    "pred_previous = target_test.shift()\n",
    "pred_previous.iloc[0] = target_train.iloc[-1]\n",
    "\n",
    "rmse_previous = mse(target_test, pred_previous)**0.5\n",
    "\n",
    "# Сравнение RMSE моделей\n",
    "if rmse_lasso < rmse_previous:\n",
    "    print(\"Модель Lasso адекватна\")\n",
    "else:\n",
    "    print(\"Модель Lasso не адекватна\")"
   ]
  },
  {
   "cell_type": "markdown",
   "metadata": {},
   "source": [
    "**Вывод:**\n",
    "\n",
    "Модель Lasso показала лучший результат RMSE в 34.76 на тестовой выборке, что меньше заявленного в условии проекта значения в 48, а значит, что мы справились. Также мы проверили и подтвердили адекватность модели."
   ]
  }
 ],
 "metadata": {
  "ExecuteTimeLog": [
   {
    "duration": 1602,
    "start_time": "2023-05-29T13:15:49.913Z"
   },
   {
    "duration": 213,
    "start_time": "2023-05-29T13:15:51.912Z"
   },
   {
    "duration": 19,
    "start_time": "2023-05-29T13:16:05.324Z"
   },
   {
    "duration": 26,
    "start_time": "2023-05-29T13:16:12.524Z"
   },
   {
    "duration": 21,
    "start_time": "2023-05-29T13:18:32.194Z"
   },
   {
    "duration": 52,
    "start_time": "2023-05-29T13:23:32.397Z"
   },
   {
    "duration": 13,
    "start_time": "2023-05-29T13:23:33.678Z"
   },
   {
    "duration": 126,
    "start_time": "2023-05-29T13:26:52.688Z"
   },
   {
    "duration": 2,
    "start_time": "2023-05-29T13:26:59.055Z"
   },
   {
    "duration": 11,
    "start_time": "2023-05-29T13:27:24.345Z"
   },
   {
    "duration": 4,
    "start_time": "2023-05-29T13:33:30.332Z"
   },
   {
    "duration": 23,
    "start_time": "2023-05-29T13:34:02.634Z"
   },
   {
    "duration": 28,
    "start_time": "2023-05-29T13:34:20.728Z"
   },
   {
    "duration": 8,
    "start_time": "2023-05-29T13:35:02.456Z"
   },
   {
    "duration": 5,
    "start_time": "2023-05-29T13:37:05.253Z"
   },
   {
    "duration": 5,
    "start_time": "2023-05-29T13:37:10.591Z"
   },
   {
    "duration": 21,
    "start_time": "2023-05-29T13:37:17.151Z"
   },
   {
    "duration": 6,
    "start_time": "2023-05-29T13:39:53.113Z"
   },
   {
    "duration": 17,
    "start_time": "2023-05-29T13:42:22.404Z"
   },
   {
    "duration": 10,
    "start_time": "2023-05-29T13:42:30.551Z"
   },
   {
    "duration": 1438,
    "start_time": "2023-05-29T13:43:02.445Z"
   },
   {
    "duration": 61,
    "start_time": "2023-05-29T13:43:03.885Z"
   },
   {
    "duration": 17,
    "start_time": "2023-05-29T13:43:03.947Z"
   },
   {
    "duration": 3,
    "start_time": "2023-05-29T13:43:03.965Z"
   },
   {
    "duration": 11,
    "start_time": "2023-05-29T13:43:03.970Z"
   },
   {
    "duration": 5,
    "start_time": "2023-05-29T13:43:03.983Z"
   },
   {
    "duration": 50,
    "start_time": "2023-05-29T13:43:03.989Z"
   },
   {
    "duration": 9,
    "start_time": "2023-05-29T13:43:04.041Z"
   },
   {
    "duration": 8,
    "start_time": "2023-05-29T13:43:04.051Z"
   },
   {
    "duration": 10,
    "start_time": "2023-05-29T13:43:04.061Z"
   },
   {
    "duration": 17,
    "start_time": "2023-05-29T13:43:04.074Z"
   },
   {
    "duration": 1528,
    "start_time": "2023-05-29T13:43:20.861Z"
   },
   {
    "duration": 59,
    "start_time": "2023-05-29T13:43:22.391Z"
   },
   {
    "duration": 18,
    "start_time": "2023-05-29T13:43:22.452Z"
   },
   {
    "duration": 2,
    "start_time": "2023-05-29T13:43:22.472Z"
   },
   {
    "duration": 18,
    "start_time": "2023-05-29T13:43:22.477Z"
   },
   {
    "duration": 15,
    "start_time": "2023-05-29T13:43:22.497Z"
   },
   {
    "duration": 36,
    "start_time": "2023-05-29T13:43:22.514Z"
   },
   {
    "duration": 9,
    "start_time": "2023-05-29T13:43:22.552Z"
   },
   {
    "duration": 7,
    "start_time": "2023-05-29T13:43:22.562Z"
   },
   {
    "duration": 30,
    "start_time": "2023-05-29T13:43:22.571Z"
   },
   {
    "duration": 14,
    "start_time": "2023-05-29T13:43:22.605Z"
   },
   {
    "duration": 3,
    "start_time": "2023-05-29T13:44:05.931Z"
   },
   {
    "duration": 90,
    "start_time": "2023-05-29T13:44:13.010Z"
   },
   {
    "duration": 37,
    "start_time": "2023-05-29T13:45:19.194Z"
   },
   {
    "duration": 116,
    "start_time": "2023-05-29T13:45:29.647Z"
   },
   {
    "duration": 3776,
    "start_time": "2023-05-29T13:45:59.824Z"
   },
   {
    "duration": 27,
    "start_time": "2023-05-29T13:48:49.321Z"
   },
   {
    "duration": 12,
    "start_time": "2023-05-29T13:49:13.508Z"
   },
   {
    "duration": 4082,
    "start_time": "2023-05-29T13:49:20.510Z"
   },
   {
    "duration": 1552,
    "start_time": "2023-05-29T13:54:35.967Z"
   },
   {
    "duration": 51,
    "start_time": "2023-05-29T13:54:37.521Z"
   },
   {
    "duration": 17,
    "start_time": "2023-05-29T13:54:37.573Z"
   },
   {
    "duration": 3,
    "start_time": "2023-05-29T13:54:37.591Z"
   },
   {
    "duration": 12,
    "start_time": "2023-05-29T13:54:37.596Z"
   },
   {
    "duration": 9,
    "start_time": "2023-05-29T13:54:37.609Z"
   },
   {
    "duration": 23,
    "start_time": "2023-05-29T13:54:37.619Z"
   },
   {
    "duration": 9,
    "start_time": "2023-05-29T13:54:37.645Z"
   },
   {
    "duration": 11,
    "start_time": "2023-05-29T13:54:37.655Z"
   },
   {
    "duration": 10,
    "start_time": "2023-05-29T13:54:37.668Z"
   },
   {
    "duration": 925,
    "start_time": "2023-05-29T13:54:37.680Z"
   },
   {
    "duration": 1884,
    "start_time": "2023-05-29T13:54:38.606Z"
   },
   {
    "duration": 4,
    "start_time": "2023-05-29T13:55:08.120Z"
   },
   {
    "duration": 54,
    "start_time": "2023-05-29T13:55:08.126Z"
   },
   {
    "duration": 14,
    "start_time": "2023-05-29T13:55:08.182Z"
   },
   {
    "duration": 5,
    "start_time": "2023-05-29T13:55:08.197Z"
   },
   {
    "duration": 16,
    "start_time": "2023-05-29T13:55:08.204Z"
   },
   {
    "duration": 4,
    "start_time": "2023-05-29T13:55:08.222Z"
   },
   {
    "duration": 34,
    "start_time": "2023-05-29T13:55:08.228Z"
   },
   {
    "duration": 6,
    "start_time": "2023-05-29T13:55:08.264Z"
   },
   {
    "duration": 22,
    "start_time": "2023-05-29T13:55:08.272Z"
   },
   {
    "duration": 13,
    "start_time": "2023-05-29T13:55:08.295Z"
   },
   {
    "duration": 695,
    "start_time": "2023-05-29T13:55:08.311Z"
   },
   {
    "duration": 3181,
    "start_time": "2023-05-29T13:55:09.008Z"
   },
   {
    "duration": 3181,
    "start_time": "2023-05-29T13:56:02.301Z"
   },
   {
    "duration": 46,
    "start_time": "2023-05-29T13:56:08.849Z"
   },
   {
    "duration": 49,
    "start_time": "2023-05-29T13:56:11.822Z"
   },
   {
    "duration": 3444,
    "start_time": "2023-05-29T13:56:17.492Z"
   },
   {
    "duration": 3323,
    "start_time": "2023-05-29T13:56:43.623Z"
   },
   {
    "duration": 3,
    "start_time": "2023-05-29T14:00:10.357Z"
   },
   {
    "duration": 45,
    "start_time": "2023-05-29T14:00:10.400Z"
   },
   {
    "duration": 13,
    "start_time": "2023-05-29T14:00:10.447Z"
   },
   {
    "duration": 2,
    "start_time": "2023-05-29T14:00:10.462Z"
   },
   {
    "duration": 10,
    "start_time": "2023-05-29T14:00:10.466Z"
   },
   {
    "duration": 4,
    "start_time": "2023-05-29T14:00:10.478Z"
   },
   {
    "duration": 28,
    "start_time": "2023-05-29T14:00:10.484Z"
   },
   {
    "duration": 8,
    "start_time": "2023-05-29T14:00:10.514Z"
   },
   {
    "duration": 8,
    "start_time": "2023-05-29T14:00:10.523Z"
   },
   {
    "duration": 24,
    "start_time": "2023-05-29T14:00:10.533Z"
   },
   {
    "duration": 1515,
    "start_time": "2023-05-29T14:01:17.609Z"
   },
   {
    "duration": 63,
    "start_time": "2023-05-29T14:01:19.127Z"
   },
   {
    "duration": 20,
    "start_time": "2023-05-29T14:01:19.192Z"
   },
   {
    "duration": 4,
    "start_time": "2023-05-29T14:01:19.214Z"
   },
   {
    "duration": 32,
    "start_time": "2023-05-29T14:01:19.220Z"
   },
   {
    "duration": 12,
    "start_time": "2023-05-29T14:01:19.254Z"
   },
   {
    "duration": 49,
    "start_time": "2023-05-29T14:01:19.268Z"
   },
   {
    "duration": 10,
    "start_time": "2023-05-29T14:01:19.319Z"
   },
   {
    "duration": 10,
    "start_time": "2023-05-29T14:01:19.331Z"
   },
   {
    "duration": 21,
    "start_time": "2023-05-29T14:01:19.344Z"
   },
   {
    "duration": 80914,
    "start_time": "2023-05-29T14:01:19.366Z"
   },
   {
    "duration": 0,
    "start_time": "2023-05-29T14:02:40.282Z"
   },
   {
    "duration": 7919,
    "start_time": "2023-05-29T14:05:32.093Z"
   },
   {
    "duration": 3427,
    "start_time": "2023-05-29T14:05:40.016Z"
   },
   {
    "duration": 21,
    "start_time": "2023-05-29T14:05:49.013Z"
   },
   {
    "duration": 8,
    "start_time": "2023-05-29T14:05:52.895Z"
   },
   {
    "duration": 69,
    "start_time": "2023-05-29T14:05:52.909Z"
   },
   {
    "duration": 15,
    "start_time": "2023-05-29T14:05:52.979Z"
   },
   {
    "duration": 21,
    "start_time": "2023-05-29T14:05:52.996Z"
   },
   {
    "duration": 12,
    "start_time": "2023-05-29T14:05:53.021Z"
   },
   {
    "duration": 10,
    "start_time": "2023-05-29T14:05:53.034Z"
   },
   {
    "duration": 29,
    "start_time": "2023-05-29T14:05:53.045Z"
   },
   {
    "duration": 7,
    "start_time": "2023-05-29T14:05:53.076Z"
   },
   {
    "duration": 10,
    "start_time": "2023-05-29T14:05:53.084Z"
   },
   {
    "duration": 26,
    "start_time": "2023-05-29T14:05:53.096Z"
   },
   {
    "duration": 12978,
    "start_time": "2023-05-29T14:05:53.123Z"
   },
   {
    "duration": 2379,
    "start_time": "2023-05-29T14:06:06.103Z"
   },
   {
    "duration": 1986,
    "start_time": "2023-05-29T14:06:16.540Z"
   },
   {
    "duration": 3,
    "start_time": "2023-05-29T14:06:33.723Z"
   },
   {
    "duration": 52,
    "start_time": "2023-05-29T14:06:33.727Z"
   },
   {
    "duration": 13,
    "start_time": "2023-05-29T14:06:33.780Z"
   },
   {
    "duration": 16,
    "start_time": "2023-05-29T14:06:33.795Z"
   },
   {
    "duration": 13,
    "start_time": "2023-05-29T14:06:33.813Z"
   },
   {
    "duration": 8,
    "start_time": "2023-05-29T14:06:33.827Z"
   },
   {
    "duration": 21,
    "start_time": "2023-05-29T14:06:33.836Z"
   },
   {
    "duration": 7,
    "start_time": "2023-05-29T14:06:33.858Z"
   },
   {
    "duration": 6,
    "start_time": "2023-05-29T14:06:33.867Z"
   },
   {
    "duration": 7,
    "start_time": "2023-05-29T14:06:33.875Z"
   },
   {
    "duration": 9718,
    "start_time": "2023-05-29T14:06:33.884Z"
   },
   {
    "duration": 1846,
    "start_time": "2023-05-29T14:06:43.603Z"
   },
   {
    "duration": 4,
    "start_time": "2023-05-29T14:07:20.638Z"
   },
   {
    "duration": 77,
    "start_time": "2023-05-29T14:07:20.644Z"
   },
   {
    "duration": 14,
    "start_time": "2023-05-29T14:07:20.722Z"
   },
   {
    "duration": 3,
    "start_time": "2023-05-29T14:07:20.738Z"
   },
   {
    "duration": 17,
    "start_time": "2023-05-29T14:07:20.744Z"
   },
   {
    "duration": 9,
    "start_time": "2023-05-29T14:07:20.763Z"
   },
   {
    "duration": 37,
    "start_time": "2023-05-29T14:07:20.773Z"
   },
   {
    "duration": 7,
    "start_time": "2023-05-29T14:07:20.812Z"
   },
   {
    "duration": 9,
    "start_time": "2023-05-29T14:07:20.820Z"
   },
   {
    "duration": 18,
    "start_time": "2023-05-29T14:07:20.831Z"
   },
   {
    "duration": 7469,
    "start_time": "2023-05-29T14:07:20.851Z"
   },
   {
    "duration": 1988,
    "start_time": "2023-05-29T14:07:28.322Z"
   },
   {
    "duration": 18649,
    "start_time": "2023-05-29T14:07:58.368Z"
   },
   {
    "duration": 1838,
    "start_time": "2023-05-29T14:09:08.054Z"
   },
   {
    "duration": 1784,
    "start_time": "2023-05-29T14:09:21.663Z"
   },
   {
    "duration": 4,
    "start_time": "2023-05-29T14:11:36.883Z"
   },
   {
    "duration": 69,
    "start_time": "2023-05-29T14:11:36.889Z"
   },
   {
    "duration": 15,
    "start_time": "2023-05-29T14:11:36.960Z"
   },
   {
    "duration": 6,
    "start_time": "2023-05-29T14:11:36.977Z"
   },
   {
    "duration": 13,
    "start_time": "2023-05-29T14:11:36.985Z"
   },
   {
    "duration": 7,
    "start_time": "2023-05-29T14:11:37.000Z"
   },
   {
    "duration": 62,
    "start_time": "2023-05-29T14:11:37.009Z"
   },
   {
    "duration": 13,
    "start_time": "2023-05-29T14:11:37.073Z"
   },
   {
    "duration": 6,
    "start_time": "2023-05-29T14:11:37.097Z"
   },
   {
    "duration": 21,
    "start_time": "2023-05-29T14:11:37.105Z"
   },
   {
    "duration": 146374,
    "start_time": "2023-05-29T14:11:37.128Z"
   },
   {
    "duration": 10319,
    "start_time": "2023-05-29T14:14:03.504Z"
   },
   {
    "duration": 1397,
    "start_time": "2023-05-29T14:17:48.964Z"
   },
   {
    "duration": 48,
    "start_time": "2023-05-29T14:17:50.363Z"
   },
   {
    "duration": 17,
    "start_time": "2023-05-29T14:17:50.412Z"
   },
   {
    "duration": 3,
    "start_time": "2023-05-29T14:17:50.431Z"
   },
   {
    "duration": 13,
    "start_time": "2023-05-29T14:17:50.435Z"
   },
   {
    "duration": 3,
    "start_time": "2023-05-29T14:17:50.450Z"
   },
   {
    "duration": 67,
    "start_time": "2023-05-29T14:17:50.454Z"
   },
   {
    "duration": 14,
    "start_time": "2023-05-29T14:17:50.522Z"
   },
   {
    "duration": 6,
    "start_time": "2023-05-29T14:17:50.537Z"
   },
   {
    "duration": 9,
    "start_time": "2023-05-29T14:17:50.545Z"
   },
   {
    "duration": 1453,
    "start_time": "2023-05-29T14:17:50.555Z"
   },
   {
    "duration": 11264,
    "start_time": "2023-05-29T14:17:52.010Z"
   },
   {
    "duration": 1505,
    "start_time": "2023-05-29T14:58:26.846Z"
   },
   {
    "duration": 52,
    "start_time": "2023-05-29T14:58:28.353Z"
   },
   {
    "duration": 19,
    "start_time": "2023-05-29T14:58:28.407Z"
   },
   {
    "duration": 5,
    "start_time": "2023-05-29T14:58:28.427Z"
   },
   {
    "duration": 16,
    "start_time": "2023-05-29T14:58:28.434Z"
   },
   {
    "duration": 9,
    "start_time": "2023-05-29T14:58:28.452Z"
   },
   {
    "duration": 106,
    "start_time": "2023-05-29T14:58:28.462Z"
   },
   {
    "duration": 32,
    "start_time": "2023-05-29T14:58:28.569Z"
   },
   {
    "duration": 9,
    "start_time": "2023-05-29T14:58:28.603Z"
   },
   {
    "duration": 26,
    "start_time": "2023-05-29T14:58:28.614Z"
   },
   {
    "duration": 274858,
    "start_time": "2023-05-29T14:58:28.642Z"
   },
   {
    "duration": 24493,
    "start_time": "2023-05-29T15:03:03.502Z"
   },
   {
    "duration": 1839,
    "start_time": "2023-05-30T11:29:23.219Z"
   },
   {
    "duration": 149,
    "start_time": "2023-05-30T11:29:25.060Z"
   },
   {
    "duration": 18,
    "start_time": "2023-05-30T11:29:25.211Z"
   },
   {
    "duration": 4,
    "start_time": "2023-05-30T11:29:25.231Z"
   },
   {
    "duration": 7,
    "start_time": "2023-05-30T11:29:25.238Z"
   },
   {
    "duration": 3,
    "start_time": "2023-05-30T11:29:25.247Z"
   },
   {
    "duration": 111,
    "start_time": "2023-05-30T11:29:25.251Z"
   },
   {
    "duration": 20,
    "start_time": "2023-05-30T11:29:25.364Z"
   },
   {
    "duration": 6,
    "start_time": "2023-05-30T11:29:25.386Z"
   },
   {
    "duration": 54,
    "start_time": "2023-05-30T11:29:25.393Z"
   },
   {
    "duration": 470653,
    "start_time": "2023-05-30T11:29:25.449Z"
   },
   {
    "duration": 38078,
    "start_time": "2023-05-30T11:37:16.104Z"
   },
   {
    "duration": 1332,
    "start_time": "2023-05-30T11:41:23.922Z"
   },
   {
    "duration": 49,
    "start_time": "2023-05-30T11:41:25.256Z"
   },
   {
    "duration": 16,
    "start_time": "2023-05-30T11:41:25.306Z"
   },
   {
    "duration": 94,
    "start_time": "2023-05-30T11:41:25.323Z"
   },
   {
    "duration": 33,
    "start_time": "2023-05-30T11:41:25.419Z"
   },
   {
    "duration": 15,
    "start_time": "2023-05-30T11:41:25.453Z"
   },
   {
    "duration": 156,
    "start_time": "2023-05-30T11:41:25.470Z"
   },
   {
    "duration": 18,
    "start_time": "2023-05-30T11:41:25.628Z"
   },
   {
    "duration": 5,
    "start_time": "2023-05-30T11:41:25.648Z"
   },
   {
    "duration": 14,
    "start_time": "2023-05-30T11:41:25.654Z"
   },
   {
    "duration": 620,
    "start_time": "2023-05-30T11:41:25.670Z"
   },
   {
    "duration": 135483,
    "start_time": "2023-05-30T11:41:26.302Z"
   },
   {
    "duration": 36591,
    "start_time": "2023-05-30T11:43:41.786Z"
   },
   {
    "duration": 299,
    "start_time": "2023-05-30T11:46:10.596Z"
   },
   {
    "duration": 1009,
    "start_time": "2023-05-30T11:46:15.782Z"
   },
   {
    "duration": 2622,
    "start_time": "2023-05-30T12:36:34.284Z"
   },
   {
    "duration": 2089,
    "start_time": "2023-05-30T12:36:49.398Z"
   },
   {
    "duration": 753,
    "start_time": "2023-05-30T12:40:36.273Z"
   },
   {
    "duration": 162,
    "start_time": "2023-05-30T12:40:59.429Z"
   },
   {
    "duration": 1314,
    "start_time": "2023-05-30T12:41:35.491Z"
   },
   {
    "duration": 47,
    "start_time": "2023-05-30T12:41:36.807Z"
   },
   {
    "duration": 15,
    "start_time": "2023-05-30T12:41:36.855Z"
   },
   {
    "duration": 50,
    "start_time": "2023-05-30T12:41:36.872Z"
   },
   {
    "duration": 14,
    "start_time": "2023-05-30T12:41:36.924Z"
   },
   {
    "duration": 5,
    "start_time": "2023-05-30T12:41:36.940Z"
   },
   {
    "duration": 131,
    "start_time": "2023-05-30T12:41:36.946Z"
   },
   {
    "duration": 32,
    "start_time": "2023-05-30T12:41:37.079Z"
   },
   {
    "duration": 7,
    "start_time": "2023-05-30T12:41:37.112Z"
   },
   {
    "duration": 17,
    "start_time": "2023-05-30T12:41:37.121Z"
   },
   {
    "duration": 1437,
    "start_time": "2023-05-30T12:41:39.384Z"
   },
   {
    "duration": 18636,
    "start_time": "2023-05-30T12:43:26.073Z"
   },
   {
    "duration": 3,
    "start_time": "2023-05-30T12:44:23.269Z"
   },
   {
    "duration": 22969,
    "start_time": "2023-05-30T12:44:38.525Z"
   },
   {
    "duration": 15305,
    "start_time": "2023-05-30T12:46:07.480Z"
   },
   {
    "duration": 1350,
    "start_time": "2023-05-30T13:01:59.101Z"
   },
   {
    "duration": 44,
    "start_time": "2023-05-30T13:02:00.453Z"
   },
   {
    "duration": 18,
    "start_time": "2023-05-30T13:02:00.499Z"
   },
   {
    "duration": 339,
    "start_time": "2023-05-30T13:02:00.519Z"
   },
   {
    "duration": 48,
    "start_time": "2023-05-30T13:02:00.862Z"
   },
   {
    "duration": 43,
    "start_time": "2023-05-30T13:02:00.913Z"
   },
   {
    "duration": 154,
    "start_time": "2023-05-30T13:02:00.958Z"
   },
   {
    "duration": 19,
    "start_time": "2023-05-30T13:02:01.113Z"
   },
   {
    "duration": 13,
    "start_time": "2023-05-30T13:02:01.134Z"
   },
   {
    "duration": 32,
    "start_time": "2023-05-30T13:02:01.149Z"
   },
   {
    "duration": 10611,
    "start_time": "2023-05-30T13:02:01.182Z"
   },
   {
    "duration": 1306245,
    "start_time": "2023-05-30T13:02:11.795Z"
   },
   {
    "duration": 0,
    "start_time": "2023-05-30T13:23:58.041Z"
   },
   {
    "duration": 0,
    "start_time": "2023-05-30T13:23:58.043Z"
   },
   {
    "duration": 0,
    "start_time": "2023-05-30T13:23:58.044Z"
   },
   {
    "duration": 0,
    "start_time": "2023-05-30T13:23:58.044Z"
   },
   {
    "duration": 0,
    "start_time": "2023-05-30T13:23:58.045Z"
   },
   {
    "duration": 0,
    "start_time": "2023-05-30T13:23:58.046Z"
   },
   {
    "duration": 4,
    "start_time": "2023-05-30T13:24:11.851Z"
   },
   {
    "duration": 45,
    "start_time": "2023-05-30T13:24:11.856Z"
   },
   {
    "duration": 16,
    "start_time": "2023-05-30T13:24:11.902Z"
   },
   {
    "duration": 8,
    "start_time": "2023-05-30T13:24:11.920Z"
   },
   {
    "duration": 8,
    "start_time": "2023-05-30T13:24:11.931Z"
   },
   {
    "duration": 5,
    "start_time": "2023-05-30T13:24:11.941Z"
   },
   {
    "duration": 162,
    "start_time": "2023-05-30T13:24:11.948Z"
   },
   {
    "duration": 18,
    "start_time": "2023-05-30T13:24:12.111Z"
   },
   {
    "duration": 7,
    "start_time": "2023-05-30T13:24:12.130Z"
   },
   {
    "duration": 8,
    "start_time": "2023-05-30T13:24:12.138Z"
   },
   {
    "duration": 11440,
    "start_time": "2023-05-30T13:24:12.147Z"
   },
   {
    "duration": 383895,
    "start_time": "2023-05-30T13:24:23.592Z"
   },
   {
    "duration": 85093,
    "start_time": "2023-05-30T13:30:47.489Z"
   },
   {
    "duration": 12199,
    "start_time": "2023-05-30T13:32:12.588Z"
   },
   {
    "duration": 98,
    "start_time": "2023-05-30T13:32:24.788Z"
   },
   {
    "duration": 0,
    "start_time": "2023-05-30T13:32:24.887Z"
   },
   {
    "duration": 0,
    "start_time": "2023-05-30T13:32:24.888Z"
   },
   {
    "duration": 0,
    "start_time": "2023-05-30T13:32:24.889Z"
   },
   {
    "duration": 8,
    "start_time": "2023-05-30T13:34:34.882Z"
   },
   {
    "duration": 79,
    "start_time": "2023-05-30T13:34:35.712Z"
   },
   {
    "duration": 11,
    "start_time": "2023-05-30T13:34:36.170Z"
   },
   {
    "duration": 20,
    "start_time": "2023-05-30T13:34:42.820Z"
   },
   {
    "duration": 16,
    "start_time": "2023-05-30T13:34:44.579Z"
   },
   {
    "duration": 11,
    "start_time": "2023-05-30T13:38:08.917Z"
   },
   {
    "duration": 9,
    "start_time": "2023-05-30T13:38:30.299Z"
   },
   {
    "duration": 33,
    "start_time": "2023-05-30T13:53:53.470Z"
   },
   {
    "duration": 64,
    "start_time": "2023-05-30T13:54:07.953Z"
   },
   {
    "duration": 1685,
    "start_time": "2023-05-30T13:54:54.884Z"
   },
   {
    "duration": 45,
    "start_time": "2023-05-30T13:54:56.570Z"
   },
   {
    "duration": 14,
    "start_time": "2023-05-30T13:54:56.617Z"
   },
   {
    "duration": 2,
    "start_time": "2023-05-30T13:54:56.633Z"
   },
   {
    "duration": 15,
    "start_time": "2023-05-30T13:54:56.637Z"
   },
   {
    "duration": 3,
    "start_time": "2023-05-30T13:54:56.654Z"
   },
   {
    "duration": 114,
    "start_time": "2023-05-30T13:54:56.659Z"
   },
   {
    "duration": 25,
    "start_time": "2023-05-30T13:54:56.775Z"
   },
   {
    "duration": 157,
    "start_time": "2023-05-30T13:55:00.073Z"
   },
   {
    "duration": 10,
    "start_time": "2023-05-30T13:55:22.769Z"
   },
   {
    "duration": 2179,
    "start_time": "2023-05-31T08:14:23.407Z"
   },
   {
    "duration": 159,
    "start_time": "2023-05-31T08:14:25.588Z"
   },
   {
    "duration": 22,
    "start_time": "2023-05-31T08:14:25.753Z"
   },
   {
    "duration": 3,
    "start_time": "2023-05-31T08:14:25.776Z"
   },
   {
    "duration": 18,
    "start_time": "2023-05-31T08:14:25.781Z"
   },
   {
    "duration": 4,
    "start_time": "2023-05-31T08:14:25.800Z"
   },
   {
    "duration": 159,
    "start_time": "2023-05-31T08:14:25.806Z"
   },
   {
    "duration": 77,
    "start_time": "2023-05-31T08:14:27.088Z"
   },
   {
    "duration": 29,
    "start_time": "2023-05-31T08:14:28.953Z"
   },
   {
    "duration": 223,
    "start_time": "2023-05-31T08:14:43.177Z"
   },
   {
    "duration": 8,
    "start_time": "2023-05-31T08:15:51.908Z"
   },
   {
    "duration": 3,
    "start_time": "2023-05-31T08:16:15.978Z"
   },
   {
    "duration": 9,
    "start_time": "2023-05-31T08:22:21.695Z"
   },
   {
    "duration": 74,
    "start_time": "2023-05-31T08:22:31.974Z"
   },
   {
    "duration": 6,
    "start_time": "2023-05-31T08:23:45.336Z"
   },
   {
    "duration": 1599,
    "start_time": "2023-05-31T08:28:19.578Z"
   },
   {
    "duration": 63,
    "start_time": "2023-05-31T08:28:21.178Z"
   },
   {
    "duration": 20,
    "start_time": "2023-05-31T08:28:21.244Z"
   },
   {
    "duration": 3,
    "start_time": "2023-05-31T08:28:21.265Z"
   },
   {
    "duration": 13,
    "start_time": "2023-05-31T08:28:21.269Z"
   },
   {
    "duration": 5,
    "start_time": "2023-05-31T08:28:21.283Z"
   },
   {
    "duration": 10,
    "start_time": "2023-05-31T08:28:21.290Z"
   },
   {
    "duration": 73,
    "start_time": "2023-05-31T08:28:24.282Z"
   },
   {
    "duration": 7,
    "start_time": "2023-05-31T08:28:28.971Z"
   },
   {
    "duration": 269,
    "start_time": "2023-05-31T08:29:12.138Z"
   },
   {
    "duration": 4,
    "start_time": "2023-05-31T08:29:18.776Z"
   },
   {
    "duration": 218,
    "start_time": "2023-05-31T08:29:51.594Z"
   },
   {
    "duration": 704,
    "start_time": "2023-05-31T08:32:32.965Z"
   },
   {
    "duration": 702,
    "start_time": "2023-05-31T08:33:06.866Z"
   },
   {
    "duration": 647,
    "start_time": "2023-05-31T08:33:19.054Z"
   },
   {
    "duration": 826,
    "start_time": "2023-05-31T08:33:29.450Z"
   },
   {
    "duration": 772,
    "start_time": "2023-05-31T08:33:55.584Z"
   },
   {
    "duration": 677,
    "start_time": "2023-05-31T08:34:41.039Z"
   },
   {
    "duration": 939,
    "start_time": "2023-05-31T08:37:02.859Z"
   },
   {
    "duration": 708,
    "start_time": "2023-05-31T08:37:35.586Z"
   },
   {
    "duration": 711,
    "start_time": "2023-05-31T08:37:51.254Z"
   },
   {
    "duration": 764,
    "start_time": "2023-05-31T08:38:00.979Z"
   },
   {
    "duration": 79,
    "start_time": "2023-05-31T09:36:30.513Z"
   },
   {
    "duration": 565,
    "start_time": "2023-05-31T09:41:45.774Z"
   },
   {
    "duration": 286,
    "start_time": "2023-05-31T09:45:36.354Z"
   },
   {
    "duration": 328,
    "start_time": "2023-05-31T09:46:02.887Z"
   },
   {
    "duration": 327,
    "start_time": "2023-05-31T09:46:21.750Z"
   },
   {
    "duration": 365,
    "start_time": "2023-05-31T09:46:30.887Z"
   },
   {
    "duration": 404,
    "start_time": "2023-05-31T09:46:44.603Z"
   },
   {
    "duration": 314,
    "start_time": "2023-05-31T09:46:53.053Z"
   },
   {
    "duration": 111,
    "start_time": "2023-05-31T09:48:20.786Z"
   },
   {
    "duration": 336,
    "start_time": "2023-05-31T10:00:47.337Z"
   },
   {
    "duration": 343,
    "start_time": "2023-05-31T10:01:00.408Z"
   },
   {
    "duration": 2019,
    "start_time": "2023-05-31T10:23:00.499Z"
   },
   {
    "duration": 57,
    "start_time": "2023-05-31T10:23:02.521Z"
   },
   {
    "duration": 20,
    "start_time": "2023-05-31T10:23:02.579Z"
   },
   {
    "duration": 3,
    "start_time": "2023-05-31T10:23:02.601Z"
   },
   {
    "duration": 79,
    "start_time": "2023-05-31T10:23:02.607Z"
   },
   {
    "duration": 6,
    "start_time": "2023-05-31T10:23:02.688Z"
   },
   {
    "duration": 52,
    "start_time": "2023-05-31T10:23:02.695Z"
   },
   {
    "duration": 824,
    "start_time": "2023-05-31T10:23:02.749Z"
   },
   {
    "duration": 159,
    "start_time": "2023-05-31T10:23:03.575Z"
   },
   {
    "duration": 539,
    "start_time": "2023-05-31T10:23:17.546Z"
   },
   {
    "duration": 153,
    "start_time": "2023-05-31T10:24:50.879Z"
   },
   {
    "duration": 2684,
    "start_time": "2023-05-31T10:25:41.044Z"
   },
   {
    "duration": 4,
    "start_time": "2023-05-31T10:27:24.578Z"
   },
   {
    "duration": 3194,
    "start_time": "2023-05-31T10:27:35.952Z"
   },
   {
    "duration": 5,
    "start_time": "2023-05-31T10:27:40.853Z"
   },
   {
    "duration": 2667,
    "start_time": "2023-05-31T10:27:41.284Z"
   },
   {
    "duration": 4,
    "start_time": "2023-05-31T10:29:38.552Z"
   },
   {
    "duration": 45,
    "start_time": "2023-05-31T10:31:38.038Z"
   },
   {
    "duration": 7,
    "start_time": "2023-05-31T10:31:47.242Z"
   },
   {
    "duration": 7,
    "start_time": "2023-05-31T10:31:48.705Z"
   },
   {
    "duration": 954,
    "start_time": "2023-05-31T10:31:50.506Z"
   },
   {
    "duration": 1713,
    "start_time": "2023-05-31T10:32:35.462Z"
   },
   {
    "duration": 61,
    "start_time": "2023-05-31T10:32:37.177Z"
   },
   {
    "duration": 21,
    "start_time": "2023-05-31T10:32:37.242Z"
   },
   {
    "duration": 3,
    "start_time": "2023-05-31T10:32:37.265Z"
   },
   {
    "duration": 13,
    "start_time": "2023-05-31T10:32:37.270Z"
   },
   {
    "duration": 10,
    "start_time": "2023-05-31T10:32:37.284Z"
   },
   {
    "duration": 945,
    "start_time": "2023-05-31T10:32:37.296Z"
   },
   {
    "duration": 418,
    "start_time": "2023-05-31T10:32:38.242Z"
   },
   {
    "duration": 4,
    "start_time": "2023-05-31T10:32:38.662Z"
   },
   {
    "duration": 4491,
    "start_time": "2023-05-31T10:32:38.667Z"
   },
   {
    "duration": 59,
    "start_time": "2023-05-31T10:32:43.161Z"
   },
   {
    "duration": 159,
    "start_time": "2023-05-31T10:32:43.232Z"
   },
   {
    "duration": 9,
    "start_time": "2023-05-31T10:32:43.392Z"
   },
   {
    "duration": 16,
    "start_time": "2023-05-31T10:32:43.404Z"
   },
   {
    "duration": 38,
    "start_time": "2023-05-31T10:32:43.425Z"
   },
   {
    "duration": 3359,
    "start_time": "2023-05-31T10:32:45.796Z"
   },
   {
    "duration": 3783,
    "start_time": "2023-05-31T10:33:04.481Z"
   },
   {
    "duration": 182,
    "start_time": "2023-05-31T10:33:10.099Z"
   },
   {
    "duration": 9,
    "start_time": "2023-05-31T10:33:15.105Z"
   },
   {
    "duration": 1907,
    "start_time": "2023-05-31T10:34:01.856Z"
   },
   {
    "duration": 49,
    "start_time": "2023-05-31T10:34:03.766Z"
   },
   {
    "duration": 26,
    "start_time": "2023-05-31T10:34:03.817Z"
   },
   {
    "duration": 34,
    "start_time": "2023-05-31T10:34:03.845Z"
   },
   {
    "duration": 17,
    "start_time": "2023-05-31T10:34:03.882Z"
   },
   {
    "duration": 6,
    "start_time": "2023-05-31T10:34:03.900Z"
   },
   {
    "duration": 963,
    "start_time": "2023-05-31T10:34:03.907Z"
   },
   {
    "duration": 438,
    "start_time": "2023-05-31T10:34:04.872Z"
   },
   {
    "duration": 15,
    "start_time": "2023-05-31T10:34:05.311Z"
   },
   {
    "duration": 2826,
    "start_time": "2023-05-31T10:34:05.330Z"
   },
   {
    "duration": 69,
    "start_time": "2023-05-31T10:34:08.169Z"
   },
   {
    "duration": 175,
    "start_time": "2023-05-31T10:34:08.249Z"
   },
   {
    "duration": 18,
    "start_time": "2023-05-31T10:34:08.426Z"
   },
   {
    "duration": 6,
    "start_time": "2023-05-31T10:34:11.770Z"
   },
   {
    "duration": 9,
    "start_time": "2023-05-31T10:34:12.143Z"
   },
   {
    "duration": 6951,
    "start_time": "2023-05-31T10:34:13.192Z"
   },
   {
    "duration": 4738,
    "start_time": "2023-05-31T10:34:20.158Z"
   },
   {
    "duration": 2042,
    "start_time": "2023-05-31T10:35:30.754Z"
   },
   {
    "duration": 77,
    "start_time": "2023-05-31T10:35:32.801Z"
   },
   {
    "duration": 26,
    "start_time": "2023-05-31T10:35:32.880Z"
   },
   {
    "duration": 6,
    "start_time": "2023-05-31T10:35:32.909Z"
   },
   {
    "duration": 57,
    "start_time": "2023-05-31T10:35:32.918Z"
   },
   {
    "duration": 17,
    "start_time": "2023-05-31T10:35:32.977Z"
   },
   {
    "duration": 1079,
    "start_time": "2023-05-31T10:35:32.996Z"
   },
   {
    "duration": 579,
    "start_time": "2023-05-31T10:35:34.077Z"
   },
   {
    "duration": 8,
    "start_time": "2023-05-31T10:35:34.659Z"
   },
   {
    "duration": 5087,
    "start_time": "2023-05-31T10:35:34.669Z"
   },
   {
    "duration": 66,
    "start_time": "2023-05-31T10:35:39.761Z"
   },
   {
    "duration": 205,
    "start_time": "2023-05-31T10:35:39.842Z"
   },
   {
    "duration": 28,
    "start_time": "2023-05-31T10:35:40.052Z"
   },
   {
    "duration": 10,
    "start_time": "2023-05-31T10:35:40.084Z"
   },
   {
    "duration": 72,
    "start_time": "2023-05-31T10:35:40.097Z"
   },
   {
    "duration": 34658,
    "start_time": "2023-05-31T10:35:42.177Z"
   },
   {
    "duration": 1724,
    "start_time": "2023-05-31T10:39:19.749Z"
   },
   {
    "duration": 62,
    "start_time": "2023-05-31T10:39:21.475Z"
   },
   {
    "duration": 32,
    "start_time": "2023-05-31T10:39:21.539Z"
   },
   {
    "duration": 13,
    "start_time": "2023-05-31T10:39:21.573Z"
   },
   {
    "duration": 17,
    "start_time": "2023-05-31T10:39:21.589Z"
   },
   {
    "duration": 15,
    "start_time": "2023-05-31T10:39:21.608Z"
   },
   {
    "duration": 1160,
    "start_time": "2023-05-31T10:39:21.625Z"
   },
   {
    "duration": 562,
    "start_time": "2023-05-31T10:39:22.787Z"
   },
   {
    "duration": 5,
    "start_time": "2023-05-31T10:39:23.351Z"
   },
   {
    "duration": 4067,
    "start_time": "2023-05-31T10:39:23.358Z"
   },
   {
    "duration": 7,
    "start_time": "2023-05-31T10:39:27.427Z"
   },
   {
    "duration": 311,
    "start_time": "2023-05-31T10:39:27.436Z"
   },
   {
    "duration": 27,
    "start_time": "2023-05-31T10:39:27.752Z"
   },
   {
    "duration": 13,
    "start_time": "2023-05-31T10:39:27.782Z"
   },
   {
    "duration": 77,
    "start_time": "2023-05-31T10:39:27.797Z"
   },
   {
    "duration": 37,
    "start_time": "2023-05-31T10:39:27.877Z"
   },
   {
    "duration": 30607,
    "start_time": "2023-05-31T10:39:27.916Z"
   },
   {
    "duration": 420001,
    "start_time": "2023-05-31T10:39:58.534Z"
   },
   {
    "duration": 130056,
    "start_time": "2023-05-31T10:46:58.548Z"
   },
   {
    "duration": 5650,
    "start_time": "2023-05-31T10:49:08.606Z"
   },
   {
    "duration": 73,
    "start_time": "2023-05-31T10:49:14.258Z"
   },
   {
    "duration": 21,
    "start_time": "2023-05-31T10:49:14.333Z"
   },
   {
    "duration": 52,
    "start_time": "2023-05-31T10:51:18.804Z"
   },
   {
    "duration": 197,
    "start_time": "2023-05-31T10:53:27.287Z"
   },
   {
    "duration": 32,
    "start_time": "2023-05-31T10:53:35.107Z"
   },
   {
    "duration": 14,
    "start_time": "2023-05-31T10:53:45.738Z"
   },
   {
    "duration": 10,
    "start_time": "2023-05-31T10:53:52.372Z"
   },
   {
    "duration": 6428,
    "start_time": "2023-05-31T10:53:59.612Z"
   },
   {
    "duration": 13,
    "start_time": "2023-05-31T10:54:07.382Z"
   },
   {
    "duration": 1766,
    "start_time": "2023-05-31T10:54:20.879Z"
   },
   {
    "duration": 63,
    "start_time": "2023-05-31T10:54:22.647Z"
   },
   {
    "duration": 29,
    "start_time": "2023-05-31T10:54:22.712Z"
   },
   {
    "duration": 11,
    "start_time": "2023-05-31T10:54:22.744Z"
   },
   {
    "duration": 25,
    "start_time": "2023-05-31T10:54:22.759Z"
   },
   {
    "duration": 6,
    "start_time": "2023-05-31T10:54:22.787Z"
   },
   {
    "duration": 928,
    "start_time": "2023-05-31T10:54:22.795Z"
   },
   {
    "duration": 419,
    "start_time": "2023-05-31T10:54:23.734Z"
   },
   {
    "duration": 4,
    "start_time": "2023-05-31T10:54:24.155Z"
   },
   {
    "duration": 3686,
    "start_time": "2023-05-31T10:54:24.161Z"
   },
   {
    "duration": 85,
    "start_time": "2023-05-31T10:54:27.850Z"
   },
   {
    "duration": 264,
    "start_time": "2023-05-31T10:54:27.946Z"
   },
   {
    "duration": 36,
    "start_time": "2023-05-31T10:54:28.212Z"
   },
   {
    "duration": 18,
    "start_time": "2023-05-31T10:54:28.252Z"
   },
   {
    "duration": 32,
    "start_time": "2023-05-31T10:54:28.272Z"
   },
   {
    "duration": 59,
    "start_time": "2023-05-31T10:54:28.308Z"
   },
   {
    "duration": 29476,
    "start_time": "2023-05-31T10:54:28.369Z"
   },
   {
    "duration": 422308,
    "start_time": "2023-05-31T10:54:57.847Z"
   },
   {
    "duration": 121464,
    "start_time": "2023-05-31T11:02:00.161Z"
   },
   {
    "duration": 7218,
    "start_time": "2023-05-31T11:04:01.630Z"
   },
   {
    "duration": 101,
    "start_time": "2023-05-31T11:04:08.851Z"
   },
   {
    "duration": 89,
    "start_time": "2023-05-31T11:04:08.954Z"
   },
   {
    "duration": 3292,
    "start_time": "2023-05-31T11:22:45.875Z"
   },
   {
    "duration": 101,
    "start_time": "2023-05-31T11:22:49.172Z"
   },
   {
    "duration": 25,
    "start_time": "2023-05-31T11:22:49.274Z"
   },
   {
    "duration": 3,
    "start_time": "2023-05-31T11:22:49.358Z"
   },
   {
    "duration": 17,
    "start_time": "2023-05-31T11:22:49.364Z"
   },
   {
    "duration": 5,
    "start_time": "2023-05-31T11:22:49.383Z"
   },
   {
    "duration": 1694,
    "start_time": "2023-05-31T11:22:49.390Z"
   },
   {
    "duration": 711,
    "start_time": "2023-05-31T11:22:51.089Z"
   },
   {
    "duration": 5,
    "start_time": "2023-05-31T11:22:51.856Z"
   },
   {
    "duration": 1502,
    "start_time": "2023-05-31T11:22:51.865Z"
   },
   {
    "duration": 6,
    "start_time": "2023-05-31T11:22:53.461Z"
   },
   {
    "duration": 241,
    "start_time": "2023-05-31T11:22:53.557Z"
   },
   {
    "duration": 75,
    "start_time": "2023-05-31T11:22:53.800Z"
   },
   {
    "duration": 10,
    "start_time": "2023-05-31T11:22:53.877Z"
   },
   {
    "duration": 74,
    "start_time": "2023-05-31T11:22:53.889Z"
   },
   {
    "duration": 30,
    "start_time": "2023-05-31T11:22:53.965Z"
   },
   {
    "duration": 12561,
    "start_time": "2023-05-31T11:22:53.997Z"
   },
   {
    "duration": 172797,
    "start_time": "2023-05-31T11:23:06.560Z"
   },
   {
    "duration": 204733,
    "start_time": "2023-05-31T11:25:59.359Z"
   },
   {
    "duration": 6263,
    "start_time": "2023-05-31T11:29:24.094Z"
   },
   {
    "duration": 104,
    "start_time": "2023-05-31T11:29:30.359Z"
   },
   {
    "duration": 95,
    "start_time": "2023-05-31T11:29:30.464Z"
   },
   {
    "duration": 1513,
    "start_time": "2023-05-31T11:45:54.344Z"
   },
   {
    "duration": 4,
    "start_time": "2023-05-31T14:08:46.941Z"
   },
   {
    "duration": 1686,
    "start_time": "2023-05-31T17:25:44.202Z"
   },
   {
    "duration": 121,
    "start_time": "2023-05-31T17:25:45.890Z"
   },
   {
    "duration": 24,
    "start_time": "2023-05-31T17:25:46.013Z"
   },
   {
    "duration": 3,
    "start_time": "2023-05-31T17:25:46.039Z"
   },
   {
    "duration": 18,
    "start_time": "2023-05-31T17:25:46.045Z"
   },
   {
    "duration": 4,
    "start_time": "2023-05-31T17:25:46.065Z"
   },
   {
    "duration": 886,
    "start_time": "2023-05-31T17:25:46.071Z"
   },
   {
    "duration": 377,
    "start_time": "2023-05-31T17:25:46.959Z"
   },
   {
    "duration": 4,
    "start_time": "2023-05-31T17:25:47.338Z"
   },
   {
    "duration": 1878,
    "start_time": "2023-05-31T17:25:52.948Z"
   },
   {
    "duration": 4,
    "start_time": "2023-05-31T17:29:48.908Z"
   },
   {
    "duration": 1622,
    "start_time": "2023-05-31T17:29:52.803Z"
   },
   {
    "duration": 1359,
    "start_time": "2023-05-31T17:38:17.648Z"
   },
   {
    "duration": 47,
    "start_time": "2023-05-31T17:38:19.010Z"
   },
   {
    "duration": 16,
    "start_time": "2023-05-31T17:38:19.059Z"
   },
   {
    "duration": 3,
    "start_time": "2023-05-31T17:38:19.076Z"
   },
   {
    "duration": 12,
    "start_time": "2023-05-31T17:38:19.081Z"
   },
   {
    "duration": 5,
    "start_time": "2023-05-31T17:38:19.095Z"
   },
   {
    "duration": 748,
    "start_time": "2023-05-31T17:38:19.101Z"
   },
   {
    "duration": 411,
    "start_time": "2023-05-31T17:38:19.851Z"
   },
   {
    "duration": 4,
    "start_time": "2023-05-31T17:38:20.263Z"
   },
   {
    "duration": 1462,
    "start_time": "2023-05-31T17:38:20.269Z"
   },
   {
    "duration": 1789,
    "start_time": "2023-05-31T17:38:21.732Z"
   },
   {
    "duration": 95,
    "start_time": "2023-05-31T17:38:23.523Z"
   },
   {
    "duration": 222,
    "start_time": "2023-05-31T17:38:23.620Z"
   },
   {
    "duration": 22,
    "start_time": "2023-05-31T17:38:23.844Z"
   },
   {
    "duration": 8,
    "start_time": "2023-05-31T17:38:23.867Z"
   },
   {
    "duration": 16,
    "start_time": "2023-05-31T17:38:23.876Z"
   },
   {
    "duration": 38,
    "start_time": "2023-05-31T17:38:23.894Z"
   },
   {
    "duration": 8393,
    "start_time": "2023-05-31T17:38:23.934Z"
   },
   {
    "duration": 633301,
    "start_time": "2023-05-31T17:38:32.329Z"
   },
   {
    "duration": 9272,
    "start_time": "2023-05-31T17:49:05.639Z"
   },
   {
    "duration": 0,
    "start_time": "2023-05-31T17:49:14.913Z"
   },
   {
    "duration": 0,
    "start_time": "2023-05-31T17:49:14.914Z"
   },
   {
    "duration": 0,
    "start_time": "2023-05-31T17:49:14.915Z"
   },
   {
    "duration": 1481,
    "start_time": "2023-05-31T17:49:27.078Z"
   },
   {
    "duration": 48,
    "start_time": "2023-05-31T17:49:28.561Z"
   },
   {
    "duration": 21,
    "start_time": "2023-05-31T17:49:28.610Z"
   },
   {
    "duration": 22,
    "start_time": "2023-05-31T17:49:28.633Z"
   },
   {
    "duration": 11,
    "start_time": "2023-05-31T17:49:28.657Z"
   },
   {
    "duration": 4,
    "start_time": "2023-05-31T17:49:28.669Z"
   },
   {
    "duration": 791,
    "start_time": "2023-05-31T17:49:28.674Z"
   },
   {
    "duration": 487,
    "start_time": "2023-05-31T17:49:29.466Z"
   },
   {
    "duration": 3,
    "start_time": "2023-05-31T17:49:29.955Z"
   },
   {
    "duration": 7767,
    "start_time": "2023-05-31T17:49:29.959Z"
   },
   {
    "duration": 5007,
    "start_time": "2023-05-31T17:49:37.732Z"
   },
   {
    "duration": 84,
    "start_time": "2023-05-31T17:49:42.741Z"
   },
   {
    "duration": 231,
    "start_time": "2023-05-31T17:49:42.832Z"
   },
   {
    "duration": 20,
    "start_time": "2023-05-31T17:49:43.065Z"
   },
   {
    "duration": 6,
    "start_time": "2023-05-31T17:49:43.087Z"
   },
   {
    "duration": 16,
    "start_time": "2023-05-31T17:49:43.094Z"
   },
   {
    "duration": 41,
    "start_time": "2023-05-31T17:49:43.111Z"
   },
   {
    "duration": 12981,
    "start_time": "2023-05-31T17:49:43.154Z"
   },
   {
    "duration": 4263,
    "start_time": "2023-05-31T17:49:56.142Z"
   },
   {
    "duration": 0,
    "start_time": "2023-05-31T17:50:00.406Z"
   },
   {
    "duration": 0,
    "start_time": "2023-05-31T17:50:00.408Z"
   },
   {
    "duration": 0,
    "start_time": "2023-05-31T17:50:00.409Z"
   },
   {
    "duration": 0,
    "start_time": "2023-05-31T17:50:00.410Z"
   },
   {
    "duration": 1618,
    "start_time": "2023-05-31T17:52:53.970Z"
   },
   {
    "duration": 94,
    "start_time": "2023-05-31T17:52:55.590Z"
   },
   {
    "duration": 18,
    "start_time": "2023-05-31T17:52:55.686Z"
   },
   {
    "duration": 3,
    "start_time": "2023-05-31T17:52:55.706Z"
   },
   {
    "duration": 46,
    "start_time": "2023-05-31T17:52:55.713Z"
   },
   {
    "duration": 6,
    "start_time": "2023-05-31T17:52:55.761Z"
   },
   {
    "duration": 816,
    "start_time": "2023-05-31T17:52:55.769Z"
   },
   {
    "duration": 486,
    "start_time": "2023-05-31T17:52:56.587Z"
   },
   {
    "duration": 4,
    "start_time": "2023-05-31T17:52:57.074Z"
   },
   {
    "duration": 6852,
    "start_time": "2023-05-31T17:52:57.079Z"
   },
   {
    "duration": 8507,
    "start_time": "2023-05-31T17:53:03.933Z"
   },
   {
    "duration": 10,
    "start_time": "2023-05-31T17:53:12.445Z"
   },
   {
    "duration": 214,
    "start_time": "2023-05-31T17:53:12.460Z"
   },
   {
    "duration": 21,
    "start_time": "2023-05-31T17:53:12.677Z"
   },
   {
    "duration": 8,
    "start_time": "2023-05-31T17:53:12.699Z"
   },
   {
    "duration": 25,
    "start_time": "2023-05-31T17:53:12.709Z"
   },
   {
    "duration": 42,
    "start_time": "2023-05-31T17:53:12.736Z"
   },
   {
    "duration": 23245,
    "start_time": "2023-05-31T17:53:12.780Z"
   },
   {
    "duration": 404336,
    "start_time": "2023-05-31T17:53:36.027Z"
   },
   {
    "duration": 103449,
    "start_time": "2023-05-31T18:00:20.436Z"
   },
   {
    "duration": 5372,
    "start_time": "2023-05-31T18:02:03.887Z"
   },
   {
    "duration": 74,
    "start_time": "2023-05-31T18:02:09.272Z"
   },
   {
    "duration": 97,
    "start_time": "2023-05-31T18:02:09.349Z"
   },
   {
    "duration": 5,
    "start_time": "2023-05-31T18:04:27.367Z"
   },
   {
    "duration": 29,
    "start_time": "2023-05-31T18:04:31.892Z"
   },
   {
    "duration": 313,
    "start_time": "2023-05-31T18:12:02.661Z"
   },
   {
    "duration": 17,
    "start_time": "2023-05-31T18:12:45.246Z"
   },
   {
    "duration": 10,
    "start_time": "2023-05-31T18:14:40.659Z"
   },
   {
    "duration": 6,
    "start_time": "2023-05-31T18:14:44.261Z"
   },
   {
    "duration": 1733,
    "start_time": "2023-06-14T11:14:20.869Z"
   },
   {
    "duration": 659,
    "start_time": "2023-06-14T11:14:53.883Z"
   },
   {
    "duration": 177,
    "start_time": "2023-06-14T11:14:56.628Z"
   },
   {
    "duration": 3,
    "start_time": "2023-06-14T11:14:59.698Z"
   },
   {
    "duration": 12,
    "start_time": "2023-06-14T11:15:00.674Z"
   },
   {
    "duration": 1048,
    "start_time": "2023-06-14T11:15:04.367Z"
   },
   {
    "duration": 3,
    "start_time": "2023-06-14T11:15:17.185Z"
   },
   {
    "duration": 136,
    "start_time": "2023-06-14T11:15:17.977Z"
   },
   {
    "duration": 25,
    "start_time": "2023-06-14T11:15:24.917Z"
   },
   {
    "duration": 7,
    "start_time": "2023-06-14T11:15:26.495Z"
   },
   {
    "duration": 10,
    "start_time": "2023-06-14T11:15:28.602Z"
   },
   {
    "duration": 30,
    "start_time": "2023-06-14T11:15:30.594Z"
   },
   {
    "duration": 37,
    "start_time": "2023-06-14T11:15:35.885Z"
   },
   {
    "duration": 32,
    "start_time": "2023-06-14T11:16:23.915Z"
   },
   {
    "duration": 21,
    "start_time": "2023-06-14T11:17:07.856Z"
   },
   {
    "duration": 90,
    "start_time": "2023-06-14T11:17:19.656Z"
   },
   {
    "duration": 3957,
    "start_time": "2023-06-14T11:17:56.232Z"
   },
   {
    "duration": 3869,
    "start_time": "2023-06-14T11:18:12.115Z"
   },
   {
    "duration": 955,
    "start_time": "2023-06-14T11:19:19.277Z"
   },
   {
    "duration": 87,
    "start_time": "2023-06-14T11:20:28.733Z"
   },
   {
    "duration": 4207,
    "start_time": "2023-06-14T11:20:42.991Z"
   },
   {
    "duration": 1745,
    "start_time": "2023-06-14T11:26:23.379Z"
   },
   {
    "duration": 52,
    "start_time": "2023-06-14T11:26:26.184Z"
   },
   {
    "duration": 2,
    "start_time": "2023-06-14T11:26:28.699Z"
   },
   {
    "duration": 21,
    "start_time": "2023-06-14T11:26:30.147Z"
   },
   {
    "duration": 1156,
    "start_time": "2023-06-14T11:26:35.287Z"
   },
   {
    "duration": 5,
    "start_time": "2023-06-14T11:26:50.720Z"
   },
   {
    "duration": 274,
    "start_time": "2023-06-14T11:26:51.134Z"
   },
   {
    "duration": 29,
    "start_time": "2023-06-14T11:26:53.471Z"
   },
   {
    "duration": 15,
    "start_time": "2023-06-14T11:26:54.150Z"
   },
   {
    "duration": 12,
    "start_time": "2023-06-14T11:26:54.823Z"
   },
   {
    "duration": 33,
    "start_time": "2023-06-14T11:26:56.578Z"
   },
   {
    "duration": 17052,
    "start_time": "2023-06-14T11:27:05.339Z"
   },
   {
    "duration": 7794,
    "start_time": "2023-06-14T11:27:53.307Z"
   },
   {
    "duration": 88384,
    "start_time": "2023-06-14T11:31:36.670Z"
   },
   {
    "duration": 195836,
    "start_time": "2023-06-14T11:34:33.504Z"
   },
   {
    "duration": 185959,
    "start_time": "2023-06-14T11:38:24.617Z"
   },
   {
    "duration": 1706,
    "start_time": "2023-11-13T00:13:31.869Z"
   },
   {
    "duration": 152,
    "start_time": "2023-11-13T00:13:33.578Z"
   },
   {
    "duration": 17,
    "start_time": "2023-11-13T00:13:33.731Z"
   },
   {
    "duration": 5,
    "start_time": "2023-11-13T00:13:33.750Z"
   },
   {
    "duration": 9,
    "start_time": "2023-11-13T00:13:33.757Z"
   },
   {
    "duration": 3,
    "start_time": "2023-11-13T00:13:33.768Z"
   },
   {
    "duration": 817,
    "start_time": "2023-11-13T00:13:33.772Z"
   },
   {
    "duration": 359,
    "start_time": "2023-11-13T00:13:34.591Z"
   },
   {
    "duration": 3,
    "start_time": "2023-11-13T00:13:34.952Z"
   },
   {
    "duration": 3747,
    "start_time": "2023-11-13T00:13:34.956Z"
   },
   {
    "duration": 2393,
    "start_time": "2023-11-13T00:13:38.706Z"
   },
   {
    "duration": 95,
    "start_time": "2023-11-13T00:13:41.104Z"
   },
   {
    "duration": 133,
    "start_time": "2023-11-13T00:13:41.201Z"
   },
   {
    "duration": 20,
    "start_time": "2023-11-13T00:13:41.336Z"
   },
   {
    "duration": 6,
    "start_time": "2023-11-13T00:13:41.358Z"
   },
   {
    "duration": 9,
    "start_time": "2023-11-13T00:13:41.366Z"
   },
   {
    "duration": 44,
    "start_time": "2023-11-13T00:13:41.376Z"
   },
   {
    "duration": 5279,
    "start_time": "2023-11-13T00:13:41.422Z"
   },
   {
    "duration": 135500,
    "start_time": "2023-11-13T00:13:46.703Z"
   },
   {
    "duration": 80722,
    "start_time": "2023-11-13T00:16:02.204Z"
   },
   {
    "duration": 3179,
    "start_time": "2023-11-13T00:17:22.928Z"
   },
   {
    "duration": 14,
    "start_time": "2023-11-13T00:17:26.198Z"
   },
   {
    "duration": 199,
    "start_time": "2023-11-13T00:17:26.214Z"
   },
   {
    "duration": 0,
    "start_time": "2023-11-13T00:17:26.414Z"
   },
   {
    "duration": 0,
    "start_time": "2023-11-13T00:17:26.416Z"
   },
   {
    "duration": 13,
    "start_time": "2023-11-13T00:18:05.059Z"
   },
   {
    "duration": 35,
    "start_time": "2023-11-13T00:18:36.964Z"
   },
   {
    "duration": 6,
    "start_time": "2023-11-13T00:19:24.403Z"
   },
   {
    "duration": 5,
    "start_time": "2023-11-13T00:19:30.531Z"
   }
  ],
  "kernelspec": {
   "display_name": "Python 3 (ipykernel)",
   "language": "python",
   "name": "python3"
  },
  "language_info": {
   "codemirror_mode": {
    "name": "ipython",
    "version": 3
   },
   "file_extension": ".py",
   "mimetype": "text/x-python",
   "name": "python",
   "nbconvert_exporter": "python",
   "pygments_lexer": "ipython3",
   "version": "3.9.5"
  },
  "toc": {
   "base_numbering": 1,
   "nav_menu": {},
   "number_sections": true,
   "sideBar": true,
   "skip_h1_title": true,
   "title_cell": "Содержание",
   "title_sidebar": "Contents",
   "toc_cell": true,
   "toc_position": {},
   "toc_section_display": true,
   "toc_window_display": true
  }
 },
 "nbformat": 4,
 "nbformat_minor": 2
}
