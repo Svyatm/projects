{
 "cells": [
  {
   "cell_type": "markdown",
   "metadata": {},
   "source": [
    "# Определение стоимости автомобилей"
   ]
  },
  {
   "cell_type": "markdown",
   "metadata": {},
   "source": [
    "Сервис по продаже автомобилей с пробегом «Не бит, не крашен» разрабатывает приложение для привлечения новых клиентов. В нём можно быстро узнать рыночную стоимость своего автомобиля. В вашем распоряжении исторические данные: технические характеристики, комплектации и цены автомобилей. Вам нужно построить модель для определения стоимости. \n",
    "\n",
    "Заказчику важны:\n",
    "\n",
    "- качество предсказания;\n",
    "- скорость предсказания;\n",
    "- время обучения."
   ]
  },
  {
   "cell_type": "markdown",
   "metadata": {},
   "source": [
    "## Подготовка данных"
   ]
  },
  {
   "cell_type": "code",
   "execution_count": 1,
   "metadata": {},
   "outputs": [
    {
     "name": "stdout",
     "output_type": "stream",
     "text": [
      "Collecting category_encoders\n",
      "  Downloading category_encoders-2.6.1-py2.py3-none-any.whl (81 kB)\n",
      "\u001b[K     |████████████████████████████████| 81 kB 25 kB/s  eta 0:00:011\n",
      "\u001b[?25hRequirement already satisfied: numpy>=1.14.0 in /opt/conda/lib/python3.9/site-packages (from category_encoders) (1.21.1)\n",
      "Requirement already satisfied: scipy>=1.0.0 in /opt/conda/lib/python3.9/site-packages (from category_encoders) (1.9.1)\n",
      "Requirement already satisfied: statsmodels>=0.9.0 in /opt/conda/lib/python3.9/site-packages (from category_encoders) (0.13.2)\n",
      "Requirement already satisfied: patsy>=0.5.1 in /opt/conda/lib/python3.9/site-packages (from category_encoders) (0.5.2)\n",
      "Requirement already satisfied: scikit-learn>=0.20.0 in /opt/conda/lib/python3.9/site-packages (from category_encoders) (0.24.1)\n",
      "Requirement already satisfied: pandas>=1.0.5 in /opt/conda/lib/python3.9/site-packages (from category_encoders) (1.2.4)\n",
      "Requirement already satisfied: python-dateutil>=2.7.3 in /opt/conda/lib/python3.9/site-packages (from pandas>=1.0.5->category_encoders) (2.8.1)\n",
      "Requirement already satisfied: pytz>=2017.3 in /opt/conda/lib/python3.9/site-packages (from pandas>=1.0.5->category_encoders) (2021.1)\n",
      "Requirement already satisfied: six in /opt/conda/lib/python3.9/site-packages (from patsy>=0.5.1->category_encoders) (1.16.0)\n",
      "Requirement already satisfied: threadpoolctl>=2.0.0 in /opt/conda/lib/python3.9/site-packages (from scikit-learn>=0.20.0->category_encoders) (3.1.0)\n",
      "Requirement already satisfied: joblib>=0.11 in /opt/conda/lib/python3.9/site-packages (from scikit-learn>=0.20.0->category_encoders) (1.1.0)\n",
      "Requirement already satisfied: packaging>=21.3 in /opt/conda/lib/python3.9/site-packages (from statsmodels>=0.9.0->category_encoders) (21.3)\n",
      "Requirement already satisfied: pyparsing!=3.0.5,>=2.0.2 in /opt/conda/lib/python3.9/site-packages (from packaging>=21.3->statsmodels>=0.9.0->category_encoders) (2.4.7)\n",
      "Installing collected packages: category-encoders\n",
      "Successfully installed category-encoders-2.6.1\n"
     ]
    }
   ],
   "source": [
    "!pip install category_encoders"
   ]
  },
  {
   "cell_type": "code",
   "execution_count": 2,
   "metadata": {},
   "outputs": [],
   "source": [
    "import pandas as pd\n",
    "import numpy as np\n",
    "import seaborn as sns\n",
    "import matplotlib.pyplot as plt\n",
    "from sklearn.model_selection import train_test_split\n",
    "from sklearn.preprocessing import OneHotEncoder, StandardScaler\n",
    "from category_encoders import TargetEncoder\n",
    "from sklearn.model_selection import RandomizedSearchCV, cross_val_score\n",
    "from sklearn.metrics import mean_squared_error as mse\n",
    "import time\n",
    "import lightgbm as lgb\n",
    "from catboost import CatBoostRegressor\n",
    "from sklearn.linear_model import LinearRegression\n",
    "from sklearn.compose import ColumnTransformer"
   ]
  },
  {
   "cell_type": "code",
   "execution_count": 3,
   "metadata": {},
   "outputs": [],
   "source": [
    "#Загружаем данные в переменную\n",
    "df = pd.read_csv('/datasets/autos.csv')"
   ]
  },
  {
   "cell_type": "code",
   "execution_count": 4,
   "metadata": {},
   "outputs": [
    {
     "name": "stdout",
     "output_type": "stream",
     "text": [
      "<class 'pandas.core.frame.DataFrame'>\n",
      "RangeIndex: 354369 entries, 0 to 354368\n",
      "Data columns (total 16 columns):\n",
      " #   Column             Non-Null Count   Dtype \n",
      "---  ------             --------------   ----- \n",
      " 0   DateCrawled        354369 non-null  object\n",
      " 1   Price              354369 non-null  int64 \n",
      " 2   VehicleType        316879 non-null  object\n",
      " 3   RegistrationYear   354369 non-null  int64 \n",
      " 4   Gearbox            334536 non-null  object\n",
      " 5   Power              354369 non-null  int64 \n",
      " 6   Model              334664 non-null  object\n",
      " 7   Kilometer          354369 non-null  int64 \n",
      " 8   RegistrationMonth  354369 non-null  int64 \n",
      " 9   FuelType           321474 non-null  object\n",
      " 10  Brand              354369 non-null  object\n",
      " 11  Repaired           283215 non-null  object\n",
      " 12  DateCreated        354369 non-null  object\n",
      " 13  NumberOfPictures   354369 non-null  int64 \n",
      " 14  PostalCode         354369 non-null  int64 \n",
      " 15  LastSeen           354369 non-null  object\n",
      "dtypes: int64(7), object(9)\n",
      "memory usage: 43.3+ MB\n"
     ]
    },
    {
     "data": {
      "text/html": [
       "<div>\n",
       "<style scoped>\n",
       "    .dataframe tbody tr th:only-of-type {\n",
       "        vertical-align: middle;\n",
       "    }\n",
       "\n",
       "    .dataframe tbody tr th {\n",
       "        vertical-align: top;\n",
       "    }\n",
       "\n",
       "    .dataframe thead th {\n",
       "        text-align: right;\n",
       "    }\n",
       "</style>\n",
       "<table border=\"1\" class=\"dataframe\">\n",
       "  <thead>\n",
       "    <tr style=\"text-align: right;\">\n",
       "      <th></th>\n",
       "      <th>DateCrawled</th>\n",
       "      <th>Price</th>\n",
       "      <th>VehicleType</th>\n",
       "      <th>RegistrationYear</th>\n",
       "      <th>Gearbox</th>\n",
       "      <th>Power</th>\n",
       "      <th>Model</th>\n",
       "      <th>Kilometer</th>\n",
       "      <th>RegistrationMonth</th>\n",
       "      <th>FuelType</th>\n",
       "      <th>Brand</th>\n",
       "      <th>Repaired</th>\n",
       "      <th>DateCreated</th>\n",
       "      <th>NumberOfPictures</th>\n",
       "      <th>PostalCode</th>\n",
       "      <th>LastSeen</th>\n",
       "    </tr>\n",
       "  </thead>\n",
       "  <tbody>\n",
       "    <tr>\n",
       "      <th>0</th>\n",
       "      <td>2016-03-24 11:52:17</td>\n",
       "      <td>480</td>\n",
       "      <td>NaN</td>\n",
       "      <td>1993</td>\n",
       "      <td>manual</td>\n",
       "      <td>0</td>\n",
       "      <td>golf</td>\n",
       "      <td>150000</td>\n",
       "      <td>0</td>\n",
       "      <td>petrol</td>\n",
       "      <td>volkswagen</td>\n",
       "      <td>NaN</td>\n",
       "      <td>2016-03-24 00:00:00</td>\n",
       "      <td>0</td>\n",
       "      <td>70435</td>\n",
       "      <td>2016-04-07 03:16:57</td>\n",
       "    </tr>\n",
       "    <tr>\n",
       "      <th>1</th>\n",
       "      <td>2016-03-24 10:58:45</td>\n",
       "      <td>18300</td>\n",
       "      <td>coupe</td>\n",
       "      <td>2011</td>\n",
       "      <td>manual</td>\n",
       "      <td>190</td>\n",
       "      <td>NaN</td>\n",
       "      <td>125000</td>\n",
       "      <td>5</td>\n",
       "      <td>gasoline</td>\n",
       "      <td>audi</td>\n",
       "      <td>yes</td>\n",
       "      <td>2016-03-24 00:00:00</td>\n",
       "      <td>0</td>\n",
       "      <td>66954</td>\n",
       "      <td>2016-04-07 01:46:50</td>\n",
       "    </tr>\n",
       "    <tr>\n",
       "      <th>2</th>\n",
       "      <td>2016-03-14 12:52:21</td>\n",
       "      <td>9800</td>\n",
       "      <td>suv</td>\n",
       "      <td>2004</td>\n",
       "      <td>auto</td>\n",
       "      <td>163</td>\n",
       "      <td>grand</td>\n",
       "      <td>125000</td>\n",
       "      <td>8</td>\n",
       "      <td>gasoline</td>\n",
       "      <td>jeep</td>\n",
       "      <td>NaN</td>\n",
       "      <td>2016-03-14 00:00:00</td>\n",
       "      <td>0</td>\n",
       "      <td>90480</td>\n",
       "      <td>2016-04-05 12:47:46</td>\n",
       "    </tr>\n",
       "    <tr>\n",
       "      <th>3</th>\n",
       "      <td>2016-03-17 16:54:04</td>\n",
       "      <td>1500</td>\n",
       "      <td>small</td>\n",
       "      <td>2001</td>\n",
       "      <td>manual</td>\n",
       "      <td>75</td>\n",
       "      <td>golf</td>\n",
       "      <td>150000</td>\n",
       "      <td>6</td>\n",
       "      <td>petrol</td>\n",
       "      <td>volkswagen</td>\n",
       "      <td>no</td>\n",
       "      <td>2016-03-17 00:00:00</td>\n",
       "      <td>0</td>\n",
       "      <td>91074</td>\n",
       "      <td>2016-03-17 17:40:17</td>\n",
       "    </tr>\n",
       "    <tr>\n",
       "      <th>4</th>\n",
       "      <td>2016-03-31 17:25:20</td>\n",
       "      <td>3600</td>\n",
       "      <td>small</td>\n",
       "      <td>2008</td>\n",
       "      <td>manual</td>\n",
       "      <td>69</td>\n",
       "      <td>fabia</td>\n",
       "      <td>90000</td>\n",
       "      <td>7</td>\n",
       "      <td>gasoline</td>\n",
       "      <td>skoda</td>\n",
       "      <td>no</td>\n",
       "      <td>2016-03-31 00:00:00</td>\n",
       "      <td>0</td>\n",
       "      <td>60437</td>\n",
       "      <td>2016-04-06 10:17:21</td>\n",
       "    </tr>\n",
       "    <tr>\n",
       "      <th>5</th>\n",
       "      <td>2016-04-04 17:36:23</td>\n",
       "      <td>650</td>\n",
       "      <td>sedan</td>\n",
       "      <td>1995</td>\n",
       "      <td>manual</td>\n",
       "      <td>102</td>\n",
       "      <td>3er</td>\n",
       "      <td>150000</td>\n",
       "      <td>10</td>\n",
       "      <td>petrol</td>\n",
       "      <td>bmw</td>\n",
       "      <td>yes</td>\n",
       "      <td>2016-04-04 00:00:00</td>\n",
       "      <td>0</td>\n",
       "      <td>33775</td>\n",
       "      <td>2016-04-06 19:17:07</td>\n",
       "    </tr>\n",
       "    <tr>\n",
       "      <th>6</th>\n",
       "      <td>2016-04-01 20:48:51</td>\n",
       "      <td>2200</td>\n",
       "      <td>convertible</td>\n",
       "      <td>2004</td>\n",
       "      <td>manual</td>\n",
       "      <td>109</td>\n",
       "      <td>2_reihe</td>\n",
       "      <td>150000</td>\n",
       "      <td>8</td>\n",
       "      <td>petrol</td>\n",
       "      <td>peugeot</td>\n",
       "      <td>no</td>\n",
       "      <td>2016-04-01 00:00:00</td>\n",
       "      <td>0</td>\n",
       "      <td>67112</td>\n",
       "      <td>2016-04-05 18:18:39</td>\n",
       "    </tr>\n",
       "    <tr>\n",
       "      <th>7</th>\n",
       "      <td>2016-03-21 18:54:38</td>\n",
       "      <td>0</td>\n",
       "      <td>sedan</td>\n",
       "      <td>1980</td>\n",
       "      <td>manual</td>\n",
       "      <td>50</td>\n",
       "      <td>other</td>\n",
       "      <td>40000</td>\n",
       "      <td>7</td>\n",
       "      <td>petrol</td>\n",
       "      <td>volkswagen</td>\n",
       "      <td>no</td>\n",
       "      <td>2016-03-21 00:00:00</td>\n",
       "      <td>0</td>\n",
       "      <td>19348</td>\n",
       "      <td>2016-03-25 16:47:58</td>\n",
       "    </tr>\n",
       "    <tr>\n",
       "      <th>8</th>\n",
       "      <td>2016-04-04 23:42:13</td>\n",
       "      <td>14500</td>\n",
       "      <td>bus</td>\n",
       "      <td>2014</td>\n",
       "      <td>manual</td>\n",
       "      <td>125</td>\n",
       "      <td>c_max</td>\n",
       "      <td>30000</td>\n",
       "      <td>8</td>\n",
       "      <td>petrol</td>\n",
       "      <td>ford</td>\n",
       "      <td>NaN</td>\n",
       "      <td>2016-04-04 00:00:00</td>\n",
       "      <td>0</td>\n",
       "      <td>94505</td>\n",
       "      <td>2016-04-04 23:42:13</td>\n",
       "    </tr>\n",
       "    <tr>\n",
       "      <th>9</th>\n",
       "      <td>2016-03-17 10:53:50</td>\n",
       "      <td>999</td>\n",
       "      <td>small</td>\n",
       "      <td>1998</td>\n",
       "      <td>manual</td>\n",
       "      <td>101</td>\n",
       "      <td>golf</td>\n",
       "      <td>150000</td>\n",
       "      <td>0</td>\n",
       "      <td>NaN</td>\n",
       "      <td>volkswagen</td>\n",
       "      <td>NaN</td>\n",
       "      <td>2016-03-17 00:00:00</td>\n",
       "      <td>0</td>\n",
       "      <td>27472</td>\n",
       "      <td>2016-03-31 17:17:06</td>\n",
       "    </tr>\n",
       "  </tbody>\n",
       "</table>\n",
       "</div>"
      ],
      "text/plain": [
       "           DateCrawled  Price  VehicleType  RegistrationYear Gearbox  Power  \\\n",
       "0  2016-03-24 11:52:17    480          NaN              1993  manual      0   \n",
       "1  2016-03-24 10:58:45  18300        coupe              2011  manual    190   \n",
       "2  2016-03-14 12:52:21   9800          suv              2004    auto    163   \n",
       "3  2016-03-17 16:54:04   1500        small              2001  manual     75   \n",
       "4  2016-03-31 17:25:20   3600        small              2008  manual     69   \n",
       "5  2016-04-04 17:36:23    650        sedan              1995  manual    102   \n",
       "6  2016-04-01 20:48:51   2200  convertible              2004  manual    109   \n",
       "7  2016-03-21 18:54:38      0        sedan              1980  manual     50   \n",
       "8  2016-04-04 23:42:13  14500          bus              2014  manual    125   \n",
       "9  2016-03-17 10:53:50    999        small              1998  manual    101   \n",
       "\n",
       "     Model  Kilometer  RegistrationMonth  FuelType       Brand Repaired  \\\n",
       "0     golf     150000                  0    petrol  volkswagen      NaN   \n",
       "1      NaN     125000                  5  gasoline        audi      yes   \n",
       "2    grand     125000                  8  gasoline        jeep      NaN   \n",
       "3     golf     150000                  6    petrol  volkswagen       no   \n",
       "4    fabia      90000                  7  gasoline       skoda       no   \n",
       "5      3er     150000                 10    petrol         bmw      yes   \n",
       "6  2_reihe     150000                  8    petrol     peugeot       no   \n",
       "7    other      40000                  7    petrol  volkswagen       no   \n",
       "8    c_max      30000                  8    petrol        ford      NaN   \n",
       "9     golf     150000                  0       NaN  volkswagen      NaN   \n",
       "\n",
       "           DateCreated  NumberOfPictures  PostalCode             LastSeen  \n",
       "0  2016-03-24 00:00:00                 0       70435  2016-04-07 03:16:57  \n",
       "1  2016-03-24 00:00:00                 0       66954  2016-04-07 01:46:50  \n",
       "2  2016-03-14 00:00:00                 0       90480  2016-04-05 12:47:46  \n",
       "3  2016-03-17 00:00:00                 0       91074  2016-03-17 17:40:17  \n",
       "4  2016-03-31 00:00:00                 0       60437  2016-04-06 10:17:21  \n",
       "5  2016-04-04 00:00:00                 0       33775  2016-04-06 19:17:07  \n",
       "6  2016-04-01 00:00:00                 0       67112  2016-04-05 18:18:39  \n",
       "7  2016-03-21 00:00:00                 0       19348  2016-03-25 16:47:58  \n",
       "8  2016-04-04 00:00:00                 0       94505  2016-04-04 23:42:13  \n",
       "9  2016-03-17 00:00:00                 0       27472  2016-03-31 17:17:06  "
      ]
     },
     "execution_count": 4,
     "metadata": {},
     "output_type": "execute_result"
    }
   ],
   "source": [
    "#Знакомимся с данными\n",
    "df.info()\n",
    "\n",
    "df.head(10)"
   ]
  },
  {
   "cell_type": "code",
   "execution_count": 5,
   "metadata": {},
   "outputs": [
    {
     "data": {
      "text/plain": [
       "'2016-04-07 14:36:58'"
      ]
     },
     "execution_count": 5,
     "metadata": {},
     "output_type": "execute_result"
    }
   ],
   "source": [
    "#Проверим последнюю дату выгрузки анкеты из базы\n",
    "df['DateCrawled'].max()"
   ]
  },
  {
   "cell_type": "markdown",
   "metadata": {},
   "source": [
    "Последняя дата выгрузки - 7 апреля 2016. Запомним эту дату, она может пригодиться в будущем для анализа."
   ]
  },
  {
   "cell_type": "code",
   "execution_count": 6,
   "metadata": {},
   "outputs": [
    {
     "data": {
      "text/plain": [
       "4"
      ]
     },
     "execution_count": 6,
     "metadata": {},
     "output_type": "execute_result"
    }
   ],
   "source": [
    "#Проверяем наличие явных дубликатов\n",
    "df.duplicated().sum()"
   ]
  },
  {
   "cell_type": "code",
   "execution_count": 7,
   "metadata": {},
   "outputs": [
    {
     "data": {
      "text/plain": [
       "0"
      ]
     },
     "execution_count": 7,
     "metadata": {},
     "output_type": "execute_result"
    }
   ],
   "source": [
    "#Удаляем явные дубликаты\n",
    "df = df.drop_duplicates().reset_index(drop=True)\n",
    "\n",
    "#Проверяем\n",
    "df.duplicated().sum()"
   ]
  },
  {
   "cell_type": "code",
   "execution_count": 8,
   "metadata": {},
   "outputs": [
    {
     "name": "stdout",
     "output_type": "stream",
     "text": [
      "<class 'pandas.core.frame.DataFrame'>\n",
      "RangeIndex: 354365 entries, 0 to 354364\n",
      "Data columns (total 11 columns):\n",
      " #   Column             Non-Null Count   Dtype \n",
      "---  ------             --------------   ----- \n",
      " 0   Price              354365 non-null  int64 \n",
      " 1   VehicleType        316875 non-null  object\n",
      " 2   RegistrationYear   354365 non-null  int64 \n",
      " 3   Gearbox            334532 non-null  object\n",
      " 4   Power              354365 non-null  int64 \n",
      " 5   Model              334660 non-null  object\n",
      " 6   Kilometer          354365 non-null  int64 \n",
      " 7   RegistrationMonth  354365 non-null  int64 \n",
      " 8   FuelType           321470 non-null  object\n",
      " 9   Brand              354365 non-null  object\n",
      " 10  Repaired           283211 non-null  object\n",
      "dtypes: int64(5), object(6)\n",
      "memory usage: 29.7+ MB\n"
     ]
    }
   ],
   "source": [
    "#Удалим лишние столбцы\n",
    "df = df.drop(['DateCrawled', 'DateCreated', 'NumberOfPictures', 'PostalCode', 'LastSeen'], axis=1).reset_index(drop=True)\n",
    "\n",
    "#Проверяем\n",
    "df.info()"
   ]
  },
  {
   "cell_type": "code",
   "execution_count": 9,
   "metadata": {},
   "outputs": [
    {
     "name": "stdout",
     "output_type": "stream",
     "text": [
      "<class 'pandas.core.frame.DataFrame'>\n",
      "RangeIndex: 354365 entries, 0 to 354364\n",
      "Data columns (total 11 columns):\n",
      " #   Column              Non-Null Count   Dtype \n",
      "---  ------              --------------   ----- \n",
      " 0   price               354365 non-null  int64 \n",
      " 1   vehicle_type        316875 non-null  object\n",
      " 2   registration_year   354365 non-null  int64 \n",
      " 3   gearbox             334532 non-null  object\n",
      " 4   power               354365 non-null  int64 \n",
      " 5   model               334660 non-null  object\n",
      " 6   kilometer           354365 non-null  int64 \n",
      " 7   registration_month  354365 non-null  int64 \n",
      " 8   fuel_type           321470 non-null  object\n",
      " 9   brand               354365 non-null  object\n",
      " 10  repaired            283211 non-null  object\n",
      "dtypes: int64(5), object(6)\n",
      "memory usage: 29.7+ MB\n"
     ]
    }
   ],
   "source": [
    "#Приведем столбцы к змеиному_регистру\n",
    "df.columns = ['price',\n",
    "              'vehicle_type',\n",
    "              'registration_year',\n",
    "              'gearbox',\n",
    "              'power',\n",
    "              'model',\n",
    "              'kilometer',\n",
    "              'registration_month',\n",
    "              'fuel_type',\n",
    "              'brand',\n",
    "              'repaired']\n",
    "\n",
    "#Проверяем\n",
    "df.info()"
   ]
  },
  {
   "cell_type": "code",
   "execution_count": 10,
   "metadata": {},
   "outputs": [
    {
     "data": {
      "text/html": [
       "<div>\n",
       "<style scoped>\n",
       "    .dataframe tbody tr th:only-of-type {\n",
       "        vertical-align: middle;\n",
       "    }\n",
       "\n",
       "    .dataframe tbody tr th {\n",
       "        vertical-align: top;\n",
       "    }\n",
       "\n",
       "    .dataframe thead th {\n",
       "        text-align: right;\n",
       "    }\n",
       "</style>\n",
       "<table border=\"1\" class=\"dataframe\">\n",
       "  <thead>\n",
       "    <tr style=\"text-align: right;\">\n",
       "      <th></th>\n",
       "      <th>Пропусков</th>\n",
       "      <th>%</th>\n",
       "      <th>Тип данных</th>\n",
       "    </tr>\n",
       "  </thead>\n",
       "  <tbody>\n",
       "    <tr>\n",
       "      <th>repaired</th>\n",
       "      <td>71154</td>\n",
       "      <td>20.08</td>\n",
       "      <td>object</td>\n",
       "    </tr>\n",
       "    <tr>\n",
       "      <th>vehicle_type</th>\n",
       "      <td>37490</td>\n",
       "      <td>10.58</td>\n",
       "      <td>object</td>\n",
       "    </tr>\n",
       "    <tr>\n",
       "      <th>fuel_type</th>\n",
       "      <td>32895</td>\n",
       "      <td>9.28</td>\n",
       "      <td>object</td>\n",
       "    </tr>\n",
       "    <tr>\n",
       "      <th>gearbox</th>\n",
       "      <td>19833</td>\n",
       "      <td>5.60</td>\n",
       "      <td>object</td>\n",
       "    </tr>\n",
       "    <tr>\n",
       "      <th>model</th>\n",
       "      <td>19705</td>\n",
       "      <td>5.56</td>\n",
       "      <td>object</td>\n",
       "    </tr>\n",
       "    <tr>\n",
       "      <th>price</th>\n",
       "      <td>0</td>\n",
       "      <td>0.00</td>\n",
       "      <td>int64</td>\n",
       "    </tr>\n",
       "    <tr>\n",
       "      <th>registration_year</th>\n",
       "      <td>0</td>\n",
       "      <td>0.00</td>\n",
       "      <td>int64</td>\n",
       "    </tr>\n",
       "    <tr>\n",
       "      <th>power</th>\n",
       "      <td>0</td>\n",
       "      <td>0.00</td>\n",
       "      <td>int64</td>\n",
       "    </tr>\n",
       "    <tr>\n",
       "      <th>kilometer</th>\n",
       "      <td>0</td>\n",
       "      <td>0.00</td>\n",
       "      <td>int64</td>\n",
       "    </tr>\n",
       "    <tr>\n",
       "      <th>registration_month</th>\n",
       "      <td>0</td>\n",
       "      <td>0.00</td>\n",
       "      <td>int64</td>\n",
       "    </tr>\n",
       "    <tr>\n",
       "      <th>brand</th>\n",
       "      <td>0</td>\n",
       "      <td>0.00</td>\n",
       "      <td>object</td>\n",
       "    </tr>\n",
       "  </tbody>\n",
       "</table>\n",
       "</div>"
      ],
      "text/plain": [
       "                    Пропусков      % Тип данных\n",
       "repaired                71154  20.08     object\n",
       "vehicle_type            37490  10.58     object\n",
       "fuel_type               32895   9.28     object\n",
       "gearbox                 19833   5.60     object\n",
       "model                   19705   5.56     object\n",
       "price                       0   0.00      int64\n",
       "registration_year           0   0.00      int64\n",
       "power                       0   0.00      int64\n",
       "kilometer                   0   0.00      int64\n",
       "registration_month          0   0.00      int64\n",
       "brand                       0   0.00     object"
      ]
     },
     "metadata": {},
     "output_type": "display_data"
    }
   ],
   "source": [
    "#Проверяем кол-во пропуском в данных\n",
    "missing = pd.DataFrame(\n",
    "    {'Пропусков': df.isna().sum(),\n",
    "     '%': (df.isna().sum() / len(df) * 100).round(2), 'Тип данных': df.dtypes})\\\n",
    ".sort_values(by='Пропусков', ascending=False)\n",
    "\n",
    "display(missing)"
   ]
  },
  {
   "cell_type": "markdown",
   "metadata": {},
   "source": [
    "Пропуски остались только в столбцах с текстовыми данными, что может говорить о том, что люди, заполнявшие данные, просто игнорировали ряд столбцов по тем или иным причинам. Например, пропуски в столбце `repaired`, вероятно, говорят об отсутствии ремонта."
   ]
  },
  {
   "cell_type": "code",
   "execution_count": 11,
   "metadata": {},
   "outputs": [
    {
     "data": {
      "text/plain": [
       "no     247158\n",
       "yes     36053\n",
       "Name: repaired, dtype: int64"
      ]
     },
     "execution_count": 11,
     "metadata": {},
     "output_type": "execute_result"
    }
   ],
   "source": [
    "#Изучим столбец 'repaired'\n",
    "df['repaired'].value_counts()"
   ]
  },
  {
   "cell_type": "markdown",
   "metadata": {},
   "source": [
    "Поскольку столбец предполагает бинарные ответы да-нет, заменим ответы да на 1, а ответы нет на 0. Как говорили ранее, имеет смысл заменить пропуски на 0."
   ]
  },
  {
   "cell_type": "code",
   "execution_count": 12,
   "metadata": {},
   "outputs": [
    {
     "data": {
      "text/plain": [
       "0    318312\n",
       "1     36053\n",
       "Name: repaired, dtype: int64"
      ]
     },
     "execution_count": 12,
     "metadata": {},
     "output_type": "execute_result"
    }
   ],
   "source": [
    "#Заполняем пропуски и меняем значения на 1 и 0\n",
    "df['repaired'] = df['repaired'].fillna(0)\n",
    "df['repaired'] = df['repaired'].replace({'yes':1, 'no':0})\n",
    "\n",
    "#Проверяем\n",
    "df['repaired'].value_counts()"
   ]
  },
  {
   "cell_type": "code",
   "execution_count": 13,
   "metadata": {},
   "outputs": [
    {
     "data": {
      "text/plain": [
       "2392"
      ]
     },
     "execution_count": 13,
     "metadata": {},
     "output_type": "execute_result"
    }
   ],
   "source": [
    "#Проверим количество строк с пропусками во всех 4 столбцах\n",
    "missing_rows = df[[\n",
    "    'vehicle_type',\n",
    "    'fuel_type',\n",
    "    'model',\n",
    "    'gearbox']].isna().all(axis=1).sum()\n",
    "\n",
    "missing_rows"
   ]
  },
  {
   "cell_type": "markdown",
   "metadata": {},
   "source": [
    "Такие строки лучше удалить, слишком много отсутствующих данных, которые могут повлиять на обучение модели."
   ]
  },
  {
   "cell_type": "code",
   "execution_count": 14,
   "metadata": {},
   "outputs": [],
   "source": [
    "#Удаляем\n",
    "df = df.dropna(subset=[\n",
    "    'vehicle_type',\n",
    "    'fuel_type',\n",
    "    'model',\n",
    "    'gearbox'], how='all').reset_index(drop=True)"
   ]
  },
  {
   "cell_type": "markdown",
   "metadata": {},
   "source": [
    "Остальные пропуски, чтобы не удалять слишком много данных, заменим на `unknown`"
   ]
  },
  {
   "cell_type": "code",
   "execution_count": 15,
   "metadata": {},
   "outputs": [
    {
     "data": {
      "text/plain": [
       "price                 0\n",
       "vehicle_type          0\n",
       "registration_year     0\n",
       "gearbox               0\n",
       "power                 0\n",
       "model                 0\n",
       "kilometer             0\n",
       "registration_month    0\n",
       "fuel_type             0\n",
       "brand                 0\n",
       "repaired              0\n",
       "dtype: int64"
      ]
     },
     "execution_count": 15,
     "metadata": {},
     "output_type": "execute_result"
    }
   ],
   "source": [
    "#Заменяем пропуски\n",
    "df = df.fillna('unknown')\n",
    "\n",
    "#Проверяем\n",
    "df.isna().sum()"
   ]
  },
  {
   "cell_type": "markdown",
   "metadata": {},
   "source": [
    "Проверим информацию в других столбцах."
   ]
  },
  {
   "cell_type": "code",
   "execution_count": 16,
   "metadata": {},
   "outputs": [
    {
     "data": {
      "text/plain": [
       "0     35302\n",
       "3     34351\n",
       "6     31481\n",
       "4     29244\n",
       "5     29122\n",
       "7     27187\n",
       "10    26085\n",
       "12    24254\n",
       "11    24171\n",
       "9     23800\n",
       "1     23127\n",
       "8     22598\n",
       "2     21251\n",
       "Name: registration_month, dtype: int64"
      ]
     },
     "execution_count": 16,
     "metadata": {},
     "output_type": "execute_result"
    }
   ],
   "source": [
    "#Смотрим значения столбца с месяцем регистрации\n",
    "df['registration_month'].value_counts()"
   ]
  },
  {
   "cell_type": "markdown",
   "metadata": {},
   "source": [
    "Налицо ошибка в данных - месяцев может быть не более 12, в нашем случае есть нулевой месяц, на который приходится больше всего строк. Ничего толкового мы с этим сделать не можем, поэтому оставим как есть."
   ]
  },
  {
   "cell_type": "code",
   "execution_count": 17,
   "metadata": {},
   "outputs": [
    {
     "data": {
      "image/png": "[encoded data removed]",
      "text/plain": [
       "<Figure size 432x288 with 1 Axes>"
      ]
     },
     "metadata": {
      "needs_background": "light"
     },
     "output_type": "display_data"
    }
   ],
   "source": [
    "#Изучим значения столбца 'price'\n",
    "sns.boxplot(data=df['price'])\n",
    "plt.title('Цена')\n",
    "plt.show()"
   ]
  },
  {
   "cell_type": "markdown",
   "metadata": {},
   "source": [
    "Есть как нулевые значения, так и выбросы после 15 тысяч. Избавимся от них, чтобы не издеваться над будущими моделями машинного обучения."
   ]
  },
  {
   "cell_type": "code",
   "execution_count": 18,
   "metadata": {},
   "outputs": [],
   "source": [
    "#Удалим строки с выбросами\n",
    "df = df.query('price < 16000 & price > 100')"
   ]
  },
  {
   "cell_type": "code",
   "execution_count": 19,
   "metadata": {},
   "outputs": [
    {
     "data": {
      "image/png": "[encoded data removed]",
      "text/plain": [
       "<Figure size 432x288 with 1 Axes>"
      ]
     },
     "metadata": {
      "needs_background": "light"
     },
     "output_type": "display_data"
    }
   ],
   "source": [
    "#Изучим значения столбца 'registration_year'\n",
    "sns.boxplot(data=df['registration_year'])\n",
    "plt.title('Год регистрации')\n",
    "plt.show()"
   ]
  },
  {
   "cell_type": "markdown",
   "metadata": {},
   "source": [
    "Наблюдаем чудовищное количество выбросов. Строки с выбросами стоит также удалить. Вспоминаем, что последняя дата скачивания анкеты в 2016 году, поэтому убираем все, что было позже."
   ]
  },
  {
   "cell_type": "code",
   "execution_count": 20,
   "metadata": {},
   "outputs": [],
   "source": [
    "#Удалим строки с выбросами\n",
    "df = df.query('registration_year < 2017 & registration_year > 1960')"
   ]
  },
  {
   "cell_type": "code",
   "execution_count": 21,
   "metadata": {},
   "outputs": [
    {
     "data": {
      "image/png": "[encoded data removed]",
      "text/plain": [
       "<Figure size 432x288 with 1 Axes>"
      ]
     },
     "metadata": {
      "needs_background": "light"
     },
     "output_type": "display_data"
    }
   ],
   "source": [
    "#Изучим значения столбца 'power'\n",
    "sns.boxplot(data=df['power'])\n",
    "plt.title('Мощность')\n",
    "plt.show()"
   ]
  },
  {
   "cell_type": "markdown",
   "metadata": {},
   "source": [
    "Снова сумасшедшие выбросы по мощности. Удалим."
   ]
  },
  {
   "cell_type": "code",
   "execution_count": 22,
   "metadata": {},
   "outputs": [],
   "source": [
    "#Удалим строки с выбросами\n",
    "df = df.query('power < 500 & power > 50')"
   ]
  },
  {
   "cell_type": "code",
   "execution_count": 23,
   "metadata": {},
   "outputs": [
    {
     "data": {
      "text/plain": [
       "array([125000, 150000,  90000,  30000, 100000,  60000,  70000,  80000,\n",
       "         5000,  50000,  40000,  20000,  10000])"
      ]
     },
     "execution_count": 23,
     "metadata": {},
     "output_type": "execute_result"
    }
   ],
   "source": [
    "#Посмотрим на значения столбца с пробегом\n",
    "df['kilometer'].unique()"
   ]
  },
  {
   "cell_type": "markdown",
   "metadata": {},
   "source": [
    "Ничего необычного, идем дальше.\n",
    "\n",
    "После очистки данных от выбросов проверим на корреляцию числовых столбцов."
   ]
  },
  {
   "cell_type": "code",
   "execution_count": 24,
   "metadata": {},
   "outputs": [
    {
     "data": {
      "image/png": "[encoded data removed]",
      "text/plain": [
       "<Figure size 432x288 with 2 Axes>"
      ]
     },
     "metadata": {
      "needs_background": "light"
     },
     "output_type": "display_data"
    }
   ],
   "source": [
    "#Проверим корреляцию столбцов\n",
    "sns.heatmap(df.corr(), annot=True);"
   ]
  },
  {
   "cell_type": "markdown",
   "metadata": {},
   "source": [
    "Откровенно сильной корреляции не наблюдается, однако целевая метрика (цена) положительно коррелирует с годом регистрации авто и его мощностью и отрицательно с пробегом. Всё логично. Дополнительно удалим столбец `registration month`, т.к. он будет только мешать моделям обучаться и никак не влияет на цену."
   ]
  },
  {
   "cell_type": "code",
   "execution_count": 25,
   "metadata": {},
   "outputs": [
    {
     "name": "stdout",
     "output_type": "stream",
     "text": [
      "<class 'pandas.core.frame.DataFrame'>\n",
      "Int64Index: 274015 entries, 2 to 351972\n",
      "Data columns (total 10 columns):\n",
      " #   Column             Non-Null Count   Dtype \n",
      "---  ------             --------------   ----- \n",
      " 0   price              274015 non-null  int64 \n",
      " 1   vehicle_type       274015 non-null  object\n",
      " 2   registration_year  274015 non-null  int64 \n",
      " 3   gearbox            274015 non-null  object\n",
      " 4   power              274015 non-null  int64 \n",
      " 5   model              274015 non-null  object\n",
      " 6   kilometer          274015 non-null  int64 \n",
      " 7   fuel_type          274015 non-null  object\n",
      " 8   brand              274015 non-null  object\n",
      " 9   repaired           274015 non-null  int64 \n",
      "dtypes: int64(5), object(5)\n",
      "memory usage: 23.0+ MB\n"
     ]
    }
   ],
   "source": [
    "#Удаляем столбец\n",
    "df = df.drop(['registration_month'], axis=1)\n",
    "\n",
    "#Проверяем\n",
    "df.info()"
   ]
  },
  {
   "cell_type": "markdown",
   "metadata": {},
   "source": [
    "Мы достаточно подготовили данные к работе:\n",
    "- переименовали столбцы для соответствия змеиному_регистру\n",
    "- обнаружили и удалили явные дубликаты\n",
    "- удалили лишние столбцы\n",
    "- заполнили пропуски\n",
    "- удалили очень много \"мусорных\" данных (выбросов)\n",
    "\n",
    "Переходим к обучению моделей."
   ]
  },
  {
   "cell_type": "markdown",
   "metadata": {},
   "source": [
    "## Обучение моделей"
   ]
  },
  {
   "cell_type": "code",
   "execution_count": 26,
   "metadata": {},
   "outputs": [
    {
     "name": "stdout",
     "output_type": "stream",
     "text": [
      "(274015, 9)\n",
      "(274015,)\n"
     ]
    }
   ],
   "source": [
    "#Создадим переменные features и target\n",
    "features = df.drop(['price'], axis=1)\n",
    "\n",
    "target = df['price']\n",
    "\n",
    "#Проверяем\n",
    "print(features.shape)\n",
    "print(target.shape)"
   ]
  },
  {
   "cell_type": "code",
   "execution_count": 27,
   "metadata": {},
   "outputs": [
    {
     "name": "stdout",
     "output_type": "stream",
     "text": [
      "(219212, 9)\n",
      "(219212,)\n",
      "(54803, 9)\n",
      "(54803,)\n"
     ]
    }
   ],
   "source": [
    "#Разделим features и target на обучающую и тестовую выборки\n",
    "features_train, features_test, target_train, target_test = train_test_split(\n",
    "    features,\n",
    "    target,\n",
    "    test_size=0.2,\n",
    "    random_state=12345\n",
    ")\n",
    "\n",
    "#Проверяем\n",
    "print(features_train.shape)\n",
    "print(target_train.shape)\n",
    "print(features_test.shape)\n",
    "print(target_test.shape)"
   ]
  },
  {
   "cell_type": "code",
   "execution_count": 28,
   "metadata": {},
   "outputs": [
    {
     "name": "stdout",
     "output_type": "stream",
     "text": [
      "(219212, 24)\n",
      "(54803, 24)\n"
     ]
    }
   ],
   "source": [
    "#Кодируем столбцы brand и model через TargetEncoder\n",
    "encoder = TargetEncoder(cols=['brand', 'model'])\n",
    "\n",
    "features_train_encoded = encoder.fit_transform(features_train, target_train)\n",
    "features_test_encoded = encoder.transform(features_test)\n",
    "\n",
    "#Применяем OHE к категориальным признакам\n",
    "ohe = OneHotEncoder(sparse=False, handle_unknown='ignore')\n",
    "\n",
    "features_train_ohe = ohe.fit_transform(features_train_encoded.select_dtypes(include='object'))\n",
    "features_test_ohe = ohe.transform(features_test_encoded.select_dtypes(include='object'))\n",
    "\n",
    "features_train_final = np.concatenate([features_train_ohe, features_train.select_dtypes(include='int64')], axis=1)\n",
    "features_test_final = np.concatenate([features_test_ohe, features_test.select_dtypes(include='int64')], axis=1)\n",
    "\n",
    "#Проверим результат\n",
    "print(features_train_final.shape)\n",
    "print(features_test_final.shape)"
   ]
  },
  {
   "cell_type": "code",
   "execution_count": 29,
   "metadata": {},
   "outputs": [],
   "source": [
    "#Масштабируем признаки\n",
    "scaler = StandardScaler()\n",
    "features_train_scaled = scaler.fit_transform(features_train_final)\n",
    "features_test_scaled = scaler.transform(features_test_final)"
   ]
  },
  {
   "cell_type": "markdown",
   "metadata": {},
   "source": [
    "Теперь можем приступить к обучению моделей. Выбранные нами модели долго обучаются, но очень быстро предсказывают - от десятых долей до нескольких секунд. Поэтому нас в первую очередь будет интересовать именно время обучения. Время предсказания мы посмотрим на лучшей модели из трех, когда протестируем ее на тестовой выборке."
   ]
  },
  {
   "cell_type": "code",
   "execution_count": 30,
   "metadata": {},
   "outputs": [
    {
     "name": "stdout",
     "output_type": "stream",
     "text": [
      "Время обучения модели линейной регрессии: 2.9829890727996826\n"
     ]
    }
   ],
   "source": [
    "#Создадим модель линейной регрессии \n",
    "regression_params = {'normalize': [True, False]}\n",
    "\n",
    "regression = LinearRegression()\n",
    "regression_random_search = RandomizedSearchCV(\n",
    "    regression,\n",
    "    param_distributions=regression_params,\n",
    "    n_iter=2,\n",
    "    cv=3,\n",
    "    random_state=12345)\n",
    "\n",
    "start_time = time.time()\n",
    "regression_random_search.fit(features_train_scaled, target_train)\n",
    "end_time = time.time()\n",
    "regression_training_time = end_time - start_time\n",
    "best_regression_model = regression_random_search.best_estimator_\n",
    "\n",
    "print(f'Время обучения модели линейной регрессии: {regression_training_time}')"
   ]
  },
  {
   "cell_type": "code",
   "execution_count": 31,
   "metadata": {},
   "outputs": [
    {
     "name": "stdout",
     "output_type": "stream",
     "text": [
      "RMSE лучшей модели линейной регрессии: 2443.1513208839337\n"
     ]
    }
   ],
   "source": [
    "#Проверим RMSE модели линейной регрессии\n",
    "rmse_regression = -cross_val_score(\n",
    "    best_regression_model,\n",
    "    features_train_scaled,\n",
    "    target_train,\n",
    "    scoring='neg_root_mean_squared_error',\n",
    "    cv=3).mean()\n",
    "\n",
    "print(f'RMSE лучшей модели линейной регрессии: {rmse_regression}')"
   ]
  },
  {
   "cell_type": "code",
   "execution_count": 32,
   "metadata": {},
   "outputs": [
    {
     "name": "stdout",
     "output_type": "stream",
     "text": [
      "Время обучения LightGBM модели: 348.70595026016235\n"
     ]
    }
   ],
   "source": [
    "#Создадим модель градиентного бустинга с помощью LightGBM \n",
    "lgbmr_params = {\n",
    "    'n_estimators': [50],\n",
    "    'max_depth': [1, 3]\n",
    "}\n",
    "\n",
    "lgbmr = lgb.LGBMRegressor()\n",
    "lgbmr_random_search = RandomizedSearchCV(\n",
    "    lgbmr,\n",
    "    param_distributions=lgbmr_params,\n",
    "    n_iter=2,\n",
    "    cv=3,\n",
    "    random_state=12345)\n",
    "\n",
    "start_time = time.time()\n",
    "lgbmr_random_search.fit(features_train_scaled, target_train)\n",
    "end_time = time.time()\n",
    "lgbmr_training_time = end_time - start_time\n",
    "best_lgbmr_model = lgbmr_random_search.best_estimator_\n",
    "\n",
    "print(f'Время обучения LightGBM модели: {lgbmr_training_time}')"
   ]
  },
  {
   "cell_type": "code",
   "execution_count": 33,
   "metadata": {},
   "outputs": [
    {
     "name": "stdout",
     "output_type": "stream",
     "text": [
      "RMSE лучшей LightGBM модели: 1858.7069851274493\n"
     ]
    }
   ],
   "source": [
    "#Проверим RMSE модели LightGBM\n",
    "rmse_lgbmr = -cross_val_score(\n",
    "    best_lgbmr_model,\n",
    "    features_train_scaled,\n",
    "    target_train,\n",
    "    scoring='neg_root_mean_squared_error',\n",
    "    cv=3).mean()\n",
    "\n",
    "print(f'RMSE лучшей LightGBM модели: {rmse_lgbmr}')"
   ]
  },
  {
   "cell_type": "code",
   "execution_count": 34,
   "metadata": {},
   "outputs": [
    {
     "name": "stdout",
     "output_type": "stream",
     "text": [
      "Время обучения CatBoost модели: 106.06970191001892\n"
     ]
    }
   ],
   "source": [
    "#Создадим модель градиентного бустинга CatBoostRegressor \n",
    "catboost_params = {\n",
    "    'depth': [1, 3]\n",
    "}\n",
    "\n",
    "catboost = CatBoostRegressor(verbose=False)\n",
    "catboost_random_search = RandomizedSearchCV(\n",
    "    catboost,\n",
    "    param_distributions=catboost_params,\n",
    "    n_iter=2,\n",
    "    cv=3,\n",
    "    random_state=12345)\n",
    "\n",
    "start_time = time.time()\n",
    "catboost_random_search.fit(features_train_scaled, target_train)\n",
    "end_time = time.time()\n",
    "catboost_training_time = end_time - start_time\n",
    "best_catboost_model = catboost_random_search.best_estimator_\n",
    "\n",
    "print(f'Время обучения CatBoost модели: {catboost_training_time}')"
   ]
  },
  {
   "cell_type": "code",
   "execution_count": 35,
   "metadata": {},
   "outputs": [
    {
     "name": "stdout",
     "output_type": "stream",
     "text": [
      "RMSE лучшей CatBoost модели: 1694.9418489942072\n"
     ]
    }
   ],
   "source": [
    "#Проверим RMSE модели CatBoost\n",
    "rmse_catboost = -cross_val_score(\n",
    "    best_catboost_model,\n",
    "    features_train_scaled,\n",
    "    target_train,\n",
    "    scoring='neg_root_mean_squared_error',\n",
    "    cv=3).mean()\n",
    "\n",
    "print(f'RMSE лучшей CatBoost модели: {rmse_catboost}')"
   ]
  },
  {
   "cell_type": "markdown",
   "metadata": {},
   "source": [
    "## Анализ моделей"
   ]
  },
  {
   "cell_type": "markdown",
   "metadata": {},
   "source": [
    "Мы обучили три вида моделей и посчитали лучшие показали RMSE. Результаты следующие"
   ]
  },
  {
   "cell_type": "code",
   "execution_count": 36,
   "metadata": {},
   "outputs": [
    {
     "data": {
      "text/html": [
       "<div>\n",
       "<style scoped>\n",
       "    .dataframe tbody tr th:only-of-type {\n",
       "        vertical-align: middle;\n",
       "    }\n",
       "\n",
       "    .dataframe tbody tr th {\n",
       "        vertical-align: top;\n",
       "    }\n",
       "\n",
       "    .dataframe thead th {\n",
       "        text-align: right;\n",
       "    }\n",
       "</style>\n",
       "<table border=\"1\" class=\"dataframe\">\n",
       "  <thead>\n",
       "    <tr style=\"text-align: right;\">\n",
       "      <th></th>\n",
       "      <th>Время обучения</th>\n",
       "      <th>RMSE</th>\n",
       "    </tr>\n",
       "  </thead>\n",
       "  <tbody>\n",
       "    <tr>\n",
       "      <th>LightGBM</th>\n",
       "      <td>349</td>\n",
       "      <td>1859</td>\n",
       "    </tr>\n",
       "    <tr>\n",
       "      <th>CatBoost</th>\n",
       "      <td>106</td>\n",
       "      <td>1695</td>\n",
       "    </tr>\n",
       "    <tr>\n",
       "      <th>LinearRegression</th>\n",
       "      <td>3</td>\n",
       "      <td>2443</td>\n",
       "    </tr>\n",
       "  </tbody>\n",
       "</table>\n",
       "</div>"
      ],
      "text/plain": [
       "                  Время обучения  RMSE\n",
       "LightGBM                     349  1859\n",
       "CatBoost                     106  1695\n",
       "LinearRegression               3  2443"
      ]
     },
     "execution_count": 36,
     "metadata": {},
     "output_type": "execute_result"
    }
   ],
   "source": [
    "#Собираем таблицу с отчетом\n",
    "results = [\n",
    "    {'Время обучения': round(lgbmr_training_time),\n",
    "     'RMSE': round(rmse_lgbmr)},    \n",
    "    {'Время обучения': round(catboost_training_time),\n",
    "     'RMSE': round(rmse_catboost)},\n",
    "    {'Время обучения': round(regression_training_time),\n",
    "     'RMSE': round(rmse_regression)}\n",
    "]\n",
    "\n",
    "pd.DataFrame(data=results,\n",
    "             index=['LightGBM', 'CatBoost', 'LinearRegression'],\n",
    "             columns=['Время обучения', 'RMSE'])"
   ]
  },
  {
   "cell_type": "markdown",
   "metadata": {},
   "source": [
    "Лучше всего себя показала модель CatBoost - её время обучения почти в 2 раза меньше модели LightGBM при лучшем результате RMSE. LightGBM показала себя похуже, но проходит по условию в показатель RMSE ниже 2500. Модель линейной регрессии обучилась молниеносно, однако RMSE едва ниже 2500, но и она проходит.\n",
    "\n",
    "Выберем CatBoost для подсчета RMSE и времени предсказания на тестовой выборке."
   ]
  },
  {
   "cell_type": "code",
   "execution_count": 37,
   "metadata": {},
   "outputs": [
    {
     "name": "stdout",
     "output_type": "stream",
     "text": [
      "RMSE CatBoost модели на тестовой выборке: 1675.5\n",
      "Время предсказания CatBoost модели на тестовой выборке: 0.30190014839172363\n"
     ]
    }
   ],
   "source": [
    "#Посчитаем RMSE на тестовой выборке\n",
    "start_time = time.time()\n",
    "test_predictions = best_catboost_model.predict(features_test_scaled)\n",
    "end_time = time.time()\n",
    "catboost_predicting_time = end_time - start_time\n",
    "\n",
    "rmse_catboost_final = (mse(target_test, test_predictions)**0.5).round(1)\n",
    "\n",
    "print(f'RMSE CatBoost модели на тестовой выборке: {rmse_catboost_final}')\n",
    "print(f'Время предсказания CatBoost модели на тестовой выборке: {catboost_predicting_time}')"
   ]
  },
  {
   "cell_type": "markdown",
   "metadata": {},
   "source": [
    "**Общий вывод:**\n",
    "\n",
    "Результатом проделанной работы стала модель градиентного бустинга CatBoost с наилучшим предсказанием цены автомобиля:\n",
    "- RMSE 1675.5\n",
    "- Время обучения 106 секунд\n",
    "- Время предсказания 0.3 секунды"
   ]
  }
 ],
 "metadata": {
  "ExecuteTimeLog": [
   {
    "duration": 50,
    "start_time": "2023-05-15T14:15:00.516Z"
   },
   {
    "duration": 393,
    "start_time": "2023-05-15T14:15:02.756Z"
   },
   {
    "duration": 937,
    "start_time": "2023-05-15T14:15:03.151Z"
   },
   {
    "duration": 17,
    "start_time": "2023-05-15T14:15:04.090Z"
   },
   {
    "duration": 112,
    "start_time": "2023-05-15T14:15:07.420Z"
   },
   {
    "duration": 14,
    "start_time": "2023-05-15T14:15:15.589Z"
   },
   {
    "duration": 119,
    "start_time": "2023-05-15T14:15:41.051Z"
   },
   {
    "duration": 117,
    "start_time": "2023-05-15T14:16:08.807Z"
   },
   {
    "duration": 196,
    "start_time": "2023-05-15T14:16:21.595Z"
   },
   {
    "duration": 496,
    "start_time": "2023-05-15T14:24:37.211Z"
   },
   {
    "duration": 394,
    "start_time": "2023-05-15T14:24:41.303Z"
   },
   {
    "duration": 436,
    "start_time": "2023-05-15T14:25:25.083Z"
   },
   {
    "duration": 437,
    "start_time": "2023-05-15T14:25:28.181Z"
   },
   {
    "duration": 21,
    "start_time": "2023-05-15T14:30:35.106Z"
   },
   {
    "duration": 26,
    "start_time": "2023-05-15T14:30:45.538Z"
   },
   {
    "duration": 54,
    "start_time": "2023-05-15T14:31:07.034Z"
   },
   {
    "duration": 335,
    "start_time": "2023-05-15T14:31:17.467Z"
   },
   {
    "duration": 96,
    "start_time": "2023-05-15T14:31:20.801Z"
   },
   {
    "duration": 34,
    "start_time": "2023-05-15T14:31:24.000Z"
   },
   {
    "duration": 430,
    "start_time": "2023-05-16T08:25:34.115Z"
   },
   {
    "duration": 4260,
    "start_time": "2023-05-16T08:25:34.547Z"
   },
   {
    "duration": 185,
    "start_time": "2023-05-16T08:25:38.812Z"
   },
   {
    "duration": 150,
    "start_time": "2023-05-16T08:25:38.998Z"
   },
   {
    "duration": 476,
    "start_time": "2023-05-16T08:25:39.150Z"
   },
   {
    "duration": 563,
    "start_time": "2023-05-16T08:25:39.632Z"
   },
   {
    "duration": 97,
    "start_time": "2023-05-16T08:27:34.058Z"
   },
   {
    "duration": 104,
    "start_time": "2023-05-16T08:27:51.028Z"
   },
   {
    "duration": 445,
    "start_time": "2023-05-16T08:29:01.118Z"
   },
   {
    "duration": 351,
    "start_time": "2023-05-16T08:30:58.844Z"
   },
   {
    "duration": 108,
    "start_time": "2023-05-16T08:33:15.119Z"
   },
   {
    "duration": 317,
    "start_time": "2023-05-16T08:33:25.524Z"
   },
   {
    "duration": 308,
    "start_time": "2023-05-16T08:33:39.047Z"
   },
   {
    "duration": 322,
    "start_time": "2023-05-16T08:35:44.576Z"
   },
   {
    "duration": 367,
    "start_time": "2023-05-16T08:36:19.363Z"
   },
   {
    "duration": 348,
    "start_time": "2023-05-16T08:36:49.398Z"
   },
   {
    "duration": 131,
    "start_time": "2023-05-16T08:37:41.700Z"
   },
   {
    "duration": 298,
    "start_time": "2023-05-16T08:37:47.227Z"
   },
   {
    "duration": 27,
    "start_time": "2023-05-16T08:40:39.096Z"
   },
   {
    "duration": 160,
    "start_time": "2023-05-16T08:40:48.940Z"
   },
   {
    "duration": 171,
    "start_time": "2023-05-16T08:48:14.848Z"
   },
   {
    "duration": 138,
    "start_time": "2023-05-16T08:50:12.863Z"
   },
   {
    "duration": 458,
    "start_time": "2023-05-16T08:50:34.463Z"
   },
   {
    "duration": 998,
    "start_time": "2023-05-16T08:50:34.923Z"
   },
   {
    "duration": 220,
    "start_time": "2023-05-16T08:50:35.922Z"
   },
   {
    "duration": 147,
    "start_time": "2023-05-16T08:50:36.144Z"
   },
   {
    "duration": 140,
    "start_time": "2023-05-16T08:50:36.303Z"
   },
   {
    "duration": 259,
    "start_time": "2023-05-16T08:50:36.444Z"
   },
   {
    "duration": 253,
    "start_time": "2023-05-16T08:50:36.718Z"
   },
   {
    "duration": 342,
    "start_time": "2023-05-16T08:50:36.973Z"
   },
   {
    "duration": 2,
    "start_time": "2023-05-16T08:50:51.040Z"
   },
   {
    "duration": 945,
    "start_time": "2023-05-16T08:50:51.044Z"
   },
   {
    "duration": 193,
    "start_time": "2023-05-16T08:50:51.990Z"
   },
   {
    "duration": 137,
    "start_time": "2023-05-16T08:50:52.188Z"
   },
   {
    "duration": 126,
    "start_time": "2023-05-16T08:50:52.327Z"
   },
   {
    "duration": 248,
    "start_time": "2023-05-16T08:50:52.455Z"
   },
   {
    "duration": 244,
    "start_time": "2023-05-16T08:50:52.705Z"
   },
   {
    "duration": 306,
    "start_time": "2023-05-16T08:51:48.646Z"
   },
   {
    "duration": 254,
    "start_time": "2023-05-16T08:52:06.005Z"
   },
   {
    "duration": 312,
    "start_time": "2023-05-16T08:52:15.810Z"
   },
   {
    "duration": 241,
    "start_time": "2023-05-16T08:52:22.440Z"
   },
   {
    "duration": 127,
    "start_time": "2023-05-16T08:53:19.758Z"
   },
   {
    "duration": 139,
    "start_time": "2023-05-16T08:53:44.069Z"
   },
   {
    "duration": 253,
    "start_time": "2023-05-16T08:53:55.856Z"
   },
   {
    "duration": 255,
    "start_time": "2023-05-16T08:54:10.334Z"
   },
   {
    "duration": 162,
    "start_time": "2023-05-16T08:54:22.858Z"
   },
   {
    "duration": 316,
    "start_time": "2023-05-16T08:54:43.699Z"
   },
   {
    "duration": 155,
    "start_time": "2023-05-16T08:54:55.151Z"
   },
   {
    "duration": 120,
    "start_time": "2023-05-16T08:55:27.744Z"
   },
   {
    "duration": 365,
    "start_time": "2023-05-16T08:55:33.373Z"
   },
   {
    "duration": 298,
    "start_time": "2023-05-16T08:56:25.757Z"
   },
   {
    "duration": 556,
    "start_time": "2023-05-16T08:57:47.154Z"
   },
   {
    "duration": 405,
    "start_time": "2023-05-16T08:58:07.936Z"
   },
   {
    "duration": 986,
    "start_time": "2023-05-16T08:58:08.343Z"
   },
   {
    "duration": 233,
    "start_time": "2023-05-16T08:58:09.331Z"
   },
   {
    "duration": 194,
    "start_time": "2023-05-16T08:58:09.565Z"
   },
   {
    "duration": 145,
    "start_time": "2023-05-16T08:58:09.761Z"
   },
   {
    "duration": 264,
    "start_time": "2023-05-16T08:58:09.908Z"
   },
   {
    "duration": 585,
    "start_time": "2023-05-16T08:58:10.174Z"
   },
   {
    "duration": 229,
    "start_time": "2023-05-16T08:58:10.760Z"
   },
   {
    "duration": 190,
    "start_time": "2023-05-16T09:00:22.323Z"
   },
   {
    "duration": 264,
    "start_time": "2023-05-16T09:00:38.200Z"
   },
   {
    "duration": 255,
    "start_time": "2023-05-16T09:00:44.190Z"
   },
   {
    "duration": 114,
    "start_time": "2023-05-16T09:01:49.876Z"
   },
   {
    "duration": 110,
    "start_time": "2023-05-16T09:04:26.202Z"
   },
   {
    "duration": 140,
    "start_time": "2023-05-16T09:06:06.205Z"
   },
   {
    "duration": 10,
    "start_time": "2023-05-16T09:08:48.639Z"
   },
   {
    "duration": 137,
    "start_time": "2023-05-16T09:08:55.776Z"
   },
   {
    "duration": 112,
    "start_time": "2023-05-16T09:09:01.231Z"
   },
   {
    "duration": 111,
    "start_time": "2023-05-16T09:10:20.631Z"
   },
   {
    "duration": 29,
    "start_time": "2023-05-16T09:18:49.309Z"
   },
   {
    "duration": 211,
    "start_time": "2023-05-16T09:20:56.618Z"
   },
   {
    "duration": 224,
    "start_time": "2023-05-16T09:20:59.622Z"
   },
   {
    "duration": 275,
    "start_time": "2023-05-16T09:21:29.062Z"
   },
   {
    "duration": 210,
    "start_time": "2023-05-16T09:21:47.858Z"
   },
   {
    "duration": 225,
    "start_time": "2023-05-16T09:21:53.615Z"
   },
   {
    "duration": 32,
    "start_time": "2023-05-16T09:26:49.706Z"
   },
   {
    "duration": 22,
    "start_time": "2023-05-16T09:26:52.303Z"
   },
   {
    "duration": 192,
    "start_time": "2023-05-16T09:47:10.525Z"
   },
   {
    "duration": 12,
    "start_time": "2023-05-16T09:47:12.302Z"
   },
   {
    "duration": 6,
    "start_time": "2023-05-16T09:47:28.623Z"
   },
   {
    "duration": 405,
    "start_time": "2023-05-16T09:47:44.859Z"
   },
   {
    "duration": 1887,
    "start_time": "2023-05-16T09:47:45.266Z"
   },
   {
    "duration": 209,
    "start_time": "2023-05-16T09:47:47.155Z"
   },
   {
    "duration": 169,
    "start_time": "2023-05-16T09:47:47.366Z"
   },
   {
    "duration": 147,
    "start_time": "2023-05-16T09:47:47.538Z"
   },
   {
    "duration": 295,
    "start_time": "2023-05-16T09:47:47.687Z"
   },
   {
    "duration": 554,
    "start_time": "2023-05-16T09:47:47.992Z"
   },
   {
    "duration": 269,
    "start_time": "2023-05-16T09:47:48.547Z"
   },
   {
    "duration": 24,
    "start_time": "2023-05-16T09:47:48.825Z"
   },
   {
    "duration": 106,
    "start_time": "2023-05-16T09:47:54.650Z"
   },
   {
    "duration": 49,
    "start_time": "2023-05-16T09:48:09.042Z"
   },
   {
    "duration": 137,
    "start_time": "2023-05-16T09:48:22.142Z"
   },
   {
    "duration": 15,
    "start_time": "2023-05-16T09:48:24.906Z"
   },
   {
    "duration": 507,
    "start_time": "2023-05-16T09:49:47.110Z"
   },
   {
    "duration": 1096,
    "start_time": "2023-05-16T09:49:47.628Z"
   },
   {
    "duration": 203,
    "start_time": "2023-05-16T09:49:48.729Z"
   },
   {
    "duration": 157,
    "start_time": "2023-05-16T09:49:48.934Z"
   },
   {
    "duration": 134,
    "start_time": "2023-05-16T09:49:49.094Z"
   },
   {
    "duration": 273,
    "start_time": "2023-05-16T09:49:49.230Z"
   },
   {
    "duration": 501,
    "start_time": "2023-05-16T09:49:49.504Z"
   },
   {
    "duration": 207,
    "start_time": "2023-05-16T09:49:50.007Z"
   },
   {
    "duration": 38,
    "start_time": "2023-05-16T09:49:50.220Z"
   },
   {
    "duration": 195,
    "start_time": "2023-05-16T09:50:46.711Z"
   },
   {
    "duration": 213,
    "start_time": "2023-05-16T09:53:13.556Z"
   },
   {
    "duration": 112,
    "start_time": "2023-05-16T09:53:47.204Z"
   },
   {
    "duration": 115,
    "start_time": "2023-05-16T09:53:56.101Z"
   },
   {
    "duration": 1093,
    "start_time": "2023-05-16T12:43:29.508Z"
   },
   {
    "duration": 16,
    "start_time": "2023-05-16T12:48:11.755Z"
   },
   {
    "duration": 239,
    "start_time": "2023-05-16T12:48:16.460Z"
   },
   {
    "duration": 177,
    "start_time": "2023-05-16T12:50:22.004Z"
   },
   {
    "duration": 23,
    "start_time": "2023-05-16T12:50:41.813Z"
   },
   {
    "duration": 9,
    "start_time": "2023-05-16T12:50:46.356Z"
   },
   {
    "duration": 5,
    "start_time": "2023-05-16T12:50:53.098Z"
   },
   {
    "duration": 4,
    "start_time": "2023-05-16T12:51:09.150Z"
   },
   {
    "duration": 25,
    "start_time": "2023-05-16T12:51:49.594Z"
   },
   {
    "duration": 13,
    "start_time": "2023-05-16T12:51:54.277Z"
   },
   {
    "duration": 22,
    "start_time": "2023-05-16T12:52:07.466Z"
   },
   {
    "duration": 100,
    "start_time": "2023-05-16T12:52:11.603Z"
   },
   {
    "duration": 5,
    "start_time": "2023-05-16T12:52:25.460Z"
   },
   {
    "duration": 63,
    "start_time": "2023-05-17T07:08:53.611Z"
   },
   {
    "duration": 1616,
    "start_time": "2023-05-17T07:09:02.161Z"
   },
   {
    "duration": 1441,
    "start_time": "2023-05-17T07:09:03.780Z"
   },
   {
    "duration": 182,
    "start_time": "2023-05-17T07:09:05.223Z"
   },
   {
    "duration": 159,
    "start_time": "2023-05-17T07:09:05.406Z"
   },
   {
    "duration": 132,
    "start_time": "2023-05-17T07:09:05.576Z"
   },
   {
    "duration": 268,
    "start_time": "2023-05-17T07:09:05.710Z"
   },
   {
    "duration": 526,
    "start_time": "2023-05-17T07:09:05.980Z"
   },
   {
    "duration": 223,
    "start_time": "2023-05-17T07:09:06.508Z"
   },
   {
    "duration": 62,
    "start_time": "2023-05-17T07:09:06.732Z"
   },
   {
    "duration": 162,
    "start_time": "2023-05-17T07:09:06.796Z"
   },
   {
    "duration": 76,
    "start_time": "2023-05-17T07:09:06.961Z"
   },
   {
    "duration": 2173,
    "start_time": "2023-05-17T07:09:07.038Z"
   },
   {
    "duration": 9,
    "start_time": "2023-05-17T07:09:18.167Z"
   },
   {
    "duration": 11,
    "start_time": "2023-05-17T07:09:39.861Z"
   },
   {
    "duration": 9,
    "start_time": "2023-05-17T07:10:08.425Z"
   },
   {
    "duration": 17,
    "start_time": "2023-05-17T07:10:28.457Z"
   },
   {
    "duration": 12,
    "start_time": "2023-05-17T07:10:34.416Z"
   },
   {
    "duration": 8,
    "start_time": "2023-05-17T07:10:45.604Z"
   },
   {
    "duration": 18,
    "start_time": "2023-05-17T07:11:09.946Z"
   },
   {
    "duration": 36,
    "start_time": "2023-05-17T07:11:12.587Z"
   },
   {
    "duration": 11,
    "start_time": "2023-05-17T07:11:22.022Z"
   },
   {
    "duration": 59,
    "start_time": "2023-05-17T07:13:42.775Z"
   },
   {
    "duration": 1291,
    "start_time": "2023-05-17T07:13:48.575Z"
   },
   {
    "duration": 1017,
    "start_time": "2023-05-17T07:13:49.868Z"
   },
   {
    "duration": 193,
    "start_time": "2023-05-17T07:13:50.887Z"
   },
   {
    "duration": 28,
    "start_time": "2023-05-17T07:13:54.794Z"
   },
   {
    "duration": 2,
    "start_time": "2023-05-17T07:15:56.515Z"
   },
   {
    "duration": 973,
    "start_time": "2023-05-17T07:15:56.520Z"
   },
   {
    "duration": 193,
    "start_time": "2023-05-17T07:15:57.495Z"
   },
   {
    "duration": 39,
    "start_time": "2023-05-17T07:15:57.690Z"
   },
   {
    "duration": 146,
    "start_time": "2023-05-17T07:15:57.752Z"
   },
   {
    "duration": 115,
    "start_time": "2023-05-17T07:15:57.900Z"
   },
   {
    "duration": 245,
    "start_time": "2023-05-17T07:15:58.017Z"
   },
   {
    "duration": 519,
    "start_time": "2023-05-17T07:15:58.263Z"
   },
   {
    "duration": 206,
    "start_time": "2023-05-17T07:15:58.784Z"
   },
   {
    "duration": 31,
    "start_time": "2023-05-17T07:15:58.992Z"
   },
   {
    "duration": 188,
    "start_time": "2023-05-17T07:15:59.025Z"
   },
   {
    "duration": 102,
    "start_time": "2023-05-17T07:15:59.215Z"
   },
   {
    "duration": 13,
    "start_time": "2023-05-17T07:15:59.319Z"
   },
   {
    "duration": 14,
    "start_time": "2023-05-17T07:15:59.346Z"
   },
   {
    "duration": 1276,
    "start_time": "2023-05-17T07:17:03.865Z"
   },
   {
    "duration": 981,
    "start_time": "2023-05-17T07:17:05.146Z"
   },
   {
    "duration": 209,
    "start_time": "2023-05-17T07:17:06.128Z"
   },
   {
    "duration": 74,
    "start_time": "2023-05-17T07:17:06.346Z"
   },
   {
    "duration": 195,
    "start_time": "2023-05-17T07:17:06.422Z"
   },
   {
    "duration": 117,
    "start_time": "2023-05-17T07:17:06.619Z"
   },
   {
    "duration": 276,
    "start_time": "2023-05-17T07:17:06.746Z"
   },
   {
    "duration": 558,
    "start_time": "2023-05-17T07:17:07.023Z"
   },
   {
    "duration": 224,
    "start_time": "2023-05-17T07:17:07.584Z"
   },
   {
    "duration": 48,
    "start_time": "2023-05-17T07:17:07.810Z"
   },
   {
    "duration": 187,
    "start_time": "2023-05-17T07:17:07.860Z"
   },
   {
    "duration": 101,
    "start_time": "2023-05-17T07:17:08.049Z"
   },
   {
    "duration": 19,
    "start_time": "2023-05-17T07:17:08.152Z"
   },
   {
    "duration": 44,
    "start_time": "2023-05-17T07:17:08.174Z"
   },
   {
    "duration": 1304,
    "start_time": "2023-05-17T07:18:03.184Z"
   },
   {
    "duration": 991,
    "start_time": "2023-05-17T07:18:04.490Z"
   },
   {
    "duration": 206,
    "start_time": "2023-05-17T07:18:05.487Z"
   },
   {
    "duration": 27,
    "start_time": "2023-05-17T07:18:05.696Z"
   },
   {
    "duration": 184,
    "start_time": "2023-05-17T07:18:05.725Z"
   },
   {
    "duration": 118,
    "start_time": "2023-05-17T07:18:05.911Z"
   },
   {
    "duration": 260,
    "start_time": "2023-05-17T07:18:06.032Z"
   },
   {
    "duration": 581,
    "start_time": "2023-05-17T07:18:06.295Z"
   },
   {
    "duration": 211,
    "start_time": "2023-05-17T07:18:06.882Z"
   },
   {
    "duration": 33,
    "start_time": "2023-05-17T07:18:07.095Z"
   },
   {
    "duration": 199,
    "start_time": "2023-05-17T07:18:07.131Z"
   },
   {
    "duration": 100,
    "start_time": "2023-05-17T07:18:07.332Z"
   },
   {
    "duration": 25,
    "start_time": "2023-05-17T07:18:07.434Z"
   },
   {
    "duration": 36,
    "start_time": "2023-05-17T07:18:07.463Z"
   },
   {
    "duration": 1224,
    "start_time": "2023-05-19T10:22:05.496Z"
   },
   {
    "duration": 2453,
    "start_time": "2023-05-19T10:22:06.722Z"
   },
   {
    "duration": 107,
    "start_time": "2023-05-19T10:22:09.826Z"
   },
   {
    "duration": 25,
    "start_time": "2023-05-19T10:22:10.432Z"
   },
   {
    "duration": 383,
    "start_time": "2023-05-19T10:22:14.312Z"
   },
   {
    "duration": 820,
    "start_time": "2023-05-19T10:23:04.133Z"
   },
   {
    "duration": 86,
    "start_time": "2023-05-19T10:23:06.944Z"
   },
   {
    "duration": 65,
    "start_time": "2023-05-19T10:23:10.136Z"
   },
   {
    "duration": 132,
    "start_time": "2023-05-19T10:23:12.709Z"
   },
   {
    "duration": 28,
    "start_time": "2023-05-19T10:23:17.359Z"
   },
   {
    "duration": 116,
    "start_time": "2023-05-19T10:23:28.259Z"
   },
   {
    "duration": 58,
    "start_time": "2023-05-19T10:26:43.586Z"
   },
   {
    "duration": 49,
    "start_time": "2023-05-19T10:27:41.328Z"
   },
   {
    "duration": 94,
    "start_time": "2023-05-19T10:29:34.364Z"
   },
   {
    "duration": 15,
    "start_time": "2023-05-19T10:30:30.706Z"
   },
   {
    "duration": 22,
    "start_time": "2023-05-19T10:30:33.869Z"
   },
   {
    "duration": 4,
    "start_time": "2023-05-19T10:30:37.977Z"
   },
   {
    "duration": 20,
    "start_time": "2023-05-19T10:30:42.676Z"
   },
   {
    "duration": 77,
    "start_time": "2023-05-19T10:39:25.515Z"
   },
   {
    "duration": 54,
    "start_time": "2023-05-19T10:39:42.892Z"
   },
   {
    "duration": 4,
    "start_time": "2023-05-19T10:39:44.158Z"
   },
   {
    "duration": 16,
    "start_time": "2023-05-19T10:39:52.594Z"
   },
   {
    "duration": 3,
    "start_time": "2023-05-19T10:39:52.872Z"
   },
   {
    "duration": 12,
    "start_time": "2023-05-19T10:40:02.229Z"
   },
   {
    "duration": 1025,
    "start_time": "2023-05-19T10:40:27.523Z"
   },
   {
    "duration": 651,
    "start_time": "2023-05-19T10:40:28.549Z"
   },
   {
    "duration": 120,
    "start_time": "2023-05-19T10:40:29.201Z"
   },
   {
    "duration": 19,
    "start_time": "2023-05-19T10:40:29.323Z"
   },
   {
    "duration": 373,
    "start_time": "2023-05-19T10:40:29.343Z"
   },
   {
    "duration": 826,
    "start_time": "2023-05-19T10:40:29.717Z"
   },
   {
    "duration": 97,
    "start_time": "2023-05-19T10:40:30.545Z"
   },
   {
    "duration": 74,
    "start_time": "2023-05-19T10:40:30.643Z"
   },
   {
    "duration": 177,
    "start_time": "2023-05-19T10:40:30.719Z"
   },
   {
    "duration": 24,
    "start_time": "2023-05-19T10:40:30.898Z"
   },
   {
    "duration": 175,
    "start_time": "2023-05-19T10:40:30.924Z"
   },
   {
    "duration": 142,
    "start_time": "2023-05-19T10:41:22.027Z"
   },
   {
    "duration": 8,
    "start_time": "2023-05-19T10:42:17.872Z"
   },
   {
    "duration": 69,
    "start_time": "2023-05-19T10:43:10.814Z"
   },
   {
    "duration": 8,
    "start_time": "2023-05-19T10:43:17.439Z"
   },
   {
    "duration": 47,
    "start_time": "2023-05-19T10:43:25.251Z"
   },
   {
    "duration": 103,
    "start_time": "2023-05-19T10:43:35.370Z"
   },
   {
    "duration": 1097,
    "start_time": "2023-05-19T10:44:07.280Z"
   },
   {
    "duration": 673,
    "start_time": "2023-05-19T10:44:08.379Z"
   },
   {
    "duration": 115,
    "start_time": "2023-05-19T10:44:09.054Z"
   },
   {
    "duration": 22,
    "start_time": "2023-05-19T10:44:09.171Z"
   },
   {
    "duration": 395,
    "start_time": "2023-05-19T10:44:09.206Z"
   },
   {
    "duration": 856,
    "start_time": "2023-05-19T10:44:09.602Z"
   },
   {
    "duration": 116,
    "start_time": "2023-05-19T10:44:10.460Z"
   },
   {
    "duration": 85,
    "start_time": "2023-05-19T10:44:10.578Z"
   },
   {
    "duration": 144,
    "start_time": "2023-05-19T10:44:10.665Z"
   },
   {
    "duration": 28,
    "start_time": "2023-05-19T10:44:10.812Z"
   },
   {
    "duration": 125,
    "start_time": "2023-05-19T10:44:15.436Z"
   },
   {
    "duration": 64,
    "start_time": "2023-05-19T10:44:18.617Z"
   },
   {
    "duration": 53,
    "start_time": "2023-05-19T10:59:46.833Z"
   },
   {
    "duration": 68,
    "start_time": "2023-05-19T10:59:59.724Z"
   },
   {
    "duration": 70,
    "start_time": "2023-05-19T11:00:02.627Z"
   },
   {
    "duration": 110,
    "start_time": "2023-05-19T11:01:36.049Z"
   },
   {
    "duration": 10,
    "start_time": "2023-05-19T11:01:56.263Z"
   },
   {
    "duration": 5,
    "start_time": "2023-05-19T12:50:28.701Z"
   },
   {
    "duration": 6,
    "start_time": "2023-05-19T12:50:34.126Z"
   },
   {
    "duration": 1355,
    "start_time": "2023-05-22T08:29:26.339Z"
   },
   {
    "duration": 2776,
    "start_time": "2023-05-22T08:29:27.697Z"
   },
   {
    "duration": 147,
    "start_time": "2023-05-22T08:29:30.475Z"
   },
   {
    "duration": 65,
    "start_time": "2023-05-22T08:29:30.624Z"
   },
   {
    "duration": 528,
    "start_time": "2023-05-22T08:29:30.691Z"
   },
   {
    "duration": 978,
    "start_time": "2023-05-22T08:29:31.220Z"
   },
   {
    "duration": 110,
    "start_time": "2023-05-22T08:29:32.200Z"
   },
   {
    "duration": 91,
    "start_time": "2023-05-22T08:29:32.312Z"
   },
   {
    "duration": 176,
    "start_time": "2023-05-22T08:29:32.404Z"
   },
   {
    "duration": 32,
    "start_time": "2023-05-22T08:29:32.581Z"
   },
   {
    "duration": 160,
    "start_time": "2023-05-22T08:29:32.615Z"
   },
   {
    "duration": 72,
    "start_time": "2023-05-22T08:29:32.777Z"
   },
   {
    "duration": 96,
    "start_time": "2023-05-22T08:29:32.850Z"
   },
   {
    "duration": 158,
    "start_time": "2023-05-22T08:29:32.948Z"
   },
   {
    "duration": 7,
    "start_time": "2023-05-22T08:29:33.108Z"
   },
   {
    "duration": 52,
    "start_time": "2023-05-22T08:32:00.525Z"
   },
   {
    "duration": 551,
    "start_time": "2023-05-22T08:35:05.371Z"
   },
   {
    "duration": 110,
    "start_time": "2023-05-22T08:35:28.628Z"
   },
   {
    "duration": 3,
    "start_time": "2023-05-22T08:37:11.857Z"
   },
   {
    "duration": 71,
    "start_time": "2023-05-22T08:37:41.996Z"
   },
   {
    "duration": 69,
    "start_time": "2023-05-22T08:37:45.777Z"
   },
   {
    "duration": 73,
    "start_time": "2023-05-22T08:37:56.152Z"
   },
   {
    "duration": 542,
    "start_time": "2023-05-22T08:38:04.489Z"
   },
   {
    "duration": 72,
    "start_time": "2023-05-22T08:38:09.634Z"
   },
   {
    "duration": 88,
    "start_time": "2023-05-22T08:38:14.680Z"
   },
   {
    "duration": 576,
    "start_time": "2023-05-22T08:38:27.321Z"
   },
   {
    "duration": 551,
    "start_time": "2023-05-22T08:38:37.432Z"
   },
   {
    "duration": 522,
    "start_time": "2023-05-22T08:38:42.225Z"
   },
   {
    "duration": 592,
    "start_time": "2023-05-22T08:39:04.437Z"
   },
   {
    "duration": 179,
    "start_time": "2023-05-22T08:42:41.755Z"
   },
   {
    "duration": 282,
    "start_time": "2023-05-22T08:52:53.961Z"
   },
   {
    "duration": 36,
    "start_time": "2023-05-22T08:53:23.332Z"
   },
   {
    "duration": 126,
    "start_time": "2023-05-22T08:53:27.217Z"
   },
   {
    "duration": 141,
    "start_time": "2023-05-22T08:54:05.305Z"
   },
   {
    "duration": 41,
    "start_time": "2023-05-22T08:54:18.197Z"
   },
   {
    "duration": 53,
    "start_time": "2023-05-22T08:54:24.242Z"
   },
   {
    "duration": 144,
    "start_time": "2023-05-22T10:37:43.844Z"
   },
   {
    "duration": 36,
    "start_time": "2023-05-22T10:39:18.555Z"
   },
   {
    "duration": 24,
    "start_time": "2023-05-22T10:39:25.271Z"
   },
   {
    "duration": 73,
    "start_time": "2023-05-22T10:39:50.910Z"
   },
   {
    "duration": 12,
    "start_time": "2023-05-22T10:39:55.495Z"
   },
   {
    "duration": 32,
    "start_time": "2023-05-22T10:40:02.686Z"
   },
   {
    "duration": 22,
    "start_time": "2023-05-22T10:43:35.758Z"
   },
   {
    "duration": 33,
    "start_time": "2023-05-22T10:43:40.976Z"
   },
   {
    "duration": 29,
    "start_time": "2023-05-22T10:43:45.564Z"
   },
   {
    "duration": 18,
    "start_time": "2023-05-22T10:44:30.425Z"
   },
   {
    "duration": 8,
    "start_time": "2023-05-22T10:46:42.682Z"
   },
   {
    "duration": 9,
    "start_time": "2023-05-22T10:46:48.117Z"
   },
   {
    "duration": 42,
    "start_time": "2023-05-22T10:47:01.450Z"
   },
   {
    "duration": 41,
    "start_time": "2023-05-22T10:47:13.009Z"
   },
   {
    "duration": 12,
    "start_time": "2023-05-22T10:47:34.246Z"
   },
   {
    "duration": 40,
    "start_time": "2023-05-22T10:47:49.043Z"
   },
   {
    "duration": 315,
    "start_time": "2023-05-22T10:47:58.348Z"
   },
   {
    "duration": 25,
    "start_time": "2023-05-22T10:48:11.897Z"
   },
   {
    "duration": 162,
    "start_time": "2023-05-22T10:51:47.482Z"
   },
   {
    "duration": 1224,
    "start_time": "2023-05-22T10:52:29.197Z"
   },
   {
    "duration": 3,
    "start_time": "2023-05-22T10:52:40.253Z"
   },
   {
    "duration": 1126,
    "start_time": "2023-05-22T10:52:42.535Z"
   },
   {
    "duration": 847,
    "start_time": "2023-05-22T10:52:45.899Z"
   },
   {
    "duration": 881,
    "start_time": "2023-05-22T10:52:58.860Z"
   },
   {
    "duration": 8,
    "start_time": "2023-05-22T10:53:10.054Z"
   },
   {
    "duration": 144,
    "start_time": "2023-05-22T10:53:28.698Z"
   },
   {
    "duration": 6,
    "start_time": "2023-05-22T10:53:39.824Z"
   },
   {
    "duration": 17,
    "start_time": "2023-05-22T10:53:54.290Z"
   },
   {
    "duration": 29,
    "start_time": "2023-05-22T10:54:06.407Z"
   },
   {
    "duration": 16,
    "start_time": "2023-05-22T10:54:07.146Z"
   },
   {
    "duration": 33,
    "start_time": "2023-05-22T10:54:11.097Z"
   },
   {
    "duration": 17,
    "start_time": "2023-05-22T10:54:12.261Z"
   },
   {
    "duration": 24,
    "start_time": "2023-05-22T10:54:18.621Z"
   },
   {
    "duration": 17,
    "start_time": "2023-05-22T10:54:19.896Z"
   },
   {
    "duration": 32,
    "start_time": "2023-05-22T10:54:38.210Z"
   },
   {
    "duration": 21,
    "start_time": "2023-05-22T10:54:38.593Z"
   },
   {
    "duration": 24,
    "start_time": "2023-05-22T10:54:46.167Z"
   },
   {
    "duration": 18,
    "start_time": "2023-05-22T10:54:46.384Z"
   },
   {
    "duration": 1238,
    "start_time": "2023-05-22T10:55:04.944Z"
   },
   {
    "duration": 863,
    "start_time": "2023-05-22T10:55:06.184Z"
   },
   {
    "duration": 155,
    "start_time": "2023-05-22T10:55:07.049Z"
   },
   {
    "duration": 27,
    "start_time": "2023-05-22T10:55:07.206Z"
   },
   {
    "duration": 487,
    "start_time": "2023-05-22T10:55:07.235Z"
   },
   {
    "duration": 1068,
    "start_time": "2023-05-22T10:55:07.723Z"
   },
   {
    "duration": 121,
    "start_time": "2023-05-22T10:55:08.792Z"
   },
   {
    "duration": 93,
    "start_time": "2023-05-22T10:55:08.914Z"
   },
   {
    "duration": 185,
    "start_time": "2023-05-22T10:55:09.009Z"
   },
   {
    "duration": 34,
    "start_time": "2023-05-22T10:55:09.196Z"
   },
   {
    "duration": 168,
    "start_time": "2023-05-22T10:55:09.231Z"
   },
   {
    "duration": 82,
    "start_time": "2023-05-22T10:55:09.400Z"
   },
   {
    "duration": 100,
    "start_time": "2023-05-22T10:55:09.483Z"
   },
   {
    "duration": 162,
    "start_time": "2023-05-22T10:55:09.586Z"
   },
   {
    "duration": 7,
    "start_time": "2023-05-22T10:55:09.749Z"
   },
   {
    "duration": 84,
    "start_time": "2023-05-22T10:55:09.758Z"
   },
   {
    "duration": 196,
    "start_time": "2023-05-22T10:55:09.844Z"
   },
   {
    "duration": 55,
    "start_time": "2023-05-22T10:55:10.042Z"
   },
   {
    "duration": 18,
    "start_time": "2023-05-22T10:55:37.500Z"
   },
   {
    "duration": 1223,
    "start_time": "2023-05-23T09:02:10.547Z"
   },
   {
    "duration": 3055,
    "start_time": "2023-05-23T09:02:11.772Z"
   },
   {
    "duration": 125,
    "start_time": "2023-05-23T09:02:14.828Z"
   },
   {
    "duration": 34,
    "start_time": "2023-05-23T09:02:14.960Z"
   },
   {
    "duration": 386,
    "start_time": "2023-05-23T09:02:14.996Z"
   },
   {
    "duration": 836,
    "start_time": "2023-05-23T09:02:15.384Z"
   },
   {
    "duration": 95,
    "start_time": "2023-05-23T09:02:16.221Z"
   },
   {
    "duration": 65,
    "start_time": "2023-05-23T09:02:16.318Z"
   },
   {
    "duration": 141,
    "start_time": "2023-05-23T09:02:16.384Z"
   },
   {
    "duration": 24,
    "start_time": "2023-05-23T09:02:16.527Z"
   },
   {
    "duration": 134,
    "start_time": "2023-05-23T09:02:16.553Z"
   },
   {
    "duration": 63,
    "start_time": "2023-05-23T09:02:16.689Z"
   },
   {
    "duration": 80,
    "start_time": "2023-05-23T09:02:16.754Z"
   },
   {
    "duration": 112,
    "start_time": "2023-05-23T09:02:16.836Z"
   },
   {
    "duration": 6,
    "start_time": "2023-05-23T09:02:16.950Z"
   },
   {
    "duration": 163,
    "start_time": "2023-05-23T09:02:16.957Z"
   },
   {
    "duration": 34,
    "start_time": "2023-05-23T09:02:17.122Z"
   },
   {
    "duration": 52,
    "start_time": "2023-05-23T09:02:30.198Z"
   },
   {
    "duration": 91,
    "start_time": "2023-05-23T09:03:38.461Z"
   },
   {
    "duration": 88,
    "start_time": "2023-05-23T09:03:54.454Z"
   },
   {
    "duration": 92,
    "start_time": "2023-05-23T09:04:05.247Z"
   },
   {
    "duration": 115,
    "start_time": "2023-05-23T09:04:14.547Z"
   },
   {
    "duration": 90,
    "start_time": "2023-05-23T09:04:44.419Z"
   },
   {
    "duration": 91,
    "start_time": "2023-05-23T09:05:02.651Z"
   },
   {
    "duration": 107,
    "start_time": "2023-05-23T09:05:19.399Z"
   },
   {
    "duration": 116,
    "start_time": "2023-05-23T09:07:54.450Z"
   },
   {
    "duration": 10,
    "start_time": "2023-05-23T09:08:08.158Z"
   },
   {
    "duration": 9,
    "start_time": "2023-05-23T09:08:41.514Z"
   },
   {
    "duration": 98,
    "start_time": "2023-05-23T09:08:55.547Z"
   },
   {
    "duration": 174,
    "start_time": "2023-05-23T09:09:12.260Z"
   },
   {
    "duration": 92,
    "start_time": "2023-05-23T09:12:19.873Z"
   },
   {
    "duration": 1043,
    "start_time": "2023-05-23T09:13:00.455Z"
   },
   {
    "duration": 715,
    "start_time": "2023-05-23T09:13:01.500Z"
   },
   {
    "duration": 123,
    "start_time": "2023-05-23T09:13:02.217Z"
   },
   {
    "duration": 21,
    "start_time": "2023-05-23T09:13:02.342Z"
   },
   {
    "duration": 469,
    "start_time": "2023-05-23T09:13:02.365Z"
   },
   {
    "duration": 869,
    "start_time": "2023-05-23T09:13:02.835Z"
   },
   {
    "duration": 89,
    "start_time": "2023-05-23T09:13:03.706Z"
   },
   {
    "duration": 66,
    "start_time": "2023-05-23T09:13:03.806Z"
   },
   {
    "duration": 141,
    "start_time": "2023-05-23T09:13:03.874Z"
   },
   {
    "duration": 26,
    "start_time": "2023-05-23T09:13:04.017Z"
   },
   {
    "duration": 131,
    "start_time": "2023-05-23T09:13:04.044Z"
   },
   {
    "duration": 71,
    "start_time": "2023-05-23T09:13:04.177Z"
   },
   {
    "duration": 87,
    "start_time": "2023-05-23T09:13:04.250Z"
   },
   {
    "duration": 123,
    "start_time": "2023-05-23T09:13:04.338Z"
   },
   {
    "duration": 8,
    "start_time": "2023-05-23T09:13:04.463Z"
   },
   {
    "duration": 144,
    "start_time": "2023-05-23T09:13:04.473Z"
   },
   {
    "duration": 35,
    "start_time": "2023-05-23T09:13:04.619Z"
   },
   {
    "duration": 70,
    "start_time": "2023-05-23T09:13:04.656Z"
   },
   {
    "duration": 108,
    "start_time": "2023-05-23T09:13:04.728Z"
   },
   {
    "duration": 7,
    "start_time": "2023-05-23T09:13:04.837Z"
   },
   {
    "duration": 493,
    "start_time": "2023-05-23T09:13:04.845Z"
   },
   {
    "duration": 1110,
    "start_time": "2023-05-23T09:28:59.060Z"
   },
   {
    "duration": 695,
    "start_time": "2023-05-23T09:29:00.171Z"
   },
   {
    "duration": 118,
    "start_time": "2023-05-23T09:29:00.867Z"
   },
   {
    "duration": 38,
    "start_time": "2023-05-23T09:29:00.987Z"
   },
   {
    "duration": 425,
    "start_time": "2023-05-23T09:29:01.027Z"
   },
   {
    "duration": 868,
    "start_time": "2023-05-23T09:29:01.454Z"
   },
   {
    "duration": 93,
    "start_time": "2023-05-23T09:29:02.324Z"
   },
   {
    "duration": 64,
    "start_time": "2023-05-23T09:29:02.418Z"
   },
   {
    "duration": 155,
    "start_time": "2023-05-23T09:29:02.483Z"
   },
   {
    "duration": 32,
    "start_time": "2023-05-23T09:29:02.641Z"
   },
   {
    "duration": 164,
    "start_time": "2023-05-23T09:29:02.675Z"
   },
   {
    "duration": 66,
    "start_time": "2023-05-23T09:29:02.840Z"
   },
   {
    "duration": 69,
    "start_time": "2023-05-23T09:29:02.908Z"
   },
   {
    "duration": 119,
    "start_time": "2023-05-23T09:29:02.979Z"
   },
   {
    "duration": 8,
    "start_time": "2023-05-23T09:29:03.099Z"
   },
   {
    "duration": 105,
    "start_time": "2023-05-23T09:29:05.772Z"
   },
   {
    "duration": 12,
    "start_time": "2023-05-23T09:33:44.253Z"
   },
   {
    "duration": 97,
    "start_time": "2023-05-23T09:33:51.104Z"
   },
   {
    "duration": 92,
    "start_time": "2023-05-23T09:34:22.141Z"
   },
   {
    "duration": 150,
    "start_time": "2023-05-23T09:36:16.310Z"
   },
   {
    "duration": 93,
    "start_time": "2023-05-23T09:36:27.452Z"
   },
   {
    "duration": 85,
    "start_time": "2023-05-23T09:37:42.182Z"
   },
   {
    "duration": 9,
    "start_time": "2023-05-23T09:37:49.799Z"
   },
   {
    "duration": 9,
    "start_time": "2023-05-23T09:38:02.892Z"
   },
   {
    "duration": 9,
    "start_time": "2023-05-23T09:38:14.192Z"
   },
   {
    "duration": 100,
    "start_time": "2023-05-23T09:38:37.106Z"
   },
   {
    "duration": 8,
    "start_time": "2023-05-23T09:38:51.082Z"
   },
   {
    "duration": 111,
    "start_time": "2023-05-23T09:38:57.365Z"
   },
   {
    "duration": 117,
    "start_time": "2023-05-23T09:39:09.563Z"
   },
   {
    "duration": 111,
    "start_time": "2023-05-23T09:39:15.568Z"
   },
   {
    "duration": 206,
    "start_time": "2023-05-23T09:39:21.343Z"
   },
   {
    "duration": 91,
    "start_time": "2023-05-23T09:39:32.814Z"
   },
   {
    "duration": 96,
    "start_time": "2023-05-23T09:39:43.546Z"
   },
   {
    "duration": 88,
    "start_time": "2023-05-23T09:39:56.152Z"
   },
   {
    "duration": 107,
    "start_time": "2023-05-23T09:43:28.995Z"
   },
   {
    "duration": 144,
    "start_time": "2023-05-23T09:43:34.761Z"
   },
   {
    "duration": 96,
    "start_time": "2023-05-23T09:43:48.528Z"
   },
   {
    "duration": 1185,
    "start_time": "2023-05-23T09:44:34.764Z"
   },
   {
    "duration": 114,
    "start_time": "2023-05-23T09:44:38.803Z"
   },
   {
    "duration": 114,
    "start_time": "2023-05-23T09:45:05.411Z"
   },
   {
    "duration": 102,
    "start_time": "2023-05-23T09:46:12.617Z"
   },
   {
    "duration": 99,
    "start_time": "2023-05-23T09:46:47.058Z"
   },
   {
    "duration": 1027,
    "start_time": "2023-05-23T09:47:17.565Z"
   },
   {
    "duration": 688,
    "start_time": "2023-05-23T09:47:18.593Z"
   },
   {
    "duration": 110,
    "start_time": "2023-05-23T09:47:19.283Z"
   },
   {
    "duration": 27,
    "start_time": "2023-05-23T09:47:19.394Z"
   },
   {
    "duration": 406,
    "start_time": "2023-05-23T09:47:19.422Z"
   },
   {
    "duration": 869,
    "start_time": "2023-05-23T09:47:19.829Z"
   },
   {
    "duration": 125,
    "start_time": "2023-05-23T09:47:20.699Z"
   },
   {
    "duration": 65,
    "start_time": "2023-05-23T09:47:20.825Z"
   },
   {
    "duration": 140,
    "start_time": "2023-05-23T09:47:20.891Z"
   },
   {
    "duration": 25,
    "start_time": "2023-05-23T09:47:21.032Z"
   },
   {
    "duration": 119,
    "start_time": "2023-05-23T09:47:21.058Z"
   },
   {
    "duration": 64,
    "start_time": "2023-05-23T09:47:21.178Z"
   },
   {
    "duration": 87,
    "start_time": "2023-05-23T09:47:21.244Z"
   },
   {
    "duration": 118,
    "start_time": "2023-05-23T09:47:21.334Z"
   },
   {
    "duration": 7,
    "start_time": "2023-05-23T09:47:23.781Z"
   },
   {
    "duration": 99,
    "start_time": "2023-05-23T09:47:25.269Z"
   },
   {
    "duration": 89,
    "start_time": "2023-05-23T09:49:57.487Z"
   },
   {
    "duration": 104,
    "start_time": "2023-05-23T09:49:59.274Z"
   },
   {
    "duration": 9,
    "start_time": "2023-05-23T09:50:02.818Z"
   },
   {
    "duration": 8,
    "start_time": "2023-05-23T09:50:18.979Z"
   },
   {
    "duration": 7,
    "start_time": "2023-05-23T09:51:27.095Z"
   },
   {
    "duration": 6,
    "start_time": "2023-05-23T09:51:41.577Z"
   },
   {
    "duration": 128,
    "start_time": "2023-05-23T09:55:27.643Z"
   },
   {
    "duration": 90,
    "start_time": "2023-05-23T09:55:51.485Z"
   },
   {
    "duration": 1057,
    "start_time": "2023-05-23T09:56:41.668Z"
   },
   {
    "duration": 651,
    "start_time": "2023-05-23T09:56:42.727Z"
   },
   {
    "duration": 126,
    "start_time": "2023-05-23T09:56:43.380Z"
   },
   {
    "duration": 21,
    "start_time": "2023-05-23T09:56:43.508Z"
   },
   {
    "duration": 379,
    "start_time": "2023-05-23T09:56:43.531Z"
   },
   {
    "duration": 804,
    "start_time": "2023-05-23T09:56:43.912Z"
   },
   {
    "duration": 124,
    "start_time": "2023-05-23T09:56:44.717Z"
   },
   {
    "duration": 70,
    "start_time": "2023-05-23T09:56:44.843Z"
   },
   {
    "duration": 131,
    "start_time": "2023-05-23T09:56:44.915Z"
   },
   {
    "duration": 25,
    "start_time": "2023-05-23T09:56:45.047Z"
   },
   {
    "duration": 122,
    "start_time": "2023-05-23T09:56:45.074Z"
   },
   {
    "duration": 57,
    "start_time": "2023-05-23T09:56:45.197Z"
   },
   {
    "duration": 100,
    "start_time": "2023-05-23T09:56:45.255Z"
   },
   {
    "duration": 115,
    "start_time": "2023-05-23T09:56:45.358Z"
   },
   {
    "duration": 6,
    "start_time": "2023-05-23T09:56:45.474Z"
   },
   {
    "duration": 145,
    "start_time": "2023-05-23T09:56:45.482Z"
   },
   {
    "duration": 62,
    "start_time": "2023-05-23T09:56:45.628Z"
   },
   {
    "duration": 132,
    "start_time": "2023-05-23T09:56:55.630Z"
   },
   {
    "duration": 85,
    "start_time": "2023-05-23T09:57:05.422Z"
   },
   {
    "duration": 132,
    "start_time": "2023-05-23T09:57:34.257Z"
   },
   {
    "duration": 112,
    "start_time": "2023-05-23T09:57:51.860Z"
   },
   {
    "duration": 90,
    "start_time": "2023-05-23T09:58:07.515Z"
   },
   {
    "duration": 52,
    "start_time": "2023-05-23T10:00:29.904Z"
   },
   {
    "duration": 24,
    "start_time": "2023-05-23T10:00:33.990Z"
   },
   {
    "duration": 50,
    "start_time": "2023-05-23T10:00:36.256Z"
   },
   {
    "duration": 97,
    "start_time": "2023-05-23T10:00:44.019Z"
   },
   {
    "duration": 158,
    "start_time": "2023-05-23T10:08:02.147Z"
   },
   {
    "duration": 57,
    "start_time": "2023-05-23T10:15:42.685Z"
   },
   {
    "duration": 21,
    "start_time": "2023-05-23T10:16:38.294Z"
   },
   {
    "duration": 45,
    "start_time": "2023-05-23T10:16:40.302Z"
   },
   {
    "duration": 1191,
    "start_time": "2023-05-23T10:18:18.325Z"
   },
   {
    "duration": 1187,
    "start_time": "2023-05-23T10:18:36.547Z"
   },
   {
    "duration": 1147,
    "start_time": "2023-05-23T10:18:58.306Z"
   },
   {
    "duration": 1047,
    "start_time": "2023-05-23T10:19:08.445Z"
   },
   {
    "duration": 720,
    "start_time": "2023-05-23T10:19:09.494Z"
   },
   {
    "duration": 141,
    "start_time": "2023-05-23T10:19:10.216Z"
   },
   {
    "duration": 24,
    "start_time": "2023-05-23T10:19:10.359Z"
   },
   {
    "duration": 459,
    "start_time": "2023-05-23T10:19:10.386Z"
   },
   {
    "duration": 923,
    "start_time": "2023-05-23T10:19:10.847Z"
   },
   {
    "duration": 126,
    "start_time": "2023-05-23T10:19:11.772Z"
   },
   {
    "duration": 74,
    "start_time": "2023-05-23T10:19:11.900Z"
   },
   {
    "duration": 145,
    "start_time": "2023-05-23T10:19:11.975Z"
   },
   {
    "duration": 27,
    "start_time": "2023-05-23T10:19:12.121Z"
   },
   {
    "duration": 129,
    "start_time": "2023-05-23T10:19:12.149Z"
   },
   {
    "duration": 67,
    "start_time": "2023-05-23T10:19:12.279Z"
   },
   {
    "duration": 102,
    "start_time": "2023-05-23T10:19:12.347Z"
   },
   {
    "duration": 152,
    "start_time": "2023-05-23T10:19:12.453Z"
   },
   {
    "duration": 9,
    "start_time": "2023-05-23T10:19:12.608Z"
   },
   {
    "duration": 160,
    "start_time": "2023-05-23T10:19:12.619Z"
   },
   {
    "duration": 74,
    "start_time": "2023-05-23T10:19:12.781Z"
   },
   {
    "duration": 111,
    "start_time": "2023-05-23T10:19:12.857Z"
   },
   {
    "duration": 22,
    "start_time": "2023-05-23T10:19:12.969Z"
   },
   {
    "duration": 138,
    "start_time": "2023-05-23T10:19:12.993Z"
   },
   {
    "duration": 21,
    "start_time": "2023-05-23T10:19:13.133Z"
   },
   {
    "duration": 103,
    "start_time": "2023-05-23T10:19:13.155Z"
   },
   {
    "duration": 0,
    "start_time": "2023-05-23T10:19:13.259Z"
   },
   {
    "duration": 1188,
    "start_time": "2023-05-23T10:19:19.275Z"
   },
   {
    "duration": 1141,
    "start_time": "2023-05-23T10:19:23.665Z"
   },
   {
    "duration": 1050,
    "start_time": "2023-05-23T10:19:45.527Z"
   },
   {
    "duration": 669,
    "start_time": "2023-05-23T10:19:46.579Z"
   },
   {
    "duration": 109,
    "start_time": "2023-05-23T10:19:47.250Z"
   },
   {
    "duration": 19,
    "start_time": "2023-05-23T10:19:47.360Z"
   },
   {
    "duration": 378,
    "start_time": "2023-05-23T10:19:47.381Z"
   },
   {
    "duration": 803,
    "start_time": "2023-05-23T10:19:47.760Z"
   },
   {
    "duration": 122,
    "start_time": "2023-05-23T10:19:48.565Z"
   },
   {
    "duration": 68,
    "start_time": "2023-05-23T10:19:48.688Z"
   },
   {
    "duration": 143,
    "start_time": "2023-05-23T10:19:48.757Z"
   },
   {
    "duration": 27,
    "start_time": "2023-05-23T10:19:48.902Z"
   },
   {
    "duration": 110,
    "start_time": "2023-05-23T10:19:48.930Z"
   },
   {
    "duration": 65,
    "start_time": "2023-05-23T10:19:49.041Z"
   },
   {
    "duration": 79,
    "start_time": "2023-05-23T10:19:49.107Z"
   },
   {
    "duration": 123,
    "start_time": "2023-05-23T10:19:49.188Z"
   },
   {
    "duration": 6,
    "start_time": "2023-05-23T10:19:49.313Z"
   },
   {
    "duration": 144,
    "start_time": "2023-05-23T10:19:49.320Z"
   },
   {
    "duration": 69,
    "start_time": "2023-05-23T10:19:49.466Z"
   },
   {
    "duration": 98,
    "start_time": "2023-05-23T10:19:49.537Z"
   },
   {
    "duration": 21,
    "start_time": "2023-05-23T10:19:49.636Z"
   },
   {
    "duration": 123,
    "start_time": "2023-05-23T10:19:49.658Z"
   },
   {
    "duration": 24,
    "start_time": "2023-05-23T10:19:49.783Z"
   },
   {
    "duration": 1215,
    "start_time": "2023-05-23T10:19:49.809Z"
   },
   {
    "duration": 0,
    "start_time": "2023-05-23T10:19:51.025Z"
   },
   {
    "duration": 477,
    "start_time": "2023-05-23T10:20:05.899Z"
   },
   {
    "duration": 1132,
    "start_time": "2023-05-23T10:20:34.639Z"
   },
   {
    "duration": 6,
    "start_time": "2023-05-23T10:20:52.587Z"
   },
   {
    "duration": 1011,
    "start_time": "2023-05-23T10:22:20.265Z"
   },
   {
    "duration": 661,
    "start_time": "2023-05-23T10:22:21.277Z"
   },
   {
    "duration": 109,
    "start_time": "2023-05-23T10:22:21.940Z"
   },
   {
    "duration": 20,
    "start_time": "2023-05-23T10:22:22.051Z"
   },
   {
    "duration": 400,
    "start_time": "2023-05-23T10:22:22.074Z"
   },
   {
    "duration": 860,
    "start_time": "2023-05-23T10:22:22.476Z"
   },
   {
    "duration": 125,
    "start_time": "2023-05-23T10:22:23.338Z"
   },
   {
    "duration": 71,
    "start_time": "2023-05-23T10:22:23.465Z"
   },
   {
    "duration": 131,
    "start_time": "2023-05-23T10:22:23.538Z"
   },
   {
    "duration": 25,
    "start_time": "2023-05-23T10:22:23.671Z"
   },
   {
    "duration": 114,
    "start_time": "2023-05-23T10:22:23.705Z"
   },
   {
    "duration": 64,
    "start_time": "2023-05-23T10:22:23.820Z"
   },
   {
    "duration": 97,
    "start_time": "2023-05-23T10:22:23.886Z"
   },
   {
    "duration": 122,
    "start_time": "2023-05-23T10:22:23.985Z"
   },
   {
    "duration": 8,
    "start_time": "2023-05-23T10:22:24.110Z"
   },
   {
    "duration": 148,
    "start_time": "2023-05-23T10:22:24.119Z"
   },
   {
    "duration": 69,
    "start_time": "2023-05-23T10:22:24.269Z"
   },
   {
    "duration": 104,
    "start_time": "2023-05-23T10:22:24.339Z"
   },
   {
    "duration": 21,
    "start_time": "2023-05-23T10:22:24.445Z"
   },
   {
    "duration": 131,
    "start_time": "2023-05-23T10:22:24.467Z"
   },
   {
    "duration": 22,
    "start_time": "2023-05-23T10:22:24.599Z"
   },
   {
    "duration": 5,
    "start_time": "2023-05-23T10:22:24.623Z"
   },
   {
    "duration": 485,
    "start_time": "2023-05-23T10:22:24.629Z"
   },
   {
    "duration": 46,
    "start_time": "2023-05-23T10:32:35.238Z"
   },
   {
    "duration": 262,
    "start_time": "2023-05-23T12:35:55.139Z"
   },
   {
    "duration": 3,
    "start_time": "2023-05-23T12:42:49.855Z"
   },
   {
    "duration": 56,
    "start_time": "2023-05-23T14:39:06.656Z"
   },
   {
    "duration": 11,
    "start_time": "2023-05-23T14:40:26.820Z"
   },
   {
    "duration": 49,
    "start_time": "2023-05-23T14:59:53.835Z"
   },
   {
    "duration": 56,
    "start_time": "2023-05-23T15:00:28.195Z"
   },
   {
    "duration": 50,
    "start_time": "2023-05-23T15:00:40.117Z"
   },
   {
    "duration": 51,
    "start_time": "2023-05-23T15:01:00.069Z"
   },
   {
    "duration": 101,
    "start_time": "2023-05-23T15:06:00.082Z"
   },
   {
    "duration": 38,
    "start_time": "2023-05-23T15:09:38.384Z"
   },
   {
    "duration": 15,
    "start_time": "2023-05-23T15:10:10.249Z"
   },
   {
    "duration": 22,
    "start_time": "2023-05-23T15:10:44.182Z"
   },
   {
    "duration": 17,
    "start_time": "2023-05-23T15:11:52.448Z"
   },
   {
    "duration": 22,
    "start_time": "2023-05-23T15:12:25.119Z"
   },
   {
    "duration": 42,
    "start_time": "2023-05-23T15:12:45.507Z"
   },
   {
    "duration": 94,
    "start_time": "2023-05-23T15:14:05.108Z"
   },
   {
    "duration": 151,
    "start_time": "2023-05-23T15:15:24.875Z"
   },
   {
    "duration": 7978,
    "start_time": "2023-05-23T15:15:53.346Z"
   },
   {
    "duration": 7576,
    "start_time": "2023-05-23T15:16:20.734Z"
   },
   {
    "duration": 7344,
    "start_time": "2023-05-23T15:17:27.507Z"
   },
   {
    "duration": 71,
    "start_time": "2023-05-23T15:17:49.369Z"
   },
   {
    "duration": 97,
    "start_time": "2023-05-23T15:18:22.851Z"
   },
   {
    "duration": 802,
    "start_time": "2023-05-23T15:19:46.602Z"
   },
   {
    "duration": 1001,
    "start_time": "2023-05-23T15:23:03.587Z"
   },
   {
    "duration": 948,
    "start_time": "2023-05-23T15:23:21.433Z"
   },
   {
    "duration": 21,
    "start_time": "2023-05-23T15:27:29.013Z"
   },
   {
    "duration": 3552,
    "start_time": "2023-05-23T15:30:16.604Z"
   },
   {
    "duration": 16,
    "start_time": "2023-05-23T15:30:54.141Z"
   },
   {
    "duration": 20,
    "start_time": "2023-05-23T15:31:17.704Z"
   },
   {
    "duration": 53,
    "start_time": "2023-05-24T11:39:46.484Z"
   },
   {
    "duration": 1706,
    "start_time": "2023-05-24T11:40:03.695Z"
   },
   {
    "duration": 1117,
    "start_time": "2023-05-24T11:40:05.403Z"
   },
   {
    "duration": 164,
    "start_time": "2023-05-24T11:40:06.521Z"
   },
   {
    "duration": 28,
    "start_time": "2023-05-24T11:40:06.687Z"
   },
   {
    "duration": 492,
    "start_time": "2023-05-24T11:40:06.717Z"
   },
   {
    "duration": 1039,
    "start_time": "2023-05-24T11:40:07.211Z"
   },
   {
    "duration": 175,
    "start_time": "2023-05-24T11:40:08.252Z"
   },
   {
    "duration": 104,
    "start_time": "2023-05-24T11:40:08.429Z"
   },
   {
    "duration": 216,
    "start_time": "2023-05-24T11:40:08.535Z"
   },
   {
    "duration": 49,
    "start_time": "2023-05-24T11:40:08.753Z"
   },
   {
    "duration": 156,
    "start_time": "2023-05-24T11:40:08.803Z"
   },
   {
    "duration": 92,
    "start_time": "2023-05-24T11:40:08.961Z"
   },
   {
    "duration": 124,
    "start_time": "2023-05-24T11:40:09.055Z"
   },
   {
    "duration": 176,
    "start_time": "2023-05-24T11:40:09.182Z"
   },
   {
    "duration": 9,
    "start_time": "2023-05-24T11:40:09.360Z"
   },
   {
    "duration": 187,
    "start_time": "2023-05-24T11:40:09.371Z"
   },
   {
    "duration": 38,
    "start_time": "2023-05-24T11:40:09.559Z"
   },
   {
    "duration": 147,
    "start_time": "2023-05-24T11:40:09.599Z"
   },
   {
    "duration": 28,
    "start_time": "2023-05-24T11:40:09.749Z"
   },
   {
    "duration": 171,
    "start_time": "2023-05-24T11:40:09.779Z"
   },
   {
    "duration": 22,
    "start_time": "2023-05-24T11:40:09.952Z"
   },
   {
    "duration": 6,
    "start_time": "2023-05-24T11:40:09.976Z"
   },
   {
    "duration": 619,
    "start_time": "2023-05-24T11:40:09.983Z"
   },
   {
    "duration": 84,
    "start_time": "2023-05-24T11:40:10.604Z"
   },
   {
    "duration": 15,
    "start_time": "2023-05-24T11:40:10.690Z"
   },
   {
    "duration": 79,
    "start_time": "2023-05-24T11:40:10.707Z"
   },
   {
    "duration": 136,
    "start_time": "2023-05-24T11:40:14.324Z"
   },
   {
    "duration": 964,
    "start_time": "2023-05-24T11:40:34.241Z"
   },
   {
    "duration": 2115,
    "start_time": "2023-05-24T11:41:45.541Z"
   },
   {
    "duration": 1623,
    "start_time": "2023-05-24T11:45:35.339Z"
   },
   {
    "duration": 966,
    "start_time": "2023-05-24T11:45:36.964Z"
   },
   {
    "duration": 167,
    "start_time": "2023-05-24T11:45:37.932Z"
   },
   {
    "duration": 46,
    "start_time": "2023-05-24T11:45:38.101Z"
   },
   {
    "duration": 554,
    "start_time": "2023-05-24T11:45:38.149Z"
   },
   {
    "duration": 1165,
    "start_time": "2023-05-24T11:45:38.705Z"
   },
   {
    "duration": 167,
    "start_time": "2023-05-24T11:45:39.873Z"
   },
   {
    "duration": 112,
    "start_time": "2023-05-24T11:45:40.042Z"
   },
   {
    "duration": 222,
    "start_time": "2023-05-24T11:45:40.156Z"
   },
   {
    "duration": 51,
    "start_time": "2023-05-24T11:45:40.381Z"
   },
   {
    "duration": 212,
    "start_time": "2023-05-24T11:45:40.447Z"
   },
   {
    "duration": 96,
    "start_time": "2023-05-24T11:45:40.661Z"
   },
   {
    "duration": 150,
    "start_time": "2023-05-24T11:45:40.759Z"
   },
   {
    "duration": 177,
    "start_time": "2023-05-24T11:45:40.913Z"
   },
   {
    "duration": 260,
    "start_time": "2023-05-24T11:45:41.092Z"
   },
   {
    "duration": 205,
    "start_time": "2023-05-24T11:45:41.354Z"
   },
   {
    "duration": 46,
    "start_time": "2023-05-24T11:45:41.561Z"
   },
   {
    "duration": 159,
    "start_time": "2023-05-24T11:45:41.609Z"
   },
   {
    "duration": 26,
    "start_time": "2023-05-24T11:45:41.770Z"
   },
   {
    "duration": 182,
    "start_time": "2023-05-24T11:45:41.799Z"
   },
   {
    "duration": 32,
    "start_time": "2023-05-24T11:45:41.983Z"
   },
   {
    "duration": 60,
    "start_time": "2023-05-24T11:45:42.017Z"
   },
   {
    "duration": 767,
    "start_time": "2023-05-24T11:45:42.080Z"
   },
   {
    "duration": 114,
    "start_time": "2023-05-24T11:45:42.849Z"
   },
   {
    "duration": 24,
    "start_time": "2023-05-24T11:45:42.968Z"
   },
   {
    "duration": 120,
    "start_time": "2023-05-24T11:45:42.994Z"
   },
   {
    "duration": 1650,
    "start_time": "2023-05-24T11:45:46.193Z"
   },
   {
    "duration": 1664,
    "start_time": "2023-05-24T11:47:46.018Z"
   },
   {
    "duration": 1831,
    "start_time": "2023-05-24T11:48:58.594Z"
   },
   {
    "duration": 2646,
    "start_time": "2023-05-24T11:50:06.602Z"
   },
   {
    "duration": 5,
    "start_time": "2023-05-24T11:50:41.537Z"
   },
   {
    "duration": 2443,
    "start_time": "2023-05-24T11:51:40.188Z"
   },
   {
    "duration": 3165,
    "start_time": "2023-05-24T12:00:25.043Z"
   },
   {
    "duration": 1429,
    "start_time": "2023-05-24T12:00:28.210Z"
   },
   {
    "duration": 193,
    "start_time": "2023-05-24T12:00:29.641Z"
   },
   {
    "duration": 43,
    "start_time": "2023-05-24T12:00:29.847Z"
   },
   {
    "duration": 622,
    "start_time": "2023-05-24T12:00:29.892Z"
   },
   {
    "duration": 1259,
    "start_time": "2023-05-24T12:00:30.516Z"
   },
   {
    "duration": 194,
    "start_time": "2023-05-24T12:00:31.776Z"
   },
   {
    "duration": 105,
    "start_time": "2023-05-24T12:00:31.974Z"
   },
   {
    "duration": 246,
    "start_time": "2023-05-24T12:00:32.081Z"
   },
   {
    "duration": 52,
    "start_time": "2023-05-24T12:00:32.329Z"
   },
   {
    "duration": 209,
    "start_time": "2023-05-24T12:00:32.383Z"
   },
   {
    "duration": 110,
    "start_time": "2023-05-24T12:00:32.593Z"
   },
   {
    "duration": 175,
    "start_time": "2023-05-24T12:00:32.705Z"
   },
   {
    "duration": 204,
    "start_time": "2023-05-24T12:00:32.884Z"
   },
   {
    "duration": 8,
    "start_time": "2023-05-24T12:00:33.090Z"
   },
   {
    "duration": 196,
    "start_time": "2023-05-24T12:00:33.099Z"
   },
   {
    "duration": 41,
    "start_time": "2023-05-24T12:00:33.297Z"
   },
   {
    "duration": 137,
    "start_time": "2023-05-24T12:00:33.340Z"
   },
   {
    "duration": 24,
    "start_time": "2023-05-24T12:00:33.480Z"
   },
   {
    "duration": 174,
    "start_time": "2023-05-24T12:00:33.506Z"
   },
   {
    "duration": 23,
    "start_time": "2023-05-24T12:00:33.682Z"
   },
   {
    "duration": 10,
    "start_time": "2023-05-24T12:00:33.707Z"
   },
   {
    "duration": 570,
    "start_time": "2023-05-24T12:00:33.719Z"
   },
   {
    "duration": 107,
    "start_time": "2023-05-24T12:00:34.291Z"
   },
   {
    "duration": 15,
    "start_time": "2023-05-24T12:00:34.400Z"
   },
   {
    "duration": 87,
    "start_time": "2023-05-24T12:00:34.417Z"
   },
   {
    "duration": 1719,
    "start_time": "2023-05-24T12:00:34.506Z"
   },
   {
    "duration": 0,
    "start_time": "2023-05-24T12:00:36.227Z"
   },
   {
    "duration": 1555,
    "start_time": "2023-05-24T12:01:27.848Z"
   },
   {
    "duration": 1812,
    "start_time": "2023-05-24T12:01:31.865Z"
   },
   {
    "duration": 65,
    "start_time": "2023-05-24T12:01:44.517Z"
   },
   {
    "duration": 2984,
    "start_time": "2023-05-24T12:02:41.600Z"
   },
   {
    "duration": 1327,
    "start_time": "2023-05-24T12:02:44.585Z"
   },
   {
    "duration": 168,
    "start_time": "2023-05-24T12:02:45.914Z"
   },
   {
    "duration": 27,
    "start_time": "2023-05-24T12:02:46.084Z"
   },
   {
    "duration": 604,
    "start_time": "2023-05-24T12:02:46.113Z"
   },
   {
    "duration": 1182,
    "start_time": "2023-05-24T12:02:46.719Z"
   },
   {
    "duration": 175,
    "start_time": "2023-05-24T12:02:47.903Z"
   },
   {
    "duration": 103,
    "start_time": "2023-05-24T12:02:48.079Z"
   },
   {
    "duration": 247,
    "start_time": "2023-05-24T12:02:48.184Z"
   },
   {
    "duration": 55,
    "start_time": "2023-05-24T12:02:48.434Z"
   },
   {
    "duration": 161,
    "start_time": "2023-05-24T12:02:48.491Z"
   },
   {
    "duration": 77,
    "start_time": "2023-05-24T12:02:48.653Z"
   },
   {
    "duration": 135,
    "start_time": "2023-05-24T12:02:48.732Z"
   },
   {
    "duration": 165,
    "start_time": "2023-05-24T12:02:48.869Z"
   },
   {
    "duration": 20,
    "start_time": "2023-05-24T12:02:49.035Z"
   },
   {
    "duration": 221,
    "start_time": "2023-05-24T12:02:49.060Z"
   },
   {
    "duration": 91,
    "start_time": "2023-05-24T12:02:49.284Z"
   },
   {
    "duration": 133,
    "start_time": "2023-05-24T12:02:49.377Z"
   },
   {
    "duration": 24,
    "start_time": "2023-05-24T12:02:49.511Z"
   },
   {
    "duration": 155,
    "start_time": "2023-05-24T12:02:49.537Z"
   },
   {
    "duration": 24,
    "start_time": "2023-05-24T12:02:49.694Z"
   },
   {
    "duration": 5,
    "start_time": "2023-05-24T12:02:49.720Z"
   },
   {
    "duration": 570,
    "start_time": "2023-05-24T12:02:49.727Z"
   },
   {
    "duration": 102,
    "start_time": "2023-05-24T12:02:50.299Z"
   },
   {
    "duration": 13,
    "start_time": "2023-05-24T12:02:50.403Z"
   },
   {
    "duration": 77,
    "start_time": "2023-05-24T12:02:50.418Z"
   },
   {
    "duration": 1386,
    "start_time": "2023-05-24T12:02:50.497Z"
   },
   {
    "duration": 0,
    "start_time": "2023-05-24T12:02:51.885Z"
   },
   {
    "duration": 0,
    "start_time": "2023-05-24T12:02:51.886Z"
   },
   {
    "duration": 1545,
    "start_time": "2023-05-24T12:03:10.663Z"
   },
   {
    "duration": 10,
    "start_time": "2023-05-24T12:03:13.174Z"
   },
   {
    "duration": 1814,
    "start_time": "2023-05-24T12:03:23.899Z"
   },
   {
    "duration": 2080430,
    "start_time": "2023-05-24T12:03:27.571Z"
   },
   {
    "duration": 1798,
    "start_time": "2023-05-24T12:38:14.107Z"
   },
   {
    "duration": 955,
    "start_time": "2023-05-24T12:38:15.907Z"
   },
   {
    "duration": 181,
    "start_time": "2023-05-24T12:38:16.863Z"
   },
   {
    "duration": 33,
    "start_time": "2023-05-24T12:38:17.048Z"
   },
   {
    "duration": 589,
    "start_time": "2023-05-24T12:38:17.084Z"
   },
   {
    "duration": 1189,
    "start_time": "2023-05-24T12:38:17.675Z"
   },
   {
    "duration": 173,
    "start_time": "2023-05-24T12:38:18.866Z"
   },
   {
    "duration": 117,
    "start_time": "2023-05-24T12:38:19.041Z"
   },
   {
    "duration": 204,
    "start_time": "2023-05-24T12:38:19.160Z"
   },
   {
    "duration": 34,
    "start_time": "2023-05-24T12:38:19.366Z"
   },
   {
    "duration": 163,
    "start_time": "2023-05-24T12:38:19.402Z"
   },
   {
    "duration": 93,
    "start_time": "2023-05-24T12:38:19.567Z"
   },
   {
    "duration": 130,
    "start_time": "2023-05-24T12:38:19.662Z"
   },
   {
    "duration": 182,
    "start_time": "2023-05-24T12:38:19.795Z"
   },
   {
    "duration": 8,
    "start_time": "2023-05-24T12:38:19.979Z"
   },
   {
    "duration": 186,
    "start_time": "2023-05-24T12:38:19.988Z"
   },
   {
    "duration": 44,
    "start_time": "2023-05-24T12:38:20.175Z"
   },
   {
    "duration": 144,
    "start_time": "2023-05-24T12:38:20.221Z"
   },
   {
    "duration": 25,
    "start_time": "2023-05-24T12:38:20.367Z"
   },
   {
    "duration": 168,
    "start_time": "2023-05-24T12:38:20.394Z"
   },
   {
    "duration": 24,
    "start_time": "2023-05-24T12:38:20.564Z"
   },
   {
    "duration": 8,
    "start_time": "2023-05-24T12:38:20.590Z"
   },
   {
    "duration": 572,
    "start_time": "2023-05-24T12:38:20.600Z"
   },
   {
    "duration": 100,
    "start_time": "2023-05-24T12:38:21.174Z"
   },
   {
    "duration": 17,
    "start_time": "2023-05-24T12:38:21.277Z"
   },
   {
    "duration": 98,
    "start_time": "2023-05-24T12:38:21.296Z"
   },
   {
    "duration": 1590,
    "start_time": "2023-05-24T12:38:21.396Z"
   },
   {
    "duration": 1798,
    "start_time": "2023-05-24T12:38:22.988Z"
   },
   {
    "duration": 168233,
    "start_time": "2023-05-24T12:39:55.714Z"
   },
   {
    "duration": 5,
    "start_time": "2023-05-24T12:46:20.000Z"
   },
   {
    "duration": 7,
    "start_time": "2023-05-24T12:46:33.356Z"
   },
   {
    "duration": 6,
    "start_time": "2023-05-24T12:47:36.475Z"
   },
   {
    "duration": 40882,
    "start_time": "2023-05-24T12:48:05.971Z"
   },
   {
    "duration": 3819,
    "start_time": "2023-05-24T12:49:13.605Z"
   },
   {
    "duration": 1315,
    "start_time": "2023-05-24T12:49:17.426Z"
   },
   {
    "duration": 194,
    "start_time": "2023-05-24T12:49:18.743Z"
   },
   {
    "duration": 48,
    "start_time": "2023-05-24T12:49:18.938Z"
   },
   {
    "duration": 602,
    "start_time": "2023-05-24T12:49:18.988Z"
   },
   {
    "duration": 1285,
    "start_time": "2023-05-24T12:49:19.592Z"
   },
   {
    "duration": 192,
    "start_time": "2023-05-24T12:49:20.878Z"
   },
   {
    "duration": 112,
    "start_time": "2023-05-24T12:49:21.075Z"
   },
   {
    "duration": 227,
    "start_time": "2023-05-24T12:49:21.189Z"
   },
   {
    "duration": 58,
    "start_time": "2023-05-24T12:49:21.418Z"
   },
   {
    "duration": 165,
    "start_time": "2023-05-24T12:49:21.478Z"
   },
   {
    "duration": 83,
    "start_time": "2023-05-24T12:49:21.654Z"
   },
   {
    "duration": 149,
    "start_time": "2023-05-24T12:49:21.739Z"
   },
   {
    "duration": 199,
    "start_time": "2023-05-24T12:49:21.891Z"
   },
   {
    "duration": 7,
    "start_time": "2023-05-24T12:49:22.092Z"
   },
   {
    "duration": 195,
    "start_time": "2023-05-24T12:49:22.101Z"
   },
   {
    "duration": 64,
    "start_time": "2023-05-24T12:49:22.298Z"
   },
   {
    "duration": 155,
    "start_time": "2023-05-24T12:49:22.366Z"
   },
   {
    "duration": 42,
    "start_time": "2023-05-24T12:49:22.523Z"
   },
   {
    "duration": 206,
    "start_time": "2023-05-24T12:49:22.567Z"
   },
   {
    "duration": 26,
    "start_time": "2023-05-24T12:49:22.778Z"
   },
   {
    "duration": 6,
    "start_time": "2023-05-24T12:49:22.806Z"
   },
   {
    "duration": 618,
    "start_time": "2023-05-24T12:49:22.814Z"
   },
   {
    "duration": 97,
    "start_time": "2023-05-24T12:49:23.434Z"
   },
   {
    "duration": 39,
    "start_time": "2023-05-24T12:49:23.533Z"
   },
   {
    "duration": 79,
    "start_time": "2023-05-24T12:49:23.575Z"
   },
   {
    "duration": 1670,
    "start_time": "2023-05-24T12:49:23.656Z"
   },
   {
    "duration": 1881,
    "start_time": "2023-05-24T12:49:27.795Z"
   },
   {
    "duration": 1565397,
    "start_time": "2023-05-24T12:49:34.069Z"
   },
   {
    "duration": 6,
    "start_time": "2023-05-24T13:32:06.377Z"
   },
   {
    "duration": 146,
    "start_time": "2023-05-24T13:36:29.354Z"
   },
   {
    "duration": 5,
    "start_time": "2023-05-24T13:36:33.897Z"
   },
   {
    "duration": 5,
    "start_time": "2023-05-24T13:41:15.769Z"
   },
   {
    "duration": 13,
    "start_time": "2023-05-24T13:48:27.449Z"
   },
   {
    "duration": 8,
    "start_time": "2023-05-24T13:48:43.090Z"
   },
   {
    "duration": 9,
    "start_time": "2023-05-24T13:51:02.364Z"
   },
   {
    "duration": 238417,
    "start_time": "2023-05-24T13:53:22.651Z"
   },
   {
    "duration": 4,
    "start_time": "2023-05-24T14:01:00.564Z"
   },
   {
    "duration": 4,
    "start_time": "2023-05-24T14:01:15.398Z"
   },
   {
    "duration": 5,
    "start_time": "2023-05-24T14:01:40.953Z"
   },
   {
    "duration": 11,
    "start_time": "2023-05-24T14:21:12.865Z"
   },
   {
    "duration": 12,
    "start_time": "2023-05-24T14:21:18.692Z"
   },
   {
    "duration": 4,
    "start_time": "2023-05-24T14:21:53.361Z"
   },
   {
    "duration": 1294687,
    "start_time": "2023-05-24T14:21:59.511Z"
   },
   {
    "duration": 3101,
    "start_time": "2023-05-24T14:43:54.886Z"
   },
   {
    "duration": 1238,
    "start_time": "2023-05-24T14:43:57.991Z"
   },
   {
    "duration": 195,
    "start_time": "2023-05-24T14:43:59.231Z"
   },
   {
    "duration": 48,
    "start_time": "2023-05-24T14:43:59.430Z"
   },
   {
    "duration": 580,
    "start_time": "2023-05-24T14:43:59.481Z"
   },
   {
    "duration": 1165,
    "start_time": "2023-05-24T14:44:00.063Z"
   },
   {
    "duration": 162,
    "start_time": "2023-05-24T14:44:01.230Z"
   },
   {
    "duration": 105,
    "start_time": "2023-05-24T14:44:01.393Z"
   },
   {
    "duration": 212,
    "start_time": "2023-05-24T14:44:01.500Z"
   },
   {
    "duration": 40,
    "start_time": "2023-05-24T14:44:01.713Z"
   },
   {
    "duration": 192,
    "start_time": "2023-05-24T14:44:01.755Z"
   },
   {
    "duration": 82,
    "start_time": "2023-05-24T14:44:01.949Z"
   },
   {
    "duration": 134,
    "start_time": "2023-05-24T14:44:02.033Z"
   },
   {
    "duration": 167,
    "start_time": "2023-05-24T14:44:02.170Z"
   },
   {
    "duration": 14,
    "start_time": "2023-05-24T14:44:02.339Z"
   },
   {
    "duration": 214,
    "start_time": "2023-05-24T14:44:02.355Z"
   },
   {
    "duration": 42,
    "start_time": "2023-05-24T14:44:02.571Z"
   },
   {
    "duration": 161,
    "start_time": "2023-05-24T14:44:02.615Z"
   },
   {
    "duration": 29,
    "start_time": "2023-05-24T14:44:02.778Z"
   },
   {
    "duration": 195,
    "start_time": "2023-05-24T14:44:02.810Z"
   },
   {
    "duration": 26,
    "start_time": "2023-05-24T14:44:03.007Z"
   },
   {
    "duration": 16,
    "start_time": "2023-05-24T14:44:03.035Z"
   },
   {
    "duration": 577,
    "start_time": "2023-05-24T14:44:03.053Z"
   },
   {
    "duration": 80,
    "start_time": "2023-05-24T14:44:03.632Z"
   },
   {
    "duration": 14,
    "start_time": "2023-05-24T14:44:03.713Z"
   },
   {
    "duration": 69,
    "start_time": "2023-05-24T14:44:03.747Z"
   },
   {
    "duration": 1526,
    "start_time": "2023-05-24T14:44:03.818Z"
   },
   {
    "duration": 1792,
    "start_time": "2023-05-24T14:44:05.346Z"
   },
   {
    "duration": 54656,
    "start_time": "2023-05-24T14:44:07.140Z"
   },
   {
    "duration": 2933,
    "start_time": "2023-05-24T14:45:23.659Z"
   },
   {
    "duration": 1268,
    "start_time": "2023-05-24T14:45:26.595Z"
   },
   {
    "duration": 176,
    "start_time": "2023-05-24T14:45:27.864Z"
   },
   {
    "duration": 35,
    "start_time": "2023-05-24T14:45:28.046Z"
   },
   {
    "duration": 601,
    "start_time": "2023-05-24T14:45:28.083Z"
   },
   {
    "duration": 1186,
    "start_time": "2023-05-24T14:45:28.687Z"
   },
   {
    "duration": 171,
    "start_time": "2023-05-24T14:45:29.875Z"
   },
   {
    "duration": 107,
    "start_time": "2023-05-24T14:45:30.048Z"
   },
   {
    "duration": 208,
    "start_time": "2023-05-24T14:45:30.157Z"
   },
   {
    "duration": 35,
    "start_time": "2023-05-24T14:45:30.367Z"
   },
   {
    "duration": 332,
    "start_time": "2023-05-24T14:45:30.405Z"
   },
   {
    "duration": 0,
    "start_time": "2023-05-24T14:45:30.739Z"
   },
   {
    "duration": 1,
    "start_time": "2023-05-24T14:45:30.740Z"
   },
   {
    "duration": 0,
    "start_time": "2023-05-24T14:45:30.742Z"
   },
   {
    "duration": 0,
    "start_time": "2023-05-24T14:45:30.743Z"
   },
   {
    "duration": 0,
    "start_time": "2023-05-24T14:45:30.744Z"
   },
   {
    "duration": 0,
    "start_time": "2023-05-24T14:45:30.745Z"
   },
   {
    "duration": 0,
    "start_time": "2023-05-24T14:45:30.747Z"
   },
   {
    "duration": 0,
    "start_time": "2023-05-24T14:45:30.748Z"
   },
   {
    "duration": 1,
    "start_time": "2023-05-24T14:45:30.749Z"
   },
   {
    "duration": 0,
    "start_time": "2023-05-24T14:45:30.751Z"
   },
   {
    "duration": 0,
    "start_time": "2023-05-24T14:45:30.753Z"
   },
   {
    "duration": 0,
    "start_time": "2023-05-24T14:45:30.754Z"
   },
   {
    "duration": 0,
    "start_time": "2023-05-24T14:45:30.756Z"
   },
   {
    "duration": 0,
    "start_time": "2023-05-24T14:45:30.757Z"
   },
   {
    "duration": 0,
    "start_time": "2023-05-24T14:45:30.759Z"
   },
   {
    "duration": 0,
    "start_time": "2023-05-24T14:45:30.760Z"
   },
   {
    "duration": 0,
    "start_time": "2023-05-24T14:45:30.762Z"
   },
   {
    "duration": 0,
    "start_time": "2023-05-24T14:45:30.763Z"
   },
   {
    "duration": 1592,
    "start_time": "2023-05-24T14:46:00.807Z"
   },
   {
    "duration": 1088,
    "start_time": "2023-05-24T14:46:02.401Z"
   },
   {
    "duration": 180,
    "start_time": "2023-05-24T14:46:03.491Z"
   },
   {
    "duration": 32,
    "start_time": "2023-05-24T14:46:03.673Z"
   },
   {
    "duration": 613,
    "start_time": "2023-05-24T14:46:03.708Z"
   },
   {
    "duration": 1210,
    "start_time": "2023-05-24T14:46:04.323Z"
   },
   {
    "duration": 171,
    "start_time": "2023-05-24T14:46:05.536Z"
   },
   {
    "duration": 115,
    "start_time": "2023-05-24T14:46:05.709Z"
   },
   {
    "duration": 264,
    "start_time": "2023-05-24T14:46:05.827Z"
   },
   {
    "duration": 36,
    "start_time": "2023-05-24T14:46:06.093Z"
   },
   {
    "duration": 166,
    "start_time": "2023-05-24T14:46:06.131Z"
   },
   {
    "duration": 99,
    "start_time": "2023-05-24T14:46:06.299Z"
   },
   {
    "duration": 148,
    "start_time": "2023-05-24T14:46:06.401Z"
   },
   {
    "duration": 175,
    "start_time": "2023-05-24T14:46:06.553Z"
   },
   {
    "duration": 18,
    "start_time": "2023-05-24T14:46:06.729Z"
   },
   {
    "duration": 202,
    "start_time": "2023-05-24T14:46:06.749Z"
   },
   {
    "duration": 43,
    "start_time": "2023-05-24T14:46:06.953Z"
   },
   {
    "duration": 158,
    "start_time": "2023-05-24T14:46:06.998Z"
   },
   {
    "duration": 26,
    "start_time": "2023-05-24T14:46:07.158Z"
   },
   {
    "duration": 155,
    "start_time": "2023-05-24T14:46:07.186Z"
   },
   {
    "duration": 22,
    "start_time": "2023-05-24T14:46:07.347Z"
   },
   {
    "duration": 8,
    "start_time": "2023-05-24T14:46:07.371Z"
   },
   {
    "duration": 643,
    "start_time": "2023-05-24T14:46:07.383Z"
   },
   {
    "duration": 105,
    "start_time": "2023-05-24T14:46:08.028Z"
   },
   {
    "duration": 30,
    "start_time": "2023-05-24T14:46:08.135Z"
   },
   {
    "duration": 61,
    "start_time": "2023-05-24T14:46:08.168Z"
   },
   {
    "duration": 1676,
    "start_time": "2023-05-24T14:46:08.245Z"
   },
   {
    "duration": 1903,
    "start_time": "2023-05-24T14:46:09.923Z"
   },
   {
    "duration": 698818,
    "start_time": "2023-05-24T14:46:11.828Z"
   },
   {
    "duration": 47,
    "start_time": "2023-05-25T10:17:59.453Z"
   },
   {
    "duration": 1840,
    "start_time": "2023-05-25T10:18:12.892Z"
   },
   {
    "duration": 2874,
    "start_time": "2023-05-25T10:18:14.735Z"
   },
   {
    "duration": 133,
    "start_time": "2023-05-25T10:18:17.611Z"
   },
   {
    "duration": 43,
    "start_time": "2023-05-25T10:18:17.756Z"
   },
   {
    "duration": 494,
    "start_time": "2023-05-25T10:18:17.802Z"
   },
   {
    "duration": 984,
    "start_time": "2023-05-25T10:18:18.298Z"
   },
   {
    "duration": 125,
    "start_time": "2023-05-25T10:18:19.284Z"
   },
   {
    "duration": 77,
    "start_time": "2023-05-25T10:18:19.411Z"
   },
   {
    "duration": 149,
    "start_time": "2023-05-25T10:18:19.489Z"
   },
   {
    "duration": 34,
    "start_time": "2023-05-25T10:18:19.640Z"
   },
   {
    "duration": 133,
    "start_time": "2023-05-25T10:18:19.676Z"
   },
   {
    "duration": 74,
    "start_time": "2023-05-25T10:18:19.810Z"
   },
   {
    "duration": 107,
    "start_time": "2023-05-25T10:18:19.886Z"
   },
   {
    "duration": 133,
    "start_time": "2023-05-25T10:18:19.996Z"
   },
   {
    "duration": 7,
    "start_time": "2023-05-25T10:18:20.131Z"
   },
   {
    "duration": 176,
    "start_time": "2023-05-25T10:18:20.140Z"
   },
   {
    "duration": 78,
    "start_time": "2023-05-25T10:18:20.318Z"
   },
   {
    "duration": 125,
    "start_time": "2023-05-25T10:18:20.397Z"
   },
   {
    "duration": 23,
    "start_time": "2023-05-25T10:18:20.523Z"
   },
   {
    "duration": 143,
    "start_time": "2023-05-25T10:18:20.547Z"
   },
   {
    "duration": 22,
    "start_time": "2023-05-25T10:18:20.691Z"
   },
   {
    "duration": 10,
    "start_time": "2023-05-25T10:18:20.714Z"
   },
   {
    "duration": 570,
    "start_time": "2023-05-25T10:18:20.725Z"
   },
   {
    "duration": 77,
    "start_time": "2023-05-25T10:18:21.297Z"
   },
   {
    "duration": 13,
    "start_time": "2023-05-25T10:18:21.375Z"
   },
   {
    "duration": 68,
    "start_time": "2023-05-25T10:18:21.390Z"
   },
   {
    "duration": 1421,
    "start_time": "2023-05-25T10:18:21.459Z"
   },
   {
    "duration": 1755,
    "start_time": "2023-05-25T10:18:22.882Z"
   },
   {
    "duration": 114,
    "start_time": "2023-05-25T10:19:35.404Z"
   },
   {
    "duration": 1830658,
    "start_time": "2023-05-25T10:19:55.112Z"
   },
   {
    "duration": 11,
    "start_time": "2023-05-25T10:50:25.771Z"
   },
   {
    "duration": 0,
    "start_time": "2023-05-25T10:50:25.784Z"
   },
   {
    "duration": 12,
    "start_time": "2023-05-25T11:50:31.403Z"
   },
   {
    "duration": 45,
    "start_time": "2023-05-25T11:51:26.200Z"
   },
   {
    "duration": 1393,
    "start_time": "2023-05-25T11:52:09.801Z"
   },
   {
    "duration": 2882,
    "start_time": "2023-05-25T11:52:11.196Z"
   },
   {
    "duration": 153,
    "start_time": "2023-05-25T11:52:14.080Z"
   },
   {
    "duration": 27,
    "start_time": "2023-05-25T11:52:14.235Z"
   },
   {
    "duration": 523,
    "start_time": "2023-05-25T11:52:14.263Z"
   },
   {
    "duration": 1052,
    "start_time": "2023-05-25T11:52:14.788Z"
   },
   {
    "duration": 142,
    "start_time": "2023-05-25T11:52:15.842Z"
   },
   {
    "duration": 91,
    "start_time": "2023-05-25T11:52:15.986Z"
   },
   {
    "duration": 160,
    "start_time": "2023-05-25T11:52:16.080Z"
   },
   {
    "duration": 37,
    "start_time": "2023-05-25T11:52:16.243Z"
   },
   {
    "duration": 124,
    "start_time": "2023-05-25T11:52:16.281Z"
   },
   {
    "duration": 71,
    "start_time": "2023-05-25T11:52:16.407Z"
   },
   {
    "duration": 107,
    "start_time": "2023-05-25T11:52:16.479Z"
   },
   {
    "duration": 141,
    "start_time": "2023-05-25T11:52:16.587Z"
   },
   {
    "duration": 7,
    "start_time": "2023-05-25T11:52:16.730Z"
   },
   {
    "duration": 163,
    "start_time": "2023-05-25T11:52:16.739Z"
   },
   {
    "duration": 73,
    "start_time": "2023-05-25T11:52:16.904Z"
   },
   {
    "duration": 116,
    "start_time": "2023-05-25T11:52:16.978Z"
   },
   {
    "duration": 22,
    "start_time": "2023-05-25T11:52:17.096Z"
   },
   {
    "duration": 140,
    "start_time": "2023-05-25T11:52:17.120Z"
   },
   {
    "duration": 20,
    "start_time": "2023-05-25T11:52:17.262Z"
   },
   {
    "duration": 5,
    "start_time": "2023-05-25T11:52:17.284Z"
   },
   {
    "duration": 624,
    "start_time": "2023-05-25T11:52:17.291Z"
   },
   {
    "duration": 71,
    "start_time": "2023-05-25T11:52:17.916Z"
   },
   {
    "duration": 13,
    "start_time": "2023-05-25T11:52:17.989Z"
   },
   {
    "duration": 66,
    "start_time": "2023-05-25T11:52:18.004Z"
   },
   {
    "duration": 1335,
    "start_time": "2023-05-25T11:52:18.072Z"
   },
   {
    "duration": 1733,
    "start_time": "2023-05-25T11:52:19.411Z"
   },
   {
    "duration": 13720,
    "start_time": "2023-05-25T11:52:21.146Z"
   },
   {
    "duration": 0,
    "start_time": "2023-05-25T11:52:34.868Z"
   },
   {
    "duration": 0,
    "start_time": "2023-05-25T11:52:34.870Z"
   },
   {
    "duration": 1585,
    "start_time": "2023-05-25T11:53:05.774Z"
   },
   {
    "duration": 2913,
    "start_time": "2023-05-25T11:53:07.361Z"
   },
   {
    "duration": 133,
    "start_time": "2023-05-25T11:53:10.276Z"
   },
   {
    "duration": 24,
    "start_time": "2023-05-25T11:53:10.410Z"
   },
   {
    "duration": 539,
    "start_time": "2023-05-25T11:53:10.437Z"
   },
   {
    "duration": 994,
    "start_time": "2023-05-25T11:53:10.977Z"
   },
   {
    "duration": 142,
    "start_time": "2023-05-25T11:53:11.973Z"
   },
   {
    "duration": 86,
    "start_time": "2023-05-25T11:53:12.117Z"
   },
   {
    "duration": 153,
    "start_time": "2023-05-25T11:53:12.205Z"
   },
   {
    "duration": 29,
    "start_time": "2023-05-25T11:53:12.360Z"
   },
   {
    "duration": 133,
    "start_time": "2023-05-25T11:53:12.391Z"
   },
   {
    "duration": 72,
    "start_time": "2023-05-25T11:53:12.525Z"
   },
   {
    "duration": 113,
    "start_time": "2023-05-25T11:53:12.599Z"
   },
   {
    "duration": 125,
    "start_time": "2023-05-25T11:53:12.714Z"
   },
   {
    "duration": 18,
    "start_time": "2023-05-25T11:53:12.840Z"
   },
   {
    "duration": 166,
    "start_time": "2023-05-25T11:53:12.860Z"
   },
   {
    "duration": 81,
    "start_time": "2023-05-25T11:53:13.028Z"
   },
   {
    "duration": 125,
    "start_time": "2023-05-25T11:53:13.111Z"
   },
   {
    "duration": 34,
    "start_time": "2023-05-25T11:53:13.237Z"
   },
   {
    "duration": 139,
    "start_time": "2023-05-25T11:53:13.273Z"
   },
   {
    "duration": 22,
    "start_time": "2023-05-25T11:53:13.414Z"
   },
   {
    "duration": 20,
    "start_time": "2023-05-25T11:53:13.437Z"
   },
   {
    "duration": 538,
    "start_time": "2023-05-25T11:53:13.459Z"
   },
   {
    "duration": 82,
    "start_time": "2023-05-25T11:53:14.000Z"
   },
   {
    "duration": 14,
    "start_time": "2023-05-25T11:53:14.084Z"
   },
   {
    "duration": 76,
    "start_time": "2023-05-25T11:53:14.100Z"
   },
   {
    "duration": 1392,
    "start_time": "2023-05-25T11:53:14.178Z"
   },
   {
    "duration": 1705,
    "start_time": "2023-05-25T11:53:15.572Z"
   },
   {
    "duration": 404435,
    "start_time": "2023-05-25T11:53:25.727Z"
   },
   {
    "duration": 196,
    "start_time": "2023-05-25T12:00:10.165Z"
   },
   {
    "duration": 115,
    "start_time": "2023-05-25T12:05:17.036Z"
   },
   {
    "duration": 4,
    "start_time": "2023-05-25T12:05:25.266Z"
   },
   {
    "duration": 1459,
    "start_time": "2023-05-25T12:40:16.000Z"
   },
   {
    "duration": 1459,
    "start_time": "2023-05-25T12:40:17.461Z"
   },
   {
    "duration": 196,
    "start_time": "2023-05-25T12:40:18.922Z"
   },
   {
    "duration": 45,
    "start_time": "2023-05-25T12:40:19.120Z"
   },
   {
    "duration": 453,
    "start_time": "2023-05-25T12:40:19.167Z"
   },
   {
    "duration": 947,
    "start_time": "2023-05-25T12:40:19.622Z"
   },
   {
    "duration": 190,
    "start_time": "2023-05-25T12:40:20.571Z"
   },
   {
    "duration": 129,
    "start_time": "2023-05-25T12:40:20.763Z"
   },
   {
    "duration": 243,
    "start_time": "2023-05-25T12:40:20.894Z"
   },
   {
    "duration": 40,
    "start_time": "2023-05-25T12:40:21.138Z"
   },
   {
    "duration": 152,
    "start_time": "2023-05-25T12:40:21.179Z"
   },
   {
    "duration": 101,
    "start_time": "2023-05-25T12:40:21.333Z"
   },
   {
    "duration": 131,
    "start_time": "2023-05-25T12:40:21.435Z"
   },
   {
    "duration": 202,
    "start_time": "2023-05-25T12:40:21.569Z"
   },
   {
    "duration": 8,
    "start_time": "2023-05-25T12:40:21.772Z"
   },
   {
    "duration": 163,
    "start_time": "2023-05-25T12:40:21.781Z"
   },
   {
    "duration": 70,
    "start_time": "2023-05-25T12:40:21.946Z"
   },
   {
    "duration": 113,
    "start_time": "2023-05-25T12:40:22.019Z"
   },
   {
    "duration": 36,
    "start_time": "2023-05-25T12:40:22.133Z"
   },
   {
    "duration": 130,
    "start_time": "2023-05-25T12:40:22.171Z"
   },
   {
    "duration": 21,
    "start_time": "2023-05-25T12:40:22.303Z"
   },
   {
    "duration": 6,
    "start_time": "2023-05-25T12:40:22.327Z"
   },
   {
    "duration": 531,
    "start_time": "2023-05-25T12:40:22.335Z"
   },
   {
    "duration": 111,
    "start_time": "2023-05-25T12:40:22.868Z"
   },
   {
    "duration": 13,
    "start_time": "2023-05-25T12:40:22.980Z"
   },
   {
    "duration": 62,
    "start_time": "2023-05-25T12:40:22.995Z"
   },
   {
    "duration": 1524,
    "start_time": "2023-05-25T12:40:23.059Z"
   },
   {
    "duration": 1731,
    "start_time": "2023-05-25T12:40:24.585Z"
   },
   {
    "duration": 4,
    "start_time": "2023-05-25T12:42:24.366Z"
   },
   {
    "duration": 106,
    "start_time": "2023-05-25T12:42:37.977Z"
   },
   {
    "duration": 1430,
    "start_time": "2023-05-25T13:13:17.101Z"
   },
   {
    "duration": 820,
    "start_time": "2023-05-25T13:13:18.533Z"
   },
   {
    "duration": 132,
    "start_time": "2023-05-25T13:13:19.354Z"
   },
   {
    "duration": 22,
    "start_time": "2023-05-25T13:13:19.488Z"
   },
   {
    "duration": 502,
    "start_time": "2023-05-25T13:13:19.512Z"
   },
   {
    "duration": 1035,
    "start_time": "2023-05-25T13:13:20.016Z"
   },
   {
    "duration": 156,
    "start_time": "2023-05-25T13:13:21.053Z"
   },
   {
    "duration": 88,
    "start_time": "2023-05-25T13:13:21.211Z"
   },
   {
    "duration": 171,
    "start_time": "2023-05-25T13:13:21.301Z"
   },
   {
    "duration": 30,
    "start_time": "2023-05-25T13:13:21.474Z"
   },
   {
    "duration": 140,
    "start_time": "2023-05-25T13:13:21.506Z"
   },
   {
    "duration": 66,
    "start_time": "2023-05-25T13:13:21.648Z"
   },
   {
    "duration": 127,
    "start_time": "2023-05-25T13:13:21.716Z"
   },
   {
    "duration": 141,
    "start_time": "2023-05-25T13:13:21.847Z"
   },
   {
    "duration": 7,
    "start_time": "2023-05-25T13:13:21.990Z"
   },
   {
    "duration": 177,
    "start_time": "2023-05-25T13:13:21.998Z"
   },
   {
    "duration": 75,
    "start_time": "2023-05-25T13:13:22.177Z"
   },
   {
    "duration": 122,
    "start_time": "2023-05-25T13:13:22.254Z"
   },
   {
    "duration": 24,
    "start_time": "2023-05-25T13:13:22.378Z"
   },
   {
    "duration": 149,
    "start_time": "2023-05-25T13:13:22.404Z"
   },
   {
    "duration": 27,
    "start_time": "2023-05-25T13:13:22.557Z"
   },
   {
    "duration": 6,
    "start_time": "2023-05-25T13:13:22.586Z"
   },
   {
    "duration": 576,
    "start_time": "2023-05-25T13:13:22.594Z"
   },
   {
    "duration": 61,
    "start_time": "2023-05-25T13:13:23.172Z"
   },
   {
    "duration": 31,
    "start_time": "2023-05-25T13:13:23.235Z"
   },
   {
    "duration": 53,
    "start_time": "2023-05-25T13:13:23.270Z"
   },
   {
    "duration": 1508,
    "start_time": "2023-05-25T13:13:23.324Z"
   },
   {
    "duration": 1833,
    "start_time": "2023-05-25T13:13:24.834Z"
   },
   {
    "duration": 104,
    "start_time": "2023-05-25T13:16:49.042Z"
   },
   {
    "duration": 3,
    "start_time": "2023-05-25T13:17:00.588Z"
   },
   {
    "duration": 3953290,
    "start_time": "2023-05-25T13:17:06.485Z"
   },
   {
    "duration": 87172,
    "start_time": "2023-05-25T14:28:37.786Z"
   },
   {
    "duration": 20851,
    "start_time": "2023-05-25T14:30:22.572Z"
   },
   {
    "duration": 1347,
    "start_time": "2023-05-25T14:31:19.610Z"
   },
   {
    "duration": 804,
    "start_time": "2023-05-25T14:31:20.959Z"
   },
   {
    "duration": 124,
    "start_time": "2023-05-25T14:31:21.765Z"
   },
   {
    "duration": 21,
    "start_time": "2023-05-25T14:31:21.891Z"
   },
   {
    "duration": 488,
    "start_time": "2023-05-25T14:31:21.914Z"
   },
   {
    "duration": 1070,
    "start_time": "2023-05-25T14:31:22.403Z"
   },
   {
    "duration": 152,
    "start_time": "2023-05-25T14:31:23.475Z"
   },
   {
    "duration": 80,
    "start_time": "2023-05-25T14:31:23.629Z"
   },
   {
    "duration": 154,
    "start_time": "2023-05-25T14:31:23.711Z"
   },
   {
    "duration": 34,
    "start_time": "2023-05-25T14:31:23.869Z"
   },
   {
    "duration": 156,
    "start_time": "2023-05-25T14:31:23.905Z"
   },
   {
    "duration": 77,
    "start_time": "2023-05-25T14:31:24.063Z"
   },
   {
    "duration": 121,
    "start_time": "2023-05-25T14:31:24.142Z"
   },
   {
    "duration": 139,
    "start_time": "2023-05-25T14:31:24.265Z"
   },
   {
    "duration": 8,
    "start_time": "2023-05-25T14:31:24.405Z"
   },
   {
    "duration": 189,
    "start_time": "2023-05-25T14:31:24.415Z"
   },
   {
    "duration": 88,
    "start_time": "2023-05-25T14:31:24.606Z"
   },
   {
    "duration": 148,
    "start_time": "2023-05-25T14:31:24.696Z"
   },
   {
    "duration": 40,
    "start_time": "2023-05-25T14:31:24.846Z"
   },
   {
    "duration": 146,
    "start_time": "2023-05-25T14:31:24.888Z"
   },
   {
    "duration": 33,
    "start_time": "2023-05-25T14:31:25.036Z"
   },
   {
    "duration": 7,
    "start_time": "2023-05-25T14:31:25.070Z"
   },
   {
    "duration": 707,
    "start_time": "2023-05-25T14:31:25.079Z"
   },
   {
    "duration": 75,
    "start_time": "2023-05-25T14:31:25.788Z"
   },
   {
    "duration": 15,
    "start_time": "2023-05-25T14:31:25.865Z"
   },
   {
    "duration": 75,
    "start_time": "2023-05-25T14:31:25.883Z"
   },
   {
    "duration": 1316,
    "start_time": "2023-05-25T14:31:25.959Z"
   },
   {
    "duration": 1756,
    "start_time": "2023-05-25T14:31:27.279Z"
   },
   {
    "duration": 108,
    "start_time": "2023-05-25T14:31:35.665Z"
   },
   {
    "duration": 1714,
    "start_time": "2023-05-26T07:03:39.852Z"
   },
   {
    "duration": 2771,
    "start_time": "2023-05-26T07:03:41.568Z"
   },
   {
    "duration": 160,
    "start_time": "2023-05-26T07:03:44.340Z"
   },
   {
    "duration": 29,
    "start_time": "2023-05-26T07:03:44.502Z"
   },
   {
    "duration": 457,
    "start_time": "2023-05-26T07:03:44.533Z"
   },
   {
    "duration": 1035,
    "start_time": "2023-05-26T07:03:44.992Z"
   },
   {
    "duration": 152,
    "start_time": "2023-05-26T07:03:46.029Z"
   },
   {
    "duration": 93,
    "start_time": "2023-05-26T07:03:46.182Z"
   },
   {
    "duration": 197,
    "start_time": "2023-05-26T07:03:46.277Z"
   },
   {
    "duration": 51,
    "start_time": "2023-05-26T07:03:46.477Z"
   },
   {
    "duration": 158,
    "start_time": "2023-05-26T07:03:46.531Z"
   },
   {
    "duration": 80,
    "start_time": "2023-05-26T07:03:46.690Z"
   },
   {
    "duration": 122,
    "start_time": "2023-05-26T07:03:46.772Z"
   },
   {
    "duration": 179,
    "start_time": "2023-05-26T07:03:46.896Z"
   },
   {
    "duration": 9,
    "start_time": "2023-05-26T07:03:47.076Z"
   },
   {
    "duration": 188,
    "start_time": "2023-05-26T07:03:47.087Z"
   },
   {
    "duration": 84,
    "start_time": "2023-05-26T07:03:47.277Z"
   },
   {
    "duration": 120,
    "start_time": "2023-05-26T07:03:47.363Z"
   },
   {
    "duration": 27,
    "start_time": "2023-05-26T07:03:47.485Z"
   },
   {
    "duration": 157,
    "start_time": "2023-05-26T07:03:47.525Z"
   },
   {
    "duration": 21,
    "start_time": "2023-05-26T07:03:47.684Z"
   },
   {
    "duration": 19,
    "start_time": "2023-05-26T07:03:47.707Z"
   },
   {
    "duration": 617,
    "start_time": "2023-05-26T07:03:47.727Z"
   },
   {
    "duration": 86,
    "start_time": "2023-05-26T07:03:48.346Z"
   },
   {
    "duration": 12,
    "start_time": "2023-05-26T07:03:48.434Z"
   },
   {
    "duration": 52,
    "start_time": "2023-05-26T07:03:48.448Z"
   },
   {
    "duration": 1478,
    "start_time": "2023-05-26T07:03:48.502Z"
   },
   {
    "duration": 1730,
    "start_time": "2023-05-26T07:03:49.983Z"
   },
   {
    "duration": 484424,
    "start_time": "2023-05-26T07:04:04.231Z"
   },
   {
    "duration": 1485,
    "start_time": "2023-05-26T08:09:34.207Z"
   },
   {
    "duration": 2725,
    "start_time": "2023-05-26T08:09:35.694Z"
   },
   {
    "duration": 146,
    "start_time": "2023-05-26T08:09:38.421Z"
   },
   {
    "duration": 27,
    "start_time": "2023-05-26T08:09:38.569Z"
   },
   {
    "duration": 473,
    "start_time": "2023-05-26T08:09:38.598Z"
   },
   {
    "duration": 1056,
    "start_time": "2023-05-26T08:09:39.073Z"
   },
   {
    "duration": 151,
    "start_time": "2023-05-26T08:09:40.130Z"
   },
   {
    "duration": 99,
    "start_time": "2023-05-26T08:09:40.283Z"
   },
   {
    "duration": 204,
    "start_time": "2023-05-26T08:09:40.383Z"
   },
   {
    "duration": 45,
    "start_time": "2023-05-26T08:09:40.589Z"
   },
   {
    "duration": 292,
    "start_time": "2023-05-26T08:09:40.636Z"
   },
   {
    "duration": 74,
    "start_time": "2023-05-26T08:09:40.930Z"
   },
   {
    "duration": 128,
    "start_time": "2023-05-26T08:09:41.005Z"
   },
   {
    "duration": 156,
    "start_time": "2023-05-26T08:09:41.136Z"
   },
   {
    "duration": 7,
    "start_time": "2023-05-26T08:09:41.294Z"
   },
   {
    "duration": 177,
    "start_time": "2023-05-26T08:09:41.302Z"
   },
   {
    "duration": 79,
    "start_time": "2023-05-26T08:09:41.481Z"
   },
   {
    "duration": 122,
    "start_time": "2023-05-26T08:09:41.561Z"
   },
   {
    "duration": 23,
    "start_time": "2023-05-26T08:09:41.684Z"
   },
   {
    "duration": 146,
    "start_time": "2023-05-26T08:09:41.709Z"
   },
   {
    "duration": 23,
    "start_time": "2023-05-26T08:09:41.857Z"
   },
   {
    "duration": 21,
    "start_time": "2023-05-26T08:09:41.882Z"
   },
   {
    "duration": 555,
    "start_time": "2023-05-26T08:09:41.905Z"
   },
   {
    "duration": 77,
    "start_time": "2023-05-26T08:09:42.462Z"
   },
   {
    "duration": 12,
    "start_time": "2023-05-26T08:09:42.540Z"
   },
   {
    "duration": 61,
    "start_time": "2023-05-26T08:09:42.553Z"
   },
   {
    "duration": 1431,
    "start_time": "2023-05-26T08:09:42.615Z"
   },
   {
    "duration": 1677,
    "start_time": "2023-05-26T08:09:44.048Z"
   },
   {
    "duration": 1181073,
    "start_time": "2023-05-26T08:09:49.762Z"
   },
   {
    "duration": 116794,
    "start_time": "2023-05-26T08:29:30.847Z"
   },
   {
    "duration": 452206,
    "start_time": "2023-05-26T08:52:04.744Z"
   },
   {
    "duration": 110,
    "start_time": "2023-05-26T09:58:45.378Z"
   },
   {
    "duration": 11,
    "start_time": "2023-05-26T09:59:10.460Z"
   },
   {
    "duration": 9,
    "start_time": "2023-05-26T09:59:34.348Z"
   },
   {
    "duration": 11,
    "start_time": "2023-05-26T09:59:39.003Z"
   },
   {
    "duration": 5,
    "start_time": "2023-05-26T10:20:05.519Z"
   },
   {
    "duration": 19,
    "start_time": "2023-05-26T10:20:47.105Z"
   },
   {
    "duration": 4,
    "start_time": "2023-05-26T10:32:27.776Z"
   },
   {
    "duration": 10,
    "start_time": "2023-05-26T10:48:01.148Z"
   },
   {
    "duration": 4,
    "start_time": "2023-05-26T10:48:28.576Z"
   },
   {
    "duration": 195524,
    "start_time": "2023-05-26T10:48:36.445Z"
   },
   {
    "duration": 0,
    "start_time": "2023-05-26T12:04:44.697Z"
   },
   {
    "duration": 1514,
    "start_time": "2023-05-26T12:40:34.005Z"
   },
   {
    "duration": 859,
    "start_time": "2023-05-26T12:40:35.521Z"
   },
   {
    "duration": 154,
    "start_time": "2023-05-26T12:40:36.382Z"
   },
   {
    "duration": 25,
    "start_time": "2023-05-26T12:40:36.538Z"
   },
   {
    "duration": 467,
    "start_time": "2023-05-26T12:40:36.565Z"
   },
   {
    "duration": 966,
    "start_time": "2023-05-26T12:40:37.033Z"
   },
   {
    "duration": 145,
    "start_time": "2023-05-26T12:40:38.001Z"
   },
   {
    "duration": 86,
    "start_time": "2023-05-26T12:40:38.147Z"
   },
   {
    "duration": 165,
    "start_time": "2023-05-26T12:40:38.235Z"
   },
   {
    "duration": 34,
    "start_time": "2023-05-26T12:40:38.401Z"
   },
   {
    "duration": 132,
    "start_time": "2023-05-26T12:40:38.436Z"
   },
   {
    "duration": 78,
    "start_time": "2023-05-26T12:40:38.569Z"
   },
   {
    "duration": 107,
    "start_time": "2023-05-26T12:40:38.649Z"
   },
   {
    "duration": 156,
    "start_time": "2023-05-26T12:40:38.759Z"
   },
   {
    "duration": 10,
    "start_time": "2023-05-26T12:40:38.917Z"
   },
   {
    "duration": 153,
    "start_time": "2023-05-26T12:40:38.928Z"
   },
   {
    "duration": 81,
    "start_time": "2023-05-26T12:40:39.083Z"
   },
   {
    "duration": 110,
    "start_time": "2023-05-26T12:40:39.165Z"
   },
   {
    "duration": 22,
    "start_time": "2023-05-26T12:40:39.276Z"
   },
   {
    "duration": 133,
    "start_time": "2023-05-26T12:40:39.300Z"
   },
   {
    "duration": 21,
    "start_time": "2023-05-26T12:40:39.434Z"
   },
   {
    "duration": 6,
    "start_time": "2023-05-26T12:40:39.456Z"
   },
   {
    "duration": 654,
    "start_time": "2023-05-26T12:40:39.463Z"
   },
   {
    "duration": 68,
    "start_time": "2023-05-26T12:40:40.119Z"
   },
   {
    "duration": 11,
    "start_time": "2023-05-26T12:40:40.189Z"
   },
   {
    "duration": 63,
    "start_time": "2023-05-26T12:40:40.202Z"
   },
   {
    "duration": 1607,
    "start_time": "2023-05-26T12:40:40.267Z"
   },
   {
    "duration": 2003,
    "start_time": "2023-05-26T12:40:41.877Z"
   },
   {
    "duration": 111,
    "start_time": "2023-05-26T12:40:43.882Z"
   },
   {
    "duration": 0,
    "start_time": "2023-05-26T12:40:43.994Z"
   },
   {
    "duration": 0,
    "start_time": "2023-05-26T12:40:43.995Z"
   },
   {
    "duration": 0,
    "start_time": "2023-05-26T12:40:43.997Z"
   },
   {
    "duration": 0,
    "start_time": "2023-05-26T12:40:43.998Z"
   },
   {
    "duration": 0,
    "start_time": "2023-05-26T12:40:43.999Z"
   },
   {
    "duration": 0,
    "start_time": "2023-05-26T12:40:44.000Z"
   },
   {
    "duration": 0,
    "start_time": "2023-05-26T12:40:44.001Z"
   },
   {
    "duration": 1426,
    "start_time": "2023-05-26T12:41:58.534Z"
   },
   {
    "duration": 774,
    "start_time": "2023-05-26T12:41:59.962Z"
   },
   {
    "duration": 139,
    "start_time": "2023-05-26T12:42:00.737Z"
   },
   {
    "duration": 41,
    "start_time": "2023-05-26T12:42:00.878Z"
   },
   {
    "duration": 546,
    "start_time": "2023-05-26T12:42:00.922Z"
   },
   {
    "duration": 980,
    "start_time": "2023-05-26T12:42:01.469Z"
   },
   {
    "duration": 150,
    "start_time": "2023-05-26T12:42:02.451Z"
   },
   {
    "duration": 90,
    "start_time": "2023-05-26T12:42:02.603Z"
   },
   {
    "duration": 180,
    "start_time": "2023-05-26T12:42:02.695Z"
   },
   {
    "duration": 30,
    "start_time": "2023-05-26T12:42:02.877Z"
   },
   {
    "duration": 209,
    "start_time": "2023-05-26T12:42:02.908Z"
   },
   {
    "duration": 76,
    "start_time": "2023-05-26T12:42:03.119Z"
   },
   {
    "duration": 119,
    "start_time": "2023-05-26T12:42:03.197Z"
   },
   {
    "duration": 159,
    "start_time": "2023-05-26T12:42:03.319Z"
   },
   {
    "duration": 7,
    "start_time": "2023-05-26T12:42:03.479Z"
   },
   {
    "duration": 156,
    "start_time": "2023-05-26T12:42:03.488Z"
   },
   {
    "duration": 66,
    "start_time": "2023-05-26T12:42:03.645Z"
   },
   {
    "duration": 110,
    "start_time": "2023-05-26T12:42:03.712Z"
   },
   {
    "duration": 33,
    "start_time": "2023-05-26T12:42:03.825Z"
   },
   {
    "duration": 139,
    "start_time": "2023-05-26T12:42:03.860Z"
   },
   {
    "duration": 29,
    "start_time": "2023-05-26T12:42:04.000Z"
   },
   {
    "duration": 7,
    "start_time": "2023-05-26T12:42:04.031Z"
   },
   {
    "duration": 554,
    "start_time": "2023-05-26T12:42:04.040Z"
   },
   {
    "duration": 73,
    "start_time": "2023-05-26T12:42:04.596Z"
   },
   {
    "duration": 11,
    "start_time": "2023-05-26T12:42:04.670Z"
   },
   {
    "duration": 58,
    "start_time": "2023-05-26T12:42:04.683Z"
   },
   {
    "duration": 1339,
    "start_time": "2023-05-26T12:42:04.743Z"
   },
   {
    "duration": 1628,
    "start_time": "2023-05-26T12:42:06.084Z"
   },
   {
    "duration": 229325,
    "start_time": "2023-05-26T12:42:07.714Z"
   },
   {
    "duration": 29105,
    "start_time": "2023-05-26T12:45:57.040Z"
   },
   {
    "duration": 404868,
    "start_time": "2023-05-26T12:46:26.146Z"
   },
   {
    "duration": 0,
    "start_time": "2023-05-26T12:53:11.015Z"
   },
   {
    "duration": 0,
    "start_time": "2023-05-26T12:53:11.017Z"
   },
   {
    "duration": 0,
    "start_time": "2023-05-26T12:53:11.018Z"
   },
   {
    "duration": 0,
    "start_time": "2023-05-26T12:53:11.019Z"
   },
   {
    "duration": 0,
    "start_time": "2023-05-26T12:53:11.020Z"
   },
   {
    "duration": 404533,
    "start_time": "2023-05-26T12:55:45.901Z"
   },
   {
    "duration": 95223,
    "start_time": "2023-05-26T13:02:30.436Z"
   },
   {
    "duration": 43,
    "start_time": "2023-05-26T13:04:41.799Z"
   },
   {
    "duration": 1406,
    "start_time": "2023-05-26T13:05:04.638Z"
   },
   {
    "duration": 2683,
    "start_time": "2023-05-26T13:05:06.046Z"
   },
   {
    "duration": 137,
    "start_time": "2023-05-26T13:05:08.731Z"
   },
   {
    "duration": 36,
    "start_time": "2023-05-26T13:05:08.870Z"
   },
   {
    "duration": 440,
    "start_time": "2023-05-26T13:05:08.908Z"
   },
   {
    "duration": 997,
    "start_time": "2023-05-26T13:05:09.350Z"
   },
   {
    "duration": 149,
    "start_time": "2023-05-26T13:05:10.348Z"
   },
   {
    "duration": 92,
    "start_time": "2023-05-26T13:05:10.498Z"
   },
   {
    "duration": 178,
    "start_time": "2023-05-26T13:05:10.592Z"
   },
   {
    "duration": 30,
    "start_time": "2023-05-26T13:05:10.772Z"
   },
   {
    "duration": 138,
    "start_time": "2023-05-26T13:05:10.804Z"
   },
   {
    "duration": 64,
    "start_time": "2023-05-26T13:05:10.943Z"
   },
   {
    "duration": 116,
    "start_time": "2023-05-26T13:05:11.009Z"
   },
   {
    "duration": 143,
    "start_time": "2023-05-26T13:05:11.128Z"
   },
   {
    "duration": 7,
    "start_time": "2023-05-26T13:05:11.272Z"
   },
   {
    "duration": 146,
    "start_time": "2023-05-26T13:05:11.280Z"
   },
   {
    "duration": 69,
    "start_time": "2023-05-26T13:05:11.428Z"
   },
   {
    "duration": 117,
    "start_time": "2023-05-26T13:05:11.499Z"
   },
   {
    "duration": 26,
    "start_time": "2023-05-26T13:05:11.618Z"
   },
   {
    "duration": 133,
    "start_time": "2023-05-26T13:05:11.646Z"
   },
   {
    "duration": 20,
    "start_time": "2023-05-26T13:05:11.781Z"
   },
   {
    "duration": 5,
    "start_time": "2023-05-26T13:05:11.803Z"
   },
   {
    "duration": 574,
    "start_time": "2023-05-26T13:05:11.809Z"
   },
   {
    "duration": 72,
    "start_time": "2023-05-26T13:05:12.385Z"
   },
   {
    "duration": 11,
    "start_time": "2023-05-26T13:05:12.459Z"
   },
   {
    "duration": 63,
    "start_time": "2023-05-26T13:05:12.472Z"
   },
   {
    "duration": 1622,
    "start_time": "2023-05-26T13:05:12.536Z"
   },
   {
    "duration": 1656,
    "start_time": "2023-05-26T13:05:14.159Z"
   },
   {
    "duration": 105424,
    "start_time": "2023-05-26T13:05:15.817Z"
   },
   {
    "duration": 28393,
    "start_time": "2023-05-26T13:07:01.243Z"
   },
   {
    "duration": 404406,
    "start_time": "2023-05-26T13:07:29.638Z"
   },
   {
    "duration": 96668,
    "start_time": "2023-05-26T13:14:14.046Z"
   },
   {
    "duration": 1338,
    "start_time": "2023-05-26T13:17:53.480Z"
   },
   {
    "duration": 2667,
    "start_time": "2023-05-26T13:17:54.820Z"
   },
   {
    "duration": 139,
    "start_time": "2023-05-26T13:17:57.489Z"
   },
   {
    "duration": 25,
    "start_time": "2023-05-26T13:17:57.630Z"
   },
   {
    "duration": 453,
    "start_time": "2023-05-26T13:17:57.657Z"
   },
   {
    "duration": 966,
    "start_time": "2023-05-26T13:17:58.112Z"
   },
   {
    "duration": 153,
    "start_time": "2023-05-26T13:17:59.079Z"
   },
   {
    "duration": 93,
    "start_time": "2023-05-26T13:17:59.233Z"
   },
   {
    "duration": 159,
    "start_time": "2023-05-26T13:17:59.328Z"
   },
   {
    "duration": 37,
    "start_time": "2023-05-26T13:17:59.489Z"
   },
   {
    "duration": 163,
    "start_time": "2023-05-26T13:17:59.528Z"
   },
   {
    "duration": 92,
    "start_time": "2023-05-26T13:17:59.693Z"
   },
   {
    "duration": 112,
    "start_time": "2023-05-26T13:17:59.787Z"
   },
   {
    "duration": 147,
    "start_time": "2023-05-26T13:17:59.902Z"
   },
   {
    "duration": 8,
    "start_time": "2023-05-26T13:18:00.051Z"
   },
   {
    "duration": 191,
    "start_time": "2023-05-26T13:18:00.060Z"
   },
   {
    "duration": 75,
    "start_time": "2023-05-26T13:18:00.252Z"
   },
   {
    "duration": 111,
    "start_time": "2023-05-26T13:18:00.329Z"
   },
   {
    "duration": 23,
    "start_time": "2023-05-26T13:18:00.441Z"
   },
   {
    "duration": 135,
    "start_time": "2023-05-26T13:18:00.466Z"
   },
   {
    "duration": 29,
    "start_time": "2023-05-26T13:18:00.602Z"
   },
   {
    "duration": 6,
    "start_time": "2023-05-26T13:18:00.632Z"
   },
   {
    "duration": 532,
    "start_time": "2023-05-26T13:18:00.640Z"
   },
   {
    "duration": 74,
    "start_time": "2023-05-26T13:18:01.174Z"
   },
   {
    "duration": 12,
    "start_time": "2023-05-26T13:18:01.250Z"
   },
   {
    "duration": 62,
    "start_time": "2023-05-26T13:18:01.264Z"
   },
   {
    "duration": 1513,
    "start_time": "2023-05-26T13:18:01.327Z"
   },
   {
    "duration": 1679,
    "start_time": "2023-05-26T13:18:02.842Z"
   },
   {
    "duration": 1395,
    "start_time": "2023-05-26T13:22:31.880Z"
   },
   {
    "duration": 873,
    "start_time": "2023-05-26T13:22:33.278Z"
   },
   {
    "duration": 150,
    "start_time": "2023-05-26T13:22:34.153Z"
   },
   {
    "duration": 47,
    "start_time": "2023-05-26T13:22:34.305Z"
   },
   {
    "duration": 492,
    "start_time": "2023-05-26T13:22:34.355Z"
   },
   {
    "duration": 1032,
    "start_time": "2023-05-26T13:22:34.849Z"
   },
   {
    "duration": 159,
    "start_time": "2023-05-26T13:22:35.884Z"
   },
   {
    "duration": 88,
    "start_time": "2023-05-26T13:22:36.044Z"
   },
   {
    "duration": 175,
    "start_time": "2023-05-26T13:22:36.134Z"
   },
   {
    "duration": 44,
    "start_time": "2023-05-26T13:22:36.311Z"
   },
   {
    "duration": 138,
    "start_time": "2023-05-26T13:22:36.357Z"
   },
   {
    "duration": 80,
    "start_time": "2023-05-26T13:22:36.497Z"
   },
   {
    "duration": 122,
    "start_time": "2023-05-26T13:22:36.579Z"
   },
   {
    "duration": 155,
    "start_time": "2023-05-26T13:22:36.703Z"
   },
   {
    "duration": 10,
    "start_time": "2023-05-26T13:22:36.860Z"
   },
   {
    "duration": 160,
    "start_time": "2023-05-26T13:22:36.872Z"
   },
   {
    "duration": 72,
    "start_time": "2023-05-26T13:22:37.034Z"
   },
   {
    "duration": 121,
    "start_time": "2023-05-26T13:22:37.107Z"
   },
   {
    "duration": 22,
    "start_time": "2023-05-26T13:22:37.229Z"
   },
   {
    "duration": 152,
    "start_time": "2023-05-26T13:22:37.253Z"
   },
   {
    "duration": 28,
    "start_time": "2023-05-26T13:22:37.407Z"
   },
   {
    "duration": 6,
    "start_time": "2023-05-26T13:22:37.437Z"
   },
   {
    "duration": 520,
    "start_time": "2023-05-26T13:22:37.445Z"
   },
   {
    "duration": 75,
    "start_time": "2023-05-26T13:22:37.967Z"
   },
   {
    "duration": 12,
    "start_time": "2023-05-26T13:22:38.044Z"
   },
   {
    "duration": 47,
    "start_time": "2023-05-26T13:22:38.058Z"
   },
   {
    "duration": 1490,
    "start_time": "2023-05-26T13:22:38.125Z"
   },
   {
    "duration": 1691,
    "start_time": "2023-05-26T13:22:39.617Z"
   },
   {
    "duration": 108,
    "start_time": "2023-05-26T13:22:44.439Z"
   },
   {
    "duration": 1407,
    "start_time": "2023-05-26T13:29:02.912Z"
   },
   {
    "duration": 795,
    "start_time": "2023-05-26T13:29:04.321Z"
   },
   {
    "duration": 135,
    "start_time": "2023-05-26T13:29:05.118Z"
   },
   {
    "duration": 24,
    "start_time": "2023-05-26T13:29:05.255Z"
   },
   {
    "duration": 451,
    "start_time": "2023-05-26T13:29:05.281Z"
   },
   {
    "duration": 954,
    "start_time": "2023-05-26T13:29:05.733Z"
   },
   {
    "duration": 152,
    "start_time": "2023-05-26T13:29:06.689Z"
   },
   {
    "duration": 93,
    "start_time": "2023-05-26T13:29:06.843Z"
   },
   {
    "duration": 165,
    "start_time": "2023-05-26T13:29:06.938Z"
   },
   {
    "duration": 37,
    "start_time": "2023-05-26T13:29:07.106Z"
   },
   {
    "duration": 158,
    "start_time": "2023-05-26T13:29:07.145Z"
   },
   {
    "duration": 79,
    "start_time": "2023-05-26T13:29:07.305Z"
   },
   {
    "duration": 119,
    "start_time": "2023-05-26T13:29:07.386Z"
   },
   {
    "duration": 165,
    "start_time": "2023-05-26T13:29:07.506Z"
   },
   {
    "duration": 7,
    "start_time": "2023-05-26T13:29:07.673Z"
   },
   {
    "duration": 152,
    "start_time": "2023-05-26T13:29:07.681Z"
   },
   {
    "duration": 74,
    "start_time": "2023-05-26T13:29:07.834Z"
   },
   {
    "duration": 118,
    "start_time": "2023-05-26T13:29:07.910Z"
   },
   {
    "duration": 24,
    "start_time": "2023-05-26T13:29:08.030Z"
   },
   {
    "duration": 134,
    "start_time": "2023-05-26T13:29:08.056Z"
   },
   {
    "duration": 22,
    "start_time": "2023-05-26T13:29:08.191Z"
   },
   {
    "duration": 13,
    "start_time": "2023-05-26T13:29:08.214Z"
   },
   {
    "duration": 566,
    "start_time": "2023-05-26T13:29:08.229Z"
   },
   {
    "duration": 90,
    "start_time": "2023-05-26T13:29:08.797Z"
   },
   {
    "duration": 12,
    "start_time": "2023-05-26T13:29:08.889Z"
   },
   {
    "duration": 61,
    "start_time": "2023-05-26T13:29:08.903Z"
   },
   {
    "duration": 1397,
    "start_time": "2023-05-26T13:29:08.966Z"
   },
   {
    "duration": 1642,
    "start_time": "2023-05-26T13:29:10.366Z"
   },
   {
    "duration": 1317,
    "start_time": "2023-05-26T13:30:07.883Z"
   },
   {
    "duration": 823,
    "start_time": "2023-05-26T13:30:09.202Z"
   },
   {
    "duration": 137,
    "start_time": "2023-05-26T13:30:10.027Z"
   },
   {
    "duration": 25,
    "start_time": "2023-05-26T13:30:10.165Z"
   },
   {
    "duration": 453,
    "start_time": "2023-05-26T13:30:10.192Z"
   },
   {
    "duration": 935,
    "start_time": "2023-05-26T13:30:10.646Z"
   },
   {
    "duration": 152,
    "start_time": "2023-05-26T13:30:11.583Z"
   },
   {
    "duration": 89,
    "start_time": "2023-05-26T13:30:11.736Z"
   },
   {
    "duration": 159,
    "start_time": "2023-05-26T13:30:11.826Z"
   },
   {
    "duration": 39,
    "start_time": "2023-05-26T13:30:11.987Z"
   },
   {
    "duration": 130,
    "start_time": "2023-05-26T13:30:12.027Z"
   },
   {
    "duration": 76,
    "start_time": "2023-05-26T13:30:12.159Z"
   },
   {
    "duration": 114,
    "start_time": "2023-05-26T13:30:12.237Z"
   },
   {
    "duration": 150,
    "start_time": "2023-05-26T13:30:12.355Z"
   },
   {
    "duration": 18,
    "start_time": "2023-05-26T13:30:12.507Z"
   },
   {
    "duration": 146,
    "start_time": "2023-05-26T13:30:12.526Z"
   },
   {
    "duration": 81,
    "start_time": "2023-05-26T13:30:12.674Z"
   },
   {
    "duration": 123,
    "start_time": "2023-05-26T13:30:12.756Z"
   },
   {
    "duration": 29,
    "start_time": "2023-05-26T13:30:12.880Z"
   },
   {
    "duration": 131,
    "start_time": "2023-05-26T13:30:12.910Z"
   },
   {
    "duration": 21,
    "start_time": "2023-05-26T13:30:13.042Z"
   },
   {
    "duration": 5,
    "start_time": "2023-05-26T13:30:13.065Z"
   },
   {
    "duration": 540,
    "start_time": "2023-05-26T13:30:13.071Z"
   },
   {
    "duration": 75,
    "start_time": "2023-05-26T13:30:13.613Z"
   },
   {
    "duration": 11,
    "start_time": "2023-05-26T13:30:13.690Z"
   },
   {
    "duration": 65,
    "start_time": "2023-05-26T13:30:13.703Z"
   },
   {
    "duration": 1421,
    "start_time": "2023-05-26T13:30:13.770Z"
   },
   {
    "duration": 1654,
    "start_time": "2023-05-26T13:30:15.193Z"
   },
   {
    "duration": 1367,
    "start_time": "2023-05-26T13:30:50.619Z"
   },
   {
    "duration": 774,
    "start_time": "2023-05-26T13:30:51.987Z"
   },
   {
    "duration": 140,
    "start_time": "2023-05-26T13:30:52.763Z"
   },
   {
    "duration": 30,
    "start_time": "2023-05-26T13:30:52.905Z"
   },
   {
    "duration": 440,
    "start_time": "2023-05-26T13:30:52.937Z"
   },
   {
    "duration": 942,
    "start_time": "2023-05-26T13:30:53.379Z"
   },
   {
    "duration": 143,
    "start_time": "2023-05-26T13:30:54.325Z"
   },
   {
    "duration": 82,
    "start_time": "2023-05-26T13:30:54.469Z"
   },
   {
    "duration": 187,
    "start_time": "2023-05-26T13:30:54.553Z"
   },
   {
    "duration": 32,
    "start_time": "2023-05-26T13:30:54.742Z"
   },
   {
    "duration": 144,
    "start_time": "2023-05-26T13:30:54.776Z"
   },
   {
    "duration": 70,
    "start_time": "2023-05-26T13:30:54.925Z"
   },
   {
    "duration": 116,
    "start_time": "2023-05-26T13:30:54.997Z"
   },
   {
    "duration": 141,
    "start_time": "2023-05-26T13:30:55.115Z"
   },
   {
    "duration": 7,
    "start_time": "2023-05-26T13:30:55.258Z"
   },
   {
    "duration": 147,
    "start_time": "2023-05-26T13:30:55.266Z"
   },
   {
    "duration": 77,
    "start_time": "2023-05-26T13:30:55.415Z"
   },
   {
    "duration": 116,
    "start_time": "2023-05-26T13:30:55.493Z"
   },
   {
    "duration": 29,
    "start_time": "2023-05-26T13:30:55.611Z"
   },
   {
    "duration": 130,
    "start_time": "2023-05-26T13:30:55.642Z"
   },
   {
    "duration": 21,
    "start_time": "2023-05-26T13:30:55.774Z"
   },
   {
    "duration": 5,
    "start_time": "2023-05-26T13:30:55.796Z"
   },
   {
    "duration": 573,
    "start_time": "2023-05-26T13:30:55.802Z"
   },
   {
    "duration": 73,
    "start_time": "2023-05-26T13:30:56.377Z"
   },
   {
    "duration": 11,
    "start_time": "2023-05-26T13:30:56.452Z"
   },
   {
    "duration": 62,
    "start_time": "2023-05-26T13:30:56.464Z"
   },
   {
    "duration": 1353,
    "start_time": "2023-05-26T13:30:56.528Z"
   },
   {
    "duration": 1661,
    "start_time": "2023-05-26T13:30:57.883Z"
   },
   {
    "duration": 0,
    "start_time": "2023-05-26T14:13:20.432Z"
   },
   {
    "duration": 0,
    "start_time": "2023-05-26T14:13:20.434Z"
   },
   {
    "duration": 0,
    "start_time": "2023-05-26T14:13:20.435Z"
   },
   {
    "duration": 0,
    "start_time": "2023-05-26T14:13:20.436Z"
   },
   {
    "duration": 0,
    "start_time": "2023-05-26T14:13:20.436Z"
   },
   {
    "duration": 0,
    "start_time": "2023-05-26T14:13:20.437Z"
   },
   {
    "duration": 0,
    "start_time": "2023-05-26T14:13:20.438Z"
   },
   {
    "duration": 0,
    "start_time": "2023-05-26T14:13:20.439Z"
   },
   {
    "duration": 0,
    "start_time": "2023-05-26T14:13:20.440Z"
   },
   {
    "duration": 1401,
    "start_time": "2023-05-26T14:17:13.626Z"
   },
   {
    "duration": 835,
    "start_time": "2023-05-26T14:17:15.029Z"
   },
   {
    "duration": 153,
    "start_time": "2023-05-26T14:17:15.866Z"
   },
   {
    "duration": 28,
    "start_time": "2023-05-26T14:17:16.026Z"
   },
   {
    "duration": 477,
    "start_time": "2023-05-26T14:17:16.056Z"
   },
   {
    "duration": 994,
    "start_time": "2023-05-26T14:17:16.535Z"
   },
   {
    "duration": 148,
    "start_time": "2023-05-26T14:17:17.530Z"
   },
   {
    "duration": 84,
    "start_time": "2023-05-26T14:17:17.680Z"
   },
   {
    "duration": 168,
    "start_time": "2023-05-26T14:17:17.765Z"
   },
   {
    "duration": 35,
    "start_time": "2023-05-26T14:17:17.935Z"
   },
   {
    "duration": 133,
    "start_time": "2023-05-26T14:17:17.972Z"
   },
   {
    "duration": 72,
    "start_time": "2023-05-26T14:17:18.106Z"
   },
   {
    "duration": 103,
    "start_time": "2023-05-26T14:17:18.179Z"
   },
   {
    "duration": 145,
    "start_time": "2023-05-26T14:17:18.284Z"
   },
   {
    "duration": 7,
    "start_time": "2023-05-26T14:17:18.431Z"
   },
   {
    "duration": 160,
    "start_time": "2023-05-26T14:17:18.439Z"
   },
   {
    "duration": 70,
    "start_time": "2023-05-26T14:17:18.601Z"
   },
   {
    "duration": 116,
    "start_time": "2023-05-26T14:17:18.672Z"
   },
   {
    "duration": 23,
    "start_time": "2023-05-26T14:17:18.789Z"
   },
   {
    "duration": 169,
    "start_time": "2023-05-26T14:17:18.813Z"
   },
   {
    "duration": 22,
    "start_time": "2023-05-26T14:17:18.983Z"
   },
   {
    "duration": 23,
    "start_time": "2023-05-26T14:17:19.006Z"
   },
   {
    "duration": 562,
    "start_time": "2023-05-26T14:17:19.030Z"
   },
   {
    "duration": 77,
    "start_time": "2023-05-26T14:17:19.593Z"
   },
   {
    "duration": 12,
    "start_time": "2023-05-26T14:17:19.671Z"
   },
   {
    "duration": 75,
    "start_time": "2023-05-26T14:17:19.685Z"
   },
   {
    "duration": 1492,
    "start_time": "2023-05-26T14:17:19.763Z"
   },
   {
    "duration": 1659,
    "start_time": "2023-05-26T14:17:21.258Z"
   },
   {
    "duration": 104,
    "start_time": "2023-05-26T14:18:51.977Z"
   },
   {
    "duration": 1363,
    "start_time": "2023-05-26T14:20:05.582Z"
   },
   {
    "duration": 828,
    "start_time": "2023-05-26T14:20:06.947Z"
   },
   {
    "duration": 137,
    "start_time": "2023-05-26T14:20:07.777Z"
   },
   {
    "duration": 32,
    "start_time": "2023-05-26T14:20:07.915Z"
   },
   {
    "duration": 458,
    "start_time": "2023-05-26T14:20:07.949Z"
   },
   {
    "duration": 992,
    "start_time": "2023-05-26T14:20:08.409Z"
   },
   {
    "duration": 163,
    "start_time": "2023-05-26T14:20:09.403Z"
   },
   {
    "duration": 83,
    "start_time": "2023-05-26T14:20:09.568Z"
   },
   {
    "duration": 208,
    "start_time": "2023-05-26T14:20:09.653Z"
   },
   {
    "duration": 44,
    "start_time": "2023-05-26T14:20:09.863Z"
   },
   {
    "duration": 228,
    "start_time": "2023-05-26T14:20:09.909Z"
   },
   {
    "duration": 67,
    "start_time": "2023-05-26T14:20:10.139Z"
   },
   {
    "duration": 120,
    "start_time": "2023-05-26T14:20:10.207Z"
   },
   {
    "duration": 145,
    "start_time": "2023-05-26T14:20:10.330Z"
   },
   {
    "duration": 7,
    "start_time": "2023-05-26T14:20:10.477Z"
   },
   {
    "duration": 165,
    "start_time": "2023-05-26T14:20:10.486Z"
   },
   {
    "duration": 79,
    "start_time": "2023-05-26T14:20:10.652Z"
   },
   {
    "duration": 119,
    "start_time": "2023-05-26T14:20:10.733Z"
   },
   {
    "duration": 23,
    "start_time": "2023-05-26T14:20:10.854Z"
   },
   {
    "duration": 139,
    "start_time": "2023-05-26T14:20:10.879Z"
   },
   {
    "duration": 27,
    "start_time": "2023-05-26T14:20:11.020Z"
   },
   {
    "duration": 5,
    "start_time": "2023-05-26T14:20:11.049Z"
   },
   {
    "duration": 610,
    "start_time": "2023-05-26T14:20:11.056Z"
   },
   {
    "duration": 75,
    "start_time": "2023-05-26T14:20:11.667Z"
   },
   {
    "duration": 13,
    "start_time": "2023-05-26T14:20:11.743Z"
   },
   {
    "duration": 55,
    "start_time": "2023-05-26T14:20:11.757Z"
   },
   {
    "duration": 1364,
    "start_time": "2023-05-26T14:20:11.825Z"
   },
   {
    "duration": 1650,
    "start_time": "2023-05-26T14:20:13.191Z"
   },
   {
    "duration": 56540,
    "start_time": "2023-05-26T14:20:14.843Z"
   },
   {
    "duration": 0,
    "start_time": "2023-05-26T14:21:11.385Z"
   },
   {
    "duration": 0,
    "start_time": "2023-05-26T14:21:11.386Z"
   },
   {
    "duration": 0,
    "start_time": "2023-05-26T14:21:11.386Z"
   },
   {
    "duration": 0,
    "start_time": "2023-05-26T14:21:11.387Z"
   },
   {
    "duration": 0,
    "start_time": "2023-05-26T14:21:11.388Z"
   },
   {
    "duration": 0,
    "start_time": "2023-05-26T14:21:11.389Z"
   },
   {
    "duration": 0,
    "start_time": "2023-05-26T14:21:11.390Z"
   },
   {
    "duration": 1335,
    "start_time": "2023-05-26T14:21:52.077Z"
   },
   {
    "duration": 778,
    "start_time": "2023-05-26T14:21:53.414Z"
   },
   {
    "duration": 146,
    "start_time": "2023-05-26T14:21:54.194Z"
   },
   {
    "duration": 25,
    "start_time": "2023-05-26T14:21:54.342Z"
   },
   {
    "duration": 787,
    "start_time": "2023-05-26T14:21:54.369Z"
   },
   {
    "duration": 1569,
    "start_time": "2023-05-26T14:21:55.158Z"
   },
   {
    "duration": 153,
    "start_time": "2023-05-26T14:21:56.728Z"
   },
   {
    "duration": 86,
    "start_time": "2023-05-26T14:21:56.883Z"
   },
   {
    "duration": 179,
    "start_time": "2023-05-26T14:21:56.971Z"
   },
   {
    "duration": 31,
    "start_time": "2023-05-26T14:21:57.153Z"
   },
   {
    "duration": 137,
    "start_time": "2023-05-26T14:21:57.185Z"
   },
   {
    "duration": 76,
    "start_time": "2023-05-26T14:21:57.323Z"
   },
   {
    "duration": 107,
    "start_time": "2023-05-26T14:21:57.401Z"
   },
   {
    "duration": 153,
    "start_time": "2023-05-26T14:21:57.510Z"
   },
   {
    "duration": 7,
    "start_time": "2023-05-26T14:21:57.665Z"
   },
   {
    "duration": 157,
    "start_time": "2023-05-26T14:21:57.673Z"
   },
   {
    "duration": 66,
    "start_time": "2023-05-26T14:21:57.832Z"
   },
   {
    "duration": 113,
    "start_time": "2023-05-26T14:21:57.900Z"
   },
   {
    "duration": 29,
    "start_time": "2023-05-26T14:21:58.014Z"
   },
   {
    "duration": 128,
    "start_time": "2023-05-26T14:21:58.045Z"
   },
   {
    "duration": 20,
    "start_time": "2023-05-26T14:21:58.175Z"
   },
   {
    "duration": 5,
    "start_time": "2023-05-26T14:21:58.196Z"
   },
   {
    "duration": 571,
    "start_time": "2023-05-26T14:21:58.203Z"
   },
   {
    "duration": 74,
    "start_time": "2023-05-26T14:21:58.776Z"
   },
   {
    "duration": 12,
    "start_time": "2023-05-26T14:21:58.852Z"
   },
   {
    "duration": 63,
    "start_time": "2023-05-26T14:21:58.866Z"
   },
   {
    "duration": 1412,
    "start_time": "2023-05-26T14:21:58.931Z"
   },
   {
    "duration": 1712,
    "start_time": "2023-05-26T14:22:00.347Z"
   },
   {
    "duration": 135368,
    "start_time": "2023-05-26T14:22:02.061Z"
   },
   {
    "duration": 55412,
    "start_time": "2023-05-26T14:24:17.431Z"
   },
   {
    "duration": 407715,
    "start_time": "2023-05-26T14:25:12.926Z"
   },
   {
    "duration": 30193,
    "start_time": "2023-05-26T14:32:00.642Z"
   },
   {
    "duration": 409421,
    "start_time": "2023-05-26T14:32:30.837Z"
   },
   {
    "duration": 95940,
    "start_time": "2023-05-26T14:39:20.260Z"
   },
   {
    "duration": 9,
    "start_time": "2023-05-26T14:40:56.201Z"
   },
   {
    "duration": 416,
    "start_time": "2023-05-26T14:40:56.211Z"
   },
   {
    "duration": 8,
    "start_time": "2023-05-26T14:41:09.989Z"
   },
   {
    "duration": 9,
    "start_time": "2023-05-26T14:42:00.382Z"
   },
   {
    "duration": 345,
    "start_time": "2023-05-26T14:42:42.489Z"
   },
   {
    "duration": 3672,
    "start_time": "2023-05-26T14:45:30.943Z"
   },
   {
    "duration": 2755,
    "start_time": "2023-05-26T15:56:48.965Z"
   },
   {
    "duration": 867,
    "start_time": "2023-05-26T15:56:51.722Z"
   },
   {
    "duration": 153,
    "start_time": "2023-05-26T15:56:52.592Z"
   },
   {
    "duration": 43,
    "start_time": "2023-05-26T15:56:52.747Z"
   },
   {
    "duration": 467,
    "start_time": "2023-05-26T15:56:52.792Z"
   },
   {
    "duration": 991,
    "start_time": "2023-05-26T15:56:53.261Z"
   },
   {
    "duration": 167,
    "start_time": "2023-05-26T15:56:54.254Z"
   },
   {
    "duration": 94,
    "start_time": "2023-05-26T15:56:54.423Z"
   },
   {
    "duration": 190,
    "start_time": "2023-05-26T15:56:54.519Z"
   },
   {
    "duration": 32,
    "start_time": "2023-05-26T15:56:54.711Z"
   },
   {
    "duration": 155,
    "start_time": "2023-05-26T15:56:54.745Z"
   },
   {
    "duration": 88,
    "start_time": "2023-05-26T15:56:54.902Z"
   },
   {
    "duration": 122,
    "start_time": "2023-05-26T15:56:54.993Z"
   },
   {
    "duration": 150,
    "start_time": "2023-05-26T15:56:55.118Z"
   },
   {
    "duration": 18,
    "start_time": "2023-05-26T15:56:55.270Z"
   },
   {
    "duration": 158,
    "start_time": "2023-05-26T15:56:55.290Z"
   },
   {
    "duration": 50,
    "start_time": "2023-05-26T15:56:55.449Z"
   },
   {
    "duration": 124,
    "start_time": "2023-05-26T15:56:55.501Z"
   },
   {
    "duration": 22,
    "start_time": "2023-05-26T15:56:55.627Z"
   },
   {
    "duration": 149,
    "start_time": "2023-05-26T15:56:55.651Z"
   },
   {
    "duration": 22,
    "start_time": "2023-05-26T15:56:55.802Z"
   },
   {
    "duration": 5,
    "start_time": "2023-05-26T15:56:55.826Z"
   },
   {
    "duration": 681,
    "start_time": "2023-05-26T15:56:55.832Z"
   },
   {
    "duration": 83,
    "start_time": "2023-05-26T15:56:56.515Z"
   },
   {
    "duration": 12,
    "start_time": "2023-05-26T15:56:56.600Z"
   },
   {
    "duration": 46,
    "start_time": "2023-05-26T15:56:56.614Z"
   },
   {
    "duration": 1440,
    "start_time": "2023-05-26T15:56:56.662Z"
   },
   {
    "duration": 1785,
    "start_time": "2023-05-26T15:56:58.104Z"
   },
   {
    "duration": 1630,
    "start_time": "2023-05-27T10:18:49.798Z"
   },
   {
    "duration": 2740,
    "start_time": "2023-05-27T10:18:54.913Z"
   },
   {
    "duration": 150,
    "start_time": "2023-05-27T10:18:57.656Z"
   },
   {
    "duration": 25,
    "start_time": "2023-05-27T10:19:00.494Z"
   },
   {
    "duration": 446,
    "start_time": "2023-05-27T10:19:01.833Z"
   },
   {
    "duration": 1050,
    "start_time": "2023-05-27T10:19:03.841Z"
   },
   {
    "duration": 144,
    "start_time": "2023-05-27T10:19:05.802Z"
   },
   {
    "duration": 100,
    "start_time": "2023-05-27T10:19:07.648Z"
   },
   {
    "duration": 168,
    "start_time": "2023-05-27T10:19:09.409Z"
   },
   {
    "duration": 33,
    "start_time": "2023-05-27T10:19:11.189Z"
   },
   {
    "duration": 121,
    "start_time": "2023-05-27T10:19:12.097Z"
   },
   {
    "duration": 69,
    "start_time": "2023-05-27T10:19:13.403Z"
   },
   {
    "duration": 115,
    "start_time": "2023-05-27T10:19:14.697Z"
   },
   {
    "duration": 143,
    "start_time": "2023-05-27T10:19:17.657Z"
   },
   {
    "duration": 8,
    "start_time": "2023-05-27T10:19:20.008Z"
   },
   {
    "duration": 153,
    "start_time": "2023-05-27T10:19:21.094Z"
   },
   {
    "duration": 71,
    "start_time": "2023-05-27T10:19:22.896Z"
   },
   {
    "duration": 120,
    "start_time": "2023-05-27T10:19:24.537Z"
   },
   {
    "duration": 23,
    "start_time": "2023-05-27T10:19:25.825Z"
   },
   {
    "duration": 129,
    "start_time": "2023-05-27T10:19:27.297Z"
   },
   {
    "duration": 21,
    "start_time": "2023-05-27T10:19:29.248Z"
   },
   {
    "duration": 6,
    "start_time": "2023-05-27T10:19:30.208Z"
   },
   {
    "duration": 581,
    "start_time": "2023-05-27T10:19:31.807Z"
   },
   {
    "duration": 69,
    "start_time": "2023-05-27T10:19:36.504Z"
   },
   {
    "duration": 12,
    "start_time": "2023-05-27T10:19:40.312Z"
   },
   {
    "duration": 52,
    "start_time": "2023-05-27T10:19:42.247Z"
   },
   {
    "duration": 729,
    "start_time": "2023-05-27T10:20:37.794Z"
   },
   {
    "duration": 526,
    "start_time": "2023-05-27T10:21:35.962Z"
   },
   {
    "duration": 9,
    "start_time": "2023-05-27T10:21:53.342Z"
   },
   {
    "duration": 55,
    "start_time": "2023-05-27T10:22:04.513Z"
   },
   {
    "duration": 11,
    "start_time": "2023-05-27T10:22:25.086Z"
   },
   {
    "duration": 1473,
    "start_time": "2023-05-27T10:22:37.734Z"
   },
   {
    "duration": 472,
    "start_time": "2023-05-27T10:22:43.038Z"
   },
   {
    "duration": 891554,
    "start_time": "2023-05-27T10:22:45.325Z"
   },
   {
    "duration": 260235,
    "start_time": "2023-05-27T10:46:21.296Z"
   },
   {
    "duration": 63231,
    "start_time": "2023-05-27T10:50:41.533Z"
   },
   {
    "duration": 12,
    "start_time": "2023-05-27T10:51:44.766Z"
   },
   {
    "duration": 54,
    "start_time": "2023-05-27T11:12:26.604Z"
   },
   {
    "duration": 1479,
    "start_time": "2023-05-27T11:12:53.919Z"
   },
   {
    "duration": 794,
    "start_time": "2023-05-27T11:12:55.400Z"
   },
   {
    "duration": 165,
    "start_time": "2023-05-27T11:12:56.196Z"
   },
   {
    "duration": 34,
    "start_time": "2023-05-27T11:12:56.362Z"
   },
   {
    "duration": 433,
    "start_time": "2023-05-27T11:12:56.399Z"
   },
   {
    "duration": 971,
    "start_time": "2023-05-27T11:12:56.834Z"
   },
   {
    "duration": 166,
    "start_time": "2023-05-27T11:12:57.807Z"
   },
   {
    "duration": 104,
    "start_time": "2023-05-27T11:12:57.976Z"
   },
   {
    "duration": 227,
    "start_time": "2023-05-27T11:12:58.082Z"
   },
   {
    "duration": 41,
    "start_time": "2023-05-27T11:12:58.311Z"
   },
   {
    "duration": 158,
    "start_time": "2023-05-27T11:12:58.353Z"
   },
   {
    "duration": 84,
    "start_time": "2023-05-27T11:12:58.512Z"
   },
   {
    "duration": 126,
    "start_time": "2023-05-27T11:12:58.597Z"
   },
   {
    "duration": 155,
    "start_time": "2023-05-27T11:12:58.726Z"
   },
   {
    "duration": 7,
    "start_time": "2023-05-27T11:12:58.883Z"
   },
   {
    "duration": 166,
    "start_time": "2023-05-27T11:12:58.891Z"
   },
   {
    "duration": 82,
    "start_time": "2023-05-27T11:12:59.058Z"
   },
   {
    "duration": 119,
    "start_time": "2023-05-27T11:12:59.141Z"
   },
   {
    "duration": 35,
    "start_time": "2023-05-27T11:12:59.262Z"
   },
   {
    "duration": 137,
    "start_time": "2023-05-27T11:12:59.299Z"
   },
   {
    "duration": 20,
    "start_time": "2023-05-27T11:12:59.437Z"
   },
   {
    "duration": 17,
    "start_time": "2023-05-27T11:12:59.459Z"
   },
   {
    "duration": 606,
    "start_time": "2023-05-27T11:12:59.477Z"
   },
   {
    "duration": 72,
    "start_time": "2023-05-27T11:13:00.085Z"
   },
   {
    "duration": 25,
    "start_time": "2023-05-27T11:13:00.159Z"
   },
   {
    "duration": 52,
    "start_time": "2023-05-27T11:13:00.186Z"
   },
   {
    "duration": 664,
    "start_time": "2023-05-27T11:13:00.240Z"
   },
   {
    "duration": 69,
    "start_time": "2023-05-27T11:13:00.906Z"
   },
   {
    "duration": 1330,
    "start_time": "2023-05-27T11:13:00.977Z"
   },
   {
    "duration": 667,
    "start_time": "2023-05-27T11:13:02.309Z"
   },
   {
    "duration": 817707,
    "start_time": "2023-05-27T11:13:02.982Z"
   },
   {
    "duration": 443684,
    "start_time": "2023-05-27T11:26:40.691Z"
   },
   {
    "duration": 1449,
    "start_time": "2023-05-27T11:42:31.653Z"
   },
   {
    "duration": 808,
    "start_time": "2023-05-27T11:42:33.104Z"
   },
   {
    "duration": 215,
    "start_time": "2023-05-27T11:42:33.914Z"
   },
   {
    "duration": 48,
    "start_time": "2023-05-27T11:42:34.131Z"
   },
   {
    "duration": 528,
    "start_time": "2023-05-27T11:42:34.181Z"
   },
   {
    "duration": 1076,
    "start_time": "2023-05-27T11:42:34.711Z"
   },
   {
    "duration": 154,
    "start_time": "2023-05-27T11:42:35.789Z"
   },
   {
    "duration": 93,
    "start_time": "2023-05-27T11:42:35.945Z"
   },
   {
    "duration": 196,
    "start_time": "2023-05-27T11:42:36.040Z"
   },
   {
    "duration": 46,
    "start_time": "2023-05-27T11:42:36.239Z"
   },
   {
    "duration": 168,
    "start_time": "2023-05-27T11:42:36.287Z"
   },
   {
    "duration": 94,
    "start_time": "2023-05-27T11:42:36.457Z"
   },
   {
    "duration": 116,
    "start_time": "2023-05-27T11:42:36.553Z"
   },
   {
    "duration": 156,
    "start_time": "2023-05-27T11:42:36.672Z"
   },
   {
    "duration": 8,
    "start_time": "2023-05-27T11:42:36.831Z"
   },
   {
    "duration": 171,
    "start_time": "2023-05-27T11:42:36.840Z"
   },
   {
    "duration": 39,
    "start_time": "2023-05-27T11:42:37.013Z"
   },
   {
    "duration": 127,
    "start_time": "2023-05-27T11:42:37.054Z"
   },
   {
    "duration": 21,
    "start_time": "2023-05-27T11:42:37.183Z"
   },
   {
    "duration": 141,
    "start_time": "2023-05-27T11:42:37.206Z"
   },
   {
    "duration": 34,
    "start_time": "2023-05-27T11:42:37.349Z"
   },
   {
    "duration": 6,
    "start_time": "2023-05-27T11:42:37.384Z"
   },
   {
    "duration": 576,
    "start_time": "2023-05-27T11:42:37.391Z"
   },
   {
    "duration": 63,
    "start_time": "2023-05-27T11:42:37.969Z"
   },
   {
    "duration": 15,
    "start_time": "2023-05-27T11:42:38.034Z"
   },
   {
    "duration": 79,
    "start_time": "2023-05-27T11:42:38.051Z"
   },
   {
    "duration": 143,
    "start_time": "2023-05-27T11:42:38.131Z"
   },
   {
    "duration": 0,
    "start_time": "2023-05-27T11:42:38.275Z"
   },
   {
    "duration": 0,
    "start_time": "2023-05-27T11:42:38.277Z"
   },
   {
    "duration": 0,
    "start_time": "2023-05-27T11:42:38.278Z"
   },
   {
    "duration": 0,
    "start_time": "2023-05-27T11:42:38.279Z"
   },
   {
    "duration": 0,
    "start_time": "2023-05-27T11:42:38.281Z"
   },
   {
    "duration": 0,
    "start_time": "2023-05-27T11:42:38.282Z"
   },
   {
    "duration": 0,
    "start_time": "2023-05-27T11:42:38.284Z"
   },
   {
    "duration": 0,
    "start_time": "2023-05-27T11:42:38.285Z"
   },
   {
    "duration": 0,
    "start_time": "2023-05-27T11:42:38.286Z"
   },
   {
    "duration": 1405,
    "start_time": "2023-05-27T11:43:07.799Z"
   },
   {
    "duration": 999,
    "start_time": "2023-05-27T11:43:09.206Z"
   },
   {
    "duration": 309,
    "start_time": "2023-05-27T11:43:10.207Z"
   },
   {
    "duration": 96,
    "start_time": "2023-05-27T11:43:10.518Z"
   },
   {
    "duration": 898,
    "start_time": "2023-05-27T11:43:10.617Z"
   },
   {
    "duration": 1012,
    "start_time": "2023-05-27T11:43:11.516Z"
   },
   {
    "duration": 198,
    "start_time": "2023-05-27T11:43:12.530Z"
   },
   {
    "duration": 93,
    "start_time": "2023-05-27T11:43:12.730Z"
   },
   {
    "duration": 205,
    "start_time": "2023-05-27T11:43:12.825Z"
   },
   {
    "duration": 44,
    "start_time": "2023-05-27T11:43:13.032Z"
   },
   {
    "duration": 142,
    "start_time": "2023-05-27T11:43:13.077Z"
   },
   {
    "duration": 81,
    "start_time": "2023-05-27T11:43:13.220Z"
   },
   {
    "duration": 120,
    "start_time": "2023-05-27T11:43:13.303Z"
   },
   {
    "duration": 166,
    "start_time": "2023-05-27T11:43:13.426Z"
   },
   {
    "duration": 7,
    "start_time": "2023-05-27T11:43:13.594Z"
   },
   {
    "duration": 171,
    "start_time": "2023-05-27T11:43:13.603Z"
   },
   {
    "duration": 78,
    "start_time": "2023-05-27T11:43:13.776Z"
   },
   {
    "duration": 139,
    "start_time": "2023-05-27T11:43:13.855Z"
   },
   {
    "duration": 33,
    "start_time": "2023-05-27T11:43:13.996Z"
   },
   {
    "duration": 178,
    "start_time": "2023-05-27T11:43:14.032Z"
   },
   {
    "duration": 26,
    "start_time": "2023-05-27T11:43:14.212Z"
   },
   {
    "duration": 6,
    "start_time": "2023-05-27T11:43:14.240Z"
   },
   {
    "duration": 595,
    "start_time": "2023-05-27T11:43:14.249Z"
   },
   {
    "duration": 93,
    "start_time": "2023-05-27T11:43:14.846Z"
   },
   {
    "duration": 11,
    "start_time": "2023-05-27T11:43:14.940Z"
   },
   {
    "duration": 62,
    "start_time": "2023-05-27T11:43:14.953Z"
   },
   {
    "duration": 1202,
    "start_time": "2023-05-27T11:43:15.016Z"
   },
   {
    "duration": 170,
    "start_time": "2023-05-27T11:43:16.220Z"
   },
   {
    "duration": 0,
    "start_time": "2023-05-27T11:43:16.392Z"
   },
   {
    "duration": 0,
    "start_time": "2023-05-27T11:43:16.393Z"
   },
   {
    "duration": 0,
    "start_time": "2023-05-27T11:43:16.394Z"
   },
   {
    "duration": 0,
    "start_time": "2023-05-27T11:43:16.395Z"
   },
   {
    "duration": 0,
    "start_time": "2023-05-27T11:43:16.396Z"
   },
   {
    "duration": 0,
    "start_time": "2023-05-27T11:43:16.397Z"
   },
   {
    "duration": 0,
    "start_time": "2023-05-27T11:43:16.398Z"
   },
   {
    "duration": 0,
    "start_time": "2023-05-27T11:43:16.399Z"
   },
   {
    "duration": 1366,
    "start_time": "2023-05-27T11:44:39.918Z"
   },
   {
    "duration": 804,
    "start_time": "2023-05-27T11:44:41.286Z"
   },
   {
    "duration": 150,
    "start_time": "2023-05-27T11:44:42.092Z"
   },
   {
    "duration": 38,
    "start_time": "2023-05-27T11:44:42.244Z"
   },
   {
    "duration": 462,
    "start_time": "2023-05-27T11:44:42.284Z"
   },
   {
    "duration": 974,
    "start_time": "2023-05-27T11:44:42.748Z"
   },
   {
    "duration": 157,
    "start_time": "2023-05-27T11:44:43.724Z"
   },
   {
    "duration": 110,
    "start_time": "2023-05-27T11:44:43.883Z"
   },
   {
    "duration": 300,
    "start_time": "2023-05-27T11:44:43.995Z"
   },
   {
    "duration": 86,
    "start_time": "2023-05-27T11:44:44.297Z"
   },
   {
    "duration": 235,
    "start_time": "2023-05-27T11:44:44.385Z"
   },
   {
    "duration": 173,
    "start_time": "2023-05-27T11:44:44.622Z"
   },
   {
    "duration": 278,
    "start_time": "2023-05-27T11:44:44.797Z"
   },
   {
    "duration": 312,
    "start_time": "2023-05-27T11:44:45.078Z"
   },
   {
    "duration": 7,
    "start_time": "2023-05-27T11:44:45.391Z"
   },
   {
    "duration": 308,
    "start_time": "2023-05-27T11:44:45.399Z"
   },
   {
    "duration": 182,
    "start_time": "2023-05-27T11:44:45.708Z"
   },
   {
    "duration": 226,
    "start_time": "2023-05-27T11:44:45.892Z"
   },
   {
    "duration": 62,
    "start_time": "2023-05-27T11:44:46.120Z"
   },
   {
    "duration": 140,
    "start_time": "2023-05-27T11:44:46.183Z"
   },
   {
    "duration": 25,
    "start_time": "2023-05-27T11:44:46.325Z"
   },
   {
    "duration": 24,
    "start_time": "2023-05-27T11:44:46.352Z"
   },
   {
    "duration": 592,
    "start_time": "2023-05-27T11:44:46.378Z"
   },
   {
    "duration": 59,
    "start_time": "2023-05-27T11:44:46.972Z"
   },
   {
    "duration": 10,
    "start_time": "2023-05-27T11:44:47.033Z"
   },
   {
    "duration": 73,
    "start_time": "2023-05-27T11:44:47.044Z"
   },
   {
    "duration": 485,
    "start_time": "2023-05-27T11:44:47.118Z"
   },
   {
    "duration": 51,
    "start_time": "2023-05-27T11:44:47.605Z"
   },
   {
    "duration": 1246,
    "start_time": "2023-05-27T11:44:47.659Z"
   },
   {
    "duration": 496,
    "start_time": "2023-05-27T11:44:48.908Z"
   },
   {
    "duration": 20564,
    "start_time": "2023-05-27T11:44:49.476Z"
   },
   {
    "duration": 0,
    "start_time": "2023-05-27T11:45:10.042Z"
   },
   {
    "duration": 0,
    "start_time": "2023-05-27T11:45:10.044Z"
   },
   {
    "duration": 0,
    "start_time": "2023-05-27T11:45:10.045Z"
   },
   {
    "duration": 0,
    "start_time": "2023-05-27T11:45:10.046Z"
   },
   {
    "duration": 0,
    "start_time": "2023-05-27T11:45:10.048Z"
   },
   {
    "duration": 1497,
    "start_time": "2023-05-27T11:45:31.855Z"
   },
   {
    "duration": 887,
    "start_time": "2023-05-27T11:45:33.354Z"
   },
   {
    "duration": 153,
    "start_time": "2023-05-27T11:45:34.243Z"
   },
   {
    "duration": 27,
    "start_time": "2023-05-27T11:45:34.397Z"
   },
   {
    "duration": 508,
    "start_time": "2023-05-27T11:45:34.427Z"
   },
   {
    "duration": 1051,
    "start_time": "2023-05-27T11:45:34.937Z"
   },
   {
    "duration": 177,
    "start_time": "2023-05-27T11:45:35.990Z"
   },
   {
    "duration": 94,
    "start_time": "2023-05-27T11:45:36.169Z"
   },
   {
    "duration": 178,
    "start_time": "2023-05-27T11:45:36.275Z"
   },
   {
    "duration": 36,
    "start_time": "2023-05-27T11:45:36.454Z"
   },
   {
    "duration": 141,
    "start_time": "2023-05-27T11:45:36.491Z"
   },
   {
    "duration": 84,
    "start_time": "2023-05-27T11:45:36.634Z"
   },
   {
    "duration": 120,
    "start_time": "2023-05-27T11:45:36.720Z"
   },
   {
    "duration": 155,
    "start_time": "2023-05-27T11:45:36.843Z"
   },
   {
    "duration": 7,
    "start_time": "2023-05-27T11:45:37.000Z"
   },
   {
    "duration": 178,
    "start_time": "2023-05-27T11:45:37.009Z"
   },
   {
    "duration": 72,
    "start_time": "2023-05-27T11:45:37.189Z"
   },
   {
    "duration": 126,
    "start_time": "2023-05-27T11:45:37.262Z"
   },
   {
    "duration": 22,
    "start_time": "2023-05-27T11:45:37.389Z"
   },
   {
    "duration": 149,
    "start_time": "2023-05-27T11:45:37.413Z"
   },
   {
    "duration": 26,
    "start_time": "2023-05-27T11:45:37.564Z"
   },
   {
    "duration": 6,
    "start_time": "2023-05-27T11:45:37.592Z"
   },
   {
    "duration": 663,
    "start_time": "2023-05-27T11:45:37.600Z"
   },
   {
    "duration": 73,
    "start_time": "2023-05-27T11:45:38.264Z"
   },
   {
    "duration": 16,
    "start_time": "2023-05-27T11:45:38.339Z"
   },
   {
    "duration": 49,
    "start_time": "2023-05-27T11:45:38.375Z"
   },
   {
    "duration": 689,
    "start_time": "2023-05-27T11:45:38.426Z"
   },
   {
    "duration": 68,
    "start_time": "2023-05-27T11:45:39.117Z"
   },
   {
    "duration": 1223,
    "start_time": "2023-05-27T11:45:39.187Z"
   },
   {
    "duration": 568,
    "start_time": "2023-05-27T11:45:40.412Z"
   },
   {
    "duration": 718291,
    "start_time": "2023-05-27T11:45:40.985Z"
   },
   {
    "duration": 357432,
    "start_time": "2023-05-27T11:57:39.278Z"
   },
   {
    "duration": 0,
    "start_time": "2023-05-27T12:03:36.711Z"
   },
   {
    "duration": 0,
    "start_time": "2023-05-27T12:03:36.712Z"
   },
   {
    "duration": 0,
    "start_time": "2023-05-27T12:03:36.713Z"
   },
   {
    "duration": 0,
    "start_time": "2023-05-27T12:03:36.714Z"
   },
   {
    "duration": 1478,
    "start_time": "2023-05-27T12:04:08.924Z"
   },
   {
    "duration": 846,
    "start_time": "2023-05-27T12:04:10.404Z"
   },
   {
    "duration": 204,
    "start_time": "2023-05-27T12:04:11.252Z"
   },
   {
    "duration": 42,
    "start_time": "2023-05-27T12:04:11.458Z"
   },
   {
    "duration": 468,
    "start_time": "2023-05-27T12:04:11.502Z"
   },
   {
    "duration": 1038,
    "start_time": "2023-05-27T12:04:11.972Z"
   },
   {
    "duration": 182,
    "start_time": "2023-05-27T12:04:13.012Z"
   },
   {
    "duration": 119,
    "start_time": "2023-05-27T12:04:13.197Z"
   },
   {
    "duration": 188,
    "start_time": "2023-05-27T12:04:13.318Z"
   },
   {
    "duration": 35,
    "start_time": "2023-05-27T12:04:13.509Z"
   },
   {
    "duration": 151,
    "start_time": "2023-05-27T12:04:13.545Z"
   },
   {
    "duration": 91,
    "start_time": "2023-05-27T12:04:13.698Z"
   },
   {
    "duration": 125,
    "start_time": "2023-05-27T12:04:13.791Z"
   },
   {
    "duration": 217,
    "start_time": "2023-05-27T12:04:13.919Z"
   },
   {
    "duration": 8,
    "start_time": "2023-05-27T12:04:14.138Z"
   },
   {
    "duration": 242,
    "start_time": "2023-05-27T12:04:14.149Z"
   },
   {
    "duration": 91,
    "start_time": "2023-05-27T12:04:14.393Z"
   },
   {
    "duration": 120,
    "start_time": "2023-05-27T12:04:14.486Z"
   },
   {
    "duration": 29,
    "start_time": "2023-05-27T12:04:14.607Z"
   },
   {
    "duration": 152,
    "start_time": "2023-05-27T12:04:14.637Z"
   },
   {
    "duration": 26,
    "start_time": "2023-05-27T12:04:14.791Z"
   },
   {
    "duration": 7,
    "start_time": "2023-05-27T12:04:14.819Z"
   },
   {
    "duration": 688,
    "start_time": "2023-05-27T12:04:14.827Z"
   },
   {
    "duration": 84,
    "start_time": "2023-05-27T12:04:15.516Z"
   },
   {
    "duration": 13,
    "start_time": "2023-05-27T12:04:15.602Z"
   },
   {
    "duration": 98,
    "start_time": "2023-05-27T12:04:15.617Z"
   },
   {
    "duration": 676,
    "start_time": "2023-05-27T12:04:15.717Z"
   },
   {
    "duration": 81,
    "start_time": "2023-05-27T12:04:16.398Z"
   },
   {
    "duration": 1333,
    "start_time": "2023-05-27T12:04:16.480Z"
   },
   {
    "duration": 663,
    "start_time": "2023-05-27T12:04:17.815Z"
   },
   {
    "duration": 1000320,
    "start_time": "2023-05-27T12:04:18.480Z"
   },
   {
    "duration": 128994,
    "start_time": "2023-05-27T12:20:58.806Z"
   },
   {
    "duration": 0,
    "start_time": "2023-05-27T12:23:07.802Z"
   },
   {
    "duration": 0,
    "start_time": "2023-05-27T12:23:07.804Z"
   },
   {
    "duration": 0,
    "start_time": "2023-05-27T12:23:07.805Z"
   },
   {
    "duration": 0,
    "start_time": "2023-05-27T12:23:07.807Z"
   },
   {
    "duration": 1534,
    "start_time": "2023-05-27T12:23:45.892Z"
   },
   {
    "duration": 886,
    "start_time": "2023-05-27T12:23:47.428Z"
   },
   {
    "duration": 196,
    "start_time": "2023-05-27T12:23:48.316Z"
   },
   {
    "duration": 28,
    "start_time": "2023-05-27T12:23:48.513Z"
   },
   {
    "duration": 526,
    "start_time": "2023-05-27T12:23:48.543Z"
   },
   {
    "duration": 1095,
    "start_time": "2023-05-27T12:23:49.071Z"
   },
   {
    "duration": 225,
    "start_time": "2023-05-27T12:23:50.167Z"
   },
   {
    "duration": 115,
    "start_time": "2023-05-27T12:23:50.395Z"
   },
   {
    "duration": 209,
    "start_time": "2023-05-27T12:23:50.512Z"
   },
   {
    "duration": 62,
    "start_time": "2023-05-27T12:23:50.724Z"
   },
   {
    "duration": 144,
    "start_time": "2023-05-27T12:23:50.793Z"
   },
   {
    "duration": 97,
    "start_time": "2023-05-27T12:23:50.938Z"
   },
   {
    "duration": 134,
    "start_time": "2023-05-27T12:23:51.037Z"
   },
   {
    "duration": 177,
    "start_time": "2023-05-27T12:23:51.174Z"
   },
   {
    "duration": 8,
    "start_time": "2023-05-27T12:23:51.353Z"
   },
   {
    "duration": 175,
    "start_time": "2023-05-27T12:23:51.376Z"
   },
   {
    "duration": 76,
    "start_time": "2023-05-27T12:23:51.553Z"
   },
   {
    "duration": 130,
    "start_time": "2023-05-27T12:23:51.630Z"
   },
   {
    "duration": 35,
    "start_time": "2023-05-27T12:23:51.762Z"
   },
   {
    "duration": 146,
    "start_time": "2023-05-27T12:23:51.799Z"
   },
   {
    "duration": 47,
    "start_time": "2023-05-27T12:23:51.947Z"
   },
   {
    "duration": 6,
    "start_time": "2023-05-27T12:23:51.997Z"
   },
   {
    "duration": 660,
    "start_time": "2023-05-27T12:23:52.005Z"
   },
   {
    "duration": 90,
    "start_time": "2023-05-27T12:23:52.668Z"
   },
   {
    "duration": 29,
    "start_time": "2023-05-27T12:23:52.760Z"
   },
   {
    "duration": 115,
    "start_time": "2023-05-27T12:23:52.792Z"
   },
   {
    "duration": 765,
    "start_time": "2023-05-27T12:23:52.910Z"
   },
   {
    "duration": 61,
    "start_time": "2023-05-27T12:23:53.677Z"
   },
   {
    "duration": 1440,
    "start_time": "2023-05-27T12:23:53.740Z"
   },
   {
    "duration": 534,
    "start_time": "2023-05-27T12:23:55.187Z"
   },
   {
    "duration": 1594,
    "start_time": "2023-05-27T12:55:18.052Z"
   },
   {
    "duration": 960,
    "start_time": "2023-05-27T12:55:19.648Z"
   },
   {
    "duration": 195,
    "start_time": "2023-05-27T12:55:20.611Z"
   },
   {
    "duration": 29,
    "start_time": "2023-05-27T12:55:20.813Z"
   },
   {
    "duration": 537,
    "start_time": "2023-05-27T12:55:20.844Z"
   },
   {
    "duration": 1134,
    "start_time": "2023-05-27T12:55:21.383Z"
   },
   {
    "duration": 186,
    "start_time": "2023-05-27T12:55:22.519Z"
   },
   {
    "duration": 141,
    "start_time": "2023-05-27T12:55:22.707Z"
   },
   {
    "duration": 220,
    "start_time": "2023-05-27T12:55:22.850Z"
   },
   {
    "duration": 50,
    "start_time": "2023-05-27T12:55:23.071Z"
   },
   {
    "duration": 164,
    "start_time": "2023-05-27T12:55:23.122Z"
   },
   {
    "duration": 91,
    "start_time": "2023-05-27T12:55:23.288Z"
   },
   {
    "duration": 149,
    "start_time": "2023-05-27T12:55:23.381Z"
   },
   {
    "duration": 199,
    "start_time": "2023-05-27T12:55:23.534Z"
   },
   {
    "duration": 8,
    "start_time": "2023-05-27T12:55:23.735Z"
   },
   {
    "duration": 194,
    "start_time": "2023-05-27T12:55:23.744Z"
   },
   {
    "duration": 97,
    "start_time": "2023-05-27T12:55:23.941Z"
   },
   {
    "duration": 156,
    "start_time": "2023-05-27T12:55:24.040Z"
   },
   {
    "duration": 35,
    "start_time": "2023-05-27T12:55:24.198Z"
   },
   {
    "duration": 190,
    "start_time": "2023-05-27T12:55:24.237Z"
   },
   {
    "duration": 26,
    "start_time": "2023-05-27T12:55:24.430Z"
   },
   {
    "duration": 25,
    "start_time": "2023-05-27T12:55:24.458Z"
   },
   {
    "duration": 647,
    "start_time": "2023-05-27T12:55:24.484Z"
   },
   {
    "duration": 105,
    "start_time": "2023-05-27T12:55:25.132Z"
   },
   {
    "duration": 15,
    "start_time": "2023-05-27T12:55:25.239Z"
   },
   {
    "duration": 82,
    "start_time": "2023-05-27T12:55:25.256Z"
   },
   {
    "duration": 832,
    "start_time": "2023-05-27T12:55:25.340Z"
   },
   {
    "duration": 76,
    "start_time": "2023-05-27T12:55:26.173Z"
   },
   {
    "duration": 1296,
    "start_time": "2023-05-27T12:55:26.252Z"
   },
   {
    "duration": 561,
    "start_time": "2023-05-27T12:55:27.575Z"
   },
   {
    "duration": 234221,
    "start_time": "2023-05-27T12:55:28.177Z"
   },
   {
    "duration": 137913,
    "start_time": "2023-05-27T12:59:22.400Z"
   },
   {
    "duration": 163189,
    "start_time": "2023-05-27T13:01:40.315Z"
   },
   {
    "duration": 77635,
    "start_time": "2023-05-27T13:04:23.506Z"
   },
   {
    "duration": 8,
    "start_time": "2023-05-27T13:05:41.143Z"
   },
   {
    "duration": 91,
    "start_time": "2023-05-27T13:05:41.154Z"
   },
   {
    "duration": 441685,
    "start_time": "2023-05-27T13:07:12.719Z"
   },
   {
    "duration": 266887,
    "start_time": "2023-05-27T13:14:34.410Z"
   },
   {
    "duration": 13,
    "start_time": "2023-05-27T13:19:01.299Z"
   },
   {
    "duration": 139,
    "start_time": "2023-05-27T13:19:01.315Z"
   },
   {
    "duration": 32215,
    "start_time": "2023-05-27T13:19:39.636Z"
   },
   {
    "duration": 0,
    "start_time": "2023-05-27T13:20:11.852Z"
   },
   {
    "duration": 1654,
    "start_time": "2023-05-27T13:20:32.469Z"
   },
   {
    "duration": 977,
    "start_time": "2023-05-27T13:20:34.125Z"
   },
   {
    "duration": 180,
    "start_time": "2023-05-27T13:20:35.104Z"
   },
   {
    "duration": 44,
    "start_time": "2023-05-27T13:20:35.286Z"
   },
   {
    "duration": 559,
    "start_time": "2023-05-27T13:20:35.332Z"
   },
   {
    "duration": 1207,
    "start_time": "2023-05-27T13:20:35.892Z"
   },
   {
    "duration": 173,
    "start_time": "2023-05-27T13:20:37.101Z"
   },
   {
    "duration": 111,
    "start_time": "2023-05-27T13:20:37.282Z"
   },
   {
    "duration": 228,
    "start_time": "2023-05-27T13:20:37.404Z"
   },
   {
    "duration": 47,
    "start_time": "2023-05-27T13:20:37.634Z"
   },
   {
    "duration": 176,
    "start_time": "2023-05-27T13:20:37.686Z"
   },
   {
    "duration": 100,
    "start_time": "2023-05-27T13:20:37.864Z"
   },
   {
    "duration": 160,
    "start_time": "2023-05-27T13:20:37.966Z"
   },
   {
    "duration": 207,
    "start_time": "2023-05-27T13:20:38.130Z"
   },
   {
    "duration": 12,
    "start_time": "2023-05-27T13:20:38.340Z"
   },
   {
    "duration": 213,
    "start_time": "2023-05-27T13:20:38.354Z"
   },
   {
    "duration": 44,
    "start_time": "2023-05-27T13:20:38.577Z"
   },
   {
    "duration": 136,
    "start_time": "2023-05-27T13:20:38.623Z"
   },
   {
    "duration": 46,
    "start_time": "2023-05-27T13:20:38.761Z"
   },
   {
    "duration": 140,
    "start_time": "2023-05-27T13:20:38.812Z"
   },
   {
    "duration": 29,
    "start_time": "2023-05-27T13:20:38.953Z"
   },
   {
    "duration": 12,
    "start_time": "2023-05-27T13:20:38.987Z"
   },
   {
    "duration": 669,
    "start_time": "2023-05-27T13:20:39.003Z"
   },
   {
    "duration": 85,
    "start_time": "2023-05-27T13:20:39.673Z"
   },
   {
    "duration": 38,
    "start_time": "2023-05-27T13:20:39.759Z"
   },
   {
    "duration": 62,
    "start_time": "2023-05-27T13:20:39.798Z"
   },
   {
    "duration": 846,
    "start_time": "2023-05-27T13:20:39.875Z"
   },
   {
    "duration": 69,
    "start_time": "2023-05-27T13:20:40.723Z"
   },
   {
    "duration": 1394,
    "start_time": "2023-05-27T13:20:40.794Z"
   },
   {
    "duration": 611,
    "start_time": "2023-05-27T13:20:42.193Z"
   },
   {
    "duration": 464693,
    "start_time": "2023-05-27T13:20:42.808Z"
   },
   {
    "duration": 99207,
    "start_time": "2023-05-27T13:28:27.504Z"
   },
   {
    "duration": 0,
    "start_time": "2023-05-27T13:30:06.714Z"
   },
   {
    "duration": 0,
    "start_time": "2023-05-27T13:30:06.715Z"
   },
   {
    "duration": 0,
    "start_time": "2023-05-27T13:30:06.716Z"
   },
   {
    "duration": 0,
    "start_time": "2023-05-27T13:30:06.718Z"
   },
   {
    "duration": 2085,
    "start_time": "2023-05-27T13:30:26.263Z"
   },
   {
    "duration": 1093,
    "start_time": "2023-05-27T13:30:28.352Z"
   },
   {
    "duration": 226,
    "start_time": "2023-05-27T13:30:29.447Z"
   },
   {
    "duration": 59,
    "start_time": "2023-05-27T13:30:29.679Z"
   },
   {
    "duration": 698,
    "start_time": "2023-05-27T13:30:29.741Z"
   },
   {
    "duration": 1430,
    "start_time": "2023-05-27T13:30:30.441Z"
   },
   {
    "duration": 273,
    "start_time": "2023-05-27T13:30:31.873Z"
   },
   {
    "duration": 170,
    "start_time": "2023-05-27T13:30:32.148Z"
   },
   {
    "duration": 271,
    "start_time": "2023-05-27T13:30:32.320Z"
   },
   {
    "duration": 72,
    "start_time": "2023-05-27T13:30:32.593Z"
   },
   {
    "duration": 266,
    "start_time": "2023-05-27T13:30:32.667Z"
   },
   {
    "duration": 126,
    "start_time": "2023-05-27T13:30:32.948Z"
   },
   {
    "duration": 179,
    "start_time": "2023-05-27T13:30:33.078Z"
   },
   {
    "duration": 258,
    "start_time": "2023-05-27T13:30:33.260Z"
   },
   {
    "duration": 13,
    "start_time": "2023-05-27T13:30:33.520Z"
   },
   {
    "duration": 227,
    "start_time": "2023-05-27T13:30:33.538Z"
   },
   {
    "duration": 97,
    "start_time": "2023-05-27T13:30:33.766Z"
   },
   {
    "duration": 209,
    "start_time": "2023-05-27T13:30:33.865Z"
   },
   {
    "duration": 37,
    "start_time": "2023-05-27T13:30:34.080Z"
   },
   {
    "duration": 204,
    "start_time": "2023-05-27T13:30:34.120Z"
   },
   {
    "duration": 31,
    "start_time": "2023-05-27T13:30:34.327Z"
   },
   {
    "duration": 6,
    "start_time": "2023-05-27T13:30:34.362Z"
   },
   {
    "duration": 789,
    "start_time": "2023-05-27T13:30:34.369Z"
   },
   {
    "duration": 123,
    "start_time": "2023-05-27T13:30:35.160Z"
   },
   {
    "duration": 23,
    "start_time": "2023-05-27T13:30:35.292Z"
   },
   {
    "duration": 70,
    "start_time": "2023-05-27T13:30:35.321Z"
   },
   {
    "duration": 963,
    "start_time": "2023-05-27T13:30:35.395Z"
   },
   {
    "duration": 80,
    "start_time": "2023-05-27T13:30:36.360Z"
   },
   {
    "duration": 1300,
    "start_time": "2023-05-27T13:30:36.442Z"
   },
   {
    "duration": 608,
    "start_time": "2023-05-27T13:30:37.744Z"
   },
   {
    "duration": 363646,
    "start_time": "2023-05-27T13:30:38.354Z"
   },
   {
    "duration": 0,
    "start_time": "2023-05-27T13:36:42.002Z"
   },
   {
    "duration": 0,
    "start_time": "2023-05-27T13:36:42.003Z"
   },
   {
    "duration": 0,
    "start_time": "2023-05-27T13:36:42.004Z"
   },
   {
    "duration": 0,
    "start_time": "2023-05-27T13:36:42.006Z"
   },
   {
    "duration": 0,
    "start_time": "2023-05-27T13:36:42.007Z"
   },
   {
    "duration": 1589,
    "start_time": "2023-05-27T13:37:11.265Z"
   },
   {
    "duration": 951,
    "start_time": "2023-05-27T13:37:12.856Z"
   },
   {
    "duration": 203,
    "start_time": "2023-05-27T13:37:13.811Z"
   },
   {
    "duration": 46,
    "start_time": "2023-05-27T13:37:14.019Z"
   },
   {
    "duration": 561,
    "start_time": "2023-05-27T13:37:14.077Z"
   },
   {
    "duration": 387,
    "start_time": "2023-05-27T13:37:14.640Z"
   },
   {
    "duration": 0,
    "start_time": "2023-05-27T13:37:15.030Z"
   },
   {
    "duration": 0,
    "start_time": "2023-05-27T13:37:15.031Z"
   },
   {
    "duration": 0,
    "start_time": "2023-05-27T13:37:15.032Z"
   },
   {
    "duration": 0,
    "start_time": "2023-05-27T13:37:15.034Z"
   },
   {
    "duration": 0,
    "start_time": "2023-05-27T13:37:15.035Z"
   },
   {
    "duration": 0,
    "start_time": "2023-05-27T13:37:15.036Z"
   },
   {
    "duration": 0,
    "start_time": "2023-05-27T13:37:15.037Z"
   },
   {
    "duration": 0,
    "start_time": "2023-05-27T13:37:15.039Z"
   },
   {
    "duration": 0,
    "start_time": "2023-05-27T13:37:15.040Z"
   },
   {
    "duration": 0,
    "start_time": "2023-05-27T13:37:15.041Z"
   },
   {
    "duration": 0,
    "start_time": "2023-05-27T13:37:15.042Z"
   },
   {
    "duration": 0,
    "start_time": "2023-05-27T13:37:15.044Z"
   },
   {
    "duration": 0,
    "start_time": "2023-05-27T13:37:15.045Z"
   },
   {
    "duration": 0,
    "start_time": "2023-05-27T13:37:15.077Z"
   },
   {
    "duration": 0,
    "start_time": "2023-05-27T13:37:15.077Z"
   },
   {
    "duration": 0,
    "start_time": "2023-05-27T13:37:15.078Z"
   },
   {
    "duration": 0,
    "start_time": "2023-05-27T13:37:15.079Z"
   },
   {
    "duration": 0,
    "start_time": "2023-05-27T13:37:15.080Z"
   },
   {
    "duration": 0,
    "start_time": "2023-05-27T13:37:15.081Z"
   },
   {
    "duration": 0,
    "start_time": "2023-05-27T13:37:15.082Z"
   },
   {
    "duration": 0,
    "start_time": "2023-05-27T13:37:15.082Z"
   },
   {
    "duration": 0,
    "start_time": "2023-05-27T13:37:15.083Z"
   },
   {
    "duration": 0,
    "start_time": "2023-05-27T13:37:15.084Z"
   },
   {
    "duration": 0,
    "start_time": "2023-05-27T13:37:15.085Z"
   },
   {
    "duration": 0,
    "start_time": "2023-05-27T13:37:15.086Z"
   },
   {
    "duration": 0,
    "start_time": "2023-05-27T13:37:15.087Z"
   },
   {
    "duration": 1460,
    "start_time": "2023-05-27T13:37:19.293Z"
   },
   {
    "duration": 963,
    "start_time": "2023-05-27T13:37:20.755Z"
   },
   {
    "duration": 173,
    "start_time": "2023-05-27T13:37:21.721Z"
   },
   {
    "duration": 37,
    "start_time": "2023-05-27T13:37:21.896Z"
   },
   {
    "duration": 521,
    "start_time": "2023-05-27T13:37:21.934Z"
   },
   {
    "duration": 1077,
    "start_time": "2023-05-27T13:37:22.457Z"
   },
   {
    "duration": 166,
    "start_time": "2023-05-27T13:37:23.535Z"
   },
   {
    "duration": 121,
    "start_time": "2023-05-27T13:37:23.702Z"
   },
   {
    "duration": 266,
    "start_time": "2023-05-27T13:37:23.825Z"
   },
   {
    "duration": 60,
    "start_time": "2023-05-27T13:37:24.095Z"
   },
   {
    "duration": 200,
    "start_time": "2023-05-27T13:37:24.157Z"
   },
   {
    "duration": 118,
    "start_time": "2023-05-27T13:37:24.359Z"
   },
   {
    "duration": 154,
    "start_time": "2023-05-27T13:37:24.482Z"
   },
   {
    "duration": 202,
    "start_time": "2023-05-27T13:37:24.638Z"
   },
   {
    "duration": 9,
    "start_time": "2023-05-27T13:37:24.842Z"
   },
   {
    "duration": 208,
    "start_time": "2023-05-27T13:37:24.853Z"
   },
   {
    "duration": 52,
    "start_time": "2023-05-27T13:37:25.063Z"
   },
   {
    "duration": 150,
    "start_time": "2023-05-27T13:37:25.117Z"
   },
   {
    "duration": 32,
    "start_time": "2023-05-27T13:37:25.274Z"
   },
   {
    "duration": 165,
    "start_time": "2023-05-27T13:37:25.318Z"
   },
   {
    "duration": 26,
    "start_time": "2023-05-27T13:37:25.484Z"
   },
   {
    "duration": 8,
    "start_time": "2023-05-27T13:37:25.512Z"
   },
   {
    "duration": 672,
    "start_time": "2023-05-27T13:37:25.522Z"
   },
   {
    "duration": 93,
    "start_time": "2023-05-27T13:37:26.197Z"
   },
   {
    "duration": 20,
    "start_time": "2023-05-27T13:37:26.291Z"
   },
   {
    "duration": 70,
    "start_time": "2023-05-27T13:37:26.313Z"
   },
   {
    "duration": 777,
    "start_time": "2023-05-27T13:37:26.385Z"
   },
   {
    "duration": 61,
    "start_time": "2023-05-27T13:37:27.174Z"
   },
   {
    "duration": 1394,
    "start_time": "2023-05-27T13:37:27.237Z"
   },
   {
    "duration": 565,
    "start_time": "2023-05-27T13:37:28.633Z"
   },
   {
    "duration": 208887,
    "start_time": "2023-05-27T13:37:29.201Z"
   },
   {
    "duration": 120298,
    "start_time": "2023-05-27T13:40:58.090Z"
   },
   {
    "duration": 123763,
    "start_time": "2023-05-27T13:42:58.390Z"
   },
   {
    "duration": 54962,
    "start_time": "2023-05-27T13:45:02.155Z"
   },
   {
    "duration": 8,
    "start_time": "2023-05-27T13:45:57.119Z"
   },
   {
    "duration": 67,
    "start_time": "2023-05-27T13:45:57.128Z"
   },
   {
    "duration": 112,
    "start_time": "2023-05-27T13:52:39.016Z"
   },
   {
    "duration": 3758,
    "start_time": "2023-05-27T15:36:56.835Z"
   },
   {
    "duration": 3277,
    "start_time": "2023-05-27T15:37:00.596Z"
   },
   {
    "duration": 130,
    "start_time": "2023-05-27T15:37:03.875Z"
   },
   {
    "duration": 24,
    "start_time": "2023-05-27T15:37:04.007Z"
   },
   {
    "duration": 470,
    "start_time": "2023-05-27T15:37:04.033Z"
   },
   {
    "duration": 1092,
    "start_time": "2023-05-27T15:37:04.504Z"
   },
   {
    "duration": 143,
    "start_time": "2023-05-27T15:37:05.598Z"
   },
   {
    "duration": 86,
    "start_time": "2023-05-27T15:37:05.743Z"
   },
   {
    "duration": 160,
    "start_time": "2023-05-27T15:37:05.831Z"
   },
   {
    "duration": 27,
    "start_time": "2023-05-27T15:37:05.993Z"
   },
   {
    "duration": 126,
    "start_time": "2023-05-27T15:37:06.022Z"
   },
   {
    "duration": 66,
    "start_time": "2023-05-27T15:37:06.150Z"
   },
   {
    "duration": 151,
    "start_time": "2023-05-27T15:37:06.217Z"
   },
   {
    "duration": 122,
    "start_time": "2023-05-27T15:37:06.373Z"
   },
   {
    "duration": 7,
    "start_time": "2023-05-27T15:37:06.496Z"
   },
   {
    "duration": 168,
    "start_time": "2023-05-27T15:37:06.504Z"
   },
   {
    "duration": 77,
    "start_time": "2023-05-27T15:37:06.674Z"
   },
   {
    "duration": 123,
    "start_time": "2023-05-27T15:37:06.753Z"
   },
   {
    "duration": 23,
    "start_time": "2023-05-27T15:37:06.878Z"
   },
   {
    "duration": 140,
    "start_time": "2023-05-27T15:37:06.903Z"
   },
   {
    "duration": 22,
    "start_time": "2023-05-27T15:37:07.044Z"
   },
   {
    "duration": 5,
    "start_time": "2023-05-27T15:37:07.077Z"
   },
   {
    "duration": 679,
    "start_time": "2023-05-27T15:37:07.084Z"
   },
   {
    "duration": 65,
    "start_time": "2023-05-27T15:37:07.765Z"
   },
   {
    "duration": 13,
    "start_time": "2023-05-27T15:37:07.831Z"
   },
   {
    "duration": 67,
    "start_time": "2023-05-27T15:37:07.845Z"
   },
   {
    "duration": 637,
    "start_time": "2023-05-27T15:37:07.913Z"
   },
   {
    "duration": 80,
    "start_time": "2023-05-27T15:37:08.552Z"
   },
   {
    "duration": 1258,
    "start_time": "2023-05-27T15:37:08.634Z"
   },
   {
    "duration": 517,
    "start_time": "2023-05-27T15:37:09.894Z"
   },
   {
    "duration": 199401,
    "start_time": "2023-05-27T15:37:10.479Z"
   },
   {
    "duration": 118518,
    "start_time": "2023-05-27T15:40:29.882Z"
   },
   {
    "duration": 126396,
    "start_time": "2023-05-27T15:42:28.402Z"
   },
   {
    "duration": 54928,
    "start_time": "2023-05-27T15:44:34.800Z"
   },
   {
    "duration": 9,
    "start_time": "2023-05-27T15:45:29.730Z"
   },
   {
    "duration": 71,
    "start_time": "2023-05-27T15:45:29.741Z"
   },
   {
    "duration": 1882,
    "start_time": "2023-05-27T16:42:09.735Z"
   },
   {
    "duration": 11,
    "start_time": "2023-05-27T16:44:01.465Z"
   },
   {
    "duration": 8,
    "start_time": "2023-05-27T16:48:46.243Z"
   },
   {
    "duration": 9,
    "start_time": "2023-05-27T16:49:02.731Z"
   },
   {
    "duration": 2854,
    "start_time": "2023-05-27T16:49:37.704Z"
   },
   {
    "duration": 2072,
    "start_time": "2023-05-27T16:49:55.870Z"
   },
   {
    "duration": 1726,
    "start_time": "2023-05-27T16:49:59.702Z"
   },
   {
    "duration": 1172,
    "start_time": "2023-05-27T16:50:06.041Z"
   },
   {
    "duration": 141,
    "start_time": "2023-05-27T16:50:07.215Z"
   },
   {
    "duration": 30,
    "start_time": "2023-05-27T16:50:07.470Z"
   },
   {
    "duration": 454,
    "start_time": "2023-05-27T16:50:07.530Z"
   },
   {
    "duration": 907,
    "start_time": "2023-05-27T16:50:07.995Z"
   },
   {
    "duration": 136,
    "start_time": "2023-05-27T16:50:08.904Z"
   },
   {
    "duration": 88,
    "start_time": "2023-05-27T16:50:09.136Z"
   },
   {
    "duration": 156,
    "start_time": "2023-05-27T16:50:09.396Z"
   },
   {
    "duration": 28,
    "start_time": "2023-05-27T16:50:09.703Z"
   },
   {
    "duration": 116,
    "start_time": "2023-05-27T16:50:11.300Z"
   },
   {
    "duration": 64,
    "start_time": "2023-05-27T16:50:11.439Z"
   },
   {
    "duration": 95,
    "start_time": "2023-05-27T16:50:15.462Z"
   },
   {
    "duration": 116,
    "start_time": "2023-05-27T16:50:15.904Z"
   },
   {
    "duration": 7,
    "start_time": "2023-05-27T16:50:18.856Z"
   },
   {
    "duration": 143,
    "start_time": "2023-05-27T16:50:20.500Z"
   },
   {
    "duration": 33,
    "start_time": "2023-05-27T16:50:22.432Z"
   },
   {
    "duration": 108,
    "start_time": "2023-05-27T16:50:23.836Z"
   },
   {
    "duration": 20,
    "start_time": "2023-05-27T16:50:27.557Z"
   },
   {
    "duration": 115,
    "start_time": "2023-05-27T16:50:31.301Z"
   },
   {
    "duration": 21,
    "start_time": "2023-05-27T16:50:32.700Z"
   },
   {
    "duration": 5,
    "start_time": "2023-05-27T16:50:34.796Z"
   },
   {
    "duration": 533,
    "start_time": "2023-05-27T16:50:36.199Z"
   },
   {
    "duration": 69,
    "start_time": "2023-05-27T16:50:38.838Z"
   },
   {
    "duration": 11,
    "start_time": "2023-05-27T16:50:44.945Z"
   },
   {
    "duration": 46,
    "start_time": "2023-05-27T16:50:45.565Z"
   },
   {
    "duration": 61,
    "start_time": "2023-05-27T16:54:15.046Z"
   },
   {
    "duration": 1063,
    "start_time": "2023-05-27T17:03:45.919Z"
   },
   {
    "duration": 126,
    "start_time": "2023-05-27T17:04:00.297Z"
   },
   {
    "duration": 4,
    "start_time": "2023-05-27T17:05:48.759Z"
   },
   {
    "duration": 1924,
    "start_time": "2023-05-27T17:06:50.013Z"
   },
   {
    "duration": 1364,
    "start_time": "2023-05-27T17:06:51.939Z"
   },
   {
    "duration": 744,
    "start_time": "2023-05-27T17:06:53.304Z"
   },
   {
    "duration": 122,
    "start_time": "2023-05-27T17:06:54.050Z"
   },
   {
    "duration": 31,
    "start_time": "2023-05-27T17:06:54.173Z"
   },
   {
    "duration": 420,
    "start_time": "2023-05-27T17:06:54.206Z"
   },
   {
    "duration": 898,
    "start_time": "2023-05-27T17:06:54.627Z"
   },
   {
    "duration": 132,
    "start_time": "2023-05-27T17:06:55.526Z"
   },
   {
    "duration": 87,
    "start_time": "2023-05-27T17:06:55.659Z"
   },
   {
    "duration": 150,
    "start_time": "2023-05-27T17:06:55.749Z"
   },
   {
    "duration": 26,
    "start_time": "2023-05-27T17:06:55.900Z"
   },
   {
    "duration": 130,
    "start_time": "2023-05-27T17:06:55.928Z"
   },
   {
    "duration": 75,
    "start_time": "2023-05-27T17:06:56.060Z"
   },
   {
    "duration": 112,
    "start_time": "2023-05-27T17:06:56.137Z"
   },
   {
    "duration": 157,
    "start_time": "2023-05-27T17:06:56.251Z"
   },
   {
    "duration": 10,
    "start_time": "2023-05-27T17:06:56.410Z"
   },
   {
    "duration": 155,
    "start_time": "2023-05-27T17:06:56.421Z"
   },
   {
    "duration": 72,
    "start_time": "2023-05-27T17:06:56.578Z"
   },
   {
    "duration": 117,
    "start_time": "2023-05-27T17:06:56.652Z"
   },
   {
    "duration": 31,
    "start_time": "2023-05-27T17:06:56.771Z"
   },
   {
    "duration": 126,
    "start_time": "2023-05-27T17:06:56.804Z"
   },
   {
    "duration": 19,
    "start_time": "2023-05-27T17:06:56.931Z"
   },
   {
    "duration": 4,
    "start_time": "2023-05-27T17:06:56.952Z"
   },
   {
    "duration": 565,
    "start_time": "2023-05-27T17:06:56.957Z"
   },
   {
    "duration": 72,
    "start_time": "2023-05-27T17:06:57.524Z"
   },
   {
    "duration": 13,
    "start_time": "2023-05-27T17:06:57.597Z"
   },
   {
    "duration": 36,
    "start_time": "2023-05-27T17:06:57.611Z"
   },
   {
    "duration": 68,
    "start_time": "2023-05-27T17:06:57.651Z"
   },
   {
    "duration": 944,
    "start_time": "2023-05-27T17:06:57.720Z"
   },
   {
    "duration": 230,
    "start_time": "2023-05-27T17:06:58.665Z"
   },
   {
    "duration": 0,
    "start_time": "2023-05-27T17:06:58.896Z"
   },
   {
    "duration": 0,
    "start_time": "2023-05-27T17:06:58.897Z"
   },
   {
    "duration": 0,
    "start_time": "2023-05-27T17:06:58.898Z"
   },
   {
    "duration": 0,
    "start_time": "2023-05-27T17:06:58.899Z"
   },
   {
    "duration": 0,
    "start_time": "2023-05-27T17:06:58.900Z"
   },
   {
    "duration": 0,
    "start_time": "2023-05-27T17:06:58.901Z"
   },
   {
    "duration": 0,
    "start_time": "2023-05-27T17:06:58.902Z"
   },
   {
    "duration": 0,
    "start_time": "2023-05-27T17:06:58.903Z"
   },
   {
    "duration": 2026,
    "start_time": "2023-05-27T17:07:32.006Z"
   },
   {
    "duration": 1346,
    "start_time": "2023-05-27T17:07:34.034Z"
   },
   {
    "duration": 712,
    "start_time": "2023-05-27T17:07:35.382Z"
   },
   {
    "duration": 159,
    "start_time": "2023-05-27T17:07:36.096Z"
   },
   {
    "duration": 36,
    "start_time": "2023-05-27T17:07:36.257Z"
   },
   {
    "duration": 395,
    "start_time": "2023-05-27T17:07:36.295Z"
   },
   {
    "duration": 833,
    "start_time": "2023-05-27T17:07:36.692Z"
   },
   {
    "duration": 132,
    "start_time": "2023-05-27T17:07:37.526Z"
   },
   {
    "duration": 75,
    "start_time": "2023-05-27T17:07:37.660Z"
   },
   {
    "duration": 147,
    "start_time": "2023-05-27T17:07:37.737Z"
   },
   {
    "duration": 31,
    "start_time": "2023-05-27T17:07:37.886Z"
   },
   {
    "duration": 127,
    "start_time": "2023-05-27T17:07:37.918Z"
   },
   {
    "duration": 70,
    "start_time": "2023-05-27T17:07:38.046Z"
   },
   {
    "duration": 117,
    "start_time": "2023-05-27T17:07:38.119Z"
   },
   {
    "duration": 122,
    "start_time": "2023-05-27T17:07:38.238Z"
   },
   {
    "duration": 8,
    "start_time": "2023-05-27T17:07:38.361Z"
   },
   {
    "duration": 162,
    "start_time": "2023-05-27T17:07:38.371Z"
   },
   {
    "duration": 67,
    "start_time": "2023-05-27T17:07:38.535Z"
   },
   {
    "duration": 106,
    "start_time": "2023-05-27T17:07:38.604Z"
   },
   {
    "duration": 21,
    "start_time": "2023-05-27T17:07:38.712Z"
   },
   {
    "duration": 120,
    "start_time": "2023-05-27T17:07:38.735Z"
   },
   {
    "duration": 39,
    "start_time": "2023-05-27T17:07:38.856Z"
   },
   {
    "duration": 6,
    "start_time": "2023-05-27T17:07:38.897Z"
   },
   {
    "duration": 525,
    "start_time": "2023-05-27T17:07:38.904Z"
   },
   {
    "duration": 66,
    "start_time": "2023-05-27T17:07:39.430Z"
   },
   {
    "duration": 14,
    "start_time": "2023-05-27T17:07:39.498Z"
   },
   {
    "duration": 33,
    "start_time": "2023-05-27T17:07:39.514Z"
   },
   {
    "duration": 62,
    "start_time": "2023-05-27T17:07:39.548Z"
   },
   {
    "duration": 934,
    "start_time": "2023-05-27T17:07:39.611Z"
   },
   {
    "duration": 124,
    "start_time": "2023-05-27T17:07:40.546Z"
   },
   {
    "duration": 0,
    "start_time": "2023-05-27T17:07:40.672Z"
   },
   {
    "duration": 0,
    "start_time": "2023-05-27T17:07:40.673Z"
   },
   {
    "duration": 0,
    "start_time": "2023-05-27T17:07:40.674Z"
   },
   {
    "duration": 0,
    "start_time": "2023-05-27T17:07:40.675Z"
   },
   {
    "duration": 0,
    "start_time": "2023-05-27T17:07:40.676Z"
   },
   {
    "duration": 0,
    "start_time": "2023-05-27T17:07:40.676Z"
   },
   {
    "duration": 0,
    "start_time": "2023-05-27T17:07:40.684Z"
   },
   {
    "duration": 0,
    "start_time": "2023-05-27T17:07:40.684Z"
   },
   {
    "duration": 10,
    "start_time": "2023-05-27T17:10:25.297Z"
   },
   {
    "duration": 8,
    "start_time": "2023-05-27T17:10:32.517Z"
   },
   {
    "duration": 3,
    "start_time": "2023-05-27T17:11:11.828Z"
   },
   {
    "duration": 1920,
    "start_time": "2023-05-27T17:12:08.796Z"
   },
   {
    "duration": 1343,
    "start_time": "2023-05-27T17:12:10.718Z"
   },
   {
    "duration": 737,
    "start_time": "2023-05-27T17:12:12.063Z"
   },
   {
    "duration": 116,
    "start_time": "2023-05-27T17:12:12.808Z"
   },
   {
    "duration": 21,
    "start_time": "2023-05-27T17:12:12.926Z"
   },
   {
    "duration": 370,
    "start_time": "2023-05-27T17:12:12.948Z"
   },
   {
    "duration": 806,
    "start_time": "2023-05-27T17:12:13.319Z"
   },
   {
    "duration": 143,
    "start_time": "2023-05-27T17:12:14.126Z"
   },
   {
    "duration": 78,
    "start_time": "2023-05-27T17:12:14.271Z"
   },
   {
    "duration": 158,
    "start_time": "2023-05-27T17:12:14.351Z"
   },
   {
    "duration": 28,
    "start_time": "2023-05-27T17:12:14.511Z"
   },
   {
    "duration": 124,
    "start_time": "2023-05-27T17:12:14.540Z"
   },
   {
    "duration": 68,
    "start_time": "2023-05-27T17:12:14.666Z"
   },
   {
    "duration": 94,
    "start_time": "2023-05-27T17:12:14.736Z"
   },
   {
    "duration": 125,
    "start_time": "2023-05-27T17:12:14.831Z"
   },
   {
    "duration": 7,
    "start_time": "2023-05-27T17:12:14.958Z"
   },
   {
    "duration": 155,
    "start_time": "2023-05-27T17:12:14.967Z"
   },
   {
    "duration": 71,
    "start_time": "2023-05-27T17:12:15.124Z"
   },
   {
    "duration": 104,
    "start_time": "2023-05-27T17:12:15.196Z"
   },
   {
    "duration": 22,
    "start_time": "2023-05-27T17:12:15.302Z"
   },
   {
    "duration": 127,
    "start_time": "2023-05-27T17:12:15.326Z"
   },
   {
    "duration": 21,
    "start_time": "2023-05-27T17:12:15.455Z"
   },
   {
    "duration": 17,
    "start_time": "2023-05-27T17:12:15.477Z"
   },
   {
    "duration": 520,
    "start_time": "2023-05-27T17:12:15.496Z"
   },
   {
    "duration": 56,
    "start_time": "2023-05-27T17:12:16.017Z"
   },
   {
    "duration": 17,
    "start_time": "2023-05-27T17:12:16.084Z"
   },
   {
    "duration": 35,
    "start_time": "2023-05-27T17:12:16.102Z"
   },
   {
    "duration": 60,
    "start_time": "2023-05-27T17:12:16.140Z"
   },
   {
    "duration": 1000,
    "start_time": "2023-05-27T17:12:16.202Z"
   },
   {
    "duration": 1959,
    "start_time": "2023-05-27T17:12:40.535Z"
   },
   {
    "duration": 1322,
    "start_time": "2023-05-27T17:12:42.496Z"
   },
   {
    "duration": 701,
    "start_time": "2023-05-27T17:12:43.820Z"
   },
   {
    "duration": 129,
    "start_time": "2023-05-27T17:12:44.522Z"
   },
   {
    "duration": 20,
    "start_time": "2023-05-27T17:12:44.652Z"
   },
   {
    "duration": 396,
    "start_time": "2023-05-27T17:12:44.674Z"
   },
   {
    "duration": 832,
    "start_time": "2023-05-27T17:12:45.072Z"
   },
   {
    "duration": 139,
    "start_time": "2023-05-27T17:12:45.906Z"
   },
   {
    "duration": 74,
    "start_time": "2023-05-27T17:12:46.047Z"
   },
   {
    "duration": 140,
    "start_time": "2023-05-27T17:12:46.122Z"
   },
   {
    "duration": 30,
    "start_time": "2023-05-27T17:12:46.263Z"
   },
   {
    "duration": 143,
    "start_time": "2023-05-27T17:12:46.294Z"
   },
   {
    "duration": 65,
    "start_time": "2023-05-27T17:12:46.438Z"
   },
   {
    "duration": 99,
    "start_time": "2023-05-27T17:12:46.505Z"
   },
   {
    "duration": 128,
    "start_time": "2023-05-27T17:12:46.605Z"
   },
   {
    "duration": 12,
    "start_time": "2023-05-27T17:12:46.735Z"
   },
   {
    "duration": 204,
    "start_time": "2023-05-27T17:12:46.751Z"
   },
   {
    "duration": 71,
    "start_time": "2023-05-27T17:12:46.956Z"
   },
   {
    "duration": 118,
    "start_time": "2023-05-27T17:12:47.029Z"
   },
   {
    "duration": 23,
    "start_time": "2023-05-27T17:12:47.148Z"
   },
   {
    "duration": 122,
    "start_time": "2023-05-27T17:12:47.172Z"
   },
   {
    "duration": 19,
    "start_time": "2023-05-27T17:12:47.296Z"
   },
   {
    "duration": 4,
    "start_time": "2023-05-27T17:12:47.316Z"
   },
   {
    "duration": 517,
    "start_time": "2023-05-27T17:12:47.322Z"
   },
   {
    "duration": 68,
    "start_time": "2023-05-27T17:12:47.840Z"
   },
   {
    "duration": 12,
    "start_time": "2023-05-27T17:12:47.910Z"
   },
   {
    "duration": 43,
    "start_time": "2023-05-27T17:12:47.924Z"
   },
   {
    "duration": 66,
    "start_time": "2023-05-27T17:12:47.970Z"
   },
   {
    "duration": 938,
    "start_time": "2023-05-27T17:12:48.037Z"
   },
   {
    "duration": 127,
    "start_time": "2023-05-27T17:12:55.223Z"
   },
   {
    "duration": 1040,
    "start_time": "2023-05-27T17:15:34.930Z"
   },
   {
    "duration": 16,
    "start_time": "2023-05-27T17:16:49.140Z"
   },
   {
    "duration": 1002,
    "start_time": "2023-05-27T17:18:13.100Z"
   },
   {
    "duration": 14,
    "start_time": "2023-05-27T17:18:18.726Z"
   },
   {
    "duration": 983,
    "start_time": "2023-05-27T17:18:48.300Z"
   },
   {
    "duration": 13,
    "start_time": "2023-05-27T17:18:52.600Z"
   },
   {
    "duration": 1494,
    "start_time": "2023-05-27T17:21:38.600Z"
   },
   {
    "duration": 16,
    "start_time": "2023-05-27T17:21:43.154Z"
   },
   {
    "duration": 2042,
    "start_time": "2023-05-27T17:24:36.137Z"
   },
   {
    "duration": 1444,
    "start_time": "2023-05-27T17:24:38.182Z"
   },
   {
    "duration": 742,
    "start_time": "2023-05-27T17:24:39.627Z"
   },
   {
    "duration": 144,
    "start_time": "2023-05-27T17:24:40.370Z"
   },
   {
    "duration": 21,
    "start_time": "2023-05-27T17:24:40.516Z"
   },
   {
    "duration": 390,
    "start_time": "2023-05-27T17:24:40.538Z"
   },
   {
    "duration": 833,
    "start_time": "2023-05-27T17:24:40.930Z"
   },
   {
    "duration": 138,
    "start_time": "2023-05-27T17:24:41.765Z"
   },
   {
    "duration": 69,
    "start_time": "2023-05-27T17:24:41.905Z"
   },
   {
    "duration": 157,
    "start_time": "2023-05-27T17:24:41.975Z"
   },
   {
    "duration": 27,
    "start_time": "2023-05-27T17:24:42.133Z"
   },
   {
    "duration": 121,
    "start_time": "2023-05-27T17:24:42.162Z"
   },
   {
    "duration": 58,
    "start_time": "2023-05-27T17:24:42.299Z"
   },
   {
    "duration": 101,
    "start_time": "2023-05-27T17:24:42.359Z"
   },
   {
    "duration": 148,
    "start_time": "2023-05-27T17:24:42.462Z"
   },
   {
    "duration": 8,
    "start_time": "2023-05-27T17:24:42.611Z"
   },
   {
    "duration": 149,
    "start_time": "2023-05-27T17:24:42.620Z"
   },
   {
    "duration": 77,
    "start_time": "2023-05-27T17:24:42.771Z"
   },
   {
    "duration": 97,
    "start_time": "2023-05-27T17:24:42.850Z"
   },
   {
    "duration": 26,
    "start_time": "2023-05-27T17:24:42.949Z"
   },
   {
    "duration": 118,
    "start_time": "2023-05-27T17:24:42.984Z"
   },
   {
    "duration": 20,
    "start_time": "2023-05-27T17:24:43.104Z"
   },
   {
    "duration": 5,
    "start_time": "2023-05-27T17:24:43.126Z"
   },
   {
    "duration": 568,
    "start_time": "2023-05-27T17:24:43.132Z"
   },
   {
    "duration": 59,
    "start_time": "2023-05-27T17:24:43.701Z"
   },
   {
    "duration": 37,
    "start_time": "2023-05-27T17:24:43.761Z"
   },
   {
    "duration": 34,
    "start_time": "2023-05-27T17:24:43.799Z"
   },
   {
    "duration": 968,
    "start_time": "2023-05-27T17:24:43.835Z"
   },
   {
    "duration": 123,
    "start_time": "2023-05-27T17:24:48.116Z"
   },
   {
    "duration": 1932,
    "start_time": "2023-05-27T17:26:11.445Z"
   },
   {
    "duration": 1418,
    "start_time": "2023-05-27T17:26:13.378Z"
   },
   {
    "duration": 799,
    "start_time": "2023-05-27T17:26:14.799Z"
   },
   {
    "duration": 152,
    "start_time": "2023-05-27T17:26:15.600Z"
   },
   {
    "duration": 44,
    "start_time": "2023-05-27T17:26:15.754Z"
   },
   {
    "duration": 398,
    "start_time": "2023-05-27T17:26:15.801Z"
   },
   {
    "duration": 934,
    "start_time": "2023-05-27T17:26:16.201Z"
   },
   {
    "duration": 129,
    "start_time": "2023-05-27T17:26:17.136Z"
   },
   {
    "duration": 75,
    "start_time": "2023-05-27T17:26:17.266Z"
   },
   {
    "duration": 161,
    "start_time": "2023-05-27T17:26:17.343Z"
   },
   {
    "duration": 25,
    "start_time": "2023-05-27T17:26:17.506Z"
   },
   {
    "duration": 147,
    "start_time": "2023-05-27T17:26:17.533Z"
   },
   {
    "duration": 57,
    "start_time": "2023-05-27T17:26:17.682Z"
   },
   {
    "duration": 131,
    "start_time": "2023-05-27T17:26:17.742Z"
   },
   {
    "duration": 130,
    "start_time": "2023-05-27T17:26:17.875Z"
   },
   {
    "duration": 7,
    "start_time": "2023-05-27T17:26:18.007Z"
   },
   {
    "duration": 146,
    "start_time": "2023-05-27T17:26:18.015Z"
   },
   {
    "duration": 55,
    "start_time": "2023-05-27T17:26:18.162Z"
   },
   {
    "duration": 100,
    "start_time": "2023-05-27T17:26:18.218Z"
   },
   {
    "duration": 21,
    "start_time": "2023-05-27T17:26:18.320Z"
   },
   {
    "duration": 128,
    "start_time": "2023-05-27T17:26:18.343Z"
   },
   {
    "duration": 30,
    "start_time": "2023-05-27T17:26:18.472Z"
   },
   {
    "duration": 36,
    "start_time": "2023-05-27T17:26:18.504Z"
   },
   {
    "duration": 538,
    "start_time": "2023-05-27T17:26:18.541Z"
   },
   {
    "duration": 63,
    "start_time": "2023-05-27T17:26:19.081Z"
   },
   {
    "duration": 11,
    "start_time": "2023-05-27T17:26:19.145Z"
   },
   {
    "duration": 61,
    "start_time": "2023-05-27T17:26:19.157Z"
   },
   {
    "duration": 52,
    "start_time": "2023-05-27T17:26:28.046Z"
   },
   {
    "duration": 5,
    "start_time": "2023-05-27T17:26:47.207Z"
   },
   {
    "duration": 23,
    "start_time": "2023-05-27T17:26:51.453Z"
   },
   {
    "duration": 25,
    "start_time": "2023-05-27T17:27:20.133Z"
   },
   {
    "duration": 1962,
    "start_time": "2023-05-27T17:28:12.841Z"
   },
   {
    "duration": 1437,
    "start_time": "2023-05-27T17:28:14.805Z"
   },
   {
    "duration": 727,
    "start_time": "2023-05-27T17:28:16.244Z"
   },
   {
    "duration": 151,
    "start_time": "2023-05-27T17:28:16.973Z"
   },
   {
    "duration": 22,
    "start_time": "2023-05-27T17:28:17.126Z"
   },
   {
    "duration": 391,
    "start_time": "2023-05-27T17:28:17.149Z"
   },
   {
    "duration": 830,
    "start_time": "2023-05-27T17:28:17.541Z"
   },
   {
    "duration": 136,
    "start_time": "2023-05-27T17:28:18.373Z"
   },
   {
    "duration": 88,
    "start_time": "2023-05-27T17:28:18.510Z"
   },
   {
    "duration": 143,
    "start_time": "2023-05-27T17:28:18.603Z"
   },
   {
    "duration": 25,
    "start_time": "2023-05-27T17:28:18.748Z"
   },
   {
    "duration": 184,
    "start_time": "2023-05-27T17:28:18.774Z"
   },
   {
    "duration": 86,
    "start_time": "2023-05-27T17:28:18.960Z"
   },
   {
    "duration": 110,
    "start_time": "2023-05-27T17:28:19.049Z"
   },
   {
    "duration": 142,
    "start_time": "2023-05-27T17:28:19.161Z"
   },
   {
    "duration": 6,
    "start_time": "2023-05-27T17:28:19.305Z"
   },
   {
    "duration": 148,
    "start_time": "2023-05-27T17:28:19.312Z"
   },
   {
    "duration": 66,
    "start_time": "2023-05-27T17:28:19.461Z"
   },
   {
    "duration": 99,
    "start_time": "2023-05-27T17:28:19.529Z"
   },
   {
    "duration": 22,
    "start_time": "2023-05-27T17:28:19.629Z"
   },
   {
    "duration": 120,
    "start_time": "2023-05-27T17:28:19.652Z"
   },
   {
    "duration": 31,
    "start_time": "2023-05-27T17:28:19.774Z"
   },
   {
    "duration": 23,
    "start_time": "2023-05-27T17:28:19.806Z"
   },
   {
    "duration": 543,
    "start_time": "2023-05-27T17:28:19.830Z"
   },
   {
    "duration": 77,
    "start_time": "2023-05-27T17:28:20.374Z"
   },
   {
    "duration": 11,
    "start_time": "2023-05-27T17:28:20.453Z"
   },
   {
    "duration": 49,
    "start_time": "2023-05-27T17:28:20.465Z"
   },
   {
    "duration": 15,
    "start_time": "2023-05-27T17:28:20.515Z"
   },
   {
    "duration": 926,
    "start_time": "2023-05-27T17:28:20.531Z"
   },
   {
    "duration": 143,
    "start_time": "2023-05-27T17:28:35.100Z"
   },
   {
    "duration": 2089,
    "start_time": "2023-05-27T17:30:16.144Z"
   },
   {
    "duration": 1341,
    "start_time": "2023-05-27T17:30:18.235Z"
   },
   {
    "duration": 691,
    "start_time": "2023-05-27T17:30:19.578Z"
   },
   {
    "duration": 130,
    "start_time": "2023-05-27T17:30:20.271Z"
   },
   {
    "duration": 22,
    "start_time": "2023-05-27T17:30:20.402Z"
   },
   {
    "duration": 372,
    "start_time": "2023-05-27T17:30:20.426Z"
   },
   {
    "duration": 863,
    "start_time": "2023-05-27T17:30:20.800Z"
   },
   {
    "duration": 131,
    "start_time": "2023-05-27T17:30:21.664Z"
   },
   {
    "duration": 68,
    "start_time": "2023-05-27T17:30:21.797Z"
   },
   {
    "duration": 161,
    "start_time": "2023-05-27T17:30:21.868Z"
   },
   {
    "duration": 25,
    "start_time": "2023-05-27T17:30:22.030Z"
   },
   {
    "duration": 137,
    "start_time": "2023-05-27T17:30:22.057Z"
   },
   {
    "duration": 58,
    "start_time": "2023-05-27T17:30:22.195Z"
   },
   {
    "duration": 118,
    "start_time": "2023-05-27T17:30:22.254Z"
   },
   {
    "duration": 135,
    "start_time": "2023-05-27T17:30:22.373Z"
   },
   {
    "duration": 6,
    "start_time": "2023-05-27T17:30:22.510Z"
   },
   {
    "duration": 146,
    "start_time": "2023-05-27T17:30:22.518Z"
   },
   {
    "duration": 70,
    "start_time": "2023-05-27T17:30:22.665Z"
   },
   {
    "duration": 105,
    "start_time": "2023-05-27T17:30:22.737Z"
   },
   {
    "duration": 22,
    "start_time": "2023-05-27T17:30:22.843Z"
   },
   {
    "duration": 131,
    "start_time": "2023-05-27T17:30:22.866Z"
   },
   {
    "duration": 19,
    "start_time": "2023-05-27T17:30:22.999Z"
   },
   {
    "duration": 4,
    "start_time": "2023-05-27T17:30:23.020Z"
   },
   {
    "duration": 500,
    "start_time": "2023-05-27T17:30:23.026Z"
   },
   {
    "duration": 71,
    "start_time": "2023-05-27T17:30:23.527Z"
   },
   {
    "duration": 12,
    "start_time": "2023-05-27T17:30:23.600Z"
   },
   {
    "duration": 145,
    "start_time": "2023-05-27T17:30:23.614Z"
   },
   {
    "duration": 0,
    "start_time": "2023-05-27T17:30:23.761Z"
   },
   {
    "duration": 0,
    "start_time": "2023-05-27T17:30:23.762Z"
   },
   {
    "duration": 0,
    "start_time": "2023-05-27T17:30:23.762Z"
   },
   {
    "duration": 0,
    "start_time": "2023-05-27T17:30:23.763Z"
   },
   {
    "duration": 0,
    "start_time": "2023-05-27T17:30:23.764Z"
   },
   {
    "duration": 0,
    "start_time": "2023-05-27T17:30:23.765Z"
   },
   {
    "duration": 0,
    "start_time": "2023-05-27T17:30:23.766Z"
   },
   {
    "duration": 0,
    "start_time": "2023-05-27T17:30:23.766Z"
   },
   {
    "duration": 0,
    "start_time": "2023-05-27T17:30:23.767Z"
   },
   {
    "duration": 0,
    "start_time": "2023-05-27T17:30:23.768Z"
   },
   {
    "duration": 2071,
    "start_time": "2023-05-27T17:32:05.099Z"
   },
   {
    "duration": 1338,
    "start_time": "2023-05-27T17:32:07.172Z"
   },
   {
    "duration": 688,
    "start_time": "2023-05-27T17:32:08.511Z"
   },
   {
    "duration": 120,
    "start_time": "2023-05-27T17:32:09.201Z"
   },
   {
    "duration": 20,
    "start_time": "2023-05-27T17:32:09.323Z"
   },
   {
    "duration": 372,
    "start_time": "2023-05-27T17:32:09.345Z"
   },
   {
    "duration": 822,
    "start_time": "2023-05-27T17:32:09.718Z"
   },
   {
    "duration": 125,
    "start_time": "2023-05-27T17:32:10.542Z"
   },
   {
    "duration": 80,
    "start_time": "2023-05-27T17:32:10.668Z"
   },
   {
    "duration": 153,
    "start_time": "2023-05-27T17:32:10.749Z"
   },
   {
    "duration": 25,
    "start_time": "2023-05-27T17:32:10.905Z"
   },
   {
    "duration": 117,
    "start_time": "2023-05-27T17:32:10.931Z"
   },
   {
    "duration": 66,
    "start_time": "2023-05-27T17:32:11.050Z"
   },
   {
    "duration": 91,
    "start_time": "2023-05-27T17:32:11.119Z"
   },
   {
    "duration": 125,
    "start_time": "2023-05-27T17:32:11.212Z"
   },
   {
    "duration": 6,
    "start_time": "2023-05-27T17:32:11.339Z"
   },
   {
    "duration": 151,
    "start_time": "2023-05-27T17:32:11.346Z"
   },
   {
    "duration": 35,
    "start_time": "2023-05-27T17:32:11.499Z"
   },
   {
    "duration": 107,
    "start_time": "2023-05-27T17:32:11.535Z"
   },
   {
    "duration": 20,
    "start_time": "2023-05-27T17:32:11.643Z"
   },
   {
    "duration": 130,
    "start_time": "2023-05-27T17:32:11.664Z"
   },
   {
    "duration": 22,
    "start_time": "2023-05-27T17:32:11.796Z"
   },
   {
    "duration": 4,
    "start_time": "2023-05-27T17:32:11.820Z"
   },
   {
    "duration": 492,
    "start_time": "2023-05-27T17:32:11.825Z"
   },
   {
    "duration": 56,
    "start_time": "2023-05-27T17:32:12.319Z"
   },
   {
    "duration": 19,
    "start_time": "2023-05-27T17:32:12.384Z"
   },
   {
    "duration": 1973,
    "start_time": "2023-05-27T17:32:26.644Z"
   },
   {
    "duration": 1327,
    "start_time": "2023-05-27T17:32:28.619Z"
   },
   {
    "duration": 731,
    "start_time": "2023-05-27T17:32:29.947Z"
   },
   {
    "duration": 131,
    "start_time": "2023-05-27T17:32:30.679Z"
   },
   {
    "duration": 31,
    "start_time": "2023-05-27T17:32:30.812Z"
   },
   {
    "duration": 414,
    "start_time": "2023-05-27T17:32:30.844Z"
   },
   {
    "duration": 879,
    "start_time": "2023-05-27T17:32:31.259Z"
   },
   {
    "duration": 131,
    "start_time": "2023-05-27T17:32:32.140Z"
   },
   {
    "duration": 78,
    "start_time": "2023-05-27T17:32:32.273Z"
   },
   {
    "duration": 208,
    "start_time": "2023-05-27T17:32:32.352Z"
   },
   {
    "duration": 41,
    "start_time": "2023-05-27T17:32:32.562Z"
   },
   {
    "duration": 142,
    "start_time": "2023-05-27T17:32:32.605Z"
   },
   {
    "duration": 63,
    "start_time": "2023-05-27T17:32:32.748Z"
   },
   {
    "duration": 88,
    "start_time": "2023-05-27T17:32:32.814Z"
   },
   {
    "duration": 130,
    "start_time": "2023-05-27T17:32:32.904Z"
   },
   {
    "duration": 10,
    "start_time": "2023-05-27T17:32:33.036Z"
   },
   {
    "duration": 162,
    "start_time": "2023-05-27T17:32:33.048Z"
   },
   {
    "duration": 58,
    "start_time": "2023-05-27T17:32:33.211Z"
   },
   {
    "duration": 104,
    "start_time": "2023-05-27T17:32:33.271Z"
   },
   {
    "duration": 39,
    "start_time": "2023-05-27T17:32:33.376Z"
   },
   {
    "duration": 119,
    "start_time": "2023-05-27T17:32:33.416Z"
   },
   {
    "duration": 20,
    "start_time": "2023-05-27T17:32:33.536Z"
   },
   {
    "duration": 6,
    "start_time": "2023-05-27T17:32:33.558Z"
   },
   {
    "duration": 550,
    "start_time": "2023-05-27T17:32:33.566Z"
   },
   {
    "duration": 82,
    "start_time": "2023-05-27T17:32:34.117Z"
   },
   {
    "duration": 13,
    "start_time": "2023-05-27T17:32:41.360Z"
   },
   {
    "duration": 162,
    "start_time": "2023-05-27T17:32:42.097Z"
   },
   {
    "duration": 45,
    "start_time": "2023-05-27T17:32:51.914Z"
   },
   {
    "duration": 1201,
    "start_time": "2023-05-27T17:32:54.807Z"
   },
   {
    "duration": 14,
    "start_time": "2023-05-27T17:32:57.597Z"
   },
   {
    "duration": 52,
    "start_time": "2023-05-27T17:33:49.645Z"
   },
   {
    "duration": 2030,
    "start_time": "2023-05-27T17:33:59.816Z"
   },
   {
    "duration": 1399,
    "start_time": "2023-05-27T17:34:01.848Z"
   },
   {
    "duration": 752,
    "start_time": "2023-05-27T17:34:03.248Z"
   },
   {
    "duration": 123,
    "start_time": "2023-05-27T17:34:04.001Z"
   },
   {
    "duration": 20,
    "start_time": "2023-05-27T17:34:04.126Z"
   },
   {
    "duration": 407,
    "start_time": "2023-05-27T17:34:04.147Z"
   },
   {
    "duration": 916,
    "start_time": "2023-05-27T17:34:04.555Z"
   },
   {
    "duration": 146,
    "start_time": "2023-05-27T17:34:05.473Z"
   },
   {
    "duration": 87,
    "start_time": "2023-05-27T17:34:05.621Z"
   },
   {
    "duration": 165,
    "start_time": "2023-05-27T17:34:05.709Z"
   },
   {
    "duration": 40,
    "start_time": "2023-05-27T17:34:05.875Z"
   },
   {
    "duration": 141,
    "start_time": "2023-05-27T17:34:05.916Z"
   },
   {
    "duration": 82,
    "start_time": "2023-05-27T17:34:06.059Z"
   },
   {
    "duration": 131,
    "start_time": "2023-05-27T17:34:06.145Z"
   },
   {
    "duration": 162,
    "start_time": "2023-05-27T17:34:06.277Z"
   },
   {
    "duration": 6,
    "start_time": "2023-05-27T17:34:06.440Z"
   },
   {
    "duration": 162,
    "start_time": "2023-05-27T17:34:06.448Z"
   },
   {
    "duration": 65,
    "start_time": "2023-05-27T17:34:06.612Z"
   },
   {
    "duration": 116,
    "start_time": "2023-05-27T17:34:06.684Z"
   },
   {
    "duration": 22,
    "start_time": "2023-05-27T17:34:06.802Z"
   },
   {
    "duration": 132,
    "start_time": "2023-05-27T17:34:06.826Z"
   },
   {
    "duration": 21,
    "start_time": "2023-05-27T17:34:06.959Z"
   },
   {
    "duration": 17,
    "start_time": "2023-05-27T17:34:06.981Z"
   },
   {
    "duration": 543,
    "start_time": "2023-05-27T17:34:07.000Z"
   },
   {
    "duration": 66,
    "start_time": "2023-05-27T17:34:07.545Z"
   },
   {
    "duration": 23,
    "start_time": "2023-05-27T17:34:10.496Z"
   },
   {
    "duration": 11,
    "start_time": "2023-05-27T17:35:28.707Z"
   },
   {
    "duration": 725,
    "start_time": "2023-05-27T17:35:29.496Z"
   },
   {
    "duration": 268,
    "start_time": "2023-05-27T17:36:08.347Z"
   },
   {
    "duration": 951,
    "start_time": "2023-05-27T17:36:16.519Z"
   },
   {
    "duration": 15,
    "start_time": "2023-05-27T17:36:22.640Z"
   },
   {
    "duration": 2006,
    "start_time": "2023-05-27T17:37:59.297Z"
   },
   {
    "duration": 1486,
    "start_time": "2023-05-27T17:38:01.304Z"
   },
   {
    "duration": 728,
    "start_time": "2023-05-27T17:38:02.796Z"
   },
   {
    "duration": 119,
    "start_time": "2023-05-27T17:38:03.525Z"
   },
   {
    "duration": 71,
    "start_time": "2023-05-27T17:38:03.646Z"
   },
   {
    "duration": 396,
    "start_time": "2023-05-27T17:38:03.718Z"
   },
   {
    "duration": 895,
    "start_time": "2023-05-27T17:38:04.116Z"
   },
   {
    "duration": 144,
    "start_time": "2023-05-27T17:38:05.013Z"
   },
   {
    "duration": 83,
    "start_time": "2023-05-27T17:38:05.159Z"
   },
   {
    "duration": 171,
    "start_time": "2023-05-27T17:38:05.243Z"
   },
   {
    "duration": 28,
    "start_time": "2023-05-27T17:38:05.415Z"
   },
   {
    "duration": 152,
    "start_time": "2023-05-27T17:38:05.445Z"
   },
   {
    "duration": 64,
    "start_time": "2023-05-27T17:38:05.599Z"
   },
   {
    "duration": 129,
    "start_time": "2023-05-27T17:38:05.666Z"
   },
   {
    "duration": 136,
    "start_time": "2023-05-27T17:38:05.798Z"
   },
   {
    "duration": 9,
    "start_time": "2023-05-27T17:38:05.936Z"
   },
   {
    "duration": 184,
    "start_time": "2023-05-27T17:38:05.946Z"
   },
   {
    "duration": 85,
    "start_time": "2023-05-27T17:38:06.132Z"
   },
   {
    "duration": 131,
    "start_time": "2023-05-27T17:38:06.219Z"
   },
   {
    "duration": 47,
    "start_time": "2023-05-27T17:38:06.351Z"
   },
   {
    "duration": 133,
    "start_time": "2023-05-27T17:38:06.400Z"
   },
   {
    "duration": 21,
    "start_time": "2023-05-27T17:38:06.534Z"
   },
   {
    "duration": 43,
    "start_time": "2023-05-27T17:38:06.557Z"
   },
   {
    "duration": 619,
    "start_time": "2023-05-27T17:38:06.602Z"
   },
   {
    "duration": 72,
    "start_time": "2023-05-27T17:38:07.222Z"
   },
   {
    "duration": 13,
    "start_time": "2023-05-27T17:38:07.296Z"
   },
   {
    "duration": 256,
    "start_time": "2023-05-27T17:39:01.196Z"
   },
   {
    "duration": 1142,
    "start_time": "2023-05-27T17:39:04.896Z"
   },
   {
    "duration": 133,
    "start_time": "2023-05-27T17:39:11.432Z"
   },
   {
    "duration": 48,
    "start_time": "2023-05-27T17:39:39.056Z"
   },
   {
    "duration": 2303,
    "start_time": "2023-05-27T17:40:41.929Z"
   },
   {
    "duration": 1369,
    "start_time": "2023-05-27T17:40:44.234Z"
   },
   {
    "duration": 703,
    "start_time": "2023-05-27T17:40:45.604Z"
   },
   {
    "duration": 135,
    "start_time": "2023-05-27T17:40:46.309Z"
   },
   {
    "duration": 24,
    "start_time": "2023-05-27T17:40:46.445Z"
   },
   {
    "duration": 464,
    "start_time": "2023-05-27T17:40:46.472Z"
   },
   {
    "duration": 857,
    "start_time": "2023-05-27T17:40:46.937Z"
   },
   {
    "duration": 132,
    "start_time": "2023-05-27T17:40:47.795Z"
   },
   {
    "duration": 79,
    "start_time": "2023-05-27T17:40:47.929Z"
   },
   {
    "duration": 166,
    "start_time": "2023-05-27T17:40:48.011Z"
   },
   {
    "duration": 36,
    "start_time": "2023-05-27T17:40:48.179Z"
   },
   {
    "duration": 125,
    "start_time": "2023-05-27T17:40:48.217Z"
   },
   {
    "duration": 87,
    "start_time": "2023-05-27T17:40:48.344Z"
   },
   {
    "duration": 126,
    "start_time": "2023-05-27T17:40:48.433Z"
   },
   {
    "duration": 138,
    "start_time": "2023-05-27T17:40:48.561Z"
   },
   {
    "duration": 8,
    "start_time": "2023-05-27T17:40:48.701Z"
   },
   {
    "duration": 142,
    "start_time": "2023-05-27T17:40:48.710Z"
   },
   {
    "duration": 45,
    "start_time": "2023-05-27T17:40:48.853Z"
   },
   {
    "duration": 99,
    "start_time": "2023-05-27T17:40:48.901Z"
   },
   {
    "duration": 26,
    "start_time": "2023-05-27T17:40:49.002Z"
   },
   {
    "duration": 209,
    "start_time": "2023-05-27T17:40:49.030Z"
   },
   {
    "duration": 22,
    "start_time": "2023-05-27T17:40:49.241Z"
   },
   {
    "duration": 136,
    "start_time": "2023-05-27T17:40:49.265Z"
   },
   {
    "duration": 521,
    "start_time": "2023-05-27T17:40:49.403Z"
   },
   {
    "duration": 73,
    "start_time": "2023-05-27T17:40:49.926Z"
   },
   {
    "duration": 12,
    "start_time": "2023-05-27T17:40:50.000Z"
   },
   {
    "duration": 43,
    "start_time": "2023-05-27T17:40:55.927Z"
   },
   {
    "duration": 57,
    "start_time": "2023-05-27T17:41:06.748Z"
   },
   {
    "duration": 14,
    "start_time": "2023-05-27T17:45:06.955Z"
   },
   {
    "duration": 140,
    "start_time": "2023-05-27T17:45:40.124Z"
   },
   {
    "duration": 2474,
    "start_time": "2023-05-27T17:53:05.327Z"
   },
   {
    "duration": 1538,
    "start_time": "2023-05-27T17:53:07.803Z"
   },
   {
    "duration": 833,
    "start_time": "2023-05-27T17:53:09.342Z"
   },
   {
    "duration": 119,
    "start_time": "2023-05-27T17:53:10.177Z"
   },
   {
    "duration": 21,
    "start_time": "2023-05-27T17:53:10.299Z"
   },
   {
    "duration": 416,
    "start_time": "2023-05-27T17:53:10.321Z"
   },
   {
    "duration": 840,
    "start_time": "2023-05-27T17:53:10.739Z"
   },
   {
    "duration": 137,
    "start_time": "2023-05-27T17:53:11.580Z"
   },
   {
    "duration": 78,
    "start_time": "2023-05-27T17:53:11.718Z"
   },
   {
    "duration": 134,
    "start_time": "2023-05-27T17:53:11.799Z"
   },
   {
    "duration": 27,
    "start_time": "2023-05-27T17:53:11.934Z"
   },
   {
    "duration": 134,
    "start_time": "2023-05-27T17:53:11.962Z"
   },
   {
    "duration": 59,
    "start_time": "2023-05-27T17:53:12.097Z"
   },
   {
    "duration": 106,
    "start_time": "2023-05-27T17:53:12.159Z"
   },
   {
    "duration": 137,
    "start_time": "2023-05-27T17:53:12.266Z"
   },
   {
    "duration": 9,
    "start_time": "2023-05-27T17:53:12.404Z"
   },
   {
    "duration": 145,
    "start_time": "2023-05-27T17:53:12.414Z"
   },
   {
    "duration": 74,
    "start_time": "2023-05-27T17:53:12.560Z"
   },
   {
    "duration": 98,
    "start_time": "2023-05-27T17:53:12.635Z"
   },
   {
    "duration": 24,
    "start_time": "2023-05-27T17:53:12.735Z"
   },
   {
    "duration": 123,
    "start_time": "2023-05-27T17:53:12.761Z"
   },
   {
    "duration": 21,
    "start_time": "2023-05-27T17:53:12.895Z"
   },
   {
    "duration": 4,
    "start_time": "2023-05-27T17:53:12.918Z"
   },
   {
    "duration": 489,
    "start_time": "2023-05-27T17:53:12.923Z"
   },
   {
    "duration": 57,
    "start_time": "2023-05-27T17:53:13.413Z"
   },
   {
    "duration": 29,
    "start_time": "2023-05-27T17:53:13.471Z"
   },
   {
    "duration": 46,
    "start_time": "2023-05-27T17:53:13.502Z"
   },
   {
    "duration": 51,
    "start_time": "2023-05-27T17:53:13.550Z"
   },
   {
    "duration": 1048,
    "start_time": "2023-05-27T17:53:24.047Z"
   },
   {
    "duration": 2053,
    "start_time": "2023-05-27T17:55:51.834Z"
   },
   {
    "duration": 1436,
    "start_time": "2023-05-27T17:55:53.897Z"
   },
   {
    "duration": 781,
    "start_time": "2023-05-27T17:55:55.335Z"
   },
   {
    "duration": 155,
    "start_time": "2023-05-27T17:55:56.118Z"
   },
   {
    "duration": 31,
    "start_time": "2023-05-27T17:55:56.275Z"
   },
   {
    "duration": 495,
    "start_time": "2023-05-27T17:55:56.308Z"
   },
   {
    "duration": 913,
    "start_time": "2023-05-27T17:55:56.804Z"
   },
   {
    "duration": 140,
    "start_time": "2023-05-27T17:55:57.718Z"
   },
   {
    "duration": 78,
    "start_time": "2023-05-27T17:55:57.859Z"
   },
   {
    "duration": 170,
    "start_time": "2023-05-27T17:55:57.939Z"
   },
   {
    "duration": 27,
    "start_time": "2023-05-27T17:55:58.117Z"
   },
   {
    "duration": 134,
    "start_time": "2023-05-27T17:55:58.146Z"
   },
   {
    "duration": 77,
    "start_time": "2023-05-27T17:55:58.281Z"
   },
   {
    "duration": 119,
    "start_time": "2023-05-27T17:55:58.362Z"
   },
   {
    "duration": 156,
    "start_time": "2023-05-27T17:55:58.483Z"
   },
   {
    "duration": 7,
    "start_time": "2023-05-27T17:55:58.640Z"
   },
   {
    "duration": 173,
    "start_time": "2023-05-27T17:55:58.648Z"
   },
   {
    "duration": 40,
    "start_time": "2023-05-27T17:55:58.822Z"
   },
   {
    "duration": 139,
    "start_time": "2023-05-27T17:55:58.863Z"
   },
   {
    "duration": 23,
    "start_time": "2023-05-27T17:55:59.003Z"
   },
   {
    "duration": 123,
    "start_time": "2023-05-27T17:55:59.028Z"
   },
   {
    "duration": 31,
    "start_time": "2023-05-27T17:55:59.153Z"
   },
   {
    "duration": 8,
    "start_time": "2023-05-27T17:55:59.195Z"
   },
   {
    "duration": 532,
    "start_time": "2023-05-27T17:55:59.204Z"
   },
   {
    "duration": 69,
    "start_time": "2023-05-27T17:55:59.737Z"
   },
   {
    "duration": 11,
    "start_time": "2023-05-27T17:55:59.807Z"
   },
   {
    "duration": 37,
    "start_time": "2023-05-27T17:55:59.820Z"
   },
   {
    "duration": 856,
    "start_time": "2023-05-27T17:55:59.858Z"
   },
   {
    "duration": 474,
    "start_time": "2023-05-27T17:56:06.848Z"
   },
   {
    "duration": 1956,
    "start_time": "2023-05-27T17:56:41.816Z"
   },
   {
    "duration": 1596,
    "start_time": "2023-05-27T17:56:43.774Z"
   },
   {
    "duration": 754,
    "start_time": "2023-05-27T17:56:45.372Z"
   },
   {
    "duration": 149,
    "start_time": "2023-05-27T17:56:46.128Z"
   },
   {
    "duration": 32,
    "start_time": "2023-05-27T17:56:46.289Z"
   },
   {
    "duration": 458,
    "start_time": "2023-05-27T17:56:46.323Z"
   },
   {
    "duration": 907,
    "start_time": "2023-05-27T17:56:46.783Z"
   },
   {
    "duration": 139,
    "start_time": "2023-05-27T17:56:47.692Z"
   },
   {
    "duration": 135,
    "start_time": "2023-05-27T17:56:47.832Z"
   },
   {
    "duration": 179,
    "start_time": "2023-05-27T17:56:47.969Z"
   },
   {
    "duration": 26,
    "start_time": "2023-05-27T17:56:48.149Z"
   },
   {
    "duration": 134,
    "start_time": "2023-05-27T17:56:48.184Z"
   },
   {
    "duration": 88,
    "start_time": "2023-05-27T17:56:48.319Z"
   },
   {
    "duration": 151,
    "start_time": "2023-05-27T17:56:48.411Z"
   },
   {
    "duration": 125,
    "start_time": "2023-05-27T17:56:48.563Z"
   },
   {
    "duration": 9,
    "start_time": "2023-05-27T17:56:48.689Z"
   },
   {
    "duration": 149,
    "start_time": "2023-05-27T17:56:48.699Z"
   },
   {
    "duration": 49,
    "start_time": "2023-05-27T17:56:48.849Z"
   },
   {
    "duration": 115,
    "start_time": "2023-05-27T17:56:48.900Z"
   },
   {
    "duration": 21,
    "start_time": "2023-05-27T17:56:49.017Z"
   },
   {
    "duration": 166,
    "start_time": "2023-05-27T17:56:49.040Z"
   },
   {
    "duration": 22,
    "start_time": "2023-05-27T17:56:49.208Z"
   },
   {
    "duration": 4,
    "start_time": "2023-05-27T17:56:49.232Z"
   },
   {
    "duration": 603,
    "start_time": "2023-05-27T17:56:49.238Z"
   },
   {
    "duration": 74,
    "start_time": "2023-05-27T17:56:49.842Z"
   },
   {
    "duration": 14,
    "start_time": "2023-05-27T17:56:49.918Z"
   },
   {
    "duration": 63,
    "start_time": "2023-05-27T17:56:49.933Z"
   },
   {
    "duration": 167,
    "start_time": "2023-05-27T17:56:51.480Z"
   },
   {
    "duration": 29,
    "start_time": "2023-05-27T17:58:16.183Z"
   },
   {
    "duration": 29,
    "start_time": "2023-05-27T17:58:46.125Z"
   },
   {
    "duration": 750,
    "start_time": "2023-05-27T17:59:42.400Z"
   },
   {
    "duration": 10,
    "start_time": "2023-05-27T17:59:47.424Z"
   },
   {
    "duration": 2143,
    "start_time": "2023-05-27T18:00:35.405Z"
   },
   {
    "duration": 1428,
    "start_time": "2023-05-27T18:00:37.550Z"
   },
   {
    "duration": 791,
    "start_time": "2023-05-27T18:00:38.980Z"
   },
   {
    "duration": 163,
    "start_time": "2023-05-27T18:00:39.772Z"
   },
   {
    "duration": 29,
    "start_time": "2023-05-27T18:00:39.937Z"
   },
   {
    "duration": 442,
    "start_time": "2023-05-27T18:00:39.968Z"
   },
   {
    "duration": 955,
    "start_time": "2023-05-27T18:00:40.415Z"
   },
   {
    "duration": 161,
    "start_time": "2023-05-27T18:00:41.372Z"
   },
   {
    "duration": 105,
    "start_time": "2023-05-27T18:00:41.535Z"
   },
   {
    "duration": 184,
    "start_time": "2023-05-27T18:00:41.642Z"
   },
   {
    "duration": 27,
    "start_time": "2023-05-27T18:00:41.827Z"
   },
   {
    "duration": 140,
    "start_time": "2023-05-27T18:00:41.855Z"
   },
   {
    "duration": 81,
    "start_time": "2023-05-27T18:00:41.996Z"
   },
   {
    "duration": 112,
    "start_time": "2023-05-27T18:00:42.080Z"
   },
   {
    "duration": 141,
    "start_time": "2023-05-27T18:00:42.198Z"
   },
   {
    "duration": 7,
    "start_time": "2023-05-27T18:00:42.341Z"
   },
   {
    "duration": 179,
    "start_time": "2023-05-27T18:00:42.350Z"
   },
   {
    "duration": 80,
    "start_time": "2023-05-27T18:00:42.530Z"
   },
   {
    "duration": 113,
    "start_time": "2023-05-27T18:00:42.611Z"
   },
   {
    "duration": 28,
    "start_time": "2023-05-27T18:00:42.726Z"
   },
   {
    "duration": 165,
    "start_time": "2023-05-27T18:00:42.756Z"
   },
   {
    "duration": 22,
    "start_time": "2023-05-27T18:00:42.923Z"
   },
   {
    "duration": 6,
    "start_time": "2023-05-27T18:00:42.946Z"
   },
   {
    "duration": 652,
    "start_time": "2023-05-27T18:00:42.953Z"
   },
   {
    "duration": 65,
    "start_time": "2023-05-27T18:00:43.607Z"
   },
   {
    "duration": 26,
    "start_time": "2023-05-27T18:00:43.673Z"
   },
   {
    "duration": 39,
    "start_time": "2023-05-27T18:00:43.701Z"
   },
   {
    "duration": 853,
    "start_time": "2023-05-27T18:00:43.742Z"
   },
   {
    "duration": 135,
    "start_time": "2023-05-27T18:00:44.597Z"
   },
   {
    "duration": 2146,
    "start_time": "2023-05-27T18:00:57.826Z"
   },
   {
    "duration": 1441,
    "start_time": "2023-05-27T18:00:59.974Z"
   },
   {
    "duration": 797,
    "start_time": "2023-05-27T18:01:01.417Z"
   },
   {
    "duration": 128,
    "start_time": "2023-05-27T18:01:02.216Z"
   },
   {
    "duration": 21,
    "start_time": "2023-05-27T18:01:02.345Z"
   },
   {
    "duration": 464,
    "start_time": "2023-05-27T18:01:02.368Z"
   },
   {
    "duration": 920,
    "start_time": "2023-05-27T18:01:02.834Z"
   },
   {
    "duration": 175,
    "start_time": "2023-05-27T18:01:03.755Z"
   },
   {
    "duration": 89,
    "start_time": "2023-05-27T18:01:03.932Z"
   },
   {
    "duration": 172,
    "start_time": "2023-05-27T18:01:04.025Z"
   },
   {
    "duration": 54,
    "start_time": "2023-05-27T18:01:04.206Z"
   },
   {
    "duration": 172,
    "start_time": "2023-05-27T18:01:04.261Z"
   },
   {
    "duration": 90,
    "start_time": "2023-05-27T18:01:04.435Z"
   },
   {
    "duration": 100,
    "start_time": "2023-05-27T18:01:04.527Z"
   },
   {
    "duration": 124,
    "start_time": "2023-05-27T18:01:04.629Z"
   },
   {
    "duration": 7,
    "start_time": "2023-05-27T18:01:04.754Z"
   },
   {
    "duration": 177,
    "start_time": "2023-05-27T18:01:04.762Z"
   },
   {
    "duration": 54,
    "start_time": "2023-05-27T18:01:04.940Z"
   },
   {
    "duration": 116,
    "start_time": "2023-05-27T18:01:04.995Z"
   },
   {
    "duration": 26,
    "start_time": "2023-05-27T18:01:05.113Z"
   },
   {
    "duration": 157,
    "start_time": "2023-05-27T18:01:05.141Z"
   },
   {
    "duration": 23,
    "start_time": "2023-05-27T18:01:05.300Z"
   },
   {
    "duration": 20,
    "start_time": "2023-05-27T18:01:05.325Z"
   },
   {
    "duration": 735,
    "start_time": "2023-05-27T18:01:05.347Z"
   },
   {
    "duration": 124,
    "start_time": "2023-05-27T18:01:06.085Z"
   },
   {
    "duration": 18,
    "start_time": "2023-05-27T18:01:06.220Z"
   },
   {
    "duration": 82,
    "start_time": "2023-05-27T18:01:06.240Z"
   },
   {
    "duration": 966,
    "start_time": "2023-05-27T18:01:06.327Z"
   },
   {
    "duration": 177,
    "start_time": "2023-05-27T18:01:13.034Z"
   },
   {
    "duration": 3332,
    "start_time": "2023-05-27T18:02:27.633Z"
   },
   {
    "duration": 1779,
    "start_time": "2023-05-27T18:02:30.967Z"
   },
   {
    "duration": 982,
    "start_time": "2023-05-27T18:02:32.748Z"
   },
   {
    "duration": 123,
    "start_time": "2023-05-27T18:02:33.731Z"
   },
   {
    "duration": 34,
    "start_time": "2023-05-27T18:02:33.856Z"
   },
   {
    "duration": 375,
    "start_time": "2023-05-27T18:02:33.891Z"
   },
   {
    "duration": 1115,
    "start_time": "2023-05-27T18:02:34.267Z"
   },
   {
    "duration": 141,
    "start_time": "2023-05-27T18:02:35.385Z"
   },
   {
    "duration": 76,
    "start_time": "2023-05-27T18:02:35.528Z"
   },
   {
    "duration": 172,
    "start_time": "2023-05-27T18:02:35.608Z"
   },
   {
    "duration": 40,
    "start_time": "2023-05-27T18:02:35.781Z"
   },
   {
    "duration": 124,
    "start_time": "2023-05-27T18:02:35.823Z"
   },
   {
    "duration": 76,
    "start_time": "2023-05-27T18:02:35.949Z"
   },
   {
    "duration": 103,
    "start_time": "2023-05-27T18:02:36.026Z"
   },
   {
    "duration": 168,
    "start_time": "2023-05-27T18:02:36.131Z"
   },
   {
    "duration": 10,
    "start_time": "2023-05-27T18:02:36.300Z"
   },
   {
    "duration": 187,
    "start_time": "2023-05-27T18:02:36.312Z"
   },
   {
    "duration": 35,
    "start_time": "2023-05-27T18:02:36.502Z"
   },
   {
    "duration": 112,
    "start_time": "2023-05-27T18:02:36.538Z"
   },
   {
    "duration": 20,
    "start_time": "2023-05-27T18:02:36.652Z"
   },
   {
    "duration": 135,
    "start_time": "2023-05-27T18:02:36.673Z"
   },
   {
    "duration": 19,
    "start_time": "2023-05-27T18:02:36.809Z"
   },
   {
    "duration": 5,
    "start_time": "2023-05-27T18:02:36.829Z"
   },
   {
    "duration": 516,
    "start_time": "2023-05-27T18:02:36.836Z"
   },
   {
    "duration": 73,
    "start_time": "2023-05-27T18:02:37.354Z"
   },
   {
    "duration": 13,
    "start_time": "2023-05-27T18:02:37.430Z"
   },
   {
    "duration": 59,
    "start_time": "2023-05-27T18:02:37.445Z"
   },
   {
    "duration": 134,
    "start_time": "2023-05-27T18:02:37.507Z"
   },
   {
    "duration": 822,
    "start_time": "2023-05-27T18:07:52.848Z"
   },
   {
    "duration": 182,
    "start_time": "2023-05-27T18:08:07.322Z"
   },
   {
    "duration": 3169,
    "start_time": "2023-05-27T18:08:12.925Z"
   },
   {
    "duration": 1295,
    "start_time": "2023-05-27T18:08:16.103Z"
   },
   {
    "duration": 58128,
    "start_time": "2023-05-27T18:08:20.799Z"
   },
   {
    "duration": 0,
    "start_time": "2023-05-27T18:09:18.929Z"
   },
   {
    "duration": 0,
    "start_time": "2023-05-27T18:09:18.930Z"
   },
   {
    "duration": 0,
    "start_time": "2023-05-27T18:09:18.931Z"
   },
   {
    "duration": 67,
    "start_time": "2023-05-27T18:10:45.985Z"
   },
   {
    "duration": 1977,
    "start_time": "2023-05-27T18:12:13.733Z"
   },
   {
    "duration": 1394,
    "start_time": "2023-05-27T18:12:15.712Z"
   },
   {
    "duration": 710,
    "start_time": "2023-05-27T18:12:17.108Z"
   },
   {
    "duration": 129,
    "start_time": "2023-05-27T18:12:17.821Z"
   },
   {
    "duration": 49,
    "start_time": "2023-05-27T18:12:17.952Z"
   },
   {
    "duration": 417,
    "start_time": "2023-05-27T18:12:18.003Z"
   },
   {
    "duration": 831,
    "start_time": "2023-05-27T18:12:18.421Z"
   },
   {
    "duration": 148,
    "start_time": "2023-05-27T18:12:19.254Z"
   },
   {
    "duration": 86,
    "start_time": "2023-05-27T18:12:19.404Z"
   },
   {
    "duration": 142,
    "start_time": "2023-05-27T18:12:19.494Z"
   },
   {
    "duration": 31,
    "start_time": "2023-05-27T18:12:19.637Z"
   },
   {
    "duration": 139,
    "start_time": "2023-05-27T18:12:19.670Z"
   },
   {
    "duration": 58,
    "start_time": "2023-05-27T18:12:19.810Z"
   },
   {
    "duration": 144,
    "start_time": "2023-05-27T18:12:19.870Z"
   },
   {
    "duration": 123,
    "start_time": "2023-05-27T18:12:20.016Z"
   },
   {
    "duration": 7,
    "start_time": "2023-05-27T18:12:20.141Z"
   },
   {
    "duration": 182,
    "start_time": "2023-05-27T18:12:20.149Z"
   },
   {
    "duration": 77,
    "start_time": "2023-05-27T18:12:20.332Z"
   },
   {
    "duration": 105,
    "start_time": "2023-05-27T18:12:20.411Z"
   },
   {
    "duration": 23,
    "start_time": "2023-05-27T18:12:20.517Z"
   },
   {
    "duration": 157,
    "start_time": "2023-05-27T18:12:20.542Z"
   },
   {
    "duration": 20,
    "start_time": "2023-05-27T18:12:20.700Z"
   },
   {
    "duration": 5,
    "start_time": "2023-05-27T18:12:20.721Z"
   },
   {
    "duration": 505,
    "start_time": "2023-05-27T18:12:20.728Z"
   },
   {
    "duration": 75,
    "start_time": "2023-05-27T18:12:21.234Z"
   },
   {
    "duration": 11,
    "start_time": "2023-05-27T18:12:21.311Z"
   },
   {
    "duration": 34,
    "start_time": "2023-05-27T18:12:21.323Z"
   },
   {
    "duration": 840,
    "start_time": "2023-05-27T18:12:21.361Z"
   },
   {
    "duration": 140,
    "start_time": "2023-05-27T18:12:22.202Z"
   },
   {
    "duration": 3145,
    "start_time": "2023-05-27T18:12:22.344Z"
   },
   {
    "duration": 1297,
    "start_time": "2023-05-27T18:12:25.494Z"
   },
   {
    "duration": 161204,
    "start_time": "2023-05-27T18:12:26.794Z"
   },
   {
    "duration": 128303,
    "start_time": "2023-05-27T18:15:08.000Z"
   },
   {
    "duration": 108792,
    "start_time": "2023-05-27T18:17:16.305Z"
   },
   {
    "duration": 46166,
    "start_time": "2023-05-27T18:19:05.100Z"
   },
   {
    "duration": 8,
    "start_time": "2023-05-27T18:19:51.268Z"
   },
   {
    "duration": 327,
    "start_time": "2023-05-27T18:19:51.277Z"
   },
   {
    "duration": 1884,
    "start_time": "2023-05-27T18:20:10.878Z"
   },
   {
    "duration": 1303,
    "start_time": "2023-05-27T18:20:12.764Z"
   },
   {
    "duration": 752,
    "start_time": "2023-05-27T18:20:14.068Z"
   },
   {
    "duration": 152,
    "start_time": "2023-05-27T18:20:14.822Z"
   },
   {
    "duration": 31,
    "start_time": "2023-05-27T18:20:14.985Z"
   },
   {
    "duration": 483,
    "start_time": "2023-05-27T18:20:15.018Z"
   },
   {
    "duration": 880,
    "start_time": "2023-05-27T18:20:15.502Z"
   },
   {
    "duration": 143,
    "start_time": "2023-05-27T18:20:16.386Z"
   },
   {
    "duration": 74,
    "start_time": "2023-05-27T18:20:16.531Z"
   },
   {
    "duration": 145,
    "start_time": "2023-05-27T18:20:16.607Z"
   },
   {
    "duration": 33,
    "start_time": "2023-05-27T18:20:16.754Z"
   },
   {
    "duration": 132,
    "start_time": "2023-05-27T18:20:16.788Z"
   },
   {
    "duration": 55,
    "start_time": "2023-05-27T18:20:16.922Z"
   },
   {
    "duration": 105,
    "start_time": "2023-05-27T18:20:16.998Z"
   },
   {
    "duration": 129,
    "start_time": "2023-05-27T18:20:17.108Z"
   },
   {
    "duration": 10,
    "start_time": "2023-05-27T18:20:17.238Z"
   },
   {
    "duration": 162,
    "start_time": "2023-05-27T18:20:17.249Z"
   },
   {
    "duration": 62,
    "start_time": "2023-05-27T18:20:17.414Z"
   },
   {
    "duration": 113,
    "start_time": "2023-05-27T18:20:17.477Z"
   },
   {
    "duration": 24,
    "start_time": "2023-05-27T18:20:17.591Z"
   },
   {
    "duration": 126,
    "start_time": "2023-05-27T18:20:17.617Z"
   },
   {
    "duration": 21,
    "start_time": "2023-05-27T18:20:17.745Z"
   },
   {
    "duration": 7,
    "start_time": "2023-05-27T18:20:17.767Z"
   },
   {
    "duration": 560,
    "start_time": "2023-05-27T18:20:17.785Z"
   },
   {
    "duration": 84,
    "start_time": "2023-05-27T18:20:18.347Z"
   },
   {
    "duration": 12,
    "start_time": "2023-05-27T18:20:18.433Z"
   },
   {
    "duration": 54,
    "start_time": "2023-05-27T18:20:18.447Z"
   },
   {
    "duration": 869,
    "start_time": "2023-05-27T18:20:18.502Z"
   },
   {
    "duration": 135,
    "start_time": "2023-05-27T18:20:19.373Z"
   },
   {
    "duration": 2988,
    "start_time": "2023-05-27T18:20:19.510Z"
   },
   {
    "duration": 1300,
    "start_time": "2023-05-27T18:20:22.500Z"
   },
   {
    "duration": 348793,
    "start_time": "2023-05-27T18:20:23.801Z"
   },
   {
    "duration": 65805,
    "start_time": "2023-05-27T18:26:12.598Z"
   },
   {
    "duration": 106075,
    "start_time": "2023-05-27T18:27:18.405Z"
   },
   {
    "duration": 45948,
    "start_time": "2023-05-27T18:29:04.481Z"
   },
   {
    "duration": 7,
    "start_time": "2023-05-27T18:29:50.430Z"
   },
   {
    "duration": 332,
    "start_time": "2023-05-27T18:29:50.439Z"
   },
   {
    "duration": 3848,
    "start_time": "2023-05-28T09:29:39.545Z"
   },
   {
    "duration": 3612,
    "start_time": "2023-05-28T09:29:43.395Z"
   },
   {
    "duration": 3885,
    "start_time": "2023-05-28T09:29:47.009Z"
   },
   {
    "duration": 196,
    "start_time": "2023-05-28T09:29:50.896Z"
   },
   {
    "duration": 48,
    "start_time": "2023-05-28T09:29:51.095Z"
   },
   {
    "duration": 708,
    "start_time": "2023-05-28T09:29:51.145Z"
   },
   {
    "duration": 1459,
    "start_time": "2023-05-28T09:29:51.854Z"
   },
   {
    "duration": 256,
    "start_time": "2023-05-28T09:29:53.315Z"
   },
   {
    "duration": 167,
    "start_time": "2023-05-28T09:29:53.574Z"
   },
   {
    "duration": 262,
    "start_time": "2023-05-28T09:29:53.742Z"
   },
   {
    "duration": 52,
    "start_time": "2023-05-28T09:29:54.008Z"
   },
   {
    "duration": 227,
    "start_time": "2023-05-28T09:29:54.062Z"
   },
   {
    "duration": 110,
    "start_time": "2023-05-28T09:29:54.300Z"
   },
   {
    "duration": 146,
    "start_time": "2023-05-28T09:29:54.414Z"
   },
   {
    "duration": 258,
    "start_time": "2023-05-28T09:29:54.563Z"
   },
   {
    "duration": 16,
    "start_time": "2023-05-28T09:29:54.830Z"
   },
   {
    "duration": 231,
    "start_time": "2023-05-28T09:29:54.848Z"
   },
   {
    "duration": 110,
    "start_time": "2023-05-28T09:29:55.091Z"
   },
   {
    "duration": 133,
    "start_time": "2023-05-28T09:29:55.207Z"
   },
   {
    "duration": 34,
    "start_time": "2023-05-28T09:29:55.342Z"
   },
   {
    "duration": 220,
    "start_time": "2023-05-28T09:29:55.378Z"
   },
   {
    "duration": 27,
    "start_time": "2023-05-28T09:29:55.606Z"
   },
   {
    "duration": 5,
    "start_time": "2023-05-28T09:29:55.635Z"
   },
   {
    "duration": 821,
    "start_time": "2023-05-28T09:29:55.642Z"
   },
   {
    "duration": 129,
    "start_time": "2023-05-28T09:29:56.466Z"
   },
   {
    "duration": 22,
    "start_time": "2023-05-28T09:29:56.600Z"
   },
   {
    "duration": 73,
    "start_time": "2023-05-28T09:29:56.627Z"
   },
   {
    "duration": 966,
    "start_time": "2023-05-28T09:30:06.506Z"
   },
   {
    "duration": 38,
    "start_time": "2023-05-28T09:30:11.298Z"
   },
   {
    "duration": 26,
    "start_time": "2023-05-28T09:30:29.111Z"
   },
   {
    "duration": 304,
    "start_time": "2023-05-28T09:31:13.357Z"
   },
   {
    "duration": 13,
    "start_time": "2023-05-28T09:31:19.001Z"
   },
   {
    "duration": 37,
    "start_time": "2023-05-28T09:31:42.719Z"
   },
   {
    "duration": 7,
    "start_time": "2023-05-28T09:31:46.343Z"
   }
  ],
  "kernelspec": {
   "display_name": "Python 3 (ipykernel)",
   "language": "python",
   "name": "python3"
  },
  "language_info": {
   "codemirror_mode": {
    "name": "ipython",
    "version": 3
   },
   "file_extension": ".py",
   "mimetype": "text/x-python",
   "name": "python",
   "nbconvert_exporter": "python",
   "pygments_lexer": "ipython3",
   "version": "3.9.5"
  },
  "toc": {
   "base_numbering": 1,
   "nav_menu": {},
   "number_sections": true,
   "sideBar": true,
   "skip_h1_title": true,
   "title_cell": "Table of Contents",
   "title_sidebar": "Contents",
   "toc_cell": false,
   "toc_position": {
    "height": "calc(100% - 180px)",
    "left": "10px",
    "top": "150px",
    "width": "290.875px"
   },
   "toc_section_display": true,
   "toc_window_display": true
  }
 },
 "nbformat": 4,
 "nbformat_minor": 2
}
