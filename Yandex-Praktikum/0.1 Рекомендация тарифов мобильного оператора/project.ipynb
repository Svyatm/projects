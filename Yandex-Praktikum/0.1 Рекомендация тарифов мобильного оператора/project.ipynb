{
 "cells": [
  {
   "cell_type": "markdown",
   "metadata": {},
   "source": [
    "# Рекомендация тарифов"
   ]
  },
  {
   "cell_type": "markdown",
   "metadata": {},
   "source": [
    "**Описание проекта**\n",
    "\n",
    "Оператор мобильной связи «Мегалайн» выяснил: многие клиенты пользуются архивными тарифами. Они хотят построить систему, способную проанализировать поведение клиентов и предложить пользователям новый тариф: «Смарт» или «Ультра».\n",
    "В вашем распоряжении данные о поведении клиентов, которые уже перешли на эти тарифы. Нужно построить модель для задачи классификации, которая выберет подходящий тариф. Предобработка данных не понадобится — вы её уже сделали.\n",
    "Постройте модель с максимально большим значением accuracy. Чтобы сдать проект успешно, нужно довести долю правильных ответов по крайней мере до 0.75. Проверьте accuracy на тестовой выборке самостоятельно."
   ]
  },
  {
   "cell_type": "markdown",
   "metadata": {},
   "source": [
    "**План проекта:**\n",
    "- Импортировать библиотеки, открыть и изучить датасет\n",
    "- Разбить файл на выборки для последующего обучения и проверки результатов;\n",
    "- Обучить модели на разных алгоритмах, выбрать лучшие алгоритмы и проверить на валидационных данных;\n",
    "- Проверить лучшие модели на тестовых данных, определить лучшую;\n",
    "- Проверить модели на адеквантость с помощью метрик precision и recall.\n"
   ]
  },
  {
   "cell_type": "markdown",
   "metadata": {},
   "source": [
    "## Откройте и изучите файл"
   ]
  },
  {
   "cell_type": "code",
   "execution_count": 1,
   "metadata": {},
   "outputs": [],
   "source": [
    "#Импортируем библиотеки\n",
    "import pandas as pd\n",
    "from sklearn.tree import DecisionTreeClassifier\n",
    "from sklearn.ensemble import RandomForestClassifier\n",
    "from sklearn.linear_model import LogisticRegression\n",
    "from sklearn.model_selection import train_test_split\n",
    "from sklearn.metrics import accuracy_score\n",
    "from sklearn.metrics import precision_score\n",
    "from sklearn.metrics import recall_score"
   ]
  },
  {
   "cell_type": "code",
   "execution_count": 2,
   "metadata": {},
   "outputs": [],
   "source": [
    "#Читаем файл\n",
    "df = pd.read_csv('/datasets/users_behavior.csv')"
   ]
  },
  {
   "cell_type": "code",
   "execution_count": 3,
   "metadata": {},
   "outputs": [
    {
     "name": "stdout",
     "output_type": "stream",
     "text": [
      "<class 'pandas.core.frame.DataFrame'>\n",
      "RangeIndex: 3214 entries, 0 to 3213\n",
      "Data columns (total 5 columns):\n",
      " #   Column    Non-Null Count  Dtype  \n",
      "---  ------    --------------  -----  \n",
      " 0   calls     3214 non-null   float64\n",
      " 1   minutes   3214 non-null   float64\n",
      " 2   messages  3214 non-null   float64\n",
      " 3   mb_used   3214 non-null   float64\n",
      " 4   is_ultra  3214 non-null   int64  \n",
      "dtypes: float64(4), int64(1)\n",
      "memory usage: 125.7 KB\n"
     ]
    }
   ],
   "source": [
    "#Изучаем общую информацию\n",
    "df.info()"
   ]
  },
  {
   "cell_type": "code",
   "execution_count": 4,
   "metadata": {},
   "outputs": [
    {
     "data": {
      "text/html": [
       "<div>\n",
       "<style scoped>\n",
       "    .dataframe tbody tr th:only-of-type {\n",
       "        vertical-align: middle;\n",
       "    }\n",
       "\n",
       "    .dataframe tbody tr th {\n",
       "        vertical-align: top;\n",
       "    }\n",
       "\n",
       "    .dataframe thead th {\n",
       "        text-align: right;\n",
       "    }\n",
       "</style>\n",
       "<table border=\"1\" class=\"dataframe\">\n",
       "  <thead>\n",
       "    <tr style=\"text-align: right;\">\n",
       "      <th></th>\n",
       "      <th>calls</th>\n",
       "      <th>minutes</th>\n",
       "      <th>messages</th>\n",
       "      <th>mb_used</th>\n",
       "      <th>is_ultra</th>\n",
       "    </tr>\n",
       "  </thead>\n",
       "  <tbody>\n",
       "    <tr>\n",
       "      <th>0</th>\n",
       "      <td>40.0</td>\n",
       "      <td>311.90</td>\n",
       "      <td>83.0</td>\n",
       "      <td>19915.42</td>\n",
       "      <td>0</td>\n",
       "    </tr>\n",
       "    <tr>\n",
       "      <th>1</th>\n",
       "      <td>85.0</td>\n",
       "      <td>516.75</td>\n",
       "      <td>56.0</td>\n",
       "      <td>22696.96</td>\n",
       "      <td>0</td>\n",
       "    </tr>\n",
       "    <tr>\n",
       "      <th>2</th>\n",
       "      <td>77.0</td>\n",
       "      <td>467.66</td>\n",
       "      <td>86.0</td>\n",
       "      <td>21060.45</td>\n",
       "      <td>0</td>\n",
       "    </tr>\n",
       "    <tr>\n",
       "      <th>3</th>\n",
       "      <td>106.0</td>\n",
       "      <td>745.53</td>\n",
       "      <td>81.0</td>\n",
       "      <td>8437.39</td>\n",
       "      <td>1</td>\n",
       "    </tr>\n",
       "    <tr>\n",
       "      <th>4</th>\n",
       "      <td>66.0</td>\n",
       "      <td>418.74</td>\n",
       "      <td>1.0</td>\n",
       "      <td>14502.75</td>\n",
       "      <td>0</td>\n",
       "    </tr>\n",
       "    <tr>\n",
       "      <th>5</th>\n",
       "      <td>58.0</td>\n",
       "      <td>344.56</td>\n",
       "      <td>21.0</td>\n",
       "      <td>15823.37</td>\n",
       "      <td>0</td>\n",
       "    </tr>\n",
       "    <tr>\n",
       "      <th>6</th>\n",
       "      <td>57.0</td>\n",
       "      <td>431.64</td>\n",
       "      <td>20.0</td>\n",
       "      <td>3738.90</td>\n",
       "      <td>1</td>\n",
       "    </tr>\n",
       "    <tr>\n",
       "      <th>7</th>\n",
       "      <td>15.0</td>\n",
       "      <td>132.40</td>\n",
       "      <td>6.0</td>\n",
       "      <td>21911.60</td>\n",
       "      <td>0</td>\n",
       "    </tr>\n",
       "    <tr>\n",
       "      <th>8</th>\n",
       "      <td>7.0</td>\n",
       "      <td>43.39</td>\n",
       "      <td>3.0</td>\n",
       "      <td>2538.67</td>\n",
       "      <td>1</td>\n",
       "    </tr>\n",
       "    <tr>\n",
       "      <th>9</th>\n",
       "      <td>90.0</td>\n",
       "      <td>665.41</td>\n",
       "      <td>38.0</td>\n",
       "      <td>17358.61</td>\n",
       "      <td>0</td>\n",
       "    </tr>\n",
       "  </tbody>\n",
       "</table>\n",
       "</div>"
      ],
      "text/plain": [
       "   calls  minutes  messages   mb_used  is_ultra\n",
       "0   40.0   311.90      83.0  19915.42         0\n",
       "1   85.0   516.75      56.0  22696.96         0\n",
       "2   77.0   467.66      86.0  21060.45         0\n",
       "3  106.0   745.53      81.0   8437.39         1\n",
       "4   66.0   418.74       1.0  14502.75         0\n",
       "5   58.0   344.56      21.0  15823.37         0\n",
       "6   57.0   431.64      20.0   3738.90         1\n",
       "7   15.0   132.40       6.0  21911.60         0\n",
       "8    7.0    43.39       3.0   2538.67         1\n",
       "9   90.0   665.41      38.0  17358.61         0"
      ]
     },
     "execution_count": 4,
     "metadata": {},
     "output_type": "execute_result"
    }
   ],
   "source": [
    "#Знакомимся с данными\n",
    "df.head(10)"
   ]
  },
  {
   "cell_type": "markdown",
   "metadata": {},
   "source": [
    "## Разбейте данные на выборки"
   ]
  },
  {
   "cell_type": "code",
   "execution_count": 5,
   "metadata": {},
   "outputs": [],
   "source": [
    "#Добавляем фичи и таргет\n",
    "features = df.drop(['is_ultra'], axis=1)\n",
    "target = df['is_ultra']"
   ]
  },
  {
   "cell_type": "markdown",
   "metadata": {},
   "source": [
    "Теперь разделим данные на 3 части в пропорции 60/20/20, где 60% — обучающая выборка, 20% — валидационная выборка и 20% — тестовая выборка."
   ]
  },
  {
   "cell_type": "code",
   "execution_count": 6,
   "metadata": {},
   "outputs": [],
   "source": [
    "#Делим данные на 60% и 40%\n",
    "features_train, features_to_split, target_train, target_to_split = train_test_split(\n",
    "    features, target, test_size=0.4, random_state=12345)\n",
    "\n",
    "#Делим полученные 40% пополам\n",
    "features_valid, features_test, target_valid, target_test = train_test_split(\n",
    "    features_to_split, target_to_split, test_size=0.5, random_state=12345)"
   ]
  },
  {
   "cell_type": "code",
   "execution_count": 7,
   "metadata": {},
   "outputs": [
    {
     "name": "stdout",
     "output_type": "stream",
     "text": [
      "(1928, 4)\n",
      "(643, 4)\n",
      "(643, 4)\n",
      "(1928,)\n",
      "(643,)\n",
      "(643,)\n"
     ]
    }
   ],
   "source": [
    "#Проверяем корректность разделения\n",
    "print(features_train.shape)\n",
    "print(features_test.shape)\n",
    "print(features_valid.shape)\n",
    "print(target_train.shape)\n",
    "print(target_test.shape)\n",
    "print(target_valid.shape)"
   ]
  },
  {
   "cell_type": "markdown",
   "metadata": {},
   "source": [
    "Выборки разделены корректно. Можем приступать к обучению моделей и выявлению оптимальных гиперпараметров."
   ]
  },
  {
   "cell_type": "markdown",
   "metadata": {},
   "source": [
    "## Исследуйте модели"
   ]
  },
  {
   "cell_type": "markdown",
   "metadata": {},
   "source": [
    "Обучим модель по алгоритму дерева решений и найдем оптимальное соотношение гиперпараметров."
   ]
  },
  {
   "cell_type": "code",
   "execution_count": 8,
   "metadata": {
    "scrolled": true
   },
   "outputs": [
    {
     "name": "stdout",
     "output_type": "stream",
     "text": [
      "Лучший критерий: gini\n",
      "Лучшая глубина дерева решений: 3\n",
      "Лучшая accuracy дерева решений: 0.785\n"
     ]
    }
   ],
   "source": [
    "#Алгоритм дерева решений\n",
    "best_tree_criterion = None\n",
    "best_tree_depth = None\n",
    "best_tree_result = 0\n",
    "best_tree_model = None\n",
    "\n",
    "#Определяем оптимальную глубину дерева\n",
    "for criterion in ['gini', 'entropy']:\n",
    "    for depth in range(1, 11):\n",
    "        model = DecisionTreeClassifier(\n",
    "            random_state=12345,\n",
    "            criterion=criterion,\n",
    "            max_depth=depth)\n",
    "        model.fit(features_train, target_train)\n",
    "        predictions = model.predict(features_valid)\n",
    "        result = accuracy_score(target_valid, predictions)\n",
    "        if result > best_tree_result:\n",
    "            best_tree_criterion = criterion\n",
    "            best_tree_depth = depth\n",
    "            best_tree_result = result\n",
    "            best_tree_model = model\n",
    "            \n",
    "print(f'Лучший критерий: {best_tree_criterion}')        \n",
    "print(f'Лучшая глубина дерева решений: {best_tree_depth}')\n",
    "print(f'Лучшая accuracy дерева решений: {best_tree_result:.3}')"
   ]
  },
  {
   "cell_type": "markdown",
   "metadata": {},
   "source": [
    "Обучим модель по алгоритму случайного леса и найдем оптимальное соотношение гиперпараметров."
   ]
  },
  {
   "cell_type": "code",
   "execution_count": 9,
   "metadata": {},
   "outputs": [
    {
     "name": "stdout",
     "output_type": "stream",
     "text": [
      "Лучшая глубина дерева: 8\n",
      "Лучшее количество деревьев в лесу: 41\n",
      "Лучшая accuracy случайного леса: 0.807\n"
     ]
    }
   ],
   "source": [
    "#Алгоритм случайного леса\n",
    "best_forest_depth = None\n",
    "best_forest_est = None\n",
    "best_forest_result = 0\n",
    "best_forest_model = None\n",
    "\n",
    "#Определяем оптимальную глубину дерева и их количество\n",
    "for depth in range(1, 11):\n",
    "    for est in range(1, 101, 10):\n",
    "        model = RandomForestClassifier(\n",
    "            random_state=12345,\n",
    "            n_estimators=est,\n",
    "            max_depth=depth)\n",
    "        model.fit(features_train, target_train)\n",
    "        predictions = model.predict(features_valid)\n",
    "        result = accuracy_score(target_valid, predictions)\n",
    "        if result > best_forest_result:\n",
    "            best_forest_depth = depth\n",
    "            best_forest_est = est\n",
    "            best_forest_result = result\n",
    "            best_forest_model = model\n",
    "\n",
    "print(f'Лучшая глубина дерева: {best_forest_depth}')            \n",
    "print(f'Лучшее количество деревьев в лесу: {best_forest_est}')\n",
    "print(f'Лучшая accuracy случайного леса: {best_forest_result:.3}')"
   ]
  },
  {
   "cell_type": "markdown",
   "metadata": {},
   "source": [
    "Обучим модель по алгоритму логистической регрессии и найдем оптимальное соотношение гиперпараметров."
   ]
  },
  {
   "cell_type": "code",
   "execution_count": 10,
   "metadata": {
    "scrolled": true
   },
   "outputs": [
    {
     "name": "stdout",
     "output_type": "stream",
     "text": [
      "Лучшее число итераций: 100\n",
      "Лучшая accuracy логистической регрессии: 0.711\n"
     ]
    }
   ],
   "source": [
    "#Алгоритм логистической регрессии\n",
    "best_regression_iter = None\n",
    "best_regression_result = 0\n",
    "model = None\n",
    "\n",
    "#Определяем оптимальное число итераций\n",
    "for iter in range(100, 10000, 100):\n",
    "    model = LogisticRegression(\n",
    "        random_state=12345,\n",
    "        solver='lbfgs',\n",
    "        max_iter=iter)\n",
    "    model.fit(features_train, target_train)\n",
    "    predictions = model.predict(features_valid)\n",
    "    result = accuracy_score(target_valid, predictions)\n",
    "    if result > best_regression_result:\n",
    "        best_regression_iter = iter\n",
    "        best_regression_result = result\n",
    "        best_regression_model = model\n",
    "        \n",
    "print(f'Лучшее число итераций: {best_regression_iter}')\n",
    "print(f'Лучшая accuracy логистической регрессии: {best_regression_result:.3}')"
   ]
  },
  {
   "cell_type": "markdown",
   "metadata": {},
   "source": [
    "- Можем сделать вывод, что, как и ожидалось, лучший результат показывает модель случайного леса с глубиной дерева 8 и количеством деревьев в лесу 41. Показатель accuracy модели случайного леса составляет 0.807, что выше требуемого в условии значения в 0.75.\n",
    "Тем не менее, эта модель обучается гораздо дольше остальных.\n",
    "\n",
    "- Модель дерева решений также показывает неплохой результат — при глубине дерева в 3 показатель accuracy составляет 0.785 и также подходит по условию.\n",
    "Обучение модели идет довольно быстро.\n",
    "\n",
    "- Худший результат у модели логистической регрессии — при 100 итерациях показатель accuracy составляет 0.71 и не подходит по условию.\n",
    "\n",
    "Однако финальный вывод делать рано, нужно еще проверить модели на тестовой выборке."
   ]
  },
  {
   "cell_type": "markdown",
   "metadata": {},
   "source": [
    "## Проверьте модель на тестовой выборке"
   ]
  },
  {
   "cell_type": "code",
   "execution_count": 11,
   "metadata": {},
   "outputs": [
    {
     "name": "stdout",
     "output_type": "stream",
     "text": [
      "Точность классификации модели дерева решений: 0.779\n"
     ]
    }
   ],
   "source": [
    "#Алгоритм дерева решений\n",
    "tree_test_predict = best_tree_model.predict(features_test)\n",
    "tree_accuracy_score = accuracy_score(target_test, tree_test_predict)\n",
    "\n",
    "print(f'Точность классификации модели дерева решений: {tree_accuracy_score:.3}')"
   ]
  },
  {
   "cell_type": "code",
   "execution_count": 12,
   "metadata": {},
   "outputs": [
    {
     "name": "stdout",
     "output_type": "stream",
     "text": [
      "Точность классификации модели случайного леса: 0.798\n"
     ]
    }
   ],
   "source": [
    "#Алгоритм случайного леса\n",
    "best_forest_model\n",
    "forest_test_predict = best_forest_model.predict(features_test)\n",
    "forest_accuracy_score = accuracy_score(target_test, forest_test_predict)\n",
    "\n",
    "print(f'Точность классификации модели случайного леса: {forest_accuracy_score:.3}')"
   ]
  },
  {
   "cell_type": "code",
   "execution_count": 13,
   "metadata": {},
   "outputs": [
    {
     "name": "stdout",
     "output_type": "stream",
     "text": [
      "Точность классификации модели логистической регрессии: 0.684\n"
     ]
    }
   ],
   "source": [
    "#Логистическая регрессия\n",
    "best_regression_model\n",
    "regression_test_predict = best_regression_model.predict(features_test)\n",
    "regression_accuracy_score = accuracy_score(target_test, regression_test_predict)\n",
    "\n",
    "print(f'Точность классификации модели логистической регрессии: {regression_accuracy_score:.3}')"
   ]
  },
  {
   "cell_type": "markdown",
   "metadata": {},
   "source": [
    "После проверки лучших моделей на тестовой выборке лидерство не изменилось:\n",
    "- Модель случайного леса показывает accuracy 0.798 и получает первое место, а также подходит по условию задачи.\n",
    "- Модель дерева решений показывает accuracy 0.779, занимает второе место и подходит по условию задачи.\n",
    "- Модель логистической регрессии показывает худший результат с accuracy 0.684 и не подходит по условию задачи."
   ]
  },
  {
   "cell_type": "markdown",
   "metadata": {},
   "source": [
    "## Проверка модели на адекватность"
   ]
  },
  {
   "cell_type": "markdown",
   "metadata": {},
   "source": [
    "Проверим лучшие модели по дополнительным метрикам precision и recall.\n",
    "\n",
    "Precision говорит о том, какая доля положительных ответов предсказана правильно.\n",
    "\n",
    "Recall говорит о доле правильных ответов среди всех положительных."
   ]
  },
  {
   "cell_type": "code",
   "execution_count": 14,
   "metadata": {},
   "outputs": [
    {
     "name": "stdout",
     "output_type": "stream",
     "text": [
      "Оценка точности (precision) модели дерева решений: 0.744\n",
      "Оценка полноты (recall) модели дерева решений: 0.458\n"
     ]
    }
   ],
   "source": [
    "tree_precision_score = precision_score(target_test, tree_test_predict)\n",
    "tree_recall_score = recall_score(target_test, tree_test_predict)\n",
    "\n",
    "print(f'Оценка точности (precision) модели дерева решений: {tree_precision_score:.3}')\n",
    "print(f'Оценка полноты (recall) модели дерева решений: {tree_recall_score:.3}')"
   ]
  },
  {
   "cell_type": "code",
   "execution_count": 15,
   "metadata": {},
   "outputs": [
    {
     "name": "stdout",
     "output_type": "stream",
     "text": [
      "Оценка точности (precision) модели случайного леса: 0.752\n",
      "Оценка полноты (recall) модели случайного леса: 0.537\n"
     ]
    }
   ],
   "source": [
    "forest_precision_score = precision_score(target_test, forest_test_predict)\n",
    "forest_recall_score = recall_score(target_test, forest_test_predict)\n",
    "\n",
    "print(f'Оценка точности (precision) модели случайного леса: {forest_precision_score:.3}')\n",
    "print(f'Оценка полноты (recall) модели случайного леса: {forest_recall_score:.3}')"
   ]
  },
  {
   "cell_type": "code",
   "execution_count": 16,
   "metadata": {},
   "outputs": [
    {
     "name": "stdout",
     "output_type": "stream",
     "text": [
      "Оценка точности (precision) модели логистической регрессии: 0.5\n",
      "Оценка полноты (recall) модели логистической регрессии: 0.039\n"
     ]
    }
   ],
   "source": [
    "regression_precision_score = precision_score(target_test, regression_test_predict)\n",
    "regression_recall_score = recall_score(target_test, regression_test_predict)\n",
    "\n",
    "print(f'Оценка точности (precision) модели логистической регрессии: {regression_precision_score:.3}')\n",
    "print(f'Оценка полноты (recall) модели логистической регрессии: {regression_recall_score:.2}')"
   ]
  },
  {
   "cell_type": "markdown",
   "metadata": {},
   "source": [
    "- Модель дерева решений: precision 0.744 и recall 0.458 говорят о том, что модель получилась среднего качества, а в части recall даже ниже среднего.\n",
    "- Модель случайного леса: precision 0.752 и recall 0.537 также показывают, что модель среднего качества, но все же лучше модели дерева решений.\n",
    "- Модель логистической регрессии: precision 0.5 и recall 0.0394 говорит об отвратительном качестве модели, лишь половина положительных ответов предсказана правильно, а доля правильных ответов среди всех положительных составляет ниже 4%.\n",
    "\n",
    "И снова лидером становится модель случайного леса."
   ]
  },
  {
   "cell_type": "markdown",
   "metadata": {},
   "source": [
    "**Итоги:**"
   ]
  },
  {
   "cell_type": "markdown",
   "metadata": {},
   "source": [
    "Мы обучили модели по каждому из трех алгоритмов классификации, нашли лучшие модели для каждого из алгоритмов и проверили качество их предсказаний.\n",
    "\n",
    "1. Первое место по всем пунктам исследования занимает модель по алгоритму случайного леса:\n",
    "- Accuracy на тестовой выборке: 0.798\n",
    "- Precision на тестовой выборке: 0.752\n",
    "- Recall на тестовой выборке: 0.537\n",
    "\n",
    "2. Второе место занимает модель по алгоритму дерева решений:\n",
    "- Accuracy на тестовой выборке: 0.779\n",
    "- Precision на тестовой выборке: 0.744\n",
    "- Recall на тестовой выборке: 0.458\n",
    "\n",
    "3. Третье место пзанимает модель по алгоритму логистической регрессии:\n",
    "- Accuracy на тестовой выборке: 0.684\n",
    "- Precision на тестовой выборке: 0.5\n",
    "- Recall на тестовой выборке: 0.039\n",
    "\n",
    "По условию задачи, по параметру accuracy в 0.75 проходят только модели на 1 и 2 месте, однако лучшая модель — модель случайного леса, её и стоит использовать.\n",
    "\n",
    "Стоит добавить, что в обучающем датасете не так много строк для обучения. Чем выше объем данных, тем точнее будут предсказания моделей, правда обучаться они будут дольше, но ведь это не так важно там, где важна точность."
   ]
  }
 ],
 "metadata": {
  "ExecuteTimeLog": [
   {
    "duration": 1215,
    "start_time": "2023-03-10T14:12:09.410Z"
   },
   {
    "duration": 113,
    "start_time": "2023-03-10T14:12:45.130Z"
   },
   {
    "duration": 78,
    "start_time": "2023-03-10T14:12:51.208Z"
   },
   {
    "duration": 17,
    "start_time": "2023-03-10T14:13:00.970Z"
   },
   {
    "duration": 21,
    "start_time": "2023-03-10T14:13:11.329Z"
   },
   {
    "duration": 18,
    "start_time": "2023-03-10T14:14:04.663Z"
   },
   {
    "duration": 3,
    "start_time": "2023-03-10T14:17:43.254Z"
   },
   {
    "duration": 6,
    "start_time": "2023-03-10T14:19:37.501Z"
   },
   {
    "duration": 16,
    "start_time": "2023-03-10T17:32:29.086Z"
   },
   {
    "duration": 13,
    "start_time": "2023-03-10T17:33:49.879Z"
   },
   {
    "duration": 6,
    "start_time": "2023-03-10T17:34:03.094Z"
   },
   {
    "duration": 7,
    "start_time": "2023-03-10T17:34:18.462Z"
   },
   {
    "duration": 14,
    "start_time": "2023-03-10T17:35:25.053Z"
   },
   {
    "duration": 22,
    "start_time": "2023-03-10T17:41:28.108Z"
   },
   {
    "duration": 15,
    "start_time": "2023-03-10T17:41:51.024Z"
   },
   {
    "duration": 7,
    "start_time": "2023-03-10T17:44:32.958Z"
   },
   {
    "duration": 9,
    "start_time": "2023-03-10T17:44:58.783Z"
   },
   {
    "duration": 1100,
    "start_time": "2023-03-10T17:45:22.886Z"
   },
   {
    "duration": 38,
    "start_time": "2023-03-10T17:45:23.989Z"
   },
   {
    "duration": 20,
    "start_time": "2023-03-10T17:45:24.030Z"
   },
   {
    "duration": 32,
    "start_time": "2023-03-10T17:45:24.053Z"
   },
   {
    "duration": 5,
    "start_time": "2023-03-10T17:45:24.088Z"
   },
   {
    "duration": 9,
    "start_time": "2023-03-10T17:45:32.509Z"
   },
   {
    "duration": 6,
    "start_time": "2023-03-10T17:46:53.094Z"
   },
   {
    "duration": 4,
    "start_time": "2023-03-10T17:47:01.348Z"
   },
   {
    "duration": 6,
    "start_time": "2023-03-10T17:47:25.356Z"
   },
   {
    "duration": 129,
    "start_time": "2023-03-10T17:53:52.260Z"
   },
   {
    "duration": 7,
    "start_time": "2023-03-10T17:54:13.758Z"
   },
   {
    "duration": 12,
    "start_time": "2023-03-10T17:55:22.361Z"
   },
   {
    "duration": 6,
    "start_time": "2023-03-10T17:55:59.904Z"
   },
   {
    "duration": 9,
    "start_time": "2023-03-10T17:56:05.884Z"
   },
   {
    "duration": 9,
    "start_time": "2023-03-10T17:56:06.781Z"
   },
   {
    "duration": 1323,
    "start_time": "2023-03-10T17:56:33.531Z"
   },
   {
    "duration": 31,
    "start_time": "2023-03-10T17:56:34.856Z"
   },
   {
    "duration": 12,
    "start_time": "2023-03-10T17:56:34.889Z"
   },
   {
    "duration": 32,
    "start_time": "2023-03-10T17:56:34.903Z"
   },
   {
    "duration": 5,
    "start_time": "2023-03-10T17:56:34.937Z"
   },
   {
    "duration": 11,
    "start_time": "2023-03-10T17:56:34.946Z"
   },
   {
    "duration": 121,
    "start_time": "2023-03-10T17:56:34.959Z"
   },
   {
    "duration": 7,
    "start_time": "2023-03-10T17:56:56.955Z"
   },
   {
    "duration": 1132,
    "start_time": "2023-03-10T17:57:08.039Z"
   },
   {
    "duration": 30,
    "start_time": "2023-03-10T17:57:09.173Z"
   },
   {
    "duration": 21,
    "start_time": "2023-03-10T17:57:09.205Z"
   },
   {
    "duration": 29,
    "start_time": "2023-03-10T17:57:09.228Z"
   },
   {
    "duration": 4,
    "start_time": "2023-03-10T17:57:09.259Z"
   },
   {
    "duration": 125,
    "start_time": "2023-03-10T17:57:09.265Z"
   },
   {
    "duration": 0,
    "start_time": "2023-03-10T17:57:09.391Z"
   },
   {
    "duration": 8,
    "start_time": "2023-03-10T17:57:25.675Z"
   },
   {
    "duration": 7,
    "start_time": "2023-03-10T17:58:20.495Z"
   },
   {
    "duration": 9,
    "start_time": "2023-03-10T17:58:20.840Z"
   },
   {
    "duration": 4,
    "start_time": "2023-03-10T17:58:49.274Z"
   },
   {
    "duration": 7,
    "start_time": "2023-03-10T18:00:27.104Z"
   },
   {
    "duration": 4,
    "start_time": "2023-03-10T18:00:28.192Z"
   },
   {
    "duration": 1309,
    "start_time": "2023-03-10T18:00:40.766Z"
   },
   {
    "duration": 34,
    "start_time": "2023-03-10T18:00:42.077Z"
   },
   {
    "duration": 26,
    "start_time": "2023-03-10T18:00:42.118Z"
   },
   {
    "duration": 25,
    "start_time": "2023-03-10T18:00:42.149Z"
   },
   {
    "duration": 4,
    "start_time": "2023-03-10T18:00:42.176Z"
   },
   {
    "duration": 8,
    "start_time": "2023-03-10T18:00:42.182Z"
   },
   {
    "duration": 6,
    "start_time": "2023-03-10T18:00:42.192Z"
   },
   {
    "duration": 87,
    "start_time": "2023-03-10T18:14:00.904Z"
   },
   {
    "duration": 80,
    "start_time": "2023-03-10T18:17:12.855Z"
   },
   {
    "duration": 94,
    "start_time": "2023-03-10T18:17:20.806Z"
   },
   {
    "duration": 80,
    "start_time": "2023-03-10T18:17:30.776Z"
   },
   {
    "duration": 85,
    "start_time": "2023-03-10T18:17:35.543Z"
   },
   {
    "duration": 76,
    "start_time": "2023-03-10T18:17:51.945Z"
   },
   {
    "duration": 78,
    "start_time": "2023-03-10T18:17:56.206Z"
   },
   {
    "duration": 109,
    "start_time": "2023-03-10T18:18:07.745Z"
   },
   {
    "duration": 239,
    "start_time": "2023-03-10T18:19:14.308Z"
   },
   {
    "duration": 87,
    "start_time": "2023-03-10T18:19:31.764Z"
   },
   {
    "duration": 70,
    "start_time": "2023-03-10T18:20:56.037Z"
   },
   {
    "duration": 1069,
    "start_time": "2023-03-10T18:21:09.963Z"
   },
   {
    "duration": 75,
    "start_time": "2023-03-10T18:21:15.587Z"
   },
   {
    "duration": 51,
    "start_time": "2023-03-10T18:21:32.051Z"
   },
   {
    "duration": 79,
    "start_time": "2023-03-10T18:21:36.291Z"
   },
   {
    "duration": 66,
    "start_time": "2023-03-10T18:21:56.746Z"
   },
   {
    "duration": 17,
    "start_time": "2023-03-10T18:24:44.160Z"
   },
   {
    "duration": 21696,
    "start_time": "2023-03-10T18:25:11.254Z"
   },
   {
    "duration": 7508,
    "start_time": "2023-03-10T18:25:50.446Z"
   },
   {
    "duration": 2144,
    "start_time": "2023-03-10T18:26:09.350Z"
   },
   {
    "duration": 10859,
    "start_time": "2023-03-10T18:26:31.710Z"
   },
   {
    "duration": 2017,
    "start_time": "2023-03-10T18:30:39.546Z"
   },
   {
    "duration": 2097,
    "start_time": "2023-03-10T18:30:54.333Z"
   },
   {
    "duration": 104,
    "start_time": "2023-03-10T18:37:24.988Z"
   },
   {
    "duration": 65935,
    "start_time": "2023-03-10T18:37:45.372Z"
   },
   {
    "duration": 12088,
    "start_time": "2023-03-10T18:39:46.750Z"
   },
   {
    "duration": 12235,
    "start_time": "2023-03-10T18:40:19.170Z"
   },
   {
    "duration": 77,
    "start_time": "2023-03-10T18:42:52.000Z"
   },
   {
    "duration": 12180,
    "start_time": "2023-03-10T18:43:07.008Z"
   },
   {
    "duration": 1922,
    "start_time": "2023-03-10T18:59:14.435Z"
   },
   {
    "duration": 9,
    "start_time": "2023-03-10T19:00:34.394Z"
   },
   {
    "duration": 4,
    "start_time": "2023-03-10T19:00:35.401Z"
   },
   {
    "duration": 1089,
    "start_time": "2023-03-10T19:00:47.639Z"
   },
   {
    "duration": 32,
    "start_time": "2023-03-10T19:00:48.731Z"
   },
   {
    "duration": 13,
    "start_time": "2023-03-10T19:00:48.764Z"
   },
   {
    "duration": 18,
    "start_time": "2023-03-10T19:00:48.778Z"
   },
   {
    "duration": 4,
    "start_time": "2023-03-10T19:00:48.798Z"
   },
   {
    "duration": 21,
    "start_time": "2023-03-10T19:00:48.803Z"
   },
   {
    "duration": 18,
    "start_time": "2023-03-10T19:00:48.827Z"
   },
   {
    "duration": 178,
    "start_time": "2023-03-10T19:00:48.847Z"
   },
   {
    "duration": 0,
    "start_time": "2023-03-10T19:00:49.028Z"
   },
   {
    "duration": 0,
    "start_time": "2023-03-10T19:00:49.029Z"
   },
   {
    "duration": 101,
    "start_time": "2023-03-10T19:01:05.952Z"
   },
   {
    "duration": 12531,
    "start_time": "2023-03-10T19:01:08.768Z"
   },
   {
    "duration": 1526,
    "start_time": "2023-03-10T19:01:23.544Z"
   },
   {
    "duration": 1140,
    "start_time": "2023-03-10T19:01:58.311Z"
   },
   {
    "duration": 30,
    "start_time": "2023-03-10T19:01:59.453Z"
   },
   {
    "duration": 12,
    "start_time": "2023-03-10T19:01:59.485Z"
   },
   {
    "duration": 26,
    "start_time": "2023-03-10T19:01:59.500Z"
   },
   {
    "duration": 11,
    "start_time": "2023-03-10T19:01:59.528Z"
   },
   {
    "duration": 10,
    "start_time": "2023-03-10T19:01:59.541Z"
   },
   {
    "duration": 4,
    "start_time": "2023-03-10T19:01:59.557Z"
   },
   {
    "duration": 99,
    "start_time": "2023-03-10T19:01:59.563Z"
   },
   {
    "duration": 13448,
    "start_time": "2023-03-10T19:01:59.664Z"
   },
   {
    "duration": 56842,
    "start_time": "2023-03-10T19:02:13.116Z"
   },
   {
    "duration": 1115,
    "start_time": "2023-03-10T19:03:28.955Z"
   },
   {
    "duration": 31,
    "start_time": "2023-03-10T19:03:30.073Z"
   },
   {
    "duration": 17,
    "start_time": "2023-03-10T19:03:30.106Z"
   },
   {
    "duration": 39,
    "start_time": "2023-03-10T19:03:30.125Z"
   },
   {
    "duration": 23,
    "start_time": "2023-03-10T19:03:30.167Z"
   },
   {
    "duration": 34,
    "start_time": "2023-03-10T19:03:30.191Z"
   },
   {
    "duration": 28,
    "start_time": "2023-03-10T19:03:30.227Z"
   },
   {
    "duration": 108,
    "start_time": "2023-03-10T19:03:30.257Z"
   },
   {
    "duration": 12850,
    "start_time": "2023-03-10T19:03:30.367Z"
   },
   {
    "duration": 38741,
    "start_time": "2023-03-10T19:03:43.222Z"
   },
   {
    "duration": 1128,
    "start_time": "2023-03-10T19:04:32.186Z"
   },
   {
    "duration": 32,
    "start_time": "2023-03-10T19:04:33.321Z"
   },
   {
    "duration": 13,
    "start_time": "2023-03-10T19:04:33.355Z"
   },
   {
    "duration": 23,
    "start_time": "2023-03-10T19:04:33.369Z"
   },
   {
    "duration": 9,
    "start_time": "2023-03-10T19:04:33.394Z"
   },
   {
    "duration": 9,
    "start_time": "2023-03-10T19:04:33.405Z"
   },
   {
    "duration": 9,
    "start_time": "2023-03-10T19:04:33.416Z"
   },
   {
    "duration": 77,
    "start_time": "2023-03-10T19:04:33.428Z"
   },
   {
    "duration": 11689,
    "start_time": "2023-03-10T19:04:33.507Z"
   },
   {
    "duration": 2035,
    "start_time": "2023-03-10T19:05:04.949Z"
   },
   {
    "duration": 4003,
    "start_time": "2023-03-10T19:05:41.172Z"
   },
   {
    "duration": 183,
    "start_time": "2023-03-10T19:05:53.927Z"
   },
   {
    "duration": 1918,
    "start_time": "2023-03-10T19:06:02.244Z"
   },
   {
    "duration": 129,
    "start_time": "2023-03-10T19:07:58.979Z"
   },
   {
    "duration": 146,
    "start_time": "2023-03-10T19:08:10.554Z"
   },
   {
    "duration": 136,
    "start_time": "2023-03-10T19:09:26.535Z"
   },
   {
    "duration": 155,
    "start_time": "2023-03-10T19:09:35.970Z"
   },
   {
    "duration": 1141,
    "start_time": "2023-03-10T19:18:30.552Z"
   },
   {
    "duration": 48,
    "start_time": "2023-03-10T19:18:31.695Z"
   },
   {
    "duration": 10,
    "start_time": "2023-03-10T19:18:31.745Z"
   },
   {
    "duration": 33,
    "start_time": "2023-03-10T19:18:31.757Z"
   },
   {
    "duration": 3,
    "start_time": "2023-03-10T19:18:31.792Z"
   },
   {
    "duration": 11,
    "start_time": "2023-03-10T19:18:31.796Z"
   },
   {
    "duration": 28,
    "start_time": "2023-03-10T19:18:31.808Z"
   },
   {
    "duration": 148,
    "start_time": "2023-03-10T19:18:31.838Z"
   },
   {
    "duration": 11966,
    "start_time": "2023-03-10T19:18:31.987Z"
   },
   {
    "duration": 2110,
    "start_time": "2023-03-10T19:18:43.956Z"
   },
   {
    "duration": 8,
    "start_time": "2023-03-10T19:21:39.293Z"
   },
   {
    "duration": 7,
    "start_time": "2023-03-10T19:22:04.157Z"
   },
   {
    "duration": 19,
    "start_time": "2023-03-10T19:22:11.023Z"
   },
   {
    "duration": 21,
    "start_time": "2023-03-10T19:23:10.309Z"
   },
   {
    "duration": 9,
    "start_time": "2023-03-10T19:23:21.331Z"
   },
   {
    "duration": 160,
    "start_time": "2023-03-10T19:24:27.267Z"
   },
   {
    "duration": 11790,
    "start_time": "2023-03-10T19:24:55.243Z"
   },
   {
    "duration": 1895,
    "start_time": "2023-03-10T19:25:41.666Z"
   },
   {
    "duration": 6,
    "start_time": "2023-03-10T19:25:46.450Z"
   },
   {
    "duration": 15,
    "start_time": "2023-03-10T19:25:48.038Z"
   },
   {
    "duration": 6,
    "start_time": "2023-03-10T19:25:48.546Z"
   },
   {
    "duration": 15,
    "start_time": "2023-03-10T19:27:44.752Z"
   },
   {
    "duration": 8,
    "start_time": "2023-03-10T19:27:45.568Z"
   },
   {
    "duration": 1143,
    "start_time": "2023-03-10T19:28:35.485Z"
   },
   {
    "duration": 31,
    "start_time": "2023-03-10T19:28:36.630Z"
   },
   {
    "duration": 14,
    "start_time": "2023-03-10T19:28:36.662Z"
   },
   {
    "duration": 20,
    "start_time": "2023-03-10T19:28:36.678Z"
   },
   {
    "duration": 4,
    "start_time": "2023-03-10T19:28:36.701Z"
   },
   {
    "duration": 18,
    "start_time": "2023-03-10T19:28:36.707Z"
   },
   {
    "duration": 4,
    "start_time": "2023-03-10T19:28:36.733Z"
   },
   {
    "duration": 149,
    "start_time": "2023-03-10T19:28:36.739Z"
   },
   {
    "duration": 12070,
    "start_time": "2023-03-10T19:28:36.890Z"
   },
   {
    "duration": 139,
    "start_time": "2023-03-10T19:28:48.961Z"
   },
   {
    "duration": 0,
    "start_time": "2023-03-10T19:28:49.102Z"
   },
   {
    "duration": 0,
    "start_time": "2023-03-10T19:28:49.103Z"
   },
   {
    "duration": 0,
    "start_time": "2023-03-10T19:28:49.104Z"
   },
   {
    "duration": 2081,
    "start_time": "2023-03-10T19:28:59.503Z"
   },
   {
    "duration": 6,
    "start_time": "2023-03-10T19:29:03.944Z"
   },
   {
    "duration": 15,
    "start_time": "2023-03-10T19:29:04.567Z"
   },
   {
    "duration": 7,
    "start_time": "2023-03-10T19:29:05.263Z"
   },
   {
    "duration": 3,
    "start_time": "2023-03-10T20:51:33.381Z"
   },
   {
    "duration": 8,
    "start_time": "2023-03-10T20:54:08.467Z"
   },
   {
    "duration": 6,
    "start_time": "2023-03-10T20:54:27.482Z"
   },
   {
    "duration": 8,
    "start_time": "2023-03-10T20:54:28.394Z"
   },
   {
    "duration": 9,
    "start_time": "2023-03-10T20:54:30.178Z"
   },
   {
    "duration": 5,
    "start_time": "2023-03-10T20:54:33.050Z"
   },
   {
    "duration": 9,
    "start_time": "2023-03-10T20:54:51.919Z"
   },
   {
    "duration": 7,
    "start_time": "2023-03-10T20:55:27.778Z"
   },
   {
    "duration": 7,
    "start_time": "2023-03-10T20:55:42.698Z"
   },
   {
    "duration": 6,
    "start_time": "2023-03-10T20:55:47.034Z"
   },
   {
    "duration": 6,
    "start_time": "2023-03-10T20:56:11.241Z"
   },
   {
    "duration": 11,
    "start_time": "2023-03-10T20:56:39.219Z"
   },
   {
    "duration": 8,
    "start_time": "2023-03-10T20:57:24.257Z"
   },
   {
    "duration": 6,
    "start_time": "2023-03-10T20:57:25.040Z"
   },
   {
    "duration": 9,
    "start_time": "2023-03-10T20:57:41.024Z"
   },
   {
    "duration": 8,
    "start_time": "2023-03-10T20:57:41.392Z"
   },
   {
    "duration": 8,
    "start_time": "2023-03-10T20:57:41.725Z"
   },
   {
    "duration": 74,
    "start_time": "2023-03-10T21:02:13.911Z"
   },
   {
    "duration": 7,
    "start_time": "2023-03-10T21:09:23.000Z"
   },
   {
    "duration": 13,
    "start_time": "2023-03-10T21:10:06.806Z"
   },
   {
    "duration": 6,
    "start_time": "2023-03-10T21:10:07.750Z"
   },
   {
    "duration": 7,
    "start_time": "2023-03-10T21:24:41.225Z"
   },
   {
    "duration": 8,
    "start_time": "2023-03-10T21:24:47.801Z"
   },
   {
    "duration": 7,
    "start_time": "2023-03-10T21:25:30.993Z"
   },
   {
    "duration": 7,
    "start_time": "2023-03-10T21:25:31.729Z"
   },
   {
    "duration": 6,
    "start_time": "2023-03-10T21:25:32.281Z"
   },
   {
    "duration": 77,
    "start_time": "2023-03-10T21:26:31.091Z"
   },
   {
    "duration": 1095,
    "start_time": "2023-03-10T21:46:53.153Z"
   },
   {
    "duration": 29,
    "start_time": "2023-03-10T21:46:54.251Z"
   },
   {
    "duration": 11,
    "start_time": "2023-03-10T21:46:54.282Z"
   },
   {
    "duration": 24,
    "start_time": "2023-03-10T21:46:54.294Z"
   },
   {
    "duration": 7,
    "start_time": "2023-03-10T21:46:54.321Z"
   },
   {
    "duration": 6,
    "start_time": "2023-03-10T21:46:54.329Z"
   },
   {
    "duration": 7,
    "start_time": "2023-03-10T21:46:54.337Z"
   },
   {
    "duration": 146,
    "start_time": "2023-03-10T21:46:54.346Z"
   },
   {
    "duration": 11335,
    "start_time": "2023-03-10T21:46:54.494Z"
   },
   {
    "duration": 1972,
    "start_time": "2023-03-10T21:47:05.831Z"
   },
   {
    "duration": 25,
    "start_time": "2023-03-10T21:47:07.804Z"
   },
   {
    "duration": 16,
    "start_time": "2023-03-10T21:47:07.832Z"
   },
   {
    "duration": 7,
    "start_time": "2023-03-10T21:47:07.850Z"
   },
   {
    "duration": 8,
    "start_time": "2023-03-10T21:47:07.861Z"
   },
   {
    "duration": 7,
    "start_time": "2023-03-10T21:47:07.870Z"
   },
   {
    "duration": 6,
    "start_time": "2023-03-10T21:47:07.878Z"
   },
   {
    "duration": 8,
    "start_time": "2023-03-10T22:30:33.766Z"
   },
   {
    "duration": 9,
    "start_time": "2023-03-10T22:30:41.214Z"
   },
   {
    "duration": 8,
    "start_time": "2023-03-10T22:30:44.559Z"
   },
   {
    "duration": 7,
    "start_time": "2023-03-10T22:30:51.358Z"
   },
   {
    "duration": 7,
    "start_time": "2023-03-10T22:30:59.342Z"
   },
   {
    "duration": 8,
    "start_time": "2023-03-10T22:31:33.063Z"
   },
   {
    "duration": 1069,
    "start_time": "2023-03-10T22:34:51.646Z"
   },
   {
    "duration": 32,
    "start_time": "2023-03-10T22:34:52.717Z"
   },
   {
    "duration": 13,
    "start_time": "2023-03-10T22:34:52.751Z"
   },
   {
    "duration": 25,
    "start_time": "2023-03-10T22:34:52.766Z"
   },
   {
    "duration": 4,
    "start_time": "2023-03-10T22:34:52.795Z"
   },
   {
    "duration": 13,
    "start_time": "2023-03-10T22:34:52.802Z"
   },
   {
    "duration": 6,
    "start_time": "2023-03-10T22:34:52.817Z"
   },
   {
    "duration": 189,
    "start_time": "2023-03-10T22:34:52.825Z"
   },
   {
    "duration": 10939,
    "start_time": "2023-03-10T22:34:53.015Z"
   },
   {
    "duration": 2070,
    "start_time": "2023-03-10T22:35:03.956Z"
   },
   {
    "duration": 9,
    "start_time": "2023-03-10T22:35:06.030Z"
   },
   {
    "duration": 19,
    "start_time": "2023-03-10T22:35:06.041Z"
   },
   {
    "duration": 9,
    "start_time": "2023-03-10T22:35:06.062Z"
   },
   {
    "duration": 36,
    "start_time": "2023-03-10T22:35:06.076Z"
   },
   {
    "duration": 7,
    "start_time": "2023-03-10T22:35:06.114Z"
   },
   {
    "duration": 8,
    "start_time": "2023-03-10T22:35:06.123Z"
   }
  ],
  "kernelspec": {
   "display_name": "Python 3 (ipykernel)",
   "language": "python",
   "name": "python3"
  },
  "language_info": {
   "codemirror_mode": {
    "name": "ipython",
    "version": 3
   },
   "file_extension": ".py",
   "mimetype": "text/x-python",
   "name": "python",
   "nbconvert_exporter": "python",
   "pygments_lexer": "ipython3",
   "version": "3.9.5"
  },
  "toc": {
   "base_numbering": 1,
   "nav_menu": {},
   "number_sections": true,
   "sideBar": true,
   "skip_h1_title": true,
   "title_cell": "Table of Contents",
   "title_sidebar": "Contents",
   "toc_cell": false,
   "toc_position": {},
   "toc_section_display": true,
   "toc_window_display": true
  }
 },
 "nbformat": 4,
 "nbformat_minor": 2
}
