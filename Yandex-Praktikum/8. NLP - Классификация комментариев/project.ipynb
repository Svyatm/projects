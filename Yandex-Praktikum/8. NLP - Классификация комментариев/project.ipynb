{
 "cells": [
  {
   "cell_type": "markdown",
   "metadata": {},
   "source": [
    "# Проект для «Викишоп»"
   ]
  },
  {
   "cell_type": "markdown",
   "metadata": {},
   "source": [
    "Интернет-магазин «Викишоп» запускает новый сервис. Теперь пользователи могут редактировать и дополнять описания товаров, как в вики-сообществах. То есть клиенты предлагают свои правки и комментируют изменения других. Магазину нужен инструмент, который будет искать токсичные комментарии и отправлять их на модерацию. \n",
    "\n",
    "Обучите модель классифицировать комментарии на позитивные и негативные. В вашем распоряжении набор данных с разметкой о токсичности правок.\n",
    "\n",
    "Постройте модель со значением метрики качества *F1* не меньше 0.75. \n",
    "\n",
    "**Инструкция по выполнению проекта**\n",
    "\n",
    "1. Загрузите и подготовьте данные.\n",
    "2. Обучите разные модели. \n",
    "3. Сделайте выводы.\n",
    "\n",
    "\n",
    "**Описание данных**\n",
    "\n",
    "Данные находятся в файле `toxic_comments.csv`. Столбец *text* в нём содержит текст комментария, а *toxic* — целевой признак."
   ]
  },
  {
   "cell_type": "markdown",
   "metadata": {},
   "source": [
    "## Подготовка"
   ]
  },
  {
   "cell_type": "code",
   "execution_count": 1,
   "metadata": {},
   "outputs": [],
   "source": [
    "#Импортируем библиотеки\n",
    "import re\n",
    "import nltk\n",
    "import spacy\n",
    "import pandas as pd\n",
    "from nltk.corpus import stopwords\n",
    "from nltk.tokenize import TweetTokenizer\n",
    "from lightgbm import LGBMClassifier\n",
    "from sklearn.metrics import f1_score\n",
    "from sklearn.pipeline import Pipeline\n",
    "from sklearn.linear_model import LogisticRegression\n",
    "from sklearn.tree import DecisionTreeClassifier\n",
    "from sklearn.model_selection import RandomizedSearchCV, train_test_split\n",
    "from sklearn.feature_extraction.text import TfidfVectorizer\n",
    "import warnings\n",
    "\n",
    "warnings.filterwarnings('ignore')\n",
    "nlp = spacy.load('en_core_web_sm')"
   ]
  },
  {
   "cell_type": "code",
   "execution_count": 2,
   "metadata": {},
   "outputs": [],
   "source": [
    "#Загружаем данные в переменную df\n",
    "df = pd.read_csv('/datasets/toxic_comments.csv')"
   ]
  },
  {
   "cell_type": "code",
   "execution_count": 3,
   "metadata": {},
   "outputs": [
    {
     "name": "stdout",
     "output_type": "stream",
     "text": [
      "<class 'pandas.core.frame.DataFrame'>\n",
      "RangeIndex: 159292 entries, 0 to 159291\n",
      "Data columns (total 3 columns):\n",
      " #   Column      Non-Null Count   Dtype \n",
      "---  ------      --------------   ----- \n",
      " 0   Unnamed: 0  159292 non-null  int64 \n",
      " 1   text        159292 non-null  object\n",
      " 2   toxic       159292 non-null  int64 \n",
      "dtypes: int64(2), object(1)\n",
      "memory usage: 3.6+ MB\n"
     ]
    },
    {
     "data": {
      "text/html": [
       "<div>\n",
       "<style scoped>\n",
       "    .dataframe tbody tr th:only-of-type {\n",
       "        vertical-align: middle;\n",
       "    }\n",
       "\n",
       "    .dataframe tbody tr th {\n",
       "        vertical-align: top;\n",
       "    }\n",
       "\n",
       "    .dataframe thead th {\n",
       "        text-align: right;\n",
       "    }\n",
       "</style>\n",
       "<table border=\"1\" class=\"dataframe\">\n",
       "  <thead>\n",
       "    <tr style=\"text-align: right;\">\n",
       "      <th></th>\n",
       "      <th>Unnamed: 0</th>\n",
       "      <th>text</th>\n",
       "      <th>toxic</th>\n",
       "    </tr>\n",
       "  </thead>\n",
       "  <tbody>\n",
       "    <tr>\n",
       "      <th>64209</th>\n",
       "      <td>64276</td>\n",
       "      <td>Spoken article? \\n\\nIf I read the whole thing ...</td>\n",
       "      <td>0</td>\n",
       "    </tr>\n",
       "    <tr>\n",
       "      <th>114296</th>\n",
       "      <td>114394</td>\n",
       "      <td>}}\\n{{onlinesource\\n| small = yes\\n| title = O...</td>\n",
       "      <td>0</td>\n",
       "    </tr>\n",
       "    <tr>\n",
       "      <th>44145</th>\n",
       "      <td>44198</td>\n",
       "      <td>June 2010 \\n Please stop. If you continue to i...</td>\n",
       "      <td>0</td>\n",
       "    </tr>\n",
       "    <tr>\n",
       "      <th>49407</th>\n",
       "      <td>49462</td>\n",
       "      <td>I've completed fleshing out the cites, attempt...</td>\n",
       "      <td>0</td>\n",
       "    </tr>\n",
       "    <tr>\n",
       "      <th>21135</th>\n",
       "      <td>21155</td>\n",
       "      <td>\"::*Just once, excuse me. talk \\n\\n\"</td>\n",
       "      <td>0</td>\n",
       "    </tr>\n",
       "  </tbody>\n",
       "</table>\n",
       "</div>"
      ],
      "text/plain": [
       "        Unnamed: 0                                               text  toxic\n",
       "64209        64276  Spoken article? \\n\\nIf I read the whole thing ...      0\n",
       "114296      114394  }}\\n{{onlinesource\\n| small = yes\\n| title = O...      0\n",
       "44145        44198  June 2010 \\n Please stop. If you continue to i...      0\n",
       "49407        49462  I've completed fleshing out the cites, attempt...      0\n",
       "21135        21155               \"::*Just once, excuse me. talk \\n\\n\"      0"
      ]
     },
     "execution_count": 3,
     "metadata": {},
     "output_type": "execute_result"
    }
   ],
   "source": [
    "#Знакомимся с данными\n",
    "df.info()\n",
    "df.sample(5)"
   ]
  },
  {
   "cell_type": "code",
   "execution_count": 4,
   "metadata": {},
   "outputs": [
    {
     "data": {
      "text/plain": [
       "0"
      ]
     },
     "execution_count": 4,
     "metadata": {},
     "output_type": "execute_result"
    }
   ],
   "source": [
    "#Проверим наличие дубликатов\n",
    "df.duplicated().sum()"
   ]
  },
  {
   "cell_type": "markdown",
   "metadata": {},
   "source": [
    "Дубликатов нет, пропусков тоже. А вот столбец `Unnamed: 0`, похоже, лишний - удалим его."
   ]
  },
  {
   "cell_type": "code",
   "execution_count": 5,
   "metadata": {},
   "outputs": [
    {
     "name": "stdout",
     "output_type": "stream",
     "text": [
      "<class 'pandas.core.frame.DataFrame'>\n",
      "RangeIndex: 159292 entries, 0 to 159291\n",
      "Data columns (total 2 columns):\n",
      " #   Column  Non-Null Count   Dtype \n",
      "---  ------  --------------   ----- \n",
      " 0   text    159292 non-null  object\n",
      " 1   toxic   159292 non-null  int64 \n",
      "dtypes: int64(1), object(1)\n",
      "memory usage: 2.4+ MB\n"
     ]
    }
   ],
   "source": [
    "#Удаляем столбец\n",
    "df = df.drop('Unnamed: 0', axis=1)\n",
    "\n",
    "#Проверяем\n",
    "df.info()"
   ]
  },
  {
   "cell_type": "code",
   "execution_count": 6,
   "metadata": {},
   "outputs": [
    {
     "data": {
      "text/plain": [
       "0    143106\n",
       "1     16186\n",
       "Name: toxic, dtype: int64"
      ]
     },
     "execution_count": 6,
     "metadata": {},
     "output_type": "execute_result"
    }
   ],
   "source": [
    "#Проверяем значения столбца\n",
    "df['toxic'].value_counts()"
   ]
  },
  {
   "cell_type": "code",
   "execution_count": 7,
   "metadata": {},
   "outputs": [],
   "source": [
    "#Пишем функцию для очистки текста\n",
    "def clean(text):\n",
    "    text = text.lower()\n",
    "    text = re.sub(r'(?:\\n|\\r)', ' ', text)\n",
    "    text = re.sub(r'http\\S+', ' ', text)\n",
    "    text = re.sub(r'#\\w+',' ', text)\n",
    "    text = re.sub(r'@\\w+',' ', text)\n",
    "    text = re.sub(r'<.*?>',' ', text)\n",
    "    text = re.sub(r'\\d+',' ', text)\n",
    "    text = re.sub(r'[^\\w\\s]',' ', text)\n",
    "    text = re.sub(r'[^a-zA-Z ]+', '', text).strip()    \n",
    "    return text"
   ]
  },
  {
   "cell_type": "code",
   "execution_count": 8,
   "metadata": {},
   "outputs": [
    {
     "data": {
      "text/plain": [
       "0    explanation why the edits made under my userna...\n",
       "1    d aww  he matches this background colour i m s...\n",
       "2    hey man  i m really not trying to edit war  it...\n",
       "3    more i can t make any real suggestions on impr...\n",
       "4    you  sir  are my hero  any chance you remember...\n",
       "5    congratulations from me as well  use the tools...\n",
       "6         cocksucker before you piss around on my work\n",
       "7    your vandalism to the matt shirvington article...\n",
       "8    sorry if the word  nonsense  was offensive to ...\n",
       "9    alignment on this subject and which are contra...\n",
       "Name: clean, dtype: object"
      ]
     },
     "execution_count": 8,
     "metadata": {},
     "output_type": "execute_result"
    }
   ],
   "source": [
    "#Чистим и проверяем\n",
    "df['clean'] = df['text'].apply(clean)\n",
    "df['clean'].head(10)"
   ]
  },
  {
   "cell_type": "code",
   "execution_count": 10,
   "metadata": {},
   "outputs": [],
   "source": [
    "#Пишем функцию для лемматизации через spaCy\n",
    "def lemmatize_text(text):\n",
    "    doc = nlp(text)\n",
    "    lemmas = [token.lemma_ for token in doc]\n",
    "    return ' '.join(lemmas)"
   ]
  },
  {
   "cell_type": "code",
   "execution_count": 11,
   "metadata": {},
   "outputs": [
    {
     "data": {
      "text/html": [
       "<div>\n",
       "<style scoped>\n",
       "    .dataframe tbody tr th:only-of-type {\n",
       "        vertical-align: middle;\n",
       "    }\n",
       "\n",
       "    .dataframe tbody tr th {\n",
       "        vertical-align: top;\n",
       "    }\n",
       "\n",
       "    .dataframe thead th {\n",
       "        text-align: right;\n",
       "    }\n",
       "</style>\n",
       "<table border=\"1\" class=\"dataframe\">\n",
       "  <thead>\n",
       "    <tr style=\"text-align: right;\">\n",
       "      <th></th>\n",
       "      <th>text</th>\n",
       "      <th>toxic</th>\n",
       "      <th>clean</th>\n",
       "      <th>lemma</th>\n",
       "    </tr>\n",
       "  </thead>\n",
       "  <tbody>\n",
       "    <tr>\n",
       "      <th>131683</th>\n",
       "      <td>Oh, it's worse than rants, it's a rampage of i...</td>\n",
       "      <td>0</td>\n",
       "      <td>oh  it s worse than rants  it s a rampage of i...</td>\n",
       "      <td>oh   it s bad than rant   it s a rampage of ir...</td>\n",
       "    </tr>\n",
       "    <tr>\n",
       "      <th>5274</th>\n",
       "      <td>This is my first experience typing in Wikipedia.</td>\n",
       "      <td>0</td>\n",
       "      <td>this is my first experience typing in wikipedia</td>\n",
       "      <td>this be my first experience type in wikipedia</td>\n",
       "    </tr>\n",
       "    <tr>\n",
       "      <th>32754</th>\n",
       "      <td>\"== Your edit to Talk:China. ==\\n\\nPlease stop...</td>\n",
       "      <td>0</td>\n",
       "      <td>your edit to talk china      please stop  if y...</td>\n",
       "      <td>your edit to talk china       please stop   if...</td>\n",
       "    </tr>\n",
       "    <tr>\n",
       "      <th>57227</th>\n",
       "      <td>\"\\n\\n I'm going to have to pick up the cluesti...</td>\n",
       "      <td>0</td>\n",
       "      <td>i m going to have to pick up the cluestick ins...</td>\n",
       "      <td>I m go to have to pick up the cluestick instea...</td>\n",
       "    </tr>\n",
       "    <tr>\n",
       "      <th>130174</th>\n",
       "      <td>Misc Activities \\n\\nBETA\\nBeta is a business a...</td>\n",
       "      <td>0</td>\n",
       "      <td>misc activities   beta beta is a business acad...</td>\n",
       "      <td>misc activity    beta beta be a business acade...</td>\n",
       "    </tr>\n",
       "    <tr>\n",
       "      <th>153803</th>\n",
       "      <td>Wasn't meant as a gibe.  Serious point.  Love ...</td>\n",
       "      <td>0</td>\n",
       "      <td>wasn t meant as a gibe   serious point   love ...</td>\n",
       "      <td>wasn t mean as a gibe    serious point    love...</td>\n",
       "    </tr>\n",
       "    <tr>\n",
       "      <th>152837</th>\n",
       "      <td>\"\\n\\nI am sorry but the text you are adding to...</td>\n",
       "      <td>0</td>\n",
       "      <td>i am sorry but the text you are adding to the ...</td>\n",
       "      <td>I be sorry but the text you be add to the arti...</td>\n",
       "    </tr>\n",
       "    <tr>\n",
       "      <th>48749</th>\n",
       "      <td>\"\\n\\nI'd have to disagree, we've had this exac...</td>\n",
       "      <td>0</td>\n",
       "      <td>i d have to disagree  we ve had this exact dis...</td>\n",
       "      <td>I d have to disagree   we ve have this exact d...</td>\n",
       "    </tr>\n",
       "    <tr>\n",
       "      <th>39258</th>\n",
       "      <td>Please stop. If you continue to vandalize Wiki...</td>\n",
       "      <td>0</td>\n",
       "      <td>please stop  if you continue to vandalize wiki...</td>\n",
       "      <td>please stop   if you continue to vandalize wik...</td>\n",
       "    </tr>\n",
       "    <tr>\n",
       "      <th>4954</th>\n",
       "      <td>\"\\n\\nFair use rationale for Image:A_to_Z_(Butt...</td>\n",
       "      <td>0</td>\n",
       "      <td>fair use rationale for image atoz butterfinger...</td>\n",
       "      <td>fair use rationale for image atoz butterfinger...</td>\n",
       "    </tr>\n",
       "  </tbody>\n",
       "</table>\n",
       "</div>"
      ],
      "text/plain": [
       "                                                     text  toxic  \\\n",
       "131683  Oh, it's worse than rants, it's a rampage of i...      0   \n",
       "5274     This is my first experience typing in Wikipedia.      0   \n",
       "32754   \"== Your edit to Talk:China. ==\\n\\nPlease stop...      0   \n",
       "57227   \"\\n\\n I'm going to have to pick up the cluesti...      0   \n",
       "130174  Misc Activities \\n\\nBETA\\nBeta is a business a...      0   \n",
       "153803  Wasn't meant as a gibe.  Serious point.  Love ...      0   \n",
       "152837  \"\\n\\nI am sorry but the text you are adding to...      0   \n",
       "48749   \"\\n\\nI'd have to disagree, we've had this exac...      0   \n",
       "39258   Please stop. If you continue to vandalize Wiki...      0   \n",
       "4954    \"\\n\\nFair use rationale for Image:A_to_Z_(Butt...      0   \n",
       "\n",
       "                                                    clean  \\\n",
       "131683  oh  it s worse than rants  it s a rampage of i...   \n",
       "5274      this is my first experience typing in wikipedia   \n",
       "32754   your edit to talk china      please stop  if y...   \n",
       "57227   i m going to have to pick up the cluestick ins...   \n",
       "130174  misc activities   beta beta is a business acad...   \n",
       "153803  wasn t meant as a gibe   serious point   love ...   \n",
       "152837  i am sorry but the text you are adding to the ...   \n",
       "48749   i d have to disagree  we ve had this exact dis...   \n",
       "39258   please stop  if you continue to vandalize wiki...   \n",
       "4954    fair use rationale for image atoz butterfinger...   \n",
       "\n",
       "                                                    lemma  \n",
       "131683  oh   it s bad than rant   it s a rampage of ir...  \n",
       "5274        this be my first experience type in wikipedia  \n",
       "32754   your edit to talk china       please stop   if...  \n",
       "57227   I m go to have to pick up the cluestick instea...  \n",
       "130174  misc activity    beta beta be a business acade...  \n",
       "153803  wasn t mean as a gibe    serious point    love...  \n",
       "152837  I be sorry but the text you be add to the arti...  \n",
       "48749   I d have to disagree   we ve have this exact d...  \n",
       "39258   please stop   if you continue to vandalize wik...  \n",
       "4954    fair use rationale for image atoz butterfinger...  "
      ]
     },
     "execution_count": 11,
     "metadata": {},
     "output_type": "execute_result"
    }
   ],
   "source": [
    "# Применяем функцию и проверяем\n",
    "df['lemma'] = df['clean'].apply(lemmatize_text)\n",
    "df.sample(10)"
   ]
  },
  {
   "cell_type": "markdown",
   "metadata": {},
   "source": [
    "Мы очистили данные от лишних символов, привели их к нижнему регистру, токенизировали и лемматизировали с pos-тегами. Настало время разделить данные на `features` и `target`, векторизировать и обучить модели."
   ]
  },
  {
   "cell_type": "markdown",
   "metadata": {},
   "source": [
    "## Обучение"
   ]
  },
  {
   "cell_type": "code",
   "execution_count": 13,
   "metadata": {},
   "outputs": [],
   "source": [
    "#Создаем переменные features и target\n",
    "features = df['lemma']\n",
    "target = df['toxic']"
   ]
  },
  {
   "cell_type": "code",
   "execution_count": 14,
   "metadata": {},
   "outputs": [
    {
     "name": "stdout",
     "output_type": "stream",
     "text": [
      "(127433,)\n",
      "(127433,)\n",
      "(31859,)\n",
      "(31859,)\n"
     ]
    }
   ],
   "source": [
    "#Делим на обучающую и тестовую выборки\n",
    "features_train, features_test, target_train, target_test = train_test_split(\n",
    "    features,\n",
    "    target,\n",
    "    test_size=0.2,\n",
    "    random_state=12345,\n",
    "    stratify=target)\n",
    "\n",
    "#Проверяем\n",
    "print(features_train.shape)\n",
    "print(target_train.shape)\n",
    "print(features_test.shape)\n",
    "print(target_test.shape)"
   ]
  },
  {
   "cell_type": "code",
   "execution_count": 15,
   "metadata": {},
   "outputs": [],
   "source": [
    "#Задаем переменную для стоп-слов\n",
    "stop_words = set(stopwords.words('english'))"
   ]
  },
  {
   "cell_type": "code",
   "execution_count": 16,
   "metadata": {},
   "outputs": [],
   "source": [
    "#Создаем векторизатор\n",
    "vectorizer = TfidfVectorizer(stop_words=stop_words, ngram_range=(1,2))"
   ]
  },
  {
   "cell_type": "code",
   "execution_count": 17,
   "metadata": {},
   "outputs": [],
   "source": [
    "#Переводим признаки в векторный вид\n",
    "features_train_vectorized = vectorizer.fit_transform(features_train)\n",
    "features_test_vectorized = vectorizer.transform(features_test)"
   ]
  },
  {
   "cell_type": "code",
   "execution_count": 18,
   "metadata": {},
   "outputs": [
    {
     "name": "stdout",
     "output_type": "stream",
     "text": [
      "Лучшее значение F1 модели логистической регрессии: 0.763\n"
     ]
    }
   ],
   "source": [
    "#Обучим логистическую регрессию\n",
    "params_lr = {\n",
    "    'class_weight':['balanced'],\n",
    "    'max_iter': [500],\n",
    "    'solver': ['liblinear', 'lbfgs']\n",
    "}\n",
    "\n",
    "lr = LogisticRegression(random_state=12345)\n",
    "\n",
    "random_lr = RandomizedSearchCV(\n",
    "    lr,\n",
    "    param_distributions=params_lr,\n",
    "    scoring='f1',\n",
    "    cv=5)\n",
    "\n",
    "random_lr.fit(features_train_vectorized, target_train)\n",
    "best_lr_score = round(random_lr.best_score_, 3)\n",
    "\n",
    "print(f'Лучшее значение F1 модели логистической регрессии: {best_lr_score}')"
   ]
  },
  {
   "cell_type": "code",
   "execution_count": 19,
   "metadata": {},
   "outputs": [
    {
     "name": "stdout",
     "output_type": "stream",
     "text": [
      "Лучшее значение F1 модели дерева решений: 0.43\n"
     ]
    }
   ],
   "source": [
    "#Обучим дерево решений\n",
    "params_tree = {'max_depth': [1, 3]}\n",
    "\n",
    "tree = DecisionTreeClassifier(random_state=12345)\n",
    "\n",
    "random_tree = RandomizedSearchCV(\n",
    "    tree,\n",
    "    param_distributions=params_tree,\n",
    "    scoring='f1',\n",
    "    cv=2)\n",
    "\n",
    "random_tree.fit(features_train_vectorized, target_train)\n",
    "best_tree_score = round(random_tree.best_score_, 3)\n",
    "\n",
    "print(f'Лучшее значение F1 модели дерева решений: {best_tree_score}')"
   ]
  },
  {
   "cell_type": "code",
   "execution_count": 20,
   "metadata": {},
   "outputs": [
    {
     "name": "stdout",
     "output_type": "stream",
     "text": [
      "Лучшее значение F1 модели LGMBClassifier: 0.351\n"
     ]
    }
   ],
   "source": [
    "#Обучим модель LGBMClassifier\n",
    "params_lgbmc = {\n",
    "    'max_depth': [1, 3],\n",
    "    'learning_rate': [0.1],\n",
    "    'num_leaves': [3],\n",
    "    'n_estimators': [20]}\n",
    "\n",
    "lgbmc = LGBMClassifier(random_state=12345)\n",
    "    \n",
    "random_lgbmc = RandomizedSearchCV(\n",
    "    lgbmc,\n",
    "    param_distributions=params_lgbmc,\n",
    "    scoring='f1',\n",
    "    cv=2)\n",
    "\n",
    "random_lgbmc.fit(features_train_vectorized, target_train)\n",
    "best_lgbmc_score = round(random_lgbmc.best_score_, 3)\n",
    "\n",
    "print(f'Лучшее значение F1 модели LGMBClassifier: {best_lgbmc_score}')"
   ]
  },
  {
   "cell_type": "markdown",
   "metadata": {},
   "source": [
    "## Выводы"
   ]
  },
  {
   "cell_type": "code",
   "execution_count": 21,
   "metadata": {},
   "outputs": [
    {
     "data": {
      "text/html": [
       "<div>\n",
       "<style scoped>\n",
       "    .dataframe tbody tr th:only-of-type {\n",
       "        vertical-align: middle;\n",
       "    }\n",
       "\n",
       "    .dataframe tbody tr th {\n",
       "        vertical-align: top;\n",
       "    }\n",
       "\n",
       "    .dataframe thead th {\n",
       "        text-align: right;\n",
       "    }\n",
       "</style>\n",
       "<table border=\"1\" class=\"dataframe\">\n",
       "  <thead>\n",
       "    <tr style=\"text-align: right;\">\n",
       "      <th></th>\n",
       "      <th>F1</th>\n",
       "    </tr>\n",
       "  </thead>\n",
       "  <tbody>\n",
       "    <tr>\n",
       "      <th>LogisticRegression</th>\n",
       "      <td>0.763</td>\n",
       "    </tr>\n",
       "    <tr>\n",
       "      <th>DecisionTreeClassifier</th>\n",
       "      <td>0.430</td>\n",
       "    </tr>\n",
       "    <tr>\n",
       "      <th>LGBMClassifier</th>\n",
       "      <td>0.351</td>\n",
       "    </tr>\n",
       "  </tbody>\n",
       "</table>\n",
       "</div>"
      ],
      "text/plain": [
       "                           F1\n",
       "LogisticRegression      0.763\n",
       "DecisionTreeClassifier  0.430\n",
       "LGBMClassifier          0.351"
      ]
     },
     "execution_count": 21,
     "metadata": {},
     "output_type": "execute_result"
    }
   ],
   "source": [
    "#Собираем таблицу с отчетом\n",
    "results = [\n",
    "    {'F1': round(best_lr_score, 3)},    \n",
    "    {'F1': round(best_tree_score, 3)},\n",
    "    {'F1': round(best_lgbmc_score, 3)}\n",
    "]\n",
    "\n",
    "pd.DataFrame(data=results,\n",
    "             index=['LogisticRegression', 'DecisionTreeClassifier', 'LGBMClassifier'],\n",
    "             columns=['F1']).sort_values(by='F1', ascending=False)"
   ]
  },
  {
   "attachments": {
    "image-2.png": {
     "image/png": "[encoded data removed]"
    }
   },
   "cell_type": "markdown",
   "metadata": {},
   "source": [
    "![image-2.png](attachment:image-2.png)\n",
    "\n",
    "Очевидно, единственная модель, которая нам подходит - модель логистической регрессии. Проверим модель на тестовой выборке.\n",
    "\n",
    "PS: Картинка с результатами моделей на случай, если не захочется тратить кучу времени на их обучение =)"
   ]
  },
  {
   "cell_type": "code",
   "execution_count": 22,
   "metadata": {
    "scrolled": true
   },
   "outputs": [
    {
     "data": {
      "text/plain": [
       "0.76760072494075"
      ]
     },
     "execution_count": 22,
     "metadata": {},
     "output_type": "execute_result"
    }
   ],
   "source": [
    "#Проверяем модель логистической регрессии на тестовой выборке\n",
    "predictions_lr = random_lr.best_estimator_.predict(features_test_vectorized)\n",
    "f1_score(target_test, predictions_lr)"
   ]
  },
  {
   "cell_type": "markdown",
   "metadata": {},
   "source": [
    "**Вывод:**\n",
    "Наша модель логистической регрессии справилась с тестовой выборкой и набрала значение F1-меры в 0.767, тогда как по условию проекта от нас требовалось получить значение F1-меры не менее 0.75. Таким образом, мы выполнили поставленную задачу, с чем я нас и поздравляю!"
   ]
  }
 ],
 "metadata": {
  "ExecuteTimeLog": [
   {
    "duration": 1550,
    "start_time": "2023-06-02T10:14:34.303Z"
   },
   {
    "duration": 123,
    "start_time": "2023-06-02T10:15:53.946Z"
   },
   {
    "duration": 56,
    "start_time": "2023-06-02T10:15:56.555Z"
   },
   {
    "duration": 127,
    "start_time": "2023-06-02T10:16:20.385Z"
   },
   {
    "duration": 8,
    "start_time": "2023-06-02T10:16:26.358Z"
   },
   {
    "duration": 48,
    "start_time": "2023-06-02T10:16:29.263Z"
   },
   {
    "duration": 2727,
    "start_time": "2023-06-02T10:16:43.942Z"
   },
   {
    "duration": 42,
    "start_time": "2023-06-02T10:16:48.561Z"
   },
   {
    "duration": 48,
    "start_time": "2023-06-05T07:04:14.589Z"
   },
   {
    "duration": 1655,
    "start_time": "2023-06-05T07:04:18.357Z"
   },
   {
    "duration": 3437,
    "start_time": "2023-06-05T07:04:20.014Z"
   },
   {
    "duration": 45,
    "start_time": "2023-06-05T07:04:23.454Z"
   },
   {
    "duration": 257,
    "start_time": "2023-06-05T07:04:23.501Z"
   },
   {
    "duration": 44,
    "start_time": "2023-06-05T07:06:29.679Z"
   },
   {
    "duration": 181,
    "start_time": "2023-06-05T07:08:23.523Z"
   },
   {
    "duration": 4,
    "start_time": "2023-06-05T07:09:11.670Z"
   },
   {
    "duration": 3,
    "start_time": "2023-06-05T07:09:50.094Z"
   },
   {
    "duration": 6,
    "start_time": "2023-06-05T07:26:18.033Z"
   },
   {
    "duration": 486,
    "start_time": "2023-06-05T07:34:01.132Z"
   },
   {
    "duration": 401,
    "start_time": "2023-06-05T07:34:32.987Z"
   },
   {
    "duration": 176,
    "start_time": "2023-06-05T07:34:41.624Z"
   },
   {
    "duration": 170,
    "start_time": "2023-06-05T07:34:46.748Z"
   },
   {
    "duration": 6,
    "start_time": "2023-06-05T07:34:56.518Z"
   },
   {
    "duration": 7,
    "start_time": "2023-06-05T11:51:41.058Z"
   },
   {
    "duration": 137,
    "start_time": "2023-06-05T11:55:01.681Z"
   },
   {
    "duration": 6,
    "start_time": "2023-06-05T11:55:05.625Z"
   },
   {
    "duration": 3901,
    "start_time": "2023-06-05T11:55:05.634Z"
   },
   {
    "duration": 52,
    "start_time": "2023-06-05T11:55:09.537Z"
   },
   {
    "duration": 303,
    "start_time": "2023-06-05T11:55:09.591Z"
   },
   {
    "duration": 72,
    "start_time": "2023-06-05T11:55:09.898Z"
   },
   {
    "duration": 12,
    "start_time": "2023-06-05T11:55:09.975Z"
   },
   {
    "duration": 4,
    "start_time": "2023-06-05T11:55:09.991Z"
   },
   {
    "duration": 86,
    "start_time": "2023-06-05T11:55:09.996Z"
   },
   {
    "duration": 90,
    "start_time": "2023-06-05T11:56:10.667Z"
   },
   {
    "duration": 1747,
    "start_time": "2023-06-05T11:56:41.176Z"
   },
   {
    "duration": 982,
    "start_time": "2023-06-05T11:56:42.925Z"
   },
   {
    "duration": 67,
    "start_time": "2023-06-05T11:56:43.909Z"
   },
   {
    "duration": 296,
    "start_time": "2023-06-05T11:56:43.979Z"
   },
   {
    "duration": 46,
    "start_time": "2023-06-05T11:56:44.278Z"
   },
   {
    "duration": 15,
    "start_time": "2023-06-05T11:56:44.325Z"
   },
   {
    "duration": 18,
    "start_time": "2023-06-05T11:56:44.342Z"
   },
   {
    "duration": 78,
    "start_time": "2023-06-05T11:56:46.345Z"
   },
   {
    "duration": 75,
    "start_time": "2023-06-05T11:57:00.581Z"
   },
   {
    "duration": 67,
    "start_time": "2023-06-05T11:57:04.075Z"
   },
   {
    "duration": 94,
    "start_time": "2023-06-05T11:57:10.690Z"
   },
   {
    "duration": 88,
    "start_time": "2023-06-05T11:57:14.747Z"
   },
   {
    "duration": 101,
    "start_time": "2023-06-05T11:57:20.287Z"
   },
   {
    "duration": 102,
    "start_time": "2023-06-05T11:57:25.820Z"
   },
   {
    "duration": 781,
    "start_time": "2023-06-05T11:57:54.097Z"
   },
   {
    "duration": 248,
    "start_time": "2023-06-05T11:58:01.324Z"
   },
   {
    "duration": 1890,
    "start_time": "2023-06-05T11:58:07.455Z"
   },
   {
    "duration": 949,
    "start_time": "2023-06-05T11:58:09.348Z"
   },
   {
    "duration": 46,
    "start_time": "2023-06-05T11:58:10.299Z"
   },
   {
    "duration": 281,
    "start_time": "2023-06-05T11:58:10.346Z"
   },
   {
    "duration": 55,
    "start_time": "2023-06-05T11:58:10.629Z"
   },
   {
    "duration": 7,
    "start_time": "2023-06-05T11:58:10.686Z"
   },
   {
    "duration": 9,
    "start_time": "2023-06-05T11:58:10.696Z"
   },
   {
    "duration": 201,
    "start_time": "2023-06-05T11:58:10.706Z"
   },
   {
    "duration": 787,
    "start_time": "2023-06-05T12:06:53.852Z"
   },
   {
    "duration": 5,
    "start_time": "2023-06-05T12:08:15.156Z"
   },
   {
    "duration": 825,
    "start_time": "2023-06-05T12:08:15.162Z"
   },
   {
    "duration": 52,
    "start_time": "2023-06-05T12:08:15.989Z"
   },
   {
    "duration": 261,
    "start_time": "2023-06-05T12:08:16.043Z"
   },
   {
    "duration": 52,
    "start_time": "2023-06-05T12:08:16.306Z"
   },
   {
    "duration": 6,
    "start_time": "2023-06-05T12:08:16.360Z"
   },
   {
    "duration": 10,
    "start_time": "2023-06-05T12:08:16.368Z"
   },
   {
    "duration": 96,
    "start_time": "2023-06-05T12:08:16.380Z"
   },
   {
    "duration": 60,
    "start_time": "2023-06-05T12:08:28.839Z"
   },
   {
    "duration": 4,
    "start_time": "2023-06-05T12:32:30.692Z"
   },
   {
    "duration": 871,
    "start_time": "2023-06-05T12:32:30.698Z"
   },
   {
    "duration": 45,
    "start_time": "2023-06-05T12:32:31.571Z"
   },
   {
    "duration": 330,
    "start_time": "2023-06-05T12:32:31.619Z"
   },
   {
    "duration": 45,
    "start_time": "2023-06-05T12:32:31.951Z"
   },
   {
    "duration": 52,
    "start_time": "2023-06-05T12:32:31.998Z"
   },
   {
    "duration": 127,
    "start_time": "2023-06-05T12:32:32.052Z"
   },
   {
    "duration": 51,
    "start_time": "2023-06-05T12:32:32.182Z"
   },
   {
    "duration": 820,
    "start_time": "2023-06-05T13:55:27.503Z"
   },
   {
    "duration": 1729,
    "start_time": "2023-06-05T13:59:40.571Z"
   },
   {
    "duration": 936,
    "start_time": "2023-06-05T13:59:42.303Z"
   },
   {
    "duration": 55,
    "start_time": "2023-06-05T13:59:43.241Z"
   },
   {
    "duration": 281,
    "start_time": "2023-06-05T13:59:43.298Z"
   },
   {
    "duration": 42,
    "start_time": "2023-06-05T13:59:43.581Z"
   },
   {
    "duration": 5,
    "start_time": "2023-06-05T13:59:43.625Z"
   },
   {
    "duration": 5,
    "start_time": "2023-06-05T13:59:52.286Z"
   },
   {
    "duration": 935,
    "start_time": "2023-06-05T13:59:52.312Z"
   },
   {
    "duration": 50,
    "start_time": "2023-06-05T13:59:53.249Z"
   },
   {
    "duration": 270,
    "start_time": "2023-06-05T13:59:53.301Z"
   },
   {
    "duration": 45,
    "start_time": "2023-06-05T13:59:53.573Z"
   },
   {
    "duration": 33,
    "start_time": "2023-06-05T13:59:53.620Z"
   },
   {
    "duration": 4,
    "start_time": "2023-06-05T13:59:59.472Z"
   },
   {
    "duration": 800,
    "start_time": "2023-06-05T14:00:08.837Z"
   },
   {
    "duration": 13,
    "start_time": "2023-06-05T14:00:21.705Z"
   },
   {
    "duration": 1635,
    "start_time": "2023-06-05T14:00:52.654Z"
   },
   {
    "duration": 878,
    "start_time": "2023-06-05T14:00:54.291Z"
   },
   {
    "duration": 50,
    "start_time": "2023-06-05T14:00:55.171Z"
   },
   {
    "duration": 271,
    "start_time": "2023-06-05T14:00:55.223Z"
   },
   {
    "duration": 71,
    "start_time": "2023-06-05T14:00:55.496Z"
   },
   {
    "duration": 7,
    "start_time": "2023-06-05T14:00:55.569Z"
   },
   {
    "duration": 4,
    "start_time": "2023-06-05T14:00:59.920Z"
   },
   {
    "duration": 12,
    "start_time": "2023-06-05T14:01:02.788Z"
   },
   {
    "duration": 1583,
    "start_time": "2023-06-05T14:01:59.586Z"
   },
   {
    "duration": 956,
    "start_time": "2023-06-05T14:02:01.172Z"
   },
   {
    "duration": 58,
    "start_time": "2023-06-05T14:02:02.130Z"
   },
   {
    "duration": 299,
    "start_time": "2023-06-05T14:02:02.190Z"
   },
   {
    "duration": 46,
    "start_time": "2023-06-05T14:02:02.491Z"
   },
   {
    "duration": 30,
    "start_time": "2023-06-05T14:02:02.539Z"
   },
   {
    "duration": 5,
    "start_time": "2023-06-05T14:02:05.429Z"
   },
   {
    "duration": 17,
    "start_time": "2023-06-05T14:02:06.751Z"
   },
   {
    "duration": 1594,
    "start_time": "2023-06-05T14:03:53.995Z"
   },
   {
    "duration": 880,
    "start_time": "2023-06-05T14:03:55.591Z"
   },
   {
    "duration": 45,
    "start_time": "2023-06-05T14:03:56.473Z"
   },
   {
    "duration": 272,
    "start_time": "2023-06-05T14:03:56.520Z"
   },
   {
    "duration": 43,
    "start_time": "2023-06-05T14:03:56.794Z"
   },
   {
    "duration": 46,
    "start_time": "2023-06-05T14:03:56.839Z"
   },
   {
    "duration": 11,
    "start_time": "2023-06-05T14:03:56.886Z"
   },
   {
    "duration": 738,
    "start_time": "2023-06-05T14:04:03.584Z"
   },
   {
    "duration": 5,
    "start_time": "2023-06-05T14:04:53.784Z"
   },
   {
    "duration": 795,
    "start_time": "2023-06-05T14:04:55.388Z"
   },
   {
    "duration": 1621,
    "start_time": "2023-06-05T14:07:00.377Z"
   },
   {
    "duration": 894,
    "start_time": "2023-06-05T14:07:02.001Z"
   },
   {
    "duration": 45,
    "start_time": "2023-06-05T14:07:02.897Z"
   },
   {
    "duration": 265,
    "start_time": "2023-06-05T14:07:02.943Z"
   },
   {
    "duration": 65,
    "start_time": "2023-06-05T14:07:03.211Z"
   },
   {
    "duration": 6,
    "start_time": "2023-06-05T14:07:03.278Z"
   },
   {
    "duration": 5,
    "start_time": "2023-06-05T14:07:08.586Z"
   },
   {
    "duration": 13,
    "start_time": "2023-06-05T14:07:11.601Z"
   },
   {
    "duration": 131,
    "start_time": "2023-06-05T14:07:29.406Z"
   },
   {
    "duration": 12,
    "start_time": "2023-06-05T14:07:34.435Z"
   },
   {
    "duration": 5,
    "start_time": "2023-06-05T14:07:39.292Z"
   },
   {
    "duration": 14,
    "start_time": "2023-06-05T14:07:51.692Z"
   },
   {
    "duration": 6,
    "start_time": "2023-06-05T14:07:58.724Z"
   },
   {
    "duration": 4,
    "start_time": "2023-06-05T14:08:23.344Z"
   },
   {
    "duration": 6,
    "start_time": "2023-06-05T14:08:27.937Z"
   },
   {
    "duration": 3,
    "start_time": "2023-06-05T14:12:33.877Z"
   },
   {
    "duration": 21,
    "start_time": "2023-06-05T14:13:01.588Z"
   },
   {
    "duration": 1766,
    "start_time": "2023-06-05T14:13:17.257Z"
   },
   {
    "duration": 988,
    "start_time": "2023-06-05T14:13:19.026Z"
   },
   {
    "duration": 69,
    "start_time": "2023-06-05T14:13:20.016Z"
   },
   {
    "duration": 263,
    "start_time": "2023-06-05T14:13:20.086Z"
   },
   {
    "duration": 54,
    "start_time": "2023-06-05T14:13:20.358Z"
   },
   {
    "duration": 6,
    "start_time": "2023-06-05T14:13:20.414Z"
   },
   {
    "duration": 5,
    "start_time": "2023-06-05T14:13:20.421Z"
   },
   {
    "duration": 170,
    "start_time": "2023-06-05T14:13:20.427Z"
   },
   {
    "duration": 2695,
    "start_time": "2023-06-05T14:23:53.077Z"
   },
   {
    "duration": 5,
    "start_time": "2023-06-05T14:25:04.078Z"
   },
   {
    "duration": 5659,
    "start_time": "2023-06-05T14:25:05.119Z"
   },
   {
    "duration": 5,
    "start_time": "2023-06-05T14:29:39.272Z"
   },
   {
    "duration": 13,
    "start_time": "2023-06-05T14:30:22.502Z"
   },
   {
    "duration": 2903244,
    "start_time": "2023-06-05T14:30:28.228Z"
   },
   {
    "duration": 1663,
    "start_time": "2023-06-05T15:18:56.065Z"
   },
   {
    "duration": 903,
    "start_time": "2023-06-05T15:18:57.730Z"
   },
   {
    "duration": 48,
    "start_time": "2023-06-05T15:18:58.635Z"
   },
   {
    "duration": 300,
    "start_time": "2023-06-05T15:18:58.685Z"
   },
   {
    "duration": 53,
    "start_time": "2023-06-05T15:18:58.988Z"
   },
   {
    "duration": 8,
    "start_time": "2023-06-05T15:18:59.058Z"
   },
   {
    "duration": 6,
    "start_time": "2023-06-05T15:18:59.068Z"
   },
   {
    "duration": 4894,
    "start_time": "2023-06-05T15:18:59.079Z"
   },
   {
    "duration": 2,
    "start_time": "2023-06-05T15:19:03.975Z"
   },
   {
    "duration": 242627,
    "start_time": "2023-06-05T15:19:03.979Z"
   },
   {
    "duration": 1622,
    "start_time": "2023-06-06T07:10:25.979Z"
   },
   {
    "duration": 2234,
    "start_time": "2023-06-06T07:10:31.241Z"
   },
   {
    "duration": 37,
    "start_time": "2023-06-06T07:10:33.477Z"
   },
   {
    "duration": 227,
    "start_time": "2023-06-06T07:10:33.516Z"
   },
   {
    "duration": 37,
    "start_time": "2023-06-06T07:10:35.841Z"
   },
   {
    "duration": 5,
    "start_time": "2023-06-06T07:10:46.415Z"
   },
   {
    "duration": 3,
    "start_time": "2023-06-06T07:10:46.881Z"
   },
   {
    "duration": 4856,
    "start_time": "2023-06-06T07:10:47.994Z"
   },
   {
    "duration": 4,
    "start_time": "2023-06-06T08:34:47.629Z"
   },
   {
    "duration": 4,
    "start_time": "2023-06-06T08:36:37.325Z"
   },
   {
    "duration": 131,
    "start_time": "2023-06-06T08:37:43.877Z"
   },
   {
    "duration": 3,
    "start_time": "2023-06-06T08:37:49.418Z"
   },
   {
    "duration": 70694,
    "start_time": "2023-06-06T08:37:49.692Z"
   },
   {
    "duration": 65352,
    "start_time": "2023-06-06T08:39:20.635Z"
   },
   {
    "duration": 3,
    "start_time": "2023-06-06T09:03:43.819Z"
   },
   {
    "duration": 15,
    "start_time": "2023-06-06T09:05:02.016Z"
   },
   {
    "duration": 58,
    "start_time": "2023-06-06T09:06:32.007Z"
   },
   {
    "duration": 71,
    "start_time": "2023-06-06T09:07:01.742Z"
   },
   {
    "duration": 69,
    "start_time": "2023-06-06T09:07:49.262Z"
   },
   {
    "duration": 96,
    "start_time": "2023-06-06T09:10:25.854Z"
   },
   {
    "duration": 5,
    "start_time": "2023-06-06T09:11:05.842Z"
   },
   {
    "duration": 15,
    "start_time": "2023-06-06T09:11:14.622Z"
   },
   {
    "duration": 5,
    "start_time": "2023-06-06T09:11:22.137Z"
   },
   {
    "duration": 3,
    "start_time": "2023-06-06T09:13:08.483Z"
   },
   {
    "duration": 19373,
    "start_time": "2023-06-06T09:15:22.087Z"
   },
   {
    "duration": 76,
    "start_time": "2023-06-06T09:32:10.937Z"
   },
   {
    "duration": 12,
    "start_time": "2023-06-06T09:33:29.021Z"
   },
   {
    "duration": 15,
    "start_time": "2023-06-06T09:34:26.557Z"
   },
   {
    "duration": 14,
    "start_time": "2023-06-06T09:35:12.647Z"
   },
   {
    "duration": 11,
    "start_time": "2023-06-06T09:35:49.076Z"
   },
   {
    "duration": 4,
    "start_time": "2023-06-06T09:36:27.967Z"
   },
   {
    "duration": 11,
    "start_time": "2023-06-06T09:36:37.879Z"
   },
   {
    "duration": 12,
    "start_time": "2023-06-06T09:37:05.621Z"
   },
   {
    "duration": 17,
    "start_time": "2023-06-06T09:37:57.172Z"
   },
   {
    "duration": 1476,
    "start_time": "2023-06-06T09:39:33.294Z"
   },
   {
    "duration": 852,
    "start_time": "2023-06-06T09:39:34.773Z"
   },
   {
    "duration": 35,
    "start_time": "2023-06-06T09:39:35.626Z"
   },
   {
    "duration": 237,
    "start_time": "2023-06-06T09:39:35.662Z"
   },
   {
    "duration": 38,
    "start_time": "2023-06-06T09:39:35.901Z"
   },
   {
    "duration": 23,
    "start_time": "2023-06-06T09:39:35.940Z"
   },
   {
    "duration": 10,
    "start_time": "2023-06-06T09:39:35.964Z"
   },
   {
    "duration": 4811,
    "start_time": "2023-06-06T09:39:35.975Z"
   },
   {
    "duration": 3,
    "start_time": "2023-06-06T09:39:40.788Z"
   },
   {
    "duration": 62601,
    "start_time": "2023-06-06T09:39:40.793Z"
   },
   {
    "duration": 4,
    "start_time": "2023-06-06T09:40:43.396Z"
   },
   {
    "duration": 105,
    "start_time": "2023-06-06T09:40:43.401Z"
   },
   {
    "duration": 85,
    "start_time": "2023-06-06T09:40:43.508Z"
   },
   {
    "duration": 4,
    "start_time": "2023-06-06T09:40:43.596Z"
   },
   {
    "duration": 22,
    "start_time": "2023-06-06T09:40:43.601Z"
   },
   {
    "duration": 17326,
    "start_time": "2023-06-06T09:40:43.625Z"
   },
   {
    "duration": 160,
    "start_time": "2023-06-06T09:41:00.953Z"
   },
   {
    "duration": 4,
    "start_time": "2023-06-06T09:41:11.871Z"
   },
   {
    "duration": 15,
    "start_time": "2023-06-06T09:41:17.318Z"
   },
   {
    "duration": 3,
    "start_time": "2023-06-06T09:43:15.034Z"
   },
   {
    "duration": 34,
    "start_time": "2023-06-06T09:43:15.396Z"
   },
   {
    "duration": 81,
    "start_time": "2023-06-06T09:43:17.270Z"
   },
   {
    "duration": 3,
    "start_time": "2023-06-06T09:43:18.024Z"
   },
   {
    "duration": 207,
    "start_time": "2023-06-06T09:43:18.399Z"
   },
   {
    "duration": 17246,
    "start_time": "2023-06-06T09:43:19.042Z"
   },
   {
    "duration": 15,
    "start_time": "2023-06-06T09:43:37.925Z"
   },
   {
    "duration": 41,
    "start_time": "2023-06-06T09:51:36.719Z"
   },
   {
    "duration": 128,
    "start_time": "2023-06-06T09:51:37.187Z"
   },
   {
    "duration": 94,
    "start_time": "2023-06-06T09:51:37.709Z"
   },
   {
    "duration": 3,
    "start_time": "2023-06-06T09:51:38.300Z"
   },
   {
    "duration": 214,
    "start_time": "2023-06-06T09:51:38.680Z"
   },
   {
    "duration": 14,
    "start_time": "2023-06-06T09:51:39.035Z"
   },
   {
    "duration": 11,
    "start_time": "2023-06-06T09:51:51.643Z"
   },
   {
    "duration": 11,
    "start_time": "2023-06-06T09:52:08.079Z"
   },
   {
    "duration": 60,
    "start_time": "2023-06-06T09:52:08.375Z"
   },
   {
    "duration": 87,
    "start_time": "2023-06-06T09:52:09.118Z"
   },
   {
    "duration": 4,
    "start_time": "2023-06-06T09:52:09.562Z"
   },
   {
    "duration": 3,
    "start_time": "2023-06-06T09:52:10.206Z"
   },
   {
    "duration": 13,
    "start_time": "2023-06-06T09:52:11.835Z"
   },
   {
    "duration": 1424,
    "start_time": "2023-06-06T09:52:39.453Z"
   },
   {
    "duration": 933,
    "start_time": "2023-06-06T09:52:40.879Z"
   },
   {
    "duration": 43,
    "start_time": "2023-06-06T09:52:41.814Z"
   },
   {
    "duration": 236,
    "start_time": "2023-06-06T09:52:41.858Z"
   },
   {
    "duration": 46,
    "start_time": "2023-06-06T09:52:42.097Z"
   },
   {
    "duration": 8,
    "start_time": "2023-06-06T09:52:42.145Z"
   },
   {
    "duration": 5,
    "start_time": "2023-06-06T09:52:42.155Z"
   },
   {
    "duration": 4394,
    "start_time": "2023-06-06T09:52:42.162Z"
   },
   {
    "duration": 0,
    "start_time": "2023-06-06T09:52:46.558Z"
   },
   {
    "duration": 0,
    "start_time": "2023-06-06T09:52:46.559Z"
   },
   {
    "duration": 0,
    "start_time": "2023-06-06T09:52:46.560Z"
   },
   {
    "duration": 0,
    "start_time": "2023-06-06T09:52:46.561Z"
   },
   {
    "duration": 0,
    "start_time": "2023-06-06T09:52:46.562Z"
   },
   {
    "duration": 0,
    "start_time": "2023-06-06T09:52:46.563Z"
   },
   {
    "duration": 0,
    "start_time": "2023-06-06T09:52:46.564Z"
   },
   {
    "duration": 0,
    "start_time": "2023-06-06T09:52:46.565Z"
   },
   {
    "duration": 0,
    "start_time": "2023-06-06T09:52:46.566Z"
   },
   {
    "duration": 0,
    "start_time": "2023-06-06T09:52:46.567Z"
   },
   {
    "duration": 0,
    "start_time": "2023-06-06T09:52:46.569Z"
   },
   {
    "duration": 1553,
    "start_time": "2023-06-06T09:56:36.044Z"
   },
   {
    "duration": 911,
    "start_time": "2023-06-06T09:56:37.599Z"
   },
   {
    "duration": 45,
    "start_time": "2023-06-06T09:56:38.512Z"
   },
   {
    "duration": 255,
    "start_time": "2023-06-06T09:56:38.559Z"
   },
   {
    "duration": 44,
    "start_time": "2023-06-06T09:56:38.816Z"
   },
   {
    "duration": 16,
    "start_time": "2023-06-06T09:56:38.862Z"
   },
   {
    "duration": 18,
    "start_time": "2023-06-06T09:56:38.879Z"
   },
   {
    "duration": 5304,
    "start_time": "2023-06-06T09:56:38.899Z"
   },
   {
    "duration": 672,
    "start_time": "2023-06-06T09:56:44.205Z"
   },
   {
    "duration": 274,
    "start_time": "2023-06-06T09:57:21.827Z"
   },
   {
    "duration": 450,
    "start_time": "2023-06-06T09:58:26.394Z"
   },
   {
    "duration": 229,
    "start_time": "2023-06-06T09:58:42.539Z"
   },
   {
    "duration": 1657,
    "start_time": "2023-06-06T09:59:25.715Z"
   },
   {
    "duration": 463740,
    "start_time": "2023-06-06T10:00:43.390Z"
   },
   {
    "duration": 38,
    "start_time": "2023-06-06T10:08:36.167Z"
   },
   {
    "duration": 55,
    "start_time": "2023-06-06T10:08:37.013Z"
   },
   {
    "duration": 83,
    "start_time": "2023-06-06T10:08:37.732Z"
   },
   {
    "duration": 3,
    "start_time": "2023-06-06T10:08:39.423Z"
   },
   {
    "duration": 3,
    "start_time": "2023-06-06T10:08:40.118Z"
   },
   {
    "duration": 13,
    "start_time": "2023-06-06T10:08:40.671Z"
   },
   {
    "duration": 6,
    "start_time": "2023-06-06T10:10:35.415Z"
   },
   {
    "duration": 67,
    "start_time": "2023-06-06T10:10:36.866Z"
   },
   {
    "duration": 89,
    "start_time": "2023-06-06T10:10:41.157Z"
   },
   {
    "duration": 2,
    "start_time": "2023-06-06T10:10:41.974Z"
   },
   {
    "duration": 2,
    "start_time": "2023-06-06T10:10:42.762Z"
   },
   {
    "duration": 18114,
    "start_time": "2023-06-06T10:10:43.886Z"
   },
   {
    "duration": 16,
    "start_time": "2023-06-06T10:11:05.309Z"
   },
   {
    "duration": 21,
    "start_time": "2023-06-06T10:11:51.474Z"
   },
   {
    "duration": 20,
    "start_time": "2023-06-06T10:11:59.187Z"
   },
   {
    "duration": 6,
    "start_time": "2023-06-06T10:12:31.759Z"
   },
   {
    "duration": 19,
    "start_time": "2023-06-06T10:15:52.082Z"
   },
   {
    "duration": 154,
    "start_time": "2023-06-06T10:15:53.047Z"
   },
   {
    "duration": 103,
    "start_time": "2023-06-06T10:15:57.596Z"
   },
   {
    "duration": 3,
    "start_time": "2023-06-06T10:15:58.796Z"
   },
   {
    "duration": 229,
    "start_time": "2023-06-06T10:16:02.165Z"
   },
   {
    "duration": 12,
    "start_time": "2023-06-06T10:16:03.336Z"
   },
   {
    "duration": 7,
    "start_time": "2023-06-06T10:17:12.361Z"
   },
   {
    "duration": 67,
    "start_time": "2023-06-06T10:17:12.638Z"
   },
   {
    "duration": 77,
    "start_time": "2023-06-06T10:17:12.972Z"
   },
   {
    "duration": 3,
    "start_time": "2023-06-06T10:17:13.596Z"
   },
   {
    "duration": 3,
    "start_time": "2023-06-06T10:17:13.900Z"
   },
   {
    "duration": 20628,
    "start_time": "2023-06-06T10:17:14.604Z"
   },
   {
    "duration": 3,
    "start_time": "2023-06-06T10:17:40.220Z"
   },
   {
    "duration": 14,
    "start_time": "2023-06-06T10:17:41.432Z"
   },
   {
    "duration": 15,
    "start_time": "2023-06-06T10:18:23.952Z"
   },
   {
    "duration": 5,
    "start_time": "2023-06-06T10:18:29.405Z"
   },
   {
    "duration": 16,
    "start_time": "2023-06-06T10:25:03.394Z"
   },
   {
    "duration": 146,
    "start_time": "2023-06-06T10:25:04.064Z"
   },
   {
    "duration": 131,
    "start_time": "2023-06-06T10:25:05.905Z"
   },
   {
    "duration": 4,
    "start_time": "2023-06-06T10:25:06.490Z"
   },
   {
    "duration": 249,
    "start_time": "2023-06-06T10:25:07.072Z"
   },
   {
    "duration": 302,
    "start_time": "2023-06-06T10:25:07.908Z"
   },
   {
    "duration": 18,
    "start_time": "2023-06-06T10:25:17.663Z"
   },
   {
    "duration": 22,
    "start_time": "2023-06-06T10:29:43.293Z"
   },
   {
    "duration": 22,
    "start_time": "2023-06-06T10:30:35.012Z"
   },
   {
    "duration": 70,
    "start_time": "2023-06-06T10:33:20.011Z"
   },
   {
    "duration": 65,
    "start_time": "2023-06-06T10:33:23.998Z"
   },
   {
    "duration": 73,
    "start_time": "2023-06-06T10:33:39.715Z"
   },
   {
    "duration": 3,
    "start_time": "2023-06-06T10:34:16.114Z"
   },
   {
    "duration": 10,
    "start_time": "2023-06-06T10:34:29.628Z"
   },
   {
    "duration": 23,
    "start_time": "2023-06-06T10:34:34.311Z"
   },
   {
    "duration": 92,
    "start_time": "2023-06-06T10:34:35.184Z"
   },
   {
    "duration": 24,
    "start_time": "2023-06-06T10:34:37.735Z"
   },
   {
    "duration": 11,
    "start_time": "2023-06-06T10:34:38.358Z"
   },
   {
    "duration": 4,
    "start_time": "2023-06-06T10:34:43.962Z"
   },
   {
    "duration": 85,
    "start_time": "2023-06-06T10:35:09.432Z"
   },
   {
    "duration": 140,
    "start_time": "2023-06-06T10:35:10.959Z"
   },
   {
    "duration": 4,
    "start_time": "2023-06-06T10:35:11.611Z"
   },
   {
    "duration": 3,
    "start_time": "2023-06-06T10:35:12.213Z"
   },
   {
    "duration": 284,
    "start_time": "2023-06-06T10:35:12.979Z"
   },
   {
    "duration": 14,
    "start_time": "2023-06-06T10:35:18.404Z"
   },
   {
    "duration": 21,
    "start_time": "2023-06-06T10:35:27.368Z"
   },
   {
    "duration": 3,
    "start_time": "2023-06-06T10:36:47.053Z"
   },
   {
    "duration": 13,
    "start_time": "2023-06-06T10:36:47.773Z"
   },
   {
    "duration": 12,
    "start_time": "2023-06-06T10:36:57.429Z"
   },
   {
    "duration": 2,
    "start_time": "2023-06-06T10:37:05.668Z"
   },
   {
    "duration": 292,
    "start_time": "2023-06-06T10:37:06.023Z"
   },
   {
    "duration": 14,
    "start_time": "2023-06-06T10:37:11.921Z"
   },
   {
    "duration": 3,
    "start_time": "2023-06-06T10:37:41.822Z"
   },
   {
    "duration": 234,
    "start_time": "2023-06-06T10:37:42.214Z"
   },
   {
    "duration": 18,
    "start_time": "2023-06-06T10:37:43.134Z"
   },
   {
    "duration": 10,
    "start_time": "2023-06-06T10:45:49.055Z"
   },
   {
    "duration": 3,
    "start_time": "2023-06-06T10:45:54.738Z"
   },
   {
    "duration": 52,
    "start_time": "2023-06-06T10:45:55.679Z"
   },
   {
    "duration": 1629,
    "start_time": "2023-06-06T10:45:59.143Z"
   },
   {
    "duration": 30,
    "start_time": "2023-06-06T10:46:00.774Z"
   },
   {
    "duration": 33,
    "start_time": "2023-06-06T10:46:00.806Z"
   },
   {
    "duration": 21218,
    "start_time": "2023-06-06T10:46:00.842Z"
   },
   {
    "duration": 16,
    "start_time": "2023-06-06T10:46:22.062Z"
   },
   {
    "duration": 221,
    "start_time": "2023-06-06T10:47:36.878Z"
   },
   {
    "duration": 61,
    "start_time": "2023-06-06T10:47:48.606Z"
   },
   {
    "duration": 0,
    "start_time": "2023-06-06T10:47:48.669Z"
   },
   {
    "duration": 0,
    "start_time": "2023-06-06T10:47:48.670Z"
   },
   {
    "duration": 1936,
    "start_time": "2023-06-06T10:47:56.686Z"
   },
   {
    "duration": 2321,
    "start_time": "2023-06-06T10:47:58.625Z"
   },
   {
    "duration": 41,
    "start_time": "2023-06-06T10:48:00.947Z"
   },
   {
    "duration": 268,
    "start_time": "2023-06-06T10:48:00.989Z"
   },
   {
    "duration": 52,
    "start_time": "2023-06-06T10:48:01.259Z"
   },
   {
    "duration": 91,
    "start_time": "2023-06-06T10:48:01.325Z"
   },
   {
    "duration": 133,
    "start_time": "2023-06-06T10:48:01.418Z"
   },
   {
    "duration": 4981,
    "start_time": "2023-06-06T10:48:01.553Z"
   },
   {
    "duration": 8396,
    "start_time": "2023-06-06T10:48:06.535Z"
   },
   {
    "duration": 0,
    "start_time": "2023-06-06T10:48:14.933Z"
   },
   {
    "duration": 0,
    "start_time": "2023-06-06T10:48:14.935Z"
   },
   {
    "duration": 0,
    "start_time": "2023-06-06T10:48:14.936Z"
   },
   {
    "duration": 0,
    "start_time": "2023-06-06T10:48:14.938Z"
   },
   {
    "duration": 0,
    "start_time": "2023-06-06T10:48:14.939Z"
   },
   {
    "duration": 0,
    "start_time": "2023-06-06T10:48:14.940Z"
   },
   {
    "duration": 0,
    "start_time": "2023-06-06T10:48:14.941Z"
   },
   {
    "duration": 1760,
    "start_time": "2023-06-06T10:48:21.573Z"
   },
   {
    "duration": 882,
    "start_time": "2023-06-06T10:48:23.335Z"
   },
   {
    "duration": 42,
    "start_time": "2023-06-06T10:48:24.219Z"
   },
   {
    "duration": 248,
    "start_time": "2023-06-06T10:48:24.263Z"
   },
   {
    "duration": 44,
    "start_time": "2023-06-06T10:48:24.513Z"
   },
   {
    "duration": 14,
    "start_time": "2023-06-06T10:48:24.559Z"
   },
   {
    "duration": 13,
    "start_time": "2023-06-06T10:48:24.575Z"
   },
   {
    "duration": 5513,
    "start_time": "2023-06-06T10:48:24.590Z"
   },
   {
    "duration": 483513,
    "start_time": "2023-06-06T10:48:30.105Z"
   },
   {
    "duration": 5,
    "start_time": "2023-06-06T10:56:33.620Z"
   },
   {
    "duration": 85,
    "start_time": "2023-06-06T10:56:33.626Z"
   },
   {
    "duration": 28,
    "start_time": "2023-06-06T10:56:33.713Z"
   },
   {
    "duration": 36,
    "start_time": "2023-06-06T10:56:33.743Z"
   },
   {
    "duration": 37,
    "start_time": "2023-06-06T10:56:33.781Z"
   },
   {
    "duration": 23079,
    "start_time": "2023-06-06T10:56:33.820Z"
   },
   {
    "duration": 567735,
    "start_time": "2023-06-06T10:56:56.901Z"
   },
   {
    "duration": 109186,
    "start_time": "2023-06-06T11:06:24.638Z"
   },
   {
    "duration": 116,
    "start_time": "2023-06-06T11:08:13.826Z"
   },
   {
    "duration": 10,
    "start_time": "2023-06-06T11:58:20.605Z"
   },
   {
    "duration": 29,
    "start_time": "2023-06-06T11:58:42.550Z"
   },
   {
    "duration": 167957,
    "start_time": "2023-06-06T11:59:10.951Z"
   },
   {
    "duration": 207,
    "start_time": "2023-06-06T12:03:42.951Z"
   },
   {
    "duration": 757,
    "start_time": "2023-06-06T12:03:43.160Z"
   },
   {
    "duration": 32,
    "start_time": "2023-06-06T12:03:43.918Z"
   },
   {
    "duration": 211,
    "start_time": "2023-06-06T12:03:43.952Z"
   },
   {
    "duration": 36,
    "start_time": "2023-06-06T12:03:44.166Z"
   },
   {
    "duration": 27,
    "start_time": "2023-06-06T12:03:44.205Z"
   },
   {
    "duration": 16,
    "start_time": "2023-06-06T12:03:44.234Z"
   },
   {
    "duration": 5327,
    "start_time": "2023-06-06T12:03:44.252Z"
   },
   {
    "duration": 495860,
    "start_time": "2023-06-06T12:03:49.581Z"
   },
   {
    "duration": 3,
    "start_time": "2023-06-06T12:12:05.444Z"
   },
   {
    "duration": 129,
    "start_time": "2023-06-06T12:12:05.449Z"
   },
   {
    "duration": 27,
    "start_time": "2023-06-06T12:12:05.579Z"
   },
   {
    "duration": 25,
    "start_time": "2023-06-06T12:12:05.607Z"
   },
   {
    "duration": 242,
    "start_time": "2023-06-06T12:12:05.634Z"
   },
   {
    "duration": 25263,
    "start_time": "2023-06-06T12:12:05.878Z"
   },
   {
    "duration": 131827,
    "start_time": "2023-06-06T12:14:04.341Z"
   },
   {
    "duration": 341280,
    "start_time": "2023-06-06T12:16:51.191Z"
   },
   {
    "duration": 23,
    "start_time": "2023-06-06T12:25:35.960Z"
   },
   {
    "duration": 557,
    "start_time": "2023-06-06T12:26:10.251Z"
   },
   {
    "duration": 39,
    "start_time": "2023-06-06T12:26:33.413Z"
   },
   {
    "duration": 1420630,
    "start_time": "2023-06-06T12:26:38.154Z"
   },
   {
    "duration": 6,
    "start_time": "2023-06-06T12:50:18.786Z"
   },
   {
    "duration": 52,
    "start_time": "2023-06-06T12:50:34.155Z"
   },
   {
    "duration": 444137,
    "start_time": "2023-06-06T12:50:40.397Z"
   },
   {
    "duration": 4,
    "start_time": "2023-06-06T12:58:04.535Z"
   },
   {
    "duration": 21,
    "start_time": "2023-06-06T12:58:17.890Z"
   },
   {
    "duration": 46,
    "start_time": "2023-06-06T12:58:18.302Z"
   },
   {
    "duration": 335,
    "start_time": "2023-06-06T12:58:18.621Z"
   },
   {
    "duration": 9,
    "start_time": "2023-06-06T12:58:22.512Z"
   },
   {
    "duration": 8,
    "start_time": "2023-06-06T13:00:00.346Z"
   },
   {
    "duration": 21,
    "start_time": "2023-06-06T13:00:04.262Z"
   },
   {
    "duration": 44,
    "start_time": "2023-06-06T13:00:04.539Z"
   },
   {
    "duration": 314,
    "start_time": "2023-06-06T13:00:04.747Z"
   },
   {
    "duration": 9,
    "start_time": "2023-06-06T13:00:06.513Z"
   },
   {
    "duration": 27,
    "start_time": "2023-06-06T13:01:30.650Z"
   },
   {
    "duration": 50,
    "start_time": "2023-06-06T13:01:30.943Z"
   },
   {
    "duration": 379,
    "start_time": "2023-06-06T13:01:31.251Z"
   },
   {
    "duration": 9,
    "start_time": "2023-06-06T13:01:40.239Z"
   },
   {
    "duration": 1498,
    "start_time": "2023-06-06T13:01:57.576Z"
   },
   {
    "duration": 849,
    "start_time": "2023-06-06T13:01:59.076Z"
   },
   {
    "duration": 32,
    "start_time": "2023-06-06T13:01:59.926Z"
   },
   {
    "duration": 230,
    "start_time": "2023-06-06T13:01:59.960Z"
   },
   {
    "duration": 44,
    "start_time": "2023-06-06T13:02:00.192Z"
   },
   {
    "duration": 29,
    "start_time": "2023-06-06T13:02:00.238Z"
   },
   {
    "duration": 9,
    "start_time": "2023-06-06T13:02:00.269Z"
   },
   {
    "duration": 5178,
    "start_time": "2023-06-06T13:02:00.280Z"
   },
   {
    "duration": 1685,
    "start_time": "2023-06-06T13:03:56.035Z"
   },
   {
    "duration": 878,
    "start_time": "2023-06-06T13:03:57.722Z"
   },
   {
    "duration": 39,
    "start_time": "2023-06-06T13:03:58.602Z"
   },
   {
    "duration": 260,
    "start_time": "2023-06-06T13:03:58.643Z"
   },
   {
    "duration": 38,
    "start_time": "2023-06-06T13:03:58.905Z"
   },
   {
    "duration": 56,
    "start_time": "2023-06-06T13:03:58.945Z"
   },
   {
    "duration": 28,
    "start_time": "2023-06-06T13:03:59.003Z"
   },
   {
    "duration": 5241,
    "start_time": "2023-06-06T13:03:59.032Z"
   },
   {
    "duration": 460423,
    "start_time": "2023-06-06T13:04:04.275Z"
   },
   {
    "duration": 3,
    "start_time": "2023-06-06T13:11:44.700Z"
   },
   {
    "duration": 137,
    "start_time": "2023-06-06T13:11:44.705Z"
   },
   {
    "duration": 31,
    "start_time": "2023-06-06T13:11:44.844Z"
   },
   {
    "duration": 26,
    "start_time": "2023-06-06T13:11:44.878Z"
   },
   {
    "duration": 58,
    "start_time": "2023-06-06T13:11:44.908Z"
   },
   {
    "duration": 22649,
    "start_time": "2023-06-06T13:11:44.968Z"
   },
   {
    "duration": 482221,
    "start_time": "2023-06-06T13:12:07.620Z"
   },
   {
    "duration": 1632213,
    "start_time": "2023-06-06T13:20:09.842Z"
   },
   {
    "duration": 1803744,
    "start_time": "2023-06-06T13:47:22.057Z"
   },
   {
    "duration": 59,
    "start_time": "2023-06-06T14:17:25.835Z"
   },
   {
    "duration": 357,
    "start_time": "2023-06-06T14:17:25.896Z"
   },
   {
    "duration": 10,
    "start_time": "2023-06-06T14:17:26.255Z"
   },
   {
    "duration": 33,
    "start_time": "2023-06-06T14:17:26.324Z"
   },
   {
    "duration": 8,
    "start_time": "2023-06-06T14:18:10.255Z"
   },
   {
    "duration": 24,
    "start_time": "2023-06-06T14:19:09.914Z"
   },
   {
    "duration": 118,
    "start_time": "2023-06-06T14:19:41.570Z"
   },
   {
    "duration": 22,
    "start_time": "2023-06-06T14:19:47.390Z"
   },
   {
    "duration": 216,
    "start_time": "2023-06-06T14:23:32.926Z"
   },
   {
    "duration": 1926,
    "start_time": "2023-06-06T19:34:18.534Z"
   },
   {
    "duration": 2293,
    "start_time": "2023-06-06T19:34:22.018Z"
   },
   {
    "duration": 35,
    "start_time": "2023-06-06T19:34:34.150Z"
   },
   {
    "duration": 212,
    "start_time": "2023-06-06T19:34:36.498Z"
   },
   {
    "duration": 37,
    "start_time": "2023-06-06T19:34:38.144Z"
   },
   {
    "duration": 5,
    "start_time": "2023-06-06T19:34:39.844Z"
   },
   {
    "duration": 4,
    "start_time": "2023-06-06T19:34:42.390Z"
   },
   {
    "duration": 130,
    "start_time": "2023-06-06T19:34:43.344Z"
   },
   {
    "duration": 4,
    "start_time": "2023-06-06T19:35:42.213Z"
   },
   {
    "duration": 12,
    "start_time": "2023-06-06T19:35:42.990Z"
   },
   {
    "duration": 25599,
    "start_time": "2023-06-06T19:35:50.886Z"
   },
   {
    "duration": 2710,
    "start_time": "2023-06-06T19:40:19.974Z"
   },
   {
    "duration": 532,
    "start_time": "2023-06-06T19:40:46.834Z"
   },
   {
    "duration": 3,
    "start_time": "2023-06-06T19:41:10.106Z"
   },
   {
    "duration": 4425,
    "start_time": "2023-06-07T07:18:52.809Z"
   },
   {
    "duration": 2292,
    "start_time": "2023-06-07T07:18:57.236Z"
   },
   {
    "duration": 43,
    "start_time": "2023-06-07T07:19:08.301Z"
   },
   {
    "duration": 42,
    "start_time": "2023-06-07T07:19:12.215Z"
   },
   {
    "duration": 4631,
    "start_time": "2023-06-07T07:19:47.134Z"
   },
   {
    "duration": 769,
    "start_time": "2023-06-07T07:19:51.767Z"
   },
   {
    "duration": 43,
    "start_time": "2023-06-07T07:19:52.538Z"
   },
   {
    "duration": 232,
    "start_time": "2023-06-07T07:19:52.582Z"
   },
   {
    "duration": 48,
    "start_time": "2023-06-07T07:19:52.816Z"
   },
   {
    "duration": 18,
    "start_time": "2023-06-07T07:19:52.866Z"
   },
   {
    "duration": 6,
    "start_time": "2023-06-07T07:19:52.886Z"
   },
   {
    "duration": 5125,
    "start_time": "2023-06-07T07:19:52.894Z"
   },
   {
    "duration": 3,
    "start_time": "2023-06-07T07:20:08.375Z"
   },
   {
    "duration": 7,
    "start_time": "2023-06-07T07:24:14.821Z"
   },
   {
    "duration": 2300444,
    "start_time": "2023-06-07T07:24:57.013Z"
   },
   {
    "duration": 103,
    "start_time": "2023-06-07T08:15:05.873Z"
   },
   {
    "duration": 3,
    "start_time": "2023-06-07T08:20:03.266Z"
   },
   {
    "duration": 58,
    "start_time": "2023-06-07T08:20:04.128Z"
   },
   {
    "duration": 4,
    "start_time": "2023-06-07T08:20:07.734Z"
   },
   {
    "duration": 2,
    "start_time": "2023-06-07T08:26:22.555Z"
   },
   {
    "duration": 16302,
    "start_time": "2023-06-07T08:28:18.803Z"
   },
   {
    "duration": 511971,
    "start_time": "2023-06-07T08:29:07.772Z"
   },
   {
    "duration": 50450,
    "start_time": "2023-06-07T08:37:39.744Z"
   },
   {
    "duration": 367436,
    "start_time": "2023-06-07T08:38:30.195Z"
   },
   {
    "duration": 9,
    "start_time": "2023-06-07T08:44:37.633Z"
   },
   {
    "duration": 48,
    "start_time": "2023-06-07T08:44:37.644Z"
   },
   {
    "duration": 7676,
    "start_time": "2023-06-07T13:03:58.833Z"
   },
   {
    "duration": 21,
    "start_time": "2023-06-07T13:04:19.488Z"
   },
   {
    "duration": 13,
    "start_time": "2023-06-07T13:04:26.285Z"
   },
   {
    "duration": 17,
    "start_time": "2023-06-07T13:04:51.349Z"
   },
   {
    "duration": 20,
    "start_time": "2023-06-07T13:05:06.623Z"
   },
   {
    "duration": 167,
    "start_time": "2023-06-07T13:05:11.355Z"
   }
  ],
  "kernelspec": {
   "display_name": "Python 3 (ipykernel)",
   "language": "python",
   "name": "python3"
  },
  "language_info": {
   "codemirror_mode": {
    "name": "ipython",
    "version": 3
   },
   "file_extension": ".py",
   "mimetype": "text/x-python",
   "name": "python",
   "nbconvert_exporter": "python",
   "pygments_lexer": "ipython3",
   "version": "3.9.5"
  },
  "toc": {
   "base_numbering": 1,
   "nav_menu": {},
   "number_sections": true,
   "sideBar": true,
   "skip_h1_title": true,
   "title_cell": "Содержание",
   "title_sidebar": "Contents",
   "toc_cell": true,
   "toc_position": {
    "height": "calc(100% - 180px)",
    "left": "10px",
    "top": "150px",
    "width": "302.391px"
   },
   "toc_section_display": true,
   "toc_window_display": true
  }
 },
 "nbformat": 4,
 "nbformat_minor": 2
}
