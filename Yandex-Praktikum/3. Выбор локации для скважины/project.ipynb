{
 "cells": [
  {
   "cell_type": "markdown",
   "metadata": {},
   "source": [
    "# Выбор локации для скважины"
   ]
  },
  {
   "cell_type": "markdown",
   "metadata": {},
   "source": [
    "Допустим, вы работаете в добывающей компании «ГлавРосГосНефть». Нужно решить, где бурить новую скважину.\n",
    "\n",
    "Вам предоставлены пробы нефти в трёх регионах: в каждом 10 000 месторождений, где измерили качество нефти и объём её запасов. Постройте модель машинного обучения, которая поможет определить регион, где добыча принесёт наибольшую прибыль. Проанализируйте возможную прибыль и риски техникой *Bootstrap.*\n",
    "\n",
    "Шаги для выбора локации:\n",
    "\n",
    "- В избранном регионе ищут месторождения, для каждого определяют значения признаков;\n",
    "- Строят модель и оценивают объём запасов;\n",
    "- Выбирают месторождения с самым высокими оценками значений. Количество месторождений зависит от бюджета компании и стоимости разработки одной скважины;\n",
    "- Прибыль равна суммарной прибыли отобранных месторождений."
   ]
  },
  {
   "cell_type": "markdown",
   "metadata": {},
   "source": [
    "**Фронт работы:**\n",
    "1. Изучить и подготовить данные для обучения модели;\n",
    "2. Обучить модель и проверить её качество;\n",
    "3. Задать переменные для расчетов, написать функцию расчета прибыли;\n",
    "4. Написать функцию для расчета средней прибыли, доверительного интервала и риска убытка;\n",
    "5. Сделать вывод о проделанной работе и полученных результатах."
   ]
  },
  {
   "cell_type": "markdown",
   "metadata": {},
   "source": [
    "## Загрузка и подготовка данных"
   ]
  },
  {
   "cell_type": "code",
   "execution_count": 1,
   "metadata": {},
   "outputs": [],
   "source": [
    "#Подгружаем библиотеки\n",
    "import pandas as pd\n",
    "import seaborn as sns\n",
    "import numpy as np\n",
    "from numpy.random import RandomState\n",
    "from sklearn.model_selection import train_test_split\n",
    "from sklearn.linear_model import LinearRegression\n",
    "from sklearn.preprocessing import StandardScaler\n",
    "from sklearn.metrics import mean_squared_error"
   ]
  },
  {
   "cell_type": "code",
   "execution_count": 2,
   "metadata": {},
   "outputs": [
    {
     "data": {
      "text/html": [
       "<div>\n",
       "<style scoped>\n",
       "    .dataframe tbody tr th:only-of-type {\n",
       "        vertical-align: middle;\n",
       "    }\n",
       "\n",
       "    .dataframe tbody tr th {\n",
       "        vertical-align: top;\n",
       "    }\n",
       "\n",
       "    .dataframe thead th {\n",
       "        text-align: right;\n",
       "    }\n",
       "</style>\n",
       "<table border=\"1\" class=\"dataframe\">\n",
       "  <thead>\n",
       "    <tr style=\"text-align: right;\">\n",
       "      <th></th>\n",
       "      <th>id</th>\n",
       "      <th>f0</th>\n",
       "      <th>f1</th>\n",
       "      <th>f2</th>\n",
       "      <th>product</th>\n",
       "    </tr>\n",
       "  </thead>\n",
       "  <tbody>\n",
       "    <tr>\n",
       "      <th>0</th>\n",
       "      <td>txEyH</td>\n",
       "      <td>0.705745</td>\n",
       "      <td>-0.497823</td>\n",
       "      <td>1.221170</td>\n",
       "      <td>105.280062</td>\n",
       "    </tr>\n",
       "    <tr>\n",
       "      <th>1</th>\n",
       "      <td>2acmU</td>\n",
       "      <td>1.334711</td>\n",
       "      <td>-0.340164</td>\n",
       "      <td>4.365080</td>\n",
       "      <td>73.037750</td>\n",
       "    </tr>\n",
       "    <tr>\n",
       "      <th>2</th>\n",
       "      <td>409Wp</td>\n",
       "      <td>1.022732</td>\n",
       "      <td>0.151990</td>\n",
       "      <td>1.419926</td>\n",
       "      <td>85.265647</td>\n",
       "    </tr>\n",
       "    <tr>\n",
       "      <th>3</th>\n",
       "      <td>iJLyR</td>\n",
       "      <td>-0.032172</td>\n",
       "      <td>0.139033</td>\n",
       "      <td>2.978566</td>\n",
       "      <td>168.620776</td>\n",
       "    </tr>\n",
       "    <tr>\n",
       "      <th>4</th>\n",
       "      <td>Xdl7t</td>\n",
       "      <td>1.988431</td>\n",
       "      <td>0.155413</td>\n",
       "      <td>4.751769</td>\n",
       "      <td>154.036647</td>\n",
       "    </tr>\n",
       "  </tbody>\n",
       "</table>\n",
       "</div>"
      ],
      "text/plain": [
       "      id        f0        f1        f2     product\n",
       "0  txEyH  0.705745 -0.497823  1.221170  105.280062\n",
       "1  2acmU  1.334711 -0.340164  4.365080   73.037750\n",
       "2  409Wp  1.022732  0.151990  1.419926   85.265647\n",
       "3  iJLyR -0.032172  0.139033  2.978566  168.620776\n",
       "4  Xdl7t  1.988431  0.155413  4.751769  154.036647"
      ]
     },
     "metadata": {},
     "output_type": "display_data"
    },
    {
     "data": {
      "text/html": [
       "<div>\n",
       "<style scoped>\n",
       "    .dataframe tbody tr th:only-of-type {\n",
       "        vertical-align: middle;\n",
       "    }\n",
       "\n",
       "    .dataframe tbody tr th {\n",
       "        vertical-align: top;\n",
       "    }\n",
       "\n",
       "    .dataframe thead th {\n",
       "        text-align: right;\n",
       "    }\n",
       "</style>\n",
       "<table border=\"1\" class=\"dataframe\">\n",
       "  <thead>\n",
       "    <tr style=\"text-align: right;\">\n",
       "      <th></th>\n",
       "      <th>id</th>\n",
       "      <th>f0</th>\n",
       "      <th>f1</th>\n",
       "      <th>f2</th>\n",
       "      <th>product</th>\n",
       "    </tr>\n",
       "  </thead>\n",
       "  <tbody>\n",
       "    <tr>\n",
       "      <th>0</th>\n",
       "      <td>kBEdx</td>\n",
       "      <td>-15.001348</td>\n",
       "      <td>-8.276000</td>\n",
       "      <td>-0.005876</td>\n",
       "      <td>3.179103</td>\n",
       "    </tr>\n",
       "    <tr>\n",
       "      <th>1</th>\n",
       "      <td>62mP7</td>\n",
       "      <td>14.272088</td>\n",
       "      <td>-3.475083</td>\n",
       "      <td>0.999183</td>\n",
       "      <td>26.953261</td>\n",
       "    </tr>\n",
       "    <tr>\n",
       "      <th>2</th>\n",
       "      <td>vyE1P</td>\n",
       "      <td>6.263187</td>\n",
       "      <td>-5.948386</td>\n",
       "      <td>5.001160</td>\n",
       "      <td>134.766305</td>\n",
       "    </tr>\n",
       "    <tr>\n",
       "      <th>3</th>\n",
       "      <td>KcrkZ</td>\n",
       "      <td>-13.081196</td>\n",
       "      <td>-11.506057</td>\n",
       "      <td>4.999415</td>\n",
       "      <td>137.945408</td>\n",
       "    </tr>\n",
       "    <tr>\n",
       "      <th>4</th>\n",
       "      <td>AHL4O</td>\n",
       "      <td>12.702195</td>\n",
       "      <td>-8.147433</td>\n",
       "      <td>5.004363</td>\n",
       "      <td>134.766305</td>\n",
       "    </tr>\n",
       "  </tbody>\n",
       "</table>\n",
       "</div>"
      ],
      "text/plain": [
       "      id         f0         f1        f2     product\n",
       "0  kBEdx -15.001348  -8.276000 -0.005876    3.179103\n",
       "1  62mP7  14.272088  -3.475083  0.999183   26.953261\n",
       "2  vyE1P   6.263187  -5.948386  5.001160  134.766305\n",
       "3  KcrkZ -13.081196 -11.506057  4.999415  137.945408\n",
       "4  AHL4O  12.702195  -8.147433  5.004363  134.766305"
      ]
     },
     "metadata": {},
     "output_type": "display_data"
    },
    {
     "data": {
      "text/html": [
       "<div>\n",
       "<style scoped>\n",
       "    .dataframe tbody tr th:only-of-type {\n",
       "        vertical-align: middle;\n",
       "    }\n",
       "\n",
       "    .dataframe tbody tr th {\n",
       "        vertical-align: top;\n",
       "    }\n",
       "\n",
       "    .dataframe thead th {\n",
       "        text-align: right;\n",
       "    }\n",
       "</style>\n",
       "<table border=\"1\" class=\"dataframe\">\n",
       "  <thead>\n",
       "    <tr style=\"text-align: right;\">\n",
       "      <th></th>\n",
       "      <th>id</th>\n",
       "      <th>f0</th>\n",
       "      <th>f1</th>\n",
       "      <th>f2</th>\n",
       "      <th>product</th>\n",
       "    </tr>\n",
       "  </thead>\n",
       "  <tbody>\n",
       "    <tr>\n",
       "      <th>0</th>\n",
       "      <td>fwXo0</td>\n",
       "      <td>-1.146987</td>\n",
       "      <td>0.963328</td>\n",
       "      <td>-0.828965</td>\n",
       "      <td>27.758673</td>\n",
       "    </tr>\n",
       "    <tr>\n",
       "      <th>1</th>\n",
       "      <td>WJtFt</td>\n",
       "      <td>0.262778</td>\n",
       "      <td>0.269839</td>\n",
       "      <td>-2.530187</td>\n",
       "      <td>56.069697</td>\n",
       "    </tr>\n",
       "    <tr>\n",
       "      <th>2</th>\n",
       "      <td>ovLUW</td>\n",
       "      <td>0.194587</td>\n",
       "      <td>0.289035</td>\n",
       "      <td>-5.586433</td>\n",
       "      <td>62.871910</td>\n",
       "    </tr>\n",
       "    <tr>\n",
       "      <th>3</th>\n",
       "      <td>q6cA6</td>\n",
       "      <td>2.236060</td>\n",
       "      <td>-0.553760</td>\n",
       "      <td>0.930038</td>\n",
       "      <td>114.572842</td>\n",
       "    </tr>\n",
       "    <tr>\n",
       "      <th>4</th>\n",
       "      <td>WPMUX</td>\n",
       "      <td>-0.515993</td>\n",
       "      <td>1.716266</td>\n",
       "      <td>5.899011</td>\n",
       "      <td>149.600746</td>\n",
       "    </tr>\n",
       "  </tbody>\n",
       "</table>\n",
       "</div>"
      ],
      "text/plain": [
       "      id        f0        f1        f2     product\n",
       "0  fwXo0 -1.146987  0.963328 -0.828965   27.758673\n",
       "1  WJtFt  0.262778  0.269839 -2.530187   56.069697\n",
       "2  ovLUW  0.194587  0.289035 -5.586433   62.871910\n",
       "3  q6cA6  2.236060 -0.553760  0.930038  114.572842\n",
       "4  WPMUX -0.515993  1.716266  5.899011  149.600746"
      ]
     },
     "metadata": {},
     "output_type": "display_data"
    }
   ],
   "source": [
    "#Запишем данные в переменные\n",
    "df0 = pd.read_csv('/datasets/geo_data_0.csv')\n",
    "df1 = pd.read_csv('/datasets/geo_data_1.csv')\n",
    "df2 = pd.read_csv('/datasets/geo_data_2.csv')\n",
    "\n",
    "#Изучим данные\n",
    "display(df0.head())\n",
    "display(df1.head())\n",
    "display(df2.head())"
   ]
  },
  {
   "cell_type": "code",
   "execution_count": 3,
   "metadata": {},
   "outputs": [
    {
     "name": "stdout",
     "output_type": "stream",
     "text": [
      "<class 'pandas.core.frame.DataFrame'>\n",
      "RangeIndex: 100000 entries, 0 to 99999\n",
      "Data columns (total 5 columns):\n",
      " #   Column   Non-Null Count   Dtype  \n",
      "---  ------   --------------   -----  \n",
      " 0   id       100000 non-null  object \n",
      " 1   f0       100000 non-null  float64\n",
      " 2   f1       100000 non-null  float64\n",
      " 3   f2       100000 non-null  float64\n",
      " 4   product  100000 non-null  float64\n",
      "dtypes: float64(4), object(1)\n",
      "memory usage: 3.8+ MB\n",
      "\n",
      "<class 'pandas.core.frame.DataFrame'>\n",
      "RangeIndex: 100000 entries, 0 to 99999\n",
      "Data columns (total 5 columns):\n",
      " #   Column   Non-Null Count   Dtype  \n",
      "---  ------   --------------   -----  \n",
      " 0   id       100000 non-null  object \n",
      " 1   f0       100000 non-null  float64\n",
      " 2   f1       100000 non-null  float64\n",
      " 3   f2       100000 non-null  float64\n",
      " 4   product  100000 non-null  float64\n",
      "dtypes: float64(4), object(1)\n",
      "memory usage: 3.8+ MB\n",
      "\n",
      "<class 'pandas.core.frame.DataFrame'>\n",
      "RangeIndex: 100000 entries, 0 to 99999\n",
      "Data columns (total 5 columns):\n",
      " #   Column   Non-Null Count   Dtype  \n",
      "---  ------   --------------   -----  \n",
      " 0   id       100000 non-null  object \n",
      " 1   f0       100000 non-null  float64\n",
      " 2   f1       100000 non-null  float64\n",
      " 3   f2       100000 non-null  float64\n",
      " 4   product  100000 non-null  float64\n",
      "dtypes: float64(4), object(1)\n",
      "memory usage: 3.8+ MB\n"
     ]
    }
   ],
   "source": [
    "#Изучим общую информацию о датафреймах\n",
    "df0.info()\n",
    "print('')\n",
    "df1.info()\n",
    "print('')\n",
    "df2.info()"
   ]
  },
  {
   "cell_type": "markdown",
   "metadata": {},
   "source": [
    "Типы данных в порядке, пропусков нет."
   ]
  },
  {
   "cell_type": "code",
   "execution_count": 4,
   "metadata": {},
   "outputs": [
    {
     "name": "stdout",
     "output_type": "stream",
     "text": [
      "0\n",
      "0\n",
      "0\n"
     ]
    }
   ],
   "source": [
    "#Проверяем наличие дубликатов\n",
    "print(df0.duplicated().sum())\n",
    "print(df1.duplicated().sum())\n",
    "print(df2.duplicated().sum())"
   ]
  },
  {
   "cell_type": "code",
   "execution_count": 5,
   "metadata": {},
   "outputs": [
    {
     "name": "stdout",
     "output_type": "stream",
     "text": [
      "10\n",
      "4\n",
      "4\n"
     ]
    }
   ],
   "source": [
    "#Проверим дубликаты по id\n",
    "print(df0['id'].duplicated().sum())\n",
    "print(df1['id'].duplicated().sum())\n",
    "print(df2['id'].duplicated().sum())"
   ]
  },
  {
   "cell_type": "markdown",
   "metadata": {},
   "source": [
    "Дубликаты по id есть в каждом датафрейме, однако непонятно, какой из них удалить, а какой оставить, потому что данные в других столбцах не совпадают. Поэтому, удалять их не будем — их мало и они не смогут сильно повлиять на модель."
   ]
  },
  {
   "cell_type": "code",
   "execution_count": 6,
   "metadata": {},
   "outputs": [
    {
     "data": {
      "text/html": [
       "<div>\n",
       "<style scoped>\n",
       "    .dataframe tbody tr th:only-of-type {\n",
       "        vertical-align: middle;\n",
       "    }\n",
       "\n",
       "    .dataframe tbody tr th {\n",
       "        vertical-align: top;\n",
       "    }\n",
       "\n",
       "    .dataframe thead th {\n",
       "        text-align: right;\n",
       "    }\n",
       "</style>\n",
       "<table border=\"1\" class=\"dataframe\">\n",
       "  <thead>\n",
       "    <tr style=\"text-align: right;\">\n",
       "      <th></th>\n",
       "      <th>f0</th>\n",
       "      <th>f1</th>\n",
       "      <th>f2</th>\n",
       "      <th>product</th>\n",
       "    </tr>\n",
       "  </thead>\n",
       "  <tbody>\n",
       "    <tr>\n",
       "      <th>0</th>\n",
       "      <td>0.705745</td>\n",
       "      <td>-0.497823</td>\n",
       "      <td>1.221170</td>\n",
       "      <td>105.280062</td>\n",
       "    </tr>\n",
       "    <tr>\n",
       "      <th>1</th>\n",
       "      <td>1.334711</td>\n",
       "      <td>-0.340164</td>\n",
       "      <td>4.365080</td>\n",
       "      <td>73.037750</td>\n",
       "    </tr>\n",
       "    <tr>\n",
       "      <th>2</th>\n",
       "      <td>1.022732</td>\n",
       "      <td>0.151990</td>\n",
       "      <td>1.419926</td>\n",
       "      <td>85.265647</td>\n",
       "    </tr>\n",
       "    <tr>\n",
       "      <th>3</th>\n",
       "      <td>-0.032172</td>\n",
       "      <td>0.139033</td>\n",
       "      <td>2.978566</td>\n",
       "      <td>168.620776</td>\n",
       "    </tr>\n",
       "    <tr>\n",
       "      <th>4</th>\n",
       "      <td>1.988431</td>\n",
       "      <td>0.155413</td>\n",
       "      <td>4.751769</td>\n",
       "      <td>154.036647</td>\n",
       "    </tr>\n",
       "  </tbody>\n",
       "</table>\n",
       "</div>"
      ],
      "text/plain": [
       "         f0        f1        f2     product\n",
       "0  0.705745 -0.497823  1.221170  105.280062\n",
       "1  1.334711 -0.340164  4.365080   73.037750\n",
       "2  1.022732  0.151990  1.419926   85.265647\n",
       "3 -0.032172  0.139033  2.978566  168.620776\n",
       "4  1.988431  0.155413  4.751769  154.036647"
      ]
     },
     "metadata": {},
     "output_type": "display_data"
    },
    {
     "data": {
      "text/html": [
       "<div>\n",
       "<style scoped>\n",
       "    .dataframe tbody tr th:only-of-type {\n",
       "        vertical-align: middle;\n",
       "    }\n",
       "\n",
       "    .dataframe tbody tr th {\n",
       "        vertical-align: top;\n",
       "    }\n",
       "\n",
       "    .dataframe thead th {\n",
       "        text-align: right;\n",
       "    }\n",
       "</style>\n",
       "<table border=\"1\" class=\"dataframe\">\n",
       "  <thead>\n",
       "    <tr style=\"text-align: right;\">\n",
       "      <th></th>\n",
       "      <th>f0</th>\n",
       "      <th>f1</th>\n",
       "      <th>f2</th>\n",
       "      <th>product</th>\n",
       "    </tr>\n",
       "  </thead>\n",
       "  <tbody>\n",
       "    <tr>\n",
       "      <th>0</th>\n",
       "      <td>-15.001348</td>\n",
       "      <td>-8.276000</td>\n",
       "      <td>-0.005876</td>\n",
       "      <td>3.179103</td>\n",
       "    </tr>\n",
       "    <tr>\n",
       "      <th>1</th>\n",
       "      <td>14.272088</td>\n",
       "      <td>-3.475083</td>\n",
       "      <td>0.999183</td>\n",
       "      <td>26.953261</td>\n",
       "    </tr>\n",
       "    <tr>\n",
       "      <th>2</th>\n",
       "      <td>6.263187</td>\n",
       "      <td>-5.948386</td>\n",
       "      <td>5.001160</td>\n",
       "      <td>134.766305</td>\n",
       "    </tr>\n",
       "    <tr>\n",
       "      <th>3</th>\n",
       "      <td>-13.081196</td>\n",
       "      <td>-11.506057</td>\n",
       "      <td>4.999415</td>\n",
       "      <td>137.945408</td>\n",
       "    </tr>\n",
       "    <tr>\n",
       "      <th>4</th>\n",
       "      <td>12.702195</td>\n",
       "      <td>-8.147433</td>\n",
       "      <td>5.004363</td>\n",
       "      <td>134.766305</td>\n",
       "    </tr>\n",
       "  </tbody>\n",
       "</table>\n",
       "</div>"
      ],
      "text/plain": [
       "          f0         f1        f2     product\n",
       "0 -15.001348  -8.276000 -0.005876    3.179103\n",
       "1  14.272088  -3.475083  0.999183   26.953261\n",
       "2   6.263187  -5.948386  5.001160  134.766305\n",
       "3 -13.081196 -11.506057  4.999415  137.945408\n",
       "4  12.702195  -8.147433  5.004363  134.766305"
      ]
     },
     "metadata": {},
     "output_type": "display_data"
    },
    {
     "data": {
      "text/html": [
       "<div>\n",
       "<style scoped>\n",
       "    .dataframe tbody tr th:only-of-type {\n",
       "        vertical-align: middle;\n",
       "    }\n",
       "\n",
       "    .dataframe tbody tr th {\n",
       "        vertical-align: top;\n",
       "    }\n",
       "\n",
       "    .dataframe thead th {\n",
       "        text-align: right;\n",
       "    }\n",
       "</style>\n",
       "<table border=\"1\" class=\"dataframe\">\n",
       "  <thead>\n",
       "    <tr style=\"text-align: right;\">\n",
       "      <th></th>\n",
       "      <th>f0</th>\n",
       "      <th>f1</th>\n",
       "      <th>f2</th>\n",
       "      <th>product</th>\n",
       "    </tr>\n",
       "  </thead>\n",
       "  <tbody>\n",
       "    <tr>\n",
       "      <th>0</th>\n",
       "      <td>-1.146987</td>\n",
       "      <td>0.963328</td>\n",
       "      <td>-0.828965</td>\n",
       "      <td>27.758673</td>\n",
       "    </tr>\n",
       "    <tr>\n",
       "      <th>1</th>\n",
       "      <td>0.262778</td>\n",
       "      <td>0.269839</td>\n",
       "      <td>-2.530187</td>\n",
       "      <td>56.069697</td>\n",
       "    </tr>\n",
       "    <tr>\n",
       "      <th>2</th>\n",
       "      <td>0.194587</td>\n",
       "      <td>0.289035</td>\n",
       "      <td>-5.586433</td>\n",
       "      <td>62.871910</td>\n",
       "    </tr>\n",
       "    <tr>\n",
       "      <th>3</th>\n",
       "      <td>2.236060</td>\n",
       "      <td>-0.553760</td>\n",
       "      <td>0.930038</td>\n",
       "      <td>114.572842</td>\n",
       "    </tr>\n",
       "    <tr>\n",
       "      <th>4</th>\n",
       "      <td>-0.515993</td>\n",
       "      <td>1.716266</td>\n",
       "      <td>5.899011</td>\n",
       "      <td>149.600746</td>\n",
       "    </tr>\n",
       "  </tbody>\n",
       "</table>\n",
       "</div>"
      ],
      "text/plain": [
       "         f0        f1        f2     product\n",
       "0 -1.146987  0.963328 -0.828965   27.758673\n",
       "1  0.262778  0.269839 -2.530187   56.069697\n",
       "2  0.194587  0.289035 -5.586433   62.871910\n",
       "3  2.236060 -0.553760  0.930038  114.572842\n",
       "4 -0.515993  1.716266  5.899011  149.600746"
      ]
     },
     "metadata": {},
     "output_type": "display_data"
    }
   ],
   "source": [
    "#Удаляем лишние столбцы (id)\n",
    "df0 = df0.drop(columns='id')\n",
    "df1 = df1.drop(columns='id')\n",
    "df2 = df2.drop(columns='id')\n",
    "\n",
    "#Проверяем\n",
    "display(df0.head())\n",
    "display(df1.head())\n",
    "display(df2.head())"
   ]
  },
  {
   "cell_type": "code",
   "execution_count": 7,
   "metadata": {},
   "outputs": [
    {
     "data": {
      "image/png": "[encoded data removed]",
      "text/plain": [
       "<Figure size 432x288 with 2 Axes>"
      ]
     },
     "metadata": {
      "needs_background": "light"
     },
     "output_type": "display_data"
    }
   ],
   "source": [
    "#Визуализируем корреляцию столбцов df0\n",
    "sns.heatmap(df0.corr(), annot=True);"
   ]
  },
  {
   "cell_type": "markdown",
   "metadata": {},
   "source": [
    "Наблюдается отрицательная корреляция между f1 и f0 и положительная между f2 и product."
   ]
  },
  {
   "cell_type": "code",
   "execution_count": 8,
   "metadata": {},
   "outputs": [
    {
     "data": {
      "image/png": "[encoded data removed]",
      "text/plain": [
       "<Figure size 432x288 with 2 Axes>"
      ]
     },
     "metadata": {
      "needs_background": "light"
     },
     "output_type": "display_data"
    }
   ],
   "source": [
    "#Визуализируем корреляцию столбцов df1\n",
    "sns.heatmap(df1.corr(), annot=True);"
   ]
  },
  {
   "cell_type": "markdown",
   "metadata": {},
   "source": [
    "Крайне сильная положительная корреляция между f2 и product."
   ]
  },
  {
   "cell_type": "code",
   "execution_count": 9,
   "metadata": {},
   "outputs": [
    {
     "data": {
      "image/png": "[encoded data removed]",
      "text/plain": [
       "<Figure size 432x288 with 2 Axes>"
      ]
     },
     "metadata": {
      "needs_background": "light"
     },
     "output_type": "display_data"
    }
   ],
   "source": [
    "#Визуализируем корреляцию столбцов df2\n",
    "sns.heatmap(df2.corr(), annot=True);"
   ]
  },
  {
   "cell_type": "markdown",
   "metadata": {},
   "source": [
    "Положительная корреляция между f2 и product."
   ]
  },
  {
   "cell_type": "markdown",
   "metadata": {},
   "source": [
    "## Обучение и проверка модели"
   ]
  },
  {
   "cell_type": "markdown",
   "metadata": {},
   "source": [
    "Поскольку у нас три датафрейма, чтобы избежать повторов, напишем функцию, принимающую на вход датафрейм и на выходе выдающую данные, которые требуются по заданию: предсказания и правильные ответы на валидационной выборке, а средний запас предсказанного сырья и RMSE модели."
   ]
  },
  {
   "cell_type": "code",
   "execution_count": 10,
   "metadata": {},
   "outputs": [],
   "source": [
    "#Функция делит df на фичи и таргет, масштабирует,\n",
    "#обучает модель линейной регрессии и выдает искомые данные.\n",
    "def split_learn(df):\n",
    "    features = df.drop(columns='product')\n",
    "    target = df['product']\n",
    "    \n",
    "    features_train, features_valid, target_train, target_valid = train_test_split(\n",
    "        features,\n",
    "        target,\n",
    "        test_size=0.25,\n",
    "        random_state=12345\n",
    "    )\n",
    "    \n",
    "    scaler = StandardScaler()\n",
    "    scaler.fit(features_train)\n",
    "    \n",
    "    features_train = scaler.transform(features_train)\n",
    "    features_valid = scaler.transform(features_valid)\n",
    "    \n",
    "    model = LinearRegression()\n",
    "    model.fit(features_train, target_train)\n",
    "    predictions = model.predict(features_valid)\n",
    "    predictions = pd.Series(predictions)\n",
    "    \n",
    "    rmse = mean_squared_error(target_valid, predictions)**0.5\n",
    "    mean_product = predictions.mean()\n",
    "        \n",
    "    return predictions, target_valid.reset_index(drop=True), mean_product, rmse"
   ]
  },
  {
   "cell_type": "code",
   "execution_count": 11,
   "metadata": {},
   "outputs": [
    {
     "name": "stdout",
     "output_type": "stream",
     "text": [
      "Средний запас сырья на скважину в нулевом регионе: 92.59 тысяч баррелей\n",
      "RMSE: 37.58\n"
     ]
    }
   ],
   "source": [
    "#Нулевой регион\n",
    "predictions0, target_valid0, mean_product0, rmse0 = split_learn(df0)\n",
    "print(f'Средний запас сырья на скважину в нулевом регионе: {mean_product0.round(2)} тысяч баррелей')\n",
    "print(f'RMSE: {rmse0.round(2)}')"
   ]
  },
  {
   "cell_type": "code",
   "execution_count": 12,
   "metadata": {},
   "outputs": [
    {
     "name": "stdout",
     "output_type": "stream",
     "text": [
      "Средний запас сырья на скважину в первом регионе: 68.73 тысяч баррелей\n",
      "RMSE: 0.89\n"
     ]
    }
   ],
   "source": [
    "#Первый регион\n",
    "predictions1, target_valid1, mean_product1, rmse1 = split_learn(df1)\n",
    "print(f'Средний запас сырья на скважину в первом регионе: {mean_product1.round(2)} тысяч баррелей')\n",
    "print(f'RMSE: {rmse1.round(2)}')"
   ]
  },
  {
   "cell_type": "code",
   "execution_count": 13,
   "metadata": {},
   "outputs": [
    {
     "name": "stdout",
     "output_type": "stream",
     "text": [
      "Средний запас сырья на скважину во втором регионе: 94.97 тысяч баррелей\n",
      "RMSE: 40.03\n"
     ]
    }
   ],
   "source": [
    "#Второй регион\n",
    "predictions2, target_valid2, mean_product2, rmse2 = split_learn(df2)\n",
    "print(f'Средний запас сырья на скважину во втором регионе: {mean_product2.round(2)} тысяч баррелей')\n",
    "print(f'RMSE: {rmse2.round(2)}')"
   ]
  },
  {
   "cell_type": "markdown",
   "metadata": {},
   "source": [
    "1. Минимальная RMSE модели (0.89) у первого региона. Это было очевидно изначально, учитывая корреляцию `df2` и `product` в единицу. Тем не менее, средний запас сырья на скважину в регионе оставляет желать лучшего — всего 68.73 тысяч баррелей, что является наименьшийм показателем среди регионов).\n",
    "\n",
    "2. Лидер по количеству сырья и, одновременно, по величине RMSE модели — второй регион с запасами почти в 95 тысяч баррелей и RMSE модели в 40.03.\n",
    "\n",
    "3. Нулевой регион может похвастаться хорошим запасом сырья в 92.59 тысяч баррелей. Тем не мнее, RMSE модели составляет 37.58."
   ]
  },
  {
   "cell_type": "markdown",
   "metadata": {},
   "source": [
    "## Подготовка к расчёту прибыли"
   ]
  },
  {
   "cell_type": "code",
   "execution_count": 14,
   "metadata": {},
   "outputs": [],
   "source": [
    "#Зададим значения переменным для расчетов\n",
    "budget = 10000000000\n",
    "price = 450000\n",
    "loss_prob = 0.025\n",
    "wells = 500\n",
    "best_wells = 200"
   ]
  },
  {
   "cell_type": "code",
   "execution_count": 15,
   "metadata": {},
   "outputs": [
    {
     "name": "stdout",
     "output_type": "stream",
     "text": [
      "Достаточный объём сырья для безубыточной разработки новой скважины: 111.11 тысяч баррелей\n"
     ]
    }
   ],
   "source": [
    "#Считаем достаточный объем скважины\n",
    "\n",
    "print('Достаточный объём сырья для безубыточной разработки новой скважины:',\n",
    "      round(budget / price / best_wells, 2), 'тысяч баррелей')"
   ]
  },
  {
   "cell_type": "markdown",
   "metadata": {},
   "source": [
    "Вспомним показатели средних запасов на скважину по регионам:\n",
    "1. Нулевой = 92.59 тысяч баррелей;\n",
    "2. Первый = 68.73 тысяч баррелей;\n",
    "3. Второй = 94.97 тысяч баррелей.\n",
    "\n",
    "Мы видим, что достаточный объем сырья для безубыточной разработки (111.11) существенно больше среднего показателя запасов сырья по каждому из регионов, особенно, в случае с первым регионом."
   ]
  },
  {
   "cell_type": "markdown",
   "metadata": {},
   "source": [
    "Напишем функцию для расчёта прибыли по выбранным скважинам и предсказаниям модели."
   ]
  },
  {
   "cell_type": "code",
   "execution_count": 16,
   "metadata": {},
   "outputs": [],
   "source": [
    "#Пишем функцию\n",
    "def profit(predictions, target):\n",
    "    predictions_sorted = predictions.sort_values(ascending=False)\n",
    "    target_sorted = target[predictions_sorted.index][:best_wells]\n",
    "    return target_sorted.sum() * price - budget"
   ]
  },
  {
   "cell_type": "markdown",
   "metadata": {},
   "source": [
    "## Расчёт прибыли и рисков "
   ]
  },
  {
   "cell_type": "markdown",
   "metadata": {},
   "source": [
    "Напишем функцию *bootstrap*, выдающую нам данные о средней прибыльности региона, доверительном интервале и риске убытка."
   ]
  },
  {
   "cell_type": "code",
   "execution_count": 17,
   "metadata": {},
   "outputs": [],
   "source": [
    "#Пишем функцию bootstrap\n",
    "def bootstrap(predictions, target):\n",
    "    state = np.random.RandomState(12345)\n",
    "    values = []\n",
    "\n",
    "    for i in range(1000):\n",
    "        target_sample = target.sample(n=wells, replace=True, random_state=state)\n",
    "        predictions_sample = predictions[target_sample.index]\n",
    "        values.append(profit(predictions_sample, target_sample))\n",
    "    values = pd.Series(values)\n",
    "    \n",
    "    lower = values.quantile(0.025)\n",
    "    upper = values.quantile(0.975)\n",
    "    mean_profit = values.mean()\n",
    "    risk = (values < 0).mean()\n",
    "    print(f'Средняя прибыль региона: {round(mean_profit, 2)}')\n",
    "    print(f'Доверительный интервал: от {round(lower, 2)} до {round(upper, 2)}')\n",
    "    print(f'Риск убытка: {risk:.2%}')"
   ]
  },
  {
   "cell_type": "code",
   "execution_count": 18,
   "metadata": {},
   "outputs": [
    {
     "name": "stdout",
     "output_type": "stream",
     "text": [
      "Данные по нулевому региону\n",
      "Средняя прибыль региона: 425938526.91\n",
      "Доверительный интервал: от -102090094.84 до 947976353.36\n",
      "Риск убытка: 6.00%\n"
     ]
    }
   ],
   "source": [
    "print('Данные по нулевому региону')\n",
    "bootstrap(predictions0, target_valid0)"
   ]
  },
  {
   "cell_type": "code",
   "execution_count": 19,
   "metadata": {},
   "outputs": [
    {
     "name": "stdout",
     "output_type": "stream",
     "text": [
      "Данные по первому региону\n",
      "Средняя прибыль региона: 515222773.44\n",
      "Доверительный интервал: от 68873225.37 до 931547591.26\n",
      "Риск убытка: 1.00%\n"
     ]
    }
   ],
   "source": [
    "print('Данные по первому региону')\n",
    "bootstrap(predictions1, target_valid1)"
   ]
  },
  {
   "cell_type": "code",
   "execution_count": 20,
   "metadata": {},
   "outputs": [
    {
     "name": "stdout",
     "output_type": "stream",
     "text": [
      "Данные по второму региону\n",
      "Средняя прибыль региона: 435008362.78\n",
      "Доверительный интервал: от -128880547.33 до 969706954.18\n",
      "Риск убытка: 6.40%\n"
     ]
    }
   ],
   "source": [
    "print('Данные по второму региону')\n",
    "bootstrap(predictions2, target_valid2)"
   ]
  },
  {
   "cell_type": "markdown",
   "metadata": {},
   "source": [
    "### Вывод:\n",
    "\n",
    "- Несмотря на внушительные средние запасы сырья на скважину в нулевом (92.59) и втором регионах (94.97), их RMSE 37.58 и 40.03 соответственно, что говорит о не лучшем качестве модели.\n",
    "- В первом регионе средние запасы сырья на скважину скромнее — 68.73 тысячи баррелей, однако качество модели превосходное — RMSE = 0.89.\n",
    "- После подсчетов средней прибыли регионов, доверительных интервалов и рисков убытка, можно сделать вывод, что нулевой и второй регионы не проходят по условию задачи, в котором говорится о максимально допустимом риске вероятности убытка в 2.5%.\n",
    "\n",
    "Можем сделать вывод, что лидером, на которого будем делать ставку, стал первый регион (df1) со следующими показателями:\n",
    "1. Средняя прибыль региона — 515.22 млн рублей;\n",
    "2. Доверительный интервал — от 68.87 до 931.55 млн рублей;\n",
    "3. Риск убытка — 1%."
   ]
  }
 ],
 "metadata": {
  "ExecuteTimeLog": [
   {
    "duration": 1031,
    "start_time": "2023-04-08T15:28:25.082Z"
   },
   {
    "duration": 972,
    "start_time": "2023-04-08T15:30:50.028Z"
   },
   {
    "duration": 38,
    "start_time": "2023-04-08T15:32:36.676Z"
   },
   {
    "duration": 30,
    "start_time": "2023-04-08T15:33:00.282Z"
   },
   {
    "duration": 35,
    "start_time": "2023-04-08T15:33:27.125Z"
   },
   {
    "duration": 44,
    "start_time": "2023-04-08T15:34:39.668Z"
   },
   {
    "duration": 43,
    "start_time": "2023-04-08T15:34:44.188Z"
   },
   {
    "duration": 123,
    "start_time": "2023-04-08T15:35:05.364Z"
   },
   {
    "duration": 120,
    "start_time": "2023-04-08T15:35:22.812Z"
   },
   {
    "duration": 1342,
    "start_time": "2023-04-08T15:36:22.631Z"
   },
   {
    "duration": 17,
    "start_time": "2023-04-08T15:36:30.253Z"
   },
   {
    "duration": 72,
    "start_time": "2023-04-08T15:36:43.622Z"
   },
   {
    "duration": 48,
    "start_time": "2023-04-08T15:41:31.745Z"
   },
   {
    "duration": 52,
    "start_time": "2023-04-08T15:41:43.482Z"
   },
   {
    "duration": 33,
    "start_time": "2023-04-08T15:42:06.090Z"
   },
   {
    "duration": 32,
    "start_time": "2023-04-08T15:42:23.034Z"
   },
   {
    "duration": 1073,
    "start_time": "2023-04-08T15:51:07.489Z"
   },
   {
    "duration": 412,
    "start_time": "2023-04-08T15:51:08.565Z"
   },
   {
    "duration": 32,
    "start_time": "2023-04-08T15:51:08.979Z"
   },
   {
    "duration": 137,
    "start_time": "2023-04-08T15:51:09.012Z"
   },
   {
    "duration": 56,
    "start_time": "2023-04-08T15:51:11.108Z"
   },
   {
    "duration": 2,
    "start_time": "2023-04-08T15:51:56.195Z"
   },
   {
    "duration": 111,
    "start_time": "2023-04-08T15:52:57.466Z"
   },
   {
    "duration": 30,
    "start_time": "2023-04-08T15:53:09.762Z"
   },
   {
    "duration": 1034,
    "start_time": "2023-04-08T15:54:09.658Z"
   },
   {
    "duration": 387,
    "start_time": "2023-04-08T15:54:10.695Z"
   },
   {
    "duration": 30,
    "start_time": "2023-04-08T15:54:11.083Z"
   },
   {
    "duration": 145,
    "start_time": "2023-04-08T15:54:11.115Z"
   },
   {
    "duration": 35,
    "start_time": "2023-04-08T15:54:11.263Z"
   },
   {
    "duration": 42,
    "start_time": "2023-04-08T15:54:12.234Z"
   },
   {
    "duration": 7,
    "start_time": "2023-04-08T15:58:59.198Z"
   },
   {
    "duration": 41,
    "start_time": "2023-04-08T15:59:04.666Z"
   },
   {
    "duration": 145,
    "start_time": "2023-04-08T15:59:13.871Z"
   },
   {
    "duration": 121,
    "start_time": "2023-04-08T16:01:09.509Z"
   },
   {
    "duration": 14,
    "start_time": "2023-04-08T16:01:13.070Z"
   },
   {
    "duration": 588,
    "start_time": "2023-04-08T16:02:02.766Z"
   },
   {
    "duration": 243,
    "start_time": "2023-04-08T16:02:23.171Z"
   },
   {
    "duration": 51,
    "start_time": "2023-04-08T16:02:36.729Z"
   },
   {
    "duration": 311,
    "start_time": "2023-04-08T16:02:39.593Z"
   },
   {
    "duration": 743,
    "start_time": "2023-04-08T16:04:02.830Z"
   },
   {
    "duration": 694,
    "start_time": "2023-04-08T16:04:56.092Z"
   },
   {
    "duration": 312,
    "start_time": "2023-04-08T16:06:14.506Z"
   },
   {
    "duration": 262,
    "start_time": "2023-04-08T16:06:14.860Z"
   },
   {
    "duration": 268,
    "start_time": "2023-04-08T16:06:15.165Z"
   },
   {
    "duration": 248,
    "start_time": "2023-04-08T16:06:22.562Z"
   },
   {
    "duration": 268,
    "start_time": "2023-04-08T16:06:24.970Z"
   },
   {
    "duration": 299,
    "start_time": "2023-04-08T16:06:26.274Z"
   },
   {
    "duration": 108,
    "start_time": "2023-04-08T16:09:11.465Z"
   },
   {
    "duration": 20,
    "start_time": "2023-04-08T16:09:16.516Z"
   },
   {
    "duration": 17,
    "start_time": "2023-04-08T16:09:20.518Z"
   },
   {
    "duration": 1409,
    "start_time": "2023-04-08T16:09:32.572Z"
   },
   {
    "duration": 428,
    "start_time": "2023-04-08T16:09:33.987Z"
   },
   {
    "duration": 36,
    "start_time": "2023-04-08T16:09:34.417Z"
   },
   {
    "duration": 132,
    "start_time": "2023-04-08T16:09:34.454Z"
   },
   {
    "duration": 34,
    "start_time": "2023-04-08T16:09:34.588Z"
   },
   {
    "duration": 64,
    "start_time": "2023-04-08T16:09:34.623Z"
   },
   {
    "duration": 122,
    "start_time": "2023-04-08T16:09:34.688Z"
   },
   {
    "duration": 0,
    "start_time": "2023-04-08T16:09:34.812Z"
   },
   {
    "duration": 0,
    "start_time": "2023-04-08T16:09:34.813Z"
   },
   {
    "duration": 320,
    "start_time": "2023-04-08T16:09:46.353Z"
   },
   {
    "duration": 332,
    "start_time": "2023-04-08T16:09:47.421Z"
   },
   {
    "duration": 282,
    "start_time": "2023-04-08T16:09:47.995Z"
   },
   {
    "duration": 307,
    "start_time": "2023-04-08T16:10:05.683Z"
   },
   {
    "duration": 8,
    "start_time": "2023-04-08T16:26:26.561Z"
   },
   {
    "duration": 37,
    "start_time": "2023-04-08T16:26:39.728Z"
   },
   {
    "duration": 4,
    "start_time": "2023-04-08T16:35:18.104Z"
   },
   {
    "duration": 31,
    "start_time": "2023-04-08T16:35:19.991Z"
   },
   {
    "duration": 4,
    "start_time": "2023-04-08T16:35:36.112Z"
   },
   {
    "duration": 4,
    "start_time": "2023-04-08T16:35:57.704Z"
   },
   {
    "duration": 39,
    "start_time": "2023-04-08T16:35:58.771Z"
   },
   {
    "duration": 3,
    "start_time": "2023-04-08T16:36:46.465Z"
   },
   {
    "duration": 56,
    "start_time": "2023-04-08T16:36:47.601Z"
   },
   {
    "duration": 306,
    "start_time": "2023-04-08T16:37:14.066Z"
   },
   {
    "duration": 333,
    "start_time": "2023-04-08T16:37:33.329Z"
   },
   {
    "duration": 4,
    "start_time": "2023-04-08T16:40:51.915Z"
   },
   {
    "duration": 387,
    "start_time": "2023-04-08T16:40:52.776Z"
   },
   {
    "duration": 4,
    "start_time": "2023-04-08T16:41:01.433Z"
   },
   {
    "duration": 272,
    "start_time": "2023-04-08T16:41:01.881Z"
   },
   {
    "duration": 5,
    "start_time": "2023-04-08T16:45:33.880Z"
   },
   {
    "duration": 411,
    "start_time": "2023-04-08T16:45:34.954Z"
   },
   {
    "duration": 38,
    "start_time": "2023-04-08T16:46:23.336Z"
   },
   {
    "duration": 44,
    "start_time": "2023-04-08T16:46:44.823Z"
   },
   {
    "duration": 31,
    "start_time": "2023-04-08T16:49:11.207Z"
   },
   {
    "duration": 21,
    "start_time": "2023-04-08T16:49:14.910Z"
   },
   {
    "duration": 23,
    "start_time": "2023-04-08T16:49:20.610Z"
   },
   {
    "duration": 24,
    "start_time": "2023-04-08T16:49:28.086Z"
   },
   {
    "duration": 36,
    "start_time": "2023-04-08T16:49:35.326Z"
   },
   {
    "duration": 73,
    "start_time": "2023-04-08T16:50:15.052Z"
   },
   {
    "duration": 29,
    "start_time": "2023-04-08T16:50:34.998Z"
   },
   {
    "duration": 22,
    "start_time": "2023-04-08T16:50:43.701Z"
   },
   {
    "duration": 69,
    "start_time": "2023-04-08T16:50:58.982Z"
   },
   {
    "duration": 72,
    "start_time": "2023-04-08T16:51:19.773Z"
   },
   {
    "duration": 65,
    "start_time": "2023-04-08T16:52:35.981Z"
   },
   {
    "duration": 23,
    "start_time": "2023-04-08T16:52:40.051Z"
   },
   {
    "duration": 22,
    "start_time": "2023-04-08T16:52:45.373Z"
   },
   {
    "duration": 4,
    "start_time": "2023-04-08T16:58:42.497Z"
   },
   {
    "duration": 67,
    "start_time": "2023-04-08T16:58:43.474Z"
   },
   {
    "duration": 22,
    "start_time": "2023-04-08T17:00:33.480Z"
   },
   {
    "duration": 27,
    "start_time": "2023-04-08T17:00:34.154Z"
   },
   {
    "duration": 3,
    "start_time": "2023-04-08T17:47:59.838Z"
   },
   {
    "duration": 3,
    "start_time": "2023-04-08T17:49:18.004Z"
   },
   {
    "duration": 68,
    "start_time": "2023-04-08T17:50:53.987Z"
   },
   {
    "duration": 66,
    "start_time": "2023-04-08T17:51:11.607Z"
   },
   {
    "duration": 4,
    "start_time": "2023-04-08T17:51:22.506Z"
   },
   {
    "duration": 4,
    "start_time": "2023-04-08T17:51:33.882Z"
   },
   {
    "duration": 65,
    "start_time": "2023-04-08T17:51:57.906Z"
   },
   {
    "duration": 69,
    "start_time": "2023-04-08T17:52:04.153Z"
   },
   {
    "duration": 76,
    "start_time": "2023-04-08T17:52:16.713Z"
   },
   {
    "duration": 3,
    "start_time": "2023-04-08T17:52:18.549Z"
   },
   {
    "duration": 86,
    "start_time": "2023-04-08T17:52:46.570Z"
   },
   {
    "duration": 67,
    "start_time": "2023-04-08T17:52:51.201Z"
   },
   {
    "duration": 68,
    "start_time": "2023-04-08T17:52:59.345Z"
   },
   {
    "duration": 3,
    "start_time": "2023-04-08T17:53:04.169Z"
   },
   {
    "duration": 69,
    "start_time": "2023-04-08T17:53:27.353Z"
   },
   {
    "duration": 3,
    "start_time": "2023-04-08T17:55:20.511Z"
   },
   {
    "duration": 2,
    "start_time": "2023-04-08T17:55:25.983Z"
   },
   {
    "duration": 3,
    "start_time": "2023-04-08T17:55:57.966Z"
   },
   {
    "duration": 74,
    "start_time": "2023-04-08T17:56:01.570Z"
   },
   {
    "duration": 3,
    "start_time": "2023-04-08T17:56:04.631Z"
   },
   {
    "duration": 4,
    "start_time": "2023-04-08T17:56:26.806Z"
   },
   {
    "duration": 9,
    "start_time": "2023-04-08T17:56:39.397Z"
   },
   {
    "duration": 68,
    "start_time": "2023-04-08T17:56:57.790Z"
   },
   {
    "duration": 3,
    "start_time": "2023-04-08T17:57:07.821Z"
   },
   {
    "duration": 3,
    "start_time": "2023-04-08T17:57:37.677Z"
   },
   {
    "duration": 3,
    "start_time": "2023-04-08T18:01:31.657Z"
   },
   {
    "duration": 4,
    "start_time": "2023-04-08T18:02:23.073Z"
   },
   {
    "duration": 2,
    "start_time": "2023-04-08T18:26:08.963Z"
   },
   {
    "duration": 8,
    "start_time": "2023-04-08T18:26:33.651Z"
   },
   {
    "duration": 12,
    "start_time": "2023-04-08T18:26:52.922Z"
   },
   {
    "duration": 3,
    "start_time": "2023-04-08T18:27:23.266Z"
   },
   {
    "duration": 22,
    "start_time": "2023-04-08T18:27:24.353Z"
   },
   {
    "duration": 3,
    "start_time": "2023-04-08T18:27:44.329Z"
   },
   {
    "duration": 3,
    "start_time": "2023-04-08T18:28:15.840Z"
   },
   {
    "duration": 13,
    "start_time": "2023-04-08T18:28:16.592Z"
   },
   {
    "duration": 4,
    "start_time": "2023-04-08T18:28:52.008Z"
   },
   {
    "duration": 12,
    "start_time": "2023-04-08T18:28:53.103Z"
   },
   {
    "duration": 3,
    "start_time": "2023-04-08T18:28:59.008Z"
   },
   {
    "duration": 20,
    "start_time": "2023-04-08T18:29:00.224Z"
   },
   {
    "duration": 3,
    "start_time": "2023-04-08T18:29:20.239Z"
   },
   {
    "duration": 11,
    "start_time": "2023-04-08T18:29:20.416Z"
   },
   {
    "duration": 3,
    "start_time": "2023-04-08T18:30:45.534Z"
   },
   {
    "duration": 8,
    "start_time": "2023-04-08T18:30:59.942Z"
   },
   {
    "duration": 4,
    "start_time": "2023-04-08T18:31:26.709Z"
   },
   {
    "duration": 5,
    "start_time": "2023-04-08T18:31:37.621Z"
   },
   {
    "duration": 21,
    "start_time": "2023-04-08T18:31:43.924Z"
   },
   {
    "duration": 5,
    "start_time": "2023-04-08T18:32:11.917Z"
   },
   {
    "duration": 5,
    "start_time": "2023-04-08T18:32:17.796Z"
   },
   {
    "duration": 3,
    "start_time": "2023-04-08T18:32:46.292Z"
   },
   {
    "duration": 10,
    "start_time": "2023-04-08T18:32:47.588Z"
   },
   {
    "duration": 1286,
    "start_time": "2023-04-08T18:36:09.369Z"
   },
   {
    "duration": 343,
    "start_time": "2023-04-08T18:36:10.656Z"
   },
   {
    "duration": 31,
    "start_time": "2023-04-08T18:36:11.000Z"
   },
   {
    "duration": 117,
    "start_time": "2023-04-08T18:36:11.033Z"
   },
   {
    "duration": 34,
    "start_time": "2023-04-08T18:36:11.151Z"
   },
   {
    "duration": 29,
    "start_time": "2023-04-08T18:36:11.187Z"
   },
   {
    "duration": 304,
    "start_time": "2023-04-08T18:36:11.218Z"
   },
   {
    "duration": 287,
    "start_time": "2023-04-08T18:36:11.523Z"
   },
   {
    "duration": 289,
    "start_time": "2023-04-08T18:36:11.811Z"
   },
   {
    "duration": 5,
    "start_time": "2023-04-08T18:36:12.102Z"
   },
   {
    "duration": 45,
    "start_time": "2023-04-08T18:36:12.109Z"
   },
   {
    "duration": 189,
    "start_time": "2023-04-08T18:36:12.155Z"
   },
   {
    "duration": 200,
    "start_time": "2023-04-08T18:36:12.346Z"
   },
   {
    "duration": 3,
    "start_time": "2023-04-08T18:36:12.548Z"
   },
   {
    "duration": 97,
    "start_time": "2023-04-08T18:36:12.553Z"
   },
   {
    "duration": 88,
    "start_time": "2023-04-08T18:36:12.652Z"
   },
   {
    "duration": 125,
    "start_time": "2023-04-08T18:36:12.742Z"
   },
   {
    "duration": 0,
    "start_time": "2023-04-08T18:36:12.869Z"
   },
   {
    "duration": 1364,
    "start_time": "2023-04-08T18:36:33.805Z"
   },
   {
    "duration": 364,
    "start_time": "2023-04-08T18:36:35.171Z"
   },
   {
    "duration": 34,
    "start_time": "2023-04-08T18:36:35.537Z"
   },
   {
    "duration": 125,
    "start_time": "2023-04-08T18:36:35.572Z"
   },
   {
    "duration": 46,
    "start_time": "2023-04-08T18:36:35.699Z"
   },
   {
    "duration": 29,
    "start_time": "2023-04-08T18:36:35.746Z"
   },
   {
    "duration": 325,
    "start_time": "2023-04-08T18:36:35.776Z"
   },
   {
    "duration": 317,
    "start_time": "2023-04-08T18:36:36.103Z"
   },
   {
    "duration": 342,
    "start_time": "2023-04-08T18:36:36.422Z"
   },
   {
    "duration": 6,
    "start_time": "2023-04-08T18:36:36.766Z"
   },
   {
    "duration": 69,
    "start_time": "2023-04-08T18:36:36.774Z"
   },
   {
    "duration": 112,
    "start_time": "2023-04-08T18:36:36.844Z"
   },
   {
    "duration": 184,
    "start_time": "2023-04-08T18:36:36.959Z"
   },
   {
    "duration": 3,
    "start_time": "2023-04-08T18:36:37.146Z"
   },
   {
    "duration": 7,
    "start_time": "2023-04-08T18:36:37.240Z"
   },
   {
    "duration": 6,
    "start_time": "2023-04-08T18:36:37.249Z"
   },
   {
    "duration": 114,
    "start_time": "2023-04-08T18:36:39.800Z"
   },
   {
    "duration": 3,
    "start_time": "2023-04-08T18:37:07.312Z"
   },
   {
    "duration": 23,
    "start_time": "2023-04-08T18:37:07.952Z"
   },
   {
    "duration": 3,
    "start_time": "2023-04-08T18:37:25.579Z"
   },
   {
    "duration": 21,
    "start_time": "2023-04-08T18:37:26.095Z"
   },
   {
    "duration": 3,
    "start_time": "2023-04-08T18:37:33.679Z"
   },
   {
    "duration": 21,
    "start_time": "2023-04-08T18:37:34.455Z"
   },
   {
    "duration": 3,
    "start_time": "2023-04-08T18:37:44.823Z"
   },
   {
    "duration": 12,
    "start_time": "2023-04-08T18:37:45.328Z"
   },
   {
    "duration": 3,
    "start_time": "2023-04-08T18:39:56.901Z"
   },
   {
    "duration": 22,
    "start_time": "2023-04-08T18:39:57.349Z"
   },
   {
    "duration": 5,
    "start_time": "2023-04-08T18:41:18.959Z"
   },
   {
    "duration": 8,
    "start_time": "2023-04-08T18:41:20.076Z"
   },
   {
    "duration": 9,
    "start_time": "2023-04-08T18:41:21.844Z"
   },
   {
    "duration": 8,
    "start_time": "2023-04-08T18:41:43.156Z"
   },
   {
    "duration": 8,
    "start_time": "2023-04-08T18:41:44.436Z"
   },
   {
    "duration": 3,
    "start_time": "2023-04-08T18:42:04.092Z"
   },
   {
    "duration": 8,
    "start_time": "2023-04-08T18:42:04.539Z"
   },
   {
    "duration": 9,
    "start_time": "2023-04-08T18:42:05.012Z"
   },
   {
    "duration": 8,
    "start_time": "2023-04-08T18:42:05.323Z"
   },
   {
    "duration": 3,
    "start_time": "2023-04-08T18:49:05.373Z"
   },
   {
    "duration": 5,
    "start_time": "2023-04-08T18:49:06.548Z"
   },
   {
    "duration": 8,
    "start_time": "2023-04-08T18:49:07.509Z"
   },
   {
    "duration": 8,
    "start_time": "2023-04-08T18:49:08.173Z"
   },
   {
    "duration": 7,
    "start_time": "2023-04-08T18:49:23.669Z"
   },
   {
    "duration": 3,
    "start_time": "2023-04-08T18:49:55.788Z"
   },
   {
    "duration": 8,
    "start_time": "2023-04-08T18:49:57.188Z"
   },
   {
    "duration": 7,
    "start_time": "2023-04-08T18:49:58.252Z"
   },
   {
    "duration": 3,
    "start_time": "2023-04-08T18:59:17.420Z"
   },
   {
    "duration": 3,
    "start_time": "2023-04-08T18:59:18.836Z"
   },
   {
    "duration": 5,
    "start_time": "2023-04-08T18:59:26.244Z"
   },
   {
    "duration": 1365,
    "start_time": "2023-04-08T18:59:38.319Z"
   },
   {
    "duration": 362,
    "start_time": "2023-04-08T18:59:39.685Z"
   },
   {
    "duration": 39,
    "start_time": "2023-04-08T18:59:40.048Z"
   },
   {
    "duration": 130,
    "start_time": "2023-04-08T18:59:40.088Z"
   },
   {
    "duration": 38,
    "start_time": "2023-04-08T18:59:40.220Z"
   },
   {
    "duration": 31,
    "start_time": "2023-04-08T18:59:40.260Z"
   },
   {
    "duration": 348,
    "start_time": "2023-04-08T18:59:40.293Z"
   },
   {
    "duration": 271,
    "start_time": "2023-04-08T18:59:40.643Z"
   },
   {
    "duration": 300,
    "start_time": "2023-04-08T18:59:40.915Z"
   },
   {
    "duration": 5,
    "start_time": "2023-04-08T18:59:41.216Z"
   },
   {
    "duration": 121,
    "start_time": "2023-04-08T18:59:41.222Z"
   },
   {
    "duration": 0,
    "start_time": "2023-04-08T18:59:41.345Z"
   },
   {
    "duration": 0,
    "start_time": "2023-04-08T18:59:41.346Z"
   },
   {
    "duration": 0,
    "start_time": "2023-04-08T18:59:41.347Z"
   },
   {
    "duration": 0,
    "start_time": "2023-04-08T18:59:41.348Z"
   },
   {
    "duration": 30,
    "start_time": "2023-04-08T19:00:21.540Z"
   },
   {
    "duration": 22,
    "start_time": "2023-04-08T19:00:22.035Z"
   },
   {
    "duration": 23,
    "start_time": "2023-04-08T19:00:22.347Z"
   },
   {
    "duration": 3,
    "start_time": "2023-04-08T19:00:29.979Z"
   },
   {
    "duration": 4,
    "start_time": "2023-04-08T19:00:30.501Z"
   },
   {
    "duration": 3,
    "start_time": "2023-04-08T19:06:14.426Z"
   },
   {
    "duration": 25,
    "start_time": "2023-04-08T19:06:36.142Z"
   },
   {
    "duration": 3,
    "start_time": "2023-04-08T19:06:48.038Z"
   },
   {
    "duration": 14,
    "start_time": "2023-04-08T19:06:48.302Z"
   },
   {
    "duration": 3,
    "start_time": "2023-04-08T19:06:57.270Z"
   },
   {
    "duration": 20,
    "start_time": "2023-04-08T19:06:57.798Z"
   },
   {
    "duration": 4,
    "start_time": "2023-04-08T19:09:06.956Z"
   },
   {
    "duration": 15,
    "start_time": "2023-04-08T19:09:08.339Z"
   },
   {
    "duration": 3,
    "start_time": "2023-04-08T19:09:14.364Z"
   },
   {
    "duration": 16,
    "start_time": "2023-04-08T19:09:14.988Z"
   },
   {
    "duration": 5,
    "start_time": "2023-04-08T19:09:44.851Z"
   },
   {
    "duration": 15,
    "start_time": "2023-04-08T19:09:45.107Z"
   },
   {
    "duration": 3,
    "start_time": "2023-04-08T19:13:01.016Z"
   },
   {
    "duration": 14,
    "start_time": "2023-04-08T19:13:01.489Z"
   },
   {
    "duration": 3,
    "start_time": "2023-04-08T19:13:07.472Z"
   },
   {
    "duration": 14,
    "start_time": "2023-04-08T19:13:08.152Z"
   },
   {
    "duration": 3,
    "start_time": "2023-04-08T19:13:38.336Z"
   },
   {
    "duration": 15,
    "start_time": "2023-04-08T19:13:38.656Z"
   },
   {
    "duration": 3,
    "start_time": "2023-04-08T19:13:52.776Z"
   },
   {
    "duration": 15,
    "start_time": "2023-04-08T19:13:53.032Z"
   },
   {
    "duration": 3,
    "start_time": "2023-04-08T19:14:28.735Z"
   },
   {
    "duration": 23,
    "start_time": "2023-04-08T19:14:29.239Z"
   },
   {
    "duration": 3,
    "start_time": "2023-04-08T19:15:23.662Z"
   },
   {
    "duration": 3,
    "start_time": "2023-04-08T19:15:23.910Z"
   },
   {
    "duration": 21,
    "start_time": "2023-04-08T19:15:24.830Z"
   },
   {
    "duration": 4,
    "start_time": "2023-04-08T19:20:47.618Z"
   },
   {
    "duration": 25,
    "start_time": "2023-04-08T19:20:48.625Z"
   },
   {
    "duration": 26,
    "start_time": "2023-04-08T19:20:51.137Z"
   },
   {
    "duration": 22,
    "start_time": "2023-04-08T19:20:51.674Z"
   },
   {
    "duration": 2,
    "start_time": "2023-04-08T19:20:54.121Z"
   },
   {
    "duration": 2,
    "start_time": "2023-04-08T19:20:54.482Z"
   },
   {
    "duration": 3,
    "start_time": "2023-04-08T19:21:03.474Z"
   },
   {
    "duration": 20,
    "start_time": "2023-04-08T19:21:03.898Z"
   },
   {
    "duration": 5,
    "start_time": "2023-04-08T19:22:12.208Z"
   },
   {
    "duration": 38,
    "start_time": "2023-04-08T19:22:12.704Z"
   },
   {
    "duration": 5,
    "start_time": "2023-04-08T19:22:27.473Z"
   },
   {
    "duration": 84,
    "start_time": "2023-04-08T19:22:27.857Z"
   },
   {
    "duration": 5,
    "start_time": "2023-04-08T19:22:35.152Z"
   },
   {
    "duration": 21,
    "start_time": "2023-04-08T19:22:35.521Z"
   },
   {
    "duration": 28,
    "start_time": "2023-04-08T19:22:36.624Z"
   },
   {
    "duration": 26,
    "start_time": "2023-04-08T19:22:37.952Z"
   },
   {
    "duration": 2,
    "start_time": "2023-04-08T19:22:39.952Z"
   },
   {
    "duration": 3,
    "start_time": "2023-04-08T19:22:40.224Z"
   },
   {
    "duration": 3,
    "start_time": "2023-04-08T19:22:42.312Z"
   },
   {
    "duration": 8,
    "start_time": "2023-04-08T19:22:43.448Z"
   },
   {
    "duration": 8,
    "start_time": "2023-04-08T19:23:08.008Z"
   },
   {
    "duration": 7,
    "start_time": "2023-04-08T19:23:08.320Z"
   },
   {
    "duration": 4,
    "start_time": "2023-04-08T19:24:23.623Z"
   },
   {
    "duration": 22,
    "start_time": "2023-04-08T19:24:24.031Z"
   },
   {
    "duration": 22,
    "start_time": "2023-04-08T19:24:24.814Z"
   },
   {
    "duration": 22,
    "start_time": "2023-04-08T19:24:25.086Z"
   },
   {
    "duration": 3,
    "start_time": "2023-04-08T19:24:27.206Z"
   },
   {
    "duration": 7,
    "start_time": "2023-04-08T19:24:28.046Z"
   },
   {
    "duration": 8,
    "start_time": "2023-04-08T19:24:28.774Z"
   },
   {
    "duration": 8,
    "start_time": "2023-04-08T19:24:29.174Z"
   },
   {
    "duration": 1282,
    "start_time": "2023-04-08T19:24:39.190Z"
   },
   {
    "duration": 352,
    "start_time": "2023-04-08T19:24:40.475Z"
   },
   {
    "duration": 33,
    "start_time": "2023-04-08T19:24:40.829Z"
   },
   {
    "duration": 115,
    "start_time": "2023-04-08T19:24:40.864Z"
   },
   {
    "duration": 35,
    "start_time": "2023-04-08T19:24:40.981Z"
   },
   {
    "duration": 40,
    "start_time": "2023-04-08T19:24:41.017Z"
   },
   {
    "duration": 301,
    "start_time": "2023-04-08T19:24:41.058Z"
   },
   {
    "duration": 262,
    "start_time": "2023-04-08T19:24:41.361Z"
   },
   {
    "duration": 288,
    "start_time": "2023-04-08T19:24:41.625Z"
   },
   {
    "duration": 5,
    "start_time": "2023-04-08T19:24:41.914Z"
   },
   {
    "duration": 44,
    "start_time": "2023-04-08T19:24:41.920Z"
   },
   {
    "duration": 187,
    "start_time": "2023-04-08T19:24:41.966Z"
   },
   {
    "duration": 197,
    "start_time": "2023-04-08T19:24:42.154Z"
   },
   {
    "duration": 3,
    "start_time": "2023-04-08T19:24:42.354Z"
   },
   {
    "duration": 6,
    "start_time": "2023-04-08T19:24:42.440Z"
   },
   {
    "duration": 92,
    "start_time": "2023-04-08T19:24:42.448Z"
   },
   {
    "duration": 11,
    "start_time": "2023-04-08T19:24:42.542Z"
   },
   {
    "duration": 18,
    "start_time": "2023-04-08T19:24:42.554Z"
   },
   {
    "duration": 8,
    "start_time": "2023-04-08T19:24:45.398Z"
   },
   {
    "duration": 4,
    "start_time": "2023-04-08T19:29:48.533Z"
   },
   {
    "duration": 112,
    "start_time": "2023-04-08T19:30:14.969Z"
   },
   {
    "duration": 3,
    "start_time": "2023-04-08T19:30:42.491Z"
   },
   {
    "duration": 4,
    "start_time": "2023-04-08T19:30:47.065Z"
   },
   {
    "duration": 972,
    "start_time": "2023-04-08T19:30:47.545Z"
   },
   {
    "duration": 1038,
    "start_time": "2023-04-08T19:31:35.952Z"
   },
   {
    "duration": 851,
    "start_time": "2023-04-08T19:31:47.272Z"
   },
   {
    "duration": 878,
    "start_time": "2023-04-08T19:31:56.696Z"
   },
   {
    "duration": 7,
    "start_time": "2023-04-08T19:33:43.915Z"
   },
   {
    "duration": 4,
    "start_time": "2023-04-08T19:34:36.452Z"
   },
   {
    "duration": 880,
    "start_time": "2023-04-08T19:34:36.789Z"
   },
   {
    "duration": 855,
    "start_time": "2023-04-08T19:34:38.949Z"
   },
   {
    "duration": 861,
    "start_time": "2023-04-08T19:34:39.805Z"
   },
   {
    "duration": 3,
    "start_time": "2023-04-08T19:37:38.650Z"
   },
   {
    "duration": 25,
    "start_time": "2023-04-08T19:37:39.203Z"
   },
   {
    "duration": 3,
    "start_time": "2023-04-08T19:38:49.329Z"
   },
   {
    "duration": 663,
    "start_time": "2023-04-08T19:38:50.081Z"
   },
   {
    "duration": 657,
    "start_time": "2023-04-08T19:38:53.033Z"
   },
   {
    "duration": 664,
    "start_time": "2023-04-08T19:38:54.089Z"
   },
   {
    "duration": 2,
    "start_time": "2023-04-08T19:40:07.800Z"
   },
   {
    "duration": 7,
    "start_time": "2023-04-08T19:40:08.080Z"
   },
   {
    "duration": 8,
    "start_time": "2023-04-08T19:40:08.447Z"
   },
   {
    "duration": 7,
    "start_time": "2023-04-08T19:40:08.767Z"
   },
   {
    "duration": 3,
    "start_time": "2023-04-08T19:40:09.200Z"
   },
   {
    "duration": 700,
    "start_time": "2023-04-08T19:40:09.720Z"
   },
   {
    "duration": 697,
    "start_time": "2023-04-08T19:40:11.087Z"
   },
   {
    "duration": 677,
    "start_time": "2023-04-08T19:40:11.785Z"
   },
   {
    "duration": 3,
    "start_time": "2023-04-08T19:41:34.135Z"
   },
   {
    "duration": 949,
    "start_time": "2023-04-08T19:41:34.470Z"
   },
   {
    "duration": 1078,
    "start_time": "2023-04-08T19:41:35.990Z"
   },
   {
    "duration": 949,
    "start_time": "2023-04-08T19:41:37.422Z"
   },
   {
    "duration": 4,
    "start_time": "2023-04-08T19:41:55.038Z"
   },
   {
    "duration": 727,
    "start_time": "2023-04-08T19:41:55.606Z"
   },
   {
    "duration": 703,
    "start_time": "2023-04-08T19:41:57.014Z"
   },
   {
    "duration": 686,
    "start_time": "2023-04-08T19:41:57.732Z"
   },
   {
    "duration": 3,
    "start_time": "2023-04-08T19:45:28.315Z"
   },
   {
    "duration": 2,
    "start_time": "2023-04-08T19:45:29.606Z"
   },
   {
    "duration": 4,
    "start_time": "2023-04-08T19:45:30.378Z"
   },
   {
    "duration": 664,
    "start_time": "2023-04-08T19:45:31.707Z"
   },
   {
    "duration": 666,
    "start_time": "2023-04-08T19:45:34.722Z"
   },
   {
    "duration": 665,
    "start_time": "2023-04-08T19:45:44.739Z"
   },
   {
    "duration": 646,
    "start_time": "2023-04-08T19:45:52.994Z"
   },
   {
    "duration": 3,
    "start_time": "2023-04-08T19:46:12.618Z"
   },
   {
    "duration": 859,
    "start_time": "2023-04-08T19:46:12.994Z"
   },
   {
    "duration": 859,
    "start_time": "2023-04-08T19:46:13.854Z"
   },
   {
    "duration": 862,
    "start_time": "2023-04-08T19:46:14.714Z"
   },
   {
    "duration": 3,
    "start_time": "2023-04-08T19:46:32.202Z"
   },
   {
    "duration": 6,
    "start_time": "2023-04-08T19:46:32.466Z"
   },
   {
    "duration": 8,
    "start_time": "2023-04-08T19:46:32.683Z"
   },
   {
    "duration": 7,
    "start_time": "2023-04-08T19:46:33.370Z"
   },
   {
    "duration": 4,
    "start_time": "2023-04-08T19:46:35.297Z"
   },
   {
    "duration": 913,
    "start_time": "2023-04-08T19:46:35.522Z"
   },
   {
    "duration": 867,
    "start_time": "2023-04-08T19:46:36.439Z"
   },
   {
    "duration": 909,
    "start_time": "2023-04-08T19:46:37.307Z"
   },
   {
    "duration": 3,
    "start_time": "2023-04-08T19:47:25.593Z"
   },
   {
    "duration": 942,
    "start_time": "2023-04-08T19:47:26.921Z"
   },
   {
    "duration": 879,
    "start_time": "2023-04-08T20:04:07.794Z"
   },
   {
    "duration": 960,
    "start_time": "2023-04-08T20:04:20.506Z"
   },
   {
    "duration": 875,
    "start_time": "2023-04-08T20:04:42.721Z"
   },
   {
    "duration": 4,
    "start_time": "2023-04-08T20:07:05.071Z"
   },
   {
    "duration": 1174,
    "start_time": "2023-04-08T20:07:06.455Z"
   },
   {
    "duration": 1096,
    "start_time": "2023-04-08T20:07:07.903Z"
   },
   {
    "duration": 1128,
    "start_time": "2023-04-08T20:07:10.295Z"
   },
   {
    "duration": 1129,
    "start_time": "2023-04-08T20:07:11.934Z"
   },
   {
    "duration": 3,
    "start_time": "2023-04-08T20:17:12.078Z"
   },
   {
    "duration": 1032,
    "start_time": "2023-04-08T20:17:13.374Z"
   },
   {
    "duration": 1124,
    "start_time": "2023-04-08T20:17:16.029Z"
   },
   {
    "duration": 1068,
    "start_time": "2023-04-08T20:17:17.155Z"
   },
   {
    "duration": 5,
    "start_time": "2023-04-08T20:17:44.205Z"
   },
   {
    "duration": 1075,
    "start_time": "2023-04-08T20:17:44.453Z"
   },
   {
    "duration": 1085,
    "start_time": "2023-04-08T20:17:45.530Z"
   },
   {
    "duration": 1144,
    "start_time": "2023-04-08T20:17:46.617Z"
   },
   {
    "duration": 4,
    "start_time": "2023-04-08T20:18:56.171Z"
   },
   {
    "duration": 1090,
    "start_time": "2023-04-08T20:18:56.812Z"
   },
   {
    "duration": 3,
    "start_time": "2023-04-08T20:19:33.630Z"
   },
   {
    "duration": 3,
    "start_time": "2023-04-08T20:19:34.195Z"
   },
   {
    "duration": 1108,
    "start_time": "2023-04-08T20:19:35.035Z"
   },
   {
    "duration": 4,
    "start_time": "2023-04-08T20:22:19.824Z"
   },
   {
    "duration": 1036,
    "start_time": "2023-04-08T20:22:20.849Z"
   },
   {
    "duration": 1047,
    "start_time": "2023-04-08T20:22:22.585Z"
   },
   {
    "duration": 1040,
    "start_time": "2023-04-08T20:22:23.634Z"
   },
   {
    "duration": 1135,
    "start_time": "2023-04-08T20:22:31.209Z"
   },
   {
    "duration": 1053,
    "start_time": "2023-04-08T20:22:32.345Z"
   },
   {
    "duration": 1088,
    "start_time": "2023-04-08T20:22:33.400Z"
   },
   {
    "duration": 1084,
    "start_time": "2023-04-08T20:22:38.664Z"
   },
   {
    "duration": 1084,
    "start_time": "2023-04-08T20:22:39.750Z"
   },
   {
    "duration": 1070,
    "start_time": "2023-04-08T20:22:40.835Z"
   },
   {
    "duration": 1151,
    "start_time": "2023-04-08T20:24:11.791Z"
   },
   {
    "duration": 1161,
    "start_time": "2023-04-08T20:24:14.431Z"
   },
   {
    "duration": 1353,
    "start_time": "2023-04-08T20:24:27.093Z"
   },
   {
    "duration": 362,
    "start_time": "2023-04-08T20:24:28.448Z"
   },
   {
    "duration": 41,
    "start_time": "2023-04-08T20:24:28.812Z"
   },
   {
    "duration": 128,
    "start_time": "2023-04-08T20:24:28.854Z"
   },
   {
    "duration": 37,
    "start_time": "2023-04-08T20:24:28.985Z"
   },
   {
    "duration": 44,
    "start_time": "2023-04-08T20:24:29.024Z"
   },
   {
    "duration": 356,
    "start_time": "2023-04-08T20:24:29.070Z"
   },
   {
    "duration": 291,
    "start_time": "2023-04-08T20:24:29.427Z"
   },
   {
    "duration": 288,
    "start_time": "2023-04-08T20:24:29.719Z"
   },
   {
    "duration": 5,
    "start_time": "2023-04-08T20:24:30.009Z"
   },
   {
    "duration": 65,
    "start_time": "2023-04-08T20:24:30.015Z"
   },
   {
    "duration": 172,
    "start_time": "2023-04-08T20:24:30.081Z"
   },
   {
    "duration": 201,
    "start_time": "2023-04-08T20:24:30.254Z"
   },
   {
    "duration": 86,
    "start_time": "2023-04-08T20:24:30.457Z"
   },
   {
    "duration": 97,
    "start_time": "2023-04-08T20:24:30.545Z"
   },
   {
    "duration": 50,
    "start_time": "2023-04-08T20:24:30.644Z"
   },
   {
    "duration": 3,
    "start_time": "2023-04-08T20:24:35.607Z"
   },
   {
    "duration": 1139,
    "start_time": "2023-04-08T20:24:36.862Z"
   },
   {
    "duration": 1094,
    "start_time": "2023-04-08T20:24:38.003Z"
   },
   {
    "duration": 1159,
    "start_time": "2023-04-08T20:24:39.099Z"
   },
   {
    "duration": 4,
    "start_time": "2023-04-08T20:34:33.030Z"
   },
   {
    "duration": 1049,
    "start_time": "2023-04-08T20:34:39.778Z"
   },
   {
    "duration": 4,
    "start_time": "2023-04-08T20:35:00.606Z"
   },
   {
    "duration": 1064,
    "start_time": "2023-04-08T20:35:01.342Z"
   },
   {
    "duration": 4,
    "start_time": "2023-04-08T20:35:14.781Z"
   },
   {
    "duration": 1042,
    "start_time": "2023-04-08T20:35:15.085Z"
   },
   {
    "duration": 4,
    "start_time": "2023-04-08T20:35:53.541Z"
   },
   {
    "duration": 1051,
    "start_time": "2023-04-08T20:35:53.780Z"
   },
   {
    "duration": 4,
    "start_time": "2023-04-08T20:36:35.733Z"
   },
   {
    "duration": 1192,
    "start_time": "2023-04-08T20:36:36.012Z"
   },
   {
    "duration": 4,
    "start_time": "2023-04-08T20:37:01.812Z"
   },
   {
    "duration": 1034,
    "start_time": "2023-04-08T20:37:02.163Z"
   },
   {
    "duration": 1047,
    "start_time": "2023-04-08T20:37:11.179Z"
   },
   {
    "duration": 1040,
    "start_time": "2023-04-08T20:37:12.228Z"
   },
   {
    "duration": 98,
    "start_time": "2023-04-08T20:39:32.338Z"
   },
   {
    "duration": 1058,
    "start_time": "2023-04-08T20:40:07.521Z"
   },
   {
    "duration": 1065,
    "start_time": "2023-04-08T20:40:24.697Z"
   },
   {
    "duration": 1179,
    "start_time": "2023-04-08T20:40:28.862Z"
   },
   {
    "duration": 5,
    "start_time": "2023-04-08T20:40:38.896Z"
   },
   {
    "duration": 1053,
    "start_time": "2023-04-08T20:40:43.688Z"
   },
   {
    "duration": 1056,
    "start_time": "2023-04-08T20:40:44.743Z"
   },
   {
    "duration": 1129,
    "start_time": "2023-04-08T20:40:45.801Z"
   },
   {
    "duration": 5,
    "start_time": "2023-04-08T20:40:57.536Z"
   },
   {
    "duration": 1071,
    "start_time": "2023-04-08T20:40:58.456Z"
   },
   {
    "duration": 1052,
    "start_time": "2023-04-08T20:40:59.528Z"
   },
   {
    "duration": 1062,
    "start_time": "2023-04-08T20:41:00.582Z"
   },
   {
    "duration": 5,
    "start_time": "2023-04-08T20:41:18.680Z"
   },
   {
    "duration": 1046,
    "start_time": "2023-04-08T20:41:18.919Z"
   },
   {
    "duration": 1047,
    "start_time": "2023-04-08T20:41:19.967Z"
   },
   {
    "duration": 4,
    "start_time": "2023-04-08T20:41:25.912Z"
   },
   {
    "duration": 1157,
    "start_time": "2023-04-08T20:41:26.128Z"
   },
   {
    "duration": 1091,
    "start_time": "2023-04-08T20:41:27.286Z"
   },
   {
    "duration": 4,
    "start_time": "2023-04-08T20:41:37.368Z"
   },
   {
    "duration": 1126,
    "start_time": "2023-04-08T20:41:37.640Z"
   },
   {
    "duration": 1120,
    "start_time": "2023-04-08T20:41:38.767Z"
   },
   {
    "duration": 1108,
    "start_time": "2023-04-08T20:41:39.889Z"
   },
   {
    "duration": 1294,
    "start_time": "2023-04-08T20:52:28.958Z"
   },
   {
    "duration": 361,
    "start_time": "2023-04-08T20:52:30.254Z"
   },
   {
    "duration": 38,
    "start_time": "2023-04-08T20:52:30.616Z"
   },
   {
    "duration": 121,
    "start_time": "2023-04-08T20:52:30.655Z"
   },
   {
    "duration": 36,
    "start_time": "2023-04-08T20:52:30.778Z"
   },
   {
    "duration": 48,
    "start_time": "2023-04-08T20:52:30.816Z"
   },
   {
    "duration": 300,
    "start_time": "2023-04-08T20:52:30.866Z"
   },
   {
    "duration": 260,
    "start_time": "2023-04-08T20:52:31.168Z"
   },
   {
    "duration": 292,
    "start_time": "2023-04-08T20:52:31.430Z"
   },
   {
    "duration": 4,
    "start_time": "2023-04-08T20:52:31.724Z"
   },
   {
    "duration": 41,
    "start_time": "2023-04-08T20:52:31.730Z"
   },
   {
    "duration": 182,
    "start_time": "2023-04-08T20:52:31.772Z"
   },
   {
    "duration": 194,
    "start_time": "2023-04-08T20:52:31.955Z"
   },
   {
    "duration": 3,
    "start_time": "2023-04-08T20:52:32.152Z"
   },
   {
    "duration": 11,
    "start_time": "2023-04-08T20:52:32.239Z"
   },
   {
    "duration": 93,
    "start_time": "2023-04-08T20:52:32.252Z"
   },
   {
    "duration": 6,
    "start_time": "2023-04-08T20:52:32.347Z"
   },
   {
    "duration": 1084,
    "start_time": "2023-04-08T20:52:32.355Z"
   },
   {
    "duration": 1065,
    "start_time": "2023-04-08T20:52:33.440Z"
   },
   {
    "duration": 1074,
    "start_time": "2023-04-08T20:52:34.506Z"
   },
   {
    "duration": 31,
    "start_time": "2023-04-08T20:59:19.144Z"
   },
   {
    "duration": 86,
    "start_time": "2023-04-08T20:59:19.360Z"
   },
   {
    "duration": 101,
    "start_time": "2023-04-08T20:59:19.540Z"
   },
   {
    "duration": 5,
    "start_time": "2023-04-08T21:05:02.227Z"
   },
   {
    "duration": 1340,
    "start_time": "2023-04-08T21:08:17.046Z"
   },
   {
    "duration": 354,
    "start_time": "2023-04-08T21:08:18.387Z"
   },
   {
    "duration": 30,
    "start_time": "2023-04-08T21:08:18.743Z"
   },
   {
    "duration": 119,
    "start_time": "2023-04-08T21:08:18.775Z"
   },
   {
    "duration": 35,
    "start_time": "2023-04-08T21:08:18.896Z"
   },
   {
    "duration": 29,
    "start_time": "2023-04-08T21:08:18.939Z"
   },
   {
    "duration": 318,
    "start_time": "2023-04-08T21:08:18.969Z"
   },
   {
    "duration": 335,
    "start_time": "2023-04-08T21:08:19.289Z"
   },
   {
    "duration": 279,
    "start_time": "2023-04-08T21:08:19.625Z"
   },
   {
    "duration": 4,
    "start_time": "2023-04-08T21:08:19.906Z"
   },
   {
    "duration": 45,
    "start_time": "2023-04-08T21:08:19.911Z"
   },
   {
    "duration": 200,
    "start_time": "2023-04-08T21:08:19.958Z"
   },
   {
    "duration": 193,
    "start_time": "2023-04-08T21:08:20.160Z"
   },
   {
    "duration": 5,
    "start_time": "2023-04-08T21:08:20.356Z"
   },
   {
    "duration": 14,
    "start_time": "2023-04-08T21:08:20.440Z"
   },
   {
    "duration": 11,
    "start_time": "2023-04-08T21:08:20.541Z"
   },
   {
    "duration": 19,
    "start_time": "2023-04-08T21:08:20.553Z"
   },
   {
    "duration": 1086,
    "start_time": "2023-04-08T21:08:20.573Z"
   },
   {
    "duration": 1050,
    "start_time": "2023-04-08T21:08:21.660Z"
   },
   {
    "duration": 1058,
    "start_time": "2023-04-08T21:08:22.712Z"
   }
  ],
  "kernelspec": {
   "display_name": "Python 3 (ipykernel)",
   "language": "python",
   "name": "python3"
  },
  "language_info": {
   "codemirror_mode": {
    "name": "ipython",
    "version": 3
   },
   "file_extension": ".py",
   "mimetype": "text/x-python",
   "name": "python",
   "nbconvert_exporter": "python",
   "pygments_lexer": "ipython3",
   "version": "3.9.5"
  },
  "toc": {
   "base_numbering": 1,
   "nav_menu": {},
   "number_sections": true,
   "sideBar": true,
   "skip_h1_title": true,
   "title_cell": "Table of Contents",
   "title_sidebar": "Contents",
   "toc_cell": false,
   "toc_position": {},
   "toc_section_display": true,
   "toc_window_display": true
  }
 },
 "nbformat": 4,
 "nbformat_minor": 2
}
