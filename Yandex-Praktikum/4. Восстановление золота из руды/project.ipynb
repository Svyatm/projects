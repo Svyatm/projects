{
 "cells": [
  {
   "cell_type": "markdown",
   "metadata": {},
   "source": [
    "# Восстановление золота из руды"
   ]
  },
  {
   "cell_type": "markdown",
   "metadata": {},
   "source": [
    "Подготовьте прототип модели машинного обучения для «Цифры». Компания разрабатывает решения для эффективной работы промышленных предприятий.\n",
    "\n",
    "Модель должна предсказать коэффициент восстановления золота из золотосодержащей руды. Используйте данные с параметрами добычи и очистки. \n",
    "\n",
    "Модель поможет оптимизировать производство, чтобы не запускать предприятие с убыточными характеристиками.\n",
    "\n",
    "Вам нужно:\n",
    "\n",
    "1. Подготовить данные;\n",
    "2. Провести исследовательский анализ данных;\n",
    "3. Построить и обучить модель.\n",
    "\n",
    "Чтобы выполнить проект, обращайтесь к библиотекам *pandas*, *matplotlib* и *sklearn.* Вам поможет их документация."
   ]
  },
  {
   "cell_type": "markdown",
   "metadata": {},
   "source": [
    "**Фронт работы:**\n",
    "1. Подготовить данные:\n",
    "- Открыть файлы и изучить их.\n",
    "- Проверить, что эффективность обогащения рассчитана правильно. Вычислить её на обучающей выборке для признака `rougher.output.recovery`. Найти MAE между расчётами и значением признака.\n",
    "- Проанализировать признаки, недоступные в тестовой выборке.\n",
    "- Провести предобработку данных.\n",
    "2. Проанализировать данные:\n",
    "- Посмотреть, как меняется концентрация металлов (Au, Ag, Pb) на различных этапах очистки.\n",
    "- Сравнить распределения размеров гранул сырья на обучающей и тестовой выборках.\n",
    "- Исследовать суммарную концентрацию всех веществ на разных стадиях: в сырье, в черновом и финальном концентратах. \n",
    "3. Построить модель:\n",
    "- Написать функцию для вычисления итоговой sMAPE.\n",
    "- Обучить разные модели и выбрать лучшую модель, а также проверить её на тестовой выборке."
   ]
  },
  {
   "cell_type": "markdown",
   "metadata": {},
   "source": [
    "## Подготовка данных"
   ]
  },
  {
   "cell_type": "markdown",
   "metadata": {},
   "source": [
    "### Открытие и изучение файлов"
   ]
  },
  {
   "cell_type": "code",
   "execution_count": 1,
   "metadata": {},
   "outputs": [],
   "source": [
    "#Импортируем библиотеки\n",
    "import pandas as pd\n",
    "import seaborn as sns\n",
    "import matplotlib.pyplot as plt\n",
    "from sklearn.linear_model import LinearRegression, Lasso\n",
    "from sklearn.ensemble import RandomForestRegressor\n",
    "from sklearn.preprocessing import StandardScaler\n",
    "from sklearn.metrics import mean_absolute_error, make_scorer\n",
    "from sklearn.model_selection import GridSearchCV\n",
    "from sklearn.dummy import DummyRegressor"
   ]
  },
  {
   "cell_type": "code",
   "execution_count": 2,
   "metadata": {
    "scrolled": true
   },
   "outputs": [
    {
     "data": {
      "text/html": [
       "<div>\n",
       "<style scoped>\n",
       "    .dataframe tbody tr th:only-of-type {\n",
       "        vertical-align: middle;\n",
       "    }\n",
       "\n",
       "    .dataframe tbody tr th {\n",
       "        vertical-align: top;\n",
       "    }\n",
       "\n",
       "    .dataframe thead th {\n",
       "        text-align: right;\n",
       "    }\n",
       "</style>\n",
       "<table border=\"1\" class=\"dataframe\">\n",
       "  <thead>\n",
       "    <tr style=\"text-align: right;\">\n",
       "      <th></th>\n",
       "      <th>final.output.concentrate_ag</th>\n",
       "      <th>final.output.concentrate_pb</th>\n",
       "      <th>final.output.concentrate_sol</th>\n",
       "      <th>final.output.concentrate_au</th>\n",
       "      <th>final.output.recovery</th>\n",
       "      <th>final.output.tail_ag</th>\n",
       "      <th>final.output.tail_pb</th>\n",
       "      <th>final.output.tail_sol</th>\n",
       "      <th>final.output.tail_au</th>\n",
       "      <th>primary_cleaner.input.sulfate</th>\n",
       "      <th>...</th>\n",
       "      <th>secondary_cleaner.state.floatbank4_a_air</th>\n",
       "      <th>secondary_cleaner.state.floatbank4_a_level</th>\n",
       "      <th>secondary_cleaner.state.floatbank4_b_air</th>\n",
       "      <th>secondary_cleaner.state.floatbank4_b_level</th>\n",
       "      <th>secondary_cleaner.state.floatbank5_a_air</th>\n",
       "      <th>secondary_cleaner.state.floatbank5_a_level</th>\n",
       "      <th>secondary_cleaner.state.floatbank5_b_air</th>\n",
       "      <th>secondary_cleaner.state.floatbank5_b_level</th>\n",
       "      <th>secondary_cleaner.state.floatbank6_a_air</th>\n",
       "      <th>secondary_cleaner.state.floatbank6_a_level</th>\n",
       "    </tr>\n",
       "    <tr>\n",
       "      <th>date</th>\n",
       "      <th></th>\n",
       "      <th></th>\n",
       "      <th></th>\n",
       "      <th></th>\n",
       "      <th></th>\n",
       "      <th></th>\n",
       "      <th></th>\n",
       "      <th></th>\n",
       "      <th></th>\n",
       "      <th></th>\n",
       "      <th></th>\n",
       "      <th></th>\n",
       "      <th></th>\n",
       "      <th></th>\n",
       "      <th></th>\n",
       "      <th></th>\n",
       "      <th></th>\n",
       "      <th></th>\n",
       "      <th></th>\n",
       "      <th></th>\n",
       "      <th></th>\n",
       "    </tr>\n",
       "  </thead>\n",
       "  <tbody>\n",
       "    <tr>\n",
       "      <th>2016-01-15 00:00:00</th>\n",
       "      <td>6.055403</td>\n",
       "      <td>9.889648</td>\n",
       "      <td>5.507324</td>\n",
       "      <td>42.192020</td>\n",
       "      <td>70.541216</td>\n",
       "      <td>10.411962</td>\n",
       "      <td>0.895447</td>\n",
       "      <td>16.904297</td>\n",
       "      <td>2.143149</td>\n",
       "      <td>127.092003</td>\n",
       "      <td>...</td>\n",
       "      <td>14.016835</td>\n",
       "      <td>-502.488007</td>\n",
       "      <td>12.099931</td>\n",
       "      <td>-504.715942</td>\n",
       "      <td>9.925633</td>\n",
       "      <td>-498.310211</td>\n",
       "      <td>8.079666</td>\n",
       "      <td>-500.470978</td>\n",
       "      <td>14.151341</td>\n",
       "      <td>-605.841980</td>\n",
       "    </tr>\n",
       "    <tr>\n",
       "      <th>2016-01-15 01:00:00</th>\n",
       "      <td>6.029369</td>\n",
       "      <td>9.968944</td>\n",
       "      <td>5.257781</td>\n",
       "      <td>42.701629</td>\n",
       "      <td>69.266198</td>\n",
       "      <td>10.462676</td>\n",
       "      <td>0.927452</td>\n",
       "      <td>16.634514</td>\n",
       "      <td>2.224930</td>\n",
       "      <td>125.629232</td>\n",
       "      <td>...</td>\n",
       "      <td>13.992281</td>\n",
       "      <td>-505.503262</td>\n",
       "      <td>11.950531</td>\n",
       "      <td>-501.331529</td>\n",
       "      <td>10.039245</td>\n",
       "      <td>-500.169983</td>\n",
       "      <td>7.984757</td>\n",
       "      <td>-500.582168</td>\n",
       "      <td>13.998353</td>\n",
       "      <td>-599.787184</td>\n",
       "    </tr>\n",
       "    <tr>\n",
       "      <th>2016-01-15 02:00:00</th>\n",
       "      <td>6.055926</td>\n",
       "      <td>10.213995</td>\n",
       "      <td>5.383759</td>\n",
       "      <td>42.657501</td>\n",
       "      <td>68.116445</td>\n",
       "      <td>10.507046</td>\n",
       "      <td>0.953716</td>\n",
       "      <td>16.208849</td>\n",
       "      <td>2.257889</td>\n",
       "      <td>123.819808</td>\n",
       "      <td>...</td>\n",
       "      <td>14.015015</td>\n",
       "      <td>-502.520901</td>\n",
       "      <td>11.912783</td>\n",
       "      <td>-501.133383</td>\n",
       "      <td>10.070913</td>\n",
       "      <td>-500.129135</td>\n",
       "      <td>8.013877</td>\n",
       "      <td>-500.517572</td>\n",
       "      <td>14.028663</td>\n",
       "      <td>-601.427363</td>\n",
       "    </tr>\n",
       "    <tr>\n",
       "      <th>2016-01-15 03:00:00</th>\n",
       "      <td>6.047977</td>\n",
       "      <td>9.977019</td>\n",
       "      <td>4.858634</td>\n",
       "      <td>42.689819</td>\n",
       "      <td>68.347543</td>\n",
       "      <td>10.422762</td>\n",
       "      <td>0.883763</td>\n",
       "      <td>16.532835</td>\n",
       "      <td>2.146849</td>\n",
       "      <td>122.270188</td>\n",
       "      <td>...</td>\n",
       "      <td>14.036510</td>\n",
       "      <td>-500.857308</td>\n",
       "      <td>11.999550</td>\n",
       "      <td>-501.193686</td>\n",
       "      <td>9.970366</td>\n",
       "      <td>-499.201640</td>\n",
       "      <td>7.977324</td>\n",
       "      <td>-500.255908</td>\n",
       "      <td>14.005551</td>\n",
       "      <td>-599.996129</td>\n",
       "    </tr>\n",
       "    <tr>\n",
       "      <th>2016-01-15 04:00:00</th>\n",
       "      <td>6.148599</td>\n",
       "      <td>10.142511</td>\n",
       "      <td>4.939416</td>\n",
       "      <td>42.774141</td>\n",
       "      <td>66.927016</td>\n",
       "      <td>10.360302</td>\n",
       "      <td>0.792826</td>\n",
       "      <td>16.525686</td>\n",
       "      <td>2.055292</td>\n",
       "      <td>117.988169</td>\n",
       "      <td>...</td>\n",
       "      <td>14.027298</td>\n",
       "      <td>-499.838632</td>\n",
       "      <td>11.953070</td>\n",
       "      <td>-501.053894</td>\n",
       "      <td>9.925709</td>\n",
       "      <td>-501.686727</td>\n",
       "      <td>7.894242</td>\n",
       "      <td>-500.356035</td>\n",
       "      <td>13.996647</td>\n",
       "      <td>-601.496691</td>\n",
       "    </tr>\n",
       "  </tbody>\n",
       "</table>\n",
       "<p>5 rows × 86 columns</p>\n",
       "</div>"
      ],
      "text/plain": [
       "                     final.output.concentrate_ag  final.output.concentrate_pb  \\\n",
       "date                                                                            \n",
       "2016-01-15 00:00:00                     6.055403                     9.889648   \n",
       "2016-01-15 01:00:00                     6.029369                     9.968944   \n",
       "2016-01-15 02:00:00                     6.055926                    10.213995   \n",
       "2016-01-15 03:00:00                     6.047977                     9.977019   \n",
       "2016-01-15 04:00:00                     6.148599                    10.142511   \n",
       "\n",
       "                     final.output.concentrate_sol  \\\n",
       "date                                                \n",
       "2016-01-15 00:00:00                      5.507324   \n",
       "2016-01-15 01:00:00                      5.257781   \n",
       "2016-01-15 02:00:00                      5.383759   \n",
       "2016-01-15 03:00:00                      4.858634   \n",
       "2016-01-15 04:00:00                      4.939416   \n",
       "\n",
       "                     final.output.concentrate_au  final.output.recovery  \\\n",
       "date                                                                      \n",
       "2016-01-15 00:00:00                    42.192020              70.541216   \n",
       "2016-01-15 01:00:00                    42.701629              69.266198   \n",
       "2016-01-15 02:00:00                    42.657501              68.116445   \n",
       "2016-01-15 03:00:00                    42.689819              68.347543   \n",
       "2016-01-15 04:00:00                    42.774141              66.927016   \n",
       "\n",
       "                     final.output.tail_ag  final.output.tail_pb  \\\n",
       "date                                                              \n",
       "2016-01-15 00:00:00             10.411962              0.895447   \n",
       "2016-01-15 01:00:00             10.462676              0.927452   \n",
       "2016-01-15 02:00:00             10.507046              0.953716   \n",
       "2016-01-15 03:00:00             10.422762              0.883763   \n",
       "2016-01-15 04:00:00             10.360302              0.792826   \n",
       "\n",
       "                     final.output.tail_sol  final.output.tail_au  \\\n",
       "date                                                               \n",
       "2016-01-15 00:00:00              16.904297              2.143149   \n",
       "2016-01-15 01:00:00              16.634514              2.224930   \n",
       "2016-01-15 02:00:00              16.208849              2.257889   \n",
       "2016-01-15 03:00:00              16.532835              2.146849   \n",
       "2016-01-15 04:00:00              16.525686              2.055292   \n",
       "\n",
       "                     primary_cleaner.input.sulfate  ...  \\\n",
       "date                                                ...   \n",
       "2016-01-15 00:00:00                     127.092003  ...   \n",
       "2016-01-15 01:00:00                     125.629232  ...   \n",
       "2016-01-15 02:00:00                     123.819808  ...   \n",
       "2016-01-15 03:00:00                     122.270188  ...   \n",
       "2016-01-15 04:00:00                     117.988169  ...   \n",
       "\n",
       "                     secondary_cleaner.state.floatbank4_a_air  \\\n",
       "date                                                            \n",
       "2016-01-15 00:00:00                                 14.016835   \n",
       "2016-01-15 01:00:00                                 13.992281   \n",
       "2016-01-15 02:00:00                                 14.015015   \n",
       "2016-01-15 03:00:00                                 14.036510   \n",
       "2016-01-15 04:00:00                                 14.027298   \n",
       "\n",
       "                     secondary_cleaner.state.floatbank4_a_level  \\\n",
       "date                                                              \n",
       "2016-01-15 00:00:00                                 -502.488007   \n",
       "2016-01-15 01:00:00                                 -505.503262   \n",
       "2016-01-15 02:00:00                                 -502.520901   \n",
       "2016-01-15 03:00:00                                 -500.857308   \n",
       "2016-01-15 04:00:00                                 -499.838632   \n",
       "\n",
       "                     secondary_cleaner.state.floatbank4_b_air  \\\n",
       "date                                                            \n",
       "2016-01-15 00:00:00                                 12.099931   \n",
       "2016-01-15 01:00:00                                 11.950531   \n",
       "2016-01-15 02:00:00                                 11.912783   \n",
       "2016-01-15 03:00:00                                 11.999550   \n",
       "2016-01-15 04:00:00                                 11.953070   \n",
       "\n",
       "                     secondary_cleaner.state.floatbank4_b_level  \\\n",
       "date                                                              \n",
       "2016-01-15 00:00:00                                 -504.715942   \n",
       "2016-01-15 01:00:00                                 -501.331529   \n",
       "2016-01-15 02:00:00                                 -501.133383   \n",
       "2016-01-15 03:00:00                                 -501.193686   \n",
       "2016-01-15 04:00:00                                 -501.053894   \n",
       "\n",
       "                     secondary_cleaner.state.floatbank5_a_air  \\\n",
       "date                                                            \n",
       "2016-01-15 00:00:00                                  9.925633   \n",
       "2016-01-15 01:00:00                                 10.039245   \n",
       "2016-01-15 02:00:00                                 10.070913   \n",
       "2016-01-15 03:00:00                                  9.970366   \n",
       "2016-01-15 04:00:00                                  9.925709   \n",
       "\n",
       "                     secondary_cleaner.state.floatbank5_a_level  \\\n",
       "date                                                              \n",
       "2016-01-15 00:00:00                                 -498.310211   \n",
       "2016-01-15 01:00:00                                 -500.169983   \n",
       "2016-01-15 02:00:00                                 -500.129135   \n",
       "2016-01-15 03:00:00                                 -499.201640   \n",
       "2016-01-15 04:00:00                                 -501.686727   \n",
       "\n",
       "                     secondary_cleaner.state.floatbank5_b_air  \\\n",
       "date                                                            \n",
       "2016-01-15 00:00:00                                  8.079666   \n",
       "2016-01-15 01:00:00                                  7.984757   \n",
       "2016-01-15 02:00:00                                  8.013877   \n",
       "2016-01-15 03:00:00                                  7.977324   \n",
       "2016-01-15 04:00:00                                  7.894242   \n",
       "\n",
       "                     secondary_cleaner.state.floatbank5_b_level  \\\n",
       "date                                                              \n",
       "2016-01-15 00:00:00                                 -500.470978   \n",
       "2016-01-15 01:00:00                                 -500.582168   \n",
       "2016-01-15 02:00:00                                 -500.517572   \n",
       "2016-01-15 03:00:00                                 -500.255908   \n",
       "2016-01-15 04:00:00                                 -500.356035   \n",
       "\n",
       "                     secondary_cleaner.state.floatbank6_a_air  \\\n",
       "date                                                            \n",
       "2016-01-15 00:00:00                                 14.151341   \n",
       "2016-01-15 01:00:00                                 13.998353   \n",
       "2016-01-15 02:00:00                                 14.028663   \n",
       "2016-01-15 03:00:00                                 14.005551   \n",
       "2016-01-15 04:00:00                                 13.996647   \n",
       "\n",
       "                     secondary_cleaner.state.floatbank6_a_level  \n",
       "date                                                             \n",
       "2016-01-15 00:00:00                                 -605.841980  \n",
       "2016-01-15 01:00:00                                 -599.787184  \n",
       "2016-01-15 02:00:00                                 -601.427363  \n",
       "2016-01-15 03:00:00                                 -599.996129  \n",
       "2016-01-15 04:00:00                                 -601.496691  \n",
       "\n",
       "[5 rows x 86 columns]"
      ]
     },
     "metadata": {},
     "output_type": "display_data"
    },
    {
     "data": {
      "text/html": [
       "<div>\n",
       "<style scoped>\n",
       "    .dataframe tbody tr th:only-of-type {\n",
       "        vertical-align: middle;\n",
       "    }\n",
       "\n",
       "    .dataframe tbody tr th {\n",
       "        vertical-align: top;\n",
       "    }\n",
       "\n",
       "    .dataframe thead th {\n",
       "        text-align: right;\n",
       "    }\n",
       "</style>\n",
       "<table border=\"1\" class=\"dataframe\">\n",
       "  <thead>\n",
       "    <tr style=\"text-align: right;\">\n",
       "      <th></th>\n",
       "      <th>primary_cleaner.input.sulfate</th>\n",
       "      <th>primary_cleaner.input.depressant</th>\n",
       "      <th>primary_cleaner.input.feed_size</th>\n",
       "      <th>primary_cleaner.input.xanthate</th>\n",
       "      <th>primary_cleaner.state.floatbank8_a_air</th>\n",
       "      <th>primary_cleaner.state.floatbank8_a_level</th>\n",
       "      <th>primary_cleaner.state.floatbank8_b_air</th>\n",
       "      <th>primary_cleaner.state.floatbank8_b_level</th>\n",
       "      <th>primary_cleaner.state.floatbank8_c_air</th>\n",
       "      <th>primary_cleaner.state.floatbank8_c_level</th>\n",
       "      <th>...</th>\n",
       "      <th>secondary_cleaner.state.floatbank4_a_air</th>\n",
       "      <th>secondary_cleaner.state.floatbank4_a_level</th>\n",
       "      <th>secondary_cleaner.state.floatbank4_b_air</th>\n",
       "      <th>secondary_cleaner.state.floatbank4_b_level</th>\n",
       "      <th>secondary_cleaner.state.floatbank5_a_air</th>\n",
       "      <th>secondary_cleaner.state.floatbank5_a_level</th>\n",
       "      <th>secondary_cleaner.state.floatbank5_b_air</th>\n",
       "      <th>secondary_cleaner.state.floatbank5_b_level</th>\n",
       "      <th>secondary_cleaner.state.floatbank6_a_air</th>\n",
       "      <th>secondary_cleaner.state.floatbank6_a_level</th>\n",
       "    </tr>\n",
       "    <tr>\n",
       "      <th>date</th>\n",
       "      <th></th>\n",
       "      <th></th>\n",
       "      <th></th>\n",
       "      <th></th>\n",
       "      <th></th>\n",
       "      <th></th>\n",
       "      <th></th>\n",
       "      <th></th>\n",
       "      <th></th>\n",
       "      <th></th>\n",
       "      <th></th>\n",
       "      <th></th>\n",
       "      <th></th>\n",
       "      <th></th>\n",
       "      <th></th>\n",
       "      <th></th>\n",
       "      <th></th>\n",
       "      <th></th>\n",
       "      <th></th>\n",
       "      <th></th>\n",
       "      <th></th>\n",
       "    </tr>\n",
       "  </thead>\n",
       "  <tbody>\n",
       "    <tr>\n",
       "      <th>2016-09-01 00:59:59</th>\n",
       "      <td>210.800909</td>\n",
       "      <td>14.993118</td>\n",
       "      <td>8.080000</td>\n",
       "      <td>1.005021</td>\n",
       "      <td>1398.981301</td>\n",
       "      <td>-500.225577</td>\n",
       "      <td>1399.144926</td>\n",
       "      <td>-499.919735</td>\n",
       "      <td>1400.102998</td>\n",
       "      <td>-500.704369</td>\n",
       "      <td>...</td>\n",
       "      <td>12.023554</td>\n",
       "      <td>-497.795834</td>\n",
       "      <td>8.016656</td>\n",
       "      <td>-501.289139</td>\n",
       "      <td>7.946562</td>\n",
       "      <td>-432.317850</td>\n",
       "      <td>4.872511</td>\n",
       "      <td>-500.037437</td>\n",
       "      <td>26.705889</td>\n",
       "      <td>-499.709414</td>\n",
       "    </tr>\n",
       "    <tr>\n",
       "      <th>2016-09-01 01:59:59</th>\n",
       "      <td>215.392455</td>\n",
       "      <td>14.987471</td>\n",
       "      <td>8.080000</td>\n",
       "      <td>0.990469</td>\n",
       "      <td>1398.777912</td>\n",
       "      <td>-500.057435</td>\n",
       "      <td>1398.055362</td>\n",
       "      <td>-499.778182</td>\n",
       "      <td>1396.151033</td>\n",
       "      <td>-499.240168</td>\n",
       "      <td>...</td>\n",
       "      <td>12.058140</td>\n",
       "      <td>-498.695773</td>\n",
       "      <td>8.130979</td>\n",
       "      <td>-499.634209</td>\n",
       "      <td>7.958270</td>\n",
       "      <td>-525.839648</td>\n",
       "      <td>4.878850</td>\n",
       "      <td>-500.162375</td>\n",
       "      <td>25.019940</td>\n",
       "      <td>-499.819438</td>\n",
       "    </tr>\n",
       "    <tr>\n",
       "      <th>2016-09-01 02:59:59</th>\n",
       "      <td>215.259946</td>\n",
       "      <td>12.884934</td>\n",
       "      <td>7.786667</td>\n",
       "      <td>0.996043</td>\n",
       "      <td>1398.493666</td>\n",
       "      <td>-500.868360</td>\n",
       "      <td>1398.860436</td>\n",
       "      <td>-499.764529</td>\n",
       "      <td>1398.075709</td>\n",
       "      <td>-502.151509</td>\n",
       "      <td>...</td>\n",
       "      <td>11.962366</td>\n",
       "      <td>-498.767484</td>\n",
       "      <td>8.096893</td>\n",
       "      <td>-500.827423</td>\n",
       "      <td>8.071056</td>\n",
       "      <td>-500.801673</td>\n",
       "      <td>4.905125</td>\n",
       "      <td>-499.828510</td>\n",
       "      <td>24.994862</td>\n",
       "      <td>-500.622559</td>\n",
       "    </tr>\n",
       "    <tr>\n",
       "      <th>2016-09-01 03:59:59</th>\n",
       "      <td>215.336236</td>\n",
       "      <td>12.006805</td>\n",
       "      <td>7.640000</td>\n",
       "      <td>0.863514</td>\n",
       "      <td>1399.618111</td>\n",
       "      <td>-498.863574</td>\n",
       "      <td>1397.440120</td>\n",
       "      <td>-499.211024</td>\n",
       "      <td>1400.129303</td>\n",
       "      <td>-498.355873</td>\n",
       "      <td>...</td>\n",
       "      <td>12.033091</td>\n",
       "      <td>-498.350935</td>\n",
       "      <td>8.074946</td>\n",
       "      <td>-499.474407</td>\n",
       "      <td>7.897085</td>\n",
       "      <td>-500.868509</td>\n",
       "      <td>4.931400</td>\n",
       "      <td>-499.963623</td>\n",
       "      <td>24.948919</td>\n",
       "      <td>-498.709987</td>\n",
       "    </tr>\n",
       "    <tr>\n",
       "      <th>2016-09-01 04:59:59</th>\n",
       "      <td>199.099327</td>\n",
       "      <td>10.682530</td>\n",
       "      <td>7.530000</td>\n",
       "      <td>0.805575</td>\n",
       "      <td>1401.268123</td>\n",
       "      <td>-500.808305</td>\n",
       "      <td>1398.128818</td>\n",
       "      <td>-499.504543</td>\n",
       "      <td>1402.172226</td>\n",
       "      <td>-500.810606</td>\n",
       "      <td>...</td>\n",
       "      <td>12.025367</td>\n",
       "      <td>-500.786497</td>\n",
       "      <td>8.054678</td>\n",
       "      <td>-500.397500</td>\n",
       "      <td>8.107890</td>\n",
       "      <td>-509.526725</td>\n",
       "      <td>4.957674</td>\n",
       "      <td>-500.360026</td>\n",
       "      <td>25.003331</td>\n",
       "      <td>-500.856333</td>\n",
       "    </tr>\n",
       "  </tbody>\n",
       "</table>\n",
       "<p>5 rows × 52 columns</p>\n",
       "</div>"
      ],
      "text/plain": [
       "                     primary_cleaner.input.sulfate  \\\n",
       "date                                                 \n",
       "2016-09-01 00:59:59                     210.800909   \n",
       "2016-09-01 01:59:59                     215.392455   \n",
       "2016-09-01 02:59:59                     215.259946   \n",
       "2016-09-01 03:59:59                     215.336236   \n",
       "2016-09-01 04:59:59                     199.099327   \n",
       "\n",
       "                     primary_cleaner.input.depressant  \\\n",
       "date                                                    \n",
       "2016-09-01 00:59:59                         14.993118   \n",
       "2016-09-01 01:59:59                         14.987471   \n",
       "2016-09-01 02:59:59                         12.884934   \n",
       "2016-09-01 03:59:59                         12.006805   \n",
       "2016-09-01 04:59:59                         10.682530   \n",
       "\n",
       "                     primary_cleaner.input.feed_size  \\\n",
       "date                                                   \n",
       "2016-09-01 00:59:59                         8.080000   \n",
       "2016-09-01 01:59:59                         8.080000   \n",
       "2016-09-01 02:59:59                         7.786667   \n",
       "2016-09-01 03:59:59                         7.640000   \n",
       "2016-09-01 04:59:59                         7.530000   \n",
       "\n",
       "                     primary_cleaner.input.xanthate  \\\n",
       "date                                                  \n",
       "2016-09-01 00:59:59                        1.005021   \n",
       "2016-09-01 01:59:59                        0.990469   \n",
       "2016-09-01 02:59:59                        0.996043   \n",
       "2016-09-01 03:59:59                        0.863514   \n",
       "2016-09-01 04:59:59                        0.805575   \n",
       "\n",
       "                     primary_cleaner.state.floatbank8_a_air  \\\n",
       "date                                                          \n",
       "2016-09-01 00:59:59                             1398.981301   \n",
       "2016-09-01 01:59:59                             1398.777912   \n",
       "2016-09-01 02:59:59                             1398.493666   \n",
       "2016-09-01 03:59:59                             1399.618111   \n",
       "2016-09-01 04:59:59                             1401.268123   \n",
       "\n",
       "                     primary_cleaner.state.floatbank8_a_level  \\\n",
       "date                                                            \n",
       "2016-09-01 00:59:59                               -500.225577   \n",
       "2016-09-01 01:59:59                               -500.057435   \n",
       "2016-09-01 02:59:59                               -500.868360   \n",
       "2016-09-01 03:59:59                               -498.863574   \n",
       "2016-09-01 04:59:59                               -500.808305   \n",
       "\n",
       "                     primary_cleaner.state.floatbank8_b_air  \\\n",
       "date                                                          \n",
       "2016-09-01 00:59:59                             1399.144926   \n",
       "2016-09-01 01:59:59                             1398.055362   \n",
       "2016-09-01 02:59:59                             1398.860436   \n",
       "2016-09-01 03:59:59                             1397.440120   \n",
       "2016-09-01 04:59:59                             1398.128818   \n",
       "\n",
       "                     primary_cleaner.state.floatbank8_b_level  \\\n",
       "date                                                            \n",
       "2016-09-01 00:59:59                               -499.919735   \n",
       "2016-09-01 01:59:59                               -499.778182   \n",
       "2016-09-01 02:59:59                               -499.764529   \n",
       "2016-09-01 03:59:59                               -499.211024   \n",
       "2016-09-01 04:59:59                               -499.504543   \n",
       "\n",
       "                     primary_cleaner.state.floatbank8_c_air  \\\n",
       "date                                                          \n",
       "2016-09-01 00:59:59                             1400.102998   \n",
       "2016-09-01 01:59:59                             1396.151033   \n",
       "2016-09-01 02:59:59                             1398.075709   \n",
       "2016-09-01 03:59:59                             1400.129303   \n",
       "2016-09-01 04:59:59                             1402.172226   \n",
       "\n",
       "                     primary_cleaner.state.floatbank8_c_level  ...  \\\n",
       "date                                                           ...   \n",
       "2016-09-01 00:59:59                               -500.704369  ...   \n",
       "2016-09-01 01:59:59                               -499.240168  ...   \n",
       "2016-09-01 02:59:59                               -502.151509  ...   \n",
       "2016-09-01 03:59:59                               -498.355873  ...   \n",
       "2016-09-01 04:59:59                               -500.810606  ...   \n",
       "\n",
       "                     secondary_cleaner.state.floatbank4_a_air  \\\n",
       "date                                                            \n",
       "2016-09-01 00:59:59                                 12.023554   \n",
       "2016-09-01 01:59:59                                 12.058140   \n",
       "2016-09-01 02:59:59                                 11.962366   \n",
       "2016-09-01 03:59:59                                 12.033091   \n",
       "2016-09-01 04:59:59                                 12.025367   \n",
       "\n",
       "                     secondary_cleaner.state.floatbank4_a_level  \\\n",
       "date                                                              \n",
       "2016-09-01 00:59:59                                 -497.795834   \n",
       "2016-09-01 01:59:59                                 -498.695773   \n",
       "2016-09-01 02:59:59                                 -498.767484   \n",
       "2016-09-01 03:59:59                                 -498.350935   \n",
       "2016-09-01 04:59:59                                 -500.786497   \n",
       "\n",
       "                     secondary_cleaner.state.floatbank4_b_air  \\\n",
       "date                                                            \n",
       "2016-09-01 00:59:59                                  8.016656   \n",
       "2016-09-01 01:59:59                                  8.130979   \n",
       "2016-09-01 02:59:59                                  8.096893   \n",
       "2016-09-01 03:59:59                                  8.074946   \n",
       "2016-09-01 04:59:59                                  8.054678   \n",
       "\n",
       "                     secondary_cleaner.state.floatbank4_b_level  \\\n",
       "date                                                              \n",
       "2016-09-01 00:59:59                                 -501.289139   \n",
       "2016-09-01 01:59:59                                 -499.634209   \n",
       "2016-09-01 02:59:59                                 -500.827423   \n",
       "2016-09-01 03:59:59                                 -499.474407   \n",
       "2016-09-01 04:59:59                                 -500.397500   \n",
       "\n",
       "                     secondary_cleaner.state.floatbank5_a_air  \\\n",
       "date                                                            \n",
       "2016-09-01 00:59:59                                  7.946562   \n",
       "2016-09-01 01:59:59                                  7.958270   \n",
       "2016-09-01 02:59:59                                  8.071056   \n",
       "2016-09-01 03:59:59                                  7.897085   \n",
       "2016-09-01 04:59:59                                  8.107890   \n",
       "\n",
       "                     secondary_cleaner.state.floatbank5_a_level  \\\n",
       "date                                                              \n",
       "2016-09-01 00:59:59                                 -432.317850   \n",
       "2016-09-01 01:59:59                                 -525.839648   \n",
       "2016-09-01 02:59:59                                 -500.801673   \n",
       "2016-09-01 03:59:59                                 -500.868509   \n",
       "2016-09-01 04:59:59                                 -509.526725   \n",
       "\n",
       "                     secondary_cleaner.state.floatbank5_b_air  \\\n",
       "date                                                            \n",
       "2016-09-01 00:59:59                                  4.872511   \n",
       "2016-09-01 01:59:59                                  4.878850   \n",
       "2016-09-01 02:59:59                                  4.905125   \n",
       "2016-09-01 03:59:59                                  4.931400   \n",
       "2016-09-01 04:59:59                                  4.957674   \n",
       "\n",
       "                     secondary_cleaner.state.floatbank5_b_level  \\\n",
       "date                                                              \n",
       "2016-09-01 00:59:59                                 -500.037437   \n",
       "2016-09-01 01:59:59                                 -500.162375   \n",
       "2016-09-01 02:59:59                                 -499.828510   \n",
       "2016-09-01 03:59:59                                 -499.963623   \n",
       "2016-09-01 04:59:59                                 -500.360026   \n",
       "\n",
       "                     secondary_cleaner.state.floatbank6_a_air  \\\n",
       "date                                                            \n",
       "2016-09-01 00:59:59                                 26.705889   \n",
       "2016-09-01 01:59:59                                 25.019940   \n",
       "2016-09-01 02:59:59                                 24.994862   \n",
       "2016-09-01 03:59:59                                 24.948919   \n",
       "2016-09-01 04:59:59                                 25.003331   \n",
       "\n",
       "                     secondary_cleaner.state.floatbank6_a_level  \n",
       "date                                                             \n",
       "2016-09-01 00:59:59                                 -499.709414  \n",
       "2016-09-01 01:59:59                                 -499.819438  \n",
       "2016-09-01 02:59:59                                 -500.622559  \n",
       "2016-09-01 03:59:59                                 -498.709987  \n",
       "2016-09-01 04:59:59                                 -500.856333  \n",
       "\n",
       "[5 rows x 52 columns]"
      ]
     },
     "metadata": {},
     "output_type": "display_data"
    },
    {
     "data": {
      "text/html": [
       "<div>\n",
       "<style scoped>\n",
       "    .dataframe tbody tr th:only-of-type {\n",
       "        vertical-align: middle;\n",
       "    }\n",
       "\n",
       "    .dataframe tbody tr th {\n",
       "        vertical-align: top;\n",
       "    }\n",
       "\n",
       "    .dataframe thead th {\n",
       "        text-align: right;\n",
       "    }\n",
       "</style>\n",
       "<table border=\"1\" class=\"dataframe\">\n",
       "  <thead>\n",
       "    <tr style=\"text-align: right;\">\n",
       "      <th></th>\n",
       "      <th>final.output.concentrate_ag</th>\n",
       "      <th>final.output.concentrate_pb</th>\n",
       "      <th>final.output.concentrate_sol</th>\n",
       "      <th>final.output.concentrate_au</th>\n",
       "      <th>final.output.recovery</th>\n",
       "      <th>final.output.tail_ag</th>\n",
       "      <th>final.output.tail_pb</th>\n",
       "      <th>final.output.tail_sol</th>\n",
       "      <th>final.output.tail_au</th>\n",
       "      <th>primary_cleaner.input.sulfate</th>\n",
       "      <th>...</th>\n",
       "      <th>secondary_cleaner.state.floatbank4_a_air</th>\n",
       "      <th>secondary_cleaner.state.floatbank4_a_level</th>\n",
       "      <th>secondary_cleaner.state.floatbank4_b_air</th>\n",
       "      <th>secondary_cleaner.state.floatbank4_b_level</th>\n",
       "      <th>secondary_cleaner.state.floatbank5_a_air</th>\n",
       "      <th>secondary_cleaner.state.floatbank5_a_level</th>\n",
       "      <th>secondary_cleaner.state.floatbank5_b_air</th>\n",
       "      <th>secondary_cleaner.state.floatbank5_b_level</th>\n",
       "      <th>secondary_cleaner.state.floatbank6_a_air</th>\n",
       "      <th>secondary_cleaner.state.floatbank6_a_level</th>\n",
       "    </tr>\n",
       "    <tr>\n",
       "      <th>date</th>\n",
       "      <th></th>\n",
       "      <th></th>\n",
       "      <th></th>\n",
       "      <th></th>\n",
       "      <th></th>\n",
       "      <th></th>\n",
       "      <th></th>\n",
       "      <th></th>\n",
       "      <th></th>\n",
       "      <th></th>\n",
       "      <th></th>\n",
       "      <th></th>\n",
       "      <th></th>\n",
       "      <th></th>\n",
       "      <th></th>\n",
       "      <th></th>\n",
       "      <th></th>\n",
       "      <th></th>\n",
       "      <th></th>\n",
       "      <th></th>\n",
       "      <th></th>\n",
       "    </tr>\n",
       "  </thead>\n",
       "  <tbody>\n",
       "    <tr>\n",
       "      <th>2016-01-15 00:00:00</th>\n",
       "      <td>6.055403</td>\n",
       "      <td>9.889648</td>\n",
       "      <td>5.507324</td>\n",
       "      <td>42.192020</td>\n",
       "      <td>70.541216</td>\n",
       "      <td>10.411962</td>\n",
       "      <td>0.895447</td>\n",
       "      <td>16.904297</td>\n",
       "      <td>2.143149</td>\n",
       "      <td>127.092003</td>\n",
       "      <td>...</td>\n",
       "      <td>14.016835</td>\n",
       "      <td>-502.488007</td>\n",
       "      <td>12.099931</td>\n",
       "      <td>-504.715942</td>\n",
       "      <td>9.925633</td>\n",
       "      <td>-498.310211</td>\n",
       "      <td>8.079666</td>\n",
       "      <td>-500.470978</td>\n",
       "      <td>14.151341</td>\n",
       "      <td>-605.841980</td>\n",
       "    </tr>\n",
       "    <tr>\n",
       "      <th>2016-01-15 01:00:00</th>\n",
       "      <td>6.029369</td>\n",
       "      <td>9.968944</td>\n",
       "      <td>5.257781</td>\n",
       "      <td>42.701629</td>\n",
       "      <td>69.266198</td>\n",
       "      <td>10.462676</td>\n",
       "      <td>0.927452</td>\n",
       "      <td>16.634514</td>\n",
       "      <td>2.224930</td>\n",
       "      <td>125.629232</td>\n",
       "      <td>...</td>\n",
       "      <td>13.992281</td>\n",
       "      <td>-505.503262</td>\n",
       "      <td>11.950531</td>\n",
       "      <td>-501.331529</td>\n",
       "      <td>10.039245</td>\n",
       "      <td>-500.169983</td>\n",
       "      <td>7.984757</td>\n",
       "      <td>-500.582168</td>\n",
       "      <td>13.998353</td>\n",
       "      <td>-599.787184</td>\n",
       "    </tr>\n",
       "    <tr>\n",
       "      <th>2016-01-15 02:00:00</th>\n",
       "      <td>6.055926</td>\n",
       "      <td>10.213995</td>\n",
       "      <td>5.383759</td>\n",
       "      <td>42.657501</td>\n",
       "      <td>68.116445</td>\n",
       "      <td>10.507046</td>\n",
       "      <td>0.953716</td>\n",
       "      <td>16.208849</td>\n",
       "      <td>2.257889</td>\n",
       "      <td>123.819808</td>\n",
       "      <td>...</td>\n",
       "      <td>14.015015</td>\n",
       "      <td>-502.520901</td>\n",
       "      <td>11.912783</td>\n",
       "      <td>-501.133383</td>\n",
       "      <td>10.070913</td>\n",
       "      <td>-500.129135</td>\n",
       "      <td>8.013877</td>\n",
       "      <td>-500.517572</td>\n",
       "      <td>14.028663</td>\n",
       "      <td>-601.427363</td>\n",
       "    </tr>\n",
       "    <tr>\n",
       "      <th>2016-01-15 03:00:00</th>\n",
       "      <td>6.047977</td>\n",
       "      <td>9.977019</td>\n",
       "      <td>4.858634</td>\n",
       "      <td>42.689819</td>\n",
       "      <td>68.347543</td>\n",
       "      <td>10.422762</td>\n",
       "      <td>0.883763</td>\n",
       "      <td>16.532835</td>\n",
       "      <td>2.146849</td>\n",
       "      <td>122.270188</td>\n",
       "      <td>...</td>\n",
       "      <td>14.036510</td>\n",
       "      <td>-500.857308</td>\n",
       "      <td>11.999550</td>\n",
       "      <td>-501.193686</td>\n",
       "      <td>9.970366</td>\n",
       "      <td>-499.201640</td>\n",
       "      <td>7.977324</td>\n",
       "      <td>-500.255908</td>\n",
       "      <td>14.005551</td>\n",
       "      <td>-599.996129</td>\n",
       "    </tr>\n",
       "    <tr>\n",
       "      <th>2016-01-15 04:00:00</th>\n",
       "      <td>6.148599</td>\n",
       "      <td>10.142511</td>\n",
       "      <td>4.939416</td>\n",
       "      <td>42.774141</td>\n",
       "      <td>66.927016</td>\n",
       "      <td>10.360302</td>\n",
       "      <td>0.792826</td>\n",
       "      <td>16.525686</td>\n",
       "      <td>2.055292</td>\n",
       "      <td>117.988169</td>\n",
       "      <td>...</td>\n",
       "      <td>14.027298</td>\n",
       "      <td>-499.838632</td>\n",
       "      <td>11.953070</td>\n",
       "      <td>-501.053894</td>\n",
       "      <td>9.925709</td>\n",
       "      <td>-501.686727</td>\n",
       "      <td>7.894242</td>\n",
       "      <td>-500.356035</td>\n",
       "      <td>13.996647</td>\n",
       "      <td>-601.496691</td>\n",
       "    </tr>\n",
       "  </tbody>\n",
       "</table>\n",
       "<p>5 rows × 86 columns</p>\n",
       "</div>"
      ],
      "text/plain": [
       "                     final.output.concentrate_ag  final.output.concentrate_pb  \\\n",
       "date                                                                            \n",
       "2016-01-15 00:00:00                     6.055403                     9.889648   \n",
       "2016-01-15 01:00:00                     6.029369                     9.968944   \n",
       "2016-01-15 02:00:00                     6.055926                    10.213995   \n",
       "2016-01-15 03:00:00                     6.047977                     9.977019   \n",
       "2016-01-15 04:00:00                     6.148599                    10.142511   \n",
       "\n",
       "                     final.output.concentrate_sol  \\\n",
       "date                                                \n",
       "2016-01-15 00:00:00                      5.507324   \n",
       "2016-01-15 01:00:00                      5.257781   \n",
       "2016-01-15 02:00:00                      5.383759   \n",
       "2016-01-15 03:00:00                      4.858634   \n",
       "2016-01-15 04:00:00                      4.939416   \n",
       "\n",
       "                     final.output.concentrate_au  final.output.recovery  \\\n",
       "date                                                                      \n",
       "2016-01-15 00:00:00                    42.192020              70.541216   \n",
       "2016-01-15 01:00:00                    42.701629              69.266198   \n",
       "2016-01-15 02:00:00                    42.657501              68.116445   \n",
       "2016-01-15 03:00:00                    42.689819              68.347543   \n",
       "2016-01-15 04:00:00                    42.774141              66.927016   \n",
       "\n",
       "                     final.output.tail_ag  final.output.tail_pb  \\\n",
       "date                                                              \n",
       "2016-01-15 00:00:00             10.411962              0.895447   \n",
       "2016-01-15 01:00:00             10.462676              0.927452   \n",
       "2016-01-15 02:00:00             10.507046              0.953716   \n",
       "2016-01-15 03:00:00             10.422762              0.883763   \n",
       "2016-01-15 04:00:00             10.360302              0.792826   \n",
       "\n",
       "                     final.output.tail_sol  final.output.tail_au  \\\n",
       "date                                                               \n",
       "2016-01-15 00:00:00              16.904297              2.143149   \n",
       "2016-01-15 01:00:00              16.634514              2.224930   \n",
       "2016-01-15 02:00:00              16.208849              2.257889   \n",
       "2016-01-15 03:00:00              16.532835              2.146849   \n",
       "2016-01-15 04:00:00              16.525686              2.055292   \n",
       "\n",
       "                     primary_cleaner.input.sulfate  ...  \\\n",
       "date                                                ...   \n",
       "2016-01-15 00:00:00                     127.092003  ...   \n",
       "2016-01-15 01:00:00                     125.629232  ...   \n",
       "2016-01-15 02:00:00                     123.819808  ...   \n",
       "2016-01-15 03:00:00                     122.270188  ...   \n",
       "2016-01-15 04:00:00                     117.988169  ...   \n",
       "\n",
       "                     secondary_cleaner.state.floatbank4_a_air  \\\n",
       "date                                                            \n",
       "2016-01-15 00:00:00                                 14.016835   \n",
       "2016-01-15 01:00:00                                 13.992281   \n",
       "2016-01-15 02:00:00                                 14.015015   \n",
       "2016-01-15 03:00:00                                 14.036510   \n",
       "2016-01-15 04:00:00                                 14.027298   \n",
       "\n",
       "                     secondary_cleaner.state.floatbank4_a_level  \\\n",
       "date                                                              \n",
       "2016-01-15 00:00:00                                 -502.488007   \n",
       "2016-01-15 01:00:00                                 -505.503262   \n",
       "2016-01-15 02:00:00                                 -502.520901   \n",
       "2016-01-15 03:00:00                                 -500.857308   \n",
       "2016-01-15 04:00:00                                 -499.838632   \n",
       "\n",
       "                     secondary_cleaner.state.floatbank4_b_air  \\\n",
       "date                                                            \n",
       "2016-01-15 00:00:00                                 12.099931   \n",
       "2016-01-15 01:00:00                                 11.950531   \n",
       "2016-01-15 02:00:00                                 11.912783   \n",
       "2016-01-15 03:00:00                                 11.999550   \n",
       "2016-01-15 04:00:00                                 11.953070   \n",
       "\n",
       "                     secondary_cleaner.state.floatbank4_b_level  \\\n",
       "date                                                              \n",
       "2016-01-15 00:00:00                                 -504.715942   \n",
       "2016-01-15 01:00:00                                 -501.331529   \n",
       "2016-01-15 02:00:00                                 -501.133383   \n",
       "2016-01-15 03:00:00                                 -501.193686   \n",
       "2016-01-15 04:00:00                                 -501.053894   \n",
       "\n",
       "                     secondary_cleaner.state.floatbank5_a_air  \\\n",
       "date                                                            \n",
       "2016-01-15 00:00:00                                  9.925633   \n",
       "2016-01-15 01:00:00                                 10.039245   \n",
       "2016-01-15 02:00:00                                 10.070913   \n",
       "2016-01-15 03:00:00                                  9.970366   \n",
       "2016-01-15 04:00:00                                  9.925709   \n",
       "\n",
       "                     secondary_cleaner.state.floatbank5_a_level  \\\n",
       "date                                                              \n",
       "2016-01-15 00:00:00                                 -498.310211   \n",
       "2016-01-15 01:00:00                                 -500.169983   \n",
       "2016-01-15 02:00:00                                 -500.129135   \n",
       "2016-01-15 03:00:00                                 -499.201640   \n",
       "2016-01-15 04:00:00                                 -501.686727   \n",
       "\n",
       "                     secondary_cleaner.state.floatbank5_b_air  \\\n",
       "date                                                            \n",
       "2016-01-15 00:00:00                                  8.079666   \n",
       "2016-01-15 01:00:00                                  7.984757   \n",
       "2016-01-15 02:00:00                                  8.013877   \n",
       "2016-01-15 03:00:00                                  7.977324   \n",
       "2016-01-15 04:00:00                                  7.894242   \n",
       "\n",
       "                     secondary_cleaner.state.floatbank5_b_level  \\\n",
       "date                                                              \n",
       "2016-01-15 00:00:00                                 -500.470978   \n",
       "2016-01-15 01:00:00                                 -500.582168   \n",
       "2016-01-15 02:00:00                                 -500.517572   \n",
       "2016-01-15 03:00:00                                 -500.255908   \n",
       "2016-01-15 04:00:00                                 -500.356035   \n",
       "\n",
       "                     secondary_cleaner.state.floatbank6_a_air  \\\n",
       "date                                                            \n",
       "2016-01-15 00:00:00                                 14.151341   \n",
       "2016-01-15 01:00:00                                 13.998353   \n",
       "2016-01-15 02:00:00                                 14.028663   \n",
       "2016-01-15 03:00:00                                 14.005551   \n",
       "2016-01-15 04:00:00                                 13.996647   \n",
       "\n",
       "                     secondary_cleaner.state.floatbank6_a_level  \n",
       "date                                                             \n",
       "2016-01-15 00:00:00                                 -605.841980  \n",
       "2016-01-15 01:00:00                                 -599.787184  \n",
       "2016-01-15 02:00:00                                 -601.427363  \n",
       "2016-01-15 03:00:00                                 -599.996129  \n",
       "2016-01-15 04:00:00                                 -601.496691  \n",
       "\n",
       "[5 rows x 86 columns]"
      ]
     },
     "metadata": {},
     "output_type": "display_data"
    }
   ],
   "source": [
    "#Запишем данные в переменные\n",
    "df_train = pd.read_csv('/datasets/gold_recovery_train_new.csv', index_col='date')\n",
    "df_test = pd.read_csv('/datasets/gold_recovery_test_new.csv', index_col='date')\n",
    "df_full = pd.read_csv('/datasets/gold_recovery_full_new.csv', index_col='date')\n",
    "\n",
    "#Изучим данные\n",
    "display(df_train.head())\n",
    "display(df_test.head())\n",
    "display(df_full.head())"
   ]
  },
  {
   "cell_type": "code",
   "execution_count": 3,
   "metadata": {
    "scrolled": true
   },
   "outputs": [
    {
     "name": "stdout",
     "output_type": "stream",
     "text": [
      "<class 'pandas.core.frame.DataFrame'>\n",
      "Index: 14149 entries, 2016-01-15 00:00:00 to 2018-08-18 10:59:59\n",
      "Data columns (total 86 columns):\n",
      " #   Column                                              Non-Null Count  Dtype  \n",
      "---  ------                                              --------------  -----  \n",
      " 0   final.output.concentrate_ag                         14148 non-null  float64\n",
      " 1   final.output.concentrate_pb                         14148 non-null  float64\n",
      " 2   final.output.concentrate_sol                        13938 non-null  float64\n",
      " 3   final.output.concentrate_au                         14149 non-null  float64\n",
      " 4   final.output.recovery                               14149 non-null  float64\n",
      " 5   final.output.tail_ag                                14149 non-null  float64\n",
      " 6   final.output.tail_pb                                14049 non-null  float64\n",
      " 7   final.output.tail_sol                               14144 non-null  float64\n",
      " 8   final.output.tail_au                                14149 non-null  float64\n",
      " 9   primary_cleaner.input.sulfate                       14129 non-null  float64\n",
      " 10  primary_cleaner.input.depressant                    14117 non-null  float64\n",
      " 11  primary_cleaner.input.feed_size                     14149 non-null  float64\n",
      " 12  primary_cleaner.input.xanthate                      14049 non-null  float64\n",
      " 13  primary_cleaner.output.concentrate_ag               14149 non-null  float64\n",
      " 14  primary_cleaner.output.concentrate_pb               14063 non-null  float64\n",
      " 15  primary_cleaner.output.concentrate_sol              13863 non-null  float64\n",
      " 16  primary_cleaner.output.concentrate_au               14149 non-null  float64\n",
      " 17  primary_cleaner.output.tail_ag                      14148 non-null  float64\n",
      " 18  primary_cleaner.output.tail_pb                      14134 non-null  float64\n",
      " 19  primary_cleaner.output.tail_sol                     14103 non-null  float64\n",
      " 20  primary_cleaner.output.tail_au                      14149 non-null  float64\n",
      " 21  primary_cleaner.state.floatbank8_a_air              14145 non-null  float64\n",
      " 22  primary_cleaner.state.floatbank8_a_level            14148 non-null  float64\n",
      " 23  primary_cleaner.state.floatbank8_b_air              14145 non-null  float64\n",
      " 24  primary_cleaner.state.floatbank8_b_level            14148 non-null  float64\n",
      " 25  primary_cleaner.state.floatbank8_c_air              14147 non-null  float64\n",
      " 26  primary_cleaner.state.floatbank8_c_level            14148 non-null  float64\n",
      " 27  primary_cleaner.state.floatbank8_d_air              14146 non-null  float64\n",
      " 28  primary_cleaner.state.floatbank8_d_level            14148 non-null  float64\n",
      " 29  rougher.calculation.sulfate_to_au_concentrate       14148 non-null  float64\n",
      " 30  rougher.calculation.floatbank10_sulfate_to_au_feed  14148 non-null  float64\n",
      " 31  rougher.calculation.floatbank11_sulfate_to_au_feed  14148 non-null  float64\n",
      " 32  rougher.calculation.au_pb_ratio                     14149 non-null  float64\n",
      " 33  rougher.input.feed_ag                               14149 non-null  float64\n",
      " 34  rougher.input.feed_pb                               14049 non-null  float64\n",
      " 35  rougher.input.feed_rate                             14141 non-null  float64\n",
      " 36  rougher.input.feed_size                             14005 non-null  float64\n",
      " 37  rougher.input.feed_sol                              14071 non-null  float64\n",
      " 38  rougher.input.feed_au                               14149 non-null  float64\n",
      " 39  rougher.input.floatbank10_sulfate                   14120 non-null  float64\n",
      " 40  rougher.input.floatbank10_xanthate                  14141 non-null  float64\n",
      " 41  rougher.input.floatbank11_sulfate                   14113 non-null  float64\n",
      " 42  rougher.input.floatbank11_xanthate                  13721 non-null  float64\n",
      " 43  rougher.output.concentrate_ag                       14149 non-null  float64\n",
      " 44  rougher.output.concentrate_pb                       14149 non-null  float64\n",
      " 45  rougher.output.concentrate_sol                      14127 non-null  float64\n",
      " 46  rougher.output.concentrate_au                       14149 non-null  float64\n",
      " 47  rougher.output.recovery                             14149 non-null  float64\n",
      " 48  rougher.output.tail_ag                              14148 non-null  float64\n",
      " 49  rougher.output.tail_pb                              14149 non-null  float64\n",
      " 50  rougher.output.tail_sol                             14149 non-null  float64\n",
      " 51  rougher.output.tail_au                              14149 non-null  float64\n",
      " 52  rougher.state.floatbank10_a_air                     14148 non-null  float64\n",
      " 53  rougher.state.floatbank10_a_level                   14148 non-null  float64\n",
      " 54  rougher.state.floatbank10_b_air                     14148 non-null  float64\n",
      " 55  rougher.state.floatbank10_b_level                   14148 non-null  float64\n",
      " 56  rougher.state.floatbank10_c_air                     14148 non-null  float64\n",
      " 57  rougher.state.floatbank10_c_level                   14148 non-null  float64\n",
      " 58  rougher.state.floatbank10_d_air                     14149 non-null  float64\n",
      " 59  rougher.state.floatbank10_d_level                   14149 non-null  float64\n",
      " 60  rougher.state.floatbank10_e_air                     13713 non-null  float64\n",
      " 61  rougher.state.floatbank10_e_level                   14149 non-null  float64\n",
      " 62  rougher.state.floatbank10_f_air                     14149 non-null  float64\n",
      " 63  rougher.state.floatbank10_f_level                   14149 non-null  float64\n",
      " 64  secondary_cleaner.output.tail_ag                    14147 non-null  float64\n",
      " 65  secondary_cleaner.output.tail_pb                    14139 non-null  float64\n",
      " 66  secondary_cleaner.output.tail_sol                   12544 non-null  float64\n",
      " 67  secondary_cleaner.output.tail_au                    14149 non-null  float64\n",
      " 68  secondary_cleaner.state.floatbank2_a_air            13932 non-null  float64\n",
      " 69  secondary_cleaner.state.floatbank2_a_level          14148 non-null  float64\n",
      " 70  secondary_cleaner.state.floatbank2_b_air            14128 non-null  float64\n",
      " 71  secondary_cleaner.state.floatbank2_b_level          14148 non-null  float64\n",
      " 72  secondary_cleaner.state.floatbank3_a_air            14145 non-null  float64\n",
      " 73  secondary_cleaner.state.floatbank3_a_level          14148 non-null  float64\n",
      " 74  secondary_cleaner.state.floatbank3_b_air            14148 non-null  float64\n",
      " 75  secondary_cleaner.state.floatbank3_b_level          14148 non-null  float64\n",
      " 76  secondary_cleaner.state.floatbank4_a_air            14143 non-null  float64\n",
      " 77  secondary_cleaner.state.floatbank4_a_level          14148 non-null  float64\n",
      " 78  secondary_cleaner.state.floatbank4_b_air            14148 non-null  float64\n",
      " 79  secondary_cleaner.state.floatbank4_b_level          14148 non-null  float64\n",
      " 80  secondary_cleaner.state.floatbank5_a_air            14148 non-null  float64\n",
      " 81  secondary_cleaner.state.floatbank5_a_level          14148 non-null  float64\n",
      " 82  secondary_cleaner.state.floatbank5_b_air            14148 non-null  float64\n",
      " 83  secondary_cleaner.state.floatbank5_b_level          14148 non-null  float64\n",
      " 84  secondary_cleaner.state.floatbank6_a_air            14147 non-null  float64\n",
      " 85  secondary_cleaner.state.floatbank6_a_level          14148 non-null  float64\n",
      "dtypes: float64(86)\n",
      "memory usage: 9.4+ MB\n"
     ]
    }
   ],
   "source": [
    "#Изучим общую информацию об обучающей выборке\n",
    "df_train.info()"
   ]
  },
  {
   "cell_type": "code",
   "execution_count": 4,
   "metadata": {
    "scrolled": true
   },
   "outputs": [
    {
     "name": "stdout",
     "output_type": "stream",
     "text": [
      "<class 'pandas.core.frame.DataFrame'>\n",
      "Index: 5290 entries, 2016-09-01 00:59:59 to 2017-12-31 23:59:59\n",
      "Data columns (total 52 columns):\n",
      " #   Column                                      Non-Null Count  Dtype  \n",
      "---  ------                                      --------------  -----  \n",
      " 0   primary_cleaner.input.sulfate               5286 non-null   float64\n",
      " 1   primary_cleaner.input.depressant            5285 non-null   float64\n",
      " 2   primary_cleaner.input.feed_size             5290 non-null   float64\n",
      " 3   primary_cleaner.input.xanthate              5286 non-null   float64\n",
      " 4   primary_cleaner.state.floatbank8_a_air      5290 non-null   float64\n",
      " 5   primary_cleaner.state.floatbank8_a_level    5290 non-null   float64\n",
      " 6   primary_cleaner.state.floatbank8_b_air      5290 non-null   float64\n",
      " 7   primary_cleaner.state.floatbank8_b_level    5290 non-null   float64\n",
      " 8   primary_cleaner.state.floatbank8_c_air      5290 non-null   float64\n",
      " 9   primary_cleaner.state.floatbank8_c_level    5290 non-null   float64\n",
      " 10  primary_cleaner.state.floatbank8_d_air      5290 non-null   float64\n",
      " 11  primary_cleaner.state.floatbank8_d_level    5290 non-null   float64\n",
      " 12  rougher.input.feed_ag                       5290 non-null   float64\n",
      " 13  rougher.input.feed_pb                       5290 non-null   float64\n",
      " 14  rougher.input.feed_rate                     5287 non-null   float64\n",
      " 15  rougher.input.feed_size                     5289 non-null   float64\n",
      " 16  rougher.input.feed_sol                      5269 non-null   float64\n",
      " 17  rougher.input.feed_au                       5290 non-null   float64\n",
      " 18  rougher.input.floatbank10_sulfate           5285 non-null   float64\n",
      " 19  rougher.input.floatbank10_xanthate          5290 non-null   float64\n",
      " 20  rougher.input.floatbank11_sulfate           5282 non-null   float64\n",
      " 21  rougher.input.floatbank11_xanthate          5265 non-null   float64\n",
      " 22  rougher.state.floatbank10_a_air             5290 non-null   float64\n",
      " 23  rougher.state.floatbank10_a_level           5290 non-null   float64\n",
      " 24  rougher.state.floatbank10_b_air             5290 non-null   float64\n",
      " 25  rougher.state.floatbank10_b_level           5290 non-null   float64\n",
      " 26  rougher.state.floatbank10_c_air             5290 non-null   float64\n",
      " 27  rougher.state.floatbank10_c_level           5290 non-null   float64\n",
      " 28  rougher.state.floatbank10_d_air             5290 non-null   float64\n",
      " 29  rougher.state.floatbank10_d_level           5290 non-null   float64\n",
      " 30  rougher.state.floatbank10_e_air             5290 non-null   float64\n",
      " 31  rougher.state.floatbank10_e_level           5290 non-null   float64\n",
      " 32  rougher.state.floatbank10_f_air             5290 non-null   float64\n",
      " 33  rougher.state.floatbank10_f_level           5290 non-null   float64\n",
      " 34  secondary_cleaner.state.floatbank2_a_air    5287 non-null   float64\n",
      " 35  secondary_cleaner.state.floatbank2_a_level  5290 non-null   float64\n",
      " 36  secondary_cleaner.state.floatbank2_b_air    5288 non-null   float64\n",
      " 37  secondary_cleaner.state.floatbank2_b_level  5290 non-null   float64\n",
      " 38  secondary_cleaner.state.floatbank3_a_air    5281 non-null   float64\n",
      " 39  secondary_cleaner.state.floatbank3_a_level  5290 non-null   float64\n",
      " 40  secondary_cleaner.state.floatbank3_b_air    5290 non-null   float64\n",
      " 41  secondary_cleaner.state.floatbank3_b_level  5290 non-null   float64\n",
      " 42  secondary_cleaner.state.floatbank4_a_air    5290 non-null   float64\n",
      " 43  secondary_cleaner.state.floatbank4_a_level  5290 non-null   float64\n",
      " 44  secondary_cleaner.state.floatbank4_b_air    5290 non-null   float64\n",
      " 45  secondary_cleaner.state.floatbank4_b_level  5290 non-null   float64\n",
      " 46  secondary_cleaner.state.floatbank5_a_air    5290 non-null   float64\n",
      " 47  secondary_cleaner.state.floatbank5_a_level  5290 non-null   float64\n",
      " 48  secondary_cleaner.state.floatbank5_b_air    5290 non-null   float64\n",
      " 49  secondary_cleaner.state.floatbank5_b_level  5290 non-null   float64\n",
      " 50  secondary_cleaner.state.floatbank6_a_air    5290 non-null   float64\n",
      " 51  secondary_cleaner.state.floatbank6_a_level  5290 non-null   float64\n",
      "dtypes: float64(52)\n",
      "memory usage: 2.1+ MB\n"
     ]
    }
   ],
   "source": [
    "#Изучим общую информацию о тестовой выборке\n",
    "df_test.info()"
   ]
  },
  {
   "cell_type": "code",
   "execution_count": 5,
   "metadata": {
    "scrolled": true
   },
   "outputs": [
    {
     "name": "stdout",
     "output_type": "stream",
     "text": [
      "<class 'pandas.core.frame.DataFrame'>\n",
      "Index: 19439 entries, 2016-01-15 00:00:00 to 2018-08-18 10:59:59\n",
      "Data columns (total 86 columns):\n",
      " #   Column                                              Non-Null Count  Dtype  \n",
      "---  ------                                              --------------  -----  \n",
      " 0   final.output.concentrate_ag                         19438 non-null  float64\n",
      " 1   final.output.concentrate_pb                         19438 non-null  float64\n",
      " 2   final.output.concentrate_sol                        19228 non-null  float64\n",
      " 3   final.output.concentrate_au                         19439 non-null  float64\n",
      " 4   final.output.recovery                               19439 non-null  float64\n",
      " 5   final.output.tail_ag                                19438 non-null  float64\n",
      " 6   final.output.tail_pb                                19338 non-null  float64\n",
      " 7   final.output.tail_sol                               19433 non-null  float64\n",
      " 8   final.output.tail_au                                19439 non-null  float64\n",
      " 9   primary_cleaner.input.sulfate                       19415 non-null  float64\n",
      " 10  primary_cleaner.input.depressant                    19402 non-null  float64\n",
      " 11  primary_cleaner.input.feed_size                     19439 non-null  float64\n",
      " 12  primary_cleaner.input.xanthate                      19335 non-null  float64\n",
      " 13  primary_cleaner.output.concentrate_ag               19439 non-null  float64\n",
      " 14  primary_cleaner.output.concentrate_pb               19323 non-null  float64\n",
      " 15  primary_cleaner.output.concentrate_sol              19069 non-null  float64\n",
      " 16  primary_cleaner.output.concentrate_au               19439 non-null  float64\n",
      " 17  primary_cleaner.output.tail_ag                      19435 non-null  float64\n",
      " 18  primary_cleaner.output.tail_pb                      19418 non-null  float64\n",
      " 19  primary_cleaner.output.tail_sol                     19377 non-null  float64\n",
      " 20  primary_cleaner.output.tail_au                      19439 non-null  float64\n",
      " 21  primary_cleaner.state.floatbank8_a_air              19435 non-null  float64\n",
      " 22  primary_cleaner.state.floatbank8_a_level            19438 non-null  float64\n",
      " 23  primary_cleaner.state.floatbank8_b_air              19435 non-null  float64\n",
      " 24  primary_cleaner.state.floatbank8_b_level            19438 non-null  float64\n",
      " 25  primary_cleaner.state.floatbank8_c_air              19437 non-null  float64\n",
      " 26  primary_cleaner.state.floatbank8_c_level            19438 non-null  float64\n",
      " 27  primary_cleaner.state.floatbank8_d_air              19436 non-null  float64\n",
      " 28  primary_cleaner.state.floatbank8_d_level            19438 non-null  float64\n",
      " 29  rougher.calculation.sulfate_to_au_concentrate       19437 non-null  float64\n",
      " 30  rougher.calculation.floatbank10_sulfate_to_au_feed  19437 non-null  float64\n",
      " 31  rougher.calculation.floatbank11_sulfate_to_au_feed  19437 non-null  float64\n",
      " 32  rougher.calculation.au_pb_ratio                     19439 non-null  float64\n",
      " 33  rougher.input.feed_ag                               19439 non-null  float64\n",
      " 34  rougher.input.feed_pb                               19339 non-null  float64\n",
      " 35  rougher.input.feed_rate                             19428 non-null  float64\n",
      " 36  rougher.input.feed_size                             19294 non-null  float64\n",
      " 37  rougher.input.feed_sol                              19340 non-null  float64\n",
      " 38  rougher.input.feed_au                               19439 non-null  float64\n",
      " 39  rougher.input.floatbank10_sulfate                   19405 non-null  float64\n",
      " 40  rougher.input.floatbank10_xanthate                  19431 non-null  float64\n",
      " 41  rougher.input.floatbank11_sulfate                   19395 non-null  float64\n",
      " 42  rougher.input.floatbank11_xanthate                  18986 non-null  float64\n",
      " 43  rougher.output.concentrate_ag                       19439 non-null  float64\n",
      " 44  rougher.output.concentrate_pb                       19439 non-null  float64\n",
      " 45  rougher.output.concentrate_sol                      19416 non-null  float64\n",
      " 46  rougher.output.concentrate_au                       19439 non-null  float64\n",
      " 47  rougher.output.recovery                             19439 non-null  float64\n",
      " 48  rougher.output.tail_ag                              19438 non-null  float64\n",
      " 49  rougher.output.tail_pb                              19439 non-null  float64\n",
      " 50  rougher.output.tail_sol                             19439 non-null  float64\n",
      " 51  rougher.output.tail_au                              19439 non-null  float64\n",
      " 52  rougher.state.floatbank10_a_air                     19438 non-null  float64\n",
      " 53  rougher.state.floatbank10_a_level                   19438 non-null  float64\n",
      " 54  rougher.state.floatbank10_b_air                     19438 non-null  float64\n",
      " 55  rougher.state.floatbank10_b_level                   19438 non-null  float64\n",
      " 56  rougher.state.floatbank10_c_air                     19438 non-null  float64\n",
      " 57  rougher.state.floatbank10_c_level                   19438 non-null  float64\n",
      " 58  rougher.state.floatbank10_d_air                     19439 non-null  float64\n",
      " 59  rougher.state.floatbank10_d_level                   19439 non-null  float64\n",
      " 60  rougher.state.floatbank10_e_air                     19003 non-null  float64\n",
      " 61  rougher.state.floatbank10_e_level                   19439 non-null  float64\n",
      " 62  rougher.state.floatbank10_f_air                     19439 non-null  float64\n",
      " 63  rougher.state.floatbank10_f_level                   19439 non-null  float64\n",
      " 64  secondary_cleaner.output.tail_ag                    19437 non-null  float64\n",
      " 65  secondary_cleaner.output.tail_pb                    19427 non-null  float64\n",
      " 66  secondary_cleaner.output.tail_sol                   17691 non-null  float64\n",
      " 67  secondary_cleaner.output.tail_au                    19439 non-null  float64\n",
      " 68  secondary_cleaner.state.floatbank2_a_air            19219 non-null  float64\n",
      " 69  secondary_cleaner.state.floatbank2_a_level          19438 non-null  float64\n",
      " 70  secondary_cleaner.state.floatbank2_b_air            19416 non-null  float64\n",
      " 71  secondary_cleaner.state.floatbank2_b_level          19438 non-null  float64\n",
      " 72  secondary_cleaner.state.floatbank3_a_air            19426 non-null  float64\n",
      " 73  secondary_cleaner.state.floatbank3_a_level          19438 non-null  float64\n",
      " 74  secondary_cleaner.state.floatbank3_b_air            19438 non-null  float64\n",
      " 75  secondary_cleaner.state.floatbank3_b_level          19438 non-null  float64\n",
      " 76  secondary_cleaner.state.floatbank4_a_air            19433 non-null  float64\n",
      " 77  secondary_cleaner.state.floatbank4_a_level          19438 non-null  float64\n",
      " 78  secondary_cleaner.state.floatbank4_b_air            19438 non-null  float64\n",
      " 79  secondary_cleaner.state.floatbank4_b_level          19438 non-null  float64\n",
      " 80  secondary_cleaner.state.floatbank5_a_air            19438 non-null  float64\n",
      " 81  secondary_cleaner.state.floatbank5_a_level          19438 non-null  float64\n",
      " 82  secondary_cleaner.state.floatbank5_b_air            19438 non-null  float64\n",
      " 83  secondary_cleaner.state.floatbank5_b_level          19438 non-null  float64\n",
      " 84  secondary_cleaner.state.floatbank6_a_air            19437 non-null  float64\n",
      " 85  secondary_cleaner.state.floatbank6_a_level          19438 non-null  float64\n",
      "dtypes: float64(86)\n",
      "memory usage: 12.9+ MB\n"
     ]
    }
   ],
   "source": [
    "#Изучим общую информацию об исходном датафрейме\n",
    "df_full.info()"
   ]
  },
  {
   "cell_type": "code",
   "execution_count": 6,
   "metadata": {},
   "outputs": [
    {
     "data": {
      "text/plain": [
       "0"
      ]
     },
     "metadata": {},
     "output_type": "display_data"
    },
    {
     "data": {
      "text/plain": [
       "0"
      ]
     },
     "metadata": {},
     "output_type": "display_data"
    },
    {
     "data": {
      "text/plain": [
       "0"
      ]
     },
     "metadata": {},
     "output_type": "display_data"
    }
   ],
   "source": [
    "#Проверяем наличие дубликатов\n",
    "display(df_train.duplicated().sum())\n",
    "display(df_test.duplicated().sum())\n",
    "display(df_full.duplicated().sum())"
   ]
  },
  {
   "cell_type": "markdown",
   "metadata": {},
   "source": [
    "### Расчет эффективности обогащения"
   ]
  },
  {
   "attachments": {
    "image.png": {
     "image/png": "[encoded data removed]"
    }
   },
   "cell_type": "markdown",
   "metadata": {},
   "source": [
    "Эффективность обогащения рассчитывается по формуле![image.png](attachment:image.png)\n",
    "- C — доля золота в концентрате после флотации/очистки\n",
    "- F — доля золота в сырье/концентрате до флотации/очистки\n",
    "- T — доля золота в отвальных хвостах после флотации/очистки"
   ]
  },
  {
   "cell_type": "markdown",
   "metadata": {},
   "source": [
    "Вычислим эффективность обогащения на обучающей выборке для признака `rougher.output.recovery`, проверим, что она рассчитана правильно."
   ]
  },
  {
   "cell_type": "code",
   "execution_count": 7,
   "metadata": {},
   "outputs": [
    {
     "data": {
      "text/plain": [
       "9.73512347450521e-15"
      ]
     },
     "execution_count": 7,
     "metadata": {},
     "output_type": "execute_result"
    }
   ],
   "source": [
    "#Задаем значения переменных\n",
    "C = df_train['rougher.output.concentrate_au']\n",
    "F = df_train['rougher.input.feed_au']\n",
    "T = df_train['rougher.output.tail_au']\n",
    "\n",
    "#Считаем\n",
    "recovery = ((C * (F - T)) / (F * (C - T)) * 100)\n",
    "#Проверяем\n",
    "mean_absolute_error(df_train['rougher.output.recovery'], recovery)"
   ]
  },
  {
   "cell_type": "markdown",
   "metadata": {},
   "source": [
    "Мы получили ничтожно малое значение MAE, что говорит о том, что эффективность обогащения рассчитана верно — значения совпадают."
   ]
  },
  {
   "cell_type": "markdown",
   "metadata": {},
   "source": [
    "### Анализ признаков, недоступных в `df_test`"
   ]
  },
  {
   "cell_type": "code",
   "execution_count": 8,
   "metadata": {},
   "outputs": [
    {
     "name": "stdout",
     "output_type": "stream",
     "text": [
      "(14149, 86)\n"
     ]
    },
    {
     "data": {
      "text/plain": [
       "(5290, 52)"
      ]
     },
     "execution_count": 8,
     "metadata": {},
     "output_type": "execute_result"
    }
   ],
   "source": [
    "#Вспоминаем количество столбцов\n",
    "print(df_train.shape)\n",
    "df_test.shape"
   ]
  },
  {
   "cell_type": "code",
   "execution_count": 9,
   "metadata": {
    "scrolled": true
   },
   "outputs": [
    {
     "name": "stdout",
     "output_type": "stream",
     "text": [
      "34\n"
     ]
    },
    {
     "data": {
      "text/plain": [
       "{'final.output.concentrate_ag',\n",
       " 'final.output.concentrate_au',\n",
       " 'final.output.concentrate_pb',\n",
       " 'final.output.concentrate_sol',\n",
       " 'final.output.recovery',\n",
       " 'final.output.tail_ag',\n",
       " 'final.output.tail_au',\n",
       " 'final.output.tail_pb',\n",
       " 'final.output.tail_sol',\n",
       " 'primary_cleaner.output.concentrate_ag',\n",
       " 'primary_cleaner.output.concentrate_au',\n",
       " 'primary_cleaner.output.concentrate_pb',\n",
       " 'primary_cleaner.output.concentrate_sol',\n",
       " 'primary_cleaner.output.tail_ag',\n",
       " 'primary_cleaner.output.tail_au',\n",
       " 'primary_cleaner.output.tail_pb',\n",
       " 'primary_cleaner.output.tail_sol',\n",
       " 'rougher.calculation.au_pb_ratio',\n",
       " 'rougher.calculation.floatbank10_sulfate_to_au_feed',\n",
       " 'rougher.calculation.floatbank11_sulfate_to_au_feed',\n",
       " 'rougher.calculation.sulfate_to_au_concentrate',\n",
       " 'rougher.output.concentrate_ag',\n",
       " 'rougher.output.concentrate_au',\n",
       " 'rougher.output.concentrate_pb',\n",
       " 'rougher.output.concentrate_sol',\n",
       " 'rougher.output.recovery',\n",
       " 'rougher.output.tail_ag',\n",
       " 'rougher.output.tail_au',\n",
       " 'rougher.output.tail_pb',\n",
       " 'rougher.output.tail_sol',\n",
       " 'secondary_cleaner.output.tail_ag',\n",
       " 'secondary_cleaner.output.tail_au',\n",
       " 'secondary_cleaner.output.tail_pb',\n",
       " 'secondary_cleaner.output.tail_sol'}"
      ]
     },
     "execution_count": 9,
     "metadata": {},
     "output_type": "execute_result"
    }
   ],
   "source": [
    "#Считаем разницу в количестве и смотрим названия\n",
    "difference = set(df_train.columns) - set(df_test.columns)\n",
    "print(len(difference))\n",
    "difference"
   ]
  },
  {
   "cell_type": "markdown",
   "metadata": {},
   "source": [
    "Мы видим, что в тестовой выборке нет столбцов с информацией о концентрации различных элементов на каждом этапе, об отвальных хвостах на каждом этапе, а также о таргетных показателях *recovery*, что логично. Необходимо будет удалить из тренировочной выборки столбцы, отсутствующие в тестовой выборке, он не будут участвовать в обучении."
   ]
  },
  {
   "cell_type": "markdown",
   "metadata": {},
   "source": [
    "### Предобработка данных"
   ]
  },
  {
   "cell_type": "code",
   "execution_count": 10,
   "metadata": {},
   "outputs": [],
   "source": [
    "#Запишем таргетные значения в df_test\n",
    "df_test['rougher.output.recovery'] = df_full['rougher.output.recovery']\n",
    "df_test['final.output.recovery'] = df_full['final.output.recovery']"
   ]
  },
  {
   "cell_type": "code",
   "execution_count": 11,
   "metadata": {},
   "outputs": [
    {
     "name": "stdout",
     "output_type": "stream",
     "text": [
      "(14149, 54)\n"
     ]
    },
    {
     "data": {
      "text/plain": [
       "(5290, 54)"
      ]
     },
     "execution_count": 11,
     "metadata": {},
     "output_type": "execute_result"
    }
   ],
   "source": [
    "#Удаляем столбцы из тренировочной выборки\n",
    "df_train = df_train[df_test.columns]\n",
    "\n",
    "#Проверяем\n",
    "print(df_train.shape)\n",
    "df_test.shape"
   ]
  },
  {
   "cell_type": "code",
   "execution_count": 16,
   "metadata": {},
   "outputs": [],
   "source": [
    "#Заполняем строки с пропусками в данных\n",
    "df_train = df_train.fillna(method='ffill')\n",
    "df_test = df_test.fillna(method='ffill')"
   ]
  },
  {
   "cell_type": "markdown",
   "metadata": {},
   "source": [
    "С предобработкой закончили, можно приступать к анализу."
   ]
  },
  {
   "cell_type": "markdown",
   "metadata": {},
   "source": [
    "## Анализ данных"
   ]
  },
  {
   "cell_type": "markdown",
   "metadata": {},
   "source": [
    "### Изменение концентрации на разных этапах"
   ]
  },
  {
   "cell_type": "code",
   "execution_count": 17,
   "metadata": {},
   "outputs": [],
   "source": [
    "#Пишем функцию для графиков\n",
    "def concentration(df, metal):\n",
    "    df.plot.hist(bins=150, alpha=0.5)\n",
    "    sns.set(rc={'figure.figsize':(13,8)})\n",
    "    plt.title(f'Концентрация {metals[metal]} на 4 этапах очистки')\n",
    "    plt.legend([\n",
    "        'Сырье',\n",
    "        'Черновой концентрат',\n",
    "        'Первичная очистка',\n",
    "        'Финальный концентрат'\n",
    "    ])\n",
    "    plt.show()"
   ]
  },
  {
   "cell_type": "code",
   "execution_count": 18,
   "metadata": {},
   "outputs": [
    {
     "data": {
      "image/png": "[encoded data removed]",
      "text/plain": [
       "<Figure size 432x288 with 1 Axes>"
      ]
     },
     "metadata": {
      "needs_background": "light"
     },
     "output_type": "display_data"
    },
    {
     "data": {
      "image/png": "[encoded data removed]",
      "text/plain": [
       "<Figure size 936x576 with 1 Axes>"
      ]
     },
     "metadata": {},
     "output_type": "display_data"
    },
    {
     "data": {
      "image/png": "[encoded data removed]",
      "text/plain": [
       "<Figure size 936x576 with 1 Axes>"
      ]
     },
     "metadata": {},
     "output_type": "display_data"
    }
   ],
   "source": [
    "#Строим графики для каждого металла\n",
    "metals = {'au':'золота', 'ag':'серебра', 'pb':'свинца'}\n",
    "stages = ['rougher.input.feed_',\n",
    "          'rougher.output.concentrate_',\n",
    "          'primary_cleaner.output.concentrate_',\n",
    "          'final.output.concentrate_']\n",
    "\n",
    "for metal in metals:\n",
    "    stage_metal = []\n",
    "    for stage in stages:\n",
    "        stage_metal.append(stage+metal)\n",
    "    concentration(df_full[stage_metal], metal)      "
   ]
  },
  {
   "cell_type": "markdown",
   "metadata": {},
   "source": [
    "- Концентрация золота увеличивается\n",
    "- Концентрация серебра уменьшается\n",
    "- Концентрация свинца сперва увеличивается, затем остается на примерно одном уровне\n",
    "- На всех графиках видны выбросы в районе нуля"
   ]
  },
  {
   "cell_type": "markdown",
   "metadata": {},
   "source": [
    "###  Сравнение распределения размеров гранул сырья на обучающей и тестовой выборках"
   ]
  },
  {
   "cell_type": "code",
   "execution_count": 19,
   "metadata": {},
   "outputs": [
    {
     "name": "stderr",
     "output_type": "stream",
     "text": [
      "/opt/conda/lib/python3.9/site-packages/seaborn/distributions.py:2557: FutureWarning: `distplot` is a deprecated function and will be removed in a future version. Please adapt your code to use either `displot` (a figure-level function with similar flexibility) or `histplot` (an axes-level function for histograms).\n",
      "  warnings.warn(msg, FutureWarning)\n",
      "/opt/conda/lib/python3.9/site-packages/seaborn/distributions.py:2557: FutureWarning: `distplot` is a deprecated function and will be removed in a future version. Please adapt your code to use either `displot` (a figure-level function with similar flexibility) or `histplot` (an axes-level function for histograms).\n",
      "  warnings.warn(msg, FutureWarning)\n"
     ]
    },
    {
     "data": {
      "image/png": "[encoded data removed]",
      "text/plain": [
       "<Figure size 936x576 with 1 Axes>"
      ]
     },
     "metadata": {},
     "output_type": "display_data"
    }
   ],
   "source": [
    "#Строим график\n",
    "sns.distplot(\n",
    "    df_train['rougher.input.feed_size'],\n",
    "    label='Размер на обучающей выборке'\n",
    ")\n",
    "sns.distplot(\n",
    "    df_test['rougher.input.feed_size'],\n",
    "    label='Размер на тестовой выборк'\n",
    ")\n",
    "plt.title('Сравнение распределения размеров гранул сырья')\n",
    "plt.legend()\n",
    "plt.show()"
   ]
  },
  {
   "cell_type": "markdown",
   "metadata": {},
   "source": [
    "Как видим, размеры гранул различаются несущественно. Идем дальше."
   ]
  },
  {
   "cell_type": "markdown",
   "metadata": {},
   "source": [
    "### Суммарная концентрация веществ на разных стадиях"
   ]
  },
  {
   "cell_type": "code",
   "execution_count": 20,
   "metadata": {},
   "outputs": [],
   "source": [
    "#Задаем переменные для графика\n",
    "rougher_feed = df_full['rougher.input.feed_au'] + \\\n",
    "               df_full['rougher.input.feed_pb'] + \\\n",
    "               df_full['rougher.input.feed_sol'] + \\\n",
    "               df_full['rougher.input.feed_ag']\n",
    "               \n",
    "rougher_concentrate = df_full['rougher.output.concentrate_au'] + \\\n",
    "                      df_full['rougher.output.concentrate_pb'] + \\\n",
    "                      df_full['rougher.output.concentrate_sol'] + \\\n",
    "                      df_full['rougher.output.concentrate_ag']\n",
    "                     \n",
    "final_concentrate = df_full['final.output.concentrate_au'] + \\\n",
    "                    df_full['final.output.concentrate_pb'] + \\\n",
    "                    df_full['final.output.concentrate_sol'] + \\\n",
    "                    df_full['final.output.concentrate_ag']\n",
    "\n",
    "#Пригодится позже\n",
    "primary_cleaner_concentrate = df_full['primary_cleaner.output.concentrate_au'] + \\\n",
    "               df_full['primary_cleaner.output.concentrate_pb'] + \\\n",
    "               df_full['primary_cleaner.output.concentrate_sol'] + \\\n",
    "               df_full['primary_cleaner.output.concentrate_ag']"
   ]
  },
  {
   "cell_type": "code",
   "execution_count": 21,
   "metadata": {},
   "outputs": [
    {
     "name": "stderr",
     "output_type": "stream",
     "text": [
      "/opt/conda/lib/python3.9/site-packages/seaborn/distributions.py:2557: FutureWarning: `distplot` is a deprecated function and will be removed in a future version. Please adapt your code to use either `displot` (a figure-level function with similar flexibility) or `histplot` (an axes-level function for histograms).\n",
      "  warnings.warn(msg, FutureWarning)\n",
      "/opt/conda/lib/python3.9/site-packages/seaborn/distributions.py:2557: FutureWarning: `distplot` is a deprecated function and will be removed in a future version. Please adapt your code to use either `displot` (a figure-level function with similar flexibility) or `histplot` (an axes-level function for histograms).\n",
      "  warnings.warn(msg, FutureWarning)\n",
      "/opt/conda/lib/python3.9/site-packages/seaborn/distributions.py:2557: FutureWarning: `distplot` is a deprecated function and will be removed in a future version. Please adapt your code to use either `displot` (a figure-level function with similar flexibility) or `histplot` (an axes-level function for histograms).\n",
      "  warnings.warn(msg, FutureWarning)\n"
     ]
    },
    {
     "data": {
      "image/png": "[encoded data removed]",
      "text/plain": [
       "<Figure size 936x576 with 1 Axes>"
      ]
     },
     "metadata": {},
     "output_type": "display_data"
    }
   ],
   "source": [
    "#Строим график\n",
    "sns.distplot(rougher_feed, label='Сырье')\n",
    "sns.distplot(rougher_concentrate, label='Черновой концентрат')\n",
    "sns.distplot(final_concentrate, label='Финальный концентрат')\n",
    "plt.title('Суммарная концентрация веществ на разных стадиях')\n",
    "plt.legend()\n",
    "plt.show()"
   ]
  },
  {
   "cell_type": "markdown",
   "metadata": {},
   "source": [
    "Концентрация веществ растет с каждым этапом, а значит эффективна. Тем не менее, информация о нулевых показателях концентрации сразу по всем веществам — явная ошибка, её надо удалить, т.к. такие данные только ухудшат работу модели."
   ]
  },
  {
   "cell_type": "code",
   "execution_count": 22,
   "metadata": {},
   "outputs": [
    {
     "name": "stdout",
     "output_type": "stream",
     "text": [
      "(19439, 86)\n",
      "(18082, 86)\n"
     ]
    }
   ],
   "source": [
    "#Удалим нулевые выбросы\n",
    "print(df_full.shape)\n",
    "df_full = df_full.query('@rougher_feed > 1 & \\\n",
    "                        @rougher_concentrate > 1 & \\\n",
    "                        @final_concentrate > 1 & \\\n",
    "                        @primary_cleaner_concentrate > 1'\n",
    ")\n",
    "\n",
    "#Проверяем\n",
    "print(df_full.shape)"
   ]
  },
  {
   "cell_type": "code",
   "execution_count": 23,
   "metadata": {},
   "outputs": [
    {
     "name": "stdout",
     "output_type": "stream",
     "text": [
      "(14149, 54)\n",
      "(5290, 54)\n",
      "(13042, 54)\n",
      "(5040, 54)\n"
     ]
    }
   ],
   "source": [
    "#Очистим от нулевых выбросов df_train и df_test\n",
    "print(df_train.shape)\n",
    "print(df_test.shape)\n",
    "\n",
    "index_train_full = df_train.index.intersection(df_full.index)\n",
    "index_test_full = df_test.index.intersection(df_full.index)\n",
    "df_train = df_train.loc[index_train_full]\n",
    "df_test = df_test.loc[index_test_full]\n",
    "\n",
    "#Проверяем\n",
    "print(df_train.shape)\n",
    "print(df_test.shape)"
   ]
  },
  {
   "cell_type": "markdown",
   "metadata": {},
   "source": [
    "Задачи по анализу выполнены, выборки очищены от нулевых выбросов, можно приступать к написанию моделей."
   ]
  },
  {
   "cell_type": "markdown",
   "metadata": {},
   "source": [
    "## Модель"
   ]
  },
  {
   "cell_type": "markdown",
   "metadata": {},
   "source": [
    "### Функция для вычисления итоговой sMAPE"
   ]
  },
  {
   "attachments": {
    "image.png": {
     "image/png": "[encoded data removed]"
    }
   },
   "cell_type": "markdown",
   "metadata": {},
   "source": [
    "![image.png](attachment:image.png)"
   ]
  },
  {
   "attachments": {
    "image.png": {
     "image/png": "[encoded data removed]"
    }
   },
   "cell_type": "markdown",
   "metadata": {},
   "source": [
    "![image.png](attachment:image.png)"
   ]
  },
  {
   "cell_type": "code",
   "execution_count": 24,
   "metadata": {},
   "outputs": [],
   "source": [
    "#Функция для расчета sMAPE\n",
    "def smape(target, prediction):\n",
    "    return 1 / len(target) * sum(abs(target - prediction) / ((abs(target) + abs(prediction)) / 2)) * 100"
   ]
  },
  {
   "cell_type": "code",
   "execution_count": 25,
   "metadata": {},
   "outputs": [],
   "source": [
    "#Функция для расчета итогового sMAPE\n",
    "def total_smape(smape_rougher, smape_final):\n",
    "    return 0.25 * smape_rougher + 0.75 * smape_final"
   ]
  },
  {
   "cell_type": "markdown",
   "metadata": {},
   "source": [
    "### Обучение моделей и оценка качества"
   ]
  },
  {
   "cell_type": "code",
   "execution_count": 26,
   "metadata": {},
   "outputs": [
    {
     "name": "stdout",
     "output_type": "stream",
     "text": [
      "(13042, 52)\n",
      "(13042,)\n",
      "(13042,)\n",
      "(5040, 52)\n",
      "(5040,)\n",
      "(5040,)\n"
     ]
    }
   ],
   "source": [
    "#Зададим переменные для признаков и целевых значений\n",
    "features_train = df_train.drop(['final.output.recovery', 'rougher.output.recovery'], axis=1)\n",
    "target_rougher_train = df_train['rougher.output.recovery']\n",
    "target_final_train = df_train['final.output.recovery']\n",
    "\n",
    "features_test = df_test.drop(['final.output.recovery', 'rougher.output.recovery'], axis=1)\n",
    "target_rougher_test = df_test['rougher.output.recovery']\n",
    "target_final_test = df_test['final.output.recovery']\n",
    "\n",
    "#Проверяем\n",
    "print(features_train.shape)\n",
    "print(target_rougher_train.shape)\n",
    "print(target_final_train.shape)\n",
    "print(features_test.shape)\n",
    "print(target_rougher_test.shape)\n",
    "print(target_final_test.shape)"
   ]
  },
  {
   "cell_type": "code",
   "execution_count": 27,
   "metadata": {},
   "outputs": [],
   "source": [
    "#Добавим total_smape_score для параметров GridSearchCV\n",
    "smape_score = make_scorer(\n",
    "    smape,\n",
    "    greater_is_better=False\n",
    ")\n",
    "\n",
    "total_smape_score = make_scorer(\n",
    "    total_smape,\n",
    "    greater_is_better=False\n",
    ")"
   ]
  },
  {
   "cell_type": "code",
   "execution_count": 28,
   "metadata": {},
   "outputs": [],
   "source": [
    "#Масштабируем признаки\n",
    "scaler = StandardScaler()\n",
    "scaler.fit(features_train)\n",
    "\n",
    "features_train_scaled = scaler.transform(features_train)\n",
    "features_test_scaled = scaler.transform(features_test)"
   ]
  },
  {
   "cell_type": "markdown",
   "metadata": {},
   "source": [
    "#### RandomForestRegressor"
   ]
  },
  {
   "cell_type": "code",
   "execution_count": 31,
   "metadata": {},
   "outputs": [
    {
     "name": "stdout",
     "output_type": "stream",
     "text": [
      "-7.164210591579229\n",
      "-8.076702472563229\n",
      "Итоговое sMAPE RandomForestRegressor на тренировочной выборке: -7.848579502317229\n"
     ]
    }
   ],
   "source": [
    "#Пишем модель RandomForestRegressor\n",
    "forest = RandomForestRegressor(random_state=12345)\n",
    "forest_params = {'n_estimators': [10, 50, 100],\n",
    "             'max_depth': [None, 5, 10]}\n",
    "\n",
    "forest_grid_rougher = GridSearchCV(\n",
    "    forest,\n",
    "    forest_params,\n",
    "    cv=5,\n",
    "    scoring=smape_score)\n",
    "forest_grid_final = GridSearchCV(\n",
    "    forest,\n",
    "    forest_params,\n",
    "    cv=5,\n",
    "    scoring=smape_score)\n",
    "\n",
    "forest_grid_rougher.fit(features_train_scaled, target_rougher_train)\n",
    "forest_grid_final.fit(features_train_scaled, target_final_train)\n",
    "\n",
    "print(forest_grid_rougher.best_score_)\n",
    "print(forest_grid_final.best_score_)\n",
    "print('Итоговое sMAPE RandomForestRegressor на тренировочной выборке: {}'.format(\n",
    "    total_smape(\n",
    "        forest_grid_rougher.best_score_,\n",
    "        forest_grid_final.best_score_)))"
   ]
  },
  {
   "cell_type": "markdown",
   "metadata": {},
   "source": [
    "#### LinearRegression"
   ]
  },
  {
   "cell_type": "code",
   "execution_count": 29,
   "metadata": {},
   "outputs": [
    {
     "name": "stdout",
     "output_type": "stream",
     "text": [
      "-6.963386038543807\n",
      "-10.08616715390412\n",
      "Итоговое sMAPE LinearRegression на тренировочной выборке: -9.305471875064041\n"
     ]
    }
   ],
   "source": [
    "#Пишем модель LinearRegression\n",
    "regression = LinearRegression()\n",
    "regression_params = {'normalize': [True, False]}\n",
    "\n",
    "regression_grid_rougher = GridSearchCV(\n",
    "    regression,\n",
    "    regression_params,\n",
    "    cv=5,\n",
    "    scoring=smape_score)\n",
    "regression_grid_final = GridSearchCV(\n",
    "    regression,\n",
    "    regression_params,\n",
    "    cv=5,\n",
    "    scoring=smape_score)\n",
    "\n",
    "regression_grid_rougher.fit(features_train_scaled, target_rougher_train)\n",
    "regression_grid_final.fit(features_train_scaled, target_final_train)\n",
    "\n",
    "print(regression_grid_rougher.best_score_)\n",
    "print(regression_grid_final.best_score_)\n",
    "print('Итоговое sMAPE LinearRegression на тренировочной выборке: {}'.format(\n",
    "    total_smape(\n",
    "        regression_grid_rougher.best_score_,\n",
    "        regression_grid_final.best_score_)))"
   ]
  },
  {
   "cell_type": "markdown",
   "metadata": {},
   "source": [
    "#### Lasso"
   ]
  },
  {
   "cell_type": "code",
   "execution_count": 30,
   "metadata": {},
   "outputs": [
    {
     "name": "stdout",
     "output_type": "stream",
     "text": [
      "-6.295489727090602\n",
      "-8.679881124332038\n",
      "Итоговое sMAPE Lasso на тренировочной выборке: -8.083783275021679\n"
     ]
    }
   ],
   "source": [
    "#Пишем модель Lasso\n",
    "lasso = Lasso(random_state=12345)\n",
    "lasso_params = {'alpha': [0.1, 1, 10]}\n",
    "\n",
    "lasso_grid_rougher = GridSearchCV(\n",
    "    lasso,\n",
    "    lasso_params,\n",
    "    cv=5,\n",
    "    scoring=smape_score)\n",
    "lasso_grid_final = GridSearchCV(\n",
    "    lasso,\n",
    "    lasso_params,\n",
    "    cv=5,\n",
    "    scoring=smape_score)\n",
    "\n",
    "lasso_grid_rougher.fit(features_train_scaled, target_rougher_train)\n",
    "lasso_grid_final.fit(features_train_scaled, target_final_train)\n",
    "\n",
    "print(lasso_grid_rougher.best_score_)\n",
    "print(lasso_grid_final.best_score_)\n",
    "\n",
    "print('Итоговое sMAPE Lasso на тренировочной выборке: {}'.format(\n",
    "    total_smape(\n",
    "        lasso_grid_rougher.best_score_,\n",
    "        lasso_grid_final.best_score_)))"
   ]
  },
  {
   "cell_type": "markdown",
   "metadata": {},
   "source": [
    "**Лучшей моделью на тренировочной выборке стала модель RandomForestRegressor, её и проверим на тестовой.**"
   ]
  },
  {
   "cell_type": "code",
   "execution_count": 35,
   "metadata": {},
   "outputs": [
    {
     "name": "stdout",
     "output_type": "stream",
     "text": [
      "Итоговое sMAPE RandomForestRegressor на тестовой выборке: 7.1306104389296205\n"
     ]
    }
   ],
   "source": [
    "#Проверяем модель RandomForestRegressor на тестовой выборке\n",
    "forest_rougher_predict = forest_grid_rougher.predict(features_test_scaled)\n",
    "forest_final_predict = forest_grid_final.predict(features_test_scaled)\n",
    "\n",
    "print('Итоговое sMAPE RandomForestRegressor на тестовой выборке: {}'.format(\n",
    "    total_smape(\n",
    "        smape(target_rougher_test, forest_rougher_predict),\n",
    "        smape(target_final_test, forest_final_predict))))"
   ]
  },
  {
   "cell_type": "markdown",
   "metadata": {},
   "source": [
    "#### Проверка адекватности — Dummy"
   ]
  },
  {
   "cell_type": "markdown",
   "metadata": {},
   "source": [
    "На всякий случай сравним лучшую модель с константной."
   ]
  },
  {
   "cell_type": "code",
   "execution_count": 36,
   "metadata": {},
   "outputs": [
    {
     "name": "stdout",
     "output_type": "stream",
     "text": [
      "Итоговое sMAPE dummy-модели на тестовой выборке: 7.256945360766145\n"
     ]
    }
   ],
   "source": [
    "#Проверим результаты на dummy-модели\n",
    "dummy_rougher = DummyRegressor(strategy='mean')\n",
    "dummy_final = DummyRegressor(strategy='mean')\n",
    "\n",
    "dummy_rougher.fit(features_train_scaled, target_rougher_train)\n",
    "dummy_final.fit(features_train_scaled, target_final_train)\n",
    "\n",
    "#Проверяем модель Lasso на тестовой выборке\n",
    "dummy_rougher_predict = dummy_rougher.predict(features_test_scaled)\n",
    "dummy_final_predict = dummy_final.predict(features_test_scaled)\n",
    "\n",
    "print('Итоговое sMAPE dummy-модели на тестовой выборке: {}'.format(\n",
    "    total_smape(\n",
    "        smape(target_rougher_test,\n",
    "              dummy_rougher_predict),\n",
    "        smape(target_final_test,\n",
    "              dummy_final_predict))))"
   ]
  },
  {
   "cell_type": "markdown",
   "metadata": {},
   "source": [
    "Dummy-модель уступает RandomForestRegressor."
   ]
  },
  {
   "cell_type": "markdown",
   "metadata": {},
   "source": [
    "## Итог:\n",
    "\n",
    "Все поставленные в проекте задачи выполнены, итоговое sMAPE также посчитано.\n",
    "\n",
    "\n",
    "**Лучшая модель — RandomForestRegressor — показала результат итогового sMAPE в 7.13%**"
   ]
  }
 ],
 "metadata": {
  "ExecuteTimeLog": [
   {
    "duration": 1591,
    "start_time": "2023-04-15T23:18:40.170Z"
   },
   {
    "duration": 3100,
    "start_time": "2023-04-15T23:20:40.719Z"
   },
   {
    "duration": 39,
    "start_time": "2023-04-15T23:22:48.742Z"
   },
   {
    "duration": 32,
    "start_time": "2023-04-15T23:23:01.034Z"
   },
   {
    "duration": 14,
    "start_time": "2023-04-15T23:23:17.397Z"
   },
   {
    "duration": 14,
    "start_time": "2023-04-15T23:23:22.460Z"
   },
   {
    "duration": 10,
    "start_time": "2023-04-15T23:23:33.806Z"
   },
   {
    "duration": 14,
    "start_time": "2023-04-15T23:23:37.892Z"
   },
   {
    "duration": 16,
    "start_time": "2023-04-15T23:25:35.051Z"
   },
   {
    "duration": 700,
    "start_time": "2023-04-15T23:31:33.590Z"
   },
   {
    "duration": 15,
    "start_time": "2023-04-15T23:31:35.820Z"
   },
   {
    "duration": 13,
    "start_time": "2023-04-15T23:31:36.927Z"
   },
   {
    "duration": 17,
    "start_time": "2023-04-15T23:31:37.230Z"
   },
   {
    "duration": 1579,
    "start_time": "2023-04-16T12:10:44.345Z"
   },
   {
    "duration": 811,
    "start_time": "2023-04-16T12:10:45.927Z"
   },
   {
    "duration": 21,
    "start_time": "2023-04-16T12:10:46.739Z"
   },
   {
    "duration": 14,
    "start_time": "2023-04-16T12:10:46.762Z"
   },
   {
    "duration": 22,
    "start_time": "2023-04-16T12:10:46.795Z"
   },
   {
    "duration": 238,
    "start_time": "2023-04-16T12:11:49.380Z"
   },
   {
    "duration": 19,
    "start_time": "2023-04-16T12:12:16.921Z"
   },
   {
    "duration": 87,
    "start_time": "2023-04-16T12:13:41.797Z"
   },
   {
    "duration": 21,
    "start_time": "2023-04-16T12:13:48.927Z"
   },
   {
    "duration": 22,
    "start_time": "2023-04-16T12:13:54.921Z"
   },
   {
    "duration": 13,
    "start_time": "2023-04-16T12:24:43.933Z"
   },
   {
    "duration": 6,
    "start_time": "2023-04-16T12:25:03.080Z"
   },
   {
    "duration": 9,
    "start_time": "2023-04-16T12:25:25.381Z"
   },
   {
    "duration": 10,
    "start_time": "2023-04-16T12:29:34.835Z"
   },
   {
    "duration": 85,
    "start_time": "2023-04-16T12:31:20.276Z"
   },
   {
    "duration": 23,
    "start_time": "2023-04-16T12:31:24.320Z"
   },
   {
    "duration": 18,
    "start_time": "2023-04-16T12:31:41.124Z"
   },
   {
    "duration": 21,
    "start_time": "2023-04-16T12:31:59.222Z"
   },
   {
    "duration": 36,
    "start_time": "2023-04-16T12:32:07.817Z"
   },
   {
    "duration": 10,
    "start_time": "2023-04-16T12:33:53.922Z"
   },
   {
    "duration": 8,
    "start_time": "2023-04-16T13:22:09.450Z"
   },
   {
    "duration": 122,
    "start_time": "2023-04-16T13:31:13.235Z"
   },
   {
    "duration": 10,
    "start_time": "2023-04-16T13:31:24.201Z"
   },
   {
    "duration": 4,
    "start_time": "2023-04-16T13:31:55.112Z"
   },
   {
    "duration": 4,
    "start_time": "2023-04-16T13:32:02.528Z"
   },
   {
    "duration": 10,
    "start_time": "2023-04-16T13:32:19.612Z"
   },
   {
    "duration": 15,
    "start_time": "2023-04-16T13:32:22.205Z"
   },
   {
    "duration": 5,
    "start_time": "2023-04-16T13:32:26.856Z"
   },
   {
    "duration": 5,
    "start_time": "2023-04-16T13:32:38.959Z"
   },
   {
    "duration": 5,
    "start_time": "2023-04-16T13:33:01.632Z"
   },
   {
    "duration": 5,
    "start_time": "2023-04-16T13:41:26.804Z"
   },
   {
    "duration": 16,
    "start_time": "2023-04-16T13:53:38.437Z"
   },
   {
    "duration": 8,
    "start_time": "2023-04-16T14:07:28.051Z"
   },
   {
    "duration": 32,
    "start_time": "2023-04-16T14:07:34.234Z"
   },
   {
    "duration": 9,
    "start_time": "2023-04-16T14:07:47.369Z"
   },
   {
    "duration": 14,
    "start_time": "2023-04-16T14:07:52.367Z"
   },
   {
    "duration": 8,
    "start_time": "2023-04-16T14:07:54.933Z"
   },
   {
    "duration": 8,
    "start_time": "2023-04-16T14:08:22.319Z"
   },
   {
    "duration": 6,
    "start_time": "2023-04-16T14:08:45.167Z"
   },
   {
    "duration": 5,
    "start_time": "2023-04-16T14:09:06.026Z"
   },
   {
    "duration": 7,
    "start_time": "2023-04-16T14:11:30.029Z"
   },
   {
    "duration": 15,
    "start_time": "2023-04-16T14:12:14.098Z"
   },
   {
    "duration": 17,
    "start_time": "2023-04-16T14:12:25.755Z"
   },
   {
    "duration": 1356,
    "start_time": "2023-04-16T14:12:36.776Z"
   },
   {
    "duration": 637,
    "start_time": "2023-04-16T14:12:38.133Z"
   },
   {
    "duration": 25,
    "start_time": "2023-04-16T14:12:38.771Z"
   },
   {
    "duration": 9,
    "start_time": "2023-04-16T14:12:38.798Z"
   },
   {
    "duration": 19,
    "start_time": "2023-04-16T14:12:38.809Z"
   },
   {
    "duration": 211,
    "start_time": "2023-04-16T14:12:38.830Z"
   },
   {
    "duration": 9,
    "start_time": "2023-04-16T14:12:39.043Z"
   },
   {
    "duration": 4,
    "start_time": "2023-04-16T14:12:39.053Z"
   },
   {
    "duration": 5,
    "start_time": "2023-04-16T14:12:39.058Z"
   },
   {
    "duration": 31,
    "start_time": "2023-04-16T14:12:39.064Z"
   },
   {
    "duration": 11,
    "start_time": "2023-04-16T14:12:39.096Z"
   },
   {
    "duration": 8,
    "start_time": "2023-04-16T14:15:40.419Z"
   },
   {
    "duration": 1405,
    "start_time": "2023-04-16T14:21:59.641Z"
   },
   {
    "duration": 722,
    "start_time": "2023-04-16T14:22:01.048Z"
   },
   {
    "duration": 32,
    "start_time": "2023-04-16T14:22:01.772Z"
   },
   {
    "duration": 12,
    "start_time": "2023-04-16T14:22:01.806Z"
   },
   {
    "duration": 42,
    "start_time": "2023-04-16T14:22:01.820Z"
   },
   {
    "duration": 225,
    "start_time": "2023-04-16T14:22:01.864Z"
   },
   {
    "duration": 13,
    "start_time": "2023-04-16T14:22:02.095Z"
   },
   {
    "duration": 31,
    "start_time": "2023-04-16T14:22:02.111Z"
   },
   {
    "duration": 28,
    "start_time": "2023-04-16T14:22:02.144Z"
   },
   {
    "duration": 34,
    "start_time": "2023-04-16T14:22:02.173Z"
   },
   {
    "duration": 8,
    "start_time": "2023-04-16T14:22:02.209Z"
   },
   {
    "duration": 29,
    "start_time": "2023-04-16T14:22:02.218Z"
   },
   {
    "duration": 107,
    "start_time": "2023-04-16T14:30:41.411Z"
   },
   {
    "duration": 15,
    "start_time": "2023-04-16T14:30:45.651Z"
   },
   {
    "duration": 16,
    "start_time": "2023-04-16T14:32:26.047Z"
   },
   {
    "duration": 13,
    "start_time": "2023-04-16T14:32:44.573Z"
   },
   {
    "duration": 17,
    "start_time": "2023-04-16T14:32:50.223Z"
   },
   {
    "duration": 209,
    "start_time": "2023-04-16T14:34:04.541Z"
   },
   {
    "duration": 753,
    "start_time": "2023-04-16T14:34:13.607Z"
   },
   {
    "duration": 30,
    "start_time": "2023-04-16T14:34:39.146Z"
   },
   {
    "duration": 6,
    "start_time": "2023-04-16T14:35:00.576Z"
   },
   {
    "duration": 742,
    "start_time": "2023-04-16T14:35:04.900Z"
   },
   {
    "duration": 2436,
    "start_time": "2023-04-16T14:35:58.411Z"
   },
   {
    "duration": 229,
    "start_time": "2023-04-16T14:36:41.423Z"
   },
   {
    "duration": 220,
    "start_time": "2023-04-16T14:36:44.478Z"
   },
   {
    "duration": 2368,
    "start_time": "2023-04-16T14:37:57.565Z"
   },
   {
    "duration": 1188,
    "start_time": "2023-04-16T15:37:47.779Z"
   },
   {
    "duration": 75,
    "start_time": "2023-04-16T15:37:59.032Z"
   },
   {
    "duration": 279,
    "start_time": "2023-04-16T15:38:01.718Z"
   },
   {
    "duration": 2141,
    "start_time": "2023-04-16T15:38:14.418Z"
   },
   {
    "duration": 1254,
    "start_time": "2023-04-16T15:44:28.004Z"
   },
   {
    "duration": 998,
    "start_time": "2023-04-16T15:44:47.291Z"
   },
   {
    "duration": 791,
    "start_time": "2023-04-16T16:03:22.290Z"
   },
   {
    "duration": 820,
    "start_time": "2023-04-16T16:03:49.520Z"
   },
   {
    "duration": 937,
    "start_time": "2023-04-16T16:03:58.312Z"
   },
   {
    "duration": 2028,
    "start_time": "2023-04-16T16:04:18.610Z"
   },
   {
    "duration": 28905,
    "start_time": "2023-04-16T16:08:58.808Z"
   },
   {
    "duration": 4,
    "start_time": "2023-04-16T16:13:04.255Z"
   },
   {
    "duration": 29246,
    "start_time": "2023-04-16T16:13:06.511Z"
   },
   {
    "duration": 10,
    "start_time": "2023-04-16T16:13:38.324Z"
   },
   {
    "duration": 2508,
    "start_time": "2023-04-16T16:13:51.419Z"
   },
   {
    "duration": 70,
    "start_time": "2023-04-16T16:14:29.515Z"
   },
   {
    "duration": 4110,
    "start_time": "2023-04-16T16:14:31.724Z"
   },
   {
    "duration": 4,
    "start_time": "2023-04-16T16:15:55.653Z"
   },
   {
    "duration": 9,
    "start_time": "2023-04-16T16:16:46.532Z"
   },
   {
    "duration": 4,
    "start_time": "2023-04-16T16:16:49.747Z"
   },
   {
    "duration": 3631,
    "start_time": "2023-04-16T16:16:50.140Z"
   },
   {
    "duration": 3243,
    "start_time": "2023-04-16T16:17:01.511Z"
   },
   {
    "duration": 4,
    "start_time": "2023-04-16T16:17:25.712Z"
   },
   {
    "duration": 3155,
    "start_time": "2023-04-16T16:17:25.955Z"
   },
   {
    "duration": 4,
    "start_time": "2023-04-16T16:18:04.720Z"
   },
   {
    "duration": 3072,
    "start_time": "2023-04-16T16:18:05.302Z"
   },
   {
    "duration": 8,
    "start_time": "2023-04-16T16:18:10.199Z"
   },
   {
    "duration": 2641,
    "start_time": "2023-04-16T16:18:10.472Z"
   },
   {
    "duration": 8,
    "start_time": "2023-04-16T16:19:55.092Z"
   },
   {
    "duration": 2853,
    "start_time": "2023-04-16T16:19:55.816Z"
   },
   {
    "duration": 4,
    "start_time": "2023-04-16T16:20:48.608Z"
   },
   {
    "duration": 1728,
    "start_time": "2023-04-16T16:20:55.545Z"
   },
   {
    "duration": 1836,
    "start_time": "2023-04-16T16:21:13.823Z"
   },
   {
    "duration": 5,
    "start_time": "2023-04-16T16:21:29.709Z"
   },
   {
    "duration": 4050,
    "start_time": "2023-04-16T16:21:29.941Z"
   },
   {
    "duration": 5,
    "start_time": "2023-04-16T16:23:40.417Z"
   },
   {
    "duration": 4046,
    "start_time": "2023-04-16T16:23:40.838Z"
   },
   {
    "duration": 5,
    "start_time": "2023-04-16T16:26:54.251Z"
   },
   {
    "duration": 1210,
    "start_time": "2023-04-16T16:26:55.116Z"
   },
   {
    "duration": 4,
    "start_time": "2023-04-16T16:27:00.275Z"
   },
   {
    "duration": 1413,
    "start_time": "2023-04-16T16:27:01.609Z"
   },
   {
    "duration": 4,
    "start_time": "2023-04-16T16:28:10.617Z"
   },
   {
    "duration": 1385,
    "start_time": "2023-04-16T16:28:11.112Z"
   },
   {
    "duration": 12,
    "start_time": "2023-04-16T16:28:29.017Z"
   },
   {
    "duration": 4,
    "start_time": "2023-04-16T16:29:53.249Z"
   },
   {
    "duration": 11,
    "start_time": "2023-04-16T16:29:53.926Z"
   },
   {
    "duration": 3711,
    "start_time": "2023-04-16T16:29:59.284Z"
   },
   {
    "duration": 4,
    "start_time": "2023-04-16T16:31:03.459Z"
   },
   {
    "duration": 3778,
    "start_time": "2023-04-16T16:31:04.046Z"
   },
   {
    "duration": 499,
    "start_time": "2023-04-16T16:41:44.525Z"
   },
   {
    "duration": 510,
    "start_time": "2023-04-16T16:42:40.315Z"
   },
   {
    "duration": 532,
    "start_time": "2023-04-16T16:44:53.535Z"
   },
   {
    "duration": 8,
    "start_time": "2023-04-16T16:45:22.216Z"
   },
   {
    "duration": 694,
    "start_time": "2023-04-16T16:45:31.940Z"
   },
   {
    "duration": 536,
    "start_time": "2023-04-16T16:45:43.185Z"
   },
   {
    "duration": 552,
    "start_time": "2023-04-16T16:45:47.565Z"
   },
   {
    "duration": 537,
    "start_time": "2023-04-16T16:46:17.624Z"
   },
   {
    "duration": 534,
    "start_time": "2023-04-16T16:46:28.627Z"
   },
   {
    "duration": 31996,
    "start_time": "2023-04-16T16:49:00.144Z"
   },
   {
    "duration": 1381,
    "start_time": "2023-04-16T16:49:44.272Z"
   },
   {
    "duration": 686,
    "start_time": "2023-04-16T16:49:45.655Z"
   },
   {
    "duration": 14,
    "start_time": "2023-04-16T16:49:46.343Z"
   },
   {
    "duration": 10,
    "start_time": "2023-04-16T16:49:46.360Z"
   },
   {
    "duration": 35,
    "start_time": "2023-04-16T16:49:46.372Z"
   },
   {
    "duration": 226,
    "start_time": "2023-04-16T16:49:46.409Z"
   },
   {
    "duration": 8,
    "start_time": "2023-04-16T16:49:46.637Z"
   },
   {
    "duration": 4,
    "start_time": "2023-04-16T16:49:46.647Z"
   },
   {
    "duration": 6,
    "start_time": "2023-04-16T16:49:46.653Z"
   },
   {
    "duration": 7,
    "start_time": "2023-04-16T16:49:46.661Z"
   },
   {
    "duration": 9,
    "start_time": "2023-04-16T16:49:46.693Z"
   },
   {
    "duration": 16,
    "start_time": "2023-04-16T16:49:46.703Z"
   },
   {
    "duration": 4,
    "start_time": "2023-04-16T16:49:46.721Z"
   },
   {
    "duration": 4326,
    "start_time": "2023-04-16T16:49:46.727Z"
   },
   {
    "duration": 3597,
    "start_time": "2023-04-16T16:49:52.444Z"
   },
   {
    "duration": 61388,
    "start_time": "2023-04-16T16:49:59.820Z"
   },
   {
    "duration": 672,
    "start_time": "2023-04-16T16:51:15.878Z"
   },
   {
    "duration": 838,
    "start_time": "2023-04-16T16:51:34.040Z"
   },
   {
    "duration": 65366,
    "start_time": "2023-04-16T16:51:49.112Z"
   },
   {
    "duration": 290,
    "start_time": "2023-04-16T16:55:42.575Z"
   },
   {
    "duration": 665,
    "start_time": "2023-04-16T16:56:42.981Z"
   },
   {
    "duration": 4980,
    "start_time": "2023-04-16T16:57:45.033Z"
   },
   {
    "duration": 3,
    "start_time": "2023-04-16T17:23:26.855Z"
   },
   {
    "duration": 1348,
    "start_time": "2023-04-16T17:24:37.459Z"
   },
   {
    "duration": 1316,
    "start_time": "2023-04-16T17:24:38.809Z"
   },
   {
    "duration": 14,
    "start_time": "2023-04-16T17:24:40.127Z"
   },
   {
    "duration": 63,
    "start_time": "2023-04-16T17:24:40.142Z"
   },
   {
    "duration": 15,
    "start_time": "2023-04-16T17:24:40.207Z"
   },
   {
    "duration": 332,
    "start_time": "2023-04-16T17:24:40.224Z"
   },
   {
    "duration": 9,
    "start_time": "2023-04-16T17:24:40.558Z"
   },
   {
    "duration": 5,
    "start_time": "2023-04-16T17:24:40.569Z"
   },
   {
    "duration": 21,
    "start_time": "2023-04-16T17:24:40.575Z"
   },
   {
    "duration": 8,
    "start_time": "2023-04-16T17:24:40.598Z"
   },
   {
    "duration": 10,
    "start_time": "2023-04-16T17:24:40.608Z"
   },
   {
    "duration": 16,
    "start_time": "2023-04-16T17:24:40.620Z"
   },
   {
    "duration": 4,
    "start_time": "2023-04-16T17:24:40.637Z"
   },
   {
    "duration": 3175,
    "start_time": "2023-04-16T17:24:40.643Z"
   },
   {
    "duration": 718,
    "start_time": "2023-04-16T17:24:43.820Z"
   },
   {
    "duration": 3,
    "start_time": "2023-04-16T17:24:50.020Z"
   },
   {
    "duration": 103,
    "start_time": "2023-04-16T17:24:50.725Z"
   },
   {
    "duration": 21,
    "start_time": "2023-04-16T17:24:58.557Z"
   },
   {
    "duration": 19,
    "start_time": "2023-04-16T17:25:17.225Z"
   },
   {
    "duration": 2824,
    "start_time": "2023-04-16T17:26:27.924Z"
   },
   {
    "duration": 12,
    "start_time": "2023-04-16T17:28:56.763Z"
   },
   {
    "duration": 3089,
    "start_time": "2023-04-16T17:29:14.418Z"
   },
   {
    "duration": 4,
    "start_time": "2023-04-16T17:31:37.327Z"
   },
   {
    "duration": 5809,
    "start_time": "2023-04-16T17:31:40.030Z"
   },
   {
    "duration": 907,
    "start_time": "2023-04-16T17:36:56.227Z"
   },
   {
    "duration": 6,
    "start_time": "2023-04-16T19:12:59.918Z"
   },
   {
    "duration": 1334,
    "start_time": "2023-04-16T19:17:47.320Z"
   },
   {
    "duration": 724,
    "start_time": "2023-04-16T19:17:48.656Z"
   },
   {
    "duration": 29,
    "start_time": "2023-04-16T19:17:49.381Z"
   },
   {
    "duration": 11,
    "start_time": "2023-04-16T19:17:49.414Z"
   },
   {
    "duration": 15,
    "start_time": "2023-04-16T19:17:49.428Z"
   },
   {
    "duration": 222,
    "start_time": "2023-04-16T19:17:49.445Z"
   },
   {
    "duration": 10,
    "start_time": "2023-04-16T19:17:49.669Z"
   },
   {
    "duration": 19,
    "start_time": "2023-04-16T19:17:49.680Z"
   },
   {
    "duration": 6,
    "start_time": "2023-04-16T19:17:49.700Z"
   },
   {
    "duration": 8,
    "start_time": "2023-04-16T19:17:49.712Z"
   },
   {
    "duration": 14,
    "start_time": "2023-04-16T19:17:49.722Z"
   },
   {
    "duration": 19,
    "start_time": "2023-04-16T19:17:49.738Z"
   },
   {
    "duration": 3,
    "start_time": "2023-04-16T19:17:49.759Z"
   },
   {
    "duration": 3508,
    "start_time": "2023-04-16T19:17:49.765Z"
   },
   {
    "duration": 790,
    "start_time": "2023-04-16T19:17:53.275Z"
   },
   {
    "duration": 7,
    "start_time": "2023-04-16T19:17:54.066Z"
   },
   {
    "duration": 1391,
    "start_time": "2023-04-16T19:17:56.423Z"
   },
   {
    "duration": 496,
    "start_time": "2023-04-16T19:18:18.519Z"
   },
   {
    "duration": 103,
    "start_time": "2023-04-16T19:18:29.062Z"
   },
   {
    "duration": 1214,
    "start_time": "2023-04-16T19:18:37.734Z"
   },
   {
    "duration": 159,
    "start_time": "2023-04-16T19:20:25.949Z"
   },
   {
    "duration": 474,
    "start_time": "2023-04-16T19:20:39.247Z"
   },
   {
    "duration": 94,
    "start_time": "2023-04-16T19:23:41.357Z"
   },
   {
    "duration": 70,
    "start_time": "2023-04-16T19:26:25.378Z"
   },
   {
    "duration": 19,
    "start_time": "2023-04-16T19:33:22.326Z"
   },
   {
    "duration": 1060,
    "start_time": "2023-04-16T19:33:33.022Z"
   },
   {
    "duration": 26,
    "start_time": "2023-04-16T19:33:47.146Z"
   },
   {
    "duration": 8,
    "start_time": "2023-04-16T19:33:58.579Z"
   },
   {
    "duration": 1130,
    "start_time": "2023-04-16T19:33:59.014Z"
   },
   {
    "duration": 21,
    "start_time": "2023-04-16T19:37:18.352Z"
   },
   {
    "duration": 22,
    "start_time": "2023-04-16T19:37:33.930Z"
   },
   {
    "duration": 3,
    "start_time": "2023-04-16T19:40:51.554Z"
   },
   {
    "duration": 9,
    "start_time": "2023-04-16T19:40:55.160Z"
   },
   {
    "duration": 3,
    "start_time": "2023-04-16T19:40:55.929Z"
   },
   {
    "duration": 1357,
    "start_time": "2023-04-16T19:43:19.275Z"
   },
   {
    "duration": 722,
    "start_time": "2023-04-16T19:43:20.634Z"
   },
   {
    "duration": 15,
    "start_time": "2023-04-16T19:43:21.358Z"
   },
   {
    "duration": 37,
    "start_time": "2023-04-16T19:43:21.375Z"
   },
   {
    "duration": 18,
    "start_time": "2023-04-16T19:43:21.417Z"
   },
   {
    "duration": 247,
    "start_time": "2023-04-16T19:43:21.437Z"
   },
   {
    "duration": 34,
    "start_time": "2023-04-16T19:43:21.686Z"
   },
   {
    "duration": 7,
    "start_time": "2023-04-16T19:43:21.722Z"
   },
   {
    "duration": 6,
    "start_time": "2023-04-16T19:43:21.731Z"
   },
   {
    "duration": 9,
    "start_time": "2023-04-16T19:43:21.740Z"
   },
   {
    "duration": 10,
    "start_time": "2023-04-16T19:43:21.751Z"
   },
   {
    "duration": 42,
    "start_time": "2023-04-16T19:43:21.763Z"
   },
   {
    "duration": 4,
    "start_time": "2023-04-16T19:43:21.807Z"
   },
   {
    "duration": 3580,
    "start_time": "2023-04-16T19:43:21.814Z"
   },
   {
    "duration": 758,
    "start_time": "2023-04-16T19:43:25.395Z"
   },
   {
    "duration": 8,
    "start_time": "2023-04-16T19:43:26.154Z"
   },
   {
    "duration": 1199,
    "start_time": "2023-04-16T19:43:26.163Z"
   },
   {
    "duration": 18,
    "start_time": "2023-04-16T19:43:27.363Z"
   },
   {
    "duration": 4,
    "start_time": "2023-04-16T19:43:27.394Z"
   },
   {
    "duration": 146,
    "start_time": "2023-04-16T19:43:27.399Z"
   },
   {
    "duration": 16,
    "start_time": "2023-04-16T19:43:45.820Z"
   },
   {
    "duration": 4,
    "start_time": "2023-04-16T19:43:48.243Z"
   },
   {
    "duration": 1275,
    "start_time": "2023-04-16T19:48:35.154Z"
   },
   {
    "duration": 681,
    "start_time": "2023-04-16T19:48:36.431Z"
   },
   {
    "duration": 14,
    "start_time": "2023-04-16T19:48:37.113Z"
   },
   {
    "duration": 10,
    "start_time": "2023-04-16T19:48:37.128Z"
   },
   {
    "duration": 16,
    "start_time": "2023-04-16T19:48:37.140Z"
   },
   {
    "duration": 230,
    "start_time": "2023-04-16T19:48:37.157Z"
   },
   {
    "duration": 13,
    "start_time": "2023-04-16T19:48:37.388Z"
   },
   {
    "duration": 5,
    "start_time": "2023-04-16T19:48:37.402Z"
   },
   {
    "duration": 27,
    "start_time": "2023-04-16T19:48:37.408Z"
   },
   {
    "duration": 8,
    "start_time": "2023-04-16T19:48:37.437Z"
   },
   {
    "duration": 12,
    "start_time": "2023-04-16T19:48:37.447Z"
   },
   {
    "duration": 16,
    "start_time": "2023-04-16T19:48:37.460Z"
   },
   {
    "duration": 16,
    "start_time": "2023-04-16T19:48:37.478Z"
   },
   {
    "duration": 3164,
    "start_time": "2023-04-16T19:48:37.497Z"
   },
   {
    "duration": 660,
    "start_time": "2023-04-16T19:48:40.663Z"
   },
   {
    "duration": 8,
    "start_time": "2023-04-16T19:48:41.324Z"
   },
   {
    "duration": 1202,
    "start_time": "2023-04-16T19:48:41.333Z"
   },
   {
    "duration": 19,
    "start_time": "2023-04-16T19:48:42.537Z"
   },
   {
    "duration": 20,
    "start_time": "2023-04-16T19:48:42.558Z"
   },
   {
    "duration": 294,
    "start_time": "2023-04-16T19:51:34.842Z"
   },
   {
    "duration": 1301,
    "start_time": "2023-04-16T19:51:55.153Z"
   },
   {
    "duration": 709,
    "start_time": "2023-04-16T19:51:56.456Z"
   },
   {
    "duration": 31,
    "start_time": "2023-04-16T19:51:57.167Z"
   },
   {
    "duration": 11,
    "start_time": "2023-04-16T19:51:57.200Z"
   },
   {
    "duration": 22,
    "start_time": "2023-04-16T19:51:57.214Z"
   },
   {
    "duration": 287,
    "start_time": "2023-04-16T19:51:57.238Z"
   },
   {
    "duration": 11,
    "start_time": "2023-04-16T19:51:57.529Z"
   },
   {
    "duration": 8,
    "start_time": "2023-04-16T19:51:57.542Z"
   },
   {
    "duration": 9,
    "start_time": "2023-04-16T19:51:57.552Z"
   },
   {
    "duration": 33,
    "start_time": "2023-04-16T19:51:57.563Z"
   },
   {
    "duration": 12,
    "start_time": "2023-04-16T19:51:57.598Z"
   },
   {
    "duration": 18,
    "start_time": "2023-04-16T19:51:57.612Z"
   },
   {
    "duration": 5,
    "start_time": "2023-04-16T19:51:57.632Z"
   },
   {
    "duration": 3428,
    "start_time": "2023-04-16T19:51:57.639Z"
   },
   {
    "duration": 777,
    "start_time": "2023-04-16T19:52:01.069Z"
   },
   {
    "duration": 7,
    "start_time": "2023-04-16T19:52:01.848Z"
   },
   {
    "duration": 1194,
    "start_time": "2023-04-16T19:52:01.856Z"
   },
   {
    "duration": 21,
    "start_time": "2023-04-16T19:52:05.778Z"
   },
   {
    "duration": 294,
    "start_time": "2023-04-16T19:52:08.134Z"
   },
   {
    "duration": 504,
    "start_time": "2023-04-16T19:52:46.737Z"
   },
   {
    "duration": 289,
    "start_time": "2023-04-16T19:53:16.636Z"
   },
   {
    "duration": 591,
    "start_time": "2023-04-16T19:53:54.537Z"
   },
   {
    "duration": 17,
    "start_time": "2023-04-16T19:53:57.614Z"
   },
   {
    "duration": 533,
    "start_time": "2023-04-16T19:54:00.798Z"
   },
   {
    "duration": 4,
    "start_time": "2023-04-16T19:59:48.337Z"
   },
   {
    "duration": 4,
    "start_time": "2023-04-16T19:59:49.317Z"
   },
   {
    "duration": 3395,
    "start_time": "2023-04-16T20:14:07.126Z"
   },
   {
    "duration": 24,
    "start_time": "2023-04-16T20:17:19.800Z"
   },
   {
    "duration": 76,
    "start_time": "2023-04-16T20:18:08.423Z"
   },
   {
    "duration": 82,
    "start_time": "2023-04-16T20:18:26.818Z"
   },
   {
    "duration": 32,
    "start_time": "2023-04-16T20:19:01.019Z"
   },
   {
    "duration": 15,
    "start_time": "2023-04-16T20:19:07.370Z"
   },
   {
    "duration": 1107,
    "start_time": "2023-04-16T20:20:48.117Z"
   },
   {
    "duration": 3595,
    "start_time": "2023-04-16T20:20:59.011Z"
   },
   {
    "duration": 1393,
    "start_time": "2023-04-16T20:21:35.522Z"
   },
   {
    "duration": 740,
    "start_time": "2023-04-16T20:21:36.917Z"
   },
   {
    "duration": 16,
    "start_time": "2023-04-16T20:21:37.658Z"
   },
   {
    "duration": 27,
    "start_time": "2023-04-16T20:21:37.675Z"
   },
   {
    "duration": 16,
    "start_time": "2023-04-16T20:21:37.704Z"
   },
   {
    "duration": 241,
    "start_time": "2023-04-16T20:21:37.721Z"
   },
   {
    "duration": 11,
    "start_time": "2023-04-16T20:21:37.964Z"
   },
   {
    "duration": 18,
    "start_time": "2023-04-16T20:21:37.977Z"
   },
   {
    "duration": 5,
    "start_time": "2023-04-16T20:21:37.996Z"
   },
   {
    "duration": 13,
    "start_time": "2023-04-16T20:21:38.003Z"
   },
   {
    "duration": 11,
    "start_time": "2023-04-16T20:21:38.017Z"
   },
   {
    "duration": 14,
    "start_time": "2023-04-16T20:21:38.029Z"
   },
   {
    "duration": 4,
    "start_time": "2023-04-16T20:21:38.045Z"
   },
   {
    "duration": 3467,
    "start_time": "2023-04-16T20:21:38.051Z"
   },
   {
    "duration": 710,
    "start_time": "2023-04-16T20:21:41.520Z"
   },
   {
    "duration": 6,
    "start_time": "2023-04-16T20:21:42.232Z"
   },
   {
    "duration": 1228,
    "start_time": "2023-04-16T20:21:42.240Z"
   },
   {
    "duration": 27,
    "start_time": "2023-04-16T20:21:43.470Z"
   },
   {
    "duration": 18,
    "start_time": "2023-04-16T20:21:43.498Z"
   },
   {
    "duration": 4,
    "start_time": "2023-04-16T21:12:47.458Z"
   },
   {
    "duration": 4,
    "start_time": "2023-04-16T21:15:40.488Z"
   },
   {
    "duration": 4,
    "start_time": "2023-04-16T21:16:40.471Z"
   },
   {
    "duration": 1327,
    "start_time": "2023-04-16T21:19:44.726Z"
   },
   {
    "duration": 751,
    "start_time": "2023-04-16T21:19:46.055Z"
   },
   {
    "duration": 18,
    "start_time": "2023-04-16T21:19:46.807Z"
   },
   {
    "duration": 10,
    "start_time": "2023-04-16T21:19:46.826Z"
   },
   {
    "duration": 14,
    "start_time": "2023-04-16T21:19:46.838Z"
   },
   {
    "duration": 226,
    "start_time": "2023-04-16T21:19:46.854Z"
   },
   {
    "duration": 27,
    "start_time": "2023-04-16T21:19:47.081Z"
   },
   {
    "duration": 8,
    "start_time": "2023-04-16T21:19:47.114Z"
   },
   {
    "duration": 7,
    "start_time": "2023-04-16T21:19:47.124Z"
   },
   {
    "duration": 8,
    "start_time": "2023-04-16T21:19:47.132Z"
   },
   {
    "duration": 15,
    "start_time": "2023-04-16T21:19:47.142Z"
   },
   {
    "duration": 14,
    "start_time": "2023-04-16T21:19:47.159Z"
   },
   {
    "duration": 3,
    "start_time": "2023-04-16T21:19:47.175Z"
   },
   {
    "duration": 3417,
    "start_time": "2023-04-16T21:19:47.181Z"
   },
   {
    "duration": 732,
    "start_time": "2023-04-16T21:19:50.599Z"
   },
   {
    "duration": 6,
    "start_time": "2023-04-16T21:19:51.332Z"
   },
   {
    "duration": 1121,
    "start_time": "2023-04-16T21:19:51.340Z"
   },
   {
    "duration": 18,
    "start_time": "2023-04-16T21:19:52.463Z"
   },
   {
    "duration": 39,
    "start_time": "2023-04-16T21:19:52.483Z"
   },
   {
    "duration": 4,
    "start_time": "2023-04-16T21:19:52.524Z"
   },
   {
    "duration": 100,
    "start_time": "2023-04-16T21:41:29.041Z"
   },
   {
    "duration": 3,
    "start_time": "2023-04-16T21:41:43.983Z"
   },
   {
    "duration": 3,
    "start_time": "2023-04-16T21:41:49.855Z"
   },
   {
    "duration": 3,
    "start_time": "2023-04-16T22:03:29.677Z"
   },
   {
    "duration": 3,
    "start_time": "2023-04-16T22:05:04.484Z"
   },
   {
    "duration": 3,
    "start_time": "2023-04-16T22:05:47.164Z"
   },
   {
    "duration": 2,
    "start_time": "2023-04-16T22:07:57.027Z"
   },
   {
    "duration": 3,
    "start_time": "2023-04-16T22:23:27.658Z"
   },
   {
    "duration": 12,
    "start_time": "2023-04-16T22:25:44.311Z"
   },
   {
    "duration": 7,
    "start_time": "2023-04-16T22:27:34.013Z"
   },
   {
    "duration": 3,
    "start_time": "2023-04-16T23:52:02.236Z"
   },
   {
    "duration": 9,
    "start_time": "2023-04-16T23:52:36.395Z"
   },
   {
    "duration": 9,
    "start_time": "2023-04-17T00:11:15.530Z"
   },
   {
    "duration": 15,
    "start_time": "2023-04-17T00:13:57.903Z"
   },
   {
    "duration": 12,
    "start_time": "2023-04-17T00:15:51.381Z"
   },
   {
    "duration": 4,
    "start_time": "2023-04-17T00:16:02.485Z"
   },
   {
    "duration": 3084,
    "start_time": "2023-04-17T00:16:49.820Z"
   },
   {
    "duration": 3097,
    "start_time": "2023-04-17T00:18:42.075Z"
   },
   {
    "duration": 4,
    "start_time": "2023-04-17T00:19:39.162Z"
   },
   {
    "duration": 430521,
    "start_time": "2023-04-17T00:19:39.506Z"
   },
   {
    "duration": 9,
    "start_time": "2023-04-17T00:31:09.299Z"
   },
   {
    "duration": 3265,
    "start_time": "2023-04-17T00:33:24.653Z"
   },
   {
    "duration": 5992,
    "start_time": "2023-04-17T00:34:02.613Z"
   },
   {
    "duration": 4,
    "start_time": "2023-04-17T00:34:20.372Z"
   },
   {
    "duration": 3,
    "start_time": "2023-04-17T00:36:23.875Z"
   },
   {
    "duration": 3,
    "start_time": "2023-04-17T00:37:04.978Z"
   },
   {
    "duration": 3,
    "start_time": "2023-04-17T00:37:08.250Z"
   },
   {
    "duration": 13,
    "start_time": "2023-04-17T00:37:11.394Z"
   },
   {
    "duration": 6,
    "start_time": "2023-04-17T00:37:12.986Z"
   },
   {
    "duration": 2,
    "start_time": "2023-04-17T00:37:13.778Z"
   },
   {
    "duration": 13,
    "start_time": "2023-04-17T00:37:15.866Z"
   },
   {
    "duration": 5,
    "start_time": "2023-04-17T00:37:17.186Z"
   },
   {
    "duration": 7087,
    "start_time": "2023-04-17T00:37:18.818Z"
   },
   {
    "duration": 4,
    "start_time": "2023-04-17T00:37:27.841Z"
   },
   {
    "duration": 3,
    "start_time": "2023-04-17T00:38:50.121Z"
   },
   {
    "duration": 5,
    "start_time": "2023-04-17T00:39:25.004Z"
   },
   {
    "duration": 88,
    "start_time": "2023-04-17T00:45:26.827Z"
   },
   {
    "duration": 74,
    "start_time": "2023-04-17T00:45:39.875Z"
   },
   {
    "duration": 80,
    "start_time": "2023-04-17T00:45:56.709Z"
   },
   {
    "duration": 79,
    "start_time": "2023-04-17T00:46:04.209Z"
   },
   {
    "duration": 1114718,
    "start_time": "2023-04-17T00:46:14.123Z"
   },
   {
    "duration": 3,
    "start_time": "2023-04-17T01:06:51.839Z"
   },
   {
    "duration": 6560,
    "start_time": "2023-04-17T01:07:07.535Z"
   },
   {
    "duration": 9389,
    "start_time": "2023-04-17T01:07:50.814Z"
   },
   {
    "duration": 5,
    "start_time": "2023-04-17T01:13:37.674Z"
   },
   {
    "duration": 10,
    "start_time": "2023-04-17T01:13:38.016Z"
   },
   {
    "duration": 6,
    "start_time": "2023-04-17T01:13:43.569Z"
   },
   {
    "duration": 7,
    "start_time": "2023-04-17T01:14:24.624Z"
   },
   {
    "duration": 17,
    "start_time": "2023-04-17T01:15:18.692Z"
   },
   {
    "duration": 6,
    "start_time": "2023-04-17T01:15:19.032Z"
   },
   {
    "duration": 4,
    "start_time": "2023-04-17T01:16:52.455Z"
   },
   {
    "duration": 15,
    "start_time": "2023-04-17T01:16:52.678Z"
   },
   {
    "duration": 8,
    "start_time": "2023-04-17T01:16:52.895Z"
   },
   {
    "duration": 5,
    "start_time": "2023-04-17T01:18:29.845Z"
   },
   {
    "duration": 8,
    "start_time": "2023-04-17T01:18:36.989Z"
   },
   {
    "duration": 4,
    "start_time": "2023-04-17T01:20:36.323Z"
   },
   {
    "duration": 10,
    "start_time": "2023-04-17T01:20:36.578Z"
   },
   {
    "duration": 6,
    "start_time": "2023-04-17T01:20:36.866Z"
   },
   {
    "duration": 7,
    "start_time": "2023-04-17T01:20:37.450Z"
   },
   {
    "duration": 4,
    "start_time": "2023-04-17T01:20:42.491Z"
   },
   {
    "duration": 8,
    "start_time": "2023-04-17T01:22:38.074Z"
   },
   {
    "duration": 9,
    "start_time": "2023-04-17T01:22:38.565Z"
   },
   {
    "duration": 7,
    "start_time": "2023-04-17T01:22:50.632Z"
   },
   {
    "duration": 3,
    "start_time": "2023-04-17T01:23:47.976Z"
   },
   {
    "duration": 329,
    "start_time": "2023-04-17T01:23:55.048Z"
   },
   {
    "duration": 8,
    "start_time": "2023-04-17T01:24:05.655Z"
   },
   {
    "duration": 8,
    "start_time": "2023-04-17T01:24:10.412Z"
   },
   {
    "duration": 8,
    "start_time": "2023-04-17T01:24:35.471Z"
   },
   {
    "duration": 8,
    "start_time": "2023-04-17T01:24:45.087Z"
   },
   {
    "duration": 7,
    "start_time": "2023-04-17T01:24:47.815Z"
   },
   {
    "duration": 1249,
    "start_time": "2023-04-17T01:28:26.668Z"
   },
   {
    "duration": 689,
    "start_time": "2023-04-17T01:28:27.918Z"
   },
   {
    "duration": 15,
    "start_time": "2023-04-17T01:28:28.609Z"
   },
   {
    "duration": 10,
    "start_time": "2023-04-17T01:28:28.625Z"
   },
   {
    "duration": 13,
    "start_time": "2023-04-17T01:28:28.636Z"
   },
   {
    "duration": 223,
    "start_time": "2023-04-17T01:28:28.651Z"
   },
   {
    "duration": 9,
    "start_time": "2023-04-17T01:28:28.875Z"
   },
   {
    "duration": 4,
    "start_time": "2023-04-17T01:28:28.894Z"
   },
   {
    "duration": 9,
    "start_time": "2023-04-17T01:28:28.899Z"
   },
   {
    "duration": 6,
    "start_time": "2023-04-17T01:28:28.910Z"
   },
   {
    "duration": 11,
    "start_time": "2023-04-17T01:28:28.918Z"
   },
   {
    "duration": 14,
    "start_time": "2023-04-17T01:28:28.930Z"
   },
   {
    "duration": 3,
    "start_time": "2023-04-17T01:28:28.945Z"
   },
   {
    "duration": 3380,
    "start_time": "2023-04-17T01:28:28.951Z"
   },
   {
    "duration": 584,
    "start_time": "2023-04-17T01:28:32.332Z"
   },
   {
    "duration": 7,
    "start_time": "2023-04-17T01:28:32.917Z"
   },
   {
    "duration": 1227,
    "start_time": "2023-04-17T01:28:32.925Z"
   },
   {
    "duration": 18,
    "start_time": "2023-04-17T01:28:34.153Z"
   },
   {
    "duration": 26,
    "start_time": "2023-04-17T01:28:34.172Z"
   },
   {
    "duration": 5,
    "start_time": "2023-04-17T01:28:34.203Z"
   },
   {
    "duration": 2,
    "start_time": "2023-04-17T01:28:34.210Z"
   },
   {
    "duration": 9,
    "start_time": "2023-04-17T01:28:34.213Z"
   },
   {
    "duration": 4,
    "start_time": "2023-04-17T01:28:34.223Z"
   },
   {
    "duration": 28,
    "start_time": "2023-04-17T01:28:34.229Z"
   },
   {
    "duration": 102,
    "start_time": "2023-04-17T01:30:52.689Z"
   },
   {
    "duration": 11,
    "start_time": "2023-04-17T01:31:11.681Z"
   },
   {
    "duration": 8,
    "start_time": "2023-04-17T01:31:27.856Z"
   },
   {
    "duration": 9173,
    "start_time": "2023-04-17T01:31:41.944Z"
   },
   {
    "duration": 17,
    "start_time": "2023-04-17T01:31:58.088Z"
   },
   {
    "duration": 7,
    "start_time": "2023-04-17T01:32:12.708Z"
   },
   {
    "duration": 6,
    "start_time": "2023-04-17T01:32:20.272Z"
   },
   {
    "duration": 6,
    "start_time": "2023-04-17T01:32:21.767Z"
   },
   {
    "duration": 1278,
    "start_time": "2023-04-17T01:37:46.242Z"
   },
   {
    "duration": 700,
    "start_time": "2023-04-17T01:37:47.522Z"
   },
   {
    "duration": 14,
    "start_time": "2023-04-17T01:37:48.224Z"
   },
   {
    "duration": 9,
    "start_time": "2023-04-17T01:37:48.240Z"
   },
   {
    "duration": 14,
    "start_time": "2023-04-17T01:37:48.251Z"
   },
   {
    "duration": 242,
    "start_time": "2023-04-17T01:37:48.266Z"
   },
   {
    "duration": 8,
    "start_time": "2023-04-17T01:37:48.510Z"
   },
   {
    "duration": 5,
    "start_time": "2023-04-17T01:37:48.519Z"
   },
   {
    "duration": 5,
    "start_time": "2023-04-17T01:37:48.526Z"
   },
   {
    "duration": 8,
    "start_time": "2023-04-17T01:37:48.532Z"
   },
   {
    "duration": 11,
    "start_time": "2023-04-17T01:37:48.541Z"
   },
   {
    "duration": 12,
    "start_time": "2023-04-17T01:37:48.554Z"
   },
   {
    "duration": 3,
    "start_time": "2023-04-17T01:37:48.568Z"
   },
   {
    "duration": 3301,
    "start_time": "2023-04-17T01:37:48.573Z"
   },
   {
    "duration": 546,
    "start_time": "2023-04-17T01:37:51.876Z"
   },
   {
    "duration": 7,
    "start_time": "2023-04-17T01:37:52.424Z"
   },
   {
    "duration": 1201,
    "start_time": "2023-04-17T01:37:52.432Z"
   },
   {
    "duration": 18,
    "start_time": "2023-04-17T01:37:53.635Z"
   },
   {
    "duration": 20,
    "start_time": "2023-04-17T01:37:53.655Z"
   },
   {
    "duration": 3,
    "start_time": "2023-04-17T01:37:53.695Z"
   },
   {
    "duration": 10,
    "start_time": "2023-04-17T01:37:53.699Z"
   },
   {
    "duration": 131,
    "start_time": "2023-04-17T01:37:53.711Z"
   },
   {
    "duration": 0,
    "start_time": "2023-04-17T01:37:53.843Z"
   },
   {
    "duration": 0,
    "start_time": "2023-04-17T01:37:53.845Z"
   },
   {
    "duration": 0,
    "start_time": "2023-04-17T01:37:53.846Z"
   },
   {
    "duration": 0,
    "start_time": "2023-04-17T01:37:53.847Z"
   },
   {
    "duration": 9,
    "start_time": "2023-04-17T01:38:07.820Z"
   },
   {
    "duration": 5,
    "start_time": "2023-04-17T01:38:12.797Z"
   },
   {
    "duration": 11,
    "start_time": "2023-04-17T01:38:14.155Z"
   },
   {
    "duration": 3,
    "start_time": "2023-04-17T01:38:14.812Z"
   },
   {
    "duration": 18,
    "start_time": "2023-04-17T01:38:15.555Z"
   },
   {
    "duration": 1347,
    "start_time": "2023-04-17T01:39:05.436Z"
   },
   {
    "duration": 726,
    "start_time": "2023-04-17T01:39:06.785Z"
   },
   {
    "duration": 15,
    "start_time": "2023-04-17T01:39:07.512Z"
   },
   {
    "duration": 10,
    "start_time": "2023-04-17T01:39:07.529Z"
   },
   {
    "duration": 14,
    "start_time": "2023-04-17T01:39:07.541Z"
   },
   {
    "duration": 229,
    "start_time": "2023-04-17T01:39:07.557Z"
   },
   {
    "duration": 18,
    "start_time": "2023-04-17T01:39:07.788Z"
   },
   {
    "duration": 5,
    "start_time": "2023-04-17T01:39:07.808Z"
   },
   {
    "duration": 6,
    "start_time": "2023-04-17T01:39:07.814Z"
   },
   {
    "duration": 9,
    "start_time": "2023-04-17T01:39:07.822Z"
   },
   {
    "duration": 10,
    "start_time": "2023-04-17T01:39:07.833Z"
   },
   {
    "duration": 14,
    "start_time": "2023-04-17T01:39:07.845Z"
   },
   {
    "duration": 44,
    "start_time": "2023-04-17T01:39:07.861Z"
   },
   {
    "duration": 3512,
    "start_time": "2023-04-17T01:39:07.909Z"
   },
   {
    "duration": 625,
    "start_time": "2023-04-17T01:39:11.423Z"
   },
   {
    "duration": 10,
    "start_time": "2023-04-17T01:39:12.050Z"
   },
   {
    "duration": 1263,
    "start_time": "2023-04-17T01:39:12.061Z"
   },
   {
    "duration": 19,
    "start_time": "2023-04-17T01:39:13.326Z"
   },
   {
    "duration": 18,
    "start_time": "2023-04-17T01:39:13.346Z"
   },
   {
    "duration": 10,
    "start_time": "2023-04-17T01:39:13.366Z"
   },
   {
    "duration": 19,
    "start_time": "2023-04-17T01:39:13.377Z"
   },
   {
    "duration": 13,
    "start_time": "2023-04-17T01:39:13.397Z"
   },
   {
    "duration": 3,
    "start_time": "2023-04-17T01:39:13.412Z"
   },
   {
    "duration": 14,
    "start_time": "2023-04-17T01:39:13.417Z"
   },
   {
    "duration": 30,
    "start_time": "2023-04-17T01:39:13.433Z"
   },
   {
    "duration": 118,
    "start_time": "2023-04-17T01:39:13.464Z"
   },
   {
    "duration": 0,
    "start_time": "2023-04-17T01:39:13.583Z"
   },
   {
    "duration": 0,
    "start_time": "2023-04-17T01:39:13.584Z"
   },
   {
    "duration": 0,
    "start_time": "2023-04-17T01:39:13.585Z"
   },
   {
    "duration": 0,
    "start_time": "2023-04-17T01:39:13.586Z"
   },
   {
    "duration": 0,
    "start_time": "2023-04-17T01:39:13.594Z"
   },
   {
    "duration": 0,
    "start_time": "2023-04-17T01:39:13.595Z"
   },
   {
    "duration": 0,
    "start_time": "2023-04-17T01:39:13.596Z"
   },
   {
    "duration": 0,
    "start_time": "2023-04-17T01:39:13.597Z"
   },
   {
    "duration": 10047,
    "start_time": "2023-04-17T01:39:27.969Z"
   },
   {
    "duration": 8,
    "start_time": "2023-04-17T01:39:44.921Z"
   },
   {
    "duration": 6,
    "start_time": "2023-04-17T01:39:45.657Z"
   },
   {
    "duration": 6,
    "start_time": "2023-04-17T01:39:46.385Z"
   },
   {
    "duration": 4,
    "start_time": "2023-04-17T01:40:38.647Z"
   },
   {
    "duration": 2,
    "start_time": "2023-04-17T01:40:40.144Z"
   },
   {
    "duration": 10523,
    "start_time": "2023-04-17T01:40:52.072Z"
   },
   {
    "duration": 7,
    "start_time": "2023-04-17T01:41:07.508Z"
   },
   {
    "duration": 7,
    "start_time": "2023-04-17T01:41:07.808Z"
   },
   {
    "duration": 7,
    "start_time": "2023-04-17T01:41:08.047Z"
   },
   {
    "duration": 3,
    "start_time": "2023-04-17T01:41:18.183Z"
   },
   {
    "duration": 15,
    "start_time": "2023-04-17T01:42:25.438Z"
   },
   {
    "duration": 1271,
    "start_time": "2023-04-17T01:42:44.758Z"
   },
   {
    "duration": 708,
    "start_time": "2023-04-17T01:42:46.033Z"
   },
   {
    "duration": 15,
    "start_time": "2023-04-17T01:42:46.743Z"
   },
   {
    "duration": 9,
    "start_time": "2023-04-17T01:42:46.759Z"
   },
   {
    "duration": 38,
    "start_time": "2023-04-17T01:42:46.770Z"
   },
   {
    "duration": 208,
    "start_time": "2023-04-17T01:42:46.809Z"
   },
   {
    "duration": 7,
    "start_time": "2023-04-17T01:42:47.019Z"
   },
   {
    "duration": 3,
    "start_time": "2023-04-17T01:42:47.028Z"
   },
   {
    "duration": 4,
    "start_time": "2023-04-17T01:42:47.033Z"
   },
   {
    "duration": 7,
    "start_time": "2023-04-17T01:42:47.039Z"
   },
   {
    "duration": 10,
    "start_time": "2023-04-17T01:42:47.047Z"
   },
   {
    "duration": 52,
    "start_time": "2023-04-17T01:42:47.058Z"
   },
   {
    "duration": 3,
    "start_time": "2023-04-17T01:42:47.111Z"
   },
   {
    "duration": 3292,
    "start_time": "2023-04-17T01:42:47.116Z"
   },
   {
    "duration": 565,
    "start_time": "2023-04-17T01:42:50.410Z"
   },
   {
    "duration": 8,
    "start_time": "2023-04-17T01:42:50.976Z"
   },
   {
    "duration": 1151,
    "start_time": "2023-04-17T01:42:50.985Z"
   },
   {
    "duration": 18,
    "start_time": "2023-04-17T01:42:52.138Z"
   },
   {
    "duration": 28,
    "start_time": "2023-04-17T01:42:52.157Z"
   },
   {
    "duration": 11,
    "start_time": "2023-04-17T01:42:52.187Z"
   },
   {
    "duration": 8,
    "start_time": "2023-04-17T01:42:52.200Z"
   },
   {
    "duration": 22,
    "start_time": "2023-04-17T01:42:52.209Z"
   },
   {
    "duration": 4,
    "start_time": "2023-04-17T01:42:52.232Z"
   },
   {
    "duration": 19,
    "start_time": "2023-04-17T01:42:52.237Z"
   },
   {
    "duration": 121,
    "start_time": "2023-04-17T01:42:57.049Z"
   },
   {
    "duration": 1303,
    "start_time": "2023-04-17T01:43:22.215Z"
   },
   {
    "duration": 728,
    "start_time": "2023-04-17T01:43:23.520Z"
   },
   {
    "duration": 15,
    "start_time": "2023-04-17T01:43:24.250Z"
   },
   {
    "duration": 42,
    "start_time": "2023-04-17T01:43:24.266Z"
   },
   {
    "duration": 14,
    "start_time": "2023-04-17T01:43:24.310Z"
   },
   {
    "duration": 218,
    "start_time": "2023-04-17T01:43:24.325Z"
   },
   {
    "duration": 9,
    "start_time": "2023-04-17T01:43:24.545Z"
   },
   {
    "duration": 4,
    "start_time": "2023-04-17T01:43:24.555Z"
   },
   {
    "duration": 9,
    "start_time": "2023-04-17T01:43:24.561Z"
   },
   {
    "duration": 36,
    "start_time": "2023-04-17T01:43:24.571Z"
   },
   {
    "duration": 12,
    "start_time": "2023-04-17T01:43:24.609Z"
   },
   {
    "duration": 19,
    "start_time": "2023-04-17T01:43:24.623Z"
   },
   {
    "duration": 3,
    "start_time": "2023-04-17T01:43:24.644Z"
   },
   {
    "duration": 3285,
    "start_time": "2023-04-17T01:43:24.649Z"
   },
   {
    "duration": 583,
    "start_time": "2023-04-17T01:43:27.935Z"
   },
   {
    "duration": 8,
    "start_time": "2023-04-17T01:43:28.520Z"
   },
   {
    "duration": 1217,
    "start_time": "2023-04-17T01:43:28.529Z"
   },
   {
    "duration": 18,
    "start_time": "2023-04-17T01:43:29.748Z"
   },
   {
    "duration": 32,
    "start_time": "2023-04-17T01:43:29.767Z"
   },
   {
    "duration": 3,
    "start_time": "2023-04-17T01:43:29.811Z"
   },
   {
    "duration": 8,
    "start_time": "2023-04-17T01:43:29.815Z"
   },
   {
    "duration": 10,
    "start_time": "2023-04-17T01:43:29.825Z"
   },
   {
    "duration": 9,
    "start_time": "2023-04-17T01:43:29.836Z"
   },
   {
    "duration": 20,
    "start_time": "2023-04-17T01:43:29.846Z"
   },
   {
    "duration": 10231,
    "start_time": "2023-04-17T01:43:32.366Z"
   },
   {
    "duration": 10,
    "start_time": "2023-04-17T01:43:48.404Z"
   },
   {
    "duration": 7,
    "start_time": "2023-04-17T01:43:48.880Z"
   },
   {
    "duration": 7,
    "start_time": "2023-04-17T01:43:49.366Z"
   },
   {
    "duration": 7,
    "start_time": "2023-04-17T01:44:45.845Z"
   },
   {
    "duration": 7,
    "start_time": "2023-04-17T01:44:46.741Z"
   },
   {
    "duration": 6,
    "start_time": "2023-04-17T01:44:47.069Z"
   },
   {
    "duration": 76,
    "start_time": "2023-04-17T01:45:01.431Z"
   },
   {
    "duration": 85,
    "start_time": "2023-04-17T01:45:04.132Z"
   },
   {
    "duration": 6,
    "start_time": "2023-04-17T01:45:17.044Z"
   },
   {
    "duration": 8803,
    "start_time": "2023-04-17T01:47:45.807Z"
   },
   {
    "duration": 7,
    "start_time": "2023-04-17T01:47:57.883Z"
   },
   {
    "duration": 6,
    "start_time": "2023-04-17T01:47:58.130Z"
   },
   {
    "duration": 6,
    "start_time": "2023-04-17T01:47:58.643Z"
   },
   {
    "duration": 2,
    "start_time": "2023-04-17T01:48:21.938Z"
   },
   {
    "duration": 6,
    "start_time": "2023-04-17T01:48:29.308Z"
   },
   {
    "duration": 15,
    "start_time": "2023-04-17T01:48:29.594Z"
   },
   {
    "duration": 1331,
    "start_time": "2023-04-17T01:48:40.734Z"
   },
   {
    "duration": 721,
    "start_time": "2023-04-17T01:48:42.067Z"
   },
   {
    "duration": 22,
    "start_time": "2023-04-17T01:48:42.789Z"
   },
   {
    "duration": 9,
    "start_time": "2023-04-17T01:48:42.813Z"
   },
   {
    "duration": 14,
    "start_time": "2023-04-17T01:48:42.824Z"
   },
   {
    "duration": 228,
    "start_time": "2023-04-17T01:48:42.839Z"
   },
   {
    "duration": 9,
    "start_time": "2023-04-17T01:48:43.069Z"
   },
   {
    "duration": 17,
    "start_time": "2023-04-17T01:48:43.079Z"
   },
   {
    "duration": 7,
    "start_time": "2023-04-17T01:48:43.097Z"
   },
   {
    "duration": 14,
    "start_time": "2023-04-17T01:48:43.106Z"
   },
   {
    "duration": 16,
    "start_time": "2023-04-17T01:48:43.121Z"
   },
   {
    "duration": 17,
    "start_time": "2023-04-17T01:48:43.138Z"
   },
   {
    "duration": 3,
    "start_time": "2023-04-17T01:48:43.156Z"
   },
   {
    "duration": 3216,
    "start_time": "2023-04-17T01:48:43.161Z"
   },
   {
    "duration": 549,
    "start_time": "2023-04-17T01:48:46.379Z"
   },
   {
    "duration": 7,
    "start_time": "2023-04-17T01:48:46.930Z"
   },
   {
    "duration": 1100,
    "start_time": "2023-04-17T01:48:46.938Z"
   },
   {
    "duration": 19,
    "start_time": "2023-04-17T01:48:48.040Z"
   },
   {
    "duration": 47,
    "start_time": "2023-04-17T01:48:48.060Z"
   },
   {
    "duration": 3,
    "start_time": "2023-04-17T01:48:48.108Z"
   },
   {
    "duration": 17,
    "start_time": "2023-04-17T01:48:48.113Z"
   },
   {
    "duration": 14,
    "start_time": "2023-04-17T01:48:48.131Z"
   },
   {
    "duration": 17,
    "start_time": "2023-04-17T01:48:48.146Z"
   },
   {
    "duration": 26,
    "start_time": "2023-04-17T01:48:48.164Z"
   },
   {
    "duration": 13551,
    "start_time": "2023-04-17T01:48:52.952Z"
   },
   {
    "duration": 10,
    "start_time": "2023-04-17T01:49:06.505Z"
   },
   {
    "duration": 189,
    "start_time": "2023-04-17T01:49:06.600Z"
   },
   {
    "duration": 0,
    "start_time": "2023-04-17T01:49:06.798Z"
   },
   {
    "duration": 7,
    "start_time": "2023-04-17T01:49:20.648Z"
   },
   {
    "duration": 10,
    "start_time": "2023-04-17T01:49:21.385Z"
   },
   {
    "duration": 6,
    "start_time": "2023-04-17T01:49:27.920Z"
   },
   {
    "duration": 6243,
    "start_time": "2023-04-17T01:49:33.872Z"
   },
   {
    "duration": 18,
    "start_time": "2023-04-17T01:50:03.287Z"
   },
   {
    "duration": 70,
    "start_time": "2023-04-17T01:50:45.832Z"
   },
   {
    "duration": 6376,
    "start_time": "2023-04-17T01:57:47.641Z"
   },
   {
    "duration": 12,
    "start_time": "2023-04-17T01:57:54.833Z"
   },
   {
    "duration": 9490,
    "start_time": "2023-04-17T01:57:56.708Z"
   },
   {
    "duration": 13,
    "start_time": "2023-04-17T01:58:07.560Z"
   },
   {
    "duration": 5673,
    "start_time": "2023-04-17T02:01:33.230Z"
   },
   {
    "duration": 6832,
    "start_time": "2023-04-17T02:01:55.070Z"
   },
   {
    "duration": 6504,
    "start_time": "2023-04-17T02:04:52.511Z"
   },
   {
    "duration": 3,
    "start_time": "2023-04-17T02:07:36.249Z"
   },
   {
    "duration": 4,
    "start_time": "2023-04-17T02:07:48.938Z"
   },
   {
    "duration": 6380,
    "start_time": "2023-04-17T02:08:13.520Z"
   },
   {
    "duration": 102,
    "start_time": "2023-04-17T02:08:27.297Z"
   },
   {
    "duration": 6,
    "start_time": "2023-04-17T02:09:13.870Z"
   },
   {
    "duration": 67,
    "start_time": "2023-04-17T02:09:35.838Z"
   },
   {
    "duration": 98,
    "start_time": "2023-04-17T02:09:39.710Z"
   },
   {
    "duration": 18,
    "start_time": "2023-04-17T02:09:48.511Z"
   },
   {
    "duration": 1319,
    "start_time": "2023-04-17T02:10:36.316Z"
   },
   {
    "duration": 695,
    "start_time": "2023-04-17T02:10:37.637Z"
   },
   {
    "duration": 17,
    "start_time": "2023-04-17T02:10:38.333Z"
   },
   {
    "duration": 11,
    "start_time": "2023-04-17T02:10:38.351Z"
   },
   {
    "duration": 46,
    "start_time": "2023-04-17T02:10:38.364Z"
   },
   {
    "duration": 233,
    "start_time": "2023-04-17T02:10:38.411Z"
   },
   {
    "duration": 8,
    "start_time": "2023-04-17T02:10:38.646Z"
   },
   {
    "duration": 4,
    "start_time": "2023-04-17T02:10:38.656Z"
   },
   {
    "duration": 5,
    "start_time": "2023-04-17T02:10:38.661Z"
   },
   {
    "duration": 38,
    "start_time": "2023-04-17T02:10:38.667Z"
   },
   {
    "duration": 9,
    "start_time": "2023-04-17T02:10:38.707Z"
   },
   {
    "duration": 15,
    "start_time": "2023-04-17T02:10:38.717Z"
   },
   {
    "duration": 3,
    "start_time": "2023-04-17T02:10:38.733Z"
   },
   {
    "duration": 3411,
    "start_time": "2023-04-17T02:10:38.739Z"
   },
   {
    "duration": 588,
    "start_time": "2023-04-17T02:10:42.151Z"
   },
   {
    "duration": 7,
    "start_time": "2023-04-17T02:10:42.740Z"
   },
   {
    "duration": 1187,
    "start_time": "2023-04-17T02:10:42.748Z"
   },
   {
    "duration": 19,
    "start_time": "2023-04-17T02:10:43.936Z"
   },
   {
    "duration": 25,
    "start_time": "2023-04-17T02:10:43.956Z"
   },
   {
    "duration": 14,
    "start_time": "2023-04-17T02:10:43.983Z"
   },
   {
    "duration": 27,
    "start_time": "2023-04-17T02:10:43.999Z"
   },
   {
    "duration": 27,
    "start_time": "2023-04-17T02:10:44.028Z"
   },
   {
    "duration": 35,
    "start_time": "2023-04-17T02:10:44.057Z"
   },
   {
    "duration": 106,
    "start_time": "2023-04-17T02:11:01.525Z"
   },
   {
    "duration": 6684,
    "start_time": "2023-04-17T02:11:28.913Z"
   },
   {
    "duration": 13,
    "start_time": "2023-04-17T02:11:37.044Z"
   },
   {
    "duration": 15,
    "start_time": "2023-04-17T02:11:49.113Z"
   },
   {
    "duration": 6134,
    "start_time": "2023-04-17T02:12:03.869Z"
   },
   {
    "duration": 6035,
    "start_time": "2023-04-17T02:12:28.381Z"
   },
   {
    "duration": 10,
    "start_time": "2023-04-17T02:12:35.313Z"
   },
   {
    "duration": 9803,
    "start_time": "2023-04-17T02:12:37.009Z"
   },
   {
    "duration": 192,
    "start_time": "2023-04-17T02:12:46.814Z"
   },
   {
    "duration": 1113075,
    "start_time": "2023-04-17T02:12:57.164Z"
   },
   {
    "duration": 35,
    "start_time": "2023-04-17T02:31:30.241Z"
   },
   {
    "duration": 11,
    "start_time": "2023-04-17T02:50:38.587Z"
   },
   {
    "duration": 4,
    "start_time": "2023-04-17T02:50:59.417Z"
   },
   {
    "duration": 10,
    "start_time": "2023-04-17T02:51:20.209Z"
   },
   {
    "duration": 4,
    "start_time": "2023-04-17T02:51:46.786Z"
   },
   {
    "duration": 10,
    "start_time": "2023-04-17T02:51:58.129Z"
   },
   {
    "duration": 11,
    "start_time": "2023-04-17T02:52:15.520Z"
   },
   {
    "duration": 12,
    "start_time": "2023-04-17T02:52:18.822Z"
   },
   {
    "duration": 14,
    "start_time": "2023-04-17T02:52:32.904Z"
   },
   {
    "duration": 15,
    "start_time": "2023-04-17T02:53:38.871Z"
   },
   {
    "duration": 7,
    "start_time": "2023-04-17T02:55:10.326Z"
   },
   {
    "duration": 7,
    "start_time": "2023-04-17T02:55:12.422Z"
   },
   {
    "duration": 9,
    "start_time": "2023-04-17T02:56:05.037Z"
   },
   {
    "duration": 9077,
    "start_time": "2023-04-17T02:59:19.530Z"
   },
   {
    "duration": 69,
    "start_time": "2023-04-17T02:59:31.786Z"
   },
   {
    "duration": 1330,
    "start_time": "2023-04-17T02:59:48.508Z"
   },
   {
    "duration": 707,
    "start_time": "2023-04-17T02:59:49.840Z"
   },
   {
    "duration": 14,
    "start_time": "2023-04-17T02:59:50.549Z"
   },
   {
    "duration": 12,
    "start_time": "2023-04-17T02:59:50.565Z"
   },
   {
    "duration": 16,
    "start_time": "2023-04-17T02:59:50.595Z"
   },
   {
    "duration": 219,
    "start_time": "2023-04-17T02:59:50.612Z"
   },
   {
    "duration": 8,
    "start_time": "2023-04-17T02:59:50.832Z"
   },
   {
    "duration": 6,
    "start_time": "2023-04-17T02:59:50.842Z"
   },
   {
    "duration": 16,
    "start_time": "2023-04-17T02:59:50.849Z"
   },
   {
    "duration": 15,
    "start_time": "2023-04-17T02:59:50.866Z"
   },
   {
    "duration": 31,
    "start_time": "2023-04-17T02:59:50.883Z"
   },
   {
    "duration": 17,
    "start_time": "2023-04-17T02:59:50.916Z"
   },
   {
    "duration": 3,
    "start_time": "2023-04-17T02:59:50.934Z"
   },
   {
    "duration": 3447,
    "start_time": "2023-04-17T02:59:50.940Z"
   },
   {
    "duration": 580,
    "start_time": "2023-04-17T02:59:54.389Z"
   },
   {
    "duration": 7,
    "start_time": "2023-04-17T02:59:54.970Z"
   },
   {
    "duration": 1170,
    "start_time": "2023-04-17T02:59:54.978Z"
   },
   {
    "duration": 18,
    "start_time": "2023-04-17T02:59:56.149Z"
   },
   {
    "duration": 32,
    "start_time": "2023-04-17T02:59:56.169Z"
   },
   {
    "duration": 3,
    "start_time": "2023-04-17T02:59:56.203Z"
   },
   {
    "duration": 8,
    "start_time": "2023-04-17T02:59:56.208Z"
   },
   {
    "duration": 10,
    "start_time": "2023-04-17T02:59:56.217Z"
   },
   {
    "duration": 4,
    "start_time": "2023-04-17T02:59:56.229Z"
   },
   {
    "duration": 21,
    "start_time": "2023-04-17T02:59:56.234Z"
   },
   {
    "duration": 5830,
    "start_time": "2023-04-17T03:00:05.265Z"
   },
   {
    "duration": 3,
    "start_time": "2023-04-17T03:09:21.905Z"
   },
   {
    "duration": 3193,
    "start_time": "2023-04-17T03:09:22.840Z"
   },
   {
    "duration": 612,
    "start_time": "2023-04-17T03:09:52.593Z"
   },
   {
    "duration": 4362,
    "start_time": "2023-04-17T03:13:52.141Z"
   },
   {
    "duration": 74,
    "start_time": "2023-04-17T03:14:11.228Z"
   },
   {
    "duration": 79,
    "start_time": "2023-04-17T03:14:27.107Z"
   },
   {
    "duration": 98,
    "start_time": "2023-04-17T03:14:55.500Z"
   },
   {
    "duration": 92,
    "start_time": "2023-04-17T03:15:01.996Z"
   },
   {
    "duration": 4537,
    "start_time": "2023-04-17T03:15:42.267Z"
   },
   {
    "duration": 83,
    "start_time": "2023-04-17T03:15:48.051Z"
   },
   {
    "duration": 92,
    "start_time": "2023-04-17T03:15:51.755Z"
   },
   {
    "duration": 7907,
    "start_time": "2023-04-17T03:16:23.794Z"
   },
   {
    "duration": 94,
    "start_time": "2023-04-17T03:16:49.954Z"
   },
   {
    "duration": 75,
    "start_time": "2023-04-17T03:16:59.552Z"
   },
   {
    "duration": 92,
    "start_time": "2023-04-17T03:17:03.402Z"
   },
   {
    "duration": 76,
    "start_time": "2023-04-17T03:17:10.393Z"
   },
   {
    "duration": 112,
    "start_time": "2023-04-17T03:17:47.649Z"
   },
   {
    "duration": 8,
    "start_time": "2023-04-17T03:18:47.497Z"
   },
   {
    "duration": 84,
    "start_time": "2023-04-17T03:19:30.312Z"
   },
   {
    "duration": 4441,
    "start_time": "2023-04-17T03:20:21.463Z"
   },
   {
    "duration": 10,
    "start_time": "2023-04-17T03:21:06.518Z"
   },
   {
    "duration": 8,
    "start_time": "2023-04-17T03:21:19.686Z"
   },
   {
    "duration": 9121,
    "start_time": "2023-04-17T03:21:48.878Z"
   },
   {
    "duration": 9,
    "start_time": "2023-04-17T03:21:59.590Z"
   },
   {
    "duration": 4009,
    "start_time": "2023-04-17T03:22:19.989Z"
   },
   {
    "duration": 7,
    "start_time": "2023-04-17T03:24:58.291Z"
   },
   {
    "duration": 7,
    "start_time": "2023-04-17T03:25:12.659Z"
   },
   {
    "duration": 1320,
    "start_time": "2023-04-17T03:26:22.180Z"
   },
   {
    "duration": 683,
    "start_time": "2023-04-17T03:26:23.502Z"
   },
   {
    "duration": 15,
    "start_time": "2023-04-17T03:26:24.193Z"
   },
   {
    "duration": 10,
    "start_time": "2023-04-17T03:26:24.210Z"
   },
   {
    "duration": 14,
    "start_time": "2023-04-17T03:26:24.223Z"
   },
   {
    "duration": 222,
    "start_time": "2023-04-17T03:26:24.238Z"
   },
   {
    "duration": 25,
    "start_time": "2023-04-17T03:26:24.462Z"
   },
   {
    "duration": 4,
    "start_time": "2023-04-17T03:26:24.488Z"
   },
   {
    "duration": 4,
    "start_time": "2023-04-17T03:26:24.494Z"
   },
   {
    "duration": 9,
    "start_time": "2023-04-17T03:26:24.499Z"
   },
   {
    "duration": 9,
    "start_time": "2023-04-17T03:26:24.509Z"
   },
   {
    "duration": 12,
    "start_time": "2023-04-17T03:26:24.519Z"
   },
   {
    "duration": 3,
    "start_time": "2023-04-17T03:26:24.533Z"
   },
   {
    "duration": 3106,
    "start_time": "2023-04-17T03:26:24.538Z"
   },
   {
    "duration": 559,
    "start_time": "2023-04-17T03:26:27.645Z"
   },
   {
    "duration": 6,
    "start_time": "2023-04-17T03:26:28.206Z"
   },
   {
    "duration": 1109,
    "start_time": "2023-04-17T03:26:28.213Z"
   },
   {
    "duration": 19,
    "start_time": "2023-04-17T03:26:29.323Z"
   },
   {
    "duration": 17,
    "start_time": "2023-04-17T03:26:29.344Z"
   },
   {
    "duration": 3,
    "start_time": "2023-04-17T03:26:29.363Z"
   },
   {
    "duration": 5,
    "start_time": "2023-04-17T03:26:29.367Z"
   },
   {
    "duration": 10,
    "start_time": "2023-04-17T03:26:29.394Z"
   },
   {
    "duration": 4,
    "start_time": "2023-04-17T03:26:29.405Z"
   },
   {
    "duration": 19,
    "start_time": "2023-04-17T03:26:29.410Z"
   },
   {
    "duration": 1075745,
    "start_time": "2023-04-17T03:26:29.431Z"
   },
   {
    "duration": 114,
    "start_time": "2023-04-17T03:44:25.178Z"
   },
   {
    "duration": 0,
    "start_time": "2023-04-17T03:44:25.293Z"
   },
   {
    "duration": 0,
    "start_time": "2023-04-17T03:44:25.294Z"
   },
   {
    "duration": 0,
    "start_time": "2023-04-17T03:44:25.296Z"
   },
   {
    "duration": 0,
    "start_time": "2023-04-17T03:44:25.296Z"
   },
   {
    "duration": 0,
    "start_time": "2023-04-17T03:44:25.297Z"
   },
   {
    "duration": 43,
    "start_time": "2023-04-17T03:48:06.462Z"
   },
   {
    "duration": 4766,
    "start_time": "2023-04-17T03:48:11.534Z"
   },
   {
    "duration": 16,
    "start_time": "2023-04-17T03:48:17.165Z"
   },
   {
    "duration": 7148,
    "start_time": "2023-04-17T03:48:18.653Z"
   },
   {
    "duration": 199,
    "start_time": "2023-04-17T03:48:25.802Z"
   },
   {
    "duration": 97,
    "start_time": "2023-04-17T03:48:26.004Z"
   },
   {
    "duration": 81,
    "start_time": "2023-04-17T03:52:24.913Z"
   },
   {
    "duration": 8,
    "start_time": "2023-04-17T03:52:29.626Z"
   },
   {
    "duration": 10,
    "start_time": "2023-04-17T03:52:34.049Z"
   },
   {
    "duration": 8,
    "start_time": "2023-04-17T03:52:39.753Z"
   },
   {
    "duration": 81,
    "start_time": "2023-04-17T04:04:49.418Z"
   },
   {
    "duration": 4,
    "start_time": "2023-04-17T04:06:31.485Z"
   },
   {
    "duration": 1,
    "start_time": "2023-04-17T10:30:37.065Z"
   },
   {
    "duration": 1923,
    "start_time": "2023-04-17T15:53:52.499Z"
   },
   {
    "duration": 2424,
    "start_time": "2023-04-17T15:53:54.426Z"
   },
   {
    "duration": 17,
    "start_time": "2023-04-17T15:53:56.852Z"
   },
   {
    "duration": 11,
    "start_time": "2023-04-17T15:53:56.871Z"
   },
   {
    "duration": 47,
    "start_time": "2023-04-17T15:53:56.884Z"
   },
   {
    "duration": 281,
    "start_time": "2023-04-17T15:53:56.933Z"
   },
   {
    "duration": 17,
    "start_time": "2023-04-17T15:53:57.225Z"
   },
   {
    "duration": 5,
    "start_time": "2023-04-17T15:53:57.244Z"
   },
   {
    "duration": 8,
    "start_time": "2023-04-17T15:53:57.251Z"
   },
   {
    "duration": 11,
    "start_time": "2023-04-17T15:53:57.262Z"
   },
   {
    "duration": 48,
    "start_time": "2023-04-17T15:53:57.275Z"
   },
   {
    "duration": 128,
    "start_time": "2023-04-17T15:53:58.973Z"
   },
   {
    "duration": 13,
    "start_time": "2023-04-17T15:54:03.783Z"
   },
   {
    "duration": 8,
    "start_time": "2023-04-17T15:54:09.587Z"
   },
   {
    "duration": 15,
    "start_time": "2023-04-17T15:54:31.742Z"
   },
   {
    "duration": 7,
    "start_time": "2023-04-17T15:54:38.889Z"
   },
   {
    "duration": 4,
    "start_time": "2023-04-17T15:54:47.738Z"
   },
   {
    "duration": 4287,
    "start_time": "2023-04-17T15:54:48.388Z"
   },
   {
    "duration": 702,
    "start_time": "2023-04-17T15:54:52.677Z"
   },
   {
    "duration": 10,
    "start_time": "2023-04-17T15:54:58.030Z"
   },
   {
    "duration": 1439,
    "start_time": "2023-04-17T15:54:59.590Z"
   },
   {
    "duration": 20,
    "start_time": "2023-04-17T15:55:05.592Z"
   },
   {
    "duration": 32,
    "start_time": "2023-04-17T15:55:07.184Z"
   },
   {
    "duration": 3,
    "start_time": "2023-04-17T15:55:10.789Z"
   },
   {
    "duration": 4,
    "start_time": "2023-04-17T15:55:11.156Z"
   },
   {
    "duration": 11,
    "start_time": "2023-04-17T15:55:16.756Z"
   },
   {
    "duration": 3,
    "start_time": "2023-04-17T15:55:20.601Z"
   },
   {
    "duration": 22,
    "start_time": "2023-04-17T15:55:23.036Z"
   },
   {
    "duration": 12677,
    "start_time": "2023-04-17T15:55:28.636Z"
   },
   {
    "duration": 63695,
    "start_time": "2023-04-17T15:55:41.317Z"
   },
   {
    "duration": 1545018,
    "start_time": "2023-04-17T15:56:59.420Z"
   },
   {
    "duration": 27,
    "start_time": "2023-04-17T16:22:55.540Z"
   },
   {
    "duration": 10,
    "start_time": "2023-04-17T16:23:01.303Z"
   },
   {
    "duration": 63,
    "start_time": "2023-04-17T16:23:10.255Z"
   },
   {
    "duration": 27,
    "start_time": "2023-04-17T16:32:35.441Z"
   },
   {
    "duration": 8,
    "start_time": "2023-04-17T16:32:35.914Z"
   },
   {
    "duration": 118,
    "start_time": "2023-04-17T16:35:18.276Z"
   }
  ],
  "kernelspec": {
   "display_name": "Python 3 (ipykernel)",
   "language": "python",
   "name": "python3"
  },
  "language_info": {
   "codemirror_mode": {
    "name": "ipython",
    "version": 3
   },
   "file_extension": ".py",
   "mimetype": "text/x-python",
   "name": "python",
   "nbconvert_exporter": "python",
   "pygments_lexer": "ipython3",
   "version": "3.9.5"
  },
  "toc": {
   "base_numbering": 1,
   "nav_menu": {},
   "number_sections": true,
   "sideBar": true,
   "skip_h1_title": true,
   "title_cell": "Содержание",
   "title_sidebar": "Contents",
   "toc_cell": true,
   "toc_position": {
    "height": "calc(100% - 180px)",
    "left": "10px",
    "top": "150px",
    "width": "316px"
   },
   "toc_section_display": true,
   "toc_window_display": true
  }
 },
 "nbformat": 4,
 "nbformat_minor": 2
}
