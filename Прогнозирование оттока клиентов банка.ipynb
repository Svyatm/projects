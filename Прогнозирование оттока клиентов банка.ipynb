{
 "cells": [
  {
   "cell_type": "markdown",
   "metadata": {},
   "source": [
    "# Отток клиентов"
   ]
  },
  {
   "cell_type": "markdown",
   "metadata": {},
   "source": [
    "Из «Бета-Банка» стали уходить клиенты. Каждый месяц. Немного, но заметно. Банковские маркетологи посчитали: сохранять текущих клиентов дешевле, чем привлекать новых.\n",
    "\n",
    "Нужно спрогнозировать, уйдёт клиент из банка в ближайшее время или нет. Вам предоставлены исторические данные о поведении клиентов и расторжении договоров с банком. \n",
    "\n",
    "Постройте модель с предельно большим значением *F1*-меры. Чтобы сдать проект успешно, нужно довести метрику до 0.59. Проверьте *F1*-меру на тестовой выборке самостоятельно.\n",
    "\n",
    "Дополнительно измеряйте *AUC-ROC*, сравнивайте её значение с *F1*-мерой.\n",
    "\n",
    "Источник данных: [https://www.kaggle.com/barelydedicated/bank-customer-churn-modeling](https://www.kaggle.com/barelydedicated/bank-customer-churn-modeling)"
   ]
  },
  {
   "cell_type": "markdown",
   "metadata": {},
   "source": [
    "**Фронт работы:**\n",
    "1. Подготовить данные для обучения моделей\n",
    "2. Изучить дисбаланс классов и обучить модели без учета дисбаланса\n",
    "3. Сбалансировать дисбаланс классов тремя способами, обучить модели для каждого способа и выявить лучшие\n",
    "4. Провести тестирование лучших моделей и выбрать те, что проходят по условию F1-меры >= 0.59\n",
    "5. Сделать вывод о проделанной работе и полученных результатах."
   ]
  },
  {
   "cell_type": "markdown",
   "metadata": {},
   "source": [
    "## Подготовка данных"
   ]
  },
  {
   "cell_type": "code",
   "execution_count": 1,
   "metadata": {},
   "outputs": [
    {
     "name": "stdout",
     "output_type": "stream",
     "text": [
      "Requirement already satisfied: scikit-learn==1.1.3 in /opt/conda/lib/python3.9/site-packages (1.1.3)\n",
      "Requirement already satisfied: joblib>=1.0.0 in /opt/conda/lib/python3.9/site-packages (from scikit-learn==1.1.3) (1.1.0)\n",
      "Requirement already satisfied: threadpoolctl>=2.0.0 in /opt/conda/lib/python3.9/site-packages (from scikit-learn==1.1.3) (3.1.0)\n",
      "Requirement already satisfied: scipy>=1.3.2 in /opt/conda/lib/python3.9/site-packages (from scikit-learn==1.1.3) (1.9.1)\n",
      "Requirement already satisfied: numpy>=1.17.3 in /opt/conda/lib/python3.9/site-packages (from scikit-learn==1.1.3) (1.21.1)\n"
     ]
    }
   ],
   "source": [
    "#Устанавливаем библиотеки\n",
    "!pip install scikit-learn==1.1.3\n",
    "!pip install fast_ml --quiet"
   ]
  },
  {
   "cell_type": "code",
   "execution_count": 2,
   "metadata": {},
   "outputs": [],
   "source": [
    "#Импортируем библиотеки\n",
    "import pandas as pd\n",
    "import matplotlib.pyplot as plt\n",
    "from fast_ml.model_development import train_valid_test_split\n",
    "from sklearn.preprocessing import StandardScaler, OneHotEncoder\n",
    "from sklearn.tree import DecisionTreeClassifier\n",
    "from sklearn.ensemble import RandomForestClassifier\n",
    "from sklearn.linear_model import LogisticRegression\n",
    "from sklearn.utils import shuffle\n",
    "from sklearn.metrics import f1_score, roc_auc_score, recall_score\n",
    "from sklearn.dummy import DummyClassifier"
   ]
  },
  {
   "cell_type": "code",
   "execution_count": 3,
   "metadata": {},
   "outputs": [
    {
     "data": {
      "text/html": [
       "<div>\n",
       "<style scoped>\n",
       "    .dataframe tbody tr th:only-of-type {\n",
       "        vertical-align: middle;\n",
       "    }\n",
       "\n",
       "    .dataframe tbody tr th {\n",
       "        vertical-align: top;\n",
       "    }\n",
       "\n",
       "    .dataframe thead th {\n",
       "        text-align: right;\n",
       "    }\n",
       "</style>\n",
       "<table border=\"1\" class=\"dataframe\">\n",
       "  <thead>\n",
       "    <tr style=\"text-align: right;\">\n",
       "      <th></th>\n",
       "      <th>RowNumber</th>\n",
       "      <th>CustomerId</th>\n",
       "      <th>Surname</th>\n",
       "      <th>CreditScore</th>\n",
       "      <th>Geography</th>\n",
       "      <th>Gender</th>\n",
       "      <th>Age</th>\n",
       "      <th>Tenure</th>\n",
       "      <th>Balance</th>\n",
       "      <th>NumOfProducts</th>\n",
       "      <th>HasCrCard</th>\n",
       "      <th>IsActiveMember</th>\n",
       "      <th>EstimatedSalary</th>\n",
       "      <th>Exited</th>\n",
       "    </tr>\n",
       "  </thead>\n",
       "  <tbody>\n",
       "    <tr>\n",
       "      <th>0</th>\n",
       "      <td>1</td>\n",
       "      <td>15634602</td>\n",
       "      <td>Hargrave</td>\n",
       "      <td>619</td>\n",
       "      <td>France</td>\n",
       "      <td>Female</td>\n",
       "      <td>42</td>\n",
       "      <td>2.0</td>\n",
       "      <td>0.00</td>\n",
       "      <td>1</td>\n",
       "      <td>1</td>\n",
       "      <td>1</td>\n",
       "      <td>101348.88</td>\n",
       "      <td>1</td>\n",
       "    </tr>\n",
       "    <tr>\n",
       "      <th>1</th>\n",
       "      <td>2</td>\n",
       "      <td>15647311</td>\n",
       "      <td>Hill</td>\n",
       "      <td>608</td>\n",
       "      <td>Spain</td>\n",
       "      <td>Female</td>\n",
       "      <td>41</td>\n",
       "      <td>1.0</td>\n",
       "      <td>83807.86</td>\n",
       "      <td>1</td>\n",
       "      <td>0</td>\n",
       "      <td>1</td>\n",
       "      <td>112542.58</td>\n",
       "      <td>0</td>\n",
       "    </tr>\n",
       "    <tr>\n",
       "      <th>2</th>\n",
       "      <td>3</td>\n",
       "      <td>15619304</td>\n",
       "      <td>Onio</td>\n",
       "      <td>502</td>\n",
       "      <td>France</td>\n",
       "      <td>Female</td>\n",
       "      <td>42</td>\n",
       "      <td>8.0</td>\n",
       "      <td>159660.80</td>\n",
       "      <td>3</td>\n",
       "      <td>1</td>\n",
       "      <td>0</td>\n",
       "      <td>113931.57</td>\n",
       "      <td>1</td>\n",
       "    </tr>\n",
       "    <tr>\n",
       "      <th>3</th>\n",
       "      <td>4</td>\n",
       "      <td>15701354</td>\n",
       "      <td>Boni</td>\n",
       "      <td>699</td>\n",
       "      <td>France</td>\n",
       "      <td>Female</td>\n",
       "      <td>39</td>\n",
       "      <td>1.0</td>\n",
       "      <td>0.00</td>\n",
       "      <td>2</td>\n",
       "      <td>0</td>\n",
       "      <td>0</td>\n",
       "      <td>93826.63</td>\n",
       "      <td>0</td>\n",
       "    </tr>\n",
       "    <tr>\n",
       "      <th>4</th>\n",
       "      <td>5</td>\n",
       "      <td>15737888</td>\n",
       "      <td>Mitchell</td>\n",
       "      <td>850</td>\n",
       "      <td>Spain</td>\n",
       "      <td>Female</td>\n",
       "      <td>43</td>\n",
       "      <td>2.0</td>\n",
       "      <td>125510.82</td>\n",
       "      <td>1</td>\n",
       "      <td>1</td>\n",
       "      <td>1</td>\n",
       "      <td>79084.10</td>\n",
       "      <td>0</td>\n",
       "    </tr>\n",
       "    <tr>\n",
       "      <th>5</th>\n",
       "      <td>6</td>\n",
       "      <td>15574012</td>\n",
       "      <td>Chu</td>\n",
       "      <td>645</td>\n",
       "      <td>Spain</td>\n",
       "      <td>Male</td>\n",
       "      <td>44</td>\n",
       "      <td>8.0</td>\n",
       "      <td>113755.78</td>\n",
       "      <td>2</td>\n",
       "      <td>1</td>\n",
       "      <td>0</td>\n",
       "      <td>149756.71</td>\n",
       "      <td>1</td>\n",
       "    </tr>\n",
       "    <tr>\n",
       "      <th>6</th>\n",
       "      <td>7</td>\n",
       "      <td>15592531</td>\n",
       "      <td>Bartlett</td>\n",
       "      <td>822</td>\n",
       "      <td>France</td>\n",
       "      <td>Male</td>\n",
       "      <td>50</td>\n",
       "      <td>7.0</td>\n",
       "      <td>0.00</td>\n",
       "      <td>2</td>\n",
       "      <td>1</td>\n",
       "      <td>1</td>\n",
       "      <td>10062.80</td>\n",
       "      <td>0</td>\n",
       "    </tr>\n",
       "    <tr>\n",
       "      <th>7</th>\n",
       "      <td>8</td>\n",
       "      <td>15656148</td>\n",
       "      <td>Obinna</td>\n",
       "      <td>376</td>\n",
       "      <td>Germany</td>\n",
       "      <td>Female</td>\n",
       "      <td>29</td>\n",
       "      <td>4.0</td>\n",
       "      <td>115046.74</td>\n",
       "      <td>4</td>\n",
       "      <td>1</td>\n",
       "      <td>0</td>\n",
       "      <td>119346.88</td>\n",
       "      <td>1</td>\n",
       "    </tr>\n",
       "    <tr>\n",
       "      <th>8</th>\n",
       "      <td>9</td>\n",
       "      <td>15792365</td>\n",
       "      <td>He</td>\n",
       "      <td>501</td>\n",
       "      <td>France</td>\n",
       "      <td>Male</td>\n",
       "      <td>44</td>\n",
       "      <td>4.0</td>\n",
       "      <td>142051.07</td>\n",
       "      <td>2</td>\n",
       "      <td>0</td>\n",
       "      <td>1</td>\n",
       "      <td>74940.50</td>\n",
       "      <td>0</td>\n",
       "    </tr>\n",
       "    <tr>\n",
       "      <th>9</th>\n",
       "      <td>10</td>\n",
       "      <td>15592389</td>\n",
       "      <td>H?</td>\n",
       "      <td>684</td>\n",
       "      <td>France</td>\n",
       "      <td>Male</td>\n",
       "      <td>27</td>\n",
       "      <td>2.0</td>\n",
       "      <td>134603.88</td>\n",
       "      <td>1</td>\n",
       "      <td>1</td>\n",
       "      <td>1</td>\n",
       "      <td>71725.73</td>\n",
       "      <td>0</td>\n",
       "    </tr>\n",
       "    <tr>\n",
       "      <th>10</th>\n",
       "      <td>11</td>\n",
       "      <td>15767821</td>\n",
       "      <td>Bearce</td>\n",
       "      <td>528</td>\n",
       "      <td>France</td>\n",
       "      <td>Male</td>\n",
       "      <td>31</td>\n",
       "      <td>6.0</td>\n",
       "      <td>102016.72</td>\n",
       "      <td>2</td>\n",
       "      <td>0</td>\n",
       "      <td>0</td>\n",
       "      <td>80181.12</td>\n",
       "      <td>0</td>\n",
       "    </tr>\n",
       "    <tr>\n",
       "      <th>11</th>\n",
       "      <td>12</td>\n",
       "      <td>15737173</td>\n",
       "      <td>Andrews</td>\n",
       "      <td>497</td>\n",
       "      <td>Spain</td>\n",
       "      <td>Male</td>\n",
       "      <td>24</td>\n",
       "      <td>3.0</td>\n",
       "      <td>0.00</td>\n",
       "      <td>2</td>\n",
       "      <td>1</td>\n",
       "      <td>0</td>\n",
       "      <td>76390.01</td>\n",
       "      <td>0</td>\n",
       "    </tr>\n",
       "    <tr>\n",
       "      <th>12</th>\n",
       "      <td>13</td>\n",
       "      <td>15632264</td>\n",
       "      <td>Kay</td>\n",
       "      <td>476</td>\n",
       "      <td>France</td>\n",
       "      <td>Female</td>\n",
       "      <td>34</td>\n",
       "      <td>10.0</td>\n",
       "      <td>0.00</td>\n",
       "      <td>2</td>\n",
       "      <td>1</td>\n",
       "      <td>0</td>\n",
       "      <td>26260.98</td>\n",
       "      <td>0</td>\n",
       "    </tr>\n",
       "    <tr>\n",
       "      <th>13</th>\n",
       "      <td>14</td>\n",
       "      <td>15691483</td>\n",
       "      <td>Chin</td>\n",
       "      <td>549</td>\n",
       "      <td>France</td>\n",
       "      <td>Female</td>\n",
       "      <td>25</td>\n",
       "      <td>5.0</td>\n",
       "      <td>0.00</td>\n",
       "      <td>2</td>\n",
       "      <td>0</td>\n",
       "      <td>0</td>\n",
       "      <td>190857.79</td>\n",
       "      <td>0</td>\n",
       "    </tr>\n",
       "    <tr>\n",
       "      <th>14</th>\n",
       "      <td>15</td>\n",
       "      <td>15600882</td>\n",
       "      <td>Scott</td>\n",
       "      <td>635</td>\n",
       "      <td>Spain</td>\n",
       "      <td>Female</td>\n",
       "      <td>35</td>\n",
       "      <td>7.0</td>\n",
       "      <td>0.00</td>\n",
       "      <td>2</td>\n",
       "      <td>1</td>\n",
       "      <td>1</td>\n",
       "      <td>65951.65</td>\n",
       "      <td>0</td>\n",
       "    </tr>\n",
       "    <tr>\n",
       "      <th>15</th>\n",
       "      <td>16</td>\n",
       "      <td>15643966</td>\n",
       "      <td>Goforth</td>\n",
       "      <td>616</td>\n",
       "      <td>Germany</td>\n",
       "      <td>Male</td>\n",
       "      <td>45</td>\n",
       "      <td>3.0</td>\n",
       "      <td>143129.41</td>\n",
       "      <td>2</td>\n",
       "      <td>0</td>\n",
       "      <td>1</td>\n",
       "      <td>64327.26</td>\n",
       "      <td>0</td>\n",
       "    </tr>\n",
       "    <tr>\n",
       "      <th>16</th>\n",
       "      <td>17</td>\n",
       "      <td>15737452</td>\n",
       "      <td>Romeo</td>\n",
       "      <td>653</td>\n",
       "      <td>Germany</td>\n",
       "      <td>Male</td>\n",
       "      <td>58</td>\n",
       "      <td>1.0</td>\n",
       "      <td>132602.88</td>\n",
       "      <td>1</td>\n",
       "      <td>1</td>\n",
       "      <td>0</td>\n",
       "      <td>5097.67</td>\n",
       "      <td>1</td>\n",
       "    </tr>\n",
       "    <tr>\n",
       "      <th>17</th>\n",
       "      <td>18</td>\n",
       "      <td>15788218</td>\n",
       "      <td>Henderson</td>\n",
       "      <td>549</td>\n",
       "      <td>Spain</td>\n",
       "      <td>Female</td>\n",
       "      <td>24</td>\n",
       "      <td>9.0</td>\n",
       "      <td>0.00</td>\n",
       "      <td>2</td>\n",
       "      <td>1</td>\n",
       "      <td>1</td>\n",
       "      <td>14406.41</td>\n",
       "      <td>0</td>\n",
       "    </tr>\n",
       "    <tr>\n",
       "      <th>18</th>\n",
       "      <td>19</td>\n",
       "      <td>15661507</td>\n",
       "      <td>Muldrow</td>\n",
       "      <td>587</td>\n",
       "      <td>Spain</td>\n",
       "      <td>Male</td>\n",
       "      <td>45</td>\n",
       "      <td>6.0</td>\n",
       "      <td>0.00</td>\n",
       "      <td>1</td>\n",
       "      <td>0</td>\n",
       "      <td>0</td>\n",
       "      <td>158684.81</td>\n",
       "      <td>0</td>\n",
       "    </tr>\n",
       "    <tr>\n",
       "      <th>19</th>\n",
       "      <td>20</td>\n",
       "      <td>15568982</td>\n",
       "      <td>Hao</td>\n",
       "      <td>726</td>\n",
       "      <td>France</td>\n",
       "      <td>Female</td>\n",
       "      <td>24</td>\n",
       "      <td>6.0</td>\n",
       "      <td>0.00</td>\n",
       "      <td>2</td>\n",
       "      <td>1</td>\n",
       "      <td>1</td>\n",
       "      <td>54724.03</td>\n",
       "      <td>0</td>\n",
       "    </tr>\n",
       "  </tbody>\n",
       "</table>\n",
       "</div>"
      ],
      "text/plain": [
       "    RowNumber  CustomerId    Surname  CreditScore Geography  Gender  Age  \\\n",
       "0           1    15634602   Hargrave          619    France  Female   42   \n",
       "1           2    15647311       Hill          608     Spain  Female   41   \n",
       "2           3    15619304       Onio          502    France  Female   42   \n",
       "3           4    15701354       Boni          699    France  Female   39   \n",
       "4           5    15737888   Mitchell          850     Spain  Female   43   \n",
       "5           6    15574012        Chu          645     Spain    Male   44   \n",
       "6           7    15592531   Bartlett          822    France    Male   50   \n",
       "7           8    15656148     Obinna          376   Germany  Female   29   \n",
       "8           9    15792365         He          501    France    Male   44   \n",
       "9          10    15592389         H?          684    France    Male   27   \n",
       "10         11    15767821     Bearce          528    France    Male   31   \n",
       "11         12    15737173    Andrews          497     Spain    Male   24   \n",
       "12         13    15632264        Kay          476    France  Female   34   \n",
       "13         14    15691483       Chin          549    France  Female   25   \n",
       "14         15    15600882      Scott          635     Spain  Female   35   \n",
       "15         16    15643966    Goforth          616   Germany    Male   45   \n",
       "16         17    15737452      Romeo          653   Germany    Male   58   \n",
       "17         18    15788218  Henderson          549     Spain  Female   24   \n",
       "18         19    15661507    Muldrow          587     Spain    Male   45   \n",
       "19         20    15568982        Hao          726    France  Female   24   \n",
       "\n",
       "    Tenure    Balance  NumOfProducts  HasCrCard  IsActiveMember  \\\n",
       "0      2.0       0.00              1          1               1   \n",
       "1      1.0   83807.86              1          0               1   \n",
       "2      8.0  159660.80              3          1               0   \n",
       "3      1.0       0.00              2          0               0   \n",
       "4      2.0  125510.82              1          1               1   \n",
       "5      8.0  113755.78              2          1               0   \n",
       "6      7.0       0.00              2          1               1   \n",
       "7      4.0  115046.74              4          1               0   \n",
       "8      4.0  142051.07              2          0               1   \n",
       "9      2.0  134603.88              1          1               1   \n",
       "10     6.0  102016.72              2          0               0   \n",
       "11     3.0       0.00              2          1               0   \n",
       "12    10.0       0.00              2          1               0   \n",
       "13     5.0       0.00              2          0               0   \n",
       "14     7.0       0.00              2          1               1   \n",
       "15     3.0  143129.41              2          0               1   \n",
       "16     1.0  132602.88              1          1               0   \n",
       "17     9.0       0.00              2          1               1   \n",
       "18     6.0       0.00              1          0               0   \n",
       "19     6.0       0.00              2          1               1   \n",
       "\n",
       "    EstimatedSalary  Exited  \n",
       "0         101348.88       1  \n",
       "1         112542.58       0  \n",
       "2         113931.57       1  \n",
       "3          93826.63       0  \n",
       "4          79084.10       0  \n",
       "5         149756.71       1  \n",
       "6          10062.80       0  \n",
       "7         119346.88       1  \n",
       "8          74940.50       0  \n",
       "9          71725.73       0  \n",
       "10         80181.12       0  \n",
       "11         76390.01       0  \n",
       "12         26260.98       0  \n",
       "13        190857.79       0  \n",
       "14         65951.65       0  \n",
       "15         64327.26       0  \n",
       "16          5097.67       1  \n",
       "17         14406.41       0  \n",
       "18        158684.81       0  \n",
       "19         54724.03       0  "
      ]
     },
     "execution_count": 3,
     "metadata": {},
     "output_type": "execute_result"
    }
   ],
   "source": [
    "#Записываем датасет в переменную\n",
    "df = pd.read_csv('/datasets/Churn.csv')\n",
    "\n",
    "#Изучим таблицу\n",
    "df.head(20)"
   ]
  },
  {
   "cell_type": "code",
   "execution_count": 4,
   "metadata": {},
   "outputs": [
    {
     "name": "stdout",
     "output_type": "stream",
     "text": [
      "<class 'pandas.core.frame.DataFrame'>\n",
      "RangeIndex: 10000 entries, 0 to 9999\n",
      "Data columns (total 14 columns):\n",
      " #   Column           Non-Null Count  Dtype  \n",
      "---  ------           --------------  -----  \n",
      " 0   RowNumber        10000 non-null  int64  \n",
      " 1   CustomerId       10000 non-null  int64  \n",
      " 2   Surname          10000 non-null  object \n",
      " 3   CreditScore      10000 non-null  int64  \n",
      " 4   Geography        10000 non-null  object \n",
      " 5   Gender           10000 non-null  object \n",
      " 6   Age              10000 non-null  int64  \n",
      " 7   Tenure           9091 non-null   float64\n",
      " 8   Balance          10000 non-null  float64\n",
      " 9   NumOfProducts    10000 non-null  int64  \n",
      " 10  HasCrCard        10000 non-null  int64  \n",
      " 11  IsActiveMember   10000 non-null  int64  \n",
      " 12  EstimatedSalary  10000 non-null  float64\n",
      " 13  Exited           10000 non-null  int64  \n",
      "dtypes: float64(3), int64(8), object(3)\n",
      "memory usage: 1.1+ MB\n"
     ]
    }
   ],
   "source": [
    "#Изучим данные\n",
    "df.info()"
   ]
  },
  {
   "cell_type": "markdown",
   "metadata": {},
   "source": [
    "Есть 3 столбца, не влияющих на обучение модели: `RowNumber`, `CustomerId` и `Surname` — удалим их, но сперва убедимся, что нет явных дубликатов по столбцу `CustomerID`"
   ]
  },
  {
   "cell_type": "code",
   "execution_count": 5,
   "metadata": {},
   "outputs": [
    {
     "data": {
      "text/plain": [
       "10000"
      ]
     },
     "execution_count": 5,
     "metadata": {},
     "output_type": "execute_result"
    }
   ],
   "source": [
    "#Проверяем наличие явных дубликатов\n",
    "len(df['CustomerId'].unique())"
   ]
  },
  {
   "cell_type": "markdown",
   "metadata": {},
   "source": [
    "Дубликатов нет, можем удалять лишние столбцы."
   ]
  },
  {
   "cell_type": "code",
   "execution_count": 6,
   "metadata": {},
   "outputs": [
    {
     "name": "stdout",
     "output_type": "stream",
     "text": [
      "<class 'pandas.core.frame.DataFrame'>\n",
      "RangeIndex: 10000 entries, 0 to 9999\n",
      "Data columns (total 11 columns):\n",
      " #   Column           Non-Null Count  Dtype  \n",
      "---  ------           --------------  -----  \n",
      " 0   CreditScore      10000 non-null  int64  \n",
      " 1   Geography        10000 non-null  object \n",
      " 2   Gender           10000 non-null  object \n",
      " 3   Age              10000 non-null  int64  \n",
      " 4   Tenure           9091 non-null   float64\n",
      " 5   Balance          10000 non-null  float64\n",
      " 6   NumOfProducts    10000 non-null  int64  \n",
      " 7   HasCrCard        10000 non-null  int64  \n",
      " 8   IsActiveMember   10000 non-null  int64  \n",
      " 9   EstimatedSalary  10000 non-null  float64\n",
      " 10  Exited           10000 non-null  int64  \n",
      "dtypes: float64(3), int64(6), object(2)\n",
      "memory usage: 859.5+ KB\n"
     ]
    }
   ],
   "source": [
    "#Удаляем\n",
    "df = df.drop(columns=['RowNumber', 'CustomerId', 'Surname'])\n",
    "\n",
    "#Проверяем\n",
    "df.info()"
   ]
  },
  {
   "cell_type": "markdown",
   "metadata": {},
   "source": [
    "В столбце `Tenure` есть пропуски, но их менее 10% от общего числа строк, значит, можем их удалить, чтобы не заполнять медианными значениями и не путать модель в процессе обучения."
   ]
  },
  {
   "cell_type": "code",
   "execution_count": 7,
   "metadata": {},
   "outputs": [
    {
     "name": "stdout",
     "output_type": "stream",
     "text": [
      "<class 'pandas.core.frame.DataFrame'>\n",
      "RangeIndex: 9091 entries, 0 to 9090\n",
      "Data columns (total 11 columns):\n",
      " #   Column           Non-Null Count  Dtype  \n",
      "---  ------           --------------  -----  \n",
      " 0   CreditScore      9091 non-null   int64  \n",
      " 1   Geography        9091 non-null   object \n",
      " 2   Gender           9091 non-null   object \n",
      " 3   Age              9091 non-null   int64  \n",
      " 4   Tenure           9091 non-null   float64\n",
      " 5   Balance          9091 non-null   float64\n",
      " 6   NumOfProducts    9091 non-null   int64  \n",
      " 7   HasCrCard        9091 non-null   int64  \n",
      " 8   IsActiveMember   9091 non-null   int64  \n",
      " 9   EstimatedSalary  9091 non-null   float64\n",
      " 10  Exited           9091 non-null   int64  \n",
      "dtypes: float64(3), int64(6), object(2)\n",
      "memory usage: 781.4+ KB\n"
     ]
    }
   ],
   "source": [
    "#Удаляем пропуски\n",
    "df = df.dropna().reset_index(drop=True)\n",
    "\n",
    "#Проверяем\n",
    "df.info()"
   ]
  },
  {
   "cell_type": "code",
   "execution_count": 8,
   "metadata": {},
   "outputs": [
    {
     "name": "stdout",
     "output_type": "stream",
     "text": [
      "(5454, 10)\n",
      "(1818, 10)\n",
      "(1819, 10)\n",
      "(5454,)\n",
      "(1818,)\n",
      "(1819,)\n"
     ]
    },
    {
     "data": {
      "text/html": [
       "<div>\n",
       "<style scoped>\n",
       "    .dataframe tbody tr th:only-of-type {\n",
       "        vertical-align: middle;\n",
       "    }\n",
       "\n",
       "    .dataframe tbody tr th {\n",
       "        vertical-align: top;\n",
       "    }\n",
       "\n",
       "    .dataframe thead th {\n",
       "        text-align: right;\n",
       "    }\n",
       "</style>\n",
       "<table border=\"1\" class=\"dataframe\">\n",
       "  <thead>\n",
       "    <tr style=\"text-align: right;\">\n",
       "      <th></th>\n",
       "      <th>CreditScore</th>\n",
       "      <th>Geography</th>\n",
       "      <th>Gender</th>\n",
       "      <th>Age</th>\n",
       "      <th>Tenure</th>\n",
       "      <th>Balance</th>\n",
       "      <th>NumOfProducts</th>\n",
       "      <th>HasCrCard</th>\n",
       "      <th>IsActiveMember</th>\n",
       "      <th>EstimatedSalary</th>\n",
       "    </tr>\n",
       "  </thead>\n",
       "  <tbody>\n",
       "    <tr>\n",
       "      <th>8483</th>\n",
       "      <td>727</td>\n",
       "      <td>France</td>\n",
       "      <td>Female</td>\n",
       "      <td>28</td>\n",
       "      <td>2.0</td>\n",
       "      <td>110997.76</td>\n",
       "      <td>1</td>\n",
       "      <td>1</td>\n",
       "      <td>0</td>\n",
       "      <td>101433.76</td>\n",
       "    </tr>\n",
       "    <tr>\n",
       "      <th>3431</th>\n",
       "      <td>537</td>\n",
       "      <td>France</td>\n",
       "      <td>Male</td>\n",
       "      <td>26</td>\n",
       "      <td>7.0</td>\n",
       "      <td>106397.75</td>\n",
       "      <td>1</td>\n",
       "      <td>0</td>\n",
       "      <td>0</td>\n",
       "      <td>103563.23</td>\n",
       "    </tr>\n",
       "    <tr>\n",
       "      <th>6770</th>\n",
       "      <td>610</td>\n",
       "      <td>France</td>\n",
       "      <td>Male</td>\n",
       "      <td>40</td>\n",
       "      <td>9.0</td>\n",
       "      <td>0.00</td>\n",
       "      <td>1</td>\n",
       "      <td>1</td>\n",
       "      <td>1</td>\n",
       "      <td>149602.54</td>\n",
       "    </tr>\n",
       "    <tr>\n",
       "      <th>1350</th>\n",
       "      <td>576</td>\n",
       "      <td>France</td>\n",
       "      <td>Male</td>\n",
       "      <td>36</td>\n",
       "      <td>6.0</td>\n",
       "      <td>0.00</td>\n",
       "      <td>2</td>\n",
       "      <td>1</td>\n",
       "      <td>1</td>\n",
       "      <td>48314.00</td>\n",
       "    </tr>\n",
       "    <tr>\n",
       "      <th>4047</th>\n",
       "      <td>549</td>\n",
       "      <td>France</td>\n",
       "      <td>Male</td>\n",
       "      <td>31</td>\n",
       "      <td>4.0</td>\n",
       "      <td>0.00</td>\n",
       "      <td>2</td>\n",
       "      <td>0</td>\n",
       "      <td>1</td>\n",
       "      <td>25684.85</td>\n",
       "    </tr>\n",
       "    <tr>\n",
       "      <th>...</th>\n",
       "      <td>...</td>\n",
       "      <td>...</td>\n",
       "      <td>...</td>\n",
       "      <td>...</td>\n",
       "      <td>...</td>\n",
       "      <td>...</td>\n",
       "      <td>...</td>\n",
       "      <td>...</td>\n",
       "      <td>...</td>\n",
       "      <td>...</td>\n",
       "    </tr>\n",
       "    <tr>\n",
       "      <th>4478</th>\n",
       "      <td>773</td>\n",
       "      <td>Germany</td>\n",
       "      <td>Male</td>\n",
       "      <td>34</td>\n",
       "      <td>10.0</td>\n",
       "      <td>126979.75</td>\n",
       "      <td>1</td>\n",
       "      <td>0</td>\n",
       "      <td>0</td>\n",
       "      <td>36823.28</td>\n",
       "    </tr>\n",
       "    <tr>\n",
       "      <th>4094</th>\n",
       "      <td>664</td>\n",
       "      <td>France</td>\n",
       "      <td>Female</td>\n",
       "      <td>44</td>\n",
       "      <td>8.0</td>\n",
       "      <td>142989.69</td>\n",
       "      <td>1</td>\n",
       "      <td>1</td>\n",
       "      <td>1</td>\n",
       "      <td>115452.51</td>\n",
       "    </tr>\n",
       "    <tr>\n",
       "      <th>3492</th>\n",
       "      <td>547</td>\n",
       "      <td>France</td>\n",
       "      <td>Female</td>\n",
       "      <td>29</td>\n",
       "      <td>6.0</td>\n",
       "      <td>104450.86</td>\n",
       "      <td>1</td>\n",
       "      <td>1</td>\n",
       "      <td>1</td>\n",
       "      <td>37160.28</td>\n",
       "    </tr>\n",
       "    <tr>\n",
       "      <th>2177</th>\n",
       "      <td>556</td>\n",
       "      <td>France</td>\n",
       "      <td>Female</td>\n",
       "      <td>52</td>\n",
       "      <td>9.0</td>\n",
       "      <td>0.00</td>\n",
       "      <td>1</td>\n",
       "      <td>1</td>\n",
       "      <td>0</td>\n",
       "      <td>175149.20</td>\n",
       "    </tr>\n",
       "    <tr>\n",
       "      <th>4578</th>\n",
       "      <td>767</td>\n",
       "      <td>Germany</td>\n",
       "      <td>Male</td>\n",
       "      <td>23</td>\n",
       "      <td>2.0</td>\n",
       "      <td>139542.82</td>\n",
       "      <td>1</td>\n",
       "      <td>0</td>\n",
       "      <td>1</td>\n",
       "      <td>28038.28</td>\n",
       "    </tr>\n",
       "  </tbody>\n",
       "</table>\n",
       "<p>5454 rows × 10 columns</p>\n",
       "</div>"
      ],
      "text/plain": [
       "      CreditScore Geography  Gender  Age  Tenure    Balance  NumOfProducts  \\\n",
       "8483          727    France  Female   28     2.0  110997.76              1   \n",
       "3431          537    France    Male   26     7.0  106397.75              1   \n",
       "6770          610    France    Male   40     9.0       0.00              1   \n",
       "1350          576    France    Male   36     6.0       0.00              2   \n",
       "4047          549    France    Male   31     4.0       0.00              2   \n",
       "...           ...       ...     ...  ...     ...        ...            ...   \n",
       "4478          773   Germany    Male   34    10.0  126979.75              1   \n",
       "4094          664    France  Female   44     8.0  142989.69              1   \n",
       "3492          547    France  Female   29     6.0  104450.86              1   \n",
       "2177          556    France  Female   52     9.0       0.00              1   \n",
       "4578          767   Germany    Male   23     2.0  139542.82              1   \n",
       "\n",
       "      HasCrCard  IsActiveMember  EstimatedSalary  \n",
       "8483          1               0        101433.76  \n",
       "3431          0               0        103563.23  \n",
       "6770          1               1        149602.54  \n",
       "1350          1               1         48314.00  \n",
       "4047          0               1         25684.85  \n",
       "...         ...             ...              ...  \n",
       "4478          0               0         36823.28  \n",
       "4094          1               1        115452.51  \n",
       "3492          1               1         37160.28  \n",
       "2177          1               0        175149.20  \n",
       "4578          0               1         28038.28  \n",
       "\n",
       "[5454 rows x 10 columns]"
      ]
     },
     "metadata": {},
     "output_type": "display_data"
    }
   ],
   "source": [
    "#Делим выборки\n",
    "features_train, target_train, features_valid, target_valid,\\\n",
    "features_test, target_test = train_valid_test_split(\n",
    "    df,\n",
    "    target = 'Exited',\n",
    "    train_size=0.6,\n",
    "    valid_size=0.2,\n",
    "    test_size=0.2,\n",
    "    random_state=12345)\n",
    "\n",
    "#Проверяем результат\n",
    "print(features_train.shape)\n",
    "print(features_valid.shape)\n",
    "print(features_test.shape)\n",
    "print(target_train.shape)\n",
    "print(target_valid.shape)\n",
    "print(target_test.shape)\n",
    "\n",
    "display(features_train)"
   ]
  },
  {
   "cell_type": "markdown",
   "metadata": {},
   "source": [
    "Применим OHE к категориальным признакам `Geography` и `Gender`"
   ]
  },
  {
   "cell_type": "code",
   "execution_count": 9,
   "metadata": {},
   "outputs": [],
   "source": [
    "#Обучаем OHE на тренировочной выборке\n",
    "ohe = OneHotEncoder(drop='first', handle_unknown='ignore', sparse=False)\n",
    "ohe.fit(features_train[['Gender', 'Geography']])\n",
    "\n",
    "#Применяем OHE к выборкам\n",
    "features_train_ohe = pd.DataFrame(ohe.transform(features_train[['Gender', 'Geography']]),\n",
    "                                  columns=ohe.get_feature_names(['Gender', 'Geography']),\n",
    "                                  index=features_train.index)\n",
    "features_valid_ohe = pd.DataFrame(ohe.transform(features_valid[['Gender', 'Geography']]),\n",
    "                                  columns=ohe.get_feature_names(['Gender', 'Geography']),\n",
    "                                  index=features_valid.index)\n",
    "features_test_ohe = pd.DataFrame(ohe.transform(features_test[['Gender', 'Geography']]),\n",
    "                                  columns=ohe.get_feature_names(['Gender', 'Geography']),\n",
    "                                  index=features_test.index)\n",
    "\n",
    "#Удаляем старые столбцы\n",
    "features_train = features_train.drop(['Gender', 'Geography'], axis=1)\n",
    "features_valid = features_valid.drop(['Gender', 'Geography'], axis=1)\n",
    "features_test = features_test.drop(['Gender', 'Geography'], axis=1)\n",
    "\n",
    "#Объединяем закодированные и числовые признаки\n",
    "features_train = pd.concat([features_train_ohe, features_train], axis=1)\n",
    "features_valid = pd.concat([features_valid_ohe, features_valid], axis=1)\n",
    "features_test = pd.concat([features_test_ohe, features_test], axis=1)"
   ]
  },
  {
   "cell_type": "code",
   "execution_count": 10,
   "metadata": {},
   "outputs": [
    {
     "data": {
      "text/html": [
       "<div>\n",
       "<style scoped>\n",
       "    .dataframe tbody tr th:only-of-type {\n",
       "        vertical-align: middle;\n",
       "    }\n",
       "\n",
       "    .dataframe tbody tr th {\n",
       "        vertical-align: top;\n",
       "    }\n",
       "\n",
       "    .dataframe thead th {\n",
       "        text-align: right;\n",
       "    }\n",
       "</style>\n",
       "<table border=\"1\" class=\"dataframe\">\n",
       "  <thead>\n",
       "    <tr style=\"text-align: right;\">\n",
       "      <th></th>\n",
       "      <th>Gender_Male</th>\n",
       "      <th>Geography_Germany</th>\n",
       "      <th>Geography_Spain</th>\n",
       "      <th>CreditScore</th>\n",
       "      <th>Age</th>\n",
       "      <th>Tenure</th>\n",
       "      <th>Balance</th>\n",
       "      <th>NumOfProducts</th>\n",
       "      <th>HasCrCard</th>\n",
       "      <th>IsActiveMember</th>\n",
       "      <th>EstimatedSalary</th>\n",
       "    </tr>\n",
       "  </thead>\n",
       "  <tbody>\n",
       "    <tr>\n",
       "      <th>8483</th>\n",
       "      <td>0.0</td>\n",
       "      <td>0.0</td>\n",
       "      <td>0.0</td>\n",
       "      <td>727</td>\n",
       "      <td>28</td>\n",
       "      <td>2.0</td>\n",
       "      <td>110997.76</td>\n",
       "      <td>1</td>\n",
       "      <td>1</td>\n",
       "      <td>0</td>\n",
       "      <td>101433.76</td>\n",
       "    </tr>\n",
       "    <tr>\n",
       "      <th>3431</th>\n",
       "      <td>1.0</td>\n",
       "      <td>0.0</td>\n",
       "      <td>0.0</td>\n",
       "      <td>537</td>\n",
       "      <td>26</td>\n",
       "      <td>7.0</td>\n",
       "      <td>106397.75</td>\n",
       "      <td>1</td>\n",
       "      <td>0</td>\n",
       "      <td>0</td>\n",
       "      <td>103563.23</td>\n",
       "    </tr>\n",
       "    <tr>\n",
       "      <th>6770</th>\n",
       "      <td>1.0</td>\n",
       "      <td>0.0</td>\n",
       "      <td>0.0</td>\n",
       "      <td>610</td>\n",
       "      <td>40</td>\n",
       "      <td>9.0</td>\n",
       "      <td>0.00</td>\n",
       "      <td>1</td>\n",
       "      <td>1</td>\n",
       "      <td>1</td>\n",
       "      <td>149602.54</td>\n",
       "    </tr>\n",
       "    <tr>\n",
       "      <th>1350</th>\n",
       "      <td>1.0</td>\n",
       "      <td>0.0</td>\n",
       "      <td>0.0</td>\n",
       "      <td>576</td>\n",
       "      <td>36</td>\n",
       "      <td>6.0</td>\n",
       "      <td>0.00</td>\n",
       "      <td>2</td>\n",
       "      <td>1</td>\n",
       "      <td>1</td>\n",
       "      <td>48314.00</td>\n",
       "    </tr>\n",
       "    <tr>\n",
       "      <th>4047</th>\n",
       "      <td>1.0</td>\n",
       "      <td>0.0</td>\n",
       "      <td>0.0</td>\n",
       "      <td>549</td>\n",
       "      <td>31</td>\n",
       "      <td>4.0</td>\n",
       "      <td>0.00</td>\n",
       "      <td>2</td>\n",
       "      <td>0</td>\n",
       "      <td>1</td>\n",
       "      <td>25684.85</td>\n",
       "    </tr>\n",
       "  </tbody>\n",
       "</table>\n",
       "</div>"
      ],
      "text/plain": [
       "      Gender_Male  Geography_Germany  Geography_Spain  CreditScore  Age  \\\n",
       "8483          0.0                0.0              0.0          727   28   \n",
       "3431          1.0                0.0              0.0          537   26   \n",
       "6770          1.0                0.0              0.0          610   40   \n",
       "1350          1.0                0.0              0.0          576   36   \n",
       "4047          1.0                0.0              0.0          549   31   \n",
       "\n",
       "      Tenure    Balance  NumOfProducts  HasCrCard  IsActiveMember  \\\n",
       "8483     2.0  110997.76              1          1               0   \n",
       "3431     7.0  106397.75              1          0               0   \n",
       "6770     9.0       0.00              1          1               1   \n",
       "1350     6.0       0.00              2          1               1   \n",
       "4047     4.0       0.00              2          0               1   \n",
       "\n",
       "      EstimatedSalary  \n",
       "8483        101433.76  \n",
       "3431        103563.23  \n",
       "6770        149602.54  \n",
       "1350         48314.00  \n",
       "4047         25684.85  "
      ]
     },
     "metadata": {},
     "output_type": "display_data"
    },
    {
     "data": {
      "text/html": [
       "<div>\n",
       "<style scoped>\n",
       "    .dataframe tbody tr th:only-of-type {\n",
       "        vertical-align: middle;\n",
       "    }\n",
       "\n",
       "    .dataframe tbody tr th {\n",
       "        vertical-align: top;\n",
       "    }\n",
       "\n",
       "    .dataframe thead th {\n",
       "        text-align: right;\n",
       "    }\n",
       "</style>\n",
       "<table border=\"1\" class=\"dataframe\">\n",
       "  <thead>\n",
       "    <tr style=\"text-align: right;\">\n",
       "      <th></th>\n",
       "      <th>Gender_Male</th>\n",
       "      <th>Geography_Germany</th>\n",
       "      <th>Geography_Spain</th>\n",
       "      <th>CreditScore</th>\n",
       "      <th>Age</th>\n",
       "      <th>Tenure</th>\n",
       "      <th>Balance</th>\n",
       "      <th>NumOfProducts</th>\n",
       "      <th>HasCrCard</th>\n",
       "      <th>IsActiveMember</th>\n",
       "      <th>EstimatedSalary</th>\n",
       "    </tr>\n",
       "  </thead>\n",
       "  <tbody>\n",
       "    <tr>\n",
       "      <th>6754</th>\n",
       "      <td>0.0</td>\n",
       "      <td>0.0</td>\n",
       "      <td>0.0</td>\n",
       "      <td>516</td>\n",
       "      <td>45</td>\n",
       "      <td>4.0</td>\n",
       "      <td>0.00</td>\n",
       "      <td>1</td>\n",
       "      <td>1</td>\n",
       "      <td>0</td>\n",
       "      <td>95273.73</td>\n",
       "    </tr>\n",
       "    <tr>\n",
       "      <th>7828</th>\n",
       "      <td>0.0</td>\n",
       "      <td>0.0</td>\n",
       "      <td>0.0</td>\n",
       "      <td>768</td>\n",
       "      <td>40</td>\n",
       "      <td>8.0</td>\n",
       "      <td>0.00</td>\n",
       "      <td>2</td>\n",
       "      <td>0</td>\n",
       "      <td>1</td>\n",
       "      <td>69080.46</td>\n",
       "    </tr>\n",
       "    <tr>\n",
       "      <th>1545</th>\n",
       "      <td>1.0</td>\n",
       "      <td>1.0</td>\n",
       "      <td>0.0</td>\n",
       "      <td>730</td>\n",
       "      <td>45</td>\n",
       "      <td>6.0</td>\n",
       "      <td>152880.97</td>\n",
       "      <td>1</td>\n",
       "      <td>0</td>\n",
       "      <td>0</td>\n",
       "      <td>162478.11</td>\n",
       "    </tr>\n",
       "    <tr>\n",
       "      <th>4935</th>\n",
       "      <td>1.0</td>\n",
       "      <td>0.0</td>\n",
       "      <td>0.0</td>\n",
       "      <td>751</td>\n",
       "      <td>29</td>\n",
       "      <td>1.0</td>\n",
       "      <td>135536.50</td>\n",
       "      <td>1</td>\n",
       "      <td>1</td>\n",
       "      <td>0</td>\n",
       "      <td>66825.33</td>\n",
       "    </tr>\n",
       "    <tr>\n",
       "      <th>8176</th>\n",
       "      <td>1.0</td>\n",
       "      <td>0.0</td>\n",
       "      <td>1.0</td>\n",
       "      <td>688</td>\n",
       "      <td>32</td>\n",
       "      <td>6.0</td>\n",
       "      <td>124179.30</td>\n",
       "      <td>1</td>\n",
       "      <td>1</td>\n",
       "      <td>1</td>\n",
       "      <td>138759.15</td>\n",
       "    </tr>\n",
       "  </tbody>\n",
       "</table>\n",
       "</div>"
      ],
      "text/plain": [
       "      Gender_Male  Geography_Germany  Geography_Spain  CreditScore  Age  \\\n",
       "6754          0.0                0.0              0.0          516   45   \n",
       "7828          0.0                0.0              0.0          768   40   \n",
       "1545          1.0                1.0              0.0          730   45   \n",
       "4935          1.0                0.0              0.0          751   29   \n",
       "8176          1.0                0.0              1.0          688   32   \n",
       "\n",
       "      Tenure    Balance  NumOfProducts  HasCrCard  IsActiveMember  \\\n",
       "6754     4.0       0.00              1          1               0   \n",
       "7828     8.0       0.00              2          0               1   \n",
       "1545     6.0  152880.97              1          0               0   \n",
       "4935     1.0  135536.50              1          1               0   \n",
       "8176     6.0  124179.30              1          1               1   \n",
       "\n",
       "      EstimatedSalary  \n",
       "6754         95273.73  \n",
       "7828         69080.46  \n",
       "1545        162478.11  \n",
       "4935         66825.33  \n",
       "8176        138759.15  "
      ]
     },
     "metadata": {},
     "output_type": "display_data"
    },
    {
     "data": {
      "text/html": [
       "<div>\n",
       "<style scoped>\n",
       "    .dataframe tbody tr th:only-of-type {\n",
       "        vertical-align: middle;\n",
       "    }\n",
       "\n",
       "    .dataframe tbody tr th {\n",
       "        vertical-align: top;\n",
       "    }\n",
       "\n",
       "    .dataframe thead th {\n",
       "        text-align: right;\n",
       "    }\n",
       "</style>\n",
       "<table border=\"1\" class=\"dataframe\">\n",
       "  <thead>\n",
       "    <tr style=\"text-align: right;\">\n",
       "      <th></th>\n",
       "      <th>Gender_Male</th>\n",
       "      <th>Geography_Germany</th>\n",
       "      <th>Geography_Spain</th>\n",
       "      <th>CreditScore</th>\n",
       "      <th>Age</th>\n",
       "      <th>Tenure</th>\n",
       "      <th>Balance</th>\n",
       "      <th>NumOfProducts</th>\n",
       "      <th>HasCrCard</th>\n",
       "      <th>IsActiveMember</th>\n",
       "      <th>EstimatedSalary</th>\n",
       "    </tr>\n",
       "  </thead>\n",
       "  <tbody>\n",
       "    <tr>\n",
       "      <th>4684</th>\n",
       "      <td>0.0</td>\n",
       "      <td>0.0</td>\n",
       "      <td>0.0</td>\n",
       "      <td>814</td>\n",
       "      <td>31</td>\n",
       "      <td>4.0</td>\n",
       "      <td>0.00</td>\n",
       "      <td>2</td>\n",
       "      <td>1</td>\n",
       "      <td>1</td>\n",
       "      <td>142029.17</td>\n",
       "    </tr>\n",
       "    <tr>\n",
       "      <th>3773</th>\n",
       "      <td>1.0</td>\n",
       "      <td>1.0</td>\n",
       "      <td>0.0</td>\n",
       "      <td>607</td>\n",
       "      <td>36</td>\n",
       "      <td>10.0</td>\n",
       "      <td>106702.94</td>\n",
       "      <td>2</td>\n",
       "      <td>0</td>\n",
       "      <td>0</td>\n",
       "      <td>198313.69</td>\n",
       "    </tr>\n",
       "    <tr>\n",
       "      <th>6665</th>\n",
       "      <td>1.0</td>\n",
       "      <td>1.0</td>\n",
       "      <td>0.0</td>\n",
       "      <td>632</td>\n",
       "      <td>42</td>\n",
       "      <td>6.0</td>\n",
       "      <td>59972.26</td>\n",
       "      <td>2</td>\n",
       "      <td>0</td>\n",
       "      <td>1</td>\n",
       "      <td>148172.94</td>\n",
       "    </tr>\n",
       "    <tr>\n",
       "      <th>6777</th>\n",
       "      <td>0.0</td>\n",
       "      <td>0.0</td>\n",
       "      <td>0.0</td>\n",
       "      <td>686</td>\n",
       "      <td>35</td>\n",
       "      <td>8.0</td>\n",
       "      <td>105419.73</td>\n",
       "      <td>1</td>\n",
       "      <td>1</td>\n",
       "      <td>0</td>\n",
       "      <td>35356.46</td>\n",
       "    </tr>\n",
       "    <tr>\n",
       "      <th>3143</th>\n",
       "      <td>0.0</td>\n",
       "      <td>1.0</td>\n",
       "      <td>0.0</td>\n",
       "      <td>538</td>\n",
       "      <td>42</td>\n",
       "      <td>1.0</td>\n",
       "      <td>98548.62</td>\n",
       "      <td>2</td>\n",
       "      <td>0</td>\n",
       "      <td>1</td>\n",
       "      <td>94047.75</td>\n",
       "    </tr>\n",
       "  </tbody>\n",
       "</table>\n",
       "</div>"
      ],
      "text/plain": [
       "      Gender_Male  Geography_Germany  Geography_Spain  CreditScore  Age  \\\n",
       "4684          0.0                0.0              0.0          814   31   \n",
       "3773          1.0                1.0              0.0          607   36   \n",
       "6665          1.0                1.0              0.0          632   42   \n",
       "6777          0.0                0.0              0.0          686   35   \n",
       "3143          0.0                1.0              0.0          538   42   \n",
       "\n",
       "      Tenure    Balance  NumOfProducts  HasCrCard  IsActiveMember  \\\n",
       "4684     4.0       0.00              2          1               1   \n",
       "3773    10.0  106702.94              2          0               0   \n",
       "6665     6.0   59972.26              2          0               1   \n",
       "6777     8.0  105419.73              1          1               0   \n",
       "3143     1.0   98548.62              2          0               1   \n",
       "\n",
       "      EstimatedSalary  \n",
       "4684        142029.17  \n",
       "3773        198313.69  \n",
       "6665        148172.94  \n",
       "6777         35356.46  \n",
       "3143         94047.75  "
      ]
     },
     "metadata": {},
     "output_type": "display_data"
    }
   ],
   "source": [
    "#Проверяем\n",
    "display(features_train.head())\n",
    "display(features_valid.head())\n",
    "display(features_test.head())"
   ]
  },
  {
   "cell_type": "markdown",
   "metadata": {},
   "source": [
    "Теперь все признаки количественные и с ними можно работать для обучения моделей."
   ]
  },
  {
   "cell_type": "markdown",
   "metadata": {},
   "source": [
    "Приводить названия столбцов к змеиному регистру не будем, т.к. нам потребуется название всего 1 столбца и ровно 1 раз — при делении датафрейма на выборки. Сделаем это прямо сейчас — разобьем данные на обучающие, валидационные и тестовые выборки."
   ]
  },
  {
   "cell_type": "markdown",
   "metadata": {},
   "source": [
    "Теперь масштабируем признаки для дальнейшего обучения моделей."
   ]
  },
  {
   "cell_type": "code",
   "execution_count": 11,
   "metadata": {},
   "outputs": [
    {
     "data": {
      "text/html": [
       "<div>\n",
       "<style scoped>\n",
       "    .dataframe tbody tr th:only-of-type {\n",
       "        vertical-align: middle;\n",
       "    }\n",
       "\n",
       "    .dataframe tbody tr th {\n",
       "        vertical-align: top;\n",
       "    }\n",
       "\n",
       "    .dataframe thead th {\n",
       "        text-align: right;\n",
       "    }\n",
       "</style>\n",
       "<table border=\"1\" class=\"dataframe\">\n",
       "  <thead>\n",
       "    <tr style=\"text-align: right;\">\n",
       "      <th></th>\n",
       "      <th>CreditScore</th>\n",
       "      <th>Age</th>\n",
       "      <th>Tenure</th>\n",
       "      <th>Balance</th>\n",
       "      <th>NumOfProducts</th>\n",
       "      <th>EstimatedSalary</th>\n",
       "    </tr>\n",
       "  </thead>\n",
       "  <tbody>\n",
       "    <tr>\n",
       "      <th>8483</th>\n",
       "      <td>0.809075</td>\n",
       "      <td>-1.039327</td>\n",
       "      <td>-1.025995</td>\n",
       "      <td>0.554904</td>\n",
       "      <td>-0.908179</td>\n",
       "      <td>0.019508</td>\n",
       "    </tr>\n",
       "    <tr>\n",
       "      <th>3431</th>\n",
       "      <td>-1.152518</td>\n",
       "      <td>-1.227561</td>\n",
       "      <td>0.696524</td>\n",
       "      <td>0.480609</td>\n",
       "      <td>-0.908179</td>\n",
       "      <td>0.056167</td>\n",
       "    </tr>\n",
       "    <tr>\n",
       "      <th>6770</th>\n",
       "      <td>-0.398853</td>\n",
       "      <td>0.090079</td>\n",
       "      <td>1.385532</td>\n",
       "      <td>-1.237830</td>\n",
       "      <td>-0.908179</td>\n",
       "      <td>0.848738</td>\n",
       "    </tr>\n",
       "    <tr>\n",
       "      <th>1350</th>\n",
       "      <td>-0.749875</td>\n",
       "      <td>-0.286389</td>\n",
       "      <td>0.352020</td>\n",
       "      <td>-1.237830</td>\n",
       "      <td>0.809300</td>\n",
       "      <td>-0.894953</td>\n",
       "    </tr>\n",
       "    <tr>\n",
       "      <th>4047</th>\n",
       "      <td>-1.028628</td>\n",
       "      <td>-0.756975</td>\n",
       "      <td>-0.336987</td>\n",
       "      <td>-1.237830</td>\n",
       "      <td>0.809300</td>\n",
       "      <td>-1.284516</td>\n",
       "    </tr>\n",
       "  </tbody>\n",
       "</table>\n",
       "</div>"
      ],
      "text/plain": [
       "      CreditScore       Age    Tenure   Balance  NumOfProducts  \\\n",
       "8483     0.809075 -1.039327 -1.025995  0.554904      -0.908179   \n",
       "3431    -1.152518 -1.227561  0.696524  0.480609      -0.908179   \n",
       "6770    -0.398853  0.090079  1.385532 -1.237830      -0.908179   \n",
       "1350    -0.749875 -0.286389  0.352020 -1.237830       0.809300   \n",
       "4047    -1.028628 -0.756975 -0.336987 -1.237830       0.809300   \n",
       "\n",
       "      EstimatedSalary  \n",
       "8483         0.019508  \n",
       "3431         0.056167  \n",
       "6770         0.848738  \n",
       "1350        -0.894953  \n",
       "4047        -1.284516  "
      ]
     },
     "metadata": {},
     "output_type": "display_data"
    },
    {
     "data": {
      "text/html": [
       "<div>\n",
       "<style scoped>\n",
       "    .dataframe tbody tr th:only-of-type {\n",
       "        vertical-align: middle;\n",
       "    }\n",
       "\n",
       "    .dataframe tbody tr th {\n",
       "        vertical-align: top;\n",
       "    }\n",
       "\n",
       "    .dataframe thead th {\n",
       "        text-align: right;\n",
       "    }\n",
       "</style>\n",
       "<table border=\"1\" class=\"dataframe\">\n",
       "  <thead>\n",
       "    <tr style=\"text-align: right;\">\n",
       "      <th></th>\n",
       "      <th>CreditScore</th>\n",
       "      <th>Age</th>\n",
       "      <th>Tenure</th>\n",
       "      <th>Balance</th>\n",
       "      <th>NumOfProducts</th>\n",
       "      <th>EstimatedSalary</th>\n",
       "    </tr>\n",
       "  </thead>\n",
       "  <tbody>\n",
       "    <tr>\n",
       "      <th>6754</th>\n",
       "      <td>-1.369326</td>\n",
       "      <td>0.560665</td>\n",
       "      <td>-0.336987</td>\n",
       "      <td>-1.237830</td>\n",
       "      <td>-0.908179</td>\n",
       "      <td>-0.086537</td>\n",
       "    </tr>\n",
       "    <tr>\n",
       "      <th>7828</th>\n",
       "      <td>1.232367</td>\n",
       "      <td>0.090079</td>\n",
       "      <td>1.041028</td>\n",
       "      <td>-1.237830</td>\n",
       "      <td>0.809300</td>\n",
       "      <td>-0.537457</td>\n",
       "    </tr>\n",
       "    <tr>\n",
       "      <th>1545</th>\n",
       "      <td>0.840048</td>\n",
       "      <td>0.560665</td>\n",
       "      <td>0.352020</td>\n",
       "      <td>1.231363</td>\n",
       "      <td>-0.908179</td>\n",
       "      <td>1.070393</td>\n",
       "    </tr>\n",
       "    <tr>\n",
       "      <th>4935</th>\n",
       "      <td>1.056856</td>\n",
       "      <td>-0.945210</td>\n",
       "      <td>-1.370498</td>\n",
       "      <td>0.951231</td>\n",
       "      <td>-0.908179</td>\n",
       "      <td>-0.576279</td>\n",
       "    </tr>\n",
       "    <tr>\n",
       "      <th>8176</th>\n",
       "      <td>0.406433</td>\n",
       "      <td>-0.662858</td>\n",
       "      <td>0.352020</td>\n",
       "      <td>0.767800</td>\n",
       "      <td>-0.908179</td>\n",
       "      <td>0.662068</td>\n",
       "    </tr>\n",
       "  </tbody>\n",
       "</table>\n",
       "</div>"
      ],
      "text/plain": [
       "      CreditScore       Age    Tenure   Balance  NumOfProducts  \\\n",
       "6754    -1.369326  0.560665 -0.336987 -1.237830      -0.908179   \n",
       "7828     1.232367  0.090079  1.041028 -1.237830       0.809300   \n",
       "1545     0.840048  0.560665  0.352020  1.231363      -0.908179   \n",
       "4935     1.056856 -0.945210 -1.370498  0.951231      -0.908179   \n",
       "8176     0.406433 -0.662858  0.352020  0.767800      -0.908179   \n",
       "\n",
       "      EstimatedSalary  \n",
       "6754        -0.086537  \n",
       "7828        -0.537457  \n",
       "1545         1.070393  \n",
       "4935        -0.576279  \n",
       "8176         0.662068  "
      ]
     },
     "metadata": {},
     "output_type": "display_data"
    },
    {
     "data": {
      "text/html": [
       "<div>\n",
       "<style scoped>\n",
       "    .dataframe tbody tr th:only-of-type {\n",
       "        vertical-align: middle;\n",
       "    }\n",
       "\n",
       "    .dataframe tbody tr th {\n",
       "        vertical-align: top;\n",
       "    }\n",
       "\n",
       "    .dataframe thead th {\n",
       "        text-align: right;\n",
       "    }\n",
       "</style>\n",
       "<table border=\"1\" class=\"dataframe\">\n",
       "  <thead>\n",
       "    <tr style=\"text-align: right;\">\n",
       "      <th></th>\n",
       "      <th>CreditScore</th>\n",
       "      <th>Age</th>\n",
       "      <th>Tenure</th>\n",
       "      <th>Balance</th>\n",
       "      <th>NumOfProducts</th>\n",
       "      <th>EstimatedSalary</th>\n",
       "    </tr>\n",
       "  </thead>\n",
       "  <tbody>\n",
       "    <tr>\n",
       "      <th>4684</th>\n",
       "      <td>1.707279</td>\n",
       "      <td>-0.756975</td>\n",
       "      <td>-0.336987</td>\n",
       "      <td>-1.237830</td>\n",
       "      <td>0.809300</td>\n",
       "      <td>0.718362</td>\n",
       "    </tr>\n",
       "    <tr>\n",
       "      <th>3773</th>\n",
       "      <td>-0.429826</td>\n",
       "      <td>-0.286389</td>\n",
       "      <td>1.730036</td>\n",
       "      <td>0.485538</td>\n",
       "      <td>0.809300</td>\n",
       "      <td>1.687305</td>\n",
       "    </tr>\n",
       "    <tr>\n",
       "      <th>6665</th>\n",
       "      <td>-0.171721</td>\n",
       "      <td>0.278313</td>\n",
       "      <td>0.352020</td>\n",
       "      <td>-0.269213</td>\n",
       "      <td>0.809300</td>\n",
       "      <td>0.824128</td>\n",
       "    </tr>\n",
       "    <tr>\n",
       "      <th>6777</th>\n",
       "      <td>0.385784</td>\n",
       "      <td>-0.380507</td>\n",
       "      <td>1.041028</td>\n",
       "      <td>0.464813</td>\n",
       "      <td>-0.908179</td>\n",
       "      <td>-1.118018</td>\n",
       "    </tr>\n",
       "    <tr>\n",
       "      <th>3143</th>\n",
       "      <td>-1.142194</td>\n",
       "      <td>0.278313</td>\n",
       "      <td>-1.370498</td>\n",
       "      <td>0.353837</td>\n",
       "      <td>0.809300</td>\n",
       "      <td>-0.107642</td>\n",
       "    </tr>\n",
       "  </tbody>\n",
       "</table>\n",
       "</div>"
      ],
      "text/plain": [
       "      CreditScore       Age    Tenure   Balance  NumOfProducts  \\\n",
       "4684     1.707279 -0.756975 -0.336987 -1.237830       0.809300   \n",
       "3773    -0.429826 -0.286389  1.730036  0.485538       0.809300   \n",
       "6665    -0.171721  0.278313  0.352020 -0.269213       0.809300   \n",
       "6777     0.385784 -0.380507  1.041028  0.464813      -0.908179   \n",
       "3143    -1.142194  0.278313 -1.370498  0.353837       0.809300   \n",
       "\n",
       "      EstimatedSalary  \n",
       "4684         0.718362  \n",
       "3773         1.687305  \n",
       "6665         0.824128  \n",
       "6777        -1.118018  \n",
       "3143        -0.107642  "
      ]
     },
     "metadata": {},
     "output_type": "display_data"
    }
   ],
   "source": [
    "#Добавляем столбцы для масштабирования\n",
    "numeric = ['CreditScore', 'Age', 'Tenure', 'Balance', 'NumOfProducts', 'EstimatedSalary']\n",
    "\n",
    "#Обучаем scaler на тренировочных признаках\n",
    "scaler = StandardScaler()\n",
    "scaler.fit(features_train[numeric])\n",
    "\n",
    "#Масштабируем признаки\n",
    "features_train[numeric] = scaler.transform(features_train[numeric])\n",
    "features_valid[numeric] = scaler.transform(features_valid[numeric])\n",
    "features_test[numeric] = scaler.transform(features_test[numeric])\n",
    "\n",
    "#Проверяем\n",
    "display(features_train[numeric].head())\n",
    "display(features_valid[numeric].head())\n",
    "display(features_test[numeric].head())"
   ]
  },
  {
   "cell_type": "markdown",
   "metadata": {},
   "source": [
    "### Вывод:\n",
    "\n",
    "Мы изучили и подготовили данные к дальнейшей работе:\n",
    "1. Изучили структуру данных;\n",
    "2. Удалили лишние столбцы;\n",
    "3. Удалили данные с пропусками;\n",
    "4. Применили прямое кодирование (OHE) к категориальным признакам;\n",
    "5. Разделили данные на обучающие, валидационные и тестовые выборки;\n",
    "6. Масштабировали признаки.\n",
    "\n",
    "Теперь мы готовы приступить к исследованию баланса классов и обучению моделей."
   ]
  },
  {
   "cell_type": "markdown",
   "metadata": {},
   "source": [
    "## Исследование задачи"
   ]
  },
  {
   "cell_type": "markdown",
   "metadata": {},
   "source": [
    "Исследуем баланс классов целевого признака"
   ]
  },
  {
   "cell_type": "code",
   "execution_count": 12,
   "metadata": {},
   "outputs": [
    {
     "data": {
      "image/png": "[encoded data removed]",
      "text/plain": [
       "<Figure size 432x288 with 1 Axes>"
      ]
     },
     "metadata": {
      "needs_background": "light"
     },
     "output_type": "display_data"
    }
   ],
   "source": [
    "target_class_frequency = target_train.value_counts(normalize=True).plot(kind='bar')\n",
    "plt.xlabel('Класс')\n",
    "plt.ylabel('Частота')\n",
    "plt.title('Баланс классов')\n",
    "plt.show()"
   ]
  },
  {
   "cell_type": "markdown",
   "metadata": {},
   "source": [
    "Наблюдается сильный дисбаланс классов — 79% к 21%."
   ]
  },
  {
   "cell_type": "markdown",
   "metadata": {},
   "source": [
    "### Обучение моделей без учета дисбаланса классов"
   ]
  },
  {
   "cell_type": "markdown",
   "metadata": {},
   "source": [
    "Теперь обучим три модели без учета дисбаланса классов."
   ]
  },
  {
   "cell_type": "code",
   "execution_count": 13,
   "metadata": {},
   "outputs": [
    {
     "name": "stdout",
     "output_type": "stream",
     "text": [
      "Лучшая модель: DecisionTreeClassifier(criterion='entropy', max_depth=6, min_samples_leaf=2,\n",
      "                       random_state=12345)\n",
      "Лучшая F1-мера дерева решений: 0.583\n"
     ]
    }
   ],
   "source": [
    "#Обучим дерево решений\n",
    "best_tree_model = None\n",
    "best_tree_f1 = 0\n",
    "\n",
    "#Определяем оптимальную модель\n",
    "for depth in range(1, 11):\n",
    "    for leaf in range(1, 10):\n",
    "        model = DecisionTreeClassifier(\n",
    "            random_state=12345,\n",
    "            criterion='entropy',\n",
    "            max_depth=depth,\n",
    "            min_samples_leaf=leaf)\n",
    "        model.fit(features_train, target_train)\n",
    "        predictions = model.predict(features_valid)\n",
    "        f1 = f1_score(target_valid, predictions)\n",
    "        if f1 > best_tree_f1:\n",
    "            best_tree_model = model\n",
    "            best_tree_f1 = f1\n",
    "            \n",
    "print(f'Лучшая модель: {best_tree_model}')\n",
    "print(f'Лучшая F1-мера дерева решений: {best_tree_f1:.3}')"
   ]
  },
  {
   "cell_type": "markdown",
   "metadata": {},
   "source": [
    "По условию задачи необходимо довести F1-меру на тестовой выборке до 0.59, а наш лучший результат на валидационной выборке 0.583 — дерево решений не подходит. Посмотрим, как справится случайный лес."
   ]
  },
  {
   "cell_type": "code",
   "execution_count": 14,
   "metadata": {},
   "outputs": [
    {
     "name": "stdout",
     "output_type": "stream",
     "text": [
      "Лучшая модель: RandomForestClassifier(max_depth=9, min_samples_leaf=8, n_estimators=11,\n",
      "                       random_state=12345)\n",
      "Лучшая F1-мера случайного леса: 0.589\n"
     ]
    }
   ],
   "source": [
    "#Обучим случайный лес\n",
    "best_forest_model = None\n",
    "best_forest_f1 = 0\n",
    "\n",
    "#Определяем оптимальную модель\n",
    "for depth in range(1, 11):\n",
    "    for est in range(1, 101, 10):\n",
    "        for leaf in range(1, 10):\n",
    "            model = RandomForestClassifier(\n",
    "                random_state=12345,\n",
    "                max_depth=depth,\n",
    "                n_estimators=est,\n",
    "                min_samples_leaf=leaf)\n",
    "            model.fit(features_train, target_train)\n",
    "            predictions = model.predict(features_valid)\n",
    "            f1 = f1_score(target_valid, predictions)\n",
    "            if f1 > best_forest_f1:\n",
    "                best_forest_f1 = f1\n",
    "                best_forest_model = model\n",
    "\n",
    "print(f'Лучшая модель: {best_forest_model}')            \n",
    "print(f'Лучшая F1-мера случайного леса: {best_forest_f1:.3}')"
   ]
  },
  {
   "cell_type": "markdown",
   "metadata": {},
   "source": [
    "Лучшая модель случайного леса выдала F1-меру 0.589, такая модель близка, но не подходит по условию задачи."
   ]
  },
  {
   "cell_type": "code",
   "execution_count": 15,
   "metadata": {},
   "outputs": [
    {
     "name": "stdout",
     "output_type": "stream",
     "text": [
      "Лучшая модель: LogisticRegression(max_iter=1000, random_state=12345)\n",
      "Лучшая F1-мера логистической регрессии: 0.304\n"
     ]
    }
   ],
   "source": [
    "#Обучим логистическую регрессию\n",
    "best_regression_model = None\n",
    "best_regression_f1 = 0\n",
    "\n",
    "#Определяем оптимальную модель\n",
    "for iter in range(1000, 100000, 2000):\n",
    "    for solver in ['lbfgs', 'liblinear']:\n",
    "        model = LogisticRegression(\n",
    "            random_state=12345,\n",
    "            solver=solver,\n",
    "            max_iter=iter)\n",
    "        model.fit(features_train, target_train)\n",
    "        predictions = model.predict(features_valid)\n",
    "        f1 = f1_score(target_valid, predictions)\n",
    "        if f1 > best_regression_f1:\n",
    "            best_regression_f1 = f1\n",
    "            best_regression_model = model\n",
    "        \n",
    "print(f'Лучшая модель: {best_regression_model}')\n",
    "print(f'Лучшая F1-мера логистической регрессии: {best_regression_f1:.3}')"
   ]
  },
  {
   "cell_type": "markdown",
   "metadata": {},
   "source": [
    "Как и в предыдущем проекте, модель логистической регрессии показывает себя гораздо хуже дерева решений и случайного леса — значение F1-меры = 0.304."
   ]
  },
  {
   "cell_type": "markdown",
   "metadata": {},
   "source": [
    "### Вывод:\n",
    "Топ моделей без учета дисбаланса классов выглядит следующим образом:\n",
    "1. Модель случайного леса показала лучший результат и почти справилась с поставленной задачей — добилась показателя F1-меры в 0.589, хоть и на валидационной выборке, а не на тестовой. Тестовую мы оставили для моделей, учитывающих дисбаланс классов.\n",
    "2. Модель дерева решений была близка, но также не справилась с задачей, добившись лучшего показателя F1-меры в 0.583.\n",
    "3. Последнее место за моделью логистической регрессии, показавшей себя провально с результатами F1-меры в 0.304."
   ]
  },
  {
   "cell_type": "markdown",
   "metadata": {},
   "source": [
    "## Борьба с дисбалансом"
   ]
  },
  {
   "cell_type": "markdown",
   "metadata": {},
   "source": [
    "### Балансировка через `class_weight='balanced'`"
   ]
  },
  {
   "cell_type": "markdown",
   "metadata": {},
   "source": [
    "Займемся решением проблемы дисбаланса классов, после чего проверим модели еще раз.\n",
    "\n",
    "Для начала проверим, улучшится ли значение F1-мер, если добавить в модели гиперпараметр `class_weight='balanced'`"
   ]
  },
  {
   "cell_type": "code",
   "execution_count": 16,
   "metadata": {},
   "outputs": [
    {
     "name": "stdout",
     "output_type": "stream",
     "text": [
      "Лучшая модель: DecisionTreeClassifier(class_weight='balanced', criterion='entropy',\n",
      "                       max_depth=8, min_samples_leaf=9, random_state=12345)\n",
      "Лучшая F1-мера дерева решений: 0.575\n"
     ]
    }
   ],
   "source": [
    "#Обучим дерево решений\n",
    "best_tree_model = None\n",
    "best_tree_f1 = 0\n",
    "\n",
    "#Определяем оптимальную модель\n",
    "for depth in range(1, 11):\n",
    "    for leaf in range(1, 10):\n",
    "        model = DecisionTreeClassifier(\n",
    "            random_state=12345,\n",
    "            criterion='entropy',\n",
    "            max_depth=depth,\n",
    "            min_samples_leaf=leaf,\n",
    "            class_weight='balanced')\n",
    "        model.fit(features_train, target_train)\n",
    "        predictions = model.predict(features_valid)\n",
    "        f1 = f1_score(target_valid, predictions)\n",
    "        if f1 > best_tree_f1:\n",
    "            best_tree_model = model\n",
    "            best_tree_f1 = f1\n",
    "            \n",
    "print(f'Лучшая модель: {best_tree_model}')\n",
    "print(f'Лучшая F1-мера дерева решений: {best_tree_f1:.3}')"
   ]
  },
  {
   "cell_type": "markdown",
   "metadata": {},
   "source": [
    "F1-мера немного ухудшилась. Такой балансировки будет недостаточно для выполнения условия задачи по достижению показателя в 0.575 на тестовой выборке."
   ]
  },
  {
   "cell_type": "code",
   "execution_count": 17,
   "metadata": {},
   "outputs": [
    {
     "name": "stdout",
     "output_type": "stream",
     "text": [
      "Лучшая модель: RandomForestClassifier(class_weight='balanced', max_depth=9, min_samples_leaf=2,\n",
      "                       n_estimators=71, random_state=12345)\n",
      "Лучшая F1-мера случайного леса: 0.655\n"
     ]
    }
   ],
   "source": [
    "#Обучим случайный лес\n",
    "best_forest_model = None\n",
    "best_forest_f1 = 0\n",
    "\n",
    "#Определяем оптимальную модель\n",
    "for depth in range(1, 11):\n",
    "    for est in range(1, 101, 10):\n",
    "        for leaf in range(1, 10):\n",
    "            model = RandomForestClassifier(\n",
    "                random_state=12345,\n",
    "                max_depth=depth,\n",
    "                n_estimators=est,\n",
    "                min_samples_leaf=leaf,\n",
    "                class_weight='balanced')\n",
    "            model.fit(features_train, target_train)\n",
    "            predictions = model.predict(features_valid)\n",
    "            f1 = f1_score(target_valid, predictions)\n",
    "            if f1 > best_forest_f1:\n",
    "                best_forest_f1 = f1\n",
    "                best_forest_model = model\n",
    "\n",
    "print(f'Лучшая модель: {best_forest_model}')            \n",
    "print(f'Лучшая F1-мера случайного леса: {best_forest_f1:.3}')"
   ]
  },
  {
   "cell_type": "markdown",
   "metadata": {},
   "source": [
    "F1-мера значительно улучшилась и составила 0.655. Не терпится проверить модель на тестовой выборке."
   ]
  },
  {
   "cell_type": "code",
   "execution_count": 18,
   "metadata": {},
   "outputs": [
    {
     "name": "stdout",
     "output_type": "stream",
     "text": [
      "Лучшая модель: LogisticRegression(class_weight='balanced', max_iter=1000, random_state=12345)\n",
      "Лучшая F1-мера логистической регрессии: 0.51\n"
     ]
    }
   ],
   "source": [
    "#Обучим логистическую регрессию\n",
    "best_regression_model = None\n",
    "best_regression_f1 = 0\n",
    "\n",
    "#Определяем оптимальную модель\n",
    "for iter in range(1000, 100000, 2000):\n",
    "    for solver in ['lbfgs', 'liblinear']:\n",
    "        model = LogisticRegression(\n",
    "            random_state=12345,\n",
    "            solver=solver,\n",
    "            max_iter=iter,\n",
    "            class_weight='balanced')\n",
    "        model.fit(features_train, target_train)\n",
    "        predictions = model.predict(features_valid)\n",
    "        f1 = f1_score(target_valid, predictions)\n",
    "        if f1 > best_regression_f1:\n",
    "            best_regression_f1 = f1\n",
    "            best_regression_model = model\n",
    "        \n",
    "print(f'Лучшая модель: {best_regression_model}')\n",
    "print(f'Лучшая F1-мера логистической регрессии: {best_regression_f1:.3}')"
   ]
  },
  {
   "cell_type": "markdown",
   "metadata": {},
   "source": [
    "F1-мера модели логистической регрессии заметно улучшилась, но все еще остается самой низкой и не проходит по условию."
   ]
  },
  {
   "cell_type": "markdown",
   "metadata": {},
   "source": [
    "### Балансировка через upsampling"
   ]
  },
  {
   "cell_type": "markdown",
   "metadata": {},
   "source": [
    "Проверим еще два способа борьбы с дисбалансом классов:\n",
    "1. Upsampling;\n",
    "2. Downsampling.\n",
    "\n",
    "Начнем с upsampling."
   ]
  },
  {
   "cell_type": "code",
   "execution_count": 19,
   "metadata": {},
   "outputs": [],
   "source": [
    "#Пишем функцию\n",
    "def upsample(features, target, repeat):\n",
    "    features_zeros = features[target == 0]\n",
    "    features_ones = features[target == 1]\n",
    "    target_zeros = target[target == 0]\n",
    "    target_ones = target[target == 1]\n",
    "    features_upsampled = pd.concat(\n",
    "        [features_zeros] + [features_ones] * repeat)\n",
    "    target_upsampled = pd.concat(\n",
    "        [target_zeros] + [target_ones] * repeat)    \n",
    "    features_upsampled, target_upsampled = shuffle(\n",
    "        features_upsampled, target_upsampled, random_state=12345)\n",
    "    return features_upsampled, target_upsampled"
   ]
  },
  {
   "cell_type": "code",
   "execution_count": 20,
   "metadata": {},
   "outputs": [
    {
     "name": "stdout",
     "output_type": "stream",
     "text": [
      "(8832, 11)\n",
      "(8832,)\n"
     ]
    },
    {
     "data": {
      "image/png": "[encoded data removed]",
      "text/plain": [
       "<Figure size 432x288 with 1 Axes>"
      ]
     },
     "metadata": {
      "needs_background": "light"
     },
     "output_type": "display_data"
    }
   ],
   "source": [
    "#Применяем\n",
    "features_upsampled, target_upsampled = upsample(\n",
    "    features_train, target_train, 4)\n",
    "\n",
    "#Проверяем баланс классов\n",
    "print(features_upsampled.shape)\n",
    "print(target_upsampled.shape)\n",
    "\n",
    "target_frequency_upsampled = target_upsampled\\\n",
    ".value_counts(normalize=True)\\\n",
    ".plot(kind='bar')\n",
    "plt.xlabel('Класс')\n",
    "plt.ylabel('Частота')\n",
    "plt.title('Баланс классов')\n",
    "plt.show()"
   ]
  },
  {
   "cell_type": "markdown",
   "metadata": {},
   "source": [
    "Баланс классов значительно улучшился. Обучим модели по сбалансированным выборкам."
   ]
  },
  {
   "cell_type": "code",
   "execution_count": 21,
   "metadata": {},
   "outputs": [
    {
     "name": "stdout",
     "output_type": "stream",
     "text": [
      "Лучшая модель: DecisionTreeClassifier(criterion='entropy', max_depth=7, min_samples_leaf=9,\n",
      "                       random_state=12345)\n",
      "Лучшая F1-мера дерева решений: 0.567\n"
     ]
    }
   ],
   "source": [
    "#Обучим дерево решений\n",
    "best_tree_model = None\n",
    "best_tree_f1 = 0\n",
    "\n",
    "#Определяем оптимальную модель\n",
    "for depth in range(1, 11):\n",
    "    for leaf in range(1, 10):\n",
    "        model = DecisionTreeClassifier(\n",
    "            random_state=12345,\n",
    "            criterion='entropy',\n",
    "            max_depth=depth,\n",
    "            min_samples_leaf=leaf)\n",
    "        model.fit(features_upsampled, target_upsampled)\n",
    "        predictions = model.predict(features_valid)\n",
    "        f1 = f1_score(target_valid, predictions)\n",
    "        if f1 > best_tree_f1:\n",
    "            best_tree_model = model\n",
    "            best_tree_f1 = f1\n",
    "            \n",
    "print(f'Лучшая модель: {best_tree_model}')\n",
    "print(f'Лучшая F1-мера дерева решений: {best_tree_f1:.3}')"
   ]
  },
  {
   "cell_type": "markdown",
   "metadata": {},
   "source": [
    "F1-мера дерева решений немного ухудшилась по сравнению с моделью, сбалансированной через `class_weight='balanced'`."
   ]
  },
  {
   "cell_type": "code",
   "execution_count": 22,
   "metadata": {},
   "outputs": [
    {
     "name": "stdout",
     "output_type": "stream",
     "text": [
      "Лучшая модель: RandomForestClassifier(max_depth=10, min_samples_leaf=9, n_estimators=71,\n",
      "                       random_state=12345)\n",
      "Лучшая F1-мера случайного леса: 0.638\n"
     ]
    }
   ],
   "source": [
    "#Обучим случайный лес\n",
    "best_forest_model = None\n",
    "best_forest_f1 = 0\n",
    "\n",
    "#Определяем оптимальную модель\n",
    "for depth in range(1, 11):\n",
    "    for est in range(1, 101, 10):\n",
    "        for leaf in range(1, 10):\n",
    "                model = RandomForestClassifier(\n",
    "                    random_state=12345,\n",
    "                    max_depth=depth,\n",
    "                    n_estimators=est,\n",
    "                    min_samples_leaf=leaf)\n",
    "                model.fit(features_upsampled, target_upsampled)\n",
    "                predictions = model.predict(features_valid)\n",
    "                f1 = f1_score(target_valid, predictions)\n",
    "                if f1 > best_forest_f1:\n",
    "                    best_forest_f1 = f1\n",
    "                    best_forest_model = model\n",
    "\n",
    "print(f'Лучшая модель: {best_forest_model}')            \n",
    "print(f'Лучшая F1-мера случайного леса: {best_forest_f1:.3}')"
   ]
  },
  {
   "cell_type": "markdown",
   "metadata": {},
   "source": [
    "F1-мера немного ниже меры модели с `class_weight='balanced'`."
   ]
  },
  {
   "cell_type": "code",
   "execution_count": 23,
   "metadata": {},
   "outputs": [
    {
     "name": "stdout",
     "output_type": "stream",
     "text": [
      "Лучшая модель: LogisticRegression(max_iter=1000, random_state=12345)\n",
      "Лучшая F1-мера логистической регрессии: 0.509\n"
     ]
    }
   ],
   "source": [
    "#Обучим логистическую регрессию\n",
    "best_regression_model = None\n",
    "best_regression_f1 = 0\n",
    "\n",
    "#Определяем оптимальную модель\n",
    "for iter in range(1000, 100000, 2000):\n",
    "    for solver in ['lbfgs', 'liblinear']:\n",
    "        model = LogisticRegression(\n",
    "            random_state=12345,\n",
    "            solver=solver,\n",
    "            max_iter=iter)\n",
    "        model.fit(features_upsampled, target_upsampled)\n",
    "        predictions = model.predict(features_valid)\n",
    "        f1 = f1_score(target_valid, predictions)\n",
    "        if f1 > best_regression_f1:\n",
    "            best_regression_f1 = f1\n",
    "            best_regression_model = model\n",
    "        \n",
    "print(f'Лучшая модель: {best_regression_model}')\n",
    "print(f'Лучшая F1-мера логистической регрессии: {best_regression_f1:.3}')"
   ]
  },
  {
   "cell_type": "markdown",
   "metadata": {},
   "source": [
    "F1-мера немного ухудшилась по сравнению с моделью с `class_weight='balanced'`"
   ]
  },
  {
   "cell_type": "markdown",
   "metadata": {},
   "source": [
    "**Вывод:**\n",
    "\n",
    "Результат неожиданный. Апсемплинг ухудшил результаты всех лучших моделей."
   ]
  },
  {
   "cell_type": "markdown",
   "metadata": {},
   "source": [
    "### Балансировка через downsampling"
   ]
  },
  {
   "cell_type": "markdown",
   "metadata": {},
   "source": [
    "Попробуем downsampling и проверим результаты моделей."
   ]
  },
  {
   "cell_type": "code",
   "execution_count": 24,
   "metadata": {},
   "outputs": [],
   "source": [
    "#Пишем функцию\n",
    "def downsample(features, target, fraction):\n",
    "    features_zeros = features[target == 0]\n",
    "    features_ones = features[target == 1]\n",
    "    target_zeros = target[target == 0]\n",
    "    target_ones = target[target == 1]\n",
    "    features_downsampled = pd.concat(\n",
    "        [features_zeros.sample(\n",
    "            frac=fraction, random_state=12345)] + [features_ones])\n",
    "    target_downsampled = pd.concat(\n",
    "        [target_zeros.sample(\n",
    "            frac=fraction, random_state=12345)] + [target_ones])\n",
    "    features_downsampled, target_downsampled = shuffle(\n",
    "        features_downsampled, target_downsampled, random_state=12345)\n",
    "    return features_downsampled, target_downsampled"
   ]
  },
  {
   "cell_type": "code",
   "execution_count": 25,
   "metadata": {},
   "outputs": [
    {
     "name": "stdout",
     "output_type": "stream",
     "text": [
      "(2251, 11)\n",
      "(2251,)\n"
     ]
    },
    {
     "data": {
      "image/png": "[encoded data removed]",
      "text/plain": [
       "<Figure size 432x288 with 1 Axes>"
      ]
     },
     "metadata": {
      "needs_background": "light"
     },
     "output_type": "display_data"
    }
   ],
   "source": [
    "#Применяем функцию\n",
    "features_downsampled, target_downsampled = downsample(features_train, target_train, 0.26)\n",
    "\n",
    "#Проверяем баланс классов\n",
    "target_class_frequency = target_downsampled.value_counts(normalize=True)\n",
    "print(features_downsampled.shape)\n",
    "print(target_downsampled.shape)\n",
    "\n",
    "target_frequency_downsampled = target_downsampled\\\n",
    ".value_counts(normalize=True)\\\n",
    ".plot(kind='bar')\n",
    "plt.xlabel('Класс')\n",
    "plt.ylabel('Частота')\n",
    "plt.title('Баланс классов')\n",
    "plt.show()"
   ]
  },
  {
   "cell_type": "markdown",
   "metadata": {},
   "source": [
    "Классы сбалансированы. Обучим модели по сбалансированным выборкам."
   ]
  },
  {
   "cell_type": "code",
   "execution_count": 26,
   "metadata": {},
   "outputs": [
    {
     "name": "stdout",
     "output_type": "stream",
     "text": [
      "Лучшая модель: DecisionTreeClassifier(criterion='entropy', max_depth=6, min_samples_leaf=7,\n",
      "                       random_state=12345)\n",
      "Лучшая F1-мера дерева решений: 0.593\n"
     ]
    }
   ],
   "source": [
    "#Обучим дерево решений\n",
    "best_tree_model = None\n",
    "best_tree_f1 = 0\n",
    "\n",
    "#Определяем оптимальную модель\n",
    "for depth in range(1, 11):\n",
    "    for leaf in range(1, 10):\n",
    "            model = DecisionTreeClassifier(\n",
    "                random_state=12345,\n",
    "                criterion='entropy',\n",
    "                max_depth=depth,\n",
    "                min_samples_leaf=leaf)\n",
    "            model.fit(features_downsampled, target_downsampled)\n",
    "            predictions = model.predict(features_valid)\n",
    "            f1 = f1_score(target_valid, predictions)\n",
    "            if f1 > best_tree_f1:\n",
    "                best_tree_model = model\n",
    "                best_tree_f1 = f1\n",
    "            \n",
    "print(f'Лучшая модель: {best_tree_model}')\n",
    "print(f'Лучшая F1-мера дерева решений: {best_tree_f1:.3}')"
   ]
  },
  {
   "cell_type": "markdown",
   "metadata": {},
   "source": [
    "Даунсемплинг пошел на пользу модели дерева решений.  \n",
    "F1-мера теперь проходит по условию задачи и составляет 0.593.  "
   ]
  },
  {
   "cell_type": "code",
   "execution_count": 27,
   "metadata": {},
   "outputs": [
    {
     "name": "stdout",
     "output_type": "stream",
     "text": [
      "Лучшая модель: RandomForestClassifier(max_depth=10, min_samples_leaf=6, n_estimators=91,\n",
      "                       random_state=12345)\n",
      "Лучшая F1-мера случайного леса: 0.613\n"
     ]
    }
   ],
   "source": [
    "#Обучим случайный лес\n",
    "best_forest_model = None\n",
    "best_forest_f1 = 0\n",
    "\n",
    "#Определяем оптимальную модель\n",
    "for depth in range(1, 11):\n",
    "    for est in range(1, 101, 10):\n",
    "        for leaf in range(1, 10):\n",
    "            model = RandomForestClassifier(\n",
    "                random_state=12345,\n",
    "                max_depth=depth,\n",
    "                n_estimators=est,\n",
    "                min_samples_leaf=leaf)\n",
    "            model.fit(features_downsampled, target_downsampled)\n",
    "            predictions = model.predict(features_valid)\n",
    "            f1 = f1_score(target_valid, predictions)\n",
    "            if f1 > best_forest_f1:\n",
    "                best_forest_f1 = f1\n",
    "                best_forest_model = model\n",
    "                \n",
    "print(f'Лучшая модель: {best_forest_model}')            \n",
    "print(f'Лучшая F1-мера случайного леса: {best_forest_f1:.3}')"
   ]
  },
  {
   "cell_type": "markdown",
   "metadata": {},
   "source": [
    "F1-мера ухудшилась по сравнению с моделями с `class_weight='balanced'` и апсемплингом.\n",
    "Использовать эту модель мы не будем, хоть она и проходит по условию."
   ]
  },
  {
   "cell_type": "code",
   "execution_count": 28,
   "metadata": {},
   "outputs": [
    {
     "name": "stdout",
     "output_type": "stream",
     "text": [
      "Лучшая модель: LogisticRegression(max_iter=1000, random_state=12345)\n",
      "Лучшая F1-мера логистической регрессии: 0.502\n"
     ]
    }
   ],
   "source": [
    "#Обучим логистическую регрессию\n",
    "best_regression_model = None\n",
    "best_regression_f1 = 0\n",
    "\n",
    "#Определяем оптимальную модель\n",
    "for iter in range(1000, 100000, 2000):\n",
    "    for solver in ['lbfgs', 'liblinear']:\n",
    "        model = LogisticRegression(\n",
    "            random_state=12345,\n",
    "            solver=solver,\n",
    "            max_iter=iter)\n",
    "        model.fit(features_downsampled, target_downsampled)\n",
    "        predictions = model.predict(features_valid)\n",
    "        f1 = f1_score(target_valid, predictions)\n",
    "        if f1 > best_regression_f1:\n",
    "            best_regression_f1 = f1\n",
    "            best_regression_model = model\n",
    "        \n",
    "print(f'Лучшая модель: {best_regression_model}')\n",
    "print(f'Лучшая F1-мера логистической регрессии: {best_regression_f1:.3}')"
   ]
  },
  {
   "cell_type": "markdown",
   "metadata": {},
   "source": [
    "Значительных изменений нет, модель по-прежнему не проходит. Забудем о логистической регрессии."
   ]
  },
  {
   "cell_type": "markdown",
   "metadata": {},
   "source": [
    "### Вывод:\n",
    "Мы проверили несколько способов балансировки классов перед обучением моделей и у нас есть 2 модели, проходящие по условию задания — дерево решений с даунсемплингом и случайный лес с балансировкой гиперпараметром `class_weight='balanced'`. Тем не менее, нам нужно выбрать лучшую для тестирования и ей стала модель случайного леса — `RandomForestClassifier(class_weight='balanced', max_depth=9, min_samples_leaf=2, n_estimators=71, random_state=12345)`"
   ]
  },
  {
   "cell_type": "markdown",
   "metadata": {},
   "source": [
    "## Тестирование модели"
   ]
  },
  {
   "cell_type": "markdown",
   "metadata": {},
   "source": [
    "Наконец мы добрались до тестирования лучшей модели на тестовых выборках, приступим."
   ]
  },
  {
   "cell_type": "code",
   "execution_count": 29,
   "metadata": {},
   "outputs": [
    {
     "name": "stdout",
     "output_type": "stream",
     "text": [
      "Лучшая F1-мера случайного леса: 0.607\n",
      "Значение recall случайного леса: 0.664\n",
      "Площадь ROC-кривой: 0.859\n"
     ]
    }
   ],
   "source": [
    "#Тестируем лучшую модель случайного леса\n",
    "model = RandomForestClassifier(\n",
    "    class_weight='balanced',\n",
    "    max_depth=9,\n",
    "    min_samples_leaf=2,\n",
    "    n_estimators=71,\n",
    "    random_state=12345)\n",
    "model.fit(features_train, target_train)\n",
    "predictions = model.predict(features_test)\n",
    "f1 = f1_score(target_test, predictions)\n",
    "recall = recall_score(target_test, predictions)\n",
    "probabilities = model.predict_proba(features_test)\n",
    "probabilities_one = probabilities[:, 1]\n",
    "\n",
    "print(f'Лучшая F1-мера случайного леса: {f1:.3}')\n",
    "print(f'Значение recall случайного леса: {recall:.3}')\n",
    "print(f'Площадь ROC-кривой: {roc_auc_score(target_test, probabilities_one):.3}')"
   ]
  },
  {
   "cell_type": "code",
   "execution_count": 30,
   "metadata": {},
   "outputs": [
    {
     "name": "stdout",
     "output_type": "stream",
     "text": [
      "F1-мера константной модели: 0.324\n"
     ]
    }
   ],
   "source": [
    "#Находим F1-меру константной модели\n",
    "dummy_model = DummyClassifier(strategy='constant', constant=1)\n",
    "dummy_model.fit(features_train, target_train)\n",
    "\n",
    "print(f'F1-мера константной модели: {f1_score(dummy_model.predict(features_test), target_test):.3}')"
   ]
  },
  {
   "cell_type": "markdown",
   "metadata": {},
   "source": [
    "**Решение проходит, F1-мера больше 0.59.** F1-мера нашей модели существенно превосходит F1-меру константной, наша модель работает значительно лучше.\n",
    "\n",
    "Значение полноты (recall) в 0.664 говорит о верном детектировании 66% клиентов на отток, что не так и много, если подумать — есть над чем работать.  \n",
    "\n",
    "ROC-AUC = 0.859 говорит о хорошем качестве модели."
   ]
  },
  {
   "cell_type": "markdown",
   "metadata": {},
   "source": [
    "### Вывод:\n",
    "Дерево решений не справилось, а случайный лес наоборот выполнил задачу и набрал необходимую F1-меру в 0.596, тем самым выполнив задачу проекта."
   ]
  },
  {
   "cell_type": "markdown",
   "metadata": {},
   "source": [
    "## Общий вывод:\n",
    "\n",
    "Мы справились с поставленной задачей, в ходе которой сделали следующее:\n",
    "1. Подготовили данные для обучения моделей — удалили лишние столбцы, строки с пропусками, разделили датафрейм на выборки, применили OHE к категориальным столбцам, масштабировали количественные признаки для обучения моделей;\n",
    "2. Исследовали дисбаланс классов и обучили три типа моделей без учета дисбаланса классов;\n",
    "3. Применили три типа балансировки классов: через `class_weight='balanced'`, через *upsampling* и через *downsampling* и обучили по три типа моделей для каждого типа балансировки, выявив лучшую модель для прохождения финального тестирования — случайный лес с балансировкой через `class_weight='balanced'`.\n",
    "4. Протестировали модель случайного леса с гиперпараметрами `RandomForestClassifier(class_weight='balanced', max_depth=9, min_samples_leaf=2, n_estimators=71, random_state=12345)` и добились значения F1-меры = 0.607 и ROC-AUC = 0.859, что говорит о выполнении задачи по достижению F1-меры в 0.59 и о хорошем качестве модели соответственно."
   ]
  }
 ],
 "metadata": {
  "ExecuteTimeLog": [
   {
    "duration": 1009,
    "start_time": "2023-04-04T01:08:10.737Z"
   },
   {
    "duration": 178,
    "start_time": "2023-04-04T01:09:18.230Z"
   },
   {
    "duration": 52,
    "start_time": "2023-04-04T01:09:43.607Z"
   },
   {
    "duration": 50,
    "start_time": "2023-04-04T01:10:31.809Z"
   },
   {
    "duration": 12,
    "start_time": "2023-04-04T01:10:42.496Z"
   },
   {
    "duration": 10,
    "start_time": "2023-04-04T01:12:21.462Z"
   },
   {
    "duration": 101,
    "start_time": "2023-04-04T01:17:11.210Z"
   },
   {
    "duration": 857,
    "start_time": "2023-04-04T01:17:22.226Z"
   },
   {
    "duration": 4,
    "start_time": "2023-04-04T01:17:29.458Z"
   },
   {
    "duration": 6,
    "start_time": "2023-04-04T01:17:45.217Z"
   },
   {
    "duration": 5,
    "start_time": "2023-04-04T01:17:50.360Z"
   },
   {
    "duration": 4,
    "start_time": "2023-04-04T01:17:57.777Z"
   },
   {
    "duration": 4,
    "start_time": "2023-04-04T01:22:12.115Z"
   },
   {
    "duration": 4,
    "start_time": "2023-04-04T01:26:33.185Z"
   },
   {
    "duration": 14,
    "start_time": "2023-04-04T01:28:01.959Z"
   },
   {
    "duration": 12,
    "start_time": "2023-04-04T01:28:21.567Z"
   },
   {
    "duration": 11,
    "start_time": "2023-04-04T01:28:47.727Z"
   },
   {
    "duration": 10,
    "start_time": "2023-04-04T01:28:49.831Z"
   },
   {
    "duration": 9,
    "start_time": "2023-04-04T01:30:54.278Z"
   },
   {
    "duration": 15,
    "start_time": "2023-04-04T01:31:06.500Z"
   },
   {
    "duration": 1119,
    "start_time": "2023-04-04T01:31:48.266Z"
   },
   {
    "duration": 59,
    "start_time": "2023-04-04T01:31:49.388Z"
   },
   {
    "duration": 11,
    "start_time": "2023-04-04T01:31:49.451Z"
   },
   {
    "duration": 3,
    "start_time": "2023-04-04T01:31:49.464Z"
   },
   {
    "duration": 30,
    "start_time": "2023-04-04T01:31:49.468Z"
   },
   {
    "duration": 15,
    "start_time": "2023-04-04T01:31:49.500Z"
   },
   {
    "duration": 13,
    "start_time": "2023-04-04T01:33:09.309Z"
   },
   {
    "duration": 10,
    "start_time": "2023-04-04T01:41:49.148Z"
   },
   {
    "duration": 4,
    "start_time": "2023-04-04T01:42:19.956Z"
   },
   {
    "duration": 1063,
    "start_time": "2023-04-04T01:52:41.948Z"
   },
   {
    "duration": 56,
    "start_time": "2023-04-04T01:52:43.013Z"
   },
   {
    "duration": 12,
    "start_time": "2023-04-04T01:52:43.071Z"
   },
   {
    "duration": 5,
    "start_time": "2023-04-04T01:52:43.084Z"
   },
   {
    "duration": 11,
    "start_time": "2023-04-04T01:52:43.091Z"
   },
   {
    "duration": 14,
    "start_time": "2023-04-04T01:52:43.103Z"
   },
   {
    "duration": 18,
    "start_time": "2023-04-04T01:52:49.083Z"
   },
   {
    "duration": 1071,
    "start_time": "2023-04-04T01:54:13.055Z"
   },
   {
    "duration": 57,
    "start_time": "2023-04-04T01:54:14.128Z"
   },
   {
    "duration": 11,
    "start_time": "2023-04-04T01:54:15.496Z"
   },
   {
    "duration": 4,
    "start_time": "2023-04-04T01:54:18.176Z"
   },
   {
    "duration": 12,
    "start_time": "2023-04-04T01:54:20.024Z"
   },
   {
    "duration": 14,
    "start_time": "2023-04-04T01:54:22.000Z"
   },
   {
    "duration": 16,
    "start_time": "2023-04-04T01:54:23.599Z"
   },
   {
    "duration": 1124,
    "start_time": "2023-04-04T01:54:34.848Z"
   },
   {
    "duration": 57,
    "start_time": "2023-04-04T01:54:35.973Z"
   },
   {
    "duration": 10,
    "start_time": "2023-04-04T01:54:36.032Z"
   },
   {
    "duration": 12,
    "start_time": "2023-04-04T01:54:36.043Z"
   },
   {
    "duration": 16,
    "start_time": "2023-04-04T01:54:36.056Z"
   },
   {
    "duration": 14,
    "start_time": "2023-04-04T01:54:36.073Z"
   },
   {
    "duration": 4,
    "start_time": "2023-04-04T01:55:02.679Z"
   },
   {
    "duration": 18,
    "start_time": "2023-04-04T01:55:10.545Z"
   },
   {
    "duration": 50,
    "start_time": "2023-04-04T01:55:54.566Z"
   },
   {
    "duration": 14,
    "start_time": "2023-04-04T01:56:24.054Z"
   },
   {
    "duration": 5,
    "start_time": "2023-04-04T01:57:41.631Z"
   },
   {
    "duration": 108,
    "start_time": "2023-04-04T02:01:18.633Z"
   },
   {
    "duration": 5,
    "start_time": "2023-04-04T02:01:51.856Z"
   },
   {
    "duration": 18,
    "start_time": "2023-04-04T02:01:53.977Z"
   },
   {
    "duration": 1016,
    "start_time": "2023-04-04T02:02:15.828Z"
   },
   {
    "duration": 57,
    "start_time": "2023-04-04T02:02:16.846Z"
   },
   {
    "duration": 11,
    "start_time": "2023-04-04T02:02:16.905Z"
   },
   {
    "duration": 13,
    "start_time": "2023-04-04T02:02:16.917Z"
   },
   {
    "duration": 33,
    "start_time": "2023-04-04T02:02:16.932Z"
   },
   {
    "duration": 22,
    "start_time": "2023-04-04T02:02:16.966Z"
   },
   {
    "duration": 30,
    "start_time": "2023-04-04T02:02:16.989Z"
   },
   {
    "duration": 16,
    "start_time": "2023-04-04T02:02:17.020Z"
   },
   {
    "duration": 6,
    "start_time": "2023-04-04T02:02:19.449Z"
   },
   {
    "duration": 4674,
    "start_time": "2023-04-04T14:25:14.077Z"
   },
   {
    "duration": 2026,
    "start_time": "2023-04-04T15:02:08.845Z"
   },
   {
    "duration": 210,
    "start_time": "2023-04-04T15:02:10.874Z"
   },
   {
    "duration": 14,
    "start_time": "2023-04-04T15:02:11.086Z"
   },
   {
    "duration": 26,
    "start_time": "2023-04-04T15:02:11.102Z"
   },
   {
    "duration": 33,
    "start_time": "2023-04-04T15:02:11.130Z"
   },
   {
    "duration": 19,
    "start_time": "2023-04-04T15:02:11.165Z"
   },
   {
    "duration": 19,
    "start_time": "2023-04-04T15:02:19.367Z"
   },
   {
    "duration": 14,
    "start_time": "2023-04-04T15:02:26.794Z"
   },
   {
    "duration": 6,
    "start_time": "2023-04-04T15:02:53.648Z"
   },
   {
    "duration": 5,
    "start_time": "2023-04-04T15:03:02.885Z"
   },
   {
    "duration": 5,
    "start_time": "2023-04-04T15:03:19.537Z"
   },
   {
    "duration": 5,
    "start_time": "2023-04-04T15:03:33.520Z"
   },
   {
    "duration": 13,
    "start_time": "2023-04-04T15:04:27.792Z"
   },
   {
    "duration": 12,
    "start_time": "2023-04-04T15:04:46.167Z"
   },
   {
    "duration": 6,
    "start_time": "2023-04-04T16:09:04.764Z"
   },
   {
    "duration": 128,
    "start_time": "2023-04-04T16:09:13.555Z"
   },
   {
    "duration": 13,
    "start_time": "2023-04-04T16:09:23.101Z"
   },
   {
    "duration": 69,
    "start_time": "2023-04-04T16:09:26.476Z"
   },
   {
    "duration": 16,
    "start_time": "2023-04-04T16:09:29.177Z"
   },
   {
    "duration": 11,
    "start_time": "2023-04-04T16:12:26.868Z"
   },
   {
    "duration": 1920,
    "start_time": "2023-04-04T16:13:10.419Z"
   },
   {
    "duration": 14,
    "start_time": "2023-04-04T16:13:19.787Z"
   },
   {
    "duration": 40,
    "start_time": "2023-04-04T16:13:45.145Z"
   },
   {
    "duration": 40,
    "start_time": "2023-04-04T16:14:11.684Z"
   },
   {
    "duration": 9,
    "start_time": "2023-04-04T17:25:29.414Z"
   },
   {
    "duration": 12,
    "start_time": "2023-04-04T17:25:37.630Z"
   },
   {
    "duration": 848,
    "start_time": "2023-04-04T17:26:26.265Z"
   },
   {
    "duration": 11,
    "start_time": "2023-04-04T17:26:35.720Z"
   },
   {
    "duration": 11,
    "start_time": "2023-04-04T17:26:45.207Z"
   },
   {
    "duration": 135,
    "start_time": "2023-04-04T17:26:53.024Z"
   },
   {
    "duration": 64,
    "start_time": "2023-04-04T17:27:23.839Z"
   },
   {
    "duration": 49,
    "start_time": "2023-04-04T17:27:27.550Z"
   },
   {
    "duration": 78,
    "start_time": "2023-04-04T17:27:31.030Z"
   },
   {
    "duration": 106,
    "start_time": "2023-04-04T17:27:42.406Z"
   },
   {
    "duration": 106,
    "start_time": "2023-04-04T17:28:38.205Z"
   },
   {
    "duration": 94,
    "start_time": "2023-04-04T17:28:56.814Z"
   },
   {
    "duration": 205,
    "start_time": "2023-04-04T17:29:47.036Z"
   },
   {
    "duration": 93,
    "start_time": "2023-04-04T17:29:48.794Z"
   },
   {
    "duration": 62,
    "start_time": "2023-04-04T17:30:50.094Z"
   },
   {
    "duration": 114,
    "start_time": "2023-04-04T17:35:01.040Z"
   },
   {
    "duration": 1948,
    "start_time": "2023-04-04T17:39:09.324Z"
   },
   {
    "duration": 3,
    "start_time": "2023-04-04T17:40:07.635Z"
   },
   {
    "duration": 50,
    "start_time": "2023-04-04T17:45:52.696Z"
   },
   {
    "duration": 121,
    "start_time": "2023-04-04T17:46:00.414Z"
   },
   {
    "duration": 4,
    "start_time": "2023-04-04T17:46:08.726Z"
   },
   {
    "duration": 54,
    "start_time": "2023-04-04T17:46:30.693Z"
   },
   {
    "duration": 23,
    "start_time": "2023-04-04T17:46:48.694Z"
   },
   {
    "duration": 43,
    "start_time": "2023-04-04T17:46:53.694Z"
   },
   {
    "duration": 14,
    "start_time": "2023-04-04T17:46:57.725Z"
   },
   {
    "duration": 18,
    "start_time": "2023-04-04T17:47:11.672Z"
   },
   {
    "duration": 141,
    "start_time": "2023-04-04T17:47:19.933Z"
   },
   {
    "duration": 18,
    "start_time": "2023-04-04T17:48:04.442Z"
   },
   {
    "duration": 306,
    "start_time": "2023-04-04T17:49:05.423Z"
   },
   {
    "duration": 323,
    "start_time": "2023-04-04T17:49:24.220Z"
   },
   {
    "duration": 11320,
    "start_time": "2023-04-04T17:58:32.695Z"
   },
   {
    "duration": 19,
    "start_time": "2023-04-04T18:00:08.961Z"
   },
   {
    "duration": 17665,
    "start_time": "2023-04-04T18:00:24.546Z"
   },
   {
    "duration": 2913,
    "start_time": "2023-04-04T18:02:40.192Z"
   },
   {
    "duration": 2823,
    "start_time": "2023-04-04T18:03:07.039Z"
   },
   {
    "duration": 3203,
    "start_time": "2023-04-04T18:04:56.898Z"
   },
   {
    "duration": 3175,
    "start_time": "2023-04-04T18:05:15.310Z"
   },
   {
    "duration": 28,
    "start_time": "2023-04-04T18:06:03.413Z"
   },
   {
    "duration": 63,
    "start_time": "2023-04-04T18:12:45.503Z"
   },
   {
    "duration": 162203,
    "start_time": "2023-04-04T18:13:08.390Z"
   },
   {
    "duration": 3194,
    "start_time": "2023-04-04T18:33:16.268Z"
   },
   {
    "duration": 3276,
    "start_time": "2023-04-04T18:33:32.301Z"
   },
   {
    "duration": 160233,
    "start_time": "2023-04-04T18:33:44.100Z"
   },
   {
    "duration": 157486,
    "start_time": "2023-04-04T18:37:34.291Z"
   },
   {
    "duration": 100,
    "start_time": "2023-04-04T18:49:50.028Z"
   },
   {
    "duration": 49056,
    "start_time": "2023-04-04T18:50:04.396Z"
   },
   {
    "duration": 50474,
    "start_time": "2023-04-04T18:51:42.883Z"
   },
   {
    "duration": 257712,
    "start_time": "2023-04-04T18:53:38.651Z"
   },
   {
    "duration": 52098,
    "start_time": "2023-04-04T18:59:07.261Z"
   },
   {
    "duration": 52555,
    "start_time": "2023-04-04T19:01:18.893Z"
   },
   {
    "duration": 85,
    "start_time": "2023-04-04T19:03:45.189Z"
   },
   {
    "duration": 14642,
    "start_time": "2023-04-04T20:08:29.526Z"
   },
   {
    "duration": 3521,
    "start_time": "2023-04-04T20:10:34.995Z"
   },
   {
    "duration": 169501,
    "start_time": "2023-04-04T20:11:09.264Z"
   },
   {
    "duration": 18303,
    "start_time": "2023-04-04T20:14:57.357Z"
   },
   {
    "duration": 95,
    "start_time": "2023-04-04T20:23:51.628Z"
   },
   {
    "duration": 6,
    "start_time": "2023-04-04T20:37:05.540Z"
   },
   {
    "duration": 114,
    "start_time": "2023-04-04T20:39:36.315Z"
   },
   {
    "duration": 103,
    "start_time": "2023-04-04T20:40:36.562Z"
   },
   {
    "duration": 105,
    "start_time": "2023-04-04T20:40:45.810Z"
   },
   {
    "duration": 108,
    "start_time": "2023-04-04T20:40:49.569Z"
   },
   {
    "duration": 104,
    "start_time": "2023-04-04T20:40:57.218Z"
   },
   {
    "duration": 221,
    "start_time": "2023-04-04T20:41:00.273Z"
   },
   {
    "duration": 108,
    "start_time": "2023-04-04T20:41:03.729Z"
   },
   {
    "duration": 116,
    "start_time": "2023-04-04T20:41:08.736Z"
   },
   {
    "duration": 102,
    "start_time": "2023-04-04T20:44:33.422Z"
   },
   {
    "duration": 43,
    "start_time": "2023-04-04T20:44:55.286Z"
   },
   {
    "duration": 18,
    "start_time": "2023-04-04T20:44:59.613Z"
   },
   {
    "duration": 60,
    "start_time": "2023-04-04T20:45:06.131Z"
   },
   {
    "duration": 100,
    "start_time": "2023-04-04T20:45:28.420Z"
   },
   {
    "duration": 3843,
    "start_time": "2023-04-04T20:50:02.009Z"
   },
   {
    "duration": 4443,
    "start_time": "2023-04-04T20:50:44.121Z"
   },
   {
    "duration": 144,
    "start_time": "2023-04-04T20:52:15.938Z"
   },
   {
    "duration": 7993,
    "start_time": "2023-04-04T20:52:21.638Z"
   },
   {
    "duration": 430534,
    "start_time": "2023-04-04T20:53:45.911Z"
   },
   {
    "duration": 40817,
    "start_time": "2023-04-04T21:01:52.039Z"
   },
   {
    "duration": 30,
    "start_time": "2023-04-04T21:13:16.918Z"
   },
   {
    "duration": 8646,
    "start_time": "2023-04-04T21:13:20.125Z"
   },
   {
    "duration": 417018,
    "start_time": "2023-04-04T21:15:05.013Z"
   },
   {
    "duration": 44684,
    "start_time": "2023-04-04T21:22:53.558Z"
   },
   {
    "duration": 4,
    "start_time": "2023-04-04T21:28:45.879Z"
   },
   {
    "duration": 116,
    "start_time": "2023-04-04T21:28:47.198Z"
   },
   {
    "duration": 98,
    "start_time": "2023-04-04T21:28:54.831Z"
   },
   {
    "duration": 106,
    "start_time": "2023-04-04T21:28:58.439Z"
   },
   {
    "duration": 140,
    "start_time": "2023-04-04T21:29:02.551Z"
   },
   {
    "duration": 106,
    "start_time": "2023-04-04T21:29:07.191Z"
   },
   {
    "duration": 192,
    "start_time": "2023-04-04T21:29:11.231Z"
   },
   {
    "duration": 106,
    "start_time": "2023-04-04T21:29:14.343Z"
   },
   {
    "duration": 97,
    "start_time": "2023-04-04T21:29:16.967Z"
   },
   {
    "duration": 140,
    "start_time": "2023-04-04T21:29:22.743Z"
   },
   {
    "duration": 100,
    "start_time": "2023-04-04T21:29:28.998Z"
   },
   {
    "duration": 167,
    "start_time": "2023-04-04T21:29:32.887Z"
   },
   {
    "duration": 3722,
    "start_time": "2023-04-04T21:31:59.189Z"
   },
   {
    "duration": 208537,
    "start_time": "2023-04-04T21:32:29.012Z"
   },
   {
    "duration": 6950,
    "start_time": "2023-04-04T21:40:32.612Z"
   },
   {
    "duration": 26314,
    "start_time": "2023-04-04T21:40:51.333Z"
   },
   {
    "duration": 183,
    "start_time": "2023-04-04T21:49:12.612Z"
   },
   {
    "duration": 193,
    "start_time": "2023-04-04T21:50:02.731Z"
   },
   {
    "duration": 11,
    "start_time": "2023-04-04T21:51:34.226Z"
   },
   {
    "duration": 267,
    "start_time": "2023-04-04T21:51:40.242Z"
   },
   {
    "duration": 194,
    "start_time": "2023-04-04T21:51:48.930Z"
   },
   {
    "duration": 121,
    "start_time": "2023-04-04T21:52:22.697Z"
   },
   {
    "duration": 189,
    "start_time": "2023-04-04T21:52:29.169Z"
   },
   {
    "duration": 18,
    "start_time": "2023-04-04T21:53:54.096Z"
   },
   {
    "duration": 62,
    "start_time": "2023-04-04T21:55:55.439Z"
   },
   {
    "duration": 3454,
    "start_time": "2023-04-04T22:22:56.338Z"
   },
   {
    "duration": 64,
    "start_time": "2023-04-04T22:22:59.795Z"
   },
   {
    "duration": 15,
    "start_time": "2023-04-04T22:22:59.861Z"
   },
   {
    "duration": 5,
    "start_time": "2023-04-04T22:22:59.879Z"
   },
   {
    "duration": 20,
    "start_time": "2023-04-04T22:22:59.887Z"
   },
   {
    "duration": 41,
    "start_time": "2023-04-04T22:22:59.910Z"
   },
   {
    "duration": 23,
    "start_time": "2023-04-04T22:22:59.953Z"
   },
   {
    "duration": 15,
    "start_time": "2023-04-04T22:22:59.978Z"
   },
   {
    "duration": 15,
    "start_time": "2023-04-04T22:22:59.995Z"
   },
   {
    "duration": 55,
    "start_time": "2023-04-04T22:23:00.042Z"
   },
   {
    "duration": 129,
    "start_time": "2023-04-04T22:23:00.098Z"
   },
   {
    "duration": 3073,
    "start_time": "2023-04-04T22:23:00.229Z"
   },
   {
    "duration": 154703,
    "start_time": "2023-04-04T22:23:03.304Z"
   },
   {
    "duration": 537,
    "start_time": "2023-04-04T22:25:38.010Z"
   },
   {
    "duration": 0,
    "start_time": "2023-04-04T22:25:38.548Z"
   },
   {
    "duration": 0,
    "start_time": "2023-04-04T22:25:38.550Z"
   },
   {
    "duration": 0,
    "start_time": "2023-04-04T22:25:38.552Z"
   },
   {
    "duration": 0,
    "start_time": "2023-04-04T22:25:38.552Z"
   },
   {
    "duration": 0,
    "start_time": "2023-04-04T22:25:38.554Z"
   },
   {
    "duration": 0,
    "start_time": "2023-04-04T22:25:38.555Z"
   },
   {
    "duration": 0,
    "start_time": "2023-04-04T22:25:38.556Z"
   },
   {
    "duration": 0,
    "start_time": "2023-04-04T22:25:38.557Z"
   },
   {
    "duration": 0,
    "start_time": "2023-04-04T22:25:38.559Z"
   },
   {
    "duration": 1,
    "start_time": "2023-04-04T22:25:38.559Z"
   },
   {
    "duration": 0,
    "start_time": "2023-04-04T22:25:38.560Z"
   },
   {
    "duration": 0,
    "start_time": "2023-04-04T22:25:38.561Z"
   },
   {
    "duration": 0,
    "start_time": "2023-04-04T22:25:38.562Z"
   },
   {
    "duration": 0,
    "start_time": "2023-04-04T22:25:38.564Z"
   },
   {
    "duration": 0,
    "start_time": "2023-04-04T22:25:38.565Z"
   },
   {
    "duration": 18101,
    "start_time": "2023-04-04T22:25:59.853Z"
   },
   {
    "duration": 17461,
    "start_time": "2023-04-04T22:26:26.881Z"
   },
   {
    "duration": 3360,
    "start_time": "2023-04-04T22:26:44.344Z"
   },
   {
    "duration": 152828,
    "start_time": "2023-04-04T22:26:47.706Z"
   },
   {
    "duration": 305,
    "start_time": "2023-04-04T22:29:20.536Z"
   },
   {
    "duration": 0,
    "start_time": "2023-04-04T22:29:20.843Z"
   },
   {
    "duration": 0,
    "start_time": "2023-04-04T22:29:20.844Z"
   },
   {
    "duration": 0,
    "start_time": "2023-04-04T22:29:20.845Z"
   },
   {
    "duration": 1,
    "start_time": "2023-04-04T22:29:20.846Z"
   },
   {
    "duration": 0,
    "start_time": "2023-04-04T22:29:20.847Z"
   },
   {
    "duration": 0,
    "start_time": "2023-04-04T22:29:20.849Z"
   },
   {
    "duration": 0,
    "start_time": "2023-04-04T22:29:20.850Z"
   },
   {
    "duration": 0,
    "start_time": "2023-04-04T22:29:20.851Z"
   },
   {
    "duration": 0,
    "start_time": "2023-04-04T22:29:20.852Z"
   },
   {
    "duration": 0,
    "start_time": "2023-04-04T22:29:20.853Z"
   },
   {
    "duration": 0,
    "start_time": "2023-04-04T22:29:20.855Z"
   },
   {
    "duration": 0,
    "start_time": "2023-04-04T22:29:20.855Z"
   },
   {
    "duration": 20786,
    "start_time": "2023-04-04T22:29:36.062Z"
   },
   {
    "duration": 5,
    "start_time": "2023-04-04T22:30:05.502Z"
   },
   {
    "duration": 117,
    "start_time": "2023-04-04T22:30:05.509Z"
   },
   {
    "duration": 7699,
    "start_time": "2023-04-04T22:30:05.627Z"
   },
   {
    "duration": 418470,
    "start_time": "2023-04-04T22:30:13.328Z"
   },
   {
    "duration": 250,
    "start_time": "2023-04-04T22:37:11.800Z"
   },
   {
    "duration": 0,
    "start_time": "2023-04-04T22:37:12.052Z"
   },
   {
    "duration": 0,
    "start_time": "2023-04-04T22:37:12.053Z"
   },
   {
    "duration": 0,
    "start_time": "2023-04-04T22:37:12.054Z"
   },
   {
    "duration": 0,
    "start_time": "2023-04-04T22:37:12.054Z"
   },
   {
    "duration": 0,
    "start_time": "2023-04-04T22:37:12.055Z"
   },
   {
    "duration": 0,
    "start_time": "2023-04-04T22:37:12.055Z"
   },
   {
    "duration": 0,
    "start_time": "2023-04-04T22:37:12.055Z"
   },
   {
    "duration": 57563,
    "start_time": "2023-04-04T22:37:36.287Z"
   },
   {
    "duration": 89,
    "start_time": "2023-04-04T22:38:33.857Z"
   },
   {
    "duration": 200,
    "start_time": "2023-04-04T22:38:33.951Z"
   },
   {
    "duration": 3931,
    "start_time": "2023-04-04T22:38:34.153Z"
   },
   {
    "duration": 205419,
    "start_time": "2023-04-04T22:38:38.086Z"
   },
   {
    "duration": 336,
    "start_time": "2023-04-04T22:42:03.506Z"
   },
   {
    "duration": 0,
    "start_time": "2023-04-04T22:42:03.844Z"
   },
   {
    "duration": 0,
    "start_time": "2023-04-04T22:42:03.846Z"
   },
   {
    "duration": 27253,
    "start_time": "2023-04-04T22:42:52.294Z"
   },
   {
    "duration": 191,
    "start_time": "2023-04-04T22:43:24.063Z"
   },
   {
    "duration": 18,
    "start_time": "2023-04-04T22:43:24.256Z"
   },
   {
    "duration": 44,
    "start_time": "2023-04-05T16:08:41.823Z"
   },
   {
    "duration": 4156,
    "start_time": "2023-04-05T16:35:51.216Z"
   },
   {
    "duration": 92,
    "start_time": "2023-04-05T16:35:57.832Z"
   },
   {
    "duration": 14,
    "start_time": "2023-04-05T16:35:58.043Z"
   },
   {
    "duration": 4,
    "start_time": "2023-04-05T16:36:01.280Z"
   },
   {
    "duration": 12,
    "start_time": "2023-04-05T16:36:03.113Z"
   },
   {
    "duration": 16,
    "start_time": "2023-04-05T16:36:05.483Z"
   },
   {
    "duration": 19,
    "start_time": "2023-04-05T16:36:08.303Z"
   },
   {
    "duration": 14,
    "start_time": "2023-04-05T16:36:12.781Z"
   },
   {
    "duration": 17,
    "start_time": "2023-04-05T16:36:18.805Z"
   },
   {
    "duration": 47,
    "start_time": "2023-04-05T16:36:21.894Z"
   },
   {
    "duration": 41,
    "start_time": "2023-04-05T16:36:37.841Z"
   },
   {
    "duration": 15,
    "start_time": "2023-04-05T16:36:59.385Z"
   },
   {
    "duration": 11,
    "start_time": "2023-04-05T16:37:11.055Z"
   },
   {
    "duration": 11,
    "start_time": "2023-04-05T16:37:22.020Z"
   },
   {
    "duration": 10,
    "start_time": "2023-04-05T16:37:27.861Z"
   },
   {
    "duration": 41,
    "start_time": "2023-04-05T16:37:32.815Z"
   },
   {
    "duration": 69,
    "start_time": "2023-04-05T16:37:55.583Z"
   },
   {
    "duration": 116,
    "start_time": "2023-04-05T16:38:06.127Z"
   },
   {
    "duration": 102,
    "start_time": "2023-04-05T16:38:45.493Z"
   },
   {
    "duration": 104,
    "start_time": "2023-04-05T16:39:16.768Z"
   },
   {
    "duration": 11044,
    "start_time": "2023-04-05T17:52:23.006Z"
   },
   {
    "duration": 1192,
    "start_time": "2023-04-05T17:53:49.100Z"
   },
   {
    "duration": 3,
    "start_time": "2023-04-05T17:54:13.228Z"
   },
   {
    "duration": 51,
    "start_time": "2023-04-05T17:54:24.594Z"
   },
   {
    "duration": 14,
    "start_time": "2023-04-05T17:54:26.923Z"
   },
   {
    "duration": 5,
    "start_time": "2023-04-05T17:54:28.523Z"
   },
   {
    "duration": 13,
    "start_time": "2023-04-05T17:54:30.242Z"
   },
   {
    "duration": 19,
    "start_time": "2023-04-05T17:54:32.843Z"
   },
   {
    "duration": 111,
    "start_time": "2023-04-05T18:30:36.966Z"
   },
   {
    "duration": 14,
    "start_time": "2023-04-05T18:30:48.213Z"
   },
   {
    "duration": 32,
    "start_time": "2023-04-05T18:30:51.205Z"
   },
   {
    "duration": 11,
    "start_time": "2023-04-05T18:31:32.020Z"
   },
   {
    "duration": 11,
    "start_time": "2023-04-05T18:31:51.164Z"
   },
   {
    "duration": 3497,
    "start_time": "2023-04-05T18:32:25.375Z"
   },
   {
    "duration": 1169,
    "start_time": "2023-04-05T18:32:28.874Z"
   },
   {
    "duration": 53,
    "start_time": "2023-04-05T18:32:30.044Z"
   },
   {
    "duration": 11,
    "start_time": "2023-04-05T18:32:30.099Z"
   },
   {
    "duration": 28,
    "start_time": "2023-04-05T18:32:30.111Z"
   },
   {
    "duration": 52,
    "start_time": "2023-04-05T18:32:30.141Z"
   },
   {
    "duration": 50,
    "start_time": "2023-04-05T18:32:30.194Z"
   },
   {
    "duration": 61,
    "start_time": "2023-04-05T18:32:30.246Z"
   },
   {
    "duration": 109,
    "start_time": "2023-04-05T18:32:32.260Z"
   },
   {
    "duration": 11,
    "start_time": "2023-04-05T18:33:07.795Z"
   },
   {
    "duration": 10,
    "start_time": "2023-04-05T18:33:12.931Z"
   },
   {
    "duration": 11,
    "start_time": "2023-04-05T18:33:41.331Z"
   },
   {
    "duration": 9,
    "start_time": "2023-04-05T18:34:07.953Z"
   },
   {
    "duration": 10,
    "start_time": "2023-04-05T18:36:03.154Z"
   },
   {
    "duration": 3,
    "start_time": "2023-04-05T18:37:26.025Z"
   },
   {
    "duration": 100,
    "start_time": "2023-04-05T18:37:31.451Z"
   },
   {
    "duration": 3724,
    "start_time": "2023-04-05T18:37:41.063Z"
   },
   {
    "duration": 1190,
    "start_time": "2023-04-05T18:37:44.812Z"
   },
   {
    "duration": 50,
    "start_time": "2023-04-05T18:37:46.726Z"
   },
   {
    "duration": 12,
    "start_time": "2023-04-05T18:37:47.206Z"
   },
   {
    "duration": 5,
    "start_time": "2023-04-05T18:37:47.819Z"
   },
   {
    "duration": 12,
    "start_time": "2023-04-05T18:37:48.590Z"
   },
   {
    "duration": 16,
    "start_time": "2023-04-05T18:37:51.135Z"
   },
   {
    "duration": 10,
    "start_time": "2023-04-05T18:37:52.679Z"
   },
   {
    "duration": 111,
    "start_time": "2023-04-05T18:37:54.950Z"
   },
   {
    "duration": 11,
    "start_time": "2023-04-05T18:40:27.323Z"
   },
   {
    "duration": 11,
    "start_time": "2023-04-05T18:41:21.865Z"
   },
   {
    "duration": 10,
    "start_time": "2023-04-05T18:42:46.662Z"
   },
   {
    "duration": 11,
    "start_time": "2023-04-05T18:44:01.005Z"
   },
   {
    "duration": 23,
    "start_time": "2023-04-05T18:45:26.899Z"
   },
   {
    "duration": 23,
    "start_time": "2023-04-05T18:45:38.536Z"
   },
   {
    "duration": 14,
    "start_time": "2023-04-05T18:46:33.401Z"
   },
   {
    "duration": 23,
    "start_time": "2023-04-05T18:46:49.863Z"
   },
   {
    "duration": 16,
    "start_time": "2023-04-05T18:47:14.685Z"
   },
   {
    "duration": 15,
    "start_time": "2023-04-05T18:47:24.417Z"
   },
   {
    "duration": 4058,
    "start_time": "2023-04-05T18:47:37.662Z"
   },
   {
    "duration": 1190,
    "start_time": "2023-04-05T18:47:41.722Z"
   },
   {
    "duration": 50,
    "start_time": "2023-04-05T18:47:42.914Z"
   },
   {
    "duration": 16,
    "start_time": "2023-04-05T18:47:42.967Z"
   },
   {
    "duration": 4,
    "start_time": "2023-04-05T18:47:42.984Z"
   },
   {
    "duration": 12,
    "start_time": "2023-04-05T18:47:42.989Z"
   },
   {
    "duration": 21,
    "start_time": "2023-04-05T18:47:43.002Z"
   },
   {
    "duration": 59,
    "start_time": "2023-04-05T18:47:43.024Z"
   },
   {
    "duration": 23,
    "start_time": "2023-04-05T18:47:45.095Z"
   },
   {
    "duration": 14,
    "start_time": "2023-04-05T18:47:46.992Z"
   },
   {
    "duration": 15,
    "start_time": "2023-04-05T18:48:12.419Z"
   },
   {
    "duration": 16,
    "start_time": "2023-04-05T18:48:45.817Z"
   },
   {
    "duration": 11,
    "start_time": "2023-04-05T18:48:54.187Z"
   },
   {
    "duration": 31,
    "start_time": "2023-04-05T18:49:54.812Z"
   },
   {
    "duration": 49,
    "start_time": "2023-04-05T18:50:39.556Z"
   },
   {
    "duration": 123,
    "start_time": "2023-04-05T18:50:46.476Z"
   },
   {
    "duration": 109,
    "start_time": "2023-04-05T18:51:10.347Z"
   },
   {
    "duration": 1328,
    "start_time": "2023-04-05T18:51:22.554Z"
   },
   {
    "duration": 144086,
    "start_time": "2023-04-05T18:56:56.655Z"
   },
   {
    "duration": 25646,
    "start_time": "2023-04-05T19:00:58.929Z"
   },
   {
    "duration": 1685,
    "start_time": "2023-04-05T19:03:41.270Z"
   },
   {
    "duration": 145401,
    "start_time": "2023-04-05T19:04:06.517Z"
   },
   {
    "duration": 21237,
    "start_time": "2023-04-05T19:07:52.233Z"
   },
   {
    "duration": 4,
    "start_time": "2023-04-05T19:08:23.145Z"
   },
   {
    "duration": 94,
    "start_time": "2023-04-05T19:08:26.665Z"
   },
   {
    "duration": 86,
    "start_time": "2023-04-05T19:08:53.177Z"
   },
   {
    "duration": 12,
    "start_time": "2023-04-05T19:09:10.088Z"
   },
   {
    "duration": 113,
    "start_time": "2023-04-05T19:09:40.608Z"
   },
   {
    "duration": 108,
    "start_time": "2023-04-05T19:09:48.063Z"
   },
   {
    "duration": 109,
    "start_time": "2023-04-05T19:10:07.247Z"
   },
   {
    "duration": 130,
    "start_time": "2023-04-05T19:10:18.219Z"
   },
   {
    "duration": 125,
    "start_time": "2023-04-05T19:10:22.529Z"
   },
   {
    "duration": 143,
    "start_time": "2023-04-05T19:10:26.527Z"
   },
   {
    "duration": 121,
    "start_time": "2023-04-05T19:10:39.982Z"
   },
   {
    "duration": 116,
    "start_time": "2023-04-05T19:11:16.766Z"
   },
   {
    "duration": 135,
    "start_time": "2023-04-05T19:11:40.454Z"
   },
   {
    "duration": 194,
    "start_time": "2023-04-05T19:12:00.846Z"
   },
   {
    "duration": 107,
    "start_time": "2023-04-05T19:12:16.893Z"
   },
   {
    "duration": 95,
    "start_time": "2023-04-05T19:13:15.785Z"
   },
   {
    "duration": 1872,
    "start_time": "2023-04-05T19:13:19.333Z"
   },
   {
    "duration": 189956,
    "start_time": "2023-04-05T19:15:22.428Z"
   },
   {
    "duration": 17669,
    "start_time": "2023-04-05T19:19:47.103Z"
   },
   {
    "duration": 4,
    "start_time": "2023-04-05T19:23:41.949Z"
   },
   {
    "duration": 102,
    "start_time": "2023-04-05T19:23:45.028Z"
   },
   {
    "duration": 104,
    "start_time": "2023-04-05T19:24:18.100Z"
   },
   {
    "duration": 11,
    "start_time": "2023-04-05T19:25:03.643Z"
   },
   {
    "duration": 736,
    "start_time": "2023-04-05T19:25:09.923Z"
   },
   {
    "duration": 89558,
    "start_time": "2023-04-05T19:25:58.306Z"
   },
   {
    "duration": 9504,
    "start_time": "2023-04-05T19:28:55.068Z"
   },
   {
    "duration": 342,
    "start_time": "2023-04-05T19:38:27.519Z"
   },
   {
    "duration": 365,
    "start_time": "2023-04-05T19:38:47.583Z"
   },
   {
    "duration": 456,
    "start_time": "2023-04-05T19:48:01.048Z"
   },
   {
    "duration": 398,
    "start_time": "2023-04-05T19:48:08.367Z"
   },
   {
    "duration": 3,
    "start_time": "2023-04-05T19:54:58.274Z"
   },
   {
    "duration": 338,
    "start_time": "2023-04-05T19:57:39.896Z"
   },
   {
    "duration": 3,
    "start_time": "2023-04-05T19:57:52.846Z"
   },
   {
    "duration": 338,
    "start_time": "2023-04-05T19:57:55.749Z"
   },
   {
    "duration": 5,
    "start_time": "2023-04-05T19:58:02.087Z"
   },
   {
    "duration": 6,
    "start_time": "2023-04-05T20:01:38.315Z"
   },
   {
    "duration": 3747,
    "start_time": "2023-04-05T20:06:51.240Z"
   },
   {
    "duration": 1117,
    "start_time": "2023-04-05T20:06:54.989Z"
   },
   {
    "duration": 51,
    "start_time": "2023-04-05T20:06:56.108Z"
   },
   {
    "duration": 10,
    "start_time": "2023-04-05T20:06:56.160Z"
   },
   {
    "duration": 4,
    "start_time": "2023-04-05T20:06:56.171Z"
   },
   {
    "duration": 10,
    "start_time": "2023-04-05T20:06:56.176Z"
   },
   {
    "duration": 12,
    "start_time": "2023-04-05T20:06:56.188Z"
   },
   {
    "duration": 21,
    "start_time": "2023-04-05T20:06:56.202Z"
   },
   {
    "duration": 18,
    "start_time": "2023-04-05T20:06:56.224Z"
   },
   {
    "duration": 26,
    "start_time": "2023-04-05T20:06:56.268Z"
   },
   {
    "duration": 45,
    "start_time": "2023-04-05T20:06:56.296Z"
   },
   {
    "duration": 147,
    "start_time": "2023-04-05T20:06:56.342Z"
   },
   {
    "duration": 1516,
    "start_time": "2023-04-05T20:06:56.490Z"
   },
   {
    "duration": 138175,
    "start_time": "2023-04-05T20:06:58.008Z"
   },
   {
    "duration": 12891,
    "start_time": "2023-04-05T20:09:16.184Z"
   },
   {
    "duration": 1651,
    "start_time": "2023-04-05T20:09:29.077Z"
   },
   {
    "duration": 143035,
    "start_time": "2023-04-05T20:09:30.730Z"
   },
   {
    "duration": 14904,
    "start_time": "2023-04-05T20:11:53.768Z"
   },
   {
    "duration": 91,
    "start_time": "2023-04-05T20:12:08.678Z"
   },
   {
    "duration": 138,
    "start_time": "2023-04-05T20:12:08.771Z"
   },
   {
    "duration": 2084,
    "start_time": "2023-04-05T20:12:08.911Z"
   },
   {
    "duration": 188598,
    "start_time": "2023-04-05T20:12:10.997Z"
   },
   {
    "duration": 18375,
    "start_time": "2023-04-05T20:15:19.597Z"
   },
   {
    "duration": 95,
    "start_time": "2023-04-05T20:15:37.974Z"
   },
   {
    "duration": 181,
    "start_time": "2023-04-05T20:15:38.072Z"
   },
   {
    "duration": 759,
    "start_time": "2023-04-05T20:15:38.268Z"
   },
   {
    "duration": 90322,
    "start_time": "2023-04-05T20:15:39.029Z"
   },
   {
    "duration": 10019,
    "start_time": "2023-04-05T20:17:09.354Z"
   },
   {
    "duration": 426,
    "start_time": "2023-04-05T20:17:19.374Z"
   },
   {
    "duration": 4,
    "start_time": "2023-04-05T20:17:19.802Z"
   }
  ],
  "kernelspec": {
   "display_name": "Python 3 (ipykernel)",
   "language": "python",
   "name": "python3"
  },
  "language_info": {
   "codemirror_mode": {
    "name": "ipython",
    "version": 3
   },
   "file_extension": ".py",
   "mimetype": "text/x-python",
   "name": "python",
   "nbconvert_exporter": "python",
   "pygments_lexer": "ipython3",
   "version": "3.9.5"
  },
  "toc": {
   "base_numbering": 1,
   "nav_menu": {},
   "number_sections": true,
   "sideBar": true,
   "skip_h1_title": true,
   "title_cell": "Содержание",
   "title_sidebar": "Contents",
   "toc_cell": true,
   "toc_position": {},
   "toc_section_display": true,
   "toc_window_display": true
  }
 },
 "nbformat": 4,
 "nbformat_minor": 2
}
